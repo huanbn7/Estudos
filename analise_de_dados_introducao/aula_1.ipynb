{
 "cells": [
  {
   "cell_type": "markdown",
   "id": "ec57cb2c",
   "metadata": {
    "heading_collapsed": true
   },
   "source": [
    "# 💠 O que faz um analista de dados?"
   ]
  },
  {
   "cell_type": "markdown",
   "id": "a131b9ef",
   "metadata": {
    "hidden": true
   },
   "source": [
    "Em suma, um analista de dados traduz dados e numeros em linguagem simples, para que as organizações possam tomar decisões, os analistas de dados possuem as segiuntes responsabilidades: \n",
    "\n",
    "- especionam e limpam os dados para obter insigths.\n",
    "- identificar correlações, encontrar padrões e aplicar métodos estatísticos para analise e mineração de dados.\n",
    "- visualizar dados para interpretar e apresentar os resultados da analise de dados."
   ]
  },
  {
   "cell_type": "markdown",
   "id": "c50804a1",
   "metadata": {
    "hidden": true
   },
   "source": [
    "O analistas são pessoas que respondem perguntas como:\n",
    "\n",
    "- As experiências de pesquisa dos usuários geralmente são boas ou ruins com a funcionalidade de pesquisa em nosso site?\n",
    "- Qual é a percepção popular das pessoas sobre nossas iniciativas de rebranding?\n",
    "- Ou existe uma correlação entre as vendas de um produto e outro?"
   ]
  },
  {
   "cell_type": "markdown",
   "id": "5520a7de",
   "metadata": {
    "hidden": true
   },
   "source": [
    "Os analistas de dados precisam ter:\n",
    "- bom conhecimento de planilhas, escrever queries (consultas) e usar ferramentas estatísticas para criar gráficos e painéis.\n",
    "- habilidades de programação.\n",
    "- fortes habilidades analíticas e narrativas."
   ]
  },
  {
   "cell_type": "markdown",
   "id": "ea51b511",
   "metadata": {
    "heading_collapsed": true
   },
   "source": [
    "# 💠 Definindo análise de dados"
   ]
  },
  {
   "cell_type": "markdown",
   "id": "71aa0e06",
   "metadata": {
    "hidden": true
   },
   "source": [
    "Análise de dados é o processo de: \n",
    "- coleta, limpeza e análise dos dados\n",
    "- interpretação de resultados \n",
    "- relatar as descobertas"
   ]
  },
  {
   "cell_type": "markdown",
   "id": "4f403891",
   "metadata": {
    "hidden": true
   },
   "source": [
    "Com a análise de dados, encontramos padrões dentro dos dados e correlações entre diferentes pontos de dados. E é através desses padrões e correlações que os insigths são gerados, e conslusões são tiradas. A análise de dados ajuda as empresas a:\n",
    "\n",
    "- entender seu desempenho passado \n",
    "- saber qual é a melhor decisão a ser tomada para ações futuras\n",
    "- validar um curso de ação antes de se comprometer com ele\n",
    "- economizar tempo e recursos valiosos e também garantir maior sucesso nas suas ações"
   ]
  },
  {
   "cell_type": "markdown",
   "id": "535feb8e",
   "metadata": {
    "heading_collapsed": true,
    "hidden": true
   },
   "source": [
    "## ✴️ Tipos de analise de dados"
   ]
  },
  {
   "cell_type": "markdown",
   "id": "9cc8a5d9",
   "metadata": {
    "hidden": true
   },
   "source": [
    "Vamos explorar quatro tipos primario de analise de dados, cada um com o objetivo e lugar diferente no processo de analise de dados."
   ]
  },
  {
   "cell_type": "markdown",
   "id": "cd6a7550",
   "metadata": {
    "heading_collapsed": true,
    "hidden": true
   },
   "source": [
    "### 🌾 Análise descritiva"
   ]
  },
  {
   "cell_type": "markdown",
   "id": "bc930d8f",
   "metadata": {
    "hidden": true
   },
   "source": [
    "A análise descritiva ajuda a responder à pergunta, **o que aconteceu em um determinado período de tempo?** Resumindo os dados anteriores e apresentando as descobertas às partes interessadas. Ele ajuda a fornecer informações essenciais sobre eventos passados. Por exemplo, acompanhar o desempenho passado com base nos principais indicadores de desempenho da organização ou na análise do fluxo de caixa."
   ]
  },
  {
   "cell_type": "markdown",
   "id": "fb193bcc",
   "metadata": {
    "heading_collapsed": true,
    "hidden": true
   },
   "source": [
    "### 🌾 Análise diagnóstica"
   ]
  },
  {
   "cell_type": "markdown",
   "id": "b58198bd",
   "metadata": {
    "hidden": true
   },
   "source": [
    "A análise de diagnóstico ajuda a responder à pergunta, **por que isso aconteceu?** Leva os insights da análise descritiva para ir mais fundo para encontrar a causa do resultado. Por exemplo, uma mudança repentina no tráfego para um site sem uma causa óbvia ou um aumento nas vendas em uma região onde não houve mudança no marketing."
   ]
  },
  {
   "cell_type": "markdown",
   "id": "70626102",
   "metadata": {
    "heading_collapsed": true,
    "hidden": true
   },
   "source": [
    "### 🌾 Análise preditiva"
   ]
  },
  {
   "cell_type": "markdown",
   "id": "620c0513",
   "metadata": {
    "hidden": true
   },
   "source": [
    "A análise preditiva ajuda a responder à pergunta, **o que acontecerá a seguir?** Dados históricos e tendências são usados para prever resultados futuros. Algumas das áreas em que as empresas aplicam a análise preditiva são avaliação de risco e previsões de vendas. É importante observar que o objetivo da análise preditiva não é. para dizer o que vai acontecer no futuro, seu objetivo é prever o que pode acontecer no futuro. Todas as previsões são probabilísticas por natureza"
   ]
  },
  {
   "cell_type": "markdown",
   "id": "126d0fc8",
   "metadata": {
    "heading_collapsed": true,
    "hidden": true
   },
   "source": [
    "### 🌾 Análise prescritiva"
   ]
  },
  {
   "cell_type": "markdown",
   "id": "8c586bce",
   "metadata": {
    "hidden": true
   },
   "source": [
    "A análise prescritiva ajuda a responder à pergunta, **o que deve ser feito a respeito?** Ao analisar decisões e eventos passados e a probabilidade de resultados diferentes. É estimado qual curso de ação será executado. Carros autônomos são um bom exemplo de análise prescritiva. Eles analisam o ambiente para tomar decisões sobre velocidade, mudança de faixa, qual rota seguir etc. Ou as companhias aéreas ajustam automaticamente os preços das passagens com base na demanda do cliente, preços do gás, clima ou tráfego nas rotas de conexão."
   ]
  },
  {
   "cell_type": "markdown",
   "id": "4165ef8f",
   "metadata": {
    "hidden": true
   },
   "source": [
    " "
   ]
  },
  {
   "cell_type": "markdown",
   "id": "3fb7ce33",
   "metadata": {
    "heading_collapsed": true,
    "hidden": true
   },
   "source": [
    "## ✴️ Etapas principais para analisar os dados"
   ]
  },
  {
   "cell_type": "markdown",
   "id": "a60ca982",
   "metadata": {
    "hidden": true
   },
   "source": [
    "Agora vamos analisar uma das etapas principais em qualquer processo da analise de dados."
   ]
  },
  {
   "cell_type": "markdown",
   "id": "a52b0123",
   "metadata": {
    "heading_collapsed": true,
    "hidden": true
   },
   "source": [
    "### 🌾 Compreende o problema e o resultado desejado"
   ]
  },
  {
   "cell_type": "markdown",
   "id": "bec15d11",
   "metadata": {
    "hidden": true
   },
   "source": [
    "A análise de dados começa com a compreensão do problema que precisa ser resolvido e o resultado desejado que precisa ser alcançado. Onde você está e onde deseja estar precisa ser claramente definido antes que o processo de análise possa começar."
   ]
  },
  {
   "cell_type": "markdown",
   "id": "57d960bc",
   "metadata": {
    "heading_collapsed": true,
    "hidden": true
   },
   "source": [
    "### 🌾 Definindo métricas claras"
   ]
  },
  {
   "cell_type": "markdown",
   "id": "c85a87b6",
   "metadata": {
    "hidden": true
   },
   "source": [
    "Esta etapa do processo inclui decidir o que será medido e como será medido. Por exemplo, número do produto X vendido em uma região, idade dos clientes que compraram o produto X, etc."
   ]
  },
  {
   "cell_type": "markdown",
   "id": "a0a3a9bd",
   "metadata": {
    "heading_collapsed": true,
    "hidden": true
   },
   "source": [
    "### 🌾 Coletando dados"
   ]
  },
  {
   "cell_type": "markdown",
   "id": "793ce54f",
   "metadata": {
    "hidden": true
   },
   "source": [
    "Depois de saber o que vai você medir e como vai medir, você identifica os dados necessários, as fontes de dados das quais precisa extrair esses dados e as melhores ferramentas para o trabalho."
   ]
  },
  {
   "cell_type": "markdown",
   "id": "a6add35b",
   "metadata": {
    "heading_collapsed": true,
    "hidden": true
   },
   "source": [
    "### 🌾 Limpando os dados"
   ]
  },
  {
   "cell_type": "markdown",
   "id": "23fa390b",
   "metadata": {
    "hidden": true
   },
   "source": [
    "Após coletar os dados, a próxima etapa é corrigir problemas de qualidade nos dados que possam afetar a precisão da análise. Esta é uma etapa crítica porque a precisão da análise só pode ser garantida se os dados estiverem limpos. Você limpará os dados em busca de valores ausentes ou incompletos e outliers. Por exemplo, os dados demográficos de um cliente em que o campo de idade tem um valor de 150 são valores discrepantes. Você também padronizará os dados provenientes de várias fontes."
   ]
  },
  {
   "cell_type": "markdown",
   "id": "6516a72f",
   "metadata": {
    "heading_collapsed": true,
    "hidden": true
   },
   "source": [
    "### 🌾 Analise e mineração de dados"
   ]
  },
  {
   "cell_type": "markdown",
   "id": "d7cfe2ef",
   "metadata": {
    "hidden": true
   },
   "source": [
    "Depois que os dados estiverem limpos, você extrairá e analisará os dados de diferentes perspectivas. Você pode precisar manipular seus dados de várias maneiras diferentes para entender as tendências, identificar correlações e encontrar padrões e variações."
   ]
  },
  {
   "cell_type": "markdown",
   "id": "06f3fe7f",
   "metadata": {
    "heading_collapsed": true,
    "hidden": true
   },
   "source": [
    "### 🌾 Interpretar resultados"
   ]
  },
  {
   "cell_type": "markdown",
   "id": "d9f6221d",
   "metadata": {
    "hidden": true
   },
   "source": [
    "Depois de analisar seus dados e possivelmente conduzir pesquisas adicionais, que podem ser um loop iterativo, é hora de interpretar seus resultados. Ao interpretar seus resultados, você precisa avaliar se sua análise é defensável contra objeções e se há alguma limitação ou circunstância sob a qual sua análise pode não ser verdadeira."
   ]
  },
  {
   "cell_type": "markdown",
   "id": "68d707c8",
   "metadata": {
    "heading_collapsed": true,
    "hidden": true
   },
   "source": [
    "### 🌾 Apresentando suas descobertas"
   ]
  },
  {
   "cell_type": "markdown",
   "id": "1c436b20",
   "metadata": {
    "hidden": true
   },
   "source": [
    "Em última análise, o objetivo de qualquer análise é impactar a tomada de decisões. A capacidade de comunicar e apresentar suas descobertas de maneira clara e impactante é uma parte tão importante do processo de análise de dados quanto a própria análise. Relatórios, DashBoards (painéis), gráficos, mapas, estudos de caso são apenas algumas das maneiras pelas quais você pode apresentar seus dados."
   ]
  },
  {
   "cell_type": "markdown",
   "id": "af170a25",
   "metadata": {
    "hidden": true
   },
   "source": [
    " "
   ]
  },
  {
   "cell_type": "markdown",
   "id": "e2c0e57d",
   "metadata": {
    "heading_collapsed": true
   },
   "source": [
    "# 💠 O papel do analista de dados?"
   ]
  },
  {
   "cell_type": "markdown",
   "id": "2014795a",
   "metadata": {
    "hidden": true
   },
   "source": [
    "A função de um Analista de Dados abrange:\n",
    "\n",
    "- Adquirir dados que melhor atendam ao caso de uso.\n",
    "- Preparar e analisar dados para entender o que eles representam.\n",
    "- Interpretar e comunicar efetivamente a mensagem às partes interessadas que precisam agir de acordo com as descobertas.\n",
    "\n",
    "Garantir que o processo seja documentado para referência futura e repetibilidade. Para desempenhar esse papel com sucesso, os analistas de dados precisam de uma combinação de habilidades técnicas, funcionais e interpessoais.  \n",
    "\n",
    "- As habilidades técnicas incluem níveis variados de proficiência no uso de planilhas, ferramentas estatísticas, ferramentas de visualização, linguagens de programação e consulta e a capacidade de trabalhar com diferentes tipos de repositórios de dados e plataformas de big data.\n",
    "\n",
    "- Uma compreensão de Estatística, técnicas analíticas, resolução de problemas, a capacidade de investigar uma situação de múltiplas perspectivas, visualização de dados e habilidades de gerenciamento de projetos – todas as quais estão sob as Habilidades Funcionais que um Analista de Dados precisa para desempenhar um papel eficaz.\n",
    "\n",
    "- As Soft Skills incluem a capacidade de trabalhar de forma colaborativa, comunicar-se de forma eficaz, contar uma história convincente com dados e obter apoio e adesão das partes interessadas. Curiosidade para explorar diferentes caminhos e intuição que ajuda a dar uma noção do futuro com base em experiências passadas também são habilidades essenciais para ser um bom Analista de Dados"
   ]
  },
  {
   "cell_type": "markdown",
   "id": "d2c842a1",
   "metadata": {
    "hidden": true
   },
   "source": [
    " "
   ]
  },
  {
   "cell_type": "markdown",
   "id": "c3024af7",
   "metadata": {
    "heading_collapsed": true
   },
   "source": [
    "# 💠 Tipos de dados"
   ]
  },
  {
   "cell_type": "markdown",
   "id": "ecf3be70",
   "metadata": {
    "hidden": true
   },
   "source": []
  },
  {
   "cell_type": "markdown",
   "id": "5561055c",
   "metadata": {
    "hidden": true
   },
   "source": []
  },
  {
   "cell_type": "markdown",
   "id": "73fbe5ec",
   "metadata": {
    "hidden": true
   },
   "source": []
  },
  {
   "cell_type": "markdown",
   "id": "c7510556",
   "metadata": {
    "hidden": true
   },
   "source": []
  }
 ],
 "metadata": {
  "kernelspec": {
   "display_name": "Python 3 (ipykernel)",
   "language": "python",
   "name": "python3"
  },
  "language_info": {
   "codemirror_mode": {
    "name": "ipython",
    "version": 3
   },
   "file_extension": ".py",
   "mimetype": "text/x-python",
   "name": "python",
   "nbconvert_exporter": "python",
   "pygments_lexer": "ipython3",
   "version": "3.11.2"
  }
 },
 "nbformat": 4,
 "nbformat_minor": 5
}
