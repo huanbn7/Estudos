{
 "cells": [
  {
   "cell_type": "markdown",
   "id": "ee057c6c",
   "metadata": {},
   "source": [
    "- Dependo da cardilalidade de um relacionamento entre tabelas, qual tabela recebe a chave PRIMARIA da outra tabela?"
   ]
  },
  {
   "cell_type": "markdown",
   "id": "92f80fff",
   "metadata": {
    "heading_collapsed": true
   },
   "source": [
    "# 💠 O que é uma entidade?"
   ]
  },
  {
   "cell_type": "markdown",
   "id": "0c767320",
   "metadata": {
    "hidden": true
   },
   "source": [
    "Em bancos de dados, uma entidade é uma representação abstrata de um objeto ou conceito do mundo real que é armazenado em uma tabela. Cada tabela em um banco de dados representa uma entidade específica e contém informações sobre essa entidade.\n",
    "\n",
    "Por exemplo, se você tiver um sistema de gerenciamento de biblioteca, pode ter uma tabela de \"Livros\" que representa a entidade \"Livro\". Essa tabela pode incluir colunas como \"Título\", \"Autor\", \"Editora\" e \"Ano de Publicação\", cada uma delas contendo informações sobre os livros que estão armazenados na biblioteca.\n",
    "\n",
    "As entidades em um banco de dados são importantes porque permitem que as informações sejam organizadas de maneira lógica e estruturada, facilitando a busca, a filtragem e a recuperação de informações relevantes. Elas também podem ser relacionadas umas com as outras, criando um modelo de dados que representa as relações entre diferentes objetos ou conceitos no mundo real."
   ]
  },
  {
   "cell_type": "markdown",
   "id": "77094666",
   "metadata": {
    "hidden": true
   },
   "source": [
    " "
   ]
  },
  {
   "cell_type": "markdown",
   "id": "c96c0116",
   "metadata": {
    "heading_collapsed": true
   },
   "source": [
    "# 💠 O que são atributos?"
   ]
  },
  {
   "cell_type": "markdown",
   "id": "92b6c3ad",
   "metadata": {
    "hidden": true
   },
   "source": [
    "Atributos, em bancos de dados, são as características ou propriedades que descrevem uma entidade. Cada entidade tem um conjunto de atributos que definem suas características e são usados para representar a entidade na tabela de banco de dados. Por exemplo, em uma tabela de clientes, os atributos podem ser nome, endereço, telefone e e-mail. Cada atributo tem um tipo de dados que indica o tipo de informação que ele armazena, como texto, número ou data.\n",
    "\n",
    "Os atributos podem ser classificados como simples ou compostos. Atributos simples são aqueles que armazenam apenas um valor, como o nome de um cliente. Já atributos compostos são aqueles que possuem sub-atributos, como o endereço, que pode ter atributos como rua, número, bairro, cidade e estado.\n",
    "\n",
    "Os atributos também podem ter restrições, como chaves primárias, chaves estrangeiras, restrições de integridade, restrições de valores mínimos e máximos, entre outras. Essas restrições ajudam a garantir a consistência e a integridade dos dados armazenados no banco de dados."
   ]
  },
  {
   "cell_type": "markdown",
   "id": "8bf73359",
   "metadata": {
    "hidden": true
   },
   "source": [
    " "
   ]
  },
  {
   "cell_type": "markdown",
   "id": "824924e4",
   "metadata": {
    "heading_collapsed": true
   },
   "source": [
    "# 💠 O que é cardinalidade?\n"
   ]
  },
  {
   "cell_type": "markdown",
   "id": "044281f5",
   "metadata": {
    "hidden": true
   },
   "source": [
    "A cardinalidade (**tipos de relacionamento**) se refere à relação entre duas entidades, indicando quantos registros de uma entidade podem estar associados a quantos registros da outra entidade. É basicamente uma medida de quantidade ou multiplicidade.\n",
    "\n",
    "A cardinalidade é expressa em termos de valores mínimos e máximos que podem ocorrer em uma relação entre as entidades. Por exemplo, pode haver uma relação em que cada registro de uma entidade esteja associado a um único registro de outra entidade (1:1), ou pode haver uma relação em que um registro de uma entidade pode estar associado a muitos registros de outra entidade (1:N). Há também a possibilidade de uma relação em que muitos registros de uma entidade possam estar associados a muitos registros de outra entidade (N:N).\n",
    "\n",
    "O conhecimento da cardinalidade entre as entidades é importante para o projeto do banco de dados e pode afetar o desempenho das consultas e operações realizadas no banco de dados."
   ]
  },
  {
   "cell_type": "markdown",
   "id": "2ae5a95a",
   "metadata": {
    "hidden": true
   },
   "source": [
    " "
   ]
  },
  {
   "cell_type": "markdown",
   "id": "f86328a4",
   "metadata": {
    "heading_collapsed": true
   },
   "source": [
    "# 💠 Diagrama de entidade relacionamento"
   ]
  },
  {
   "cell_type": "markdown",
   "id": "571145ff",
   "metadata": {
    "hidden": true
   },
   "source": [
    "Um diagrama de entidade-relacionamento (DER) é uma ferramenta de modelagem de dados que representa as entidades, os atributos e os relacionamentos entre eles. Ele é usado para descrever as entidades do mundo real e como elas se relacionam entre si. Um DER é composto por entidades (tabelas), relacionamentos (conexões entre tabelas) e atributos (colunas). O diagrama ajuda a visualizar e entender a estrutura de um banco de dados, mostrando como as tabelas se relacionam e como elas são organizadas. Ele é usado para projetar um banco de dados e é uma parte fundamental do processo de desenvolvimento de aplicativos que usam banco de dados."
   ]
  },
  {
   "cell_type": "markdown",
   "id": "96aed326",
   "metadata": {
    "hidden": true
   },
   "source": [
    " "
   ]
  }
 ],
 "metadata": {
  "kernelspec": {
   "display_name": "Python 3 (ipykernel)",
   "language": "python",
   "name": "python3"
  },
  "language_info": {
   "codemirror_mode": {
    "name": "ipython",
    "version": 3
   },
   "file_extension": ".py",
   "mimetype": "text/x-python",
   "name": "python",
   "nbconvert_exporter": "python",
   "pygments_lexer": "ipython3",
   "version": "3.10.6"
  }
 },
 "nbformat": 4,
 "nbformat_minor": 5
}
