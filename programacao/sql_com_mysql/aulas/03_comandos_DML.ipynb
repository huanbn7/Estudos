{
 "cells": [
  {
   "cell_type": "markdown",
   "id": "527363ea",
   "metadata": {
    "heading_collapsed": true
   },
   "source": [
    "# 💠 Introdução"
   ]
  },
  {
   "cell_type": "markdown",
   "id": "4ac1e0bd",
   "metadata": {
    "hidden": true
   },
   "source": [
    "Os comandos DML (Data Manipulation Language) são utilizados para manipular dados em uma base de dados. Eles incluem: \n",
    "\n",
    "- INSERT\n",
    "- UPDATE\n",
    "- DELETE\n",
    "- TRUNCATE\n",
    "- SELECT\n",
    "- outros\n",
    "\n",
    "Esses comandos permitem ao usuário recuperar, adicionar, atualizar e excluir dados em uma tabela específica. Eles são utilizados para gerenciar os dados dentro das tabelas e não modificam a estrutura da tabela ou banco de dados."
   ]
  },
  {
   "cell_type": "markdown",
   "id": "c9c0c7c1",
   "metadata": {
    "hidden": true
   },
   "source": [
    " "
   ]
  },
  {
   "cell_type": "markdown",
   "id": "41cb33b1",
   "metadata": {
    "heading_collapsed": true
   },
   "source": [
    "# 💠 Insert into"
   ]
  },
  {
   "cell_type": "markdown",
   "id": "4f55cd22",
   "metadata": {
    "hidden": true
   },
   "source": [
    "O **INSERT INTO** é um comando utilizado para inserir novos dados em uma tabela existente. Ele é composto por dois elementos: a palavra-chave **INSERT INTO** seguida do nome da tabela onde os dados serão inseridos e, entre parênteses, a lista de colunas nas quais os dados serão inseridos."
   ]
  },
  {
   "cell_type": "code",
   "execution_count": null,
   "id": "443fcf1b",
   "metadata": {
    "hidden": true
   },
   "outputs": [],
   "source": [
    "INSERT INTO pessoas (idpessoa, nome, data_nascimento, sexo)  # Aqui está um exemplo do que o texto acima explicou"
   ]
  },
  {
   "cell_type": "markdown",
   "id": "d25cee01",
   "metadata": {
    "hidden": true
   },
   "source": [
    "Esse código está incompleto e por isso não funcionaria se você tentasse executar ele. Abaixo se encontram as cláusulas que completam esse código, fazendo assim, com que ele seja executável."
   ]
  },
  {
   "cell_type": "markdown",
   "id": "b465f6e0",
   "metadata": {
    "hidden": true
   },
   "source": [
    " "
   ]
  },
  {
   "cell_type": "markdown",
   "id": "6e7546f3",
   "metadata": {
    "heading_collapsed": true,
    "hidden": true
   },
   "source": [
    "## ✴️ Values"
   ]
  },
  {
   "cell_type": "markdown",
   "id": "faeafd70",
   "metadata": {
    "hidden": true
   },
   "source": [
    "A cláusula **VALUES** serve para indicar ao comando **INSERT INTO** quais valores devem ser adicionados nas colunas da tabela."
   ]
  },
  {
   "cell_type": "code",
   "execution_count": null,
   "id": "d0103fc1",
   "metadata": {
    "hidden": true
   },
   "outputs": [],
   "source": [
    "INSERT INTO pessoas (idpessoa, nome, data_nasscimento, sexo)  # Iserir na tabela pessoas e nas respectivas colunas\n",
    "VALUES (1, 'Natalia', '2004-01-10', 'F');                     # O conjunto valores a seguir"
   ]
  },
  {
   "cell_type": "markdown",
   "id": "b1f8fb05",
   "metadata": {
    "hidden": true
   },
   "source": [
    " ---"
   ]
  },
  {
   "cell_type": "markdown",
   "id": "b3f372c5",
   "metadata": {
    "hidden": true
   },
   "source": [
    "Também podemos inserir valores sem precisar especificar as colunas, contudo, os valores devem ser inseridos na mesma ordem que as colunas estão na tabela."
   ]
  },
  {
   "cell_type": "code",
   "execution_count": null,
   "id": "21b7711a",
   "metadata": {
    "hidden": true
   },
   "outputs": [],
   "source": [
    "INSERT INTO pessoas                          # Iserir na tabela pessoas\n",
    "VALUES (1, 'Natalia', '2004-01-10', 'F');    # O conjunto de valores a seguir"
   ]
  },
  {
   "cell_type": "markdown",
   "id": "750c49a7",
   "metadata": {
    "hidden": true
   },
   "source": [
    "---"
   ]
  },
  {
   "cell_type": "markdown",
   "id": "afc8ddd3",
   "metadata": {
    "hidden": true
   },
   "source": [
    "Existe também a possibilidade de inserirmos um registro (linha) na tabela, mas sem preencher todas as colunas. Para isso é obrigatorio que as colunas que serão preenchidas sejam especificadas."
   ]
  },
  {
   "cell_type": "code",
   "execution_count": null,
   "id": "4cc1c6bd",
   "metadata": {
    "hidden": true
   },
   "outputs": [],
   "source": [
    "INSERT INTO pessoas (nome, sexo)  # Inserir na tabelas pessoas e nas respectivas colunas\n",
    "VALUES ('Natalia', 'F');          # O conjunto de valores a seguir\n",
    "                                  # Dessa forma, as outras colunas serão preenchidas com valores nulos.\n",
    "                                  # Se essas colunas não puderem receber valores nulos o comando retorna um erro"
   ]
  },
  {
   "cell_type": "markdown",
   "id": "6352a638",
   "metadata": {
    "hidden": true
   },
   "source": [
    "--- "
   ]
  },
  {
   "cell_type": "markdown",
   "id": "ff7926ac",
   "metadata": {
    "hidden": true
   },
   "source": [
    "Seguindo as regras que aprendemos acima, vamos inserir mais de uma registro (linha) na tabela. O que muda nessa sintaxe é que agora devemos separa cada registro por virgula."
   ]
  },
  {
   "cell_type": "code",
   "execution_count": null,
   "id": "9d13ff8a",
   "metadata": {
    "hidden": true
   },
   "outputs": [],
   "source": [
    "INSERT INTO \n",
    "    pessoas (idpessoa, nome, data_nasscimento, sexo)   # Inserir na tabela pessoas \n",
    "VALUES                                                 # Os conjuntos de valores a seguir\n",
    "    (1, 'Natalia', '2004-01-10', 'F'),\n",
    "    (2, 'Huan', '2004-07-13', 'M'),\n",
    "    (3, 'Ana', '2026-01-13', 'F');"
   ]
  },
  {
   "cell_type": "markdown",
   "id": "d5598eda",
   "metadata": {
    "hidden": true
   },
   "source": [
    " "
   ]
  },
  {
   "cell_type": "markdown",
   "id": "94b8fbe8",
   "metadata": {
    "heading_collapsed": true
   },
   "source": [
    "# 💠 Update"
   ]
  },
  {
   "cell_type": "markdown",
   "id": "43aa5d12",
   "metadata": {
    "hidden": true
   },
   "source": [
    "O comando `UPDATE` é utilizado junto com as cláusulas `SET` e `WHERE` para atualizar o(s) valor(es) de um registro da tabela."
   ]
  },
  {
   "cell_type": "markdown",
   "id": "a072971d",
   "metadata": {
    "hidden": true
   },
   "source": [
    "- O comando `UPDATE` indica que algo será atualizado, no caso uma tabela.\n",
    "- A clásula `SET` serve para informar em qual(is) coluna(s) o(s) valor(es) que será(m) atualizado(s) se encontra(m) e qual será o valor novo.\n",
    "- A clásula `WHERE` indica, com base em uma coluna da tabela, qual linha será atualizada. Dependendo da coluna utilizada como referência uma ou mais linhas podem ser atualizadas."
   ]
  },
  {
   "cell_type": "code",
   "execution_count": null,
   "id": "cb996d00",
   "metadata": {
    "hidden": true
   },
   "outputs": [],
   "source": [
    "UPDATE pessoas        # A tabela pessoas será atualizada \n",
    "SET nome = 'Huan'     # O valor que será atualizado se encontra na coluna 'nome' e seu novo valor será 'Huan'\n",
    "WHERE idpessoa = 10;  # A linha onde esse valor se encontra possui na coluna idpessoa o valor 10"
   ]
  },
  {
   "cell_type": "markdown",
   "id": "5a6b6e83",
   "metadata": {
    "hidden": true
   },
   "source": [
    "Assim, esse código está buscando na tabela **pessoas** a linha onde a coluna **idcurso** é igual a **10** e atualizando o valor que se encontra na coluna **nome** para **Huan**. É importante lembrar que, se houver mais de uma linha que atenda a condição especificada, todas essas linhas serão atualizadas."
   ]
  },
  {
   "cell_type": "markdown",
   "id": "90120cd0",
   "metadata": {
    "hidden": true
   },
   "source": [
    "---  "
   ]
  },
  {
   "cell_type": "markdown",
   "id": "81affe80",
   "metadata": {
    "hidden": true
   },
   "source": [
    "É possivel alterar dois ou mais valores da tabela que se encontram em colunas diferentes. Para isso basta informar á cláusula `SET` quais são as colunas e quais são os valores novos.\n"
   ]
  },
  {
   "cell_type": "code",
   "execution_count": null,
   "id": "e58e5c38",
   "metadata": {
    "hidden": true
   },
   "outputs": [],
   "source": [
    "UPDATE pessoas\n",
    "SET nome = 'Huan', idade = 19\n",
    "WHERE idpessoa = '10';"
   ]
  },
  {
   "cell_type": "markdown",
   "id": "ec12e76b",
   "metadata": {
    "hidden": true
   },
   "source": [
    "Esse código segue o mesmo raciocinio do codigo anterior, no entanto, perceba que para atualizar mais de 2 valores ao mesmo tempo é necesário especificar o nome da coluna onde cada valor se encontra e o valor novo para cada campo. E devemos separar os campos pela virgula. Como a coluna idpessoa geralmente possui valores unicos só um registro terá seus campos autalizados."
   ]
  },
  {
   "cell_type": "markdown",
   "id": "309c6ae1",
   "metadata": {
    "hidden": true
   },
   "source": [
    " "
   ]
  },
  {
   "cell_type": "markdown",
   "id": "980df2e3",
   "metadata": {
    "heading_collapsed": true,
    "hidden": true
   },
   "source": [
    "## ✴️ Limit"
   ]
  },
  {
   "cell_type": "markdown",
   "id": "99fee9fa",
   "metadata": {
    "hidden": true
   },
   "source": [
    "A cláusula `LIMIT` serve para limitar o número de linhas que serão afetadas pelo comando `UPDATE`. Esse comando se faz muito necessário quando queremos atualizar mais de um registro na tebela com segurança."
   ]
  },
  {
   "cell_type": "code",
   "execution_count": null,
   "id": "1660b142",
   "metadata": {
    "hidden": true
   },
   "outputs": [],
   "source": [
    "UPDATE pessoas       # Atualizar a tabela pessoas\n",
    "SET titulo = 'velho' # Os valores que serão atualizados se encontram na coluna 'titulo' e novo valor será 'velho'\n",
    "WHERE idade > 60     # As linhas onde esses valores se encontram possui na coluna idade o valor > 60\n",
    "LIMIT 100;           # De todos os valores que se encontram nas posições descritas acima, atualize somente 100"
   ]
  },
  {
   "cell_type": "markdown",
   "id": "422c73aa",
   "metadata": {
    "hidden": true
   },
   "source": [
    "O comando para alterar mais de um valor segue a mesma lógica, no entanto, quando fazemos uma operação de grande escala existe a possibilidade de outras linhas, além da que nós especificamos, sejam alteradas e isso não é bom. Para contornar esse problema nós podemos utilizar o comando `LIMIT`. O comando `LIMIT` geralmente é usado em conjunto com a cláusula `SELECT` para limitar o número de linhas retornadas por uma consulta. No entanto, ele também pode ser usado com o comando `UPDATE` para limitar o número de registros que serão atualizados."
   ]
  },
  {
   "cell_type": "markdown",
   "id": "00b5e063",
   "metadata": {
    "hidden": true
   },
   "source": [
    " "
   ]
  },
  {
   "cell_type": "markdown",
   "id": "345cdca3",
   "metadata": {
    "heading_collapsed": true
   },
   "source": [
    "# 💠 Delete"
   ]
  },
  {
   "cell_type": "markdown",
   "id": "afbaa17c",
   "metadata": {
    "hidden": true
   },
   "source": [
    "O comando `DELETE` é utilizado junto com a cláusula `FROM` para deletar registros de uma tabela. O `DELETE` apaga e o `FROM` indica de qual tabela."
   ]
  },
  {
   "cell_type": "code",
   "execution_count": null,
   "id": "28aa2d99",
   "metadata": {
    "hidden": true
   },
   "outputs": [],
   "source": [
    "DELETE FROM pessoas  # Delete da tabela pessoas "
   ]
  },
  {
   "cell_type": "markdown",
   "id": "167b8837",
   "metadata": {
    "hidden": true
   },
   "source": [
    "Esse comando está incompleto, ele ainda precisa da cláusula `WHERE` para funcionar."
   ]
  },
  {
   "cell_type": "markdown",
   "id": "206f1873",
   "metadata": {
    "hidden": true
   },
   "source": [
    " "
   ]
  },
  {
   "cell_type": "markdown",
   "id": "4786a336",
   "metadata": {
    "heading_collapsed": true,
    "hidden": true
   },
   "source": [
    "## ✴️ Where"
   ]
  },
  {
   "cell_type": "markdown",
   "id": "4d616d61",
   "metadata": {
    "hidden": true
   },
   "source": [
    "a cláusula `WHERE` indica em qual(is) linha(s) o(s) resgistro(s) a ser(em) deletado(s) se encontra(m)."
   ]
  },
  {
   "cell_type": "code",
   "execution_count": null,
   "id": "86c32594",
   "metadata": {
    "hidden": true
   },
   "outputs": [],
   "source": [
    "DELETE FROM pessoas  # Deletar da tabela pessoas\n",
    "WHERE idpessoa = 1;  # O registro que possui o 'idpessoa = 1'"
   ]
  },
  {
   "cell_type": "markdown",
   "id": "6b4c1d85",
   "metadata": {
    "hidden": true
   },
   "source": [
    " "
   ]
  },
  {
   "cell_type": "markdown",
   "id": "17c138da",
   "metadata": {
    "hidden": true
   },
   "source": [
    "--- "
   ]
  },
  {
   "cell_type": "markdown",
   "id": "9d2c56df",
   "metadata": {
    "hidden": true
   },
   "source": [
    "Deletando mais de um registro. Para isso é necessário informar ao `WHERE` uma coluna que não tenha valores unicos e nem seja `PRIMARY KEY`."
   ]
  },
  {
   "cell_type": "code",
   "execution_count": null,
   "id": "9d78ee55",
   "metadata": {
    "hidden": true
   },
   "outputs": [],
   "source": [
    "DELETE FROM pessoas  # Deletar da tabela pessoas\n",
    "WHERE sexo = 'M';    # O registro que possui na coluna sexo o valor 'M'"
   ]
  },
  {
   "cell_type": "markdown",
   "id": "e7c74112",
   "metadata": {
    "hidden": true
   },
   "source": [
    "---"
   ]
  },
  {
   "cell_type": "markdown",
   "id": "e325e95a",
   "metadata": {
    "hidden": true
   },
   "source": [
    "Também podemo usar a cláusula **LIMIT**, para especificar quantas linhas devem ser excluidas."
   ]
  },
  {
   "cell_type": "code",
   "execution_count": null,
   "id": "57e06120",
   "metadata": {
    "hidden": true
   },
   "outputs": [],
   "source": [
    "DELETE FROM pessoas  # Deletar da tabela pessoas\n",
    "WHERE sexo = 'M'     # O registro que possui na coluna sexo o valor 'M'\n",
    "LIMIT 100;           # Deletar somente 100 registros"
   ]
  },
  {
   "cell_type": "markdown",
   "id": "5a7d36bb",
   "metadata": {
    "hidden": true
   },
   "source": [
    " "
   ]
  },
  {
   "cell_type": "markdown",
   "id": "0572ac0a",
   "metadata": {
    "heading_collapsed": true
   },
   "source": [
    "# 💠 Truncate"
   ]
  },
  {
   "cell_type": "markdown",
   "id": "b494bff4",
   "metadata": {
    "hidden": true
   },
   "source": [
    "O comando `TRUNCATE` serve para excluir todas as linhas da tabela."
   ]
  },
  {
   "cell_type": "code",
   "execution_count": null,
   "id": "4dc2d4ec",
   "metadata": {
    "hidden": true
   },
   "outputs": [],
   "source": [
    "TRUNCATE pessoas;"
   ]
  },
  {
   "cell_type": "markdown",
   "id": "bafc724b",
   "metadata": {
    "hidden": true
   },
   "source": [
    "Tome cuidado ao usar esse comando."
   ]
  },
  {
   "cell_type": "markdown",
   "id": "a2db8614",
   "metadata": {
    "hidden": true
   },
   "source": [
    " "
   ]
  },
  {
   "cell_type": "markdown",
   "id": "92f80fff",
   "metadata": {},
   "source": [
    "# 💠 Select"
   ]
  },
  {
   "cell_type": "markdown",
   "id": "0e3e1db0",
   "metadata": {},
   "source": [
    "O `SELECT` é um comando SQL que é usado para selecionar dados de uma tabela ou várias tabelas. Ele é geralmente usado para selecionar colunas específicas de uma tabela, filtrar linhas com base em condições específicas e ordenar o resultado."
   ]
  },
  {
   "cell_type": "code",
   "execution_count": null,
   "id": "c60eff02",
   "metadata": {},
   "outputs": [],
   "source": [
    "SELECT nome, idade  # Selecione as colunas 'nome' e 'idade'\n",
    "FROM pessoas;       # da tabela pessoas"
   ]
  },
  {
   "cell_type": "markdown",
   "id": "a47985a9",
   "metadata": {},
   "source": [
    " "
   ]
  },
  {
   "cell_type": "markdown",
   "id": "b79f0a24",
   "metadata": {
    "heading_collapsed": true
   },
   "source": [
    "## ✴️ From"
   ]
  },
  {
   "cell_type": "markdown",
   "id": "86d31753",
   "metadata": {
    "hidden": true
   },
   "source": [
    "A cláusula `FROM` é utilizada juntamente com o comando `SELECT` para informar de qual tabela as colunas serão selecionadas."
   ]
  },
  {
   "cell_type": "markdown",
   "id": "d365447e",
   "metadata": {
    "hidden": true
   },
   "source": [
    " "
   ]
  },
  {
   "cell_type": "markdown",
   "id": "ca4d5735",
   "metadata": {
    "heading_collapsed": true
   },
   "source": [
    "## ✴️ *"
   ]
  },
  {
   "cell_type": "markdown",
   "id": "b1ea4012",
   "metadata": {
    "hidden": true
   },
   "source": [
    "O `*` é um caractere curinga, ou operador curinga, que é usado em consultas SQL para selecionar todas as colunas de uma tabela. Ele é usado como um atalho para selecionar todas as colunas de uma tabela ao invés de digitar o nome de cada coluna individualmente."
   ]
  },
  {
   "cell_type": "code",
   "execution_count": null,
   "id": "066a4682",
   "metadata": {
    "hidden": true
   },
   "outputs": [],
   "source": [
    "SELECT *        # Selecione todas as colunas\n",
    "FROM pessoas;   # da tabela pessoas"
   ]
  },
  {
   "cell_type": "markdown",
   "id": "40bccb1b",
   "metadata": {
    "hidden": true
   },
   "source": [
    " "
   ]
  },
  {
   "cell_type": "markdown",
   "id": "22371751",
   "metadata": {
    "heading_collapsed": true
   },
   "source": [
    "## ✴️ Where"
   ]
  },
  {
   "cell_type": "markdown",
   "id": "d6422a03",
   "metadata": {
    "hidden": true
   },
   "source": [
    "O `WHERE` é uma cláusula utilizada com o comando `SELECT` para especificar quais registros (***linhas***) devem ser selecionados. Ele é usado para filtrar os resultados de uma consulta, de forma que somente os registros que atendem a determinadas condições são retornados."
   ]
  },
  {
   "cell_type": "code",
   "execution_count": null,
   "id": "b63eea3a",
   "metadata": {
    "hidden": true
   },
   "outputs": [],
   "source": [
    "SELECT *          # Selecione todas as colunas \n",
    "FROM pessoas      # da tabela pessoas\n",
    "WHERE idade < 20; # Somente os registros que possuirem na coluna/campo idade o valor menor que 20"
   ]
  },
  {
   "cell_type": "markdown",
   "id": "406458bc",
   "metadata": {
    "hidden": true
   },
   "source": [
    "  "
   ]
  },
  {
   "cell_type": "markdown",
   "id": "da2fa309",
   "metadata": {
    "heading_collapsed": true
   },
   "source": [
    "## ✴️ Operadores"
   ]
  },
  {
   "cell_type": "markdown",
   "id": "0137355d",
   "metadata": {
    "heading_collapsed": true,
    "hidden": true
   },
   "source": [
    "### 🌾 ="
   ]
  },
  {
   "cell_type": "markdown",
   "id": "2011856b",
   "metadata": {
    "hidden": true
   },
   "source": [
    "O operador de igualdade é usado para comparar se o valor de uma coluna ou expressão é igual a um determinado valor. Ele é representado pelo símbolo `=`. Quando utilizado na cláusula `WHERE` de um comando `SELECT`, ele permite selecionar somente as linhas que atendem a uma determinada condição."
   ]
  },
  {
   "cell_type": "code",
   "execution_count": null,
   "id": "5ab59970",
   "metadata": {
    "hidden": true
   },
   "outputs": [],
   "source": [
    "SELECT *          # Selecione dodas as colunas \n",
    "FROM pessoas      # da tabela pessoas \n",
    "WHERE idade = 10; # Somente os resgistros que possuem, no campo idade, o valor iagual a 10"
   ]
  },
  {
   "cell_type": "markdown",
   "id": "46eb280e",
   "metadata": {
    "hidden": true
   },
   "source": [
    " "
   ]
  },
  {
   "cell_type": "markdown",
   "id": "ca784865",
   "metadata": {
    "heading_collapsed": true,
    "hidden": true
   },
   "source": [
    "### 🌾 < e >"
   ]
  },
  {
   "cell_type": "markdown",
   "id": "d4bed37e",
   "metadata": {
    "hidden": true
   },
   "source": [
    "O operador `>` (maior que) compara se o valor de uma coluna ou expressão é maior que um determinado valor. Já o operador `<` (menor que) compara se o valor de uma coluna ou expressão é menor que um determinado valor."
   ]
  },
  {
   "cell_type": "code",
   "execution_count": null,
   "id": "70b938df",
   "metadata": {
    "hidden": true
   },
   "outputs": [],
   "source": [
    "SELECT *          # Selecione dodas as colunas \n",
    "FROM pessoas      # da tabela pessoas \n",
    "WHERE idade > 10; # Somente os resgistros que possuem, no campo idade, o valor maior que 10\n",
    "\n",
    "# Ou\n",
    "\n",
    "SELECT *          # Selecione dodas as colunas \n",
    "FROM pessoas      # da tabela pessoas \n",
    "WHERE idade < 10; # Somente os resgistros que possuem, no campo idade, o valor menor que 10"
   ]
  },
  {
   "cell_type": "markdown",
   "id": "ce11c004",
   "metadata": {
    "hidden": true
   },
   "source": [
    " "
   ]
  },
  {
   "cell_type": "markdown",
   "id": "fb62ed82",
   "metadata": {
    "heading_collapsed": true,
    "hidden": true
   },
   "source": [
    "### 🌾 <= e >="
   ]
  },
  {
   "cell_type": "markdown",
   "id": "bb4b46c7",
   "metadata": {
    "hidden": true
   },
   "source": [
    "O operador `>=` (maior ou igual) compara se o valor de uma coluna ou expressão é maior ou igual a um determinado valor. O operador `<=` (menor ou igual) compara se o valor de uma coluna ou expressão é menor ou igual a um determinado valor."
   ]
  },
  {
   "cell_type": "code",
   "execution_count": null,
   "id": "4f100f78",
   "metadata": {
    "hidden": true
   },
   "outputs": [],
   "source": [
    "SELECT *           # Selecione dodas as colunas \n",
    "FROM pessoas       # da tabela pessoas \n",
    "WHERE idade >= 10; # Somente os resgistros que possuem, no campo idade, o valor maior ou igual a 10\n",
    "\n",
    "# Ou\n",
    "\n",
    "SELECT *           # Selecione dodas as colunas \n",
    "FROM pessoas       # da tabela pessoas \n",
    "WHERE idade <= 10; # Somente os resgistros que possuem, no campo idade, o valor menor ou igual a 10"
   ]
  },
  {
   "cell_type": "markdown",
   "id": "9e0db7e3",
   "metadata": {
    "hidden": true
   },
   "source": [
    " "
   ]
  },
  {
   "cell_type": "markdown",
   "id": "516ec87d",
   "metadata": {
    "heading_collapsed": true,
    "hidden": true
   },
   "source": [
    "### 🌾 !="
   ]
  },
  {
   "cell_type": "markdown",
   "id": "f7ed10d1",
   "metadata": {
    "hidden": true
   },
   "source": [
    "O operador `!=` (diferente) compara se o valor de uma coluna ou expressão é diferente de um determinado valor."
   ]
  },
  {
   "cell_type": "code",
   "execution_count": null,
   "id": "8240a3ae",
   "metadata": {
    "hidden": true
   },
   "outputs": [],
   "source": [
    "SELECT *           # Selecione dodas as colunas \n",
    "FROM pessoas       # da tabela pessoas \n",
    "WHERE idade != 10; # Somente os resgistros que possuem, no campo idade, o valor diferente de 10"
   ]
  },
  {
   "cell_type": "markdown",
   "id": "981577ed",
   "metadata": {
    "hidden": true
   },
   "source": [
    " "
   ]
  },
  {
   "cell_type": "markdown",
   "id": "27c1bb52",
   "metadata": {
    "heading_collapsed": true,
    "hidden": true
   },
   "source": [
    "### 🌾 Not"
   ]
  },
  {
   "cell_type": "markdown",
   "id": "93e5ed25",
   "metadata": {
    "hidden": true
   },
   "source": [
    "O operador `NOT` nega uma condição. Ou seja, ele retorna o contrário do que uma condição pede."
   ]
  },
  {
   "cell_type": "code",
   "execution_count": null,
   "id": "aad9ca9f",
   "metadata": {
    "hidden": true
   },
   "outputs": [],
   "source": [
    "SELECT *               # Selecione dodas as colunas \n",
    "FROM pessoas           # da tabela pessoas \n",
    "WHERE NOT idade > 10;  # Somente os resgistros que não possuem, no campo idade, um valor maior que 10"
   ]
  },
  {
   "cell_type": "markdown",
   "id": "9f7df7ad",
   "metadata": {
    "hidden": true
   },
   "source": [
    " "
   ]
  },
  {
   "cell_type": "markdown",
   "id": "ecc6fd9d",
   "metadata": {
    "heading_collapsed": true,
    "hidden": true
   },
   "source": [
    "### 🌾 And"
   ]
  },
  {
   "cell_type": "markdown",
   "id": "0a723439",
   "metadata": {
    "hidden": true
   },
   "source": [
    "O operador `AND` é usado para combinar expressões lógicas e retornar somente resultados que atendam a ambas as condições. Ele é utilizado no comando SQL junto com a cláusula `WHERE`."
   ]
  },
  {
   "cell_type": "code",
   "execution_count": null,
   "id": "4f0392cf",
   "metadata": {
    "hidden": true
   },
   "outputs": [],
   "source": [
    "SELECT *               # Selecione dodas as colunas \n",
    "FROM pessoas           # da tabela pessoas \n",
    "WHERE \n",
    "    idade <= 30        # Somente os resgistros que possuem, no campo idade, um valor que menor ou igual a 30\n",
    "    AND                # e\n",
    "    sexo = 'M';        # que possuem, no campo sexo, o valor igual a 'M'"
   ]
  },
  {
   "cell_type": "markdown",
   "id": "833aecd4",
   "metadata": {
    "hidden": true
   },
   "source": [
    " "
   ]
  },
  {
   "cell_type": "markdown",
   "id": "c6bf3496",
   "metadata": {
    "heading_collapsed": true,
    "hidden": true
   },
   "source": [
    "### 🌾 Or"
   ]
  },
  {
   "cell_type": "markdown",
   "id": "9a8d0f33",
   "metadata": {
    "hidden": true
   },
   "source": [
    "O operador `OR` é similar ao operador `AND`, mas em vez de retornar somente os resultados que atendem a ambas as condições, ele retorna os resultados que atendem a pelo menos uma das condições. Ele é utilizado no comando SQL junto com a cláusula `WHERE`."
   ]
  },
  {
   "cell_type": "code",
   "execution_count": null,
   "id": "33b0fed9",
   "metadata": {
    "hidden": true
   },
   "outputs": [],
   "source": [
    "SELECT *               # Selecione dodas as colunas \n",
    "FROM pessoas           # da tabela pessoas \n",
    "WHERE \n",
    "    idade <= 30        # Somente os resgistros que possuem, no campo idade, um valor que menor ou igual a 30\n",
    "    AND                # ou\n",
    "    sexo = 'M';        # que possuem, no campo sexo, o valor igual a 'M'"
   ]
  },
  {
   "cell_type": "markdown",
   "id": "276d70e2",
   "metadata": {
    "hidden": true
   },
   "source": [
    " "
   ]
  },
  {
   "cell_type": "markdown",
   "id": "1b54dbaf",
   "metadata": {
    "heading_collapsed": true,
    "hidden": true
   },
   "source": [
    "### 🌾 Between ... And..."
   ]
  },
  {
   "cell_type": "markdown",
   "id": "b938d5e7",
   "metadata": {
    "hidden": true
   },
   "source": [
    "O operador `BETWEEN ... AND ...` é usado para selecionar valores dentro de um intervalo específico. Ele é composto por dois valores, o valor inicial e o valor final, separados pelo operador AND. "
   ]
  },
  {
   "cell_type": "code",
   "execution_count": null,
   "id": "dafb0fc3",
   "metadata": {
    "hidden": true
   },
   "outputs": [],
   "source": [
    "SELECT *                       # Selecione dodas as colunas \n",
    "FROM pessoas                   # da tabela pessoas \n",
    "WHERE idade BETWEEN 10 AND 20; # Somente os resgistros que possuem, no campo idade, um valor que está entre 10 e 20"
   ]
  },
  {
   "cell_type": "markdown",
   "id": "02c4e8fe",
   "metadata": {
    "hidden": true
   },
   "source": [
    "---"
   ]
  },
  {
   "cell_type": "markdown",
   "id": "b986dc10",
   "metadata": {
    "hidden": true
   },
   "source": [
    "Usando o `NOT` com o `BETWENN AND`."
   ]
  },
  {
   "cell_type": "code",
   "execution_count": null,
   "id": "3747e023",
   "metadata": {
    "hidden": true
   },
   "outputs": [],
   "source": [
    "SELECT *                           # Selecione dodas as colunas \n",
    "FROM pessoas                       # da tabela pessoas \n",
    "WHERE NOT idade BETWEEN 10 AND 20; # Somente os resgistros que não possuem, no campo idade, um valor que está \n",
    "                                   # entre 10 e 20"
   ]
  },
  {
   "cell_type": "markdown",
   "id": "523a7d74",
   "metadata": {
    "hidden": true
   },
   "source": [
    " "
   ]
  },
  {
   "cell_type": "markdown",
   "id": "49c498d1",
   "metadata": {
    "heading_collapsed": true,
    "hidden": true
   },
   "source": [
    "### 🌾 In"
   ]
  },
  {
   "cell_type": "markdown",
   "id": "8b34f189",
   "metadata": {
    "hidden": true
   },
   "source": [
    "O operador `IN (...)` é usado para especificar uma lista de valores que se deseja selecionar. Enquanto o `BETWEEN ... AND ...` seleciona uma faixa de valores, o `IN` seleciona valores especificos."
   ]
  },
  {
   "cell_type": "code",
   "execution_count": null,
   "id": "31130c13",
   "metadata": {
    "hidden": true
   },
   "outputs": [],
   "source": [
    "SELECT *                           # Selecione dodas as colunas \n",
    "FROM pessoas                       # da tabela pessoas \n",
    "WHERE idade IN (10, 50, 75);       # Somente os resgistros que possuem, no campo idade, um valor que é\n",
    "                                   # igual a 10 ou 50 ou 75"
   ]
  },
  {
   "cell_type": "markdown",
   "id": "7ac71460",
   "metadata": {
    "hidden": true
   },
   "source": [
    " "
   ]
  },
  {
   "cell_type": "markdown",
   "id": "e5f7c099",
   "metadata": {
    "heading_collapsed": true,
    "hidden": true
   },
   "source": [
    "### 🌾 Like"
   ]
  },
  {
   "cell_type": "markdown",
   "id": "463bba73",
   "metadata": {
    "hidden": true
   },
   "source": [
    "O operador `LIKE` é usado para pesquisar valores com base em um padrão específico. Ele usa caracteres curinga (como `%` e `_`) para representar qualquer caractere ou qualquer conjunto de caracteres. Por exemplo, você pode usar o operador `LIKE` para procurar por todos os registros na tabela que contenham uma string específica no campo nome, ou para procurar por todos os registros que começam com uma determinada string no campo profissão."
   ]
  },
  {
   "cell_type": "markdown",
   "id": "74946c67",
   "metadata": {
    "hidden": true
   },
   "source": [
    "Veja um exemplo de como selecionar todos os registros que possuam a letra `a` no nome."
   ]
  },
  {
   "cell_type": "code",
   "execution_count": 2,
   "id": "3e7e048b",
   "metadata": {
    "ExecuteTime": {
     "end_time": "2023-02-09T01:14:26.173299Z",
     "start_time": "2023-02-09T01:14:26.170203Z"
    },
    "hidden": true
   },
   "outputs": [],
   "source": [
    "SELECT * FROM pessoas   # Selecione todas as colunas da tabela pessoas\n",
    "WHERE name LIKE '%a%';  # Somente os registros que possuem a letra no nome "
   ]
  },
  {
   "cell_type": "markdown",
   "id": "d6ef26c3",
   "metadata": {
    "ExecuteTime": {
     "end_time": "2023-02-09T01:16:20.357441Z",
     "start_time": "2023-02-09T01:16:20.353239Z"
    },
    "hidden": true
   },
   "source": [
    "---"
   ]
  },
  {
   "cell_type": "markdown",
   "id": "b6dace00",
   "metadata": {
    "hidden": true
   },
   "source": [
    "Agora vamos selecionar somente os registros que possuem uma profisão que começa com a letra `c`."
   ]
  },
  {
   "cell_type": "code",
   "execution_count": null,
   "id": "12cc93b1",
   "metadata": {
    "ExecuteTime": {
     "end_time": "2023-02-09T01:16:50.789684Z",
     "start_time": "2023-02-09T01:16:50.770014Z"
    },
    "hidden": true
   },
   "outputs": [],
   "source": [
    "SELECT * FROM pessoas       # Selecione todas as colunas da tabela pessoas\n",
    "WHERE profissao LIKE 'c%';  # Somente os registros que possui uma profisão que começa com a letra c\n",
    "\n",
    "# Para selecionar somente os registros que possui uma prossisão que termina com a letra c\n",
    "# basta colocar a letra c após a porcentagem."
   ]
  },
  {
   "cell_type": "markdown",
   "id": "66e63329",
   "metadata": {
    "hidden": true
   },
   "source": [
    "---"
   ]
  },
  {
   "cell_type": "markdown",
   "id": "3bc572fb",
   "metadata": {
    "hidden": true
   },
   "source": [
    "Agora vamos selecionar somente os registros que possuem uma profisão que começa com a letra `c` e termina com a letra `a`."
   ]
  },
  {
   "cell_type": "code",
   "execution_count": null,
   "id": "7477e924",
   "metadata": {
    "hidden": true
   },
   "outputs": [],
   "source": [
    "SELECT * FROM pessoas        # Selecione todas as colunas da tabela pessoas\n",
    "WHERE profissao LIKE 'c%a';  # Somente os registros que possui uma profisão que começa com a letra 'c' e termina com a letra 'a'"
   ]
  },
  {
   "cell_type": "markdown",
   "id": "9bd2cbd6",
   "metadata": {
    "hidden": true
   },
   "source": [
    "---"
   ]
  },
  {
   "cell_type": "markdown",
   "id": "39cd733b",
   "metadata": {
    "hidden": true
   },
   "source": [
    "Enquanto o caractere curinga `%` serve para representar nenhum caractere, apenas 1 caractere ou um conjunto de caracteres ao mesmo tempo, o caractere curinga `_` serve para representar apenas 1 caractere. Por exemplo, se você quiser selecionar todas os registros que possuam na coluna `profissao` uma palavra com cinco letras e comece com `b`, você pode usar o seguinte código:"
   ]
  },
  {
   "cell_type": "code",
   "execution_count": null,
   "id": "9edf7cf2",
   "metadata": {
    "hidden": true
   },
   "outputs": [],
   "source": [
    "SELECT * FROM tabela \n",
    "WHERE profissao LIKE 'b____';"
   ]
  },
  {
   "cell_type": "markdown",
   "id": "49bd1bf1",
   "metadata": {
    "hidden": true
   },
   "source": [
    " "
   ]
  },
  {
   "cell_type": "markdown",
   "id": "e26347c5",
   "metadata": {
    "heading_collapsed": true,
    "hidden": true
   },
   "source": [
    "### 🌾 All e Any"
   ]
  },
  {
   "cell_type": "markdown",
   "id": "4bca33e7",
   "metadata": {
    "hidden": true
   },
   "source": [
    "O operador `ALL` é usado em consultas SQL para comparar uma expressão com todos os valores retornados por uma subconsulta. A subconsulta deve retornar uma ou mais linhas de resultados para que o operador `ALL` seja útil. O operador `ALL` compara a expressão à esquerda com cada valor retornado pela subconsulta e retorna true se a condição for verdadeira para todos os valores da subconsulta. Se qualquer comparação falhar, a condição inteira será falsa e consequentemente o registro não será retornado."
   ]
  },
  {
   "cell_type": "markdown",
   "id": "effb1605",
   "metadata": {
    "hidden": true
   },
   "source": [
    "Por exemplo, suponha que você queira saber qual cliente possui uma altura maior que a media de altura dos clientes de SP, PR e RJ. Para resolver esse problema você pode usar o `ALL`."
   ]
  },
  {
   "cell_type": "code",
   "execution_count": null,
   "id": "dfa1f2ec",
   "metadata": {
    "hidden": true
   },
   "outputs": [],
   "source": [
    "SELECT * \n",
    "\n",
    "FROM clientes\n",
    "WHERE altura > ALL (SELECT AVG(altura) FROM clientes GROUP BY estado);"
   ]
  },
  {
   "cell_type": "markdown",
   "id": "3d159926",
   "metadata": {
    "hidden": true
   },
   "source": [
    " ---"
   ]
  },
  {
   "cell_type": "markdown",
   "id": "47077702",
   "metadata": {
    "hidden": true
   },
   "source": [
    "Já o operador `ANY` (também conhecido como `SOME`) é usado para comparar um valor com uma lista de valores resultante de uma subconsulta. Ele retorna verdadeiro se o valor corresponder a qualquer um dos valores da lista.\n",
    "\n",
    "Por exemplo, suponha que você queira saber quais dos seus clientes moram em qualquer um dos estados do norte."
   ]
  },
  {
   "cell_type": "code",
   "execution_count": null,
   "id": "416b246b",
   "metadata": {
    "hidden": true
   },
   "outputs": [],
   "source": [
    "SELECT * \n",
    "\n",
    "FROM clientes\n",
    "WHERE cliente_estado = ANY (SELECT DISTINCT cliente_estado FROM clientes WHERE regiao = 'norte');"
   ]
  },
  {
   "cell_type": "markdown",
   "id": "58dabf8f",
   "metadata": {
    "hidden": true
   },
   "source": [
    " "
   ]
  },
  {
   "cell_type": "markdown",
   "id": "ded66535",
   "metadata": {
    "heading_collapsed": true
   },
   "source": [
    "## ✴️ Order by"
   ]
  },
  {
   "cell_type": "markdown",
   "id": "f3d85388",
   "metadata": {
    "hidden": true
   },
   "source": [
    "`ORDER BY` é uma cláusula SQL que é usada para classificar os resultados de uma consulta `SELECT`. Ele é geralmente usado para ordenar os resultados em ordem crescente ou decrescente com base em uma ou mais colunas específicas. Por padrão ele ordena o resultado por ordem crescente."
   ]
  },
  {
   "cell_type": "code",
   "execution_count": null,
   "id": "d43dd15c",
   "metadata": {
    "hidden": true
   },
   "outputs": [],
   "source": [
    "SELECT nome, sexo, peso, altura  # Selecionar as colunas 'nome', 'sexo', 'peso' e 'altura'\n",
    "FROM pessoas                     # da tabela pessoas\n",
    "ORDER BY nome;                   # ordene o resultado de forma crescente com base na coluna nome"
   ]
  },
  {
   "cell_type": "markdown",
   "id": "7c71c168",
   "metadata": {
    "hidden": true
   },
   "source": [
    "---"
   ]
  },
  {
   "cell_type": "markdown",
   "id": "be566d9d",
   "metadata": {
    "hidden": true
   },
   "source": [
    "Para ordenar o resultado da consulta por ordem decrescente é necessário adicionar ao script a palavra `DESC`, que significa decrescente."
   ]
  },
  {
   "cell_type": "code",
   "execution_count": null,
   "id": "c2dc4139",
   "metadata": {
    "hidden": true
   },
   "outputs": [],
   "source": [
    "SELECT nome, sexo, peso, altura  # Selecionar as colunas 'nome', 'sexo', 'peso' e 'altura'\n",
    "FROM pessoas                     # da tabela pessoas\n",
    "ORDER BY nome DESC;              # ordene o resultado de forma decrescente com base na coluna nome"
   ]
  },
  {
   "cell_type": "markdown",
   "id": "0791ab22",
   "metadata": {
    "hidden": true
   },
   "source": [
    "--- "
   ]
  },
  {
   "cell_type": "markdown",
   "id": "2ddf9f7a",
   "metadata": {
    "hidden": true
   },
   "source": [
    "Também podemos ordenar o resultado de uma consulta utilizando mais de uma coluna. A lógica é, primeiro organizamos o resultado da consulta de forma crescente ou decrescente (`ASC` ou `DESC`) com base em uma coluna, por exemplo a coluna **nome**. Depois, todos os registros que possuem o mesmo valor na coluna **nome** serão organizados de forma crescente ou decrescente (`ASC` ou `DESC`) com base em uma outra coluna, por exemplo a coluna **altura**."
   ]
  },
  {
   "cell_type": "code",
   "execution_count": null,
   "id": "6615f740",
   "metadata": {
    "hidden": true
   },
   "outputs": [],
   "source": [
    "SELECT *                        # Selecione todas as colunas\n",
    "FROM pessoas                    # da tabela pessoas.\n",
    "ORDER BY nome DESC, altura ASC; # Ordene o resultado da consulta de forma decrescente com base na coluna 'nome'\n",
    "                                # Agora todos os registro que possuem o mesmo valor na coluna'nome' devem \n",
    "                                # ser organizados de forma crescente com base na coluna 'altura'"
   ]
  },
  {
   "cell_type": "markdown",
   "id": "baceb1ba",
   "metadata": {
    "hidden": true
   },
   "source": [
    "---"
   ]
  },
  {
   "cell_type": "markdown",
   "id": "2891aa5f",
   "metadata": {
    "hidden": true
   },
   "source": [
    "Outra possibilidade é utilizar a cláusula `ORDER BY` juntamente com a cláusula `WHERE`. Ou seja, podemos selecionar apenas registros que atendem a uma condição e ordenar esse registros."
   ]
  },
  {
   "cell_type": "code",
   "execution_count": null,
   "id": "4a630e76",
   "metadata": {
    "hidden": true
   },
   "outputs": [],
   "source": [
    "SELECT *                   # Selecione todas as colunas\n",
    "FROM pessoas               # da tabela pessoas\n",
    "WHERE idade > 20           # Somente os registros que possuirem na coluna idade o valor maior que 20\n",
    "ORDER BY nome DESC;        # Ordene o resultado da consulta de forma decrescente com base na coluna 'nome'\n",
    "\n",
    "# Ou\n",
    "\n",
    "SELECT nome, altura, idade  # Seleciona as colunas 'nome', 'altura' e 'idade'\n",
    "FROM pesssoas               # da  tabela pessos\n",
    "WHERE altura < 1.75         # Somente os registros que possuirem na coluna altura o valor menor que 1.75\n",
    "ORDER BY nome, idade ASC;   # Agora todos os registro que possuem o mesmo valor na coluna'nome' devem \n",
    "                            # ser organizados de forma crescente com base na coluna 'idade'"
   ]
  },
  {
   "cell_type": "markdown",
   "id": "891c162e",
   "metadata": {
    "hidden": true
   },
   "source": [
    " "
   ]
  },
  {
   "cell_type": "markdown",
   "id": "4d1b64af",
   "metadata": {
    "heading_collapsed": true
   },
   "source": [
    "## ✴️ Limit"
   ]
  },
  {
   "cell_type": "markdown",
   "id": "3e4b44c4",
   "metadata": {
    "hidden": true
   },
   "source": [
    "A cláusula `LIMIT` é usada para limitar o número de linhas retornadas por um comando `SELECT`. Ela é comumente usada para paginamento de resultados, para evitar carregar uma grande quantidade de dados na memória ou para retornar apenas um conjunto específico de resultados."
   ]
  },
  {
   "cell_type": "code",
   "execution_count": null,
   "id": "4ba46eea",
   "metadata": {
    "hidden": true
   },
   "outputs": [],
   "source": [
    "SELECT nome, altura, idade  # Seleciona as colunas 'nome', 'altura' e 'idade'\n",
    "FROM pesssoas               # da  tabela pessos\n",
    "WHERE altura <= 1.75        # Somente os registros que possuirem na coluna altura o valor menor ou igual a 1.75\n",
    "ORDER BY nome, idade ASC    # Agora todos os registro que possuem o mesmo valor na coluna'nome' devem \n",
    "                            # ser organizados de forma crescente com base na coluna 'idade'\n",
    "LIMIT 10;                   # De todos os registros, retorne somente 10"
   ]
  },
  {
   "cell_type": "markdown",
   "id": "1b38f82c",
   "metadata": {
    "hidden": true
   },
   "source": [
    " "
   ]
  },
  {
   "cell_type": "markdown",
   "id": "6919486f",
   "metadata": {
    "heading_collapsed": true
   },
   "source": [
    "## ✴️ Distintc"
   ]
  },
  {
   "cell_type": "markdown",
   "id": "85e462e3",
   "metadata": {
    "hidden": true
   },
   "source": [
    "A cláusula `DISTINCT` é usada para remover de um resultado de consulta os registros que possuam o mesmo valor em uma determinada coluna. Por exemplo, suponha que você tenha uma tabela que guarda o nome, a idade, a profissão e o país de origem de várias pessoas. E algumas pessoas moram no mesmo país ou possuem a mesma idade ou exercem a mesma profissão. E o seu objetivo é saber quais são os países contidos na sua tabela. Para fazer isso podemos usar o comando `SELECT` junto com a cláusula `DISTINCT` para que o resultado da nossa consulta não possua valores duplicados."
   ]
  },
  {
   "cell_type": "code",
   "execution_count": null,
   "id": "e14da2cb",
   "metadata": {
    "hidden": true
   },
   "outputs": [],
   "source": [
    "SELECT DISTINCT pais FROM pessoas; # Selecione os registros da tabela pessoas com base na coluna pais, sem que esses registros\n",
    "                                   # possuam na coluna pais valores iguais"
   ]
  },
  {
   "cell_type": "markdown",
   "id": "0dc1c167",
   "metadata": {
    "hidden": true
   },
   "source": [
    " "
   ]
  },
  {
   "cell_type": "markdown",
   "id": "7958fcfa",
   "metadata": {
    "heading_collapsed": true
   },
   "source": [
    "## ✴️ Funções de agregação"
   ]
  },
  {
   "cell_type": "markdown",
   "id": "65c4b950",
   "metadata": {
    "heading_collapsed": true,
    "hidden": true
   },
   "source": [
    "### 🌾 Count"
   ]
  },
  {
   "cell_type": "markdown",
   "id": "2b17176e",
   "metadata": {
    "hidden": true
   },
   "source": [
    "`COUNT` é uma função que retorna o número de linhas em uma tabela ou o número de linhas que correspondem a uma condição em uma consulta. É amplamente utilizado em consultas SQL para obter o número de ocorrências de uma coluna específica. Caso a coluna possua valores nulos, eles não serão contabilizados."
   ]
  },
  {
   "cell_type": "markdown",
   "id": "ae16dd79",
   "metadata": {
    "hidden": true
   },
   "source": [
    "Descobrindo o numero de registros retornados por uma consulta."
   ]
  },
  {
   "cell_type": "code",
   "execution_count": null,
   "id": "713a54f3",
   "metadata": {
    "hidden": true
   },
   "outputs": [],
   "source": [
    "SELECT COUNT(*) FROM pessoas \n",
    "WHERE idade > 80;"
   ]
  },
  {
   "cell_type": "markdown",
   "id": "0b7b1bfc",
   "metadata": {
    "hidden": true
   },
   "source": [
    "---"
   ]
  },
  {
   "cell_type": "markdown",
   "id": "1826a002",
   "metadata": {
    "hidden": true
   },
   "source": [
    "O `COUNT` também serve para descobrindo o numero de valores, que não são nulos, de uma coluna."
   ]
  },
  {
   "cell_type": "code",
   "execution_count": null,
   "id": "d66f09ee",
   "metadata": {
    "hidden": true
   },
   "outputs": [],
   "source": [
    "SELECT COUNT(nome) FROM pessoas;  # Retorna quantos numeros    "
   ]
  },
  {
   "cell_type": "markdown",
   "id": "9d9a6337",
   "metadata": {
    "hidden": true
   },
   "source": [
    " "
   ]
  },
  {
   "cell_type": "markdown",
   "id": "a3e76a0a",
   "metadata": {
    "heading_collapsed": true,
    "hidden": true
   },
   "source": [
    "### 🌾 Max e Min"
   ]
  },
  {
   "cell_type": "markdown",
   "id": "6b58d643",
   "metadata": {
    "hidden": true
   },
   "source": [
    "A função `MAX` serve para descobrir qual é o maior valor de uma coluna. Enquanto a função `MIN` faz o cintrário."
   ]
  },
  {
   "cell_type": "code",
   "execution_count": null,
   "id": "f9f9f922",
   "metadata": {
    "hidden": true
   },
   "outputs": [],
   "source": [
    "SELECT MAX(idade) FROM pessoas;  # Selecione da coluna idade o maior valor.\n",
    "\n",
    "SELECT MIN(idade) FROM pessoas;  # Selecione da coluna idade o menor valor."
   ]
  },
  {
   "cell_type": "markdown",
   "id": "08eb9a96",
   "metadata": {
    "hidden": true
   },
   "source": [
    " "
   ]
  },
  {
   "cell_type": "markdown",
   "id": "3513cf5c",
   "metadata": {
    "heading_collapsed": true,
    "hidden": true
   },
   "source": [
    "### 🌾 Sum"
   ]
  },
  {
   "cell_type": "markdown",
   "id": "f04db17f",
   "metadata": {
    "hidden": true
   },
   "source": [
    "O `SUM` é uma função que serve para somar todos os valores de uma determinada coluna. "
   ]
  },
  {
   "cell_type": "code",
   "execution_count": null,
   "id": "f6c2bcba",
   "metadata": {
    "hidden": true
   },
   "outputs": [],
   "source": [
    "SELECT SUM(peso) FROM pessoas; # Soma o peso de todas as pessoas juntas"
   ]
  },
  {
   "cell_type": "markdown",
   "id": "a2debb30",
   "metadata": {
    "hidden": true
   },
   "source": [
    " "
   ]
  },
  {
   "cell_type": "markdown",
   "id": "b5fa9949",
   "metadata": {
    "heading_collapsed": true,
    "hidden": true
   },
   "source": [
    "### 🌾 Avg"
   ]
  },
  {
   "cell_type": "markdown",
   "id": "db6396c0",
   "metadata": {
    "hidden": true
   },
   "source": [
    "`AVG` é uma função utilizada para calcular a média dos valores de uma coluna."
   ]
  },
  {
   "cell_type": "code",
   "execution_count": null,
   "id": "0b558f17",
   "metadata": {
    "hidden": true
   },
   "outputs": [],
   "source": [
    "SELECT AVG(idade) FROM pessoas; # Calcula a média de idade das pessoas registradas na tabela"
   ]
  },
  {
   "cell_type": "markdown",
   "id": "c9b5aaab",
   "metadata": {
    "hidden": true
   },
   "source": [
    " "
   ]
  },
  {
   "cell_type": "markdown",
   "id": "d0c2f47b",
   "metadata": {
    "heading_collapsed": true
   },
   "source": [
    "## ✴️ Group by"
   ]
  },
  {
   "cell_type": "markdown",
   "id": "b33cf1e6",
   "metadata": {
    "hidden": true
   },
   "source": [
    "O comando `GROUP BY` é utilizado para agrupar os dados de uma tabela com base nos valores de uma ou mais colunas. Basicamente, ele agrupa as linhas da tabela que possuem valores iguais na(s) coluna(s) escolhida(s), e então permite que você faça operações agregadas nos grupos, como contar quantas linhas há em cada grupo, somar os valores de uma coluna numérica, calcular a média, entre outros."
   ]
  },
  {
   "cell_type": "markdown",
   "id": "38e0185a",
   "metadata": {
    "hidden": true
   },
   "source": [
    "Por exemplo, suponha que temos uma tabela de vendas com as seguintes colunas: ID, Data, Produto, Preço e Quantidade. Se quisermos saber o total vendido de cada produto, podemos utilizar o comando `GROUP BY` na coluna \"Produto\" e em seguida aplicar a função de agregação SUM na coluna \"Preço\".\n",
    "\n",
    "O código ficaria assim:"
   ]
  },
  {
   "cell_type": "code",
   "execution_count": null,
   "id": "b714831a",
   "metadata": {
    "hidden": true
   },
   "outputs": [],
   "source": [
    "SELECT Produto, SUM(Preco)\n",
    "FROM vendas\n",
    "GROUP BY Produto;"
   ]
  },
  {
   "cell_type": "markdown",
   "id": "038a55b1",
   "metadata": {
    "hidden": true
   },
   "source": [
    " "
   ]
  },
  {
   "cell_type": "markdown",
   "id": "ddbf3731",
   "metadata": {
    "heading_collapsed": true
   },
   "source": [
    "## ✴️ Having"
   ]
  },
  {
   "cell_type": "markdown",
   "id": "4e624739",
   "metadata": {
    "hidden": true
   },
   "source": [
    "O `HAVING` é uma cláusula que é usada em conjunto com a cláusula `GROUP BY` para filtrar os resultados de uma consulta de acordo com alguma condição que deve ser satisfeita pelas funções de agregação (como SUM, COUNT, AVG, MAX, MIN) aplicadas aos grupos formados pelo `GROUP BY`.\n",
    "\n",
    "A cláusula `HAVING` é usada para filtrar grupos, enquanto a cláusula `WHERE` é usada para filtrar linhas individuais. Isso significa que as condições especificadas em uma cláusula `HAVING` são aplicadas aos grupos como um todo, e não a linhas individuais."
   ]
  },
  {
   "cell_type": "markdown",
   "id": "9dfeb3dc",
   "metadata": {
    "hidden": true
   },
   "source": [
    "Por exemplo, se tivermos uma tabela de vendas com informações sobre o valor total de vendas por mês e por vendedor, poderíamos usar a cláusula `HAVING` para filtrar os vendedores que tiveram um total de vendas superior a um determinado valor:"
   ]
  },
  {
   "cell_type": "code",
   "execution_count": null,
   "id": "3140c6b5",
   "metadata": {
    "hidden": true
   },
   "outputs": [],
   "source": [
    "SELECT vendedor, SUM(valor_vendas) as total_vendas\n",
    "FROM vendas\n",
    "GROUP BY vendedor\n",
    "HAVING total_vendas > 10000;"
   ]
  },
  {
   "cell_type": "markdown",
   "id": "5649bc80",
   "metadata": {
    "hidden": true
   },
   "source": [
    " "
   ]
  },
  {
   "cell_type": "markdown",
   "id": "2e53c5ba",
   "metadata": {
    "hidden": true
   },
   "source": [
    "É importante lembrar que a cláusula `HAVING` só pode ser usada em conjunto com a cláusula `GROUP BY`, e que as condições especificadas em uma cláusula `HAVING` devem se referir a funções de agregação e não a colunas individuais."
   ]
  },
  {
   "cell_type": "markdown",
   "id": "9dded46b",
   "metadata": {
    "hidden": true
   },
   "source": [
    " "
   ]
  },
  {
   "cell_type": "markdown",
   "id": "ba396610",
   "metadata": {
    "heading_collapsed": true
   },
   "source": [
    "## ✴️ Inner join"
   ]
  },
  {
   "cell_type": "markdown",
   "id": "41432245",
   "metadata": {
    "hidden": true
   },
   "source": [
    "O `INNER JOIN` é um comando utilizado em SQL para unir duas ou mais tabelas relacionadas entre si, usando uma condição de junção especificada na cláusula `ON`. A principal função do `INNER JOIN` é combinar as linhas das tabelas de tal forma que apenas as linhas que possuem valores correspondentes nas duas tabelas sejam retornadas como resultado. Ou seja, ele só retorna os registros que possuem valores comuns nas colunas que estão sendo relacionadas.\n",
    "\n",
    "Por exemplo, suponha que temos duas tabelas: \"clientes\" e \"pedidos\". Se quisermos saber quais clientes têm pedidos, podemos usar `INNER JOIN` para combinar as duas tabelas, usando a coluna \"id_cliente\" em ambas como a condição de junção. Isso retornará apenas as linhas que contêm valores correspondentes nas duas tabelas."
   ]
  },
  {
   "cell_type": "code",
   "execution_count": null,
   "id": "249f9426",
   "metadata": {
    "hidden": true
   },
   "outputs": [],
   "source": [
    "SELECT  t1.nome_cliente,\n",
    "        t2.id_pedido\n",
    "\n",
    "FROM clientes AS t1\n",
    "INNER JOIN pedidos AS t2\n",
    "ON t1.id_cliente = t2.id_cliente;"
   ]
  },
  {
   "cell_type": "markdown",
   "id": "5357e4c5",
   "metadata": {
    "hidden": true
   },
   "source": [
    " "
   ]
  },
  {
   "cell_type": "markdown",
   "id": "68aed9c9",
   "metadata": {
    "heading_collapsed": true
   },
   "source": [
    "## ✴️ Left join"
   ]
  },
  {
   "cell_type": "markdown",
   "id": "34415c4d",
   "metadata": {
    "hidden": true
   },
   "source": [
    "O `LEFT JOIN` combina as linhas de duas tabelas com base em uma condição especificada, retornando todas as linhas da tabela à esquerda (tabela base) e as correspondentes da tabela à direita, quando houver. Se não houver correspondência, os valores da tabela à direita serão nulos.\n",
    "\n",
    "Por exemplo, suponha que você tenha duas tabelas, \"pessoas\" e \"cursos\", onde a tabela \"pessoas\" possui uma coluna \"id_curso\" que faz referência à coluna \"idcurso\" da tabela \"cursos\". Você pode usar o `LEFT JOIN` para obter uma lista de todos os gafanhotos e o curso correspondente (se houver) que eles estão fazendo."
   ]
  },
  {
   "cell_type": "code",
   "execution_count": null,
   "id": "c423af22",
   "metadata": {
    "hidden": true
   },
   "outputs": [],
   "source": [
    "SELECT  t1.nome AS nome_pessoa, \n",
    "        t2.nome AS nome_curso\n",
    "\n",
    "FROM pessoas AS t1\n",
    "LEFT JOIN cursos AS t2 \n",
    "ON t1.id_curso = t2.idcurso;"
   ]
  },
  {
   "cell_type": "markdown",
   "id": "8ab8d3f6",
   "metadata": {
    "hidden": true
   },
   "source": [
    "Neste exemplo, a tabela \"pessoas\" é a tabela à esquerda e a tabela \"cursos\" é a tabela à direita. A condição de junção é definida pelo `ON` t1.id_curso = t2.idcurso. O resultado da consulta será uma lista de todos os gafanhotos com o nome do curso correspondente, ou `NULL` se o gafanhoto não estiver fazendo nenhum curso."
   ]
  },
  {
   "cell_type": "markdown",
   "id": "3db5e68d",
   "metadata": {
    "hidden": true
   },
   "source": [
    " "
   ]
  },
  {
   "cell_type": "markdown",
   "id": "fc7104d7",
   "metadata": {
    "heading_collapsed": true
   },
   "source": [
    "## ✴️ Right join"
   ]
  },
  {
   "cell_type": "markdown",
   "id": "279646e0",
   "metadata": {
    "hidden": true
   },
   "source": [
    "O `RIGHT JOIN` é um comando de junção em SQL, assim como o `INNER JOIN` e o `LEFT JOIN`. Ele combina as linhas de duas tabelas com base em uma condição especificada e retorna todas as linhas da tabela da direita (a segunda tabela mencionada na cláusula `JOIN`) e as linhas correspondentes da tabela da esquerda (a primeira tabela mencionada na cláusula `JOIN`), ou `NULL` se não houver correspondência.\n",
    "\n",
    "Em outras palavras, o `RIGHT JOIN` retorna todas as linhas da tabela da direita e as linhas correspondentes da tabela da esquerda. Se não houver correspondência na tabela da esquerda, ele preenche com `NULL`."
   ]
  },
  {
   "cell_type": "code",
   "execution_count": null,
   "id": "e44570fd",
   "metadata": {
    "hidden": true
   },
   "outputs": [],
   "source": [
    "SELECT  t1.nome AS nome_pessoa, \n",
    "        t2.nome AS nome_curso\n",
    "\n",
    "FROM pessoas AS t1\n",
    "RIGHT JOIN cursos AS t2 \n",
    "ON t1.id_curso = t2.idcurso;"
   ]
  },
  {
   "cell_type": "markdown",
   "id": "a7fc7124",
   "metadata": {
    "hidden": true
   },
   "source": [
    "Nesse exemplo, a consulta retorna todas as linhas da t2 e as linhas correspondentes da t1 com base na condição de igualdade (t1.id_curso = t2.idcurso). Se não houver correspondência na t1, as colunas correspondentes retornam `NUL`."
   ]
  },
  {
   "cell_type": "markdown",
   "id": "cd350e48",
   "metadata": {
    "hidden": true
   },
   "source": [
    " "
   ]
  },
  {
   "cell_type": "markdown",
   "id": "876acee1",
   "metadata": {
    "heading_collapsed": true
   },
   "source": [
    "## ✴️ Case"
   ]
  },
  {
   "cell_type": "markdown",
   "id": "b38c7742",
   "metadata": {
    "hidden": true
   },
   "source": [
    "O comando `CASE WHEN` é uma estrutura condicional do SQL que permite que você execute uma ação com base em uma ou mais condições. É semelhante a um bloco de \"if-else\" em outras linguagens de programação. A expressão `CASE` tem duas formas: `CASE simples` e `CASE pesquisado`."
   ]
  },
  {
   "cell_type": "markdown",
   "id": "43bcc6c7",
   "metadata": {
    "hidden": true
   },
   "source": [
    "Uma expressão `CASE simples` possui a seguinte sintaxe:"
   ]
  },
  {
   "cell_type": "code",
   "execution_count": null,
   "id": "eedbb295",
   "metadata": {
    "hidden": true
   },
   "outputs": [],
   "source": [
    "CASE value\n",
    "    WHEN value1 THEN result1\n",
    "    WHEN value2 THEN result2\n",
    "    ...\n",
    "    ELSE result_else\n",
    "END"
   ]
  },
  {
   "cell_type": "markdown",
   "id": "cb723ba3",
   "metadata": {
    "hidden": true
   },
   "source": [
    "A expressão `CASE simples` é utilizada para comparar se o `value` é igual a `value1`, `value2`, `value3`, etc. Se o `value` for igual ao `value1` então `result1` será retornado, caso contrário o `value` será comparado com o `value2`. se `value` for igual ao `value2` então `result2` será retornado. E assim por diante. Caso o `value` não seje igual a nehum então `result_else` é retornado."
   ]
  },
  {
   "cell_type": "markdown",
   "id": "ff94d7bd",
   "metadata": {
    "hidden": true
   },
   "source": [
    " ---"
   ]
  },
  {
   "cell_type": "markdown",
   "id": "cf6f22bf",
   "metadata": {
    "hidden": true
   },
   "source": [
    "Uma expressão `CASE pesquisada` possui a seguinte sintaxe:"
   ]
  },
  {
   "cell_type": "code",
   "execution_count": null,
   "id": "2f1222d5",
   "metadata": {
    "hidden": true
   },
   "outputs": [],
   "source": [
    "CASE\n",
    "    WHEN condição1 THEN resultado1\n",
    "    WHEN condição2 THEN resultado2\n",
    "    ...\n",
    "    ELSE resultado_final\n",
    "END"
   ]
  },
  {
   "cell_type": "markdown",
   "id": "1da769b4",
   "metadata": {
    "hidden": true
   },
   "source": [
    "Aqui está uma explicação de cada parte do comando:\n",
    "\n",
    "`CASE`: inicia a estrutura condicional.<br>\n",
    "`WHEN`: define uma condição. Se essa condição for verdadeira, a ação correspondente será executada.<br>\n",
    "`THEN`: especifica a ação a ser executada se a condição for verdadeira.<br>\n",
    "`ELSE`: define a ação a ser executada se nenhuma das condições anteriores for verdadeira.<br>\n",
    "`END`: finaliza a estrutura condicional.<br>"
   ]
  },
  {
   "cell_type": "markdown",
   "id": "62cfeea5",
   "metadata": {
    "hidden": true
   },
   "source": [
    " "
   ]
  },
  {
   "cell_type": "markdown",
   "id": "99a2ecbc",
   "metadata": {
    "heading_collapsed": true
   },
   "source": [
    "## ✴️ With"
   ]
  },
  {
   "cell_type": "markdown",
   "id": "21a0db5a",
   "metadata": {
    "hidden": true
   },
   "source": [
    "O comando `WITH`, também conhecido como \"common table expression\" (CTE), é uma cláusula do SQL que permite definir uma consulta nomeada que pode ser referenciada posteriormente na mesma consulta principal ou em outras consultas.\n",
    "\n",
    "Essa cláusula é útil quando precisamos criar uma consulta que envolve várias subconsultas, sendo que uma ou mais dessas subconsultas podem ser utilizadas em várias partes da consulta principal.\n",
    "\n",
    "Com o `WITH`, podemos definir uma consulta nomeada, atribuindo-lhe um alias e, em seguida, referenciá-la como uma tabela em outras partes da consulta. Isso torna a consulta mais legível e fácil de entender, além de reduzir a complexidade do código SQL.\n",
    "\n",
    "Além disso, o `WITH` também permite aninhar subconsultas, criando uma estrutura hierárquica de consultas que pode ser mais fácil de entender do que consultas complexas com muitos JOINs."
   ]
  },
  {
   "cell_type": "markdown",
   "id": "9a7d55e8",
   "metadata": {
    "hidden": true
   },
   "source": [
    "Aqui está um exemplo basico da sintaxe do `WITH`:"
   ]
  },
  {
   "cell_type": "code",
   "execution_count": null,
   "id": "3fc25ae7",
   "metadata": {
    "hidden": true
   },
   "outputs": [],
   "source": [
    "WITH nome_da_subconsulta AS (\n",
    "    SELECT coluna_1, coluna_2, ...\n",
    "    FROM tabela\n",
    "    WHERE condições\n",
    ")\n",
    "\n",
    "\n",
    "SELECT *\n",
    "FROM nome_da_subconsulta\n",
    "WHERE condições_opcionais;"
   ]
  },
  {
   "cell_type": "markdown",
   "id": "7ce6f8de",
   "metadata": {
    "hidden": true
   },
   "source": [
    "---"
   ]
  },
  {
   "cell_type": "markdown",
   "id": "333cac16",
   "metadata": {
    "hidden": true
   },
   "source": [
    "Aqui vai um exemplo de utilização do `WITH` em uma consulta:\n",
    "\n",
    "Suponha que temos duas tabelas no banco de dados: `employees` e `departments`. A tabela `employees` contém informações sobre os funcionários, enquanto a tabela `departments` contém informações sobre os departamentos da empresa. Vamos criar uma consulta que retorna o número de funcionários em cada departamento, utilizando o WITH para criar uma subconsulta que calcula o número de funcionários em cada departamento:"
   ]
  },
  {
   "cell_type": "code",
   "execution_count": null,
   "id": "cafa9c46",
   "metadata": {
    "hidden": true
   },
   "outputs": [],
   "source": [
    "WITH employee_counts AS (\n",
    "    SELECT department_id, COUNT(*) AS num_employees\n",
    "    FROM employees\n",
    "    GROUP BY department_id\n",
    ")\n",
    "\n",
    "\n",
    "SELECT  departments.department_name, \n",
    "        employee_counts.num_employees\n",
    "\n",
    "FROM departments\n",
    "\n",
    "LEFT JOIN employee_counts \n",
    "ON departments.department_id = employee_counts.department_id;"
   ]
  },
  {
   "cell_type": "markdown",
   "id": "a191a8b7",
   "metadata": {
    "hidden": true
   },
   "source": [
    "Nesse exemplo, a subconsulta criada pelo `WITH` é nomeada como `employee_counts` e retorna o número de funcionários em cada departamento. Em seguida, a consulta principal se junta a essa subconsulta usando um `LEFT JOIN` para garantir que todos os departamentos sejam incluídos, mesmo que não tenham nenhum funcionário associado a eles. A consulta final retorna o nome do departamento e o número de funcionários associados a ele."
   ]
  },
  {
   "cell_type": "markdown",
   "id": "626fae1a",
   "metadata": {
    "hidden": true
   },
   "source": [
    " "
   ]
  },
  {
   "cell_type": "markdown",
   "id": "ced541f2",
   "metadata": {
    "heading_collapsed": true
   },
   "source": [
    "## ✴️ Union"
   ]
  },
  {
   "cell_type": "markdown",
   "id": "73ab2fd9",
   "metadata": {
    "hidden": true
   },
   "source": [
    "O comando `UNION` e `UNION ALL` são utilizados para combinar o resultado de duas ou mais consutas `SELECT` em uma única tabela virtual. A principal diferênça entre eles é que o `UNION` revome duplicatas, enquanto o `UNION ALL` não. \n",
    "\n",
    "Por exemplo, suponha que temos duas tabelas chamadas `tabela1` e `tabela2` com a mesma estrutura de colunas, e queremos combinar os resultados de duas consultas SELECT que retorna dados deiferentes de cada tabela. Podemos fazer isso usando o `UNION`."
   ]
  },
  {
   "cell_type": "code",
   "execution_count": null,
   "id": "ddeb44fc",
   "metadata": {
    "hidden": true
   },
   "outputs": [],
   "source": [
    "SELECT coluna1, coluna2 \n",
    "FROM tabela1\n",
    "\n",
    "UNION\n",
    "\n",
    "SELECT coluna1, coluna2 \n",
    "FROM tabela2;"
   ]
  },
  {
   "cell_type": "markdown",
   "id": "cd9b469f",
   "metadata": {
    "hidden": true
   },
   "source": [
    "O comando `UNION` removerá quaisquer registros duplicados nos resultados combinados, resultando em uma tabela virtual única que contém os registros únicos das duas tabelas. Se desejarmos manter duplicatas, usamos o comando `UNION ALL`:"
   ]
  },
  {
   "cell_type": "code",
   "execution_count": null,
   "id": "638b40b3",
   "metadata": {
    "hidden": true
   },
   "outputs": [],
   "source": [
    "SELECT coluna1, coluna2 \n",
    "FROM tabela1\n",
    "\n",
    "UNION ALL\n",
    "\n",
    "SELECT coluna1, coluna2 \n",
    "FROM tabela2;"
   ]
  },
  {
   "cell_type": "markdown",
   "id": "c5622dbd",
   "metadata": {
    "hidden": true
   },
   "source": [
    "No exemplo acima, o `UNION ALL` incluirá todos os registros das duas tabelas, independete de haverem registros duplicados nos resultados combinados.\n",
    "\n",
    "É importante lembrar que as duas consultas `SELECT` devem ter o mesmo número de colunas e o mesmo tipo de dados para cada coluna correspondente para que o `UNION` ou o `UNION ALL` possa ser usado. Caso contrário, uma mensagem de erro será gerada.\n",
    "\n",
    "Por fim, vale destacar que o uso do `UNION` e `UNION ALL` deve ser feito com cuidado, pois pode afetar negativamente o desempenho da consulta se a quantidade de dados for muito grande."
   ]
  },
  {
   "cell_type": "markdown",
   "id": "639e8e93",
   "metadata": {
    "hidden": true
   },
   "source": [
    " "
   ]
  },
  {
   "cell_type": "markdown",
   "id": "08f14c91",
   "metadata": {
    "heading_collapsed": true
   },
   "source": [
    "## ✴️ Funções para strings"
   ]
  },
  {
   "cell_type": "markdown",
   "id": "ed8994e3",
   "metadata": {
    "heading_collapsed": true
   },
   "source": [
    "## ✴️ Funções para numeros"
   ]
  },
  {
   "cell_type": "markdown",
   "id": "c2afc95f",
   "metadata": {
    "heading_collapsed": true,
    "hidden": true
   },
   "source": [
    "### 🌾 Round"
   ]
  },
  {
   "cell_type": "markdown",
   "id": "1f28dfd9",
   "metadata": {
    "heading_collapsed": true,
    "hidden": true
   },
   "source": [
    "### 🌾 Rand"
   ]
  },
  {
   "cell_type": "markdown",
   "id": "ef70470c",
   "metadata": {
    "heading_collapsed": true,
    "hidden": true
   },
   "source": [
    "### 🌾 Floor"
   ]
  },
  {
   "cell_type": "markdown",
   "id": "927a5785",
   "metadata": {
    "heading_collapsed": true
   },
   "source": [
    "## ✴️ Funções para datas"
   ]
  },
  {
   "cell_type": "markdown",
   "id": "8eae6c00",
   "metadata": {
    "heading_collapsed": true,
    "hidden": true
   },
   "source": [
    "### 🌾 Datediff"
   ]
  },
  {
   "cell_type": "markdown",
   "id": "c78a6fac",
   "metadata": {
    "hidden": true
   },
   "source": []
  },
  {
   "cell_type": "markdown",
   "id": "7aeca190",
   "metadata": {
    "hidden": true
   },
   "source": []
  },
  {
   "cell_type": "markdown",
   "id": "d8c5903d",
   "metadata": {
    "hidden": true
   },
   "source": []
  },
  {
   "cell_type": "markdown",
   "id": "676072bc",
   "metadata": {
    "heading_collapsed": true
   },
   "source": [
    "## ✴️ Funções avançadas"
   ]
  },
  {
   "cell_type": "markdown",
   "id": "a47dd057",
   "metadata": {
    "heading_collapsed": true,
    "hidden": true
   },
   "source": [
    "### 🌾 Coalesce"
   ]
  },
  {
   "cell_type": "markdown",
   "id": "9f737b45",
   "metadata": {
    "hidden": true
   },
   "source": []
  },
  {
   "cell_type": "markdown",
   "id": "3ad1a2e4",
   "metadata": {
    "hidden": true
   },
   "source": []
  },
  {
   "cell_type": "markdown",
   "id": "95eba2e0",
   "metadata": {
    "hidden": true
   },
   "source": []
  },
  {
   "cell_type": "markdown",
   "id": "7b2ee59d",
   "metadata": {
    "heading_collapsed": true
   },
   "source": [
    "## ✴️ Window Functions"
   ]
  },
  {
   "attachments": {},
   "cell_type": "markdown",
   "id": "683018bc",
   "metadata": {},
   "source": [
    "As Window Functions (Funções de janela) executam uma operação de agregação de linhas de uma consulta. No entanto, enquanto uma função de agregação agrupa linhas de consulta em uma única linha de resultado uma função de janela produz um resultado para cada linha de consulta:\n",
    "\n",
    "- A linha para a qual ocorre a avaliação da `Window Function` é chamada de `linha atual`.\n",
    "- As linhas que são iguais a `linha atual` sobre a qual ocorrer a avaliação da função compõem a janela da linha atual. \n",
    "\n",
    "Por exemplo, essas duas consultas abaixo são exemplos da usabilidade de uma função de agregação que retorna apenas uma linha de resultado para o todo ou para grupos.\n",
    "<br>\n",
    "<br>"
   ]
  },
  {
   "attachments": {},
   "cell_type": "markdown",
   "id": "b08f0beb",
   "metadata": {},
   "source": [
    "``` \n",
    ">> SELECT SUM(profit) AS total_profit\n",
    ">> FROM sales;\n",
    "\n",
    "+--------------+\n",
    "| total_profit |\n",
    "+--------------+\n",
    "|         7535 |\n",
    "+--------------+\n",
    "``` \n",
    "<br>"
   ]
  },
  {
   "attachments": {},
   "cell_type": "markdown",
   "id": "0607a231",
   "metadata": {},
   "source": [
    "```\n",
    ">> SELECT country, \n",
    "          SUM(profit) AS country_profit\n",
    "\n",
    ">> FROM sales\n",
    ">> GROUP BY country\n",
    ">> ORDER BY country;\n",
    "\n",
    "+---------+----------------+\n",
    "| country | country_profit |\n",
    "+---------+----------------+\n",
    "| Finland |           1610 |\n",
    "| India   |           1350 |\n",
    "| USA     |           4575 |\n",
    "+---------+----------------+\n",
    "\n",
    "```"
   ]
  },
  {
   "attachments": {},
   "cell_type": "markdown",
   "id": "42d5e8e1",
   "metadata": {},
   "source": [
    "Por outro lado as Window Functions não recolhem grupos de linhas de consulta em uma única linha. Em vez disso elas produzem um resultado para cada linhas. Vamos usar a função `SUM` novamente, só que dessa vez como uma Window Function.\n",
    "<br>\n",
    "<br>"
   ]
  },
  {
   "attachments": {},
   "cell_type": "markdown",
   "id": "eb19a3e9",
   "metadata": {},
   "source": [
    "```\n",
    ">> SELECT year, country, product, profit,\n",
    "          SUM(profit) OVER() AS total_profit,\n",
    "          SUM(profit) OVER(PARTITION BY country) AS country_profit\n",
    "\n",
    ">> FROM sales\n",
    ">> ORDER BY country, year, product, profit;\n",
    "\n",
    "+------+---------+------------+--------+--------------+----------------+\n",
    "| year | country | product    | profit | total_profit | country_profit |\n",
    "+------+---------+------------+--------+--------------+----------------+\n",
    "| 2000 | Finland | Computer   |   1500 |         7535 |           1610 |\n",
    "| 2000 | Finland | Phone      |    100 |         7535 |           1610 |\n",
    "| 2001 | Finland | Phone      |     10 |         7535 |           1610 |\n",
    "| 2000 | India   | Calculator |     75 |         7535 |           1350 |\n",
    "| 2000 | India   | Calculator |     75 |         7535 |           1350 |\n",
    "| 2000 | India   | Computer   |   1200 |         7535 |           1350 |\n",
    "| 2000 | USA     | Calculator |     75 |         7535 |           4575 |\n",
    "| 2000 | USA     | Computer   |   1500 |         7535 |           4575 |\n",
    "| 2001 | USA     | Calculator |     50 |         7535 |           4575 |\n",
    "| 2001 | USA     | Computer   |   1200 |         7535 |           4575 |\n",
    "| 2001 | USA     | Computer   |   1500 |         7535 |           4575 |\n",
    "| 2001 | USA     | TV         |    100 |         7535 |           4575 |\n",
    "| 2001 | USA     | TV         |    150 |         7535 |           4575 |\n",
    "+------+---------+------------+--------+--------------+----------------+\n",
    "```\n"
   ]
  },
  {
   "attachments": {},
   "cell_type": "markdown",
   "id": "24be19d6",
   "metadata": {},
   "source": [
    "Cada Window Function na consulta deve ser representada pela cláusula `OVER` que específica como partionar as linhas da consulta em grupos (janelas) para processamento pela Window Function."
   ]
  },
  {
   "attachments": {},
   "cell_type": "markdown",
   "id": "da1b1edc",
   "metadata": {},
   "source": [
    "- A primeira cláusula `OVER` está vazia, o que trata todo o conjunto de linhas da consulta como única partição. A função de janela, portanto, produz uma soma global, mas o faz para cada linha.\n",
    "\n",
    "- A segunda cláusula `OVER` particiona linhas por país utilizando o comando `PARTITION BY`, produzindo uma soma por partição (por país). A função produz essa soma para cada linha de partição."
   ]
  },
  {
   "attachments": {},
   "cell_type": "markdown",
   "id": "802ec5a7",
   "metadata": {},
   "source": [
    "As funções de janela são permitidas apenas na lista de seleção do `SELECT` e na cláusula `ORDER BY`. As linhas de resultado da consulta são determinadas a partir da cláusula `FROM`, depois de `WHERE`, `GROUP BY` e o processamento `HAVING`, e a execução do janelamento ocorre antes de `ORDER BY`, `LIMIT` e `SELECT DISTINCT`."
   ]
  },
  {
   "attachments": {},
   "cell_type": "markdown",
   "id": "f504180a",
   "metadata": {},
   "source": [
    "A cláusula `OVER` é permitida para muitas funções de agregação, que, portanto, podem ser usadas como funções de janela ou não janela, dependendo se a cláusula `OVER` está presente ou ausente:"
   ]
  },
  {
   "attachments": {},
   "cell_type": "markdown",
   "id": "24538083",
   "metadata": {},
   "source": [
    "```\n",
    "AVG()\n",
    "BIT_AND()\n",
    "BIT_OR()\n",
    "BIT_XOR()\n",
    "COUNT()\n",
    "JSON_ARRAYAGG()\n",
    "JSON_OBJECTAGG()\n",
    "MAX()\n",
    "MIN()\n",
    "STDDEV_POP(), STDDEV(), STD()\n",
    "STDDEV_SAMP()\n",
    "SUM()\n",
    "VAR_POP(), VARIANCE()\n",
    "VAR_SAMP()\n",
    "```"
   ]
  },
  {
   "attachments": {},
   "cell_type": "markdown",
   "id": "0ef8d28a",
   "metadata": {},
   "source": [
    "O MySQL também suporta funções não agregadas que são usadas apenas como funções de janela. Para estas, a cláusula `OVER` é obrigatória:"
   ]
  },
  {
   "attachments": {},
   "cell_type": "markdown",
   "id": "7d8c1f0f",
   "metadata": {},
   "source": [
    "```\n",
    "CUME_DIST()\n",
    "DENSE_RANK()\n",
    "FIRST_VALUE()\n",
    "LAG()\n",
    "LAST_VALUE()\n",
    "LEAD()\n",
    "NTH_VALUE()\n",
    "NTILE()\n",
    "PERCENT_RANK()\n",
    "RANK()\n",
    "ROW_NUMBER()\n",
    "```"
   ]
  },
  {
   "attachments": {},
   "cell_type": "markdown",
   "id": "a6ce6e82",
   "metadata": {},
   "source": [
    "Como dito antes a cláusula `OVER` é obrigatória para poder usar uma Window Function ou uma função de agregação como uma uma Window Function, pois é ela que partiociona a coluna e também ordena antes de particionar. A cláusula `OVER` recebe outras duas cláusulas como parâmetro:\n",
    "\n",
    "- A cláusula `PARTITION BY` que recebe uma coluna e com base nessa coluna faz a partição (opcional). Quando não colocada todas as linhas serão consideradas uma partição só.\n",
    "\n",
    "- A cláusula `ORDER BY` que recebe uma coluna e com base nessa coluna ordena as linhas dentro de cada partição. Quando não colocada as linhas não serão organizadas."
   ]
  },
  {
   "attachments": {},
   "cell_type": "markdown",
   "id": "81790b8c",
   "metadata": {},
   "source": [
    "<br>"
   ]
  },
  {
   "cell_type": "markdown",
   "id": "6304a182",
   "metadata": {
    "heading_collapsed": true,
    "hidden": true
   },
   "source": [
    "### 🌾 Row_number"
   ]
  },
  {
   "attachments": {},
   "cell_type": "markdown",
   "id": "84ef7179",
   "metadata": {},
   "source": [
    "Retorna um numero para a cada linha dentro de uma partição, ou seja, enumera todas as linhas de uma partição começando pelo numero 1. A sintaxe é: "
   ]
  },
  {
   "cell_type": "code",
   "execution_count": null,
   "id": "175681a2",
   "metadata": {
    "vscode": {
     "languageId": "plaintext"
    }
   },
   "outputs": [],
   "source": [
    "ROW_NUMBER() OVER( PARTITION BY [coluna], ORDER BY [coluna] )"
   ]
  },
  {
   "attachments": {},
   "cell_type": "markdown",
   "id": "59c8b0b8",
   "metadata": {
    "heading_collapsed": true,
    "hidden": true
   },
   "source": [
    "### 🌾 Lag e Lead"
   ]
  },
  {
   "attachments": {},
   "cell_type": "markdown",
   "id": "1d237af5",
   "metadata": {},
   "source": [
    "A função `LAG` retorna o valor da N° linha que está atrás da linha atual para cada linha dentro de uma partição. Enquanto a função `LEAD` faz o contrário, ou seja, retorna o valor da N° linha que está a frente da linha atual para cada linha de uma partição. As duas funções possuem a mesma sintaxe e recebem os mesmo argumentos:\n",
    "\n",
    "- O primeiro argumento é a coluna na qual será aplicada a Window Function.\n",
    "- O segundo argumento é a quantidade de linha que deve ser puladas apartir da linha atual.\n",
    "- O terceiro argumento recebe um valor que será retornado quando a função não encontrar uma linha com valor para ser retornado.\n",
    "\n",
    "A sua sintaxe é:"
   ]
  },
  {
   "attachments": {},
   "cell_type": "markdown",
   "id": "f7e5489a",
   "metadata": {},
   "source": [
    "```\n",
    "LAG( coluna, n_linhas, valor_de_retorno ) OVER( PARTITION BY [coluna], ORDER BY [coluna] )\n",
    "\n",
    "LEAD( coluna, n_linhas, valor_de_retorno ) OVER( PARTITION BY [coluna], ORDER BY [coluna] )\n",
    "```"
   ]
  }
 ],
 "metadata": {
  "kernelspec": {
   "display_name": "Python 3 (ipykernel)",
   "language": "python",
   "name": "python3"
  },
  "language_info": {
   "codemirror_mode": {
    "name": "ipython",
    "version": 3
   },
   "file_extension": ".py",
   "mimetype": "text/x-python",
   "name": "python",
   "nbconvert_exporter": "python",
   "pygments_lexer": "ipython3",
   "version": "3.11.2"
  },
  "varInspector": {
   "cols": {
    "lenName": 16,
    "lenType": 16,
    "lenVar": 40
   },
   "kernels_config": {
    "python": {
     "delete_cmd_postfix": "",
     "delete_cmd_prefix": "del ",
     "library": "var_list.py",
     "varRefreshCmd": "print(var_dic_list())"
    },
    "r": {
     "delete_cmd_postfix": ") ",
     "delete_cmd_prefix": "rm(",
     "library": "var_list.r",
     "varRefreshCmd": "cat(var_dic_list()) "
    }
   },
   "types_to_exclude": [
    "module",
    "function",
    "builtin_function_or_method",
    "instance",
    "_Feature"
   ],
   "window_display": false
  }
 },
 "nbformat": 4,
 "nbformat_minor": 5
}
