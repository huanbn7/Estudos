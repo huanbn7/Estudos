{
 "cells": [
  {
   "cell_type": "markdown",
   "id": "1f803c6c",
   "metadata": {
    "heading_collapsed": true
   },
   "source": [
    "# 💠 Introdução"
   ]
  },
  {
   "cell_type": "markdown",
   "id": "0fa7a7d6",
   "metadata": {
    "hidden": true
   },
   "source": [
    "Os comandos DDL (Data Definition Language) são comandos utilizados para definir o esquema de uma base de dados. Esses comandos incluem a criação, modificação e remoção de tabelas, colunas, índices e outros objetos relacionados ao esquema de uma base de dados. Alguns exemplos de comandos DDL incluem:\n",
    "\n",
    "- CREATE DATABASE\n",
    "- CREATE TABLE\n",
    "- ALTER TABLE\n",
    "- DROP TABLE\n",
    "- RENAME TABLE\n",
    "- CREATE INDEX\n",
    "- DROP INDEX\n",
    "- outros\n",
    "\n",
    "Esses comandos geralmente são executados pelo administrador do banco de dados, pois eles afetam a estrutura da base de dados e podem causar impactos significativos na aplicação que utiliza essa base de dados."
   ]
  },
  {
   "cell_type": "markdown",
   "id": "f51bebc6",
   "metadata": {
    "hidden": true
   },
   "source": [
    " "
   ]
  },
  {
   "cell_type": "markdown",
   "id": "43e36b52",
   "metadata": {
    "heading_collapsed": true
   },
   "source": [
    "# 💠 Create database"
   ]
  },
  {
   "cell_type": "markdown",
   "id": "3e3f151f",
   "metadata": {
    "hidden": true
   },
   "source": [
    "Para criar uma nova base de dados no MySQL, você pode usar o comando **CREATE** **DATABASE** seguido pelo nome da base de dados que deseja criar. Exemplo:"
   ]
  },
  {
   "cell_type": "code",
   "execution_count": null,
   "id": "5a9c93d6",
   "metadata": {
    "ExecuteTime": {
     "end_time": "2023-01-25T03:48:42.186872Z",
     "start_time": "2023-01-25T03:48:42.181393Z"
    },
    "hidden": true
   },
   "outputs": [],
   "source": [
    "CREATE DATABASE nome_da_base;"
   ]
  },
  {
   "cell_type": "markdown",
   "id": "1307b54c",
   "metadata": {
    "hidden": true
   },
   "source": [
    "\n",
    "Você também pode usar vários parâmetros para personalizar a criação do banco de dados de acordo com suas necessidades. Alguns dos parâmetros comuns que você pode usar ao criar um banco de dados estão abaixo."
   ]
  },
  {
   "cell_type": "markdown",
   "id": "3b69c417",
   "metadata": {
    "hidden": true
   },
   "source": [
    " "
   ]
  },
  {
   "cell_type": "markdown",
   "id": "25e68371",
   "metadata": {
    "heading_collapsed": true,
    "hidden": true
   },
   "source": [
    "## ✴️ Default character set "
   ]
  },
  {
   "cell_type": "markdown",
   "id": "0d46cf73",
   "metadata": {
    "hidden": true
   },
   "source": [
    "O parâmetro **DEFAULT CHARACTER SET** especifica o conjunto de caracteres padrão para o banco de dados. Ele afeta como os dados são armazenados e comparados dentro do banco de dados. Esse parâmetro é opcional, mas é recomendável especificá-lo ao criar um banco de dados, para garantir que os dados sejam armazenados e comparados de maneira consistente."
   ]
  },
  {
   "cell_type": "markdown",
   "id": "31a16b68",
   "metadata": {
    "hidden": true
   },
   "source": [
    "Valores válidos para **DEFAULT CHARACTER SET** incluem:"
   ]
  },
  {
   "cell_type": "markdown",
   "id": "a56ab9d2",
   "metadata": {
    "hidden": true
   },
   "source": [
    "- **utf8**: conjunto de caracteres Unicode com suporte para caracteres internacionais. (Padrão BR)\n",
    "- **latin1**: conjunto de caracteres ISO 8859-1 para idiomas ocidentais.\n",
    "- **cp1250**: conjunto de caracteres Windows para idiomas da Europa Central e Oriental.\n",
    "- **gb2312**: conjunto de caracteres para idiomas chineses simplificados.\n",
    "- **big5**: conjunto de caracteres para idiomas chineses tradicionais.ﾠ"
   ]
  },
  {
   "cell_type": "markdown",
   "id": "06b55dd5",
   "metadata": {
    "hidden": true
   },
   "source": [
    "Esses são apenas alguns exemplos de conjuntos de caracteres suportados pelo MySQL, existem muitos outros disponíveis dependendo da versão e configuração do seu MySQL. Aqui está um exemplo de como usar o parâmetro **DEFAULT CHARACTER SET** ao criar um banco de dados no MySQL."
   ]
  },
  {
   "cell_type": "code",
   "execution_count": null,
   "id": "d1710166",
   "metadata": {
    "hidden": true
   },
   "outputs": [],
   "source": [
    "CREATE DATABASE clientes    # Cria a database com o nome de clientes \n",
    "DEFAULT CHARACTER SET utf8; # Especificando o conjunto de caracteres padrão que vai ser armazenado na database"
   ]
  },
  {
   "cell_type": "markdown",
   "id": "b6fa55fc",
   "metadata": {
    "hidden": true
   },
   "source": [
    " "
   ]
  },
  {
   "cell_type": "markdown",
   "id": "80403ff3",
   "metadata": {
    "heading_collapsed": true,
    "hidden": true
   },
   "source": [
    "## ✴️ Default collate"
   ]
  },
  {
   "cell_type": "markdown",
   "id": "de2afcec",
   "metadata": {
    "hidden": true
   },
   "source": [
    "O parâmetro **DEFAULT COLLATE** especifica a ordenação padrão para o banco de dados. Ele afeta como os dados são comparados dentro do banco de dados. Esse parâmetro é opcional, mas é recomendável especificá-lo ao criar um banco de dados, para garantir que os dados sejam comparados de maneira consistente."
   ]
  },
  {
   "cell_type": "markdown",
   "id": "fd06e730",
   "metadata": {
    "hidden": true
   },
   "source": [
    "Os valores válidos para **DEFAULT COLLATE** dependem do conjunto de caracteres especificado no parâmetro **DEFAULT CHARACTER SET**. Por exemplo, se o DEFAULT CHARACTER SET for especificado como utf8, os valores válidos para DEFAULT COLLATE incluem:\n",
    "\n",
    "- **utf8_general_ci**: ordenação case-insensitive (não diferencia maiúsculas de minúsculas) para caracteres unicode.\n",
    "- **utf8_bin**: ordenação case-sensitive (diferencia maiúsculas de minúsculas) para caracteres unicode."
   ]
  },
  {
   "cell_type": "markdown",
   "id": "b1c053c5",
   "metadata": {
    "hidden": true
   },
   "source": [
    "Se o **DEFAULT CHARACTER SET** for especificado como latin1, os valores válidos para **DEFAULT COLLATE** incluem:\n",
    "\n",
    "- **latin1_swedish_ci**: ordenação case-insensitive para caracteres ISO 8859-1.\n",
    "- **latin1_bin**: ordenação case-sensitive para caracteres ISO 8859-1.Especifica a ordenação padrão para o banco de dados. Isso afeta como os dados são comparados dentro do banco de dados. Exemplo: \"default collate utf8_general_ci\"."
   ]
  },
  {
   "cell_type": "markdown",
   "id": "20ed1f6a",
   "metadata": {
    "hidden": true
   },
   "source": [
    "É importante notar que esses são apenas alguns exemplos de ordenações suportadas pelo MySQL, existem muitas outras disponíveis dependendo da versão e configuração do seu MySQL. Além disso, os conjuntos de caracteres podem ter suporte a diferentes tipos de ordenação, dependendo do conjunto de caracteres escolhido. Aqui está um exemplo de como usar o parâmetro **DEFAULT COLLATE** ao criar um banco de dados no MySQL."
   ]
  },
  {
   "cell_type": "code",
   "execution_count": null,
   "id": "079c7a36",
   "metadata": {
    "hidden": true
   },
   "outputs": [],
   "source": [
    "CREATE DATABASE contatos         # Cria a database com o nome de clientes\n",
    "DEFAULT CHARACTER SET utf8       # Especificando o conjunto de caracteres padrão que vai ser armazenado na database\n",
    "DEFAULT COLLATE utf8_general_ci; # Especificando a ordenação padrão dos caracteres da database"
   ]
  },
  {
   "cell_type": "markdown",
   "id": "9759e811",
   "metadata": {
    "hidden": true
   },
   "source": [
    " "
   ]
  },
  {
   "cell_type": "markdown",
   "id": "7b28e9ff",
   "metadata": {
    "heading_collapsed": true,
    "hidden": true
   },
   "source": [
    "## ✴️ Comment"
   ]
  },
  {
   "cell_type": "markdown",
   "id": "cece64ff",
   "metadata": {
    "hidden": true
   },
   "source": [
    "Fornece uma descrição ou comentário sobre o banco de dados. Exemplo: \"COMMENT 'Banco de dados de cadastro de clientes'\"."
   ]
  },
  {
   "cell_type": "markdown",
   "id": "170fe46f",
   "metadata": {
    "heading_collapsed": true,
    "hidden": true
   },
   "source": [
    "## ✴️ Engine"
   ]
  },
  {
   "cell_type": "markdown",
   "id": "0b8a9852",
   "metadata": {
    "hidden": true
   },
   "source": [
    "Especifica o mecanismo de armazenamento a ser usado para o banco de dados. O MySQL suporta vários mecanismos de armazenamento, como InnoDB, MyISAM, etc. Exemplo: \"ENGINE=InnoDB\"."
   ]
  },
  {
   "cell_type": "markdown",
   "id": "e9bae77c",
   "metadata": {
    "heading_collapsed": true,
    "hidden": true
   },
   "source": [
    "## ✴️ Auto_increment"
   ]
  },
  {
   "cell_type": "markdown",
   "id": "d17e1f8c",
   "metadata": {
    "hidden": true
   },
   "source": [
    "Especifica o valor inicial para um campo auto_incremento em uma tabela."
   ]
  },
  {
   "cell_type": "markdown",
   "id": "bf2413cd",
   "metadata": {
    "heading_collapsed": true,
    "hidden": true
   },
   "source": [
    "## ✴️ Tablespace"
   ]
  },
  {
   "cell_type": "markdown",
   "id": "9745f041",
   "metadata": {
    "hidden": true
   },
   "source": [
    "Especifica onde as tabelas serão armazenadas fisicamente no sistema de arquivos."
   ]
  },
  {
   "cell_type": "markdown",
   "id": "74b92e13",
   "metadata": {
    "heading_collapsed": true,
    "hidden": true
   },
   "source": [
    "## ✴️ Storage"
   ]
  },
  {
   "cell_type": "markdown",
   "id": "b4d41808",
   "metadata": {
    "hidden": true
   },
   "source": [
    "Especifica como os dados serão armazenados fisicamente no sistema de arquivos."
   ]
  },
  {
   "cell_type": "markdown",
   "id": "9a694f76",
   "metadata": {
    "heading_collapsed": true,
    "hidden": true
   },
   "source": [
    "## ✴️ Encryption"
   ]
  },
  {
   "cell_type": "markdown",
   "id": "91c1ab4c",
   "metadata": {
    "hidden": true
   },
   "source": [
    "Especifica se o banco de dados deve ser cifrado."
   ]
  },
  {
   "cell_type": "markdown",
   "id": "6a96f599",
   "metadata": {
    "heading_collapsed": true,
    "hidden": true
   },
   "source": [
    "## ✴️ Schema"
   ]
  },
  {
   "cell_type": "markdown",
   "id": "3a77d254",
   "metadata": {
    "hidden": true
   },
   "source": [
    "Cria o banco de dados como um esquema no banco de dados existente."
   ]
  },
  {
   "cell_type": "markdown",
   "id": "878e01d3",
   "metadata": {
    "heading_collapsed": true,
    "hidden": true
   },
   "source": [
    "## ✴️ Select"
   ]
  },
  {
   "cell_type": "markdown",
   "id": "17149e75",
   "metadata": {
    "hidden": true
   },
   "source": [
    "Cria uma cópia do banco de dados existente."
   ]
  },
  {
   "cell_type": "markdown",
   "id": "ddb07635",
   "metadata": {
    "heading_collapsed": true,
    "hidden": true
   },
   "source": [
    "## ✴️ If no exists"
   ]
  },
  {
   "cell_type": "markdown",
   "id": "5bbc77c0",
   "metadata": {
    "hidden": true
   },
   "source": [
    "Cria o banco de dados apenas se ele não existir. Isso evita erros se o banco de dados já existir."
   ]
  },
  {
   "cell_type": "markdown",
   "id": "61ac2373",
   "metadata": {
    "hidden": true
   },
   "source": [
    " "
   ]
  },
  {
   "cell_type": "markdown",
   "id": "ec779913",
   "metadata": {
    "heading_collapsed": true
   },
   "source": [
    "# 💠 Create table"
   ]
  },
  {
   "cell_type": "markdown",
   "id": "348db347",
   "metadata": {
    "hidden": true
   },
   "source": [
    "Criar uma tabela é mais complexo do que criar uma base de dados, pois agora temos que especificar quais serão as colunas da tabela e quais caracteristicas essas colunas devem ter. Nós definimos as caracteristicas de uma coluna de duas formas, especificando qual será o seu **tipo de dado primitivo** e quais serão suas **constraints**.\n",
    "\n",
    "- O **tipo de dado primitivo** é usado para definir o tipo de dado da coluna.\n",
    "- As **constraints** são restrições que garantem a integridade dos dados em uma tabela do banco de dados. Elas são usadas para garantir que os dados inseridos em uma tabela atendam a certas condições. "
   ]
  },
  {
   "cell_type": "markdown",
   "id": "dc29126e",
   "metadata": {
    "hidden": true
   },
   "source": [
    "Abaixo temos um exemplo de como criar uma tabela e suas colunas, definir o tipo de dado e algumas restrições para cada coluna."
   ]
  },
  {
   "cell_type": "code",
   "execution_count": null,
   "id": "ba8cb3a3",
   "metadata": {
    "ExecuteTime": {
     "end_time": "2023-01-25T03:48:42.186872Z",
     "start_time": "2023-01-25T03:48:42.181393Z"
    },
    "hidden": true
   },
   "outputs": [],
   "source": [
    "CREATE TABLE nomedatabela (\n",
    "    idpessoa int NOT NULL UNIQUE,\n",
    "    nome varchar(25),\n",
    "    idade int,\n",
    "    peso decimal(6, 3)\n",
    "    nacionalidade varchar(30) DEFAULT 'Brasil'\n",
    ");"
   ]
  },
  {
   "cell_type": "markdown",
   "id": "5d3f9097",
   "metadata": {
    "hidden": true
   },
   "source": [
    "\n",
    "Como podemos ver, o camando que utilizamos para criar uma tabela é o **CREATE TABLE** seguido do **nomedatabela**. Logo após temos as definições das colunas, seus tipos primitimos e constraints. Abaixo se encontra o significado de cada tipo primitivo (usado no MySQL) e também o significado para algumas constraints."
   ]
  },
  {
   "cell_type": "markdown",
   "id": "089f4213",
   "metadata": {
    "hidden": true
   },
   "source": [
    " "
   ]
  },
  {
   "cell_type": "markdown",
   "id": "019bbcdb",
   "metadata": {
    "heading_collapsed": true,
    "hidden": true
   },
   "source": [
    "## ✴️ Tipos de dados primitivo"
   ]
  },
  {
   "cell_type": "markdown",
   "id": "42f25dad",
   "metadata": {
    "heading_collapsed": true,
    "hidden": true
   },
   "source": [
    "### 🔹 <font>Numerico inteiro<font>"
   ]
  },
  {
   "cell_type": "markdown",
   "id": "210fb9a4",
   "metadata": {
    "hidden": true
   },
   "source": [
    "**TinyInt**: Ele é usado para armazenar valores inteiros dentro de um intervalo específico. O tamanho de armazenamento em bytes de um campo TINYINT é geralmente de 1 byte, ou 8 bits. O TINYINT é uma boa escolha quando se sabe que o valor armazenado será pequeno, e se você deseja economizar espaço de armazenamento."
   ]
  },
  {
   "cell_type": "code",
   "execution_count": null,
   "id": "bb30b029",
   "metadata": {
    "hidden": true
   },
   "outputs": [],
   "source": [
    "CREATE TABLE pessoas (\n",
    "idpessoa tanyint         # A coluna 'idpessoa' só pode receber valores inteiros do tamanho que o tinyint permiti\n",
    ");"
   ]
  },
  {
   "cell_type": "markdown",
   "id": "ecc19697",
   "metadata": {
    "hidden": true
   },
   "source": [
    "---"
   ]
  },
  {
   "cell_type": "markdown",
   "id": "01e22f8c",
   "metadata": {
    "hidden": true
   },
   "source": [
    "**SmallInt**: Ele é usado para armazenar valores inteiros dentro de um intervalo específico. O tamanho de armazenamento em bytes de um campo SMALLINT é geralmente de 2 bytes, ou 16 bits. É uma das opções de tamanho pequeno a intermediário para armazenamento de números inteiros."
   ]
  },
  {
   "cell_type": "code",
   "execution_count": null,
   "id": "7b58d2b6",
   "metadata": {
    "hidden": true
   },
   "outputs": [],
   "source": [
    "CREATE TABLE pessoas (\n",
    "idpessoa smallint         # A coluna 'idpessoa' só pode receber valores inteiros do tamanho que o smallint permiti\n",
    ");"
   ]
  },
  {
   "cell_type": "markdown",
   "id": "b2541d07",
   "metadata": {
    "hidden": true
   },
   "source": [
    "---"
   ]
  },
  {
   "cell_type": "markdown",
   "id": "523abbd9",
   "metadata": {
    "hidden": true
   },
   "source": [
    "**Mediumint**: Ele é usado para armazenar valores inteiros dentro de um intervalo específico. O tamanho de armazenamento em bytes de um campo MEDIUMINT é geralmente de 3 bytes, ou 24 bits. É uma das opções de tamanho intermediário para armazenamento de números inteiros."
   ]
  },
  {
   "cell_type": "code",
   "execution_count": null,
   "id": "353ad272",
   "metadata": {
    "hidden": true
   },
   "outputs": [],
   "source": [
    "CREATE TABLE pessoas (\n",
    "idpessoa mediumint         # A coluna 'idpessoa' só pode receber valores inteiros do tamanho que o mediumint permiti\n",
    ");"
   ]
  },
  {
   "cell_type": "markdown",
   "id": "0bb77c92",
   "metadata": {
    "hidden": true
   },
   "source": [
    "---"
   ]
  },
  {
   "cell_type": "markdown",
   "id": "0002a4a7",
   "metadata": {
    "hidden": true
   },
   "source": [
    "**Int**: Ele é usado para armazenar valores inteiros dentro de um intervalo específico. O tamanho de armazenamento em bytes de um campo INT é geralmente de 4 bytes, ou 32 bits. Ele é a opção mais comum para armazenamento de números inteiros que possuem o tamanho de intermediário a grande."
   ]
  },
  {
   "cell_type": "code",
   "execution_count": null,
   "id": "682eb00d",
   "metadata": {
    "hidden": true
   },
   "outputs": [],
   "source": [
    "CREATE TABLE pessoas (\n",
    "idpessoa int             # A coluna 'idpessoa' só pode receber valores inteiros do tamanho que o int permiti\n",
    ");"
   ]
  },
  {
   "cell_type": "markdown",
   "id": "facf7ae0",
   "metadata": {
    "hidden": true
   },
   "source": [
    "---"
   ]
  },
  {
   "cell_type": "markdown",
   "id": "8626fd3a",
   "metadata": {
    "hidden": true
   },
   "source": [
    "**Bigint**: Ele é usado para armazenar valores inteiros dentro de um intervalo específico. O tamanho de armazenamento em bytes de um campo BIGINT é geralmente de 8 bytes, ou 64 bits. Ele é uma das opções maiores para armazenamento de números inteiros."
   ]
  },
  {
   "cell_type": "code",
   "execution_count": null,
   "id": "dc34f9f6",
   "metadata": {
    "ExecuteTime": {
     "end_time": "2023-01-25T15:33:06.935298Z",
     "start_time": "2023-01-25T15:33:06.931661Z"
    },
    "hidden": true
   },
   "outputs": [],
   "source": [
    "CREATE TABLE pessoas (\n",
    "idpessoa bigint         # A coluna 'idpessoa' só pode receber valores inteiros do tamanho que o bigint permiti\n",
    ");"
   ]
  },
  {
   "cell_type": "markdown",
   "id": "b35e2f7b",
   "metadata": {
    "hidden": true
   },
   "source": [
    " "
   ]
  },
  {
   "cell_type": "markdown",
   "id": "2e8e7cf3",
   "metadata": {
    "heading_collapsed": true,
    "hidden": true
   },
   "source": [
    "### 🔹 <font>Numerico real<font>"
   ]
  },
  {
   "cell_type": "markdown",
   "id": "2e6ce023",
   "metadata": {
    "hidden": true
   },
   "source": [
    "- Decimal\n",
    "- Float\n",
    "- Double\n",
    "- Real"
   ]
  },
  {
   "cell_type": "markdown",
   "id": "aea63a25",
   "metadata": {
    "heading_collapsed": true,
    "hidden": true
   },
   "source": [
    "### 🔹 <font>Numerico lógico<font>"
   ]
  },
  {
   "cell_type": "markdown",
   "id": "54f13782",
   "metadata": {
    "hidden": true
   },
   "source": [
    "- Bit\n",
    "- Boolean"
   ]
  },
  {
   "cell_type": "markdown",
   "id": "882b31d2",
   "metadata": {
    "heading_collapsed": true,
    "hidden": true
   },
   "source": [
    "### 🔹 <font>Literal caractere<font>"
   ]
  },
  {
   "cell_type": "markdown",
   "id": "e951f7ab",
   "metadata": {
    "hidden": true
   },
   "source": [
    "- Char\n",
    "- Varchar"
   ]
  },
  {
   "cell_type": "markdown",
   "id": "711d5abe",
   "metadata": {
    "heading_collapsed": true,
    "hidden": true
   },
   "source": [
    "### 🔹 <font>Literal texto<font>"
   ]
  },
  {
   "cell_type": "markdown",
   "id": "cfc70379",
   "metadata": {
    "hidden": true
   },
   "source": [
    "\n",
    "- TinyText\n",
    "- Text\n",
    "- MediumText\n",
    "- LongText"
   ]
  },
  {
   "cell_type": "markdown",
   "id": "0188f7a0",
   "metadata": {
    "heading_collapsed": true,
    "hidden": true
   },
   "source": [
    "### 🔹 <font>Literal coleção<font>"
   ]
  },
  {
   "cell_type": "markdown",
   "id": "9f37d858",
   "metadata": {
    "hidden": true
   },
   "source": [
    "- Enum\n",
    "- Set"
   ]
  },
  {
   "cell_type": "markdown",
   "id": "0bb60445",
   "metadata": {
    "heading_collapsed": true,
    "hidden": true
   },
   "source": [
    "### 🔹 <font>Literal binário<font>"
   ]
  },
  {
   "cell_type": "markdown",
   "id": "cf6c5a39",
   "metadata": {
    "hidden": true
   },
   "source": [
    "- TinyBlob\n",
    "- Blob\n",
    "- MediumBlob\n",
    "- LongBlob"
   ]
  },
  {
   "cell_type": "markdown",
   "id": "5325f1bb",
   "metadata": {
    "heading_collapsed": true,
    "hidden": true
   },
   "source": [
    "### 🔹 <font>Date<font>"
   ]
  },
  {
   "cell_type": "markdown",
   "id": "d0fbe646",
   "metadata": {
    "hidden": true
   },
   "source": [
    "- Date\n",
    "- DateTime\n",
    "- TimeStamp\n",
    "- Time\n",
    "- Year"
   ]
  },
  {
   "cell_type": "markdown",
   "id": "46f17049",
   "metadata": {
    "heading_collapsed": true,
    "hidden": true
   },
   "source": [
    "### 🔹 <font>Espacial<font>"
   ]
  },
  {
   "cell_type": "markdown",
   "id": "1d0aefe2",
   "metadata": {
    "hidden": true
   },
   "source": [
    "- Geometry\n",
    "- Point\n",
    "- Polygon\n",
    "- MultiPolygon"
   ]
  },
  {
   "cell_type": "markdown",
   "id": "20637c27",
   "metadata": {
    "hidden": true
   },
   "source": [
    " "
   ]
  },
  {
   "cell_type": "markdown",
   "id": "afefa575",
   "metadata": {
    "heading_collapsed": true,
    "hidden": true
   },
   "source": [
    "## ✴️ Constraints"
   ]
  },
  {
   "cell_type": "markdown",
   "id": "e4e82f7c",
   "metadata": {
    "heading_collapsed": true,
    "hidden": true
   },
   "source": [
    "### 🔹 Not null"
   ]
  },
  {
   "cell_type": "markdown",
   "id": "7284c208",
   "metadata": {
    "hidden": true
   },
   "source": [
    "Essa constraint garante que uma coluna não tenha valores nulos. Por exemplo, se você quiser garantir que uma coluna \"nome\" não possa ter valores nulos, você pode usar a constraint NOT NULL."
   ]
  },
  {
   "cell_type": "code",
   "execution_count": null,
   "id": "d0f61876",
   "metadata": {
    "hidden": true
   },
   "outputs": [],
   "source": [
    "CREATE TABLE pessoas (\n",
    "    ID int NOT NULL,    # Caso o valor que sera inserido no campo email for nulo\n",
    "                        # todo o registro não será adicionado, ou seja, nenhuma outra coluna sera preenchida.     \n",
    "    nome VARCHAR(30)\n",
    ");"
   ]
  },
  {
   "cell_type": "markdown",
   "id": "a55d2824",
   "metadata": {
    "hidden": true
   },
   "source": [
    " "
   ]
  },
  {
   "cell_type": "markdown",
   "id": "ac5b79c6",
   "metadata": {
    "heading_collapsed": true,
    "hidden": true
   },
   "source": [
    "### 🔹 Unique"
   ]
  },
  {
   "cell_type": "markdown",
   "id": "9386e620",
   "metadata": {
    "hidden": true
   },
   "source": [
    "Essa constraint garante que os valores em uma coluna sejam únicos. Por exemplo, se você quiser garantir que uma coluna \"email\" tenha valores únicos, você pode usar a constraint UNIQUE."
   ]
  },
  {
   "cell_type": "code",
   "execution_count": null,
   "id": "11894e27",
   "metadata": {
    "hidden": true
   },
   "outputs": [],
   "source": [
    "CREATE TABLE pessoas (\n",
    "    ID int NOT NULL,\n",
    "    email VARCHAR(30) UNIQUE # Caso o valor que sera inserido no campo email for repetido\n",
    ");                           # todo o registro não será adicionado, ou seja, nenhuma outra coluna sera preenchida."
   ]
  },
  {
   "cell_type": "markdown",
   "id": "d37ff24c",
   "metadata": {
    "hidden": true
   },
   "source": [
    " "
   ]
  },
  {
   "cell_type": "markdown",
   "id": "3a4693b1",
   "metadata": {
    "heading_collapsed": true,
    "hidden": true
   },
   "source": [
    "### 🔹 Primary key"
   ]
  },
  {
   "cell_type": "markdown",
   "id": "813eb5c8",
   "metadata": {
    "hidden": true
   },
   "source": [
    "Essa constraint define **uma coluna ou conjunto de colunas** como a chave primária de uma tabela. A chave primária é usada para identificar de forma única uma linha na tabela e garante a integridade referencial quando outras tabelas fazem referência a ela. Por exemplo, se você quiser definir uma coluna \"ID\" como a chave primária de uma tabela \"pessoas\", você pode usar a constraint PRIMARY KEY."
   ]
  },
  {
   "cell_type": "code",
   "execution_count": null,
   "id": "5280a4c1",
   "metadata": {
    "hidden": true
   },
   "outputs": [],
   "source": [
    "CREATE TABLE pessoas (\n",
    "    ID int PRIMARY KEY,       # A coluna ID será a chave primária da tabela pessoas.\n",
    "                              # Se um um ID preste a ser adicionado for repetido, todo o registro não será adiconado\n",
    "                              # Ou seja, nenhuma coluna será preenchida.\n",
    "    nome VARCHAR(30) NOT NULL,\n",
    ");"
   ]
  },
  {
   "cell_type": "markdown",
   "id": "92316252",
   "metadata": {
    "hidden": true
   },
   "source": [
    "---"
   ]
  },
  {
   "cell_type": "markdown",
   "id": "8546671a",
   "metadata": {
    "hidden": true
   },
   "source": [
    "Outra forma de definir uma coluna da tabela como chave primaria é:"
   ]
  },
  {
   "cell_type": "code",
   "execution_count": null,
   "id": "0d729cfa",
   "metadata": {
    "hidden": true
   },
   "outputs": [],
   "source": [
    "CREATE TABLE pessoas (\n",
    "    ID int,        \n",
    "    nome VARCHAR(30) NOT NULL,\n",
    "    PRIMARY KEY (ID)             # A coluna ID será a chave primária da tabela pessoas\n",
    ");"
   ]
  },
  {
   "cell_type": "markdown",
   "id": "f3bd1bff",
   "metadata": {
    "hidden": true
   },
   "source": [
    " "
   ]
  },
  {
   "cell_type": "markdown",
   "id": "430b4231",
   "metadata": {
    "heading_collapsed": true,
    "hidden": true
   },
   "source": [
    "### 🔹 Default"
   ]
  },
  {
   "cell_type": "markdown",
   "id": "deea0f38",
   "metadata": {
    "hidden": true
   },
   "source": [
    "Essa constraint especifica um valor padrão para uma coluna. Se um valor não for especificado para essa coluna ao inserir dados, o valor padrão será usado. Por exemplo, se você quiser garantir que a coluna \"nacionalidade\" na tabela \"pessoas\" tenha o valor padrão \"Brasil\", você pode usar a constraint DEFAULT."
   ]
  },
  {
   "cell_type": "code",
   "execution_count": null,
   "id": "3b8d1d1f",
   "metadata": {
    "hidden": true
   },
   "outputs": [],
   "source": [
    "CREATE TABLE pessoas (\n",
    "   ID int NOT NULL,\n",
    "   nome VARCHAR(30) NOT NULL,\n",
    "   nacionalidade VARCHAR(25) DEFAULT 'Brasil' # Se nehuma nacionalidade for especificada a nacionalidade sera Brasil\n",
    ");"
   ]
  },
  {
   "cell_type": "markdown",
   "id": "327918e0",
   "metadata": {
    "hidden": true
   },
   "source": []
  },
  {
   "cell_type": "markdown",
   "id": "d9ed9225",
   "metadata": {
    "hidden": true
   },
   "source": [
    " "
   ]
  },
  {
   "cell_type": "markdown",
   "id": "a822d399",
   "metadata": {
    "heading_collapsed": true,
    "hidden": true
   },
   "source": [
    "### 🔹 Check"
   ]
  },
  {
   "cell_type": "markdown",
   "id": "ac447664",
   "metadata": {
    "hidden": true
   },
   "source": [
    "Essa constraint especifica uma condição que deve ser verificada antes de inserir ou atualizar dados na tabela. Por exemplo, se você quiser garantir que a coluna \"idade\" na tabela \"pessoas\" contenha valores maiores do que 18, você pode usar a constraint CHECK."
   ]
  },
  {
   "cell_type": "code",
   "execution_count": null,
   "id": "54803998",
   "metadata": {
    "hidden": true
   },
   "outputs": [],
   "source": [
    "CREATE TABLE pessoas (\n",
    "    ID int NOT NULL,\n",
    "    nome VARCHAR(30) NOT NULL,\n",
    "    idade int CHECK (idade > 18) # Todo o registro será adicionado somente se a idade for maior que 18\n",
    ");                               # caso contrário nehuma coluna será preenchida."
   ]
  },
  {
   "cell_type": "markdown",
   "id": "2f317f80",
   "metadata": {
    "hidden": true
   },
   "source": [
    " "
   ]
  },
  {
   "cell_type": "markdown",
   "id": "1c390de9",
   "metadata": {
    "heading_collapsed": true,
    "hidden": true
   },
   "source": [
    "### 🔹 Unsigned"
   ]
  },
  {
   "cell_type": "markdown",
   "id": "e61a4f81",
   "metadata": {
    "hidden": true
   },
   "source": [
    "Essa constraint é usada para definir que uma coluna só pode armazenar valores positivos. Ela é comumente usada em colunas numéricas, como INT ou BIGINT."
   ]
  },
  {
   "cell_type": "code",
   "execution_count": null,
   "id": "97ddd176",
   "metadata": {
    "hidden": true
   },
   "outputs": [],
   "source": [
    "CREATE TABLE pessoas (\n",
    "    ID int UNSIGNED,           # O registro não será inserido na tabela caso o id do registro seja negativo.\n",
    "    nome varchar(30) NOT NULL,\n",
    "    idade int UNSIGNED\n",
    ");"
   ]
  },
  {
   "cell_type": "markdown",
   "id": "28e6595e",
   "metadata": {
    "hidden": true
   },
   "source": [
    " "
   ]
  },
  {
   "cell_type": "markdown",
   "id": "240daacb",
   "metadata": {
    "heading_collapsed": true,
    "hidden": true
   },
   "source": [
    "### 🔹 Auto_increment"
   ]
  },
  {
   "cell_type": "markdown",
   "id": "bd8aae98",
   "metadata": {
    "hidden": true
   },
   "source": [
    "Essa constraint é usada para definir uma coluna como auto-incrementável, ou seja, um valor será automaticamente incrementado sempre que uma nova linha for inserida na tabela. É comumente usado para criar campos com valores únicos e incrementais, como ID's."
   ]
  },
  {
   "cell_type": "code",
   "execution_count": null,
   "id": "467a20c0",
   "metadata": {
    "hidden": true
   },
   "outputs": [],
   "source": [
    "CREATE TABLE pessoas (\n",
    "    ID int AUTO_INCREMENT,     \n",
    "    nome VARCHAR(30) NOT NULL,\n",
    "    PRIMARY KEY (ID)\n",
    ");"
   ]
  },
  {
   "cell_type": "markdown",
   "id": "1a5993a6",
   "metadata": {
    "hidden": true
   },
   "source": [
    "---"
   ]
  },
  {
   "cell_type": "markdown",
   "id": "5805d499",
   "metadata": {
    "hidden": true
   },
   "source": [
    "Quando formos adicionar um registro na tabela, podemos colocar no campo onde seria o valor do ID, o comando DEFAULT para que o valor do ID seja preenchido de forma automatica. Por exemplo:"
   ]
  },
  {
   "cell_type": "code",
   "execution_count": null,
   "id": "ecad12fb",
   "metadata": {
    "hidden": true
   },
   "outputs": [],
   "source": [
    "INSERT INTO pessoas VALUES\n",
    "(DEFAULT, 'Huan')"
   ]
  },
  {
   "cell_type": "markdown",
   "id": "e3d6a443",
   "metadata": {
    "hidden": true
   },
   "source": [
    " "
   ]
  },
  {
   "cell_type": "markdown",
   "id": "5350ae40",
   "metadata": {
    "heading_collapsed": true,
    "hidden": true
   },
   "source": [
    "### 🔹 Foreing key"
   ]
  },
  {
   "cell_type": "markdown",
   "id": "f2a32a11",
   "metadata": {
    "hidden": true
   },
   "source": [
    "Essa constraint define uma coluna ou conjunto de colunas como uma chave estrangeira, que faz referência a uma chave primária em outra tabela. Isso garante a integridade referencial entre tabelas. Por exemplo, se você quiser garantir que uma coluna \"id_pessoa\" na tabela \"endereco\" seja uma chave estrangeira que se refere a uma coluna \"ID\" na tabela \"pessoas\", você pode usar a constraint FOREIGN KEY."
   ]
  },
  {
   "cell_type": "code",
   "execution_count": null,
   "id": "2225fc43",
   "metadata": {
    "hidden": true
   },
   "outputs": [],
   "source": [
    "CREATE TABLE endereco (\n",
    "    id_endereco int PRIMARY KEY,\n",
    "    id_pessoa int,\n",
    "    rua VARCHAR(30) NOT NULL,\n",
    "    FOREIGN KEY (id_pessoa) REFERENCES pessoas(ID)\n",
    ");"
   ]
  },
  {
   "cell_type": "markdown",
   "id": "9fd2687f",
   "metadata": {
    "hidden": true
   },
   "source": [
    " "
   ]
  },
  {
   "cell_type": "markdown",
   "id": "0070231b",
   "metadata": {
    "heading_collapsed": true,
    "hidden": true
   },
   "source": [
    "## ✴️ If not exists"
   ]
  },
  {
   "cell_type": "markdown",
   "id": "f7af3052",
   "metadata": {
    "hidden": true
   },
   "source": []
  },
  {
   "cell_type": "markdown",
   "id": "74a2ab51",
   "metadata": {
    "hidden": true
   },
   "source": []
  },
  {
   "cell_type": "markdown",
   "id": "27150671",
   "metadata": {
    "heading_collapsed": true
   },
   "source": [
    "# 💠 Alter table"
   ]
  },
  {
   "cell_type": "markdown",
   "id": "0c1116bd",
   "metadata": {
    "hidden": true
   },
   "source": [
    "O comando **ALTER TABLE** é usado para alterar a estrutura de uma tabela existente no banco de dados. Ele pode ser usado para adicionar ou remover colunas, alterar o tipo de dado das colunas, adicionar ou remover índices e modificar outras propriedades da tabela. Por isso ele precisa de uma ação específica a ser realizada na tabela. Ele não pode ser usado sozinho, sem uma ação específica. Abaixo você pode encontrar algumas cláusulas utilizadas para epecificar qual ação o comando **ALTER TABLE** deve executar."
   ]
  },
  {
   "cell_type": "markdown",
   "id": "c09189f2",
   "metadata": {
    "heading_collapsed": true,
    "hidden": true
   },
   "source": [
    "## ✴️ Add column"
   ]
  },
  {
   "cell_type": "markdown",
   "id": "1c2dcd20",
   "metadata": {
    "hidden": true
   },
   "source": [
    "A cláusula **ADD COLUMN** é utilizada junto com o comando **ALTER TABLE** para adicionar uma nova coluna em uma tabela. Veja o exemplo."
   ]
  },
  {
   "cell_type": "code",
   "execution_count": null,
   "id": "6538a074",
   "metadata": {
    "hidden": true
   },
   "outputs": [],
   "source": [
    "ALTER TABLE pessoas                # Alterar a tabela pessoas\n",
    "ADD COLUMN profissao VARCHAR(10);  # Adcionando uma coluna chamada profissão que possui o tipo de dado varchar(10)"
   ]
  },
  {
   "cell_type": "markdown",
   "id": "80720c93",
   "metadata": {
    "hidden": true
   },
   "source": [
    "Quando adicionamos uma nova coluna em uma tabela que já tem registros, vamos notar que esses registros terão o valor nulo na coluna que acabou de ser adicionada. Vale lembrar que esse código sempre vai adicionar a coluna no final da tabela, ou seja, ela vai ser a utlima coluna da tabela."
   ]
  },
  {
   "cell_type": "markdown",
   "id": "83f1bfdc",
   "metadata": {
    "hidden": true
   },
   "source": [
    " "
   ]
  },
  {
   "cell_type": "markdown",
   "id": "39ee0fe9",
   "metadata": {
    "heading_collapsed": true,
    "hidden": true
   },
   "source": [
    "## ✴️ After"
   ]
  },
  {
   "cell_type": "markdown",
   "id": "7fe9c448",
   "metadata": {
    "hidden": true
   },
   "source": [
    "A cláusula **AFTER** é utilizada junto com a cláusula **ADD COLUMN** e o comando **ALTER TABLE** para adicionar uma nova coluna após outra coluna. Veja o exemplo."
   ]
  },
  {
   "cell_type": "code",
   "execution_count": null,
   "id": "4d7e477e",
   "metadata": {
    "hidden": true
   },
   "outputs": [],
   "source": [
    "ALTER TABLE pessoas\n",
    "ADD COLUMN profissao VARCHAR(10) AFTER nome; # Adicionando a coluna 'profissao' após a coluna 'nome'"
   ]
  },
  {
   "cell_type": "markdown",
   "id": "41b8bbac",
   "metadata": {
    "hidden": true
   },
   "source": [
    " "
   ]
  },
  {
   "cell_type": "markdown",
   "id": "7cf4314f",
   "metadata": {
    "heading_collapsed": true,
    "hidden": true
   },
   "source": [
    "## ✴️ First"
   ]
  },
  {
   "cell_type": "markdown",
   "id": "ba684201",
   "metadata": {
    "hidden": true
   },
   "source": [
    "A cláusula **FIRST** nos ajuda a adicionar uma coluna na primeira posição, ou seja, a coluna adicionada será a primeria da tabela."
   ]
  },
  {
   "cell_type": "code",
   "execution_count": null,
   "id": "7fc28978",
   "metadata": {
    "hidden": true
   },
   "outputs": [],
   "source": [
    "ALTER TABLE pessoas\n",
    "ADD COLUMN profissao VARCHAR(10) FIRST; # Adicionando a coluna 'profissao' na primeira posição"
   ]
  },
  {
   "cell_type": "markdown",
   "id": "a558d057",
   "metadata": {
    "hidden": true
   },
   "source": [
    " "
   ]
  },
  {
   "cell_type": "markdown",
   "id": "df1ff045",
   "metadata": {
    "heading_collapsed": true,
    "hidden": true
   },
   "source": [
    "## ✴️ Drop column"
   ]
  },
  {
   "cell_type": "markdown",
   "id": "bb91a815",
   "metadata": {
    "hidden": true
   },
   "source": [
    "A cláusula **DROP COLUMN** é utilizada junto com o comando **ALTER TABLE** para excluir uma coluna da tabela. A coluna deve ser especificada após a cláusula. "
   ]
  },
  {
   "cell_type": "code",
   "execution_count": null,
   "id": "d61482b6",
   "metadata": {
    "hidden": true
   },
   "outputs": [],
   "source": [
    "ALTER TABLE pessoas\n",
    "DROP COLUMN profissao;  # Excluindo a coluna profissao da tabela pessoas"
   ]
  },
  {
   "cell_type": "markdown",
   "id": "3cdc8a7d",
   "metadata": {
    "hidden": true
   },
   "source": [
    " "
   ]
  },
  {
   "cell_type": "markdown",
   "id": "81db30d2",
   "metadata": {
    "heading_collapsed": true,
    "hidden": true
   },
   "source": [
    "## ✴️ Modify column"
   ]
  },
  {
   "cell_type": "markdown",
   "id": "2788f006",
   "metadata": {
    "hidden": true
   },
   "source": [
    "A cláusula **MODIFY** junto com o comando **ALTER TABLE** nos permite mudar o tipo de dado de uma coluna e suas constraints."
   ]
  },
  {
   "cell_type": "code",
   "execution_count": null,
   "id": "d67994af",
   "metadata": {
    "hidden": true
   },
   "outputs": [],
   "source": [
    "ALTER TABLE pessoas       # Alterar a tabela pessoas\n",
    "MODIFY nome VARCHAR(20);  # Modificando o tipo de dado da coluna 'nome' para 'varchar(20)'"
   ]
  },
  {
   "cell_type": "markdown",
   "id": "849da01e",
   "metadata": {
    "hidden": true
   },
   "source": [
    "É importante lembrar que essa operação pode causar problemas de compatibilidade ou perda de dados se a coluna já contiver dados e o tamanho da coluna for reduzido, portanto é importante ter uma cópia de segurança antes de executar essa operação"
   ]
  },
  {
   "cell_type": "markdown",
   "id": "b64211b6",
   "metadata": {
    "hidden": true
   },
   "source": [
    " ---"
   ]
  },
  {
   "cell_type": "markdown",
   "id": "2d527092",
   "metadata": {
    "hidden": true
   },
   "source": [
    "Podemos adicionar ou alterar as constraints de uma coluna."
   ]
  },
  {
   "cell_type": "code",
   "execution_count": null,
   "id": "338f7509",
   "metadata": {
    "hidden": true
   },
   "outputs": [],
   "source": [
    "ALTER TABLE pessoas\n",
    "MODIFY nome NOT NULL UNIQUE; # Modificando a coluna 'nome' para que ela não receba mais valores nulos\n",
    "                             # e só receba valores unicos"
   ]
  },
  {
   "cell_type": "markdown",
   "id": "7cdc92db",
   "metadata": {
    "hidden": true
   },
   "source": [
    " "
   ]
  },
  {
   "cell_type": "markdown",
   "id": "2a3ae02e",
   "metadata": {
    "heading_collapsed": true,
    "hidden": true
   },
   "source": [
    "## ✴️ Change column"
   ]
  },
  {
   "cell_type": "markdown",
   "id": "79bbf3bd",
   "metadata": {
    "hidden": true
   },
   "source": [
    "O comando **CHANGE** é específico para o **MySQL** e não é parte do **SQL** padrão. Ele é utilizado junto com o comando **ALTER TABLE** para mudar o nome de uma coluna existente e/ou para alterar seu tipo e definições. Sua principal função é mudar o nome de uma coluna, pois as outras funções a cláusula **MODIFY** já faz.\n",
    "\n",
    "Esse comando necessita que você informe o nome antigo da coluna e o nome novo. Além disso, você precisa informar qual é o tipo de dado e as definições da coluna que você está renomenado. É como se você estivesse substuindo a coluna antiga por uma nova que possui o nome atualizado, no entanto o tipo de dado e as definições são as mesmas. Veja o exemplo."
   ]
  },
  {
   "cell_type": "code",
   "execution_count": null,
   "id": "fc7d7001",
   "metadata": {
    "hidden": true
   },
   "outputs": [],
   "source": [
    "CREATE TABLE clientes (\n",
    "    id_cliente int,\n",
    "    nome varchar(20) NOT NULL,\n",
    "    sexo char(1),\n",
    "    estado varchar(30)\n",
    ");\n",
    "\n",
    "\n",
    "ALTER TABLE clientes\n",
    "CHANGE nome nome_cliente varchar(20) NOT NULL; # Renomeando a coluna 'nome' para 'nome_cliente'\n",
    "                                               # e mantedo o tipo de dado e as definições."
   ]
  },
  {
   "cell_type": "markdown",
   "id": "3a2ae036",
   "metadata": {
    "hidden": true
   },
   "source": [
    "---"
   ]
  },
  {
   "cell_type": "markdown",
   "id": "18351fe9",
   "metadata": {
    "hidden": true
   },
   "source": [
    "Podemos usar a cláusula **AFTER** ou **FIRST** junto com o comando **CHANGE** e **ALTER TABLE** para renomear uma coluna e ao mesmo tempo reordena-la."
   ]
  },
  {
   "cell_type": "code",
   "execution_count": null,
   "id": "dbd72837",
   "metadata": {
    "hidden": true
   },
   "outputs": [],
   "source": [
    "ALTER TABLE \n",
    "    clientes\n",
    "CHANGE \n",
    "    nome \n",
    "    nome_cliente \n",
    "    varchar(20) \n",
    "    NOT NULL \n",
    "AFTER \n",
    "    estado; \n",
    "\n",
    "# Renomeando a coluna 'nome' para 'nome_cliente e mantedo o tipo de dado e as definições.\n",
    "# E também nessa mesma operação estamos realocando a coluna 'nome_cliente' para ficar após a coluna estado."
   ]
  },
  {
   "cell_type": "markdown",
   "id": "2277d18b",
   "metadata": {
    "hidden": true
   },
   "source": [
    " "
   ]
  },
  {
   "cell_type": "markdown",
   "id": "02d004ad",
   "metadata": {
    "heading_collapsed": true,
    "hidden": true
   },
   "source": [
    "## ✴️ Rename to"
   ]
  },
  {
   "cell_type": "markdown",
   "id": "e4367719",
   "metadata": {
    "hidden": true
   },
   "source": [
    "O **RENAME TO** é um comando que pode ser utilizado junto com o comando **ALTER TABLE** para renomear uma tabela."
   ]
  },
  {
   "cell_type": "code",
   "execution_count": null,
   "id": "24be087b",
   "metadata": {
    "hidden": true
   },
   "outputs": [],
   "source": [
    "ALTER TABLE pessoas\n",
    "RENAME TO garfanhotos;  # Renomeando a tabela pessoas para garfanhotos"
   ]
  },
  {
   "cell_type": "markdown",
   "id": "f478e931",
   "metadata": {
    "hidden": true
   },
   "source": [
    "---"
   ]
  },
  {
   "cell_type": "markdown",
   "id": "3d04f014",
   "metadata": {
    "hidden": true
   },
   "source": [
    "O comando **RENAME TO** pode ser usado sem o camando **ALTER TABLE** para renomear uma coluna. Veja o exemplo."
   ]
  },
  {
   "cell_type": "code",
   "execution_count": null,
   "id": "0e0f5a50",
   "metadata": {
    "hidden": true
   },
   "outputs": [],
   "source": [
    "RENAME TABLE pessoas TO garfanhotos"
   ]
  },
  {
   "cell_type": "markdown",
   "id": "ec27904e",
   "metadata": {
    "hidden": true
   },
   "source": [
    " "
   ]
  },
  {
   "cell_type": "markdown",
   "id": "43f6df24",
   "metadata": {
    "heading_collapsed": true,
    "hidden": true
   },
   "source": [
    "## ✴️ Add primary key"
   ]
  },
  {
   "cell_type": "markdown",
   "id": "ec92f94a",
   "metadata": {
    "hidden": true
   },
   "source": [
    "A cláusula **ADD PRIMARY KEY** é utilizada junto com o comando **ALTER TABLE** com o intuito criar uma chave primária para uma tabela já existente. Suponha que você tenha criado uma tabela e tenha se esquecido de criar a chave primária ou sua tabela não possui uma chave primária por algum motivo. Você pode usar essa cláusula para poder a partir de uma coluna da tabela criar a chave primária."
   ]
  },
  {
   "cell_type": "code",
   "execution_count": null,
   "id": "b9a638c4",
   "metadata": {
    "hidden": true
   },
   "outputs": [],
   "source": [
    "ALTER TABLE pessoas\n",
    "ADD PRIMARY KEY (idpessoa);"
   ]
  },
  {
   "cell_type": "markdown",
   "id": "57d5c02b",
   "metadata": {
    "hidden": true
   },
   "source": [
    " "
   ]
  },
  {
   "cell_type": "markdown",
   "id": "bfcbec0f",
   "metadata": {
    "heading_collapsed": true
   },
   "source": [
    "# 💠 Drop table"
   ]
  },
  {
   "cell_type": "markdown",
   "id": "200bf7e1",
   "metadata": {
    "hidden": true
   },
   "source": [
    "O comando **DROP TABLE** é utilizado para excluir uma tabela de uma base de dados no MySQL. Ele é composto pelas palavras-chave \"DROP\" e \"TABLE\" e é seguido pelo nome da tabela que deseja excluir. Ele funciona deletando permanentemente a tabela e todos os dados nela contidos, portanto, é importante usar com cuidado"
   ]
  },
  {
   "cell_type": "code",
   "execution_count": null,
   "id": "85d28cb9",
   "metadata": {
    "hidden": true
   },
   "outputs": [],
   "source": [
    "DROP TABLE pessoas;  # Excluindo a tabela pessoas"
   ]
  },
  {
   "cell_type": "markdown",
   "id": "48573aef",
   "metadata": {
    "hidden": true
   },
   "source": [
    " "
   ]
  },
  {
   "cell_type": "markdown",
   "id": "edefe5da",
   "metadata": {
    "heading_collapsed": true,
    "hidden": true
   },
   "source": [
    "## ✴️ If exists"
   ]
  },
  {
   "cell_type": "markdown",
   "id": "d9b70b89",
   "metadata": {
    "hidden": true
   },
   "source": [
    "**IF EXISTS** é uma cláusula que é usada em alguns comandos SQL para indicar que a operação deve ser realizada apenas se o objeto especificado existir."
   ]
  },
  {
   "cell_type": "code",
   "execution_count": null,
   "id": "84cd1775",
   "metadata": {
    "hidden": true
   },
   "outputs": [],
   "source": [
    "DROP TABLE IF EXISTS pessoas;  # Exclui a coluna pessoas só se ela existir, não faz sentido, mas ta ai"
   ]
  },
  {
   "cell_type": "markdown",
   "id": "07e332f5",
   "metadata": {
    "hidden": true
   },
   "source": [
    " "
   ]
  }
 ],
 "metadata": {
  "kernelspec": {
   "display_name": "Python 3 (ipykernel)",
   "language": "python",
   "name": "python3"
  },
  "language_info": {
   "codemirror_mode": {
    "name": "ipython",
    "version": 3
   },
   "file_extension": ".py",
   "mimetype": "text/x-python",
   "name": "python",
   "nbconvert_exporter": "python",
   "pygments_lexer": "ipython3",
   "version": "3.10.6"
  },
  "varInspector": {
   "cols": {
    "lenName": 16,
    "lenType": 16,
    "lenVar": 40
   },
   "kernels_config": {
    "python": {
     "delete_cmd_postfix": "",
     "delete_cmd_prefix": "del ",
     "library": "var_list.py",
     "varRefreshCmd": "print(var_dic_list())"
    },
    "r": {
     "delete_cmd_postfix": ") ",
     "delete_cmd_prefix": "rm(",
     "library": "var_list.r",
     "varRefreshCmd": "cat(var_dic_list()) "
    }
   },
   "types_to_exclude": [
    "module",
    "function",
    "builtin_function_or_method",
    "instance",
    "_Feature"
   ],
   "window_display": false
  }
 },
 "nbformat": 4,
 "nbformat_minor": 5
}
