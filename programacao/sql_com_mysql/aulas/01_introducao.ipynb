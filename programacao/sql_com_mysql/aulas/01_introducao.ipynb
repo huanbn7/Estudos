{
 "cells": [
  {
   "cell_type": "markdown",
   "id": "223a2b53",
   "metadata": {
    "heading_collapsed": true
   },
   "source": [
    "# 💠 SQL"
   ]
  },
  {
   "cell_type": "markdown",
   "id": "04db9de6",
   "metadata": {
    "heading_collapsed": true,
    "hidden": true
   },
   "source": [
    "## ✴️ O que é?"
   ]
  },
  {
   "cell_type": "markdown",
   "id": "2b2d7940",
   "metadata": {
    "hidden": true
   },
   "source": [
    "**SQL**, ou **Structured Query Language**, é uma linguagem de consulta utilizada para gerenciar bancos de dados relacionais. Ela é utilizada para criar, manipular e buscar informações em bancos de dados. O SQL é composto por uma sintaxe simples e fácil de aprender, e é **amplamente utilizado em sistemas de gerenciamento de banco de dados relacionais (RDBMS)** como MySQL, Oracle, Microsoft SQL Server, PostgreSQL, entre outros."
   ]
  },
  {
   "cell_type": "markdown",
   "id": "cf428b40",
   "metadata": {
    "hidden": true
   },
   "source": [
    "A principal função do SQL é permitir que os usuários acessem e manipulem os dados armazenados em um banco de dados. Ele permite realizar ações como:\n",
    "\n",
    "- **Criação de tabelas**: O SQL permite criar tabelas no banco de dados para armazenar informações.\n",
    "- **Inserção de dados**: O SQL permite inserir dados em tabelas já existentes.\n",
    "- **Atualização de dados**: O SQL permite atualizar dados já existentes em tabelas.\n",
    "- **Exclusão de dados**: O SQL permite excluir dados de tabelas.\n",
    "- **Busca de dados**: O SQL permite buscar e recuperar dados de tabelas de acordo com critérios específicos."
   ]
  },
  {
   "cell_type": "markdown",
   "id": "a9b1ce2c",
   "metadata": {
    "cell_style": "center",
    "hidden": true
   },
   "source": [
    "Além dessas ações básicas, o SQL também oferece recursos avançados para gerenciamento de bancos de dados, como:\n",
    "\n",
    "- **Junções**: O SQL permite juntar informações de várias tabelas para recuperar dados relacionados.\n",
    "- **Agrupamento**: O SQL permite agrupar dados de uma tabela para obter estatísticas e resumos.\n",
    "- **Indexação**: O SQL permite criar índices para melhorar a velocidade de busca de dados."
   ]
  },
  {
   "cell_type": "markdown",
   "id": "c3538f70",
   "metadata": {
    "hidden": true
   },
   "source": [
    "Em resumo, o SQL é uma linguagem de programação, voltada para armazenamento e manipulação de dados, fundamental para gerenciar bancos de dados relacionais, permitindo acessar, manipular e buscar informações de forma eficiente. Ele é amplamente utilizado em sistemas de gerenciamento de banco de dados relacionais (RDBMS) e é uma habilidade valiosa para desenvolvedores, administradores de banco de dados e outros profissionais da tecnologia da informação."
   ]
  },
  {
   "cell_type": "markdown",
   "id": "31824f09",
   "metadata": {
    "heading_collapsed": true,
    "hidden": true
   },
   "source": [
    "## ✴️ Divisão do SQL"
   ]
  },
  {
   "cell_type": "markdown",
   "id": "8fd80411",
   "metadata": {
    "hidden": true
   },
   "source": [
    "A linguagem SQL é dividida em três partes principais:"
   ]
  },
  {
   "cell_type": "markdown",
   "id": "8cbe360b",
   "metadata": {
    "hidden": true
   },
   "source": [
    "**Linguagem de Definição de Dados (DDL)**: Essa parte do SQL é utilizada para criar e modificar estruturas de banco de dados, como tabelas, índices e relações. Comandos como CREATE, ALTER e DROP são usados na DDL."
   ]
  },
  {
   "cell_type": "markdown",
   "id": "a95ae759",
   "metadata": {
    "hidden": true
   },
   "source": [
    "**Linguagem de Manipulação de Dados (DML)**: Essa parte do SQL é usada para inserir, atualizar e excluir dados de tabelas. Comandos como SELECT, INSERT, UPDATE e DELETE são usados na DML."
   ]
  },
  {
   "cell_type": "markdown",
   "id": "02208ddf",
   "metadata": {
    "hidden": true
   },
   "source": [
    "**Linguagem de Controle de Dados (DCL)**: Essa parte do SQL é usada para controlar o acesso aos dados, como criar usuários, definir permissões e gerenciar transações. Comandos como GRANT, REVOKE e COMMIT são usados na DCL."
   ]
  },
  {
   "cell_type": "markdown",
   "id": "be59c2b0",
   "metadata": {
    "hidden": true
   },
   "source": [
    "Além dessas três partes principais, o SQL também inclui outras funcionalidades como o uso de procedimentos armazenados, gatilhos, cursores e outras funcionalidades avançadas."
   ]
  },
  {
   "cell_type": "markdown",
   "id": "5c2ecec3",
   "metadata": {
    "heading_collapsed": true
   },
   "source": [
    "# 💠 SGBD"
   ]
  },
  {
   "cell_type": "markdown",
   "id": "c38754ab",
   "metadata": {
    "hidden": true
   },
   "source": [
    "**Um SGDB é um software que permite armazenar, gerenciar e recuperar dados de forma organizada e segura**. Ele é composto por um conjunto de ferramentas e recursos para criar e manipular bancos de dados, incluindo tabelas, índices, relações e regras de integridade.\n",
    "\n",
    "Imagine que você tem uma loja e quer registrar as informações de todos os seus clientes, como seus nomes, endereços, telefones e histórico de compras. Você pode fazer isso escrevendo tudo em papéis ou planilhas, mas com o tempo, isso pode se tornar difícil de gerenciar e encontrar as informações que você precisa."
   ]
  },
  {
   "cell_type": "markdown",
   "id": "521aefa7",
   "metadata": {
    "hidden": true
   },
   "source": [
    "Com um SGDB, você pode criar tabelas para armazenar as informações dos clientes, e usar comandos SQL para inserir, atualizar, excluir e buscar essas informações de maneira rápida e eficiente. Além disso, ele permite acesso simultâneo aos dados por vários usuários, garante a segurança dos dados, e oferece ferramentas para backup e recuperação de dados.\n",
    "\n",
    "**Existem vários tipos de SGDBs, mas os mais comuns são os sistemas de gerenciamento de banco de dados relacionais (RDBMS), que seguem o modelo de dados relacional, que organiza os dados em tabelas relacionadas entre si**. Exemplos de RDBMS incluem MySQL, Oracle, Microsoft SQL Server e PostgreSQL."
   ]
  },
  {
   "cell_type": "markdown",
   "id": "f608fdcd",
   "metadata": {
    "hidden": true
   },
   "source": [
    "Cada RDBMS tem suas próprias características e funcionalidades, mas todos eles fornecem ferramentas para criar e gerenciar bancos de dados e tabelas, inserir, atualizar e excluir dados, buscar dados de acordo com critérios específicos, e garantir a segurança dos dados.\n",
    "\n",
    "Além disso, eles oferecem recursos avançados como o uso de procedimentos armazenados, gatilhos, cursores, e outras funcionalidades avançadas."
   ]
  },
  {
   "cell_type": "markdown",
   "id": "c860ffe9",
   "metadata": {
    "hidden": true
   },
   "source": [
    "Por exemplo, o MySQL é um dos SGDBs mais populares e é amplamente utilizado em aplicações web e aplicativos móveis. Ele é de código aberto e é gratuito para uso comercial e não comercial. O Oracle é outro exemplo de SGDB, é amplamente utilizado em aplicações empresariais e é oferecido como um software comercial.\n",
    "\n",
    "**Em resumo, um SGDB é uma ferramenta essencial para gerenciar e armazenar grandes quantidades de dados de forma organizada e segura, permitindo acesso, manipulação e busca de informações de forma eficiente.**"
   ]
  },
  {
   "cell_type": "markdown",
   "id": "8c16d5bf",
   "metadata": {
    "hidden": true
   },
   "source": [
    " "
   ]
  },
  {
   "cell_type": "markdown",
   "id": "423195da",
   "metadata": {
    "heading_collapsed": true
   },
   "source": [
    "# 💠 Comando simples"
   ]
  },
  {
   "cell_type": "markdown",
   "id": "69f2ed91",
   "metadata": {
    "hidden": true
   },
   "source": [
    "Esse comando mostra em qual database você está."
   ]
  },
  {
   "cell_type": "code",
   "execution_count": null,
   "id": "29448b64",
   "metadata": {
    "hidden": true
   },
   "outputs": [],
   "source": [
    "STATUS;"
   ]
  },
  {
   "cell_type": "markdown",
   "id": "fb1d1fa6",
   "metadata": {
    "hidden": true
   },
   "source": [
    " "
   ]
  },
  {
   "cell_type": "markdown",
   "id": "d81346d7",
   "metadata": {
    "hidden": true
   },
   "source": [
    "Esse comando serve para voce entrar em algum database."
   ]
  },
  {
   "cell_type": "code",
   "execution_count": null,
   "id": "8dacdc8b",
   "metadata": {
    "hidden": true
   },
   "outputs": [],
   "source": [
    "USE nomedodatabase;"
   ]
  },
  {
   "cell_type": "markdown",
   "id": "84269209",
   "metadata": {
    "hidden": true
   },
   "source": [
    " "
   ]
  },
  {
   "cell_type": "markdown",
   "id": "40f1c4a9",
   "metadata": {
    "hidden": true
   },
   "source": [
    "Esse comando serve para você visuslisar quais databeses existem na sua maquina."
   ]
  },
  {
   "cell_type": "code",
   "execution_count": null,
   "id": "923d2fd5",
   "metadata": {
    "hidden": true
   },
   "outputs": [],
   "source": [
    "SHOW DATABASES;"
   ]
  },
  {
   "cell_type": "markdown",
   "id": "cd15ba12",
   "metadata": {
    "hidden": true
   },
   "source": [
    " "
   ]
  },
  {
   "cell_type": "markdown",
   "id": "b9e8c9ca",
   "metadata": {
    "hidden": true
   },
   "source": [
    "Esse comando serve para voce visulisar quasi tabelas existem na sua database."
   ]
  },
  {
   "cell_type": "code",
   "execution_count": null,
   "id": "829ae3fd",
   "metadata": {
    "hidden": true
   },
   "outputs": [],
   "source": [
    "SHOW TABLES;"
   ]
  },
  {
   "cell_type": "markdown",
   "id": "bc70e292",
   "metadata": {
    "hidden": true
   },
   "source": [
    " "
   ]
  },
  {
   "cell_type": "markdown",
   "id": "d47e2531",
   "metadata": {
    "hidden": true
   },
   "source": [
    "Esse comando serve para descrever a sua tabela, como o nome de cada campo (coluna), o tipo de dado que aquele campo suporta e mais."
   ]
  },
  {
   "cell_type": "code",
   "execution_count": null,
   "id": "7e49c7d5",
   "metadata": {
    "hidden": true
   },
   "outputs": [],
   "source": [
    "DESC nomedatabela;\n",
    "\n",
    "# ou\n",
    "\n",
    "DESCRIBE nomedatabela;"
   ]
  },
  {
   "cell_type": "markdown",
   "id": "b5bfb016",
   "metadata": {
    "hidden": true
   },
   "source": [
    " "
   ]
  }
 ],
 "metadata": {
  "kernelspec": {
   "display_name": "Python 3 (ipykernel)",
   "language": "python",
   "name": "python3"
  },
  "language_info": {
   "codemirror_mode": {
    "name": "ipython",
    "version": 3
   },
   "file_extension": ".py",
   "mimetype": "text/x-python",
   "name": "python",
   "nbconvert_exporter": "python",
   "pygments_lexer": "ipython3",
   "version": "3.10.6"
  },
  "varInspector": {
   "cols": {
    "lenName": 16,
    "lenType": 16,
    "lenVar": 40
   },
   "kernels_config": {
    "python": {
     "delete_cmd_postfix": "",
     "delete_cmd_prefix": "del ",
     "library": "var_list.py",
     "varRefreshCmd": "print(var_dic_list())"
    },
    "r": {
     "delete_cmd_postfix": ") ",
     "delete_cmd_prefix": "rm(",
     "library": "var_list.r",
     "varRefreshCmd": "cat(var_dic_list()) "
    }
   },
   "types_to_exclude": [
    "module",
    "function",
    "builtin_function_or_method",
    "instance",
    "_Feature"
   ],
   "window_display": false
  }
 },
 "nbformat": 4,
 "nbformat_minor": 5
}
