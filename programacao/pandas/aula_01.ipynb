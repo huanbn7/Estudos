{
 "cells": [
  {
   "cell_type": "code",
   "execution_count": 1,
   "id": "72573bd3",
   "metadata": {
    "ExecuteTime": {
     "end_time": "2023-01-22T13:50:42.246544Z",
     "start_time": "2023-01-22T13:50:41.888854Z"
    }
   },
   "outputs": [],
   "source": [
    "import pandas as pd\n",
    "import random as rd"
   ]
  },
  {
   "cell_type": "markdown",
   "id": "868cc62a",
   "metadata": {
    "heading_collapsed": true
   },
   "source": [
    "# 🎯 Introdução"
   ]
  },
  {
   "cell_type": "markdown",
   "id": "3db434ab",
   "metadata": {
    "heading_collapsed": true,
    "hidden": true
   },
   "source": [
    "##  👾 <font size=5>Porque pandas?<font>"
   ]
  },
  {
   "cell_type": "markdown",
   "id": "ceca2fa5",
   "metadata": {
    "hidden": true
   },
   "source": [
    "- [Pandas](https://pandas.pydata.org/) é um pacote que oferece estrutura de dados rapidas, fexiveis e expressivas projetadas para tornar o trabalho com dados \"Relacionais\" ou \"Rotulados/Indexados\" fácil e intuitivo. \n",
    "\n",
    "- O pandas é a biblioteca mais utilizada para manipulação de dados.\n",
    "\n",
    "- Tem uma sintaxe simples.\n",
    "\n",
    "- Possui comandos muito importante para tratar e tirar insights."
   ]
  },
  {
   "cell_type": "markdown",
   "id": "0944c5e6",
   "metadata": {
    "heading_collapsed": true,
    "hidden": true
   },
   "source": [
    "##  👾 <font size=5>O que é o pandas?<font>"
   ]
  },
  {
   "cell_type": "markdown",
   "id": "8f8a6ab4",
   "metadata": {
    "hidden": true
   },
   "source": [
    "- O pandas é uma biblioteca python criada por Wes Mckinney.\n",
    "- Por debaixo do panos o pandas utiliza o numpy para ser mais eficiente e muitos dos seus bits algoritmicos de baixo nivel foram extensivamente ajustados no código Cython. \n",
    "- Cria e manipula estruturas unidimencionais e bidimensionais.\n",
    "- Tem integração com matplotlib para visualização de dados.\n",
    "- Fornece muitas funcionalidadades para a preparação de dados: reshaping, merging, ordenação, slince, agregação, etc.\n",
    "- Permite a crição de novas colunas derivadas (muito importante para machine learning).\n",
    "- Permite o tratamento de dados faltantes (também essencial para machine learning)."
   ]
  },
  {
   "cell_type": "markdown",
   "id": "ad69b3d7",
   "metadata": {
    "heading_collapsed": true,
    "hidden": true
   },
   "source": [
    "##  👾 <font size=5>Estrutura de dados do pandas<font>"
   ]
  },
  {
   "cell_type": "markdown",
   "id": "65f04195",
   "metadata": {
    "hidden": true
   },
   "source": [
    "As duas estrutura de dados primária do pandas são:\n",
    "- Series: Array de tipo homogêneo rotulado e contém 1 dimensão.\n",
    "- DataFrame: Estrutura tabular de tamanho mutável e rotulado, contém 2 dimenções com coluna potencialmente heterogênea.\n",
    "\n",
    "Todas as estruturas de dados pandas são mutáveis em valor (os valores que elas contém podem ser alterados), mas nem sempre mutáveis em tamanho. O comprimento de uma \"Series\" não pode ser alterado, mas por exemplo, colunas podem ser inseridas em um DataFrame, no entanto a grande maioria dos métodos produz novos objetos.\n",
    "\n",
    "Veremos mais sobre essas dus estruturas mais adiante."
   ]
  },
  {
   "cell_type": "markdown",
   "id": "870fb71a",
   "metadata": {
    "heading_collapsed": true,
    "hidden": true
   },
   "source": [
    "##  👾 <font size=5>O necessário para manipular dados no pandas<font>"
   ]
  },
  {
   "cell_type": "markdown",
   "id": "6fdf5baf",
   "metadata": {
    "hidden": true
   },
   "source": [
    "* Criação de objetos\n",
    "* Entrada e saída de dados\n",
    "* Visualizando dados\n",
    "* Gráficos\n",
    "* Seleção\n",
    "* Operações\n",
    "* Agregações e Junções (Merge vs Join)\n",
    "* Agrupamento (Grouping)\n",
    "* Remodelagem\n",
    "* Dados ausentes\n",
    "* Séries Temporais\n",
    "* Categóricos\n",
    "* Lidando com Erros"
   ]
  },
  {
   "cell_type": "markdown",
   "id": "dbadb2e3",
   "metadata": {
    "heading_collapsed": true
   },
   "source": [
    "# 🎯 Instalação"
   ]
  },
  {
   "cell_type": "markdown",
   "id": "a916bf19",
   "metadata": {
    "hidden": true
   },
   "source": [
    "Para instalar o pandas existem várias maneiras, a que eu vou apresentar você vai precisar ter o jupyter [notebook](https://jupyter.org/install#jupyter-notebook) e o [python](https://www.python.org/downloads/) instalados."
   ]
  },
  {
   "cell_type": "markdown",
   "id": "2babbb29",
   "metadata": {
    "hidden": true
   },
   "source": [
    "Agora você abre o jupyter e roda esse comando para instalar o pandas."
   ]
  },
  {
   "cell_type": "code",
   "execution_count": 1,
   "id": "ba64c6dc",
   "metadata": {
    "ExecuteTime": {
     "end_time": "2022-10-20T21:27:33.780474Z",
     "start_time": "2022-10-20T21:27:32.846937Z"
    },
    "hidden": true
   },
   "outputs": [
    {
     "name": "stdout",
     "output_type": "stream",
     "text": [
      "Defaulting to user installation because normal site-packages is not writeable\n",
      "Requirement already satisfied: pandas in /home/audax/.local/lib/python3.10/site-packages (1.4.4)\n",
      "Requirement already satisfied: numpy>=1.21.0 in /home/audax/.local/lib/python3.10/site-packages (from pandas) (1.23.2)\n",
      "Requirement already satisfied: python-dateutil>=2.8.1 in /home/audax/.local/lib/python3.10/site-packages (from pandas) (2.8.2)\n",
      "Requirement already satisfied: pytz>=2020.1 in /home/audax/.local/lib/python3.10/site-packages (from pandas) (2022.2.1)\n",
      "Requirement already satisfied: six>=1.5 in /usr/lib/python3.10/site-packages (from python-dateutil>=2.8.1->pandas) (1.16.0)\n"
     ]
    }
   ],
   "source": [
    "!pip install pandas"
   ]
  },
  {
   "cell_type": "markdown",
   "id": "78c07afa",
   "metadata": {
    "ExecuteTime": {
     "end_time": "2022-10-04T23:42:41.746363Z",
     "start_time": "2022-10-04T23:42:41.736161Z"
    },
    "hidden": true
   },
   "source": [
    "Rode esse outro comando para conferir a versão do pandas"
   ]
  },
  {
   "cell_type": "code",
   "execution_count": 2,
   "id": "eb69e4fe",
   "metadata": {
    "ExecuteTime": {
     "end_time": "2022-10-20T21:27:33.991551Z",
     "start_time": "2022-10-20T21:27:33.786138Z"
    },
    "hidden": true
   },
   "outputs": [
    {
     "data": {
      "text/plain": [
       "'1.4.4'"
      ]
     },
     "execution_count": 2,
     "metadata": {},
     "output_type": "execute_result"
    }
   ],
   "source": [
    "import pandas\n",
    "pandas.__version__"
   ]
  },
  {
   "cell_type": "markdown",
   "id": "2fb31067",
   "metadata": {
    "heading_collapsed": true
   },
   "source": [
    "# 🎯 Convenção de importação"
   ]
  },
  {
   "cell_type": "markdown",
   "id": "cce78954",
   "metadata": {
    "hidden": true
   },
   "source": [
    "O acordo feito pela comunidade pandas escolheu o apelido 'pd' como padrão para utilizar na hora da importação. Para que outras pessoas possam ler o seu código sem dificuldades é bom usar pd."
   ]
  },
  {
   "cell_type": "code",
   "execution_count": 3,
   "id": "65fe6a34",
   "metadata": {
    "ExecuteTime": {
     "end_time": "2022-10-20T21:27:33.997469Z",
     "start_time": "2022-10-20T21:27:33.993824Z"
    },
    "hidden": true
   },
   "outputs": [],
   "source": [
    "import pandas as pd "
   ]
  }
 ],
 "metadata": {
  "kernelspec": {
   "display_name": "Python 3 (ipykernel)",
   "language": "python",
   "name": "python3"
  },
  "language_info": {
   "codemirror_mode": {
    "name": "ipython",
    "version": 3
   },
   "file_extension": ".py",
   "mimetype": "text/x-python",
   "name": "python",
   "nbconvert_exporter": "python",
   "pygments_lexer": "ipython3",
   "version": "3.11.1"
  },
  "varInspector": {
   "cols": {
    "lenName": 16,
    "lenType": 16,
    "lenVar": 40
   },
   "kernels_config": {
    "python": {
     "delete_cmd_postfix": "",
     "delete_cmd_prefix": "del ",
     "library": "var_list.py",
     "varRefreshCmd": "print(var_dic_list())"
    },
    "r": {
     "delete_cmd_postfix": ") ",
     "delete_cmd_prefix": "rm(",
     "library": "var_list.r",
     "varRefreshCmd": "cat(var_dic_list()) "
    }
   },
   "types_to_exclude": [
    "module",
    "function",
    "builtin_function_or_method",
    "instance",
    "_Feature"
   ],
   "window_display": false
  }
 },
 "nbformat": 4,
 "nbformat_minor": 5
}
