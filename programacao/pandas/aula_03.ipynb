{
 "cells": [
  {
   "cell_type": "code",
   "execution_count": 1,
   "id": "16491f11",
   "metadata": {
    "ExecuteTime": {
     "end_time": "2023-01-22T13:52:45.569338Z",
     "start_time": "2023-01-22T13:52:45.405181Z"
    }
   },
   "outputs": [],
   "source": [
    "import pandas as pd\n",
    "import random as rd"
   ]
  },
  {
   "cell_type": "markdown",
   "id": "b00d1246",
   "metadata": {
    "heading_collapsed": true
   },
   "source": [
    "# 🎯 Importando conjunto de dados "
   ]
  },
  {
   "cell_type": "markdown",
   "id": "a715e8de",
   "metadata": {
    "hidden": true
   },
   "source": [
    "<br>\n",
    "O pandas oferece uma variedade de métodos que serve para ler um arquivo e transforma-lo em uma tabela (DataFrame). Veja alguns:\n",
    "    "
   ]
  },
  {
   "cell_type": "markdown",
   "id": "d2044329",
   "metadata": {
    "hidden": true
   },
   "source": [
    "- [pd.read_csv](https://pandas.pydata.org/docs/reference/api/pandas.read_csv.html?highlight=pandas%20read_) \n",
    "- [pd.read_excel](https://pandas.pydata.org/docs/reference/api/pandas.read_excel.html?highlight=pandas%20read_) \n",
    "- [pd.read_json](https://pandas.pydata.org/docs/reference/api/pandas.read_json.html?highlight=pandas%20read_) \n",
    "- [pd.read_html](https://pandas.pydata.org/docs/reference/api/pandas.read_html.html?highlight=pandas%20read_) \n",
    "- [pd.read_sas](https://pandas.pydata.org/docs/reference/api/pandas.read_sas.html?highlight=pandas%20read_) \n",
    "- [pd.read_sql](https://pandas.pydata.org/docs/reference/api/pandas.read_sql.html?highlight=pandas%20read_) \n",
    "- [pd.read_table](https://pandas.pydata.org/docs/reference/api/pandas.read_table.html?highlight=pandas%20read_) "
   ]
  },
  {
   "cell_type": "markdown",
   "id": "13b0605d",
   "metadata": {
    "hidden": true
   },
   "source": [
    "\n",
    "Cada método foi criado para ler um tipo de arquivo e por isso tem suas particularidades, devido ao nome dos métodos fica facil entender pra qual tipo de arquivo ele serve. Abaixo segue a explicação de alguns desses métodos.<br><br>"
   ]
  },
  {
   "cell_type": "markdown",
   "id": "4b12f85a",
   "metadata": {
    "heading_collapsed": true,
    "hidden": true
   },
   "source": [
    "## 👾 <font size=5>read_csv<font>"
   ]
  },
  {
   "cell_type": "markdown",
   "id": "709ee644",
   "metadata": {
    "hidden": true
   },
   "source": [
    "\n",
    "\n",
    "### O que esse método faz?\n",
    "\n",
    "A maioria dos dados está disponivel em um formato tabular (linhas e colunas) de arquivos CSV. É muito popular. Por isso o pandas despolibiliza o método pd.read_csv, que importa um arquivo csv para o formato DataFrame. Também suporta iterar ou dividir o arquivo em partes. Caso você queira aprender como ler um arquivo CSV sem usar o pandas, o link está [aqui](https://www.youtube.com/watch?v=AnJPtKLtc7o&ab_channel=HashtagPrograma%C3%A7%C3%A3o).\n",
    "\n",
    "### O que é um arquivo CSV?\n",
    "\n",
    "CSV é a sigla para 'Comma Separated Values' (em português, valores separados por virgula). Um arquivo CSV é um arquivo de texto que organiza informações reparados por virgula em 2 dimenções, ou seja, linhas e colunas. O conteúdo geralmente são textos números ou datas. Os arquivos CSV podem ser facilmente importados e exportados usando programas que armazenam dados em tabelas.\n",
    "\n",
    "### Como um arquivo CSV é organizado?\n",
    "\n",
    "Em geral a primeira linha contém os rótulos das colunas das tabelas. Cada uma das linhas subsequentes representam uma linha da tabela. Virgulas separam cada valor da linha, o que é motivo para o nome do formato.\n",
    "\n",
    "Aqui temos um exemplo de um arquivo CSV. O exemplo tem 3 colunas, com os rótulos nome, idade e comida favorita. Temos 5 linhas incluindo a linha do cabeçalho."
   ]
  },
  {
   "cell_type": "code",
   "execution_count": null,
   "id": "d9bdf902",
   "metadata": {
    "ExecuteTime": {
     "end_time": "2022-10-20T21:27:35.315228Z",
     "start_time": "2022-10-20T21:27:35.315218Z"
    },
    "hidden": true
   },
   "outputs": [],
   "source": [
    "nome, idade, comida favorita\n",
    "huan barros, 18, muita coisa\n",
    "joão polinario, 15, pizza\n",
    "ana barretos, 17, lasanha\n",
    "marcos silva, 13, sorvete"
   ]
  },
  {
   "cell_type": "markdown",
   "id": "4a7bcacb",
   "metadata": {
    "hidden": true
   },
   "source": [
    "\n",
    "### Parâmetros\n",
    "\n",
    "Os parâmetros que esse método pode receber são inumeros, por isso separamos somente os que você provavelmente precisa conhecer no inicio. Mas, caso você queira conhecer todos os parâmetros o link está [aqui](https://pandas.pydata.org/docs/reference/api/pandas.read_csv.html#pandas.read_csv). <br><br>\n",
    "\n",
    "### <font color=purple>pd.read_csv (<font> \n",
    "<br>\n",
    "\n",
    "**filepath_or_buffer**<br>\n",
    "**sep** = ',' <br>\n",
    "**header** = 'infer' <br>\n",
    "**names** = _NoDefault.no_default <br>\n",
    "**index_col** = None <br>\n",
    "**usecols** = None <br>\n",
    "**dtype** = None <br> \n",
    "**converters** = None <br>\n",
    "**skiprows** = None <br>\n",
    "**skipfooter** = 0 <br>\n",
    "**nrows** = None <br>\n",
    "**na_values** = None <br>\n",
    "**skip_blank_lines** = True\n",
    "\n",
    "\n",
    "### <font color=purple>) <font> <br>\n",
    "\n"
   ]
  },
  {
   "cell_type": "markdown",
   "id": "9d3c1a5c",
   "metadata": {
    "hidden": true
   },
   "source": [
    "\n",
    "### <font color=purple>filepath_or_buffer : str<font>"
   ]
  },
  {
   "cell_type": "markdown",
   "id": "21c2b828",
   "metadata": {
    "hidden": true
   },
   "source": [
    "Esse parâmetro é a localização do **arquivo.csv** e deve ser passado no formato de uma string. Se o **arquivo.csv** estiver no mesmo diretório do projeto será necessário ser passado apenas o nome do arquivo, caso contrário você terá que passar o caminho completo da base do seu sistema de arquivos para o **arquivo.csv** que você deseja carregar, por exemplo, /home/audax/Downloads/test_file.csv . Esse parâmetro também aceita a URL do arquivo como localização."
   ]
  },
  {
   "cell_type": "code",
   "execution_count": null,
   "id": "549ab7d6",
   "metadata": {
    "ExecuteTime": {
     "end_time": "2022-10-20T21:27:35.315750Z",
     "start_time": "2022-10-20T21:27:35.315741Z"
    },
    "hidden": true
   },
   "outputs": [],
   "source": [
    "import pandas as pd"
   ]
  },
  {
   "cell_type": "code",
   "execution_count": null,
   "id": "21b68818",
   "metadata": {
    "ExecuteTime": {
     "end_time": "2022-10-20T21:27:35.316226Z",
     "start_time": "2022-10-20T21:27:35.316218Z"
    },
    "hidden": true
   },
   "outputs": [],
   "source": [
    "df = pd.read_csv('base-de-dados/teste1.csv')\n",
    "df"
   ]
  },
  {
   "cell_type": "markdown",
   "id": "2de3fc45",
   "metadata": {
    "hidden": true
   },
   "source": [
    " <br>"
   ]
  },
  {
   "cell_type": "markdown",
   "id": "c242d3c6",
   "metadata": {
    "hidden": true
   },
   "source": [
    "\n",
    "### <font color=purple>sep : str<font>"
   ]
  },
  {
   "cell_type": "markdown",
   "id": "15d45e3e",
   "metadata": {
    "hidden": true
   },
   "source": [
    "Significa um separador, que serve para separar os valores de cada linha de um arquivo.csv, o padrão é uma vírgula. No entanto pode haver arquivos com o sepador diferente da virgula, como por exemplo, dois pontos, a barra vertical e muitos outros. Nesse caso é necessário indicar ao parâmetro **sep** que separador é esse."
   ]
  },
  {
   "cell_type": "code",
   "execution_count": null,
   "id": "380686b3",
   "metadata": {
    "ExecuteTime": {
     "end_time": "2022-10-20T21:27:35.316807Z",
     "start_time": "2022-10-20T21:27:35.316797Z"
    },
    "hidden": true
   },
   "outputs": [],
   "source": [
    "# o arquivo usa a barra vertical como separador\n",
    "df = pd.read_csv('base-de-dados/teste2.csv', sep='|')\n",
    "df"
   ]
  },
  {
   "cell_type": "markdown",
   "id": "e35d9406",
   "metadata": {
    "hidden": true
   },
   "source": [
    " <br>"
   ]
  },
  {
   "cell_type": "markdown",
   "id": "ebc11ef1",
   "metadata": {
    "hidden": true
   },
   "source": [
    "É possivel haver mais de um tipo de separador em um arquivo CSV. Por isso o pandas dispolibiliza 3 mecanismos diferentes para o analisador de arquivos CSV. Os mecanismos C, pyarrow e python. C e pyarrow são mais rápidos ná hora de ler o arquivo e separar os valores, no entato eles não conseguem ler arquivos que tenham mais de 1 separador. Já o mecanismo python é atualmente mais completo e é capaz de ler arquivos CSV com mais de 1 separador, no entanto deixa a dejar na sua velocidade.\n",
    "\n",
    "Para usar o pyarrow é necessário fazer a instalação do pyarrow.csv via pip ou conda. Os outros não precisa.\n",
    "\n",
    "Para escolher o mecanismo que você quer usar o pandas disponibilizou o parametro **engine**, que recebe uma str com o nome do mecanismo.<br>\n",
    "\n"
   ]
  },
  {
   "cell_type": "code",
   "execution_count": null,
   "id": "d8178577",
   "metadata": {
    "ExecuteTime": {
     "end_time": "2022-10-20T21:27:35.317697Z",
     "start_time": "2022-10-20T21:27:35.317687Z"
    },
    "hidden": true
   },
   "outputs": [],
   "source": [
    "# é necessário passar os separadores dentro de colchetes, e o tipo do dado tem que ser str\n",
    "df = pd.read_csv('base-de-dados/teste3.csv', sep='[,|:]', engine='python')\n",
    "df"
   ]
  },
  {
   "cell_type": "markdown",
   "id": "f18eaf83",
   "metadata": {
    "hidden": true
   },
   "source": [
    " <br>"
   ]
  },
  {
   "cell_type": "markdown",
   "id": "c672409f",
   "metadata": {
    "hidden": true
   },
   "source": [
    "\n",
    "### <font color=purple>header  : int, list of int<font>"
   ]
  },
  {
   "cell_type": "markdown",
   "id": "8049f9a0",
   "metadata": {
    "hidden": true
   },
   "source": [
    "Serve para especificar qual linha do seu arquivo será usada como os rótulos das colunas do seu DataFrame. É esperado um valor int ou uma lista de valores int. O valor padrão é **_header=0_**."
   ]
  },
  {
   "cell_type": "code",
   "execution_count": null,
   "id": "5ee9c698",
   "metadata": {
    "ExecuteTime": {
     "end_time": "2022-10-20T21:27:35.318179Z",
     "start_time": "2022-10-20T21:27:35.318171Z"
    },
    "hidden": true,
    "scrolled": false
   },
   "outputs": [],
   "source": [
    "# Escolhendo a 4ª linha do arquivo como cabeçalho\n",
    "df = pd.read_csv('base-de-dados/teste1.csv', header=3)\n",
    "df"
   ]
  },
  {
   "cell_type": "markdown",
   "id": "c9a6ffc7",
   "metadata": {
    "hidden": true
   },
   "source": [
    " "
   ]
  },
  {
   "cell_type": "code",
   "execution_count": null,
   "id": "4ffd18db",
   "metadata": {
    "ExecuteTime": {
     "end_time": "2022-10-20T21:27:35.318682Z",
     "start_time": "2022-10-20T21:27:35.318673Z"
    },
    "hidden": true
   },
   "outputs": [],
   "source": [
    "# Escolhendo a 1ª e  a 2ª linha do arquivo como cabeçalho\n",
    "# Só pode ser uma lista de ints, outro tipo de array não\n",
    "df = pd.read_csv('base-de-dados/teste1.csv', header=[0, 1])\n",
    "df"
   ]
  },
  {
   "cell_type": "markdown",
   "id": "608abe8a",
   "metadata": {
    "hidden": true
   },
   "source": [
    " <br>"
   ]
  },
  {
   "cell_type": "markdown",
   "id": "e7cb358b",
   "metadata": {
    "hidden": true
   },
   "source": [
    "\n",
    "### <font color=purple>names : array - like<font>"
   ]
  },
  {
   "cell_type": "markdown",
   "id": "108ef7c4",
   "metadata": {
    "hidden": true
   },
   "source": [
    "O parâmetro names recebe um array com valores que serão usados como o cabeçalho do DataFrame. O array não pode conter valores repetidos. Caso o seu arquivo CSV já tenha cabeçalho, ele se tornará a primeira linha do DataFrame. Para sobrescrever um cabeçalho já existente é necessário passar **header=0**."
   ]
  },
  {
   "cell_type": "code",
   "execution_count": null,
   "id": "6c981f62",
   "metadata": {
    "ExecuteTime": {
     "end_time": "2022-10-20T21:27:35.319156Z",
     "start_time": "2022-10-20T21:27:35.319147Z"
    },
    "hidden": true
   },
   "outputs": [],
   "source": [
    "# Antes de mudar o nome das colunas\n",
    "df = pd.read_csv('base-de-dados/teste1.csv')\n",
    "display(df)\n",
    "\n",
    "# Depois de mudar o nome das colunas\n",
    "df = pd.read_csv('base-de-dados/teste1.csv', header=0,\n",
    "                 names=['name', 'age', 'favorite food'])\n",
    "display(df)"
   ]
  },
  {
   "cell_type": "markdown",
   "id": "76b4d373",
   "metadata": {
    "hidden": true
   },
   "source": [
    " <br>"
   ]
  },
  {
   "cell_type": "markdown",
   "id": "621bab16",
   "metadata": {
    "hidden": true
   },
   "source": [
    "\n",
    "\n",
    "### <font color=purple>index_col : int, str, sequence of int or str, or False<font>"
   ]
  },
  {
   "cell_type": "markdown",
   "id": "03f4c252",
   "metadata": {
    "hidden": true
   },
   "source": [
    "Serve para escolher qual coluna será usada como índice do DataFrame, o valor padrão é None/False. Para escolher a coluna você precisa passar o nome ou o índice da coluna. Também é possivel passar uma lista com os nomes ou os índices da colunas que você queira que virem o índice do seu DataFrame. Ao fazer isso um MultiIndex será usado, ou seja, o seu DataFrame terá mutiplos índices."
   ]
  },
  {
   "cell_type": "code",
   "execution_count": null,
   "id": "fa306542",
   "metadata": {
    "ExecuteTime": {
     "end_time": "2022-10-20T21:27:35.319803Z",
     "start_time": "2022-10-20T21:27:35.319794Z"
    },
    "hidden": true
   },
   "outputs": [],
   "source": [
    "# Utilizando o indice da coluna\n",
    "\n",
    "df = pd.read_csv('base-de-dados/teste1.csv', index_col=0)\n",
    "df"
   ]
  },
  {
   "cell_type": "markdown",
   "id": "fdbf9ea5",
   "metadata": {
    "hidden": true
   },
   "source": [
    " "
   ]
  },
  {
   "cell_type": "code",
   "execution_count": null,
   "id": "922bc168",
   "metadata": {
    "ExecuteTime": {
     "end_time": "2022-10-20T21:27:35.320357Z",
     "start_time": "2022-10-20T21:27:35.320348Z"
    },
    "hidden": true
   },
   "outputs": [],
   "source": [
    "# Utilizando o nome da coluna\n",
    "\n",
    "df = pd.read_csv('base-de-dados/teste1.csv', index_col='nome')\n",
    "df"
   ]
  },
  {
   "cell_type": "markdown",
   "id": "890730b9",
   "metadata": {
    "hidden": true
   },
   "source": [
    " \n"
   ]
  },
  {
   "cell_type": "code",
   "execution_count": null,
   "id": "a7c325cd",
   "metadata": {
    "ExecuteTime": {
     "end_time": "2022-10-20T21:27:35.320908Z",
     "start_time": "2022-10-20T21:27:35.320897Z"
    },
    "hidden": true
   },
   "outputs": [],
   "source": [
    "# Utilizando uma lista com os indices das colunas, poderia ser outro tipo de array\n",
    "\n",
    "df = pd.read_csv('base-de-dados/teste1.csv', index_col=[0, 2])\n",
    "df"
   ]
  },
  {
   "cell_type": "markdown",
   "id": "3fac2ef8",
   "metadata": {
    "hidden": true
   },
   "source": [
    " "
   ]
  },
  {
   "cell_type": "code",
   "execution_count": null,
   "id": "7f76380b",
   "metadata": {
    "ExecuteTime": {
     "end_time": "2022-10-20T21:27:35.321388Z",
     "start_time": "2022-10-20T21:27:35.321379Z"
    },
    "hidden": true
   },
   "outputs": [],
   "source": [
    "# Utilizando uma lista com os nomes das colunas, poderia ser outro tipo de array\n",
    "\n",
    "df = pd.read_csv('base-de-dados/teste1.csv',\n",
    "                 index_col=['nome', 'comida favorita'])\n",
    "df"
   ]
  },
  {
   "cell_type": "markdown",
   "id": "2164313d",
   "metadata": {
    "hidden": true
   },
   "source": [
    " <br>"
   ]
  },
  {
   "cell_type": "markdown",
   "id": "5d045451",
   "metadata": {
    "hidden": true
   },
   "source": [
    "\n",
    "### <font color=purple>usecols : list-like ou callable<font>"
   ]
  },
  {
   "cell_type": "markdown",
   "id": "e44ca8a1",
   "metadata": {
    "hidden": true
   },
   "source": [
    "Serve para especificar quais colunas do arquivo CSV devem ser importadas para o DataFrame. O padrão é None, ou seja, todas as colunas serão importadas. O parâmetro deve receber uma lista com os índices ou os nomes das colunas que devem ser importadas para o DataFrame."
   ]
  },
  {
   "cell_type": "code",
   "execution_count": null,
   "id": "8b50e825",
   "metadata": {
    "ExecuteTime": {
     "end_time": "2022-10-20T21:27:35.321866Z",
     "start_time": "2022-10-20T21:27:35.321857Z"
    },
    "hidden": true
   },
   "outputs": [],
   "source": [
    "# Utilizando os índice da coluna\n",
    "\n",
    "# É possivel escolher apenas uma coluna, mas o indice\n",
    "df = pd.read_csv('base-de-dados/teste1.csv', usecols=[0, 2])\n",
    "# presica estar dentro de uma lista.\n",
    "df"
   ]
  },
  {
   "cell_type": "markdown",
   "id": "ba00a953",
   "metadata": {
    "hidden": true
   },
   "source": [
    " "
   ]
  },
  {
   "cell_type": "code",
   "execution_count": null,
   "id": "e66d1c8e",
   "metadata": {
    "ExecuteTime": {
     "end_time": "2022-10-20T21:27:35.322342Z",
     "start_time": "2022-10-20T21:27:35.322334Z"
    },
    "hidden": true
   },
   "outputs": [],
   "source": [
    "# Utilizando os nomes da coluna\n",
    "\n",
    "df = pd.read_csv('base-de-dados/teste1.csv',\n",
    "                 usecols=['nome', 'comida favorita'])\n",
    "df"
   ]
  },
  {
   "cell_type": "markdown",
   "id": "9bd3326a",
   "metadata": {
    "hidden": true
   },
   "source": [
    " <br>"
   ]
  },
  {
   "cell_type": "markdown",
   "id": "6ac2ef61",
   "metadata": {
    "hidden": true
   },
   "source": [
    "\n",
    "### <font color=purple>dtype : Type name or dict of column -> type, optional<font>"
   ]
  },
  {
   "cell_type": "markdown",
   "id": "7f4932c8",
   "metadata": {
    "hidden": true
   },
   "source": [
    "O parâmetro dtype serve para determinar o tipo de dado que cada coluna deve ter. Ele recebe um dicionário, aonde a chave do dicionário, deve ser nome da coluna e o valor da chave, o tipo de dado que será forçado na coluna."
   ]
  },
  {
   "cell_type": "code",
   "execution_count": 2,
   "id": "0734198c",
   "metadata": {
    "ExecuteTime": {
     "end_time": "2023-01-22T13:53:39.684126Z",
     "start_time": "2023-01-22T13:53:39.672634Z"
    },
    "hidden": true
   },
   "outputs": [
    {
     "data": {
      "text/plain": [
       "nome                string\n",
       "idade              float64\n",
       "comida favorita     string\n",
       "dtype: object"
      ]
     },
     "execution_count": 2,
     "metadata": {},
     "output_type": "execute_result"
    }
   ],
   "source": [
    "df = pd.read_csv('base-de-dados/teste1.csv',\n",
    "                 dtype={'nome': 'string', 'idade': 'float', 'comida favorita': 'string'})\n",
    "\n",
    "df.dtypes"
   ]
  },
  {
   "cell_type": "markdown",
   "id": "4512c7ad",
   "metadata": {
    "hidden": true
   },
   "source": [
    " <br>"
   ]
  },
  {
   "cell_type": "markdown",
   "id": "93e7f27a",
   "metadata": {
    "hidden": true
   },
   "source": [
    "\n",
    "### <font color=purple>converters : dict<font>"
   ]
  },
  {
   "cell_type": "markdown",
   "id": "9aa916ea",
   "metadata": {
    "hidden": true
   },
   "source": [
    "O parametro converters possiblita que você faça alterações, transformações ou conversões nos valores das colunas do arquivo CSV enquanto importa o próprio CSV. Para isso é necessário passar um dicionário com funções. A chave do dicionário deve conter o nome da coluna e o valor da chave a função. \n",
    "\n",
    "Vamos a um exemplo: o objetivo é, da coluna nome, pegar somente o primeiro nome da pessoa. E da coluna idade, transformar os anos em meses."
   ]
  },
  {
   "cell_type": "code",
   "execution_count": null,
   "id": "fe65b7ef",
   "metadata": {
    "ExecuteTime": {
     "end_time": "2022-10-20T21:27:35.323393Z",
     "start_time": "2022-10-20T21:27:35.323384Z"
    },
    "hidden": true
   },
   "outputs": [],
   "source": [
    "# DataFrame importado sem alterações\n",
    "df1 = pd.read_csv(filepath_or_buffer='base-de-dados/teste1.csv')\n",
    "display(df1)\n",
    "\n",
    "\n",
    "# DataFrame importado com alterações\n",
    "df2 = pd.read_csv(\n",
    "\n",
    "    filepath_or_buffer='base-de-dados/teste1.csv',\n",
    "    converters={'nome': lambda x: x.split()[0],\n",
    "                'idade': lambda x: int(x)*12}\n",
    ")\n",
    "\n",
    "display(df2)"
   ]
  },
  {
   "cell_type": "markdown",
   "id": "c2abab55",
   "metadata": {
    "hidden": true
   },
   "source": [
    " <br>"
   ]
  },
  {
   "cell_type": "markdown",
   "id": "f72ac618",
   "metadata": {
    "hidden": true
   },
   "source": [
    "\n",
    "### <font color=purple>skiprows : list-like, int ou callable<font>"
   ]
  },
  {
   "cell_type": "markdown",
   "id": "e41554f2",
   "metadata": {
    "hidden": true
   },
   "source": [
    "O skiprows serve para definir quais linhas desde o inicio do arquivo devem ser ignoradas na hora da importação. O skiprows pode receber 3 tipos de valores, um numero (int), uma lista de índices ou uma função. O valor padrão do parâmetro é **None**."
   ]
  },
  {
   "cell_type": "markdown",
   "id": "baf60717",
   "metadata": {
    "hidden": true
   },
   "source": [
    "Suponha que você queira ignorar as 3 primeiras linhas do arquivo, para isso basta passar ao parâmetro o numero 3. Se você quer ignorar as **n** primeiras linhas do arquivo é só passar o numero **n** ao parâmetro. Quando essa operação é feita, a linha **n+1** se tornará o cabeçalho do dataframe. Veja um exemplo. "
   ]
  },
  {
   "cell_type": "code",
   "execution_count": null,
   "id": "449dfbc3",
   "metadata": {
    "ExecuteTime": {
     "end_time": "2022-10-20T21:27:35.323858Z",
     "start_time": "2022-10-20T21:27:35.323849Z"
    },
    "hidden": true
   },
   "outputs": [],
   "source": [
    "# dataframe original\n",
    "df = pd.read_csv('base-de-dados/teste1.csv')\n",
    "display(df)\n",
    "\n",
    "# dataframe depois de pular as linhas\n",
    "df = pd.read_csv('base-de-dados/teste1.csv', skiprows=2)\n",
    "display(df)"
   ]
  },
  {
   "cell_type": "markdown",
   "id": "60543988",
   "metadata": {
    "hidden": true
   },
   "source": [
    " <br>"
   ]
  },
  {
   "cell_type": "markdown",
   "id": "835f6762",
   "metadata": {
    "hidden": true
   },
   "source": [
    "Caso queira pular linhas específicas, você pode passar uma lista com os índices das linhas a serem ignoradas."
   ]
  },
  {
   "cell_type": "code",
   "execution_count": null,
   "id": "450630fc",
   "metadata": {
    "ExecuteTime": {
     "end_time": "2022-10-20T21:27:35.324329Z",
     "start_time": "2022-10-20T21:27:35.324321Z"
    },
    "hidden": true
   },
   "outputs": [],
   "source": [
    "# dataframe original\n",
    "df = pd.read_csv('base-de-dados/teste1.csv')\n",
    "display(df)\n",
    "\n",
    "# dataframe depois de pular as linhas\n",
    "df = pd.read_csv('base-de-dados/teste1.csv', skiprows=[1, 3])\n",
    "display(df)"
   ]
  },
  {
   "cell_type": "markdown",
   "id": "e235ac86",
   "metadata": {
    "hidden": true
   },
   "source": [
    " <br>"
   ]
  },
  {
   "cell_type": "markdown",
   "id": "4586c041",
   "metadata": {
    "hidden": true
   },
   "source": [
    "Também é possivel passar uma função ao parâmetro para pular linhas específcas. Vamos passar uma função lambda que vai ignorar as linhas ímpares. Quando um linha for ímpar a função lambda retorna True indicando que essa linha deve ser ignorada caso ela seja par a função lambda retorna False indicando que esse linha não deve ser ignorada. "
   ]
  },
  {
   "cell_type": "code",
   "execution_count": null,
   "id": "e4491424",
   "metadata": {
    "ExecuteTime": {
     "end_time": "2022-10-20T21:27:35.326079Z",
     "start_time": "2022-10-20T21:27:35.326069Z"
    },
    "hidden": true
   },
   "outputs": [],
   "source": [
    "# dataframe original\n",
    "df = pd.read_csv('base-de-dados/teste1.csv')\n",
    "display(df)\n",
    "\n",
    "# dataframe depois de pular as linhas\n",
    "df = pd.read_csv('base-de-dados/teste1.csv', skiprows=lambda n: n % 2 != 0)\n",
    "display(df)"
   ]
  },
  {
   "cell_type": "markdown",
   "id": "34ec121b",
   "metadata": {
    "hidden": true
   },
   "source": [
    " <br>"
   ]
  },
  {
   "cell_type": "markdown",
   "id": "9ea560d5",
   "metadata": {
    "hidden": true
   },
   "source": [
    "\n",
    "### <font color=purple>skipfooter : int <font>"
   ]
  },
  {
   "cell_type": "markdown",
   "id": "ca428e18",
   "metadata": {
    "hidden": true
   },
   "source": [
    "Serve para definir o numero de linhas que devem ser igonaradas na parte inferior do arquivo. O valor padrão é 0. **Não suportado com engine='c'**, ou seja, quando você precisar ignorar algumas linhas da parte inferior do arquivo, terá que usar o engine python ou pyarrow. Vamos a um exemplo:"
   ]
  },
  {
   "cell_type": "code",
   "execution_count": null,
   "id": "c1666295",
   "metadata": {
    "ExecuteTime": {
     "end_time": "2022-10-20T21:27:35.327674Z",
     "start_time": "2022-10-20T21:27:35.327663Z"
    },
    "hidden": true
   },
   "outputs": [],
   "source": [
    "# dataframe original\n",
    "df = pd.read_csv('base-de-dados/teste1.csv')\n",
    "display(df)\n",
    "\n",
    "# dataframe depois de pular as linhas\n",
    "df = pd.read_csv('base-de-dados/teste1.csv', engine='python', skipfooter=1)\n",
    "display(df)"
   ]
  },
  {
   "cell_type": "markdown",
   "id": "6053cd08",
   "metadata": {
    "hidden": true
   },
   "source": [
    " <br>"
   ]
  },
  {
   "cell_type": "markdown",
   "id": "24e14af6",
   "metadata": {
    "hidden": true
   },
   "source": [
    "\n",
    "### <font color=purple>nrows : int<font>"
   ]
  },
  {
   "cell_type": "markdown",
   "id": "cddf0d9b",
   "metadata": {
    "hidden": true
   },
   "source": [
    "Numero de linhas do arquivo a serem lidas, o cabeçário vem incluso por padrão. Útil para ler pedaçõs de arquivos grandes. O valor padrão do parâmetro é None.\n",
    "\n",
    "Obs: Se você colocar um numero maior que o numero de linhas existente no arquivo não acontece nada, o pandas simplismente ler o arquivo todo."
   ]
  },
  {
   "cell_type": "code",
   "execution_count": null,
   "id": "123cf46c",
   "metadata": {
    "ExecuteTime": {
     "end_time": "2022-10-20T21:27:35.328685Z",
     "start_time": "2022-10-20T21:27:35.328675Z"
    },
    "hidden": true
   },
   "outputs": [],
   "source": [
    "# dataframe original\n",
    "df = pd.read_csv('base-de-dados/teste1.csv')\n",
    "display(df)\n",
    "\n",
    "# dataframe depois de pular as linhas\n",
    "df = pd.read_csv('base-de-dados/teste1.csv', nrows=2)\n",
    "display(df)"
   ]
  },
  {
   "cell_type": "markdown",
   "id": "7e180c1c",
   "metadata": {
    "hidden": true
   },
   "source": [
    " <br>"
   ]
  },
  {
   "cell_type": "markdown",
   "id": "c9436e13",
   "metadata": {
    "hidden": true
   },
   "source": [
    "\n",
    "### <font color=purple>na_values : scalar, str, list-like ou dict<font>"
   ]
  },
  {
   "cell_type": "markdown",
   "id": "7f241f0f",
   "metadata": {
    "hidden": true
   },
   "source": [
    "\n",
    "Por padrão, os seguintes valores são interpretados como nulo: \n",
    "\n",
    "**'NaN'** ﾠﾠ**'n /a'**ﾠﾠﾠ**'nan'**ﾠﾠﾠ**'null'**<br>\n",
    "\n",
    "**''**ﾠﾠﾠﾠ**'#N/A'**ﾠﾠ**'#N/AN/A'**ﾠﾠ**'#NA'**<br>\n",
    "\n",
    "**'-1.#IND'**ﾠﾠ**'-1.#QNAN'**ﾠﾠﾠ**'-NaN'**\n",
    "\n",
    "**'-nan'**ﾠﾠﾠ**'1.#IND'**ﾠﾠﾠﾠ**'1.#QNAN'**\n",
    "\n",
    "**'N/A'**ﾠﾠﾠﾠ**'NA'**ﾠﾠﾠﾠﾠﾠ**'NULL'**\n",
    "\n",
    "<br>\n",
    "\n",
    "Com o parâmetro na_values você pode definir outros valores para serem considerado como nulos no momento da importação do arquivo. "
   ]
  },
  {
   "cell_type": "markdown",
   "id": "4ee961eb",
   "metadata": {
    "hidden": true
   },
   "source": [
    "É possivel passar como valor para ao parâmetro um dicionário, aonde a chave do dicionário deve ser o nome da coluna e o valor da chave deve ser os valores que deverão ser considerados nulos, pode ser uma str ou uma lista de str."
   ]
  },
  {
   "cell_type": "code",
   "execution_count": null,
   "id": "8bb0919f",
   "metadata": {
    "ExecuteTime": {
     "end_time": "2022-10-20T21:27:35.329540Z",
     "start_time": "2022-10-20T21:27:35.329529Z"
    },
    "hidden": true
   },
   "outputs": [],
   "source": [
    "df = pd.read_csv(\n",
    "\n",
    "    filepath_or_buffer='base-de-dados/teste1.csv',\n",
    "    na_values={'idade': '18',\n",
    "               'comida favorita': ['pizza', 'sorvete']}\n",
    ")\n",
    "\n",
    "df"
   ]
  },
  {
   "cell_type": "markdown",
   "id": "831f11b5",
   "metadata": {
    "hidden": true
   },
   "source": [
    " <br>"
   ]
  },
  {
   "cell_type": "markdown",
   "id": "20fad26c",
   "metadata": {
    "hidden": true
   },
   "source": [
    "Também é possivel definir quais valores devem ser considerados nulos sem filtrar pela coluna, ou seja, não importa a coluna que o valor estiver ele será considerado como nulo. Basta passar ao parâmetro uma str ou uma lista de str, com os valores que deverão ser considerados nulos. "
   ]
  },
  {
   "cell_type": "code",
   "execution_count": null,
   "id": "c28e19d2",
   "metadata": {
    "ExecuteTime": {
     "end_time": "2022-10-20T21:27:35.330994Z",
     "start_time": "2022-10-20T21:27:35.330984Z"
    },
    "hidden": true
   },
   "outputs": [],
   "source": [
    "df = pd.read_csv(\n",
    "\n",
    "    filepath_or_buffer='base-de-dados/teste1.csv',\n",
    "    na_values=['18', 'sorvete']\n",
    ")\n",
    "\n",
    "df"
   ]
  },
  {
   "cell_type": "markdown",
   "id": "7611119a",
   "metadata": {
    "hidden": true
   },
   "source": [
    " <br>"
   ]
  },
  {
   "cell_type": "markdown",
   "id": "7947cd56",
   "metadata": {
    "hidden": true
   },
   "source": [
    "\n",
    "### <font color=purple>skip_blank_lines : bool, padrão True<font>"
   ]
  },
  {
   "cell_type": "markdown",
   "id": "13ed17d4",
   "metadata": {
    "hidden": true
   },
   "source": [
    "Se o valor passado ao parâmetro for True, as linhas em branco serão puldas em vez de interpretadas como valores NaN."
   ]
  },
  {
   "cell_type": "code",
   "execution_count": null,
   "id": "808b890c",
   "metadata": {
    "ExecuteTime": {
     "end_time": "2022-10-20T21:27:35.332110Z",
     "start_time": "2022-10-20T21:27:35.332100Z"
    },
    "hidden": true
   },
   "outputs": [],
   "source": [
    "# sem desconsiderar as linhas brancas\n",
    "df = pd.read_csv(\n",
    "\n",
    "    filepath_or_buffer='base-de-dados/teste4.csv',\n",
    "    skip_blank_lines=False\n",
    ")\n",
    "\n",
    "df"
   ]
  },
  {
   "cell_type": "markdown",
   "id": "2dd6e0d5",
   "metadata": {
    "hidden": true
   },
   "source": [
    " "
   ]
  },
  {
   "cell_type": "code",
   "execution_count": null,
   "id": "2a701578",
   "metadata": {
    "ExecuteTime": {
     "end_time": "2022-10-20T21:27:35.332891Z",
     "start_time": "2022-10-20T21:27:35.332878Z"
    },
    "hidden": true
   },
   "outputs": [],
   "source": [
    "# desconsiderando as linhas brancas\n",
    "df = pd.read_csv(\n",
    "\n",
    "    filepath_or_buffer='base-de-dados/teste4.csv',\n",
    "    skip_blank_lines=True\n",
    ")\n",
    "\n",
    "df"
   ]
  },
  {
   "cell_type": "markdown",
   "id": "71b0b295",
   "metadata": {
    "hidden": true
   },
   "source": [
    " <br>"
   ]
  },
  {
   "cell_type": "markdown",
   "id": "a212db6b",
   "metadata": {
    "hidden": true
   },
   "source": [
    "\n",
    "## Dicas\n",
    "\n",
    "- Antes de carregar o arquivo CSV em um quadro de dados do pandas, sempre dê uma olhada no arquivo. Ele o ajudará a estimar quais colunas você deve importar e determinar quais tipos de dados suas colunas devem ter.\n",
    "\n",
    "\n",
    "- Você também deve procurar a contagem total de linhas do conjunto de dados. Um sistema com 4 GB de RAM pode não consegue carregar 7 a 8 milhões de linhas."
   ]
  },
  {
   "cell_type": "markdown",
   "id": "51979b7f",
   "metadata": {
    "hidden": true
   },
   "source": [
    " <br>"
   ]
  },
  {
   "cell_type": "markdown",
   "id": "a98ee114",
   "metadata": {
    "heading_collapsed": true
   },
   "source": [
    "# 🎯  Tranformando um DF em outro objeto ou arquivo "
   ]
  },
  {
   "cell_type": "markdown",
   "id": "29c1278c",
   "metadata": {
    "hidden": true
   },
   "source": [
    "- DataFrame.to_csv\n",
    "- DataFrame.to_dict"
   ]
  },
  {
   "cell_type": "markdown",
   "id": "7cf85d98",
   "metadata": {
    "hidden": true
   },
   "source": []
  },
  {
   "cell_type": "markdown",
   "id": "ba94ff29",
   "metadata": {
    "heading_collapsed": true
   },
   "source": [
    "# 🎯 Formas de visualisar uma Series e um DataFrame"
   ]
  },
  {
   "cell_type": "markdown",
   "id": "ae9418da",
   "metadata": {
    "hidden": true
   },
   "source": [
    "<br>\n",
    "Neste tópico iremos aprender algumas formas de visualisar um dataframe. A baixo segue alguns métodos que iremos estudar."
   ]
  },
  {
   "cell_type": "markdown",
   "id": "bf041298",
   "metadata": {
    "hidden": true
   },
   "source": [
    "- display\n",
    "- head e tail"
   ]
  },
  {
   "cell_type": "markdown",
   "id": "9604fec7",
   "metadata": {
    "hidden": true
   },
   "source": [
    " "
   ]
  },
  {
   "cell_type": "markdown",
   "id": "3c4ee024",
   "metadata": {
    "heading_collapsed": true,
    "hidden": true
   },
   "source": [
    "## 👾 <font size=5>display<font>"
   ]
  },
  {
   "cell_type": "markdown",
   "id": "5cd0a7f2",
   "metadata": {
    "ExecuteTime": {
     "end_time": "2022-10-13T22:12:23.578382Z",
     "start_time": "2022-10-13T22:12:23.571922Z"
    },
    "hidden": true
   },
   "source": [
    "A função display pode-se dizer que é um print( ) melhorado. Essa função mostra o dataframe em um formato de tabela bem agrádavel."
   ]
  },
  {
   "cell_type": "code",
   "execution_count": null,
   "id": "9205300e",
   "metadata": {
    "ExecuteTime": {
     "end_time": "2022-10-20T21:27:35.334543Z",
     "start_time": "2022-10-20T21:27:35.334534Z"
    },
    "hidden": true
   },
   "outputs": [],
   "source": [
    "# Criando o DataFrame para usar no exemplo\n",
    "nomes = ['Anthony Gabriel','Enzo Gabriel','Luiz Felipe', 'Arthur Miguel',\n",
    "         'João Guilherme', 'Luiz Miguel', 'Davi Lucas','João Lucas','Pedro Henrique', \n",
    "         'Davi Lucca','João Miguel', 'Pedro Lucas', 'Davi Luiz', 'João Vitor', 'Pedro Miguel']\n",
    "\n",
    "idades = [rd.randint(10, 20) for x in range(len(nomes))]\n",
    "df = pd.DataFrame({'nome':nomes, 'idade':idades})"
   ]
  },
  {
   "cell_type": "code",
   "execution_count": 22,
   "id": "dafda280",
   "metadata": {
    "ExecuteTime": {
     "end_time": "2022-11-18T00:33:14.279112Z",
     "start_time": "2022-11-18T00:33:14.263167Z"
    },
    "hidden": true
   },
   "outputs": [
    {
     "data": {
      "text/html": [
       "<div>\n",
       "<style scoped>\n",
       "    .dataframe tbody tr th:only-of-type {\n",
       "        vertical-align: middle;\n",
       "    }\n",
       "\n",
       "    .dataframe tbody tr th {\n",
       "        vertical-align: top;\n",
       "    }\n",
       "\n",
       "    .dataframe thead th {\n",
       "        text-align: right;\n",
       "    }\n",
       "</style>\n",
       "<table border=\"1\" class=\"dataframe\">\n",
       "  <thead>\n",
       "    <tr style=\"text-align: right;\">\n",
       "      <th></th>\n",
       "      <th>nome</th>\n",
       "      <th>idade</th>\n",
       "    </tr>\n",
       "  </thead>\n",
       "  <tbody>\n",
       "    <tr>\n",
       "      <th>0</th>\n",
       "      <td>Anthony Gabriel</td>\n",
       "      <td>18</td>\n",
       "    </tr>\n",
       "    <tr>\n",
       "      <th>1</th>\n",
       "      <td>Enzo Gabriel</td>\n",
       "      <td>10</td>\n",
       "    </tr>\n",
       "    <tr>\n",
       "      <th>2</th>\n",
       "      <td>Luiz Felipe</td>\n",
       "      <td>11</td>\n",
       "    </tr>\n",
       "    <tr>\n",
       "      <th>3</th>\n",
       "      <td>Arthur Miguel</td>\n",
       "      <td>20</td>\n",
       "    </tr>\n",
       "    <tr>\n",
       "      <th>4</th>\n",
       "      <td>João Guilherme</td>\n",
       "      <td>20</td>\n",
       "    </tr>\n",
       "    <tr>\n",
       "      <th>5</th>\n",
       "      <td>Luiz Miguel</td>\n",
       "      <td>13</td>\n",
       "    </tr>\n",
       "    <tr>\n",
       "      <th>6</th>\n",
       "      <td>Davi Lucas</td>\n",
       "      <td>19</td>\n",
       "    </tr>\n",
       "    <tr>\n",
       "      <th>7</th>\n",
       "      <td>João Lucas</td>\n",
       "      <td>15</td>\n",
       "    </tr>\n",
       "    <tr>\n",
       "      <th>8</th>\n",
       "      <td>Pedro Henrique</td>\n",
       "      <td>13</td>\n",
       "    </tr>\n",
       "    <tr>\n",
       "      <th>9</th>\n",
       "      <td>Davi Lucca</td>\n",
       "      <td>20</td>\n",
       "    </tr>\n",
       "    <tr>\n",
       "      <th>10</th>\n",
       "      <td>João Miguel</td>\n",
       "      <td>19</td>\n",
       "    </tr>\n",
       "    <tr>\n",
       "      <th>11</th>\n",
       "      <td>Pedro Lucas</td>\n",
       "      <td>20</td>\n",
       "    </tr>\n",
       "    <tr>\n",
       "      <th>12</th>\n",
       "      <td>Davi Luiz</td>\n",
       "      <td>14</td>\n",
       "    </tr>\n",
       "    <tr>\n",
       "      <th>13</th>\n",
       "      <td>João Vitor</td>\n",
       "      <td>10</td>\n",
       "    </tr>\n",
       "    <tr>\n",
       "      <th>14</th>\n",
       "      <td>Pedro Miguel</td>\n",
       "      <td>15</td>\n",
       "    </tr>\n",
       "  </tbody>\n",
       "</table>\n",
       "</div>"
      ],
      "text/plain": [
       "               nome  idade\n",
       "0   Anthony Gabriel     18\n",
       "1      Enzo Gabriel     10\n",
       "2       Luiz Felipe     11\n",
       "3     Arthur Miguel     20\n",
       "4    João Guilherme     20\n",
       "5       Luiz Miguel     13\n",
       "6        Davi Lucas     19\n",
       "7        João Lucas     15\n",
       "8    Pedro Henrique     13\n",
       "9        Davi Lucca     20\n",
       "10      João Miguel     19\n",
       "11      Pedro Lucas     20\n",
       "12        Davi Luiz     14\n",
       "13       João Vitor     10\n",
       "14     Pedro Miguel     15"
      ]
     },
     "metadata": {},
     "output_type": "display_data"
    }
   ],
   "source": [
    "display(df)"
   ]
  },
  {
   "cell_type": "markdown",
   "id": "a7fcc3d0",
   "metadata": {
    "hidden": true
   },
   "source": [
    " <br>"
   ]
  },
  {
   "cell_type": "markdown",
   "id": "f38a1565",
   "metadata": {
    "heading_collapsed": true,
    "hidden": true
   },
   "source": [
    "## 👾 <font size=5>head e tail<font>"
   ]
  },
  {
   "cell_type": "markdown",
   "id": "4c27a334",
   "metadata": {
    "hidden": true
   },
   "source": [
    "Os métodos **head** e **tail** serve para visualizas as **n** primeiras linhas de um DataFrame ou Series. Enquanto o head serve para ver o começo o tail serve para olhar o final. \n",
    "\n",
    "O unico parâmetro que esses métodos recebem é o **n**, esse parâmetro serve para definir quantas linhas o método deve mostrar. Por padrão **n=5**."
   ]
  },
  {
   "cell_type": "code",
   "execution_count": 31,
   "id": "d86d5d89",
   "metadata": {
    "ExecuteTime": {
     "end_time": "2022-11-18T01:00:49.558168Z",
     "start_time": "2022-11-18T01:00:49.548903Z"
    },
    "hidden": true
   },
   "outputs": [],
   "source": [
    "# Criando o DataFrame para usar no exemplo\n",
    "nomes = ['Anthony Gabriel','Enzo Gabriel','Luiz Felipe', 'Arthur Miguel',\n",
    "         'João Guilherme', 'Luiz Miguel', 'Davi Lucas','João Lucas','Pedro Henrique', \n",
    "         'Davi Lucca','João Miguel', 'Pedro Lucas', 'Davi Luiz', 'João Vitor', 'Pedro Miguel']\n",
    "\n",
    "idades = [rd.randint(10, 20) for x in range(len(nomes))]\n",
    "\n",
    "df = pd.DataFrame({'nome':nomes, 'idade':idades})\n",
    "\n",
    "\n",
    "# Criando uma Series para usar no exemplo\n",
    "s = pd.Series([x for x in range(10, 101)])"
   ]
  },
  {
   "cell_type": "markdown",
   "id": "1962f0b3",
   "metadata": {
    "ExecuteTime": {
     "end_time": "2022-11-18T00:26:03.937024Z",
     "start_time": "2022-11-18T00:26:03.930833Z"
    },
    "hidden": true
   },
   "source": [
    " "
   ]
  },
  {
   "cell_type": "markdown",
   "id": "e982d640",
   "metadata": {
    "hidden": true
   },
   "source": [
    "Agora vamos ver as 3 primeiras e as 3 ultimas linhas do DataFrame."
   ]
  },
  {
   "cell_type": "code",
   "execution_count": 20,
   "id": "5653f044",
   "metadata": {
    "ExecuteTime": {
     "end_time": "2022-11-18T00:32:09.386620Z",
     "start_time": "2022-11-18T00:32:09.364101Z"
    },
    "hidden": true
   },
   "outputs": [
    {
     "data": {
      "text/html": [
       "<div>\n",
       "<style scoped>\n",
       "    .dataframe tbody tr th:only-of-type {\n",
       "        vertical-align: middle;\n",
       "    }\n",
       "\n",
       "    .dataframe tbody tr th {\n",
       "        vertical-align: top;\n",
       "    }\n",
       "\n",
       "    .dataframe thead th {\n",
       "        text-align: right;\n",
       "    }\n",
       "</style>\n",
       "<table border=\"1\" class=\"dataframe\">\n",
       "  <thead>\n",
       "    <tr style=\"text-align: right;\">\n",
       "      <th></th>\n",
       "      <th>nome</th>\n",
       "      <th>idade</th>\n",
       "    </tr>\n",
       "  </thead>\n",
       "  <tbody>\n",
       "    <tr>\n",
       "      <th>0</th>\n",
       "      <td>Anthony Gabriel</td>\n",
       "      <td>18</td>\n",
       "    </tr>\n",
       "    <tr>\n",
       "      <th>1</th>\n",
       "      <td>Enzo Gabriel</td>\n",
       "      <td>10</td>\n",
       "    </tr>\n",
       "    <tr>\n",
       "      <th>2</th>\n",
       "      <td>Luiz Felipe</td>\n",
       "      <td>11</td>\n",
       "    </tr>\n",
       "  </tbody>\n",
       "</table>\n",
       "</div>"
      ],
      "text/plain": [
       "              nome  idade\n",
       "0  Anthony Gabriel     18\n",
       "1     Enzo Gabriel     10\n",
       "2      Luiz Felipe     11"
      ]
     },
     "metadata": {},
     "output_type": "display_data"
    },
    {
     "data": {
      "text/html": [
       "<div>\n",
       "<style scoped>\n",
       "    .dataframe tbody tr th:only-of-type {\n",
       "        vertical-align: middle;\n",
       "    }\n",
       "\n",
       "    .dataframe tbody tr th {\n",
       "        vertical-align: top;\n",
       "    }\n",
       "\n",
       "    .dataframe thead th {\n",
       "        text-align: right;\n",
       "    }\n",
       "</style>\n",
       "<table border=\"1\" class=\"dataframe\">\n",
       "  <thead>\n",
       "    <tr style=\"text-align: right;\">\n",
       "      <th></th>\n",
       "      <th>nome</th>\n",
       "      <th>idade</th>\n",
       "    </tr>\n",
       "  </thead>\n",
       "  <tbody>\n",
       "    <tr>\n",
       "      <th>12</th>\n",
       "      <td>Davi Luiz</td>\n",
       "      <td>14</td>\n",
       "    </tr>\n",
       "    <tr>\n",
       "      <th>13</th>\n",
       "      <td>João Vitor</td>\n",
       "      <td>10</td>\n",
       "    </tr>\n",
       "    <tr>\n",
       "      <th>14</th>\n",
       "      <td>Pedro Miguel</td>\n",
       "      <td>15</td>\n",
       "    </tr>\n",
       "  </tbody>\n",
       "</table>\n",
       "</div>"
      ],
      "text/plain": [
       "            nome  idade\n",
       "12     Davi Luiz     14\n",
       "13    João Vitor     10\n",
       "14  Pedro Miguel     15"
      ]
     },
     "metadata": {},
     "output_type": "display_data"
    }
   ],
   "source": [
    "display(df.head(n=3))\n",
    "display(df.tail(n=3))"
   ]
  },
  {
   "cell_type": "markdown",
   "id": "0a2c7609",
   "metadata": {
    "ExecuteTime": {
     "end_time": "2022-11-18T00:29:06.059095Z",
     "start_time": "2022-11-18T00:29:06.046012Z"
    },
    "hidden": true
   },
   "source": [
    " "
   ]
  },
  {
   "cell_type": "markdown",
   "id": "1809b3a2",
   "metadata": {
    "hidden": true
   },
   "source": [
    "Da mesma forma vamos fazer com a Series."
   ]
  },
  {
   "cell_type": "code",
   "execution_count": 21,
   "id": "aabaa4b2",
   "metadata": {
    "ExecuteTime": {
     "end_time": "2022-11-18T00:32:19.494859Z",
     "start_time": "2022-11-18T00:32:19.481494Z"
    },
    "hidden": true
   },
   "outputs": [
    {
     "data": {
      "text/plain": [
       "0    10\n",
       "1    11\n",
       "2    12\n",
       "dtype: int64"
      ]
     },
     "metadata": {},
     "output_type": "display_data"
    },
    {
     "data": {
      "text/plain": [
       "88     98\n",
       "89     99\n",
       "90    100\n",
       "dtype: int64"
      ]
     },
     "metadata": {},
     "output_type": "display_data"
    }
   ],
   "source": [
    "display(s.head(n=3))\n",
    "display(s.tail(n=3))"
   ]
  },
  {
   "cell_type": "code",
   "execution_count": null,
   "id": "af88e244",
   "metadata": {
    "hidden": true
   },
   "outputs": [],
   "source": []
  }
 ],
 "metadata": {
  "kernelspec": {
   "display_name": "Python 3 (ipykernel)",
   "language": "python",
   "name": "python3"
  },
  "language_info": {
   "codemirror_mode": {
    "name": "ipython",
    "version": 3
   },
   "file_extension": ".py",
   "mimetype": "text/x-python",
   "name": "python",
   "nbconvert_exporter": "python",
   "pygments_lexer": "ipython3",
   "version": "3.11.1"
  },
  "varInspector": {
   "cols": {
    "lenName": 16,
    "lenType": 16,
    "lenVar": 40
   },
   "kernels_config": {
    "python": {
     "delete_cmd_postfix": "",
     "delete_cmd_prefix": "del ",
     "library": "var_list.py",
     "varRefreshCmd": "print(var_dic_list())"
    },
    "r": {
     "delete_cmd_postfix": ") ",
     "delete_cmd_prefix": "rm(",
     "library": "var_list.r",
     "varRefreshCmd": "cat(var_dic_list()) "
    }
   },
   "types_to_exclude": [
    "module",
    "function",
    "builtin_function_or_method",
    "instance",
    "_Feature"
   ],
   "window_display": false
  },
  "vscode": {
   "interpreter": {
    "hash": "4dc6d04b23184f23f5711ec8e9fc9238b6ca8ea6896f8eb919a5bfe24d33fc7c"
   }
  }
 },
 "nbformat": 4,
 "nbformat_minor": 5
}
