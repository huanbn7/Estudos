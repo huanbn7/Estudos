{
 "cells": [
  {
   "cell_type": "code",
   "execution_count": 1,
   "id": "155c0c24",
   "metadata": {
    "ExecuteTime": {
     "end_time": "2023-02-06T12:53:52.954869Z",
     "start_time": "2023-02-06T12:53:51.457940Z"
    }
   },
   "outputs": [],
   "source": [
    "# Importando a biblioteca\n",
    "import pandas as pd"
   ]
  },
  {
   "cell_type": "markdown",
   "id": "35c22dd3",
   "metadata": {},
   "source": [
    "# 🎯 Trabalhando com datas"
   ]
  },
  {
   "cell_type": "markdown",
   "id": "6c76bc81",
   "metadata": {},
   "source": [
    "Trabalhar com DateTime pode ser uma coisa complicada. Este guia visa simplificar o complicado, concentrando-se no que você precisa saber para começar e saber o suficiente para descobrir mais por conta própria. Datas e horas são formas críticas de dados em muitos domínios, incluindo finanças, economia, ciência e muito mais."
   ]
  },
  {
   "cell_type": "markdown",
   "id": "1f47a8ac",
   "metadata": {
    "heading_collapsed": true
   },
   "source": [
    "## 👾 O que é datetime?"
   ]
  },
  {
   "cell_type": "markdown",
   "id": "f85c0cdc",
   "metadata": {
    "hidden": true
   },
   "source": [
    "A biblioteca pandas possui um tipo de dado específico para trabalhar com datas e horários chamado \"datetime\". Esse tipo é baseado na classe \"datetime\" do Python padrão, mas possui algumas funcionalidades adicionais para trabalhar com Series e DataFrames.\n",
    "\n",
    "Com o tipo datetime, é possível criar objetos que representam uma data e hora específica, e também realizar operações aritméticas (como adição e subtração) entre objetos datetime. Além disso, é possível extrair informações como ano, mês, dia, hora, minuto e segundo de um objeto datetime.\n",
    "\n",
    "Na prática, o tipo datetime é muito útil para trabalhar com Series e DataFrames de dados temporais, como séries de preços de ações ou séries de dados climáticos. Ele permite agrupar os dados por períodos de tempo (como dias, meses ou anos), calcular diferenças entre datas, e realizar outras operações comuns em dados temporais."
   ]
  },
  {
   "cell_type": "markdown",
   "id": "874a0330",
   "metadata": {
    "hidden": true
   },
   "source": [
    " "
   ]
  },
  {
   "cell_type": "markdown",
   "id": "f0d5fee3",
   "metadata": {},
   "source": [
    "## 👾 pd.to_datetime"
   ]
  },
  {
   "cell_type": "markdown",
   "id": "ea6f97f0",
   "metadata": {},
   "source": [
    "A função `pd.to_datetime()` é utilizada para converter uma série ou coluna de um dataframe no tipo datetime do pandas. Ela pode ser utilizada para converter strings com datas e horas em objetos datetime, ou para converter outros tipos de dados (como inteiros ou floats) que representam datas e horas. A documentação da função está [aqui](https://pandas.pydata.org/docs/reference/api/pandas.to_datetime.html). Os principais parâmetros da função `pd.to_datetime()` são:"
   ]
  },
  {
   "cell_type": "markdown",
   "id": "fdb0b8bb",
   "metadata": {},
   "source": [
    "\n",
    "### <font color=purple>pd.to_datetime (<font> \n",
    "\n",
    "**arg**<br>\n",
    "**format** = None <br>\n",
    "**erros** = 'raise' <br>\n",
    "**utc** = None <br>\n",
    "**dayfirst** = False <br>\n",
    "**yearfirst** = False <br>\n",
    "\n",
    "### <font color=purple>) <font> <br>"
   ]
  },
  {
   "cell_type": "markdown",
   "id": "15be80f1",
   "metadata": {
    "heading_collapsed": true
   },
   "source": [
    "### 🐥 arg"
   ]
  },
  {
   "cell_type": "markdown",
   "id": "25b5449f",
   "metadata": {
    "hidden": true
   },
   "source": [
    "_arg_ é o argumento a ser convertido. Pode ser uma série, coluna de dataframe, lista, array ou qualquer outra estrutura de dados que contenha as informações de data e hora."
   ]
  },
  {
   "cell_type": "code",
   "execution_count": 12,
   "id": "495904de",
   "metadata": {
    "ExecuteTime": {
     "end_time": "2023-02-06T13:08:03.014974Z",
     "start_time": "2023-02-06T13:08:03.007725Z"
    },
    "hidden": true
   },
   "outputs": [
    {
     "name": "stdout",
     "output_type": "stream",
     "text": [
      "         Data\n",
      "0  2022-01-01\n",
      "1  2022-01-02\n",
      "2  2022-01-03\n",
      "\n",
      "Data    object\n",
      "dtype: object\n"
     ]
    }
   ],
   "source": [
    "# Criando um data frame com datas no formato string\n",
    "df = pd.DataFrame(['2022-01-01', '2022-01-02', '2022-01-03'], columns=['Data'])\n",
    "print(df)\n",
    "print()\n",
    "print(df.dtypes)"
   ]
  },
  {
   "cell_type": "code",
   "execution_count": 22,
   "id": "20a84a5e",
   "metadata": {
    "ExecuteTime": {
     "end_time": "2023-01-29T02:35:11.911052Z",
     "start_time": "2023-01-29T02:35:11.904489Z"
    },
    "hidden": true
   },
   "outputs": [
    {
     "name": "stdout",
     "output_type": "stream",
     "text": [
      "        Data\n",
      "0 2022-01-01\n",
      "1 2022-01-02\n",
      "2 2022-01-03\n",
      "\n",
      "Data    datetime64[ns]\n",
      "dtype: object\n"
     ]
    }
   ],
   "source": [
    "# Convertendo as data para o formato datetime\n",
    "df['Data'] = pd.to_datetime(arg=df['Data'])\n",
    "print(df)\n",
    "print()\n",
    "print(df.dtypes)"
   ]
  },
  {
   "cell_type": "markdown",
   "id": "d7c70631",
   "metadata": {
    "hidden": true
   },
   "source": [
    " "
   ]
  },
  {
   "cell_type": "markdown",
   "id": "5ac2fe56",
   "metadata": {
    "heading_collapsed": true
   },
   "source": [
    "### 🐥 formart"
   ]
  },
  {
   "cell_type": "markdown",
   "id": "2bac09fa",
   "metadata": {
    "hidden": true
   },
   "source": [
    "O parâmetro `format` é utilizado para especificar o formato da string de data e hora que está sendo convertida. Ele é opcional, mas é necessário quando as strings de data e hora não estão no formato padrão `YYYY-MM-DD HH:MM:SS`. Por exemplo, você pode se deparar com datas assim, 1-11-2022 ou 1-11-22 ou 1-22-11 e muitos outros tipos loucos. Para que, na hora da conversão, a função `pd.to_datetime` entenda quem é o ano, mês e dia, você precisa especificar ao parâmetro `format` quem é o ano, o mês, o dia, se eles possuem zeros ou não e outras caracteristicas da data que será convertida. \n",
    "\n",
    "Para isso, você usa os `caracteres de formatação`, como essa por exemplo, `%m-%d-%y`. Onde signifca que o mês é o primeiro numero da data, o dia é o segundo numero, o ano é o terceiro numero e que o ano possui somente 2 numeros para representa-lo. Existem diversos tipos de `caracteres de formatação` que podemos utilizar, aqui está um [link](https://docs.python.org/3/library/datetime.html#strftime-and-strptime-behavior) onde você pode encontra-los."
   ]
  },
  {
   "cell_type": "code",
   "execution_count": 55,
   "id": "d49a6e50",
   "metadata": {
    "ExecuteTime": {
     "end_time": "2023-01-29T03:44:02.204275Z",
     "start_time": "2023-01-29T03:44:02.197544Z"
    },
    "hidden": true
   },
   "outputs": [
    {
     "name": "stdout",
     "output_type": "stream",
     "text": [
      "       Data\n",
      "0  05-22-01\n",
      "1  06-22-01\n",
      "2  07-22-01\n"
     ]
    }
   ],
   "source": [
    "# Criando um data frame com datas no formato string\n",
    "# O formato da data é dia-ano-mes\n",
    "df = pd.DataFrame(['05-22-01', '06-22-01', '07-22-01'], columns=['Data'])\n",
    "print(df)"
   ]
  },
  {
   "cell_type": "code",
   "execution_count": 56,
   "id": "626ed078",
   "metadata": {
    "ExecuteTime": {
     "end_time": "2023-01-29T03:44:02.979183Z",
     "start_time": "2023-01-29T03:44:02.970544Z"
    },
    "hidden": true
   },
   "outputs": [
    {
     "data": {
      "text/plain": [
       "0   2022-01-05\n",
       "1   2022-01-06\n",
       "2   2022-01-07\n",
       "Name: Data, dtype: datetime64[ns]"
      ]
     },
     "execution_count": 56,
     "metadata": {},
     "output_type": "execute_result"
    }
   ],
   "source": [
    "# Convertendo as datas para o formato datetime\n",
    "pd.to_datetime(arg=df['Data'], format='%d-%y-%m')  \n",
    "\n",
    "# Estou utilizando os caracteres de formatação para informar quem é o ano, o mes e o dia e outras caracteristicas\n",
    "# Dessa forma a função pd.to_datetime consegue converter as datas sem problemas"
   ]
  },
  {
   "cell_type": "markdown",
   "id": "710b93eb",
   "metadata": {
    "hidden": true
   },
   "source": [
    " "
   ]
  },
  {
   "cell_type": "markdown",
   "id": "8bb47f84",
   "metadata": {
    "heading_collapsed": true
   },
   "source": [
    "### 🐥 formart"
   ]
  },
  {
   "cell_type": "code",
   "execution_count": 19,
   "id": "ea7c807d",
   "metadata": {
    "ExecuteTime": {
     "end_time": "2023-02-06T14:51:40.119615Z",
     "start_time": "2023-02-06T14:51:40.115595Z"
    },
    "hidden": true
   },
   "outputs": [],
   "source": [
    "df = pd.DataFrame(['2018-10-26 12:15', '2018-10-26 12:30'], columns=['Data'])"
   ]
  },
  {
   "cell_type": "code",
   "execution_count": 20,
   "id": "5fb873b4",
   "metadata": {
    "ExecuteTime": {
     "end_time": "2023-02-06T14:51:41.341064Z",
     "start_time": "2023-02-06T14:51:41.334493Z"
    },
    "hidden": true
   },
   "outputs": [],
   "source": [
    "df['Data'] = pd.to_datetime(arg=df['Data'])"
   ]
  },
  {
   "cell_type": "code",
   "execution_count": 25,
   "id": "4e9c542d",
   "metadata": {
    "ExecuteTime": {
     "end_time": "2023-02-06T14:53:44.572013Z",
     "start_time": "2023-02-06T14:53:44.567666Z"
    },
    "hidden": true
   },
   "outputs": [
    {
     "data": {
      "text/plain": [
       "pandas._libs.tslibs.timestamps.Timestamp"
      ]
     },
     "execution_count": 25,
     "metadata": {},
     "output_type": "execute_result"
    }
   ],
   "source": [
    "type(df['Data'][0])"
   ]
  },
  {
   "cell_type": "markdown",
   "id": "0fd970a8",
   "metadata": {
    "heading_collapsed": true
   },
   "source": [
    "# "
   ]
  },
  {
   "cell_type": "markdown",
   "id": "cf4482ca",
   "metadata": {
    "ExecuteTime": {
     "end_time": "2022-12-17T18:12:29.146821Z",
     "start_time": "2022-12-17T18:12:29.137162Z"
    },
    "hidden": true
   },
   "source": [
    "**Atributos**:\n",
    "- columns e name\n",
    "- shape\n",
    "- dtypes e dtype\n",
    "- index\n",
    "- values\n",
    "\n",
    "\n",
    "<br>\n",
    "\n",
    "**Métodos**:\n",
    "- max\n",
    "- min\n",
    "- mean\n",
    "- median\n",
    "- std\n",
    "- var \n",
    "- corr\n",
    "- describe\n",
    "- count\n",
    "- unique e nunique\n",
    "- value_counts\n",
    "- sample\n",
    "- astype\n",
    "- set_index\n",
    "- sort_values\n",
    "- sort_index\n",
    "- remane\n",
    "- rename_index\n",
    "- groupby\n",
    "- apply\n",
    "- merge\n",
    "- map\n",
    "- T\n",
    "- pivot\n",
    "- pd.cut\n",
    "- pd.crosstab\n",
    "- pd.concat\n",
    "- drop"
   ]
  }
 ],
 "metadata": {
  "kernelspec": {
   "display_name": "Python 3 (ipykernel)",
   "language": "python",
   "name": "python3"
  },
  "language_info": {
   "codemirror_mode": {
    "name": "ipython",
    "version": 3
   },
   "file_extension": ".py",
   "mimetype": "text/x-python",
   "name": "python",
   "nbconvert_exporter": "python",
   "pygments_lexer": "ipython3",
   "version": "3.11.1"
  },
  "varInspector": {
   "cols": {
    "lenName": 16,
    "lenType": 16,
    "lenVar": 40
   },
   "kernels_config": {
    "python": {
     "delete_cmd_postfix": "",
     "delete_cmd_prefix": "del ",
     "library": "var_list.py",
     "varRefreshCmd": "print(var_dic_list())"
    },
    "r": {
     "delete_cmd_postfix": ") ",
     "delete_cmd_prefix": "rm(",
     "library": "var_list.r",
     "varRefreshCmd": "cat(var_dic_list()) "
    }
   },
   "types_to_exclude": [
    "module",
    "function",
    "builtin_function_or_method",
    "instance",
    "_Feature"
   ],
   "window_display": false
  }
 },
 "nbformat": 4,
 "nbformat_minor": 5
}
