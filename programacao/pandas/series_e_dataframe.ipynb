{
 "cells": [
  {
   "cell_type": "code",
   "execution_count": 50,
   "id": "ac607630",
   "metadata": {
    "ExecuteTime": {
     "end_time": "2022-11-17T18:56:27.695086Z",
     "start_time": "2022-11-17T18:56:27.692425Z"
    }
   },
   "outputs": [],
   "source": [
    "import pandas as pd"
   ]
  },
  {
   "cell_type": "markdown",
   "id": "a05d99ca",
   "metadata": {},
   "source": [
    "# 🎯  Series"
   ]
  },
  {
   "cell_type": "markdown",
   "id": "bf7f0cc6",
   "metadata": {
    "ExecuteTime": {
     "end_time": "2022-10-14T18:30:23.316236Z",
     "start_time": "2022-10-14T18:30:23.311835Z"
    },
    "heading_collapsed": true
   },
   "source": [
    "##  👾 <font size=5>Definição<font>"
   ]
  },
  {
   "cell_type": "markdown",
   "id": "b1542751",
   "metadata": {
    "hidden": true
   },
   "source": [
    "<br>\n",
    "Series é uma matriz rotulada unidimensional que pode receber diversos tipos dados como entrada, por exemplo, str, bool, int, float, uma lista, um 1D np.ndarray, alguns objetos python e etc. <br><br>\n",
    "\n",
    "Já os dados que podem ser armazenados nas colunas de uma Series são: str, int, float, bool, dados categóricos e mais ...<br><br>\n",
    "\n",
    "obs: Dentro de uma Series pode haver uma salada de dados, no entanto vale ressalatar que o pandas é implementado usando o numpy, então se você colocar uma salada mista de dados dentro uma Series ela irá perder performace e muitas das suas vantangens.<br><br>\n",
    "\n",
    "<img src='https://pythonru.com/wp-content/uploads/2020/05/struktura-obekta-series.png' style='float:left'>"
   ]
  },
  {
   "cell_type": "markdown",
   "id": "c9e5899b",
   "metadata": {
    "hidden": true
   },
   "source": [
    " <br>"
   ]
  },
  {
   "cell_type": "markdown",
   "id": "ff442231",
   "metadata": {
    "heading_collapsed": true
   },
   "source": [
    "##  👾 <font size=5>Parametros de criação<font>"
   ]
  },
  {
   "cell_type": "markdown",
   "id": "300a0d3d",
   "metadata": {
    "hidden": true
   },
   "source": [
    "<br>\n",
    "Os parametros para a criação de uma Series estão logo abaixo junto com a explicação de cada um. \n",
    "\n",
    "No entanto caso você queira beber da fonte o link está [aqui](https://pandas.pydata.org/docs/reference/api/pandas.Series.html?highlight=pandas%20series#pandas.Series).<br><br>\n",
    "\n",
    "### <font color=purple>_pandas.Series (_<font>\n",
    "<br>\n",
    "\n",
    "**data** =  None<br> \n",
    "**index** =  None<br>\n",
    "**dtype** =  None<br>\n",
    "**name** =  None<br>\n",
    "**copy** =  False<br>\n",
    "\n",
    "### <font color=purple>_)_<font>\n",
    "<br>"
   ]
  },
  {
   "cell_type": "markdown",
   "id": "b8b8db3c",
   "metadata": {
    "hidden": true
   },
   "source": [
    "\n",
    "### <font color=purple>data : array-like, Iterable, dict, or scalar value<font>"
   ]
  },
  {
   "cell_type": "markdown",
   "id": "f0d1b15a",
   "metadata": {
    "hidden": true
   },
   "source": [
    "O parâmetro data recebe um objeto python que será transformado em uma Series. Esse objeto pode ser uma iterable, um dicionário, um int, uma str, etc.\n",
    "\n",
    "Quando você for passar ao parâmetro **data** alguma iterable, é bom lembrar que o pandas utiliza o numpy por baixo do capor, por isso passar uma iterable com elementos que possuem tipos de dados diferentes fará com que você tenha uma Series pouco performática. Você pode até criar uma Series que contém uma salada mista de dados, mas o ideal é utilizar apenas um tipo de dado."
   ]
  },
  {
   "cell_type": "markdown",
   "id": "039bf36e",
   "metadata": {
    "hidden": true
   },
   "source": [
    " "
   ]
  },
  {
   "cell_type": "markdown",
   "id": "088f9d42",
   "metadata": {
    "hidden": true
   },
   "source": [
    "Agora vamos criar uma Series a partir de uma lista e também apartir de um valor do tipo int."
   ]
  },
  {
   "cell_type": "code",
   "execution_count": 4,
   "id": "668f7642",
   "metadata": {
    "ExecuteTime": {
     "end_time": "2022-10-20T21:27:34.006724Z",
     "start_time": "2022-10-20T21:27:34.001814Z"
    },
    "hidden": true
   },
   "outputs": [
    {
     "name": "stdout",
     "output_type": "stream",
     "text": [
      "--se1-- \n",
      "0    A\n",
      "1    B\n",
      "2    C\n",
      "3    D\n",
      "dtype: object\n",
      "\n",
      "\n",
      "--se2-- \n",
      "0    2\n",
      "dtype: int64\n"
     ]
    }
   ],
   "source": [
    "se1 = pd.Series(data=['A', 'B', 'C', 'D'])\n",
    "print(f'--se1-- \\n{se1}')\n",
    "\n",
    "print('\\n')\n",
    "\n",
    "se2 = pd.Series(data=2)\n",
    "print(f'--se2-- \\n{se2}')"
   ]
  },
  {
   "cell_type": "markdown",
   "id": "09321f09",
   "metadata": {
    "hidden": true
   },
   "source": [
    " <br>"
   ]
  },
  {
   "cell_type": "markdown",
   "id": "f1ee9d14",
   "metadata": {
    "hidden": true
   },
   "source": [
    "Criando uma Series que contém uma salada mista de dados."
   ]
  },
  {
   "cell_type": "code",
   "execution_count": 5,
   "id": "fff88168",
   "metadata": {
    "ExecuteTime": {
     "end_time": "2022-10-20T21:27:34.013833Z",
     "start_time": "2022-10-20T21:27:34.008401Z"
    },
    "hidden": true
   },
   "outputs": [
    {
     "data": {
      "text/plain": [
       "0    Audax\n",
       "1       18\n",
       "2     1.81\n",
       "3        M\n",
       "4     True\n",
       "dtype: object"
      ]
     },
     "execution_count": 5,
     "metadata": {},
     "output_type": "execute_result"
    }
   ],
   "source": [
    "se = pd.Series(data=['Audax', 18, 1.81, 'M', True])\n",
    "se"
   ]
  },
  {
   "cell_type": "markdown",
   "id": "6b689069",
   "metadata": {
    "hidden": true
   },
   "source": [
    " <br>"
   ]
  },
  {
   "cell_type": "markdown",
   "id": "dd9624ae",
   "metadata": {
    "hidden": true
   },
   "source": [
    "Quando criamos uma Series a partir de um dicionário, as chaves do dicionário se tornarão os indices da Series e os valores da chaves se tornarão os elementos da Series. Mais adiante falaremos melhor sobre como funciona os indices de uma Series."
   ]
  },
  {
   "cell_type": "code",
   "execution_count": 6,
   "id": "a9ed2a1f",
   "metadata": {
    "ExecuteTime": {
     "end_time": "2022-10-20T21:27:34.020076Z",
     "start_time": "2022-10-20T21:27:34.015413Z"
    },
    "hidden": true
   },
   "outputs": [
    {
     "data": {
      "text/plain": [
       "Nome         Audax\n",
       "Idade           18\n",
       "Sexo     Masculino\n",
       "dtype: object"
      ]
     },
     "execution_count": 6,
     "metadata": {},
     "output_type": "execute_result"
    }
   ],
   "source": [
    "dicionario = {\n",
    "    'Nome': 'Audax',\n",
    "    'Idade': 18,\n",
    "    'Sexo': 'Masculino'\n",
    "}\n",
    "\n",
    "se = pd.Series(data=dicionario)\n",
    "se"
   ]
  },
  {
   "cell_type": "markdown",
   "id": "0717e1d1",
   "metadata": {
    "hidden": true
   },
   "source": [
    " <br> "
   ]
  },
  {
   "cell_type": "markdown",
   "id": "df8f1012",
   "metadata": {
    "hidden": true
   },
   "source": [
    "\n",
    "### <font color=purple>index : array-like or Index (1d) <font>"
   ]
  },
  {
   "cell_type": "markdown",
   "id": "a4677642",
   "metadata": {
    "hidden": true
   },
   "source": [
    "Antes de tudo precisamos entender como os indices de uma Series funciona. \n",
    "\n",
    "Uma Series tem 3 tipos de indices: \n",
    "\n",
    "**Indice negativo:** São valores negativos usados para representar os índices de uma Series. Para entendermos como isso acontece, o último elemento fica na posição -1, o penúltimo fica na posição -2, o antepenúltimo, na posição -3 e assim por diante. \n",
    "\n",
    "\n",
    "**Indice padrão:** Funciona como parecido como os indices de uma lista. O primeiro elemento tem indice 0, o segundo tem indice 1 e assim por diante. O que difere esse indice do indice de uma lista é a maneira como cada um é armazenado na memória, mais para frente veremos esse assunto.\n",
    "\n",
    "\n",
    "**Index label:** Quando você defini os indices da uma Series ou DataFrame você está trabalhando com o index label (no português rótulo de indice). É possivel alterá-los sempre que necessário. "
   ]
  },
  {
   "cell_type": "markdown",
   "id": "fd7755c4",
   "metadata": {
    "hidden": true
   },
   "source": [
    "---"
   ]
  },
  {
   "cell_type": "markdown",
   "id": "dea0d6f7",
   "metadata": {
    "hidden": true
   },
   "source": [
    "Nesse primeiro momento não iremos ver como selecionar elementos ou fatias de uma Series. Apena iresmo aprender como definir os indices de uma Series."
   ]
  },
  {
   "cell_type": "markdown",
   "id": "007cdbf9",
   "metadata": {
    "hidden": true
   },
   "source": [
    "---"
   ]
  },
  {
   "cell_type": "markdown",
   "id": "200378b0",
   "metadata": {
    "hidden": true
   },
   "source": [
    "O parâmetro **index** serve para definir os index labels de uma Series. Você passa uma lista com o mesmo tamanho que o objeto passado ao parâmetro **data**, composta por qualquer tipo de dado, desde que esses dados sejam [hashable](https://stackoverflow.com/questions/14535730/what-does-hashable-mean-in-python). Quando não definimos o index label, a Series adota por padrão o RangeIndex (0, 1, 2, …, n)."
   ]
  },
  {
   "cell_type": "code",
   "execution_count": 7,
   "id": "0ae12697",
   "metadata": {
    "ExecuteTime": {
     "end_time": "2022-10-20T21:27:34.026641Z",
     "start_time": "2022-10-20T21:27:34.021390Z"
    },
    "hidden": true
   },
   "outputs": [
    {
     "data": {
      "text/plain": [
       "0      Audax\n",
       "1     Netuno\n",
       "2    Ciclope\n",
       "dtype: object"
      ]
     },
     "execution_count": 7,
     "metadata": {},
     "output_type": "execute_result"
    }
   ],
   "source": [
    "# Criando uma Series sem o index label\n",
    "\n",
    "se = pd.Series(data=['Audax', 'Netuno', 'Ciclope'])\n",
    "se"
   ]
  },
  {
   "cell_type": "code",
   "execution_count": 8,
   "id": "0da6f498",
   "metadata": {
    "ExecuteTime": {
     "end_time": "2022-10-20T21:27:34.033672Z",
     "start_time": "2022-10-20T21:27:34.028227Z"
    },
    "hidden": true
   },
   "outputs": [
    {
     "data": {
      "text/plain": [
       "nome1      Audax\n",
       "nome2     Netuno\n",
       "nome3    Ciclope\n",
       "dtype: object"
      ]
     },
     "execution_count": 8,
     "metadata": {},
     "output_type": "execute_result"
    }
   ],
   "source": [
    "# Criando uma Series e definindo o index label\n",
    "se = pd.Series(data=['Audax', 'Netuno', 'Ciclope'],\n",
    "               index=['nome1', 'nome2', 'nome3'])\n",
    "se"
   ]
  },
  {
   "cell_type": "code",
   "execution_count": 9,
   "id": "142b8b81",
   "metadata": {
    "ExecuteTime": {
     "end_time": "2022-10-20T21:27:34.039899Z",
     "start_time": "2022-10-20T21:27:34.035323Z"
    },
    "hidden": true
   },
   "outputs": [
    {
     "data": {
      "text/plain": [
       "nome1      Audax\n",
       "2.5       Netuno\n",
       "2        Ciclope\n",
       "True       Spike\n",
       "dtype: object"
      ]
     },
     "execution_count": 9,
     "metadata": {},
     "output_type": "execute_result"
    }
   ],
   "source": [
    "# Definindo um index label muito louco\n",
    "se = pd.Series(data=['Audax', 'Netuno', 'Ciclope', 'Spike'],\n",
    "               index=['nome1', 2.5, 2, True])\n",
    "se"
   ]
  },
  {
   "cell_type": "markdown",
   "id": "45cf628d",
   "metadata": {
    "hidden": true
   },
   "source": [
    " <br>"
   ]
  },
  {
   "cell_type": "markdown",
   "id": "10575653",
   "metadata": {
    "hidden": true
   },
   "source": [
    "É importante lembrar que é possivel usar o indice negativo e o indice padrão após o index label ser definido, menos quando o index label for definido por valores do tipo int ou float. Nesse caso o index label meio que sobrescrevece os outros tipos de indices."
   ]
  },
  {
   "cell_type": "code",
   "execution_count": 10,
   "id": "5cf93ebd",
   "metadata": {
    "ExecuteTime": {
     "end_time": "2022-10-20T21:27:34.048798Z",
     "start_time": "2022-10-20T21:27:34.042652Z"
    },
    "hidden": true
   },
   "outputs": [
    {
     "data": {
      "text/plain": [
       "-2.0       Audax\n",
       " 13.3     Netuno\n",
       " 10.0    Ciclope\n",
       " 0.0       Spike\n",
       "dtype: object"
      ]
     },
     "execution_count": 10,
     "metadata": {},
     "output_type": "execute_result"
    }
   ],
   "source": [
    "# Definindo um index label com valores numericos, mas que não remete ao RangeIndex(0, 1, 2, ..., n)\n",
    "se = pd.Series(data=['Audax', 'Netuno', 'Ciclope',\n",
    "               'Spike'], index=[-2, 13.3, 10, 0])\n",
    "se"
   ]
  },
  {
   "cell_type": "markdown",
   "id": "9b756c63",
   "metadata": {
    "hidden": true
   },
   "source": [
    " <br>"
   ]
  },
  {
   "cell_type": "markdown",
   "id": "e70a7168",
   "metadata": {
    "hidden": true
   },
   "source": [
    "Parece meio estranho, mas podemos ter valores de índices iguais, quando buscamos pelo indice, ele tráz todos os elementos 'apontados' por aquele indice (todas as linhas que tem referência daquele índice)."
   ]
  },
  {
   "cell_type": "code",
   "execution_count": 11,
   "id": "5bd2cf8b",
   "metadata": {
    "ExecuteTime": {
     "end_time": "2022-10-20T21:27:34.057355Z",
     "start_time": "2022-10-20T21:27:34.051232Z"
    },
    "hidden": true
   },
   "outputs": [
    {
     "name": "stdout",
     "output_type": "stream",
     "text": [
      "A      Audax\n",
      "A     Netuno\n",
      "B    Ciclope\n",
      "C      Spike\n",
      "dtype: object \n",
      "\n"
     ]
    },
    {
     "data": {
      "text/plain": [
       "A     Audax\n",
       "A    Netuno\n",
       "dtype: object"
      ]
     },
     "execution_count": 11,
     "metadata": {},
     "output_type": "execute_result"
    }
   ],
   "source": [
    "# Definindo um index label com valores de indices repetidos\n",
    "se = pd.Series(data=['Audax', 'Netuno', 'Ciclope',\n",
    "               'Spike'], index=['A', 'A', 'B', 'C'])\n",
    "print(se, '\\n')\n",
    "\n",
    "# Selecionando os valores que correspondem ao indice 'A'\n",
    "se['A']"
   ]
  },
  {
   "cell_type": "markdown",
   "id": "47be14f8",
   "metadata": {
    "hidden": true
   },
   "source": [
    " <br>"
   ]
  },
  {
   "cell_type": "markdown",
   "id": "14c7b672",
   "metadata": {
    "hidden": true
   },
   "source": [
    "\n",
    "### <font color=purple>dtype : str, numpy.dtype, or ExtensionDtype, optional <font>"
   ]
  },
  {
   "cell_type": "markdown",
   "id": "26145f78",
   "metadata": {
    "hidden": true
   },
   "source": [
    "Esse parâmetro serve para definirmos o tipo de dado dos elementos de uma Series. Se não definirmos o tipo, o pandas infere a partir dos dados. É bem importante que uma Series tenha elementos com o mesmo tipo de dado, pois assim você terá mais eficiencia e muitas vantangens para manipulá-la."
   ]
  },
  {
   "cell_type": "code",
   "execution_count": 12,
   "id": "f7a9b3c3",
   "metadata": {
    "ExecuteTime": {
     "end_time": "2022-10-20T21:27:34.063492Z",
     "start_time": "2022-10-20T21:27:34.058536Z"
    },
    "hidden": true
   },
   "outputs": [
    {
     "name": "stdout",
     "output_type": "stream",
     "text": [
      "float64\n"
     ]
    }
   ],
   "source": [
    "# Usando uma string para definir o dtype de uma Series\n",
    "# Poderia ser 'str32', 'str16', 'int8', 'int32', 'bool', etc.\n",
    "se = pd.Series(data=[18, 25, 19, 31], dtype='float')\n",
    "print(se.dtype)"
   ]
  },
  {
   "cell_type": "code",
   "execution_count": 13,
   "id": "72d2cf95",
   "metadata": {
    "ExecuteTime": {
     "end_time": "2022-10-20T21:27:34.069937Z",
     "start_time": "2022-10-20T21:27:34.064730Z"
    },
    "hidden": true
   },
   "outputs": [
    {
     "name": "stdout",
     "output_type": "stream",
     "text": [
      "float64\n"
     ]
    }
   ],
   "source": [
    "# Usando o numpy.dtype para definir o dtype de uma Series\n",
    "se = pd.Series(data=[18, 25, 19, 31], dtype=np.float64)\n",
    "print(se.dtype)"
   ]
  },
  {
   "cell_type": "markdown",
   "id": "554fe66b",
   "metadata": {
    "hidden": true
   },
   "source": [
    " <br>"
   ]
  },
  {
   "cell_type": "markdown",
   "id": "5a89fd26",
   "metadata": {
    "hidden": true
   },
   "source": [
    "Quando uma Series tem uma salada mista de dados ou os dados são do tipo str, o dtype dela é defido pelo pandas como object."
   ]
  },
  {
   "cell_type": "code",
   "execution_count": 14,
   "id": "2485fd28",
   "metadata": {
    "ExecuteTime": {
     "end_time": "2022-10-20T21:27:34.076602Z",
     "start_time": "2022-10-20T21:27:34.071265Z"
    },
    "hidden": true
   },
   "outputs": [
    {
     "name": "stdout",
     "output_type": "stream",
     "text": [
      "object\n",
      "object\n"
     ]
    }
   ],
   "source": [
    "se1 = pd.Series(data=['Audax', 18, 'M', 1.81])\n",
    "se2 = pd.Series(data=['A', 'B', 'C', 'D'])\n",
    "\n",
    "print(se1.dtype)\n",
    "print(se2.dtype)"
   ]
  },
  {
   "cell_type": "markdown",
   "id": "ac63fc90",
   "metadata": {
    "hidden": true
   },
   "source": [
    " <br>"
   ]
  },
  {
   "cell_type": "markdown",
   "id": "fd77f0d6",
   "metadata": {
    "hidden": true
   },
   "source": [
    "Cuidado na hora conversão, para não tentar fazer conversões que não sejam possiveis."
   ]
  },
  {
   "cell_type": "code",
   "execution_count": 15,
   "id": "548fb928",
   "metadata": {
    "ExecuteTime": {
     "end_time": "2022-10-20T21:27:35.252306Z",
     "start_time": "2022-10-20T21:27:34.077949Z"
    },
    "hidden": true
   },
   "outputs": [
    {
     "ename": "ValueError",
     "evalue": "Trying to coerce float values to integers",
     "output_type": "error",
     "traceback": [
      "\u001b[0;31m---------------------------------------------------------------------------\u001b[0m",
      "\u001b[0;31mValueError\u001b[0m                                Traceback (most recent call last)",
      "Input \u001b[0;32mIn [15]\u001b[0m, in \u001b[0;36m<cell line: 1>\u001b[0;34m()\u001b[0m\n\u001b[0;32m----> 1\u001b[0m se1 \u001b[38;5;241m=\u001b[39m \u001b[43mpd\u001b[49m\u001b[38;5;241;43m.\u001b[39;49m\u001b[43mSeries\u001b[49m\u001b[43m(\u001b[49m\u001b[43mdata\u001b[49m\u001b[38;5;241;43m=\u001b[39;49m\u001b[43m[\u001b[49m\u001b[38;5;241;43m18.1\u001b[39;49m\u001b[43m,\u001b[49m\u001b[43m \u001b[49m\u001b[38;5;241;43m25.3\u001b[39;49m\u001b[43m,\u001b[49m\u001b[43m \u001b[49m\u001b[38;5;241;43m19.7\u001b[39;49m\u001b[43m,\u001b[49m\u001b[43m \u001b[49m\u001b[38;5;241;43m31.8\u001b[39;49m\u001b[43m]\u001b[49m\u001b[43m,\u001b[49m\u001b[43m \u001b[49m\u001b[43mdtype\u001b[49m\u001b[38;5;241;43m=\u001b[39;49m\u001b[38;5;124;43m'\u001b[39;49m\u001b[38;5;124;43mint64\u001b[39;49m\u001b[38;5;124;43m'\u001b[39;49m\u001b[43m)\u001b[49m\n",
      "File \u001b[0;32m~/.local/lib/python3.10/site-packages/pandas/core/series.py:451\u001b[0m, in \u001b[0;36mSeries.__init__\u001b[0;34m(self, data, index, dtype, name, copy, fastpath)\u001b[0m\n\u001b[1;32m    449\u001b[0m         data \u001b[38;5;241m=\u001b[39m data\u001b[38;5;241m.\u001b[39mcopy()\n\u001b[1;32m    450\u001b[0m \u001b[38;5;28;01melse\u001b[39;00m:\n\u001b[0;32m--> 451\u001b[0m     data \u001b[38;5;241m=\u001b[39m \u001b[43msanitize_array\u001b[49m\u001b[43m(\u001b[49m\u001b[43mdata\u001b[49m\u001b[43m,\u001b[49m\u001b[43m \u001b[49m\u001b[43mindex\u001b[49m\u001b[43m,\u001b[49m\u001b[43m \u001b[49m\u001b[43mdtype\u001b[49m\u001b[43m,\u001b[49m\u001b[43m \u001b[49m\u001b[43mcopy\u001b[49m\u001b[43m)\u001b[49m\n\u001b[1;32m    453\u001b[0m     manager \u001b[38;5;241m=\u001b[39m get_option(\u001b[38;5;124m\"\u001b[39m\u001b[38;5;124mmode.data_manager\u001b[39m\u001b[38;5;124m\"\u001b[39m)\n\u001b[1;32m    454\u001b[0m     \u001b[38;5;28;01mif\u001b[39;00m manager \u001b[38;5;241m==\u001b[39m \u001b[38;5;124m\"\u001b[39m\u001b[38;5;124mblock\u001b[39m\u001b[38;5;124m\"\u001b[39m:\n",
      "File \u001b[0;32m~/.local/lib/python3.10/site-packages/pandas/core/construction.py:594\u001b[0m, in \u001b[0;36msanitize_array\u001b[0;34m(data, index, dtype, copy, raise_cast_failure, allow_2d)\u001b[0m\n\u001b[1;32m    591\u001b[0m     data \u001b[38;5;241m=\u001b[39m \u001b[38;5;28mlist\u001b[39m(data)\n\u001b[1;32m    593\u001b[0m \u001b[38;5;28;01mif\u001b[39;00m dtype \u001b[38;5;129;01mis\u001b[39;00m \u001b[38;5;129;01mnot\u001b[39;00m \u001b[38;5;28;01mNone\u001b[39;00m \u001b[38;5;129;01mor\u001b[39;00m \u001b[38;5;28mlen\u001b[39m(data) \u001b[38;5;241m==\u001b[39m \u001b[38;5;241m0\u001b[39m:\n\u001b[0;32m--> 594\u001b[0m     subarr \u001b[38;5;241m=\u001b[39m \u001b[43m_try_cast\u001b[49m\u001b[43m(\u001b[49m\u001b[43mdata\u001b[49m\u001b[43m,\u001b[49m\u001b[43m \u001b[49m\u001b[43mdtype\u001b[49m\u001b[43m,\u001b[49m\u001b[43m \u001b[49m\u001b[43mcopy\u001b[49m\u001b[43m,\u001b[49m\u001b[43m \u001b[49m\u001b[43mraise_cast_failure\u001b[49m\u001b[43m)\u001b[49m\n\u001b[1;32m    595\u001b[0m \u001b[38;5;28;01melse\u001b[39;00m:\n\u001b[1;32m    596\u001b[0m     subarr \u001b[38;5;241m=\u001b[39m maybe_convert_platform(data)\n",
      "File \u001b[0;32m~/.local/lib/python3.10/site-packages/pandas/core/construction.py:779\u001b[0m, in \u001b[0;36m_try_cast\u001b[0;34m(arr, dtype, copy, raise_cast_failure)\u001b[0m\n\u001b[1;32m    773\u001b[0m \u001b[38;5;28;01mtry\u001b[39;00m:\n\u001b[1;32m    774\u001b[0m     \u001b[38;5;66;03m# GH#15832: Check if we are requesting a numeric dtype and\u001b[39;00m\n\u001b[1;32m    775\u001b[0m     \u001b[38;5;66;03m# that we can convert the data to the requested dtype.\u001b[39;00m\n\u001b[1;32m    776\u001b[0m     \u001b[38;5;28;01mif\u001b[39;00m is_integer_dtype(dtype):\n\u001b[1;32m    777\u001b[0m         \u001b[38;5;66;03m# this will raise if we have e.g. floats\u001b[39;00m\n\u001b[0;32m--> 779\u001b[0m         subarr \u001b[38;5;241m=\u001b[39m \u001b[43mmaybe_cast_to_integer_array\u001b[49m\u001b[43m(\u001b[49m\u001b[43marr\u001b[49m\u001b[43m,\u001b[49m\u001b[43m \u001b[49m\u001b[43mdtype\u001b[49m\u001b[43m)\u001b[49m\n\u001b[1;32m    780\u001b[0m     \u001b[38;5;28;01melse\u001b[39;00m:\n\u001b[1;32m    781\u001b[0m         \u001b[38;5;66;03m# 4 tests fail if we move this to a try/except/else; see\u001b[39;00m\n\u001b[1;32m    782\u001b[0m         \u001b[38;5;66;03m#  test_constructor_compound_dtypes, test_constructor_cast_failure\u001b[39;00m\n\u001b[1;32m    783\u001b[0m         \u001b[38;5;66;03m#  test_constructor_dict_cast2, test_loc_setitem_dtype\u001b[39;00m\n\u001b[1;32m    784\u001b[0m         subarr \u001b[38;5;241m=\u001b[39m np\u001b[38;5;241m.\u001b[39marray(arr, dtype\u001b[38;5;241m=\u001b[39mdtype, copy\u001b[38;5;241m=\u001b[39mcopy)\n",
      "File \u001b[0;32m~/.local/lib/python3.10/site-packages/pandas/core/dtypes/cast.py:2060\u001b[0m, in \u001b[0;36mmaybe_cast_to_integer_array\u001b[0;34m(arr, dtype, copy)\u001b[0m\n\u001b[1;32m   2056\u001b[0m     \u001b[38;5;28;01mif\u001b[39;00m \u001b[38;5;129;01mnot\u001b[39;00m np\u001b[38;5;241m.\u001b[39misfinite(arr)\u001b[38;5;241m.\u001b[39mall():\n\u001b[1;32m   2057\u001b[0m         \u001b[38;5;28;01mraise\u001b[39;00m IntCastingNaNError(\n\u001b[1;32m   2058\u001b[0m             \u001b[38;5;124m\"\u001b[39m\u001b[38;5;124mCannot convert non-finite values (NA or inf) to integer\u001b[39m\u001b[38;5;124m\"\u001b[39m\n\u001b[1;32m   2059\u001b[0m         )\n\u001b[0;32m-> 2060\u001b[0m     \u001b[38;5;28;01mraise\u001b[39;00m \u001b[38;5;167;01mValueError\u001b[39;00m(\u001b[38;5;124m\"\u001b[39m\u001b[38;5;124mTrying to coerce float values to integers\u001b[39m\u001b[38;5;124m\"\u001b[39m)\n\u001b[1;32m   2061\u001b[0m \u001b[38;5;28;01mif\u001b[39;00m is_object_dtype(arr\u001b[38;5;241m.\u001b[39mdtype):\n\u001b[1;32m   2062\u001b[0m     \u001b[38;5;28;01mraise\u001b[39;00m \u001b[38;5;167;01mValueError\u001b[39;00m(\u001b[38;5;124m\"\u001b[39m\u001b[38;5;124mTrying to coerce float values to integers\u001b[39m\u001b[38;5;124m\"\u001b[39m)\n",
      "\u001b[0;31mValueError\u001b[0m: Trying to coerce float values to integers"
     ]
    }
   ],
   "source": [
    "se1 = pd.Series(data=[18.1, 25.3, 19.7, 31.8], dtype='int64')"
   ]
  },
  {
   "cell_type": "markdown",
   "id": "6964face",
   "metadata": {
    "hidden": true
   },
   "source": [
    " <br>"
   ]
  },
  {
   "cell_type": "markdown",
   "id": "457d6ab3",
   "metadata": {
    "hidden": true
   },
   "source": [
    "\n",
    "### <font color=purple>name : str, optional <font>"
   ]
  },
  {
   "cell_type": "markdown",
   "id": "bf193c09",
   "metadata": {
    "hidden": true
   },
   "source": [
    "Serve para nomear uma Series, deve ser passado uma string. Se uma Serie for transformada numa coluna de um dataframe, o nome dela será usado como o rótulo da coluna do dataframe."
   ]
  },
  {
   "cell_type": "code",
   "execution_count": null,
   "id": "5638a562",
   "metadata": {
    "ExecuteTime": {
     "end_time": "2022-10-20T21:27:35.280185Z",
     "start_time": "2022-10-20T21:27:35.280175Z"
    },
    "hidden": true
   },
   "outputs": [],
   "source": [
    "se = pd.Series(data=[13, 18, 17, 20, 23], name='Idade')\n",
    "se"
   ]
  },
  {
   "cell_type": "markdown",
   "id": "bfcc2df2",
   "metadata": {
    "hidden": true
   },
   "source": [
    " <br>"
   ]
  },
  {
   "cell_type": "markdown",
   "id": "68149f06",
   "metadata": {
    "hidden": true
   },
   "source": [
    "\n",
    "### <font color=purple>copy : bool, default False <font>"
   ]
  },
  {
   "cell_type": "markdown",
   "id": "eda4e3b2",
   "metadata": {
    "hidden": true
   },
   "source": [
    "Faz uma cópia do objeto de entrada. Afeta apenas a entrada Série ou 1d ndarray."
   ]
  },
  {
   "cell_type": "code",
   "execution_count": null,
   "id": "4fb6c833",
   "metadata": {
    "ExecuteTime": {
     "end_time": "2022-10-20T21:27:35.280922Z",
     "start_time": "2022-10-20T21:27:35.280914Z"
    },
    "hidden": true
   },
   "outputs": [],
   "source": [
    "import numpy as np\n",
    "\n",
    "# Criando um nd array para usar no exemplo\n",
    "x = np.array([12, 13, 15, 11, 10])\n",
    "print(x)\n",
    "\n",
    "# Criando 2 Series, uma é uma copia e a outra apenas um tipo de apontamento para x\n",
    "se1 = pd.Series(data=x, copy=True)\n",
    "se2 = pd.Series(data=x, copy=False)\n",
    "\n",
    "# Modificando o a variável x\n",
    "x[0] = 99\n",
    "\n",
    "# Mostrando as 2 Series e a variável x\n",
    "print(x, '\\n')\n",
    "print(f'**se1** \\n{se1}\\n')\n",
    "print(f'**se2** \\n{se2}\\n')"
   ]
  },
  {
   "cell_type": "markdown",
   "id": "aca205d4",
   "metadata": {
    "heading_collapsed": true
   },
   "source": [
    "##  👾 <font size=5>Indexação basica<font>"
   ]
  },
  {
   "cell_type": "markdown",
   "id": "f05df7ad",
   "metadata": {
    "hidden": true
   },
   "source": [
    "Vimos anteriormente que uma Series possui 3 tipos de indices: **Indice negativo**, **Indice padão** e **Index\n",
    "label**. Quando não definimos o index label podemos selecionar elementos de uma Series apenas usando o indice padrão. Já para selecionar intervalos podemos utilizar o indice padrão ou indece negativo."
   ]
  },
  {
   "cell_type": "code",
   "execution_count": 42,
   "id": "4cd9cc7c",
   "metadata": {
    "ExecuteTime": {
     "end_time": "2022-10-20T21:44:02.620848Z",
     "start_time": "2022-10-20T21:44:02.612066Z"
    },
    "hidden": true
   },
   "outputs": [
    {
     "name": "stdout",
     "output_type": "stream",
     "text": [
      "Mike \n",
      "\n",
      "\n",
      "2    Mike\n",
      "3    Xuxa\n",
      "dtype: object \n",
      "\n",
      "\n",
      "1    Spike\n",
      "2     Mike\n",
      "3     Xuxa\n",
      "dtype: object\n"
     ]
    },
    {
     "data": {
      "text/plain": [
       "RangeIndex(start=0, stop=5, step=1)"
      ]
     },
     "execution_count": 42,
     "metadata": {},
     "output_type": "execute_result"
    }
   ],
   "source": [
    "se = pd.Series('Audax Spike Mike Xuxa Ana'.split())\n",
    "\n",
    "# selecionando um único elemento\n",
    "print(se[2], '\\n\\n')\n",
    "\n",
    "# selecionando elementos especificos\n",
    "print(se[[2, 3]], '\\n\\n')\n",
    "\n",
    "# selecionando um intervalo de elementos\n",
    "print(se[-4:-1])\n",
    "se.index"
   ]
  },
  {
   "cell_type": "markdown",
   "id": "8d838753",
   "metadata": {
    "hidden": true
   },
   "source": [
    " <br>"
   ]
  },
  {
   "cell_type": "markdown",
   "id": "54cc35f1",
   "metadata": {
    "hidden": true
   },
   "source": [
    "Quando definimos os index labels de uma Series como valores inteiros ou float, só poderemos acessar os itens dessa Series utilizando o index label. Já para selecionar intervalos podemos utilizar o indice padrão ou indice negativo."
   ]
  },
  {
   "cell_type": "code",
   "execution_count": 44,
   "id": "b99ee2df",
   "metadata": {
    "ExecuteTime": {
     "end_time": "2022-10-20T21:45:02.343675Z",
     "start_time": "2022-10-20T21:45:02.333983Z"
    },
    "hidden": true
   },
   "outputs": [
    {
     "name": "stdout",
     "output_type": "stream",
     "text": [
      "Audax \n",
      "\n",
      "\n",
      "10    Audax\n",
      "20    Spike\n",
      "dtype: object \n",
      "\n",
      "\n",
      "20    Spike\n",
      "30     Mike\n",
      "40     Xuxa\n",
      "dtype: object\n"
     ]
    }
   ],
   "source": [
    "se = pd.Series('Audax Spike Mike Xuxa Ana'.split(), index=[10, 20, 30, 40, 50])\n",
    "\n",
    "# selecionando um único elemento\n",
    "print(se[10], '\\n\\n')\n",
    "\n",
    "# selecionando elementos especificos\n",
    "print(se[[10, 20]], '\\n\\n')\n",
    "\n",
    "# selecionando um intervalo de elementos\n",
    "print(se[1:4])"
   ]
  },
  {
   "cell_type": "markdown",
   "id": "e3c21c58",
   "metadata": {
    "hidden": true
   },
   "source": [
    " <br>"
   ]
  },
  {
   "cell_type": "markdown",
   "id": "336724f3",
   "metadata": {
    "hidden": true
   },
   "source": [
    "Por fim, quando definimos os index labels de uma Series como strings ou outro tipo de dado que não seja float ou int, poderemos acessar os elementos da Series utilizando os 3 tipos de indice. Para selecionar intervalos podemos também utilizar os 3 tipos de indice."
   ]
  },
  {
   "cell_type": "code",
   "execution_count": 50,
   "id": "506fb62b",
   "metadata": {
    "ExecuteTime": {
     "end_time": "2022-10-20T21:47:21.691372Z",
     "start_time": "2022-10-20T21:47:21.685381Z"
    },
    "hidden": true,
    "scrolled": true
   },
   "outputs": [
    {
     "name": "stdout",
     "output_type": "stream",
     "text": [
      "Audax\n",
      "Audax\n",
      "Audax\n"
     ]
    }
   ],
   "source": [
    "se = pd.Series('Audax Spike Mike Xuxa Ana'.split(), index='a b c d e'.split())\n",
    "\n",
    "# selecionando um único elemento\n",
    "print(se['a'])\n",
    "print(se[0])\n",
    "print(se[-5])"
   ]
  },
  {
   "cell_type": "markdown",
   "id": "bc9fa2b9",
   "metadata": {
    "hidden": true
   },
   "source": [
    " "
   ]
  },
  {
   "cell_type": "code",
   "execution_count": 52,
   "id": "6546fa09",
   "metadata": {
    "ExecuteTime": {
     "end_time": "2022-10-20T21:47:41.629391Z",
     "start_time": "2022-10-20T21:47:41.620672Z"
    },
    "hidden": true
   },
   "outputs": [
    {
     "name": "stdout",
     "output_type": "stream",
     "text": [
      "a    Audax\n",
      "b    Spike\n",
      "dtype: object \n",
      "\n",
      "a    Audax\n",
      "b    Spike\n",
      "dtype: object \n",
      "\n",
      "a    Audax\n",
      "b    Spike\n",
      "dtype: object\n"
     ]
    }
   ],
   "source": [
    "# selecionando elementos especificos\n",
    "print(se[['a', 'b']], '\\n')\n",
    "print(se[[0, 1]], '\\n')\n",
    "print(se[[-5, -4]])"
   ]
  },
  {
   "cell_type": "markdown",
   "id": "3c64030d",
   "metadata": {
    "hidden": true
   },
   "source": [
    " "
   ]
  },
  {
   "cell_type": "code",
   "execution_count": 53,
   "id": "edb49522",
   "metadata": {
    "ExecuteTime": {
     "end_time": "2022-10-20T21:47:44.237363Z",
     "start_time": "2022-10-20T21:47:44.227976Z"
    },
    "hidden": true,
    "scrolled": true
   },
   "outputs": [
    {
     "name": "stdout",
     "output_type": "stream",
     "text": [
      "c    Mike\n",
      "d    Xuxa\n",
      "dtype: object \n",
      "\n",
      "c    Mike\n",
      "d    Xuxa\n",
      "dtype: object \n",
      "\n",
      "c    Mike\n",
      "d    Xuxa\n",
      "dtype: object\n"
     ]
    }
   ],
   "source": [
    "# selecionando um intervalo de elementos\n",
    "# perceba que o elemento que se encontra na posição 'd' é selecionado\n",
    "print(se['c':'d'], '\\n')\n",
    "print(se[2:4], '\\n')\n",
    "print(se[-3:-1])"
   ]
  },
  {
   "cell_type": "markdown",
   "id": "e8e56f28",
   "metadata": {
    "hidden": true
   },
   "source": [
    " <br>"
   ]
  },
  {
   "cell_type": "markdown",
   "id": "ce6fcaff",
   "metadata": {
    "hidden": true
   },
   "source": [
    "O **range index** (index default da Series) deixa a Series ocupando menos espaço na memória do que o **int64 index** (tipo de indice de uma lista e outras iterables), pois em vez de armazenar o indice de cada elemento na memória ele guarada apenas o start, stop e o step, ou seja, o **primeiro indice**, o **ultimo indice** e a **razão entre os indices**."
   ]
  },
  {
   "cell_type": "code",
   "execution_count": null,
   "id": "79c81d87",
   "metadata": {
    "ExecuteTime": {
     "end_time": "2022-10-20T21:27:35.285886Z",
     "start_time": "2022-10-20T21:27:35.285876Z"
    },
    "hidden": true
   },
   "outputs": [],
   "source": [
    "import sys\n",
    "\n",
    "# criando uma series com o indice range index\n",
    "s1 = pd.Series([x for x in range(1000000)])\n",
    "print(f'Tamanho de s1 em bytes: {sys.getsizeof(s1)}')\n",
    "\n",
    "# criando uma series com o indice int64 index\n",
    "s2 = pd.Series([x for x in range(1000000)], index=[x for x in range(1000000)])\n",
    "print(f'Tamanho de s2 em bytes: {sys.getsizeof(s2)}')"
   ]
  },
  {
   "cell_type": "markdown",
   "id": "8444dfab",
   "metadata": {
    "hidden": true
   },
   "source": [
    " <br>"
   ]
  },
  {
   "cell_type": "markdown",
   "id": "6a72824b",
   "metadata": {
    "hidden": true
   },
   "source": [
    "É possivel que uma Series tenha elementos com o mesmo indice, devido o index label aceitar duplicatas."
   ]
  },
  {
   "cell_type": "code",
   "execution_count": null,
   "id": "6fd54316",
   "metadata": {
    "ExecuteTime": {
     "end_time": "2022-10-20T21:27:35.286676Z",
     "start_time": "2022-10-20T21:27:35.286666Z"
    },
    "hidden": true
   },
   "outputs": [],
   "source": [
    "# criando uma Series com alguns indices repetidos\n",
    "se = pd.Series('Audax Spike Mike Xuxa Ana'.split(), index='a a a d e'.split())\n",
    "\n",
    "# selecionando todos os elementos que correnspodem ao indice 'a'\n",
    "se['a']"
   ]
  },
  {
   "cell_type": "markdown",
   "id": "a458ab24",
   "metadata": {
    "hidden": true
   },
   "source": [
    " <br>"
   ]
  },
  {
   "cell_type": "markdown",
   "id": "82ff27dd",
   "metadata": {
    "hidden": true
   },
   "source": [
    "Sobrescrevendo um elemento de uma Series."
   ]
  },
  {
   "cell_type": "code",
   "execution_count": null,
   "id": "ea13d4f2",
   "metadata": {
    "ExecuteTime": {
     "end_time": "2022-10-20T21:27:35.287337Z",
     "start_time": "2022-10-20T21:27:35.287327Z"
    },
    "hidden": true
   },
   "outputs": [],
   "source": [
    "# criando a Series\n",
    "se = pd.Series([10, 20, 30, 40, 50, 60, 70])\n",
    "\n",
    "# sobrescrevendo o 1° elemento\n",
    "se[0] = 999\n",
    "print(se)"
   ]
  },
  {
   "cell_type": "markdown",
   "id": "ff615b1a",
   "metadata": {
    "hidden": true
   },
   "source": [
    " <br>"
   ]
  },
  {
   "cell_type": "markdown",
   "id": "f819ad66",
   "metadata": {
    "hidden": true
   },
   "source": [
    "Sobrescrevendo elementos especificos de uma Series."
   ]
  },
  {
   "cell_type": "code",
   "execution_count": null,
   "id": "d930b57b",
   "metadata": {
    "ExecuteTime": {
     "end_time": "2022-10-20T21:27:35.287978Z",
     "start_time": "2022-10-20T21:27:35.287969Z"
    },
    "hidden": true
   },
   "outputs": [],
   "source": [
    "# criando a Series\n",
    "se = pd.Series([10, 20, 30, 40, 50, 60, 70])\n",
    "\n",
    "# sobrescrevendo os elementos\n",
    "se[[0, 1, 2]] = 999\n",
    "print(se)"
   ]
  },
  {
   "cell_type": "markdown",
   "id": "28a90666",
   "metadata": {
    "hidden": true
   },
   "source": [
    " <br>"
   ]
  },
  {
   "cell_type": "markdown",
   "id": "510e2a46",
   "metadata": {
    "ExecuteTime": {
     "end_time": "2022-10-18T22:23:20.449748Z",
     "start_time": "2022-10-18T22:23:20.442087Z"
    },
    "hidden": true
   },
   "source": [
    "Sobrescrevendo intervalos de uma Series."
   ]
  },
  {
   "cell_type": "code",
   "execution_count": null,
   "id": "eed7a215",
   "metadata": {
    "ExecuteTime": {
     "end_time": "2022-10-20T21:27:35.288658Z",
     "start_time": "2022-10-20T21:27:35.288648Z"
    },
    "hidden": true,
    "scrolled": true
   },
   "outputs": [],
   "source": [
    "# criando a Series\n",
    "se = pd.Series([10, 20, 30, 40, 50, 60, 70])\n",
    "\n",
    "# sobrescrevendo o intervalo\n",
    "se[4:] = 999\n",
    "print(se)"
   ]
  },
  {
   "cell_type": "markdown",
   "id": "5d10c656",
   "metadata": {
    "hidden": true
   },
   "source": [
    " <br>"
   ]
  },
  {
   "cell_type": "markdown",
   "id": "5d1597c8",
   "metadata": {
    "hidden": true
   },
   "source": [
    "Sobrescrevendo uma Series completa.\n"
   ]
  },
  {
   "cell_type": "code",
   "execution_count": null,
   "id": "009e057e",
   "metadata": {
    "ExecuteTime": {
     "end_time": "2022-10-20T21:27:35.289672Z",
     "start_time": "2022-10-20T21:27:35.289663Z"
    },
    "hidden": true
   },
   "outputs": [],
   "source": [
    "# criando a Series\n",
    "se = pd.Series([10, 20, 30, 40, 50, 60, 70], index='A B C D E F G'.split())\n",
    "\n",
    "# sobrescrevendo os elementos\n",
    "novos_valores = [x for x in range(7)]\n",
    "se[:] = novos_valores\n",
    "print(se)\n",
    "\n",
    "# note que somente os valores foram sobrescritos"
   ]
  },
  {
   "cell_type": "markdown",
   "id": "f9043e6a",
   "metadata": {
    "hidden": true
   },
   "source": [
    " <br>"
   ]
  },
  {
   "cell_type": "markdown",
   "id": "e83f0376",
   "metadata": {
    "hidden": true
   },
   "source": [
    "Trocando elementos de uma Series através de outra Series."
   ]
  },
  {
   "cell_type": "code",
   "execution_count": null,
   "id": "208702ef",
   "metadata": {
    "ExecuteTime": {
     "end_time": "2022-10-20T21:27:35.290165Z",
     "start_time": "2022-10-20T21:27:35.290157Z"
    },
    "hidden": true
   },
   "outputs": [],
   "source": [
    "x = pd.Series([10, 20, 30, 40])\n",
    "y = pd.Series(['A', 'A', 'A', 'A'])\n",
    "\n",
    "# os elementos que estão na posição 0 e 2 de x vão ser substituidos pelos elementos que estão na posição 0 e 2 de y\n",
    "x.loc[[0, 2]] = y\n",
    "\n",
    "print(x)"
   ]
  },
  {
   "cell_type": "markdown",
   "id": "63b93332",
   "metadata": {
    "hidden": true
   },
   "source": [
    " <br>"
   ]
  },
  {
   "cell_type": "markdown",
   "id": "1d859a4d",
   "metadata": {
    "heading_collapsed": true
   },
   "source": [
    "##  👾 <font size=5>Indexação utilizando métodos<font>"
   ]
  },
  {
   "cell_type": "markdown",
   "id": "53775ff0",
   "metadata": {
    "hidden": true
   },
   "source": [
    "No pandas temos duas maneiras muito interessantes de resgatar os dados que queremos, seja de um dataframe ou uma series. Neste tópico iremos trabalhar apenas com as series.\n",
    "\n",
    "- loc\n",
    "- iloc\n",
    "\n",
    "Basicamente os dois métodos servem para resgatar dados, mas possuem características distintas na hora que vamos utilizá-los. Vamos entender agora quais são as particularidades deles e os casos de uso para cada um."
   ]
  },
  {
   "cell_type": "markdown",
   "id": "b4b29fb5",
   "metadata": {
    "hidden": true
   },
   "source": [
    "###  🐥 <font size=4>loc<font>"
   ]
  },
  {
   "cell_type": "markdown",
   "id": "539e0fe5",
   "metadata": {
    "hidden": true
   },
   "source": [
    "Quando a Series tiver como indice o **range index**, o método loc só poderá selecionar elementos da Series através do range index.  \n",
    "Quando a Series tiver como indice o **index label**, o método loc só poderá selecionar elementos da Series através do index label. \n",
    " \n",
    "\n",
    "Vamos criar uma Series para usar nos exemplos seguintes."
   ]
  },
  {
   "cell_type": "code",
   "execution_count": 79,
   "id": "daf05f05",
   "metadata": {
    "ExecuteTime": {
     "end_time": "2022-10-20T22:16:15.766430Z",
     "start_time": "2022-10-20T22:16:15.757439Z"
    },
    "hidden": true
   },
   "outputs": [
    {
     "data": {
      "text/plain": [
       "0    A\n",
       "1    B\n",
       "2    C\n",
       "3    D\n",
       "4    E\n",
       "5    F\n",
       "6    G\n",
       "7    H\n",
       "8    I\n",
       "9    J\n",
       "dtype: object"
      ]
     },
     "execution_count": 79,
     "metadata": {},
     "output_type": "execute_result"
    }
   ],
   "source": [
    "x = pd.Series(data='A B C D E F G H I J '.split())\n",
    "x"
   ]
  },
  {
   "cell_type": "markdown",
   "id": "37a634da",
   "metadata": {
    "hidden": true
   },
   "source": [
    " "
   ]
  },
  {
   "cell_type": "markdown",
   "id": "ac018adc",
   "metadata": {
    "hidden": true
   },
   "source": [
    "Selecioando um elemento."
   ]
  },
  {
   "cell_type": "code",
   "execution_count": 33,
   "id": "204ee701",
   "metadata": {
    "ExecuteTime": {
     "end_time": "2022-10-20T21:39:00.382678Z",
     "start_time": "2022-10-20T21:39:00.375102Z"
    },
    "hidden": true
   },
   "outputs": [
    {
     "data": {
      "text/plain": [
       "'A'"
      ]
     },
     "execution_count": 33,
     "metadata": {},
     "output_type": "execute_result"
    }
   ],
   "source": [
    "x.loc[0]"
   ]
  },
  {
   "cell_type": "markdown",
   "id": "e4fb9ea1",
   "metadata": {
    "hidden": true
   },
   "source": [
    " "
   ]
  },
  {
   "cell_type": "markdown",
   "id": "9ead4f96",
   "metadata": {
    "hidden": true
   },
   "source": [
    "Selecionando elementos específicos."
   ]
  },
  {
   "cell_type": "code",
   "execution_count": 34,
   "id": "8f7b221d",
   "metadata": {
    "ExecuteTime": {
     "end_time": "2022-10-20T21:39:02.235655Z",
     "start_time": "2022-10-20T21:39:02.229334Z"
    },
    "hidden": true
   },
   "outputs": [
    {
     "data": {
      "text/plain": [
       "0    A\n",
       "2    C\n",
       "4    E\n",
       "dtype: object"
      ]
     },
     "execution_count": 34,
     "metadata": {},
     "output_type": "execute_result"
    }
   ],
   "source": [
    "x.loc[[0, 2, 4]]"
   ]
  },
  {
   "cell_type": "markdown",
   "id": "a41f2961",
   "metadata": {
    "hidden": true
   },
   "source": [
    " "
   ]
  },
  {
   "cell_type": "markdown",
   "id": "c6985bf1",
   "metadata": {
    "hidden": true
   },
   "source": [
    "Selecionando um intervalo de elementos. "
   ]
  },
  {
   "cell_type": "code",
   "execution_count": 35,
   "id": "beb703fe",
   "metadata": {
    "ExecuteTime": {
     "end_time": "2022-10-20T21:39:04.139357Z",
     "start_time": "2022-10-20T21:39:04.130155Z"
    },
    "hidden": true
   },
   "outputs": [
    {
     "data": {
      "text/plain": [
       "3    D\n",
       "4    E\n",
       "5    F\n",
       "dtype: object"
      ]
     },
     "execution_count": 35,
     "metadata": {},
     "output_type": "execute_result"
    }
   ],
   "source": [
    "x.loc[3:5]  # o elemento que se encontra no indice 5 será selecionado também"
   ]
  },
  {
   "cell_type": "markdown",
   "id": "cbd8c73e",
   "metadata": {
    "hidden": true
   },
   "source": [
    " "
   ]
  },
  {
   "cell_type": "markdown",
   "id": "ef0e998b",
   "metadata": {
    "hidden": true
   },
   "source": [
    "Selecionando e trocando os elementos da Series."
   ]
  },
  {
   "cell_type": "code",
   "execution_count": 36,
   "id": "152dee17",
   "metadata": {
    "ExecuteTime": {
     "end_time": "2022-10-20T21:39:05.883557Z",
     "start_time": "2022-10-20T21:39:05.875651Z"
    },
    "hidden": true,
    "scrolled": true
   },
   "outputs": [
    {
     "data": {
      "text/plain": [
       "0    A\n",
       "1    A\n",
       "2    A\n",
       "3    A\n",
       "4    E\n",
       "5    F\n",
       "6    G\n",
       "7    H\n",
       "8    I\n",
       "9    J\n",
       "dtype: object"
      ]
     },
     "execution_count": 36,
     "metadata": {},
     "output_type": "execute_result"
    }
   ],
   "source": [
    "x.loc[0:3] = 'A'\n",
    "x"
   ]
  },
  {
   "cell_type": "markdown",
   "id": "2b14e287",
   "metadata": {
    "hidden": true
   },
   "source": [
    " "
   ]
  },
  {
   "cell_type": "markdown",
   "id": "5f4c26f0",
   "metadata": {
    "hidden": true
   },
   "source": [
    "###  🐥 <font size=4>iloc<font>"
   ]
  },
  {
   "cell_type": "markdown",
   "id": "a5d355f4",
   "metadata": {
    "hidden": true
   },
   "source": [
    "O método iloc seleciona linhas e colunas por números, esta é uma boa definição para o recurso. Ou seja, por mais que uma Series tenha um index label definido o método iloc só seleciona os elementos da Series através do **range index** e também através do indice negativo. Apenas e nada mais.\n",
    "\n",
    "Vamos criar uma Series para usar nos exemplos seguintes."
   ]
  },
  {
   "cell_type": "code",
   "execution_count": 83,
   "id": "5c786cba",
   "metadata": {
    "ExecuteTime": {
     "end_time": "2022-10-20T22:18:39.673061Z",
     "start_time": "2022-10-20T22:18:39.665649Z"
    },
    "hidden": true
   },
   "outputs": [
    {
     "data": {
      "text/plain": [
       "10      100\n",
       "20      200\n",
       "30      300\n",
       "40      400\n",
       "50      500\n",
       "60      600\n",
       "70      700\n",
       "80      800\n",
       "90      900\n",
       "100    1000\n",
       "dtype: int64"
      ]
     },
     "execution_count": 83,
     "metadata": {},
     "output_type": "execute_result"
    }
   ],
   "source": [
    "s = pd.Series(data=[x for x in range(100, 1001, 100)],\n",
    "              index=[x for x in range(10, 101, 10)])\n",
    "s"
   ]
  },
  {
   "cell_type": "markdown",
   "id": "42046dca",
   "metadata": {
    "hidden": true
   },
   "source": [
    "\n"
   ]
  },
  {
   "cell_type": "markdown",
   "id": "7220ac97",
   "metadata": {
    "hidden": true
   },
   "source": [
    "Selecionando apenas um elemento da Series."
   ]
  },
  {
   "cell_type": "code",
   "execution_count": 84,
   "id": "2c88d2ef",
   "metadata": {
    "ExecuteTime": {
     "end_time": "2022-10-20T22:18:41.681604Z",
     "start_time": "2022-10-20T22:18:41.673765Z"
    },
    "hidden": true
   },
   "outputs": [
    {
     "data": {
      "text/plain": [
       "100"
      ]
     },
     "execution_count": 84,
     "metadata": {},
     "output_type": "execute_result"
    }
   ],
   "source": [
    "s.iloc[0]  # no lugar o 0 poderia ser o -10"
   ]
  },
  {
   "cell_type": "markdown",
   "id": "3d488955",
   "metadata": {
    "hidden": true
   },
   "source": [
    " "
   ]
  },
  {
   "cell_type": "markdown",
   "id": "a53d94ca",
   "metadata": {
    "hidden": true
   },
   "source": [
    "Selecioando elementos específicos da Series."
   ]
  },
  {
   "cell_type": "code",
   "execution_count": 85,
   "id": "b67cf153",
   "metadata": {
    "ExecuteTime": {
     "end_time": "2022-10-20T22:18:45.370126Z",
     "start_time": "2022-10-20T22:18:45.360848Z"
    },
    "hidden": true
   },
   "outputs": [
    {
     "data": {
      "text/plain": [
       "20    200\n",
       "30    300\n",
       "40    400\n",
       "dtype: int64"
      ]
     },
     "execution_count": 85,
     "metadata": {},
     "output_type": "execute_result"
    }
   ],
   "source": [
    "s.iloc[[1, 2, 3]]"
   ]
  },
  {
   "cell_type": "markdown",
   "id": "5d5c8ca9",
   "metadata": {
    "hidden": true
   },
   "source": [
    " "
   ]
  },
  {
   "cell_type": "markdown",
   "id": "9f2225ab",
   "metadata": {
    "hidden": true
   },
   "source": [
    "Selecioando um intervalo da Series."
   ]
  },
  {
   "cell_type": "code",
   "execution_count": 86,
   "id": "bb75a56a",
   "metadata": {
    "ExecuteTime": {
     "end_time": "2022-10-20T22:18:50.116026Z",
     "start_time": "2022-10-20T22:18:50.107403Z"
    },
    "hidden": true
   },
   "outputs": [
    {
     "data": {
      "text/plain": [
       "10    100\n",
       "20    200\n",
       "30    300\n",
       "40    400\n",
       "50    500\n",
       "dtype: int64"
      ]
     },
     "execution_count": 86,
     "metadata": {},
     "output_type": "execute_result"
    }
   ],
   "source": [
    "s.iloc[0:5]  # o valor que corresponde ao indice 5 não está incluso na seleção"
   ]
  },
  {
   "cell_type": "markdown",
   "id": "c6cc4493",
   "metadata": {
    "hidden": true
   },
   "source": [
    " "
   ]
  },
  {
   "cell_type": "markdown",
   "id": "096c799b",
   "metadata": {
    "hidden": true
   },
   "source": [
    "Selecionando e trocando os elementos da Series."
   ]
  },
  {
   "cell_type": "code",
   "execution_count": 90,
   "id": "9a551ced",
   "metadata": {
    "ExecuteTime": {
     "end_time": "2022-10-20T22:19:20.214859Z",
     "start_time": "2022-10-20T22:19:20.203506Z"
    },
    "hidden": true
   },
   "outputs": [
    {
     "data": {
      "text/plain": [
       "10     11111\n",
       "20       200\n",
       "30       300\n",
       "40       400\n",
       "50       500\n",
       "60     11111\n",
       "70       700\n",
       "80       800\n",
       "90     11111\n",
       "100     1000\n",
       "dtype: int64"
      ]
     },
     "execution_count": 90,
     "metadata": {},
     "output_type": "execute_result"
    }
   ],
   "source": [
    "s.iloc[[0, 5, 8]] = 11111\n",
    "s"
   ]
  },
  {
   "cell_type": "markdown",
   "id": "55b016c0",
   "metadata": {
    "heading_collapsed": true
   },
   "source": [
    "##  👾 <font size=5>Indexação booleana<font>"
   ]
  },
  {
   "cell_type": "markdown",
   "id": "a2642f40",
   "metadata": {
    "heading_collapsed": true,
    "hidden": true
   },
   "source": [
    "###  🐥 <font size=4>Indexação com uma condição<font>"
   ]
  },
  {
   "cell_type": "markdown",
   "id": "3cc4d48f",
   "metadata": {
    "hidden": true
   },
   "source": [
    "A indexação booleana é uma forma de selecionar elementos de uma Series através de condições. Por exemplo, suponha que temos uma Series com as idades de 10 pessoas, e queremos selecionar somente as pessoas que tenham a idade maior que 13 anos. Para isso usamos a indexação booleana."
   ]
  },
  {
   "cell_type": "code",
   "execution_count": 4,
   "id": "6222f5c3",
   "metadata": {
    "ExecuteTime": {
     "end_time": "2022-10-27T18:59:00.333723Z",
     "start_time": "2022-10-27T18:59:00.318897Z"
    },
    "hidden": true
   },
   "outputs": [
    {
     "data": {
      "text/plain": [
       "Miguel      12\n",
       "Arthur      14\n",
       "Théo        15\n",
       "Heitor      12\n",
       "Gael        13\n",
       "Davi        17\n",
       "Bernardo    16\n",
       "Gabriel     14\n",
       "Mirela      15\n",
       "Sophia      12\n",
       "dtype: int64"
      ]
     },
     "execution_count": 4,
     "metadata": {},
     "output_type": "execute_result"
    }
   ],
   "source": [
    "# Criando uma Series para usar no exemplo\n",
    "label = ['Miguel', 'Arthur', 'Théo', 'Heitor', 'Gael',\n",
    "         'Davi', 'Bernardo', 'Gabriel', 'Mirela', 'Sophia']\n",
    "dados = [12, 14, 15, 12, 13, 17, 16, 14, 15, 12]\n",
    "\n",
    "idades = pd.Series(data=dados, index=label)\n",
    "idades"
   ]
  },
  {
   "cell_type": "markdown",
   "id": "f2f3f53c",
   "metadata": {
    "hidden": true
   },
   "source": [
    " <br>"
   ]
  },
  {
   "cell_type": "markdown",
   "id": "5db8d8f2",
   "metadata": {
    "hidden": true
   },
   "source": [
    "As condições para selecionar elementos de uma Series funciona da seguinte maneira. Você cria uma condição, essa condição é testada em cada valor da Series , após isso é retornado uma nova Series com valores booleanos, onde tiver **True** significa que o elemento se encaixou na condição e onde tiver **False** significa que o elemento não se encaixou na condição."
   ]
  },
  {
   "cell_type": "code",
   "execution_count": 6,
   "id": "0df7ac11",
   "metadata": {
    "ExecuteTime": {
     "end_time": "2022-10-27T18:59:07.909258Z",
     "start_time": "2022-10-27T18:59:07.898085Z"
    },
    "hidden": true
   },
   "outputs": [
    {
     "data": {
      "text/plain": [
       "Miguel      False\n",
       "Arthur       True\n",
       "Théo         True\n",
       "Heitor      False\n",
       "Gael        False\n",
       "Davi         True\n",
       "Bernardo     True\n",
       "Gabriel      True\n",
       "Mirela       True\n",
       "Sophia      False\n",
       "dtype: bool"
      ]
     },
     "execution_count": 6,
     "metadata": {},
     "output_type": "execute_result"
    }
   ],
   "source": [
    "# Perguntando quais elementos da Series são maiores que 13\n",
    "# Como dito, o retorno dessa operção será uma nova Series com valores booleanos\n",
    "\n",
    "x = idades > 13  # Podemos usar outros tipos de condições\n",
    "x"
   ]
  },
  {
   "cell_type": "markdown",
   "id": "721ba884",
   "metadata": {
    "hidden": true
   },
   "source": [
    " <br>"
   ]
  },
  {
   "cell_type": "markdown",
   "id": "7d852845",
   "metadata": {
    "hidden": true
   },
   "source": [
    "Agora podemos usar essa Series com valores booleanos como indice para selecionar os valores que sejam maiores que 13."
   ]
  },
  {
   "cell_type": "code",
   "execution_count": 7,
   "id": "30fdb6c2",
   "metadata": {
    "ExecuteTime": {
     "end_time": "2022-10-27T18:59:13.314450Z",
     "start_time": "2022-10-27T18:59:13.305938Z"
    },
    "hidden": true
   },
   "outputs": [
    {
     "data": {
      "text/plain": [
       "Arthur      14\n",
       "Théo        15\n",
       "Davi        17\n",
       "Bernardo    16\n",
       "Gabriel     14\n",
       "Mirela      15\n",
       "dtype: int64"
      ]
     },
     "execution_count": 7,
     "metadata": {},
     "output_type": "execute_result"
    }
   ],
   "source": [
    "# Onde for True, o elemento será selecionado\n",
    "# Onde for False, o elemento será ignorado\n",
    "idades[x]"
   ]
  },
  {
   "cell_type": "markdown",
   "id": "cd60ed05",
   "metadata": {
    "hidden": true
   },
   "source": [
    " <br>"
   ]
  },
  {
   "cell_type": "markdown",
   "id": "69e063cb",
   "metadata": {
    "hidden": true
   },
   "source": [
    "Essa operação também pode ser feita usando o método **loc**."
   ]
  },
  {
   "cell_type": "code",
   "execution_count": 8,
   "id": "278c87e3",
   "metadata": {
    "ExecuteTime": {
     "end_time": "2022-10-27T18:59:16.891609Z",
     "start_time": "2022-10-27T18:59:16.881275Z"
    },
    "hidden": true
   },
   "outputs": [
    {
     "data": {
      "text/plain": [
       "Arthur      14\n",
       "Théo        15\n",
       "Davi        17\n",
       "Bernardo    16\n",
       "Gabriel     14\n",
       "Mirela      15\n",
       "dtype: int64"
      ]
     },
     "execution_count": 8,
     "metadata": {},
     "output_type": "execute_result"
    }
   ],
   "source": [
    "idades.loc[x]"
   ]
  },
  {
   "cell_type": "markdown",
   "id": "8501fcdc",
   "metadata": {
    "hidden": true
   },
   "source": [
    " <br>"
   ]
  },
  {
   "cell_type": "markdown",
   "id": "438301c4",
   "metadata": {
    "hidden": true
   },
   "source": [
    "Agora que já entendemos a sintaxe para pode selecionar valores com base em condições, vamos fazer isso de forma mais direta, ou seja, sem precisar salvar a Series com valores booleanos em uma variável."
   ]
  },
  {
   "cell_type": "code",
   "execution_count": 9,
   "id": "2a3b6bf2",
   "metadata": {
    "ExecuteTime": {
     "end_time": "2022-10-27T18:59:22.226759Z",
     "start_time": "2022-10-27T18:59:22.213922Z"
    },
    "hidden": true
   },
   "outputs": [
    {
     "data": {
      "text/plain": [
       "Arthur      14\n",
       "Théo        15\n",
       "Davi        17\n",
       "Bernardo    16\n",
       "Gabriel     14\n",
       "Mirela      15\n",
       "dtype: int64"
      ]
     },
     "execution_count": 9,
     "metadata": {},
     "output_type": "execute_result"
    }
   ],
   "source": [
    "idades[ idades>13 ]"
   ]
  },
  {
   "cell_type": "markdown",
   "id": "a4bced86",
   "metadata": {
    "hidden": true
   },
   "source": [
    " <br>"
   ]
  },
  {
   "cell_type": "markdown",
   "id": "9470d8d4",
   "metadata": {
    "hidden": true
   },
   "source": [
    "A Series booleana tem cada um de seus elementos correspondendo a cada um dos elementos da series original, ou seja, se o elemento que se encontra no indice 0 da Series booleana for **True** o elemento que se encontra no indice 0 da Series original será selecionado. Por isso quando trocamos os indices de lugares podemos criar uma confusão, veja."
   ]
  },
  {
   "cell_type": "code",
   "execution_count": 11,
   "id": "4c9b1ad3",
   "metadata": {
    "ExecuteTime": {
     "end_time": "2022-10-27T18:59:41.722168Z",
     "start_time": "2022-10-27T18:59:41.710753Z"
    },
    "hidden": true
   },
   "outputs": [
    {
     "data": {
      "text/plain": [
       "0    20\n",
       "1    50\n",
       "2    11\n",
       "3    45\n",
       "4    31\n",
       "5    17\n",
       "dtype: int64"
      ]
     },
     "execution_count": 11,
     "metadata": {},
     "output_type": "execute_result"
    }
   ],
   "source": [
    "# Criando uma nova Series\n",
    "s = pd.Series([20, 50, 11, 45, 31, 17])\n",
    "s"
   ]
  },
  {
   "cell_type": "markdown",
   "id": "a291c112",
   "metadata": {
    "hidden": true
   },
   "source": [
    " "
   ]
  },
  {
   "cell_type": "code",
   "execution_count": 12,
   "id": "4032f463",
   "metadata": {
    "ExecuteTime": {
     "end_time": "2022-10-27T18:59:43.877360Z",
     "start_time": "2022-10-27T18:59:43.866749Z"
    },
    "hidden": true
   },
   "outputs": [
    {
     "data": {
      "text/plain": [
       "0    False\n",
       "1    False\n",
       "2     True\n",
       "3    False\n",
       "4    False\n",
       "5     True\n",
       "dtype: bool"
      ]
     },
     "execution_count": 12,
     "metadata": {},
     "output_type": "execute_result"
    }
   ],
   "source": [
    "# Gerando uma Series booleana com base na condição (valor<20)\n",
    "# Onde aparecer True é pq o valor é menor que 20\n",
    "mask = s<20\n",
    "mask"
   ]
  },
  {
   "cell_type": "markdown",
   "id": "dd6e1104",
   "metadata": {
    "hidden": true
   },
   "source": [
    " "
   ]
  },
  {
   "cell_type": "code",
   "execution_count": 13,
   "id": "82d6c04e",
   "metadata": {
    "ExecuteTime": {
     "end_time": "2022-10-27T19:01:02.201489Z",
     "start_time": "2022-10-27T19:01:02.191469Z"
    },
    "hidden": true
   },
   "outputs": [
    {
     "data": {
      "text/plain": [
       "2    11\n",
       "5    17\n",
       "dtype: int64"
      ]
     },
     "execution_count": 13,
     "metadata": {},
     "output_type": "execute_result"
    }
   ],
   "source": [
    "# Selecionando valores menores que 20\n",
    "s[ mask ]"
   ]
  },
  {
   "cell_type": "markdown",
   "id": "08497f01",
   "metadata": {
    "hidden": true
   },
   "source": [
    " "
   ]
  },
  {
   "cell_type": "code",
   "execution_count": 18,
   "id": "100f716f",
   "metadata": {
    "ExecuteTime": {
     "end_time": "2022-10-27T19:01:28.084792Z",
     "start_time": "2022-10-27T19:01:28.074124Z"
    },
    "hidden": true,
    "scrolled": true
   },
   "outputs": [
    {
     "data": {
      "text/plain": [
       "0    20\n",
       "1    50\n",
       "2    11\n",
       "3    45\n",
       "5    31\n",
       "4    17\n",
       "dtype: int64"
      ]
     },
     "execution_count": 18,
     "metadata": {},
     "output_type": "execute_result"
    }
   ],
   "source": [
    "# Trocando os indices das Series\n",
    "s.index = [0, 1, 2, 3, 5, 4]\n",
    "s"
   ]
  },
  {
   "cell_type": "markdown",
   "id": "2e8a369a",
   "metadata": {
    "hidden": true
   },
   "source": [
    " "
   ]
  },
  {
   "cell_type": "code",
   "execution_count": 19,
   "id": "dd8897c0",
   "metadata": {
    "ExecuteTime": {
     "end_time": "2022-10-27T19:01:30.265870Z",
     "start_time": "2022-10-27T19:01:30.254727Z"
    },
    "hidden": true
   },
   "outputs": [
    {
     "data": {
      "text/plain": [
       "2    11\n",
       "5    31\n",
       "dtype: int64"
      ]
     },
     "execution_count": 19,
     "metadata": {},
     "output_type": "execute_result"
    }
   ],
   "source": [
    "# Selecionando novamente os valores menores que 20\n",
    "\n",
    "s[ mask ] \n",
    "\n",
    "# Perceba que dessa ves o 31 foi selecionado. Isso pq na nossa Series booleana o indice \n",
    "# 5 é True, logo o valor da Series original que estiver no indice 5 sera selecionado"
   ]
  },
  {
   "cell_type": "markdown",
   "id": "e166338a",
   "metadata": {
    "heading_collapsed": true,
    "hidden": true
   },
   "source": [
    "###  🐥 <font size=4>Indexação com mais de uma condição<font>"
   ]
  },
  {
   "cell_type": "markdown",
   "id": "0f409e7e",
   "metadata": {
    "hidden": true
   },
   "source": [
    "Podemos selecionar dados com condições em sequências, fazer esse tipo de operação é como se fosse fazer várias filtragens, primeiro os dados são filtrados pela primeira condição, depois pela segunda condição e assim até acabar as condições. Para esse tipo de operação utilizamos o sinal **&**."
   ]
  },
  {
   "cell_type": "code",
   "execution_count": 81,
   "id": "93c66fff",
   "metadata": {
    "ExecuteTime": {
     "end_time": "2022-10-26T22:29:00.438455Z",
     "start_time": "2022-10-26T22:29:00.424973Z"
    },
    "hidden": true,
    "scrolled": false
   },
   "outputs": [
    {
     "data": {
      "text/plain": [
       "Miguel      12\n",
       "Arthur      14\n",
       "Théo        15\n",
       "Heitor      12\n",
       "Gael        13\n",
       "Davi        17\n",
       "Bernardo    16\n",
       "Gabriel     14\n",
       "Mirela      15\n",
       "Sophia      12\n",
       "dtype: int64"
      ]
     },
     "execution_count": 81,
     "metadata": {},
     "output_type": "execute_result"
    }
   ],
   "source": [
    "label = ['Miguel', 'Arthur', 'Théo', 'Heitor', 'Gael',\n",
    "         'Davi', 'Bernardo', 'Gabriel', 'Mirela', 'Sophia']\n",
    "dados = [12, 14, 15, 12, 13, 17, 16, 14, 15, 12]\n",
    "\n",
    "idades = pd.Series(data=dados, index=label)\n",
    "idades"
   ]
  },
  {
   "cell_type": "markdown",
   "id": "3c16a362",
   "metadata": {
    "hidden": true
   },
   "source": [
    " "
   ]
  },
  {
   "cell_type": "code",
   "execution_count": 31,
   "id": "a47d7879",
   "metadata": {
    "ExecuteTime": {
     "end_time": "2022-10-27T19:04:55.908657Z",
     "start_time": "2022-10-27T19:04:55.897974Z"
    },
    "hidden": true
   },
   "outputs": [
    {
     "data": {
      "text/plain": [
       "Arthur     14\n",
       "Théo       15\n",
       "Gabriel    14\n",
       "Mirela     15\n",
       "dtype: int64"
      ]
     },
     "execution_count": 31,
     "metadata": {},
     "output_type": "execute_result"
    }
   ],
   "source": [
    "# Vou selecionar elementos >= 14 e depois elementos menores que 16\n",
    "idades[ (idades>=14) & (idades<16) ]"
   ]
  },
  {
   "cell_type": "markdown",
   "id": "a6c9c711",
   "metadata": {
    "hidden": true
   },
   "source": [
    "<br>"
   ]
  },
  {
   "cell_type": "markdown",
   "id": "f499f16f",
   "metadata": {
    "hidden": true
   },
   "source": [
    "Podemos usar mais de uma condição para fazer outro tipo de filtragem, por exemplo, a primeira condição serve para selecionar valores maiores que 10 caso não tenha nenhum valor que se encaixe nela, então a segunda condição será acionada, caso nenhum valor não se encaixe nela também, ai a terceira condição será acionada e assim por diante. Para esse tipo de operação utilizamos o sinal **|** ."
   ]
  },
  {
   "cell_type": "code",
   "execution_count": 39,
   "id": "9c70d2b2",
   "metadata": {
    "ExecuteTime": {
     "end_time": "2022-10-27T19:12:53.386506Z",
     "start_time": "2022-10-27T19:12:53.373894Z"
    },
    "hidden": true
   },
   "outputs": [
    {
     "data": {
      "text/plain": [
       "Miguel     12\n",
       "Arthur     14\n",
       "Théo       15\n",
       "Heitor     12\n",
       "Gael       13\n",
       "Gabriel    14\n",
       "Mirela     15\n",
       "Sophia     12\n",
       "dtype: int64"
      ]
     },
     "execution_count": 39,
     "metadata": {},
     "output_type": "execute_result"
    }
   ],
   "source": [
    "# Vou selecionar elementos > 20, se algum elemento se encaixar nessa condição. Um Series booleana será retornada e\n",
    "# as outras condições não serão tetadas.\n",
    "# Se nenhum elemento se encaixar numa das 3 condições, o retorno será uma Series vazia.\n",
    "\n",
    "idades.loc[ (idades==20) | (idades==25) | (idades<=15) ]"
   ]
  },
  {
   "cell_type": "markdown",
   "id": "9f10dff7",
   "metadata": {
    "heading_collapsed": true
   },
   "source": [
    "## 👾 <font size=5>View e copy<font>"
   ]
  },
  {
   "cell_type": "markdown",
   "id": "e34ab6fc",
   "metadata": {
    "hidden": true
   },
   "source": [
    "Compreender **view** (visualização superficial) e **copy** (cópia profunda) é uma parte importante para saber como o NumPy e o Pandas manipulam dados. Também pode ajudá-lo a evitar erros e gargalos de desempenho. Às vezes, os dados são copiados de uma parte da memória para outra, mas em outros casos, dois ou mais objetos podem compartilhar os mesmos dados, economizando tempo e memória.\n",
    "\n",
    "**View**: uma view é uma visualização supercial de uma Series ou um DataFrame. Qualquer alteração que fizermos nessa view será propagado para o objeto original.\n",
    "\n",
    "**copy**: uma copy por outro lado é uma cópia profunda de uma Series ou um DataFrame. Qualquer alteração que essa copy possa vir a sofrer não será propagado para o objeto original."
   ]
  },
  {
   "cell_type": "markdown",
   "id": "cd455e39",
   "metadata": {
    "heading_collapsed": true,
    "hidden": true
   },
   "source": [
    "###  🐥 <font size=4>copy<font>"
   ]
  },
  {
   "cell_type": "markdown",
   "id": "87dbf4ef",
   "metadata": {
    "hidden": true
   },
   "source": [
    "Algumas operações que fazemos com uma Series ou um DataFrame podem retorna uma view ou uma copy. Pra saber o que cada operação retorna aí complica. Por isso o pandas tem o método **copy()** que serve para escolher se o objeto que vamos manusear no momento tem que ser uma view ou copy do objeto original."
   ]
  },
  {
   "cell_type": "markdown",
   "id": "5db2b882",
   "metadata": {
    "hidden": true
   },
   "source": [
    "\n",
    "### <font color=purple>_copy (_<font>\n",
    "<br>\n",
    "    \n",
    "**deep** =  True<br> \n",
    "\n",
    "    \n",
    "### <font color=purple>_)_<font>\n",
    "<br>"
   ]
  },
  {
   "cell_type": "markdown",
   "id": "ebe63e33",
   "metadata": {
    "hidden": true
   },
   "source": [
    "\n",
    "### deep"
   ]
  },
  {
   "cell_type": "markdown",
   "id": "eebbeb9e",
   "metadata": {
    "hidden": true
   },
   "source": [
    "O parâmetro deep quando True (seu valor padrão), um novo objeto será criado com uma cópia profunda dos dados e índices do objeto original. Modificações nos dados ou índices da cópia não serão refletidas no objeto original."
   ]
  },
  {
   "cell_type": "code",
   "execution_count": 20,
   "id": "db3f97bf",
   "metadata": {
    "ExecuteTime": {
     "end_time": "2022-10-21T18:26:38.385528Z",
     "start_time": "2022-10-21T18:26:38.381679Z"
    },
    "hidden": true
   },
   "outputs": [],
   "source": [
    "# Criando uma Series para testar deep=True\n",
    "s = pd.Series('A B C D'.split())\n",
    "\n",
    "# Criando uma cópia profunda da Series\n",
    "s_copy = s.copy()"
   ]
  },
  {
   "cell_type": "code",
   "execution_count": 21,
   "id": "4f1500b7",
   "metadata": {
    "ExecuteTime": {
     "end_time": "2022-10-21T18:26:39.358858Z",
     "start_time": "2022-10-21T18:26:39.350177Z"
    },
    "hidden": true
   },
   "outputs": [
    {
     "name": "stdout",
     "output_type": "stream",
     "text": [
      "*s_copia*\n",
      "0    XX\n",
      "1     B\n",
      "2     C\n",
      "3    XX\n",
      "dtype: object\n",
      "\n",
      "*s_original*\n",
      "0    A\n",
      "1    B\n",
      "2    C\n",
      "3    D\n",
      "dtype: object\n"
     ]
    }
   ],
   "source": [
    "# Alterando a s_copia para mostrar que nenhuma mudança feita em s_copia afetará s\n",
    "s_copy[[0, 3]] = 'XX'\n",
    "\n",
    "print(f'*s_copia*\\n{s_copy}\\n')\n",
    "print(f'*s_original*\\n{s}')\n",
    "\n",
    "# O mesmo raciocinio serve para um dataframe"
   ]
  },
  {
   "cell_type": "markdown",
   "id": "f69a799e",
   "metadata": {
    "hidden": true
   },
   "source": [
    " <br>"
   ]
  },
  {
   "cell_type": "markdown",
   "id": "610705c2",
   "metadata": {
    "hidden": true
   },
   "source": [
    "Quando deep = False, retorna um objeto que será uma view (visualozação superficial) do objeto original. Modificações nos dados ou índices da **view** serão refletidas no objeto original."
   ]
  },
  {
   "cell_type": "code",
   "execution_count": 24,
   "id": "b80e253f",
   "metadata": {
    "ExecuteTime": {
     "end_time": "2022-10-21T18:28:36.880170Z",
     "start_time": "2022-10-21T18:28:36.872990Z"
    },
    "hidden": true
   },
   "outputs": [],
   "source": [
    "# Criando uma Series para testar deep=False\n",
    "s = pd.Series('A B C D'.split())\n",
    "\n",
    "# Criando uma visualisação superficial da Series\n",
    "s_view = s.copy(deep=False)"
   ]
  },
  {
   "cell_type": "code",
   "execution_count": 26,
   "id": "3eeb6f39",
   "metadata": {
    "ExecuteTime": {
     "end_time": "2022-10-21T18:36:05.288971Z",
     "start_time": "2022-10-21T18:36:05.280730Z"
    },
    "hidden": true
   },
   "outputs": [
    {
     "name": "stdout",
     "output_type": "stream",
     "text": [
      "*s_view*\n",
      "0    XX\n",
      "1     B\n",
      "2     C\n",
      "3    XX\n",
      "dtype: object\n",
      "\n",
      "*s_original*\n",
      "0    XX\n",
      "1     B\n",
      "2     C\n",
      "3    XX\n",
      "dtype: object\n"
     ]
    }
   ],
   "source": [
    "# Qualquer alteração que s_view sofrer s também sofrerá\n",
    "s_view[[0, 3]] = 'XX'\n",
    "\n",
    "print(f'*s_view*\\n{s_view}\\n')\n",
    "print(f'*s_original*\\n{s}')\n",
    "\n",
    "# O mesmo raciocinio serve para um dataframe"
   ]
  },
  {
   "cell_type": "markdown",
   "id": "e4c43aba",
   "metadata": {
    "hidden": true
   },
   "source": [
    "<br>"
   ]
  },
  {
   "cell_type": "markdown",
   "id": "d146b854",
   "metadata": {
    "hidden": true
   },
   "source": [
    "Quando tentamos mudar o elemento de uma view por outro elemento que tenha o tipo de dado diferente essa view deixa de ser view e se torna uma copy. Caso os elementos tenham o mesmo tipo a view continua sendo view."
   ]
  },
  {
   "cell_type": "code",
   "execution_count": 29,
   "id": "cafdc637",
   "metadata": {
    "ExecuteTime": {
     "end_time": "2022-10-21T18:37:07.447702Z",
     "start_time": "2022-10-21T18:37:07.440836Z"
    },
    "hidden": true
   },
   "outputs": [
    {
     "name": "stdout",
     "output_type": "stream",
     "text": [
      "*s_view*\n",
      "0    A\n",
      "1    1\n",
      "2    2\n",
      "3    A\n",
      "dtype: object\n",
      "\n",
      "*s_original*\n",
      "0    0\n",
      "1    1\n",
      "2    2\n",
      "3    3\n",
      "dtype: int64\n"
     ]
    }
   ],
   "source": [
    "s = pd.Series(x for x in range(4))\n",
    "\n",
    "# Criando uma view\n",
    "s_view = s.copy(deep=False)\n",
    "\n",
    "# Alterando elementos da view\n",
    "s_view[[0, 3]] = 'A'\n",
    "\n",
    "# Mostrando a view e a Series original\n",
    "print(f'*s_view*\\n{s_view}\\n')\n",
    "print(f'*s_original*\\n{s}')\n",
    "\n",
    "# Perceba que somente a view mudou, isso pq ela virou uma copy, devido a troca de elementos int por elementos str\n",
    "# Esse mesmo processo não funciona quando é o inverso, ou seja, trocar elementos str por elementos de outro tipo.\n",
    "# Até podemos fazer a troca, mas view não deixa de ser view."
   ]
  },
  {
   "cell_type": "markdown",
   "id": "78c2bbae",
   "metadata": {
    "hidden": true
   },
   "source": [
    " <br>"
   ]
  },
  {
   "cell_type": "markdown",
   "id": "64552190",
   "metadata": {
    "heading_collapsed": true
   },
   "source": [
    "##  👾 <font size=5>Dados ausentes<font>"
   ]
  },
  {
   "cell_type": "markdown",
   "id": "44804054",
   "metadata": {
    "hidden": true
   },
   "source": [
    "Esse assunto é muito importante e precisa de muita atenção para ser estudado. Pois no mundo real um cientista de dados lida na maioria das vezes com datasets que possuem dados ausentes. Os\n",
    "dados ausentes podem ocorrer quando nenhuma informação é fornecida para um ou mais itens ou para uma unidade inteira. \n",
    "\n",
    "Quando estamos trabalhando com o pandas, para o nosso DataFrame, o ideal é que cada coluna tenha todos os elementos com o mesmo tipo de dado. E que cada tipo represente o tipo da variável. Por exemplo, o **tipo float** serve para representar variáveis como altura, renda e etc. "
   ]
  },
  {
   "cell_type": "markdown",
   "id": "bff39623",
   "metadata": {
    "heading_collapsed": true,
    "hidden": true
   },
   "source": [
    "###  🐥 <font size=4>Valores int e NaN<font>"
   ]
  },
  {
   "cell_type": "markdown",
   "id": "2831b5a5",
   "metadata": {
    "hidden": true
   },
   "source": [
    "Quando temos uma coluna que deve ter valores inteiros e nela são inserido valores **NaN**, todos os valores dela automaticamente serão convertidos para valores do tipo float. "
   ]
  },
  {
   "cell_type": "code",
   "execution_count": 54,
   "id": "8b71c002",
   "metadata": {
    "ExecuteTime": {
     "end_time": "2022-10-28T15:53:29.637170Z",
     "start_time": "2022-10-28T15:53:29.626439Z"
    },
    "hidden": true
   },
   "outputs": [
    {
     "data": {
      "text/plain": [
       "0    1.0\n",
       "1    2.0\n",
       "2    3.0\n",
       "3    NaN\n",
       "dtype: float64"
      ]
     },
     "execution_count": 54,
     "metadata": {},
     "output_type": "execute_result"
    }
   ],
   "source": [
    "# Series com valor vazio\n",
    "s = pd.Series([1, 2, 3, np.nan])\n",
    "\n",
    "# Obeverve o dtype\n",
    "s"
   ]
  },
  {
   "cell_type": "markdown",
   "id": "17ae16e5",
   "metadata": {
    "hidden": true
   },
   "source": [
    " "
   ]
  },
  {
   "cell_type": "markdown",
   "id": "f633814e",
   "metadata": {
    "hidden": true
   },
   "source": [
    "Para reverter esse problema o pandas nos dispolibiliza o tipo de dado 'Int64'. Ou seja, para reverter esse problema devemos definir o tipo de dado da coluna para que todos os valores se comportem como inteiros."
   ]
  },
  {
   "cell_type": "code",
   "execution_count": 59,
   "id": "64c1d1ca",
   "metadata": {
    "ExecuteTime": {
     "end_time": "2022-10-28T16:00:01.528672Z",
     "start_time": "2022-10-28T16:00:01.517536Z"
    },
    "hidden": true
   },
   "outputs": [
    {
     "data": {
      "text/plain": [
       "0       1\n",
       "1       2\n",
       "2       3\n",
       "3    <NA>\n",
       "dtype: Int64"
      ]
     },
     "execution_count": 59,
     "metadata": {},
     "output_type": "execute_result"
    }
   ],
   "source": [
    "s = pd.Series([1, 2, 3, np.nan], dtype='Int64')\n",
    "\n",
    "# Obeverve o dtype\n",
    "s"
   ]
  },
  {
   "cell_type": "markdown",
   "id": "a69fefa6",
   "metadata": {
    "heading_collapsed": true,
    "hidden": true
   },
   "source": [
    "###  🐥 <font size=4>Valores float e NaN<font>"
   ]
  },
  {
   "cell_type": "markdown",
   "id": "db14ac50",
   "metadata": {
    "hidden": true
   },
   "source": [
    "Já quando temos uma coluna que deve ter valores do tipo float, e adicionamos nela valores **NaN**, todos os valores continuaram sendo float."
   ]
  },
  {
   "cell_type": "code",
   "execution_count": 64,
   "id": "17cd8376",
   "metadata": {
    "ExecuteTime": {
     "end_time": "2022-10-28T16:07:38.921099Z",
     "start_time": "2022-10-28T16:07:38.913140Z"
    },
    "hidden": true
   },
   "outputs": [
    {
     "data": {
      "text/plain": [
       "0    1.5\n",
       "1    2.8\n",
       "2    3.1\n",
       "3    NaN\n",
       "dtype: float64"
      ]
     },
     "execution_count": 64,
     "metadata": {},
     "output_type": "execute_result"
    }
   ],
   "source": [
    "# Series com valor vazio\n",
    "s = pd.Series([1.5, 2.8, 3.1, np.nan])\n",
    "\n",
    "# Obeverve o dtype\n",
    "s"
   ]
  },
  {
   "cell_type": "markdown",
   "id": "ce279cf6",
   "metadata": {
    "hidden": true
   },
   "source": [
    " "
   ]
  },
  {
   "cell_type": "markdown",
   "id": "f9cbe66e",
   "metadata": {
    "hidden": true
   },
   "source": [
    "Mesmo assim, o pandas nos dispolibiliza o tipo de dado 'Float64' para que nós possamos definir o tipo da coluna."
   ]
  },
  {
   "cell_type": "code",
   "execution_count": 66,
   "id": "873a7b2a",
   "metadata": {
    "ExecuteTime": {
     "end_time": "2022-10-28T16:07:45.210844Z",
     "start_time": "2022-10-28T16:07:45.193399Z"
    },
    "hidden": true
   },
   "outputs": [
    {
     "data": {
      "text/plain": [
       "0     1.5\n",
       "1     2.8\n",
       "2     3.1\n",
       "3    <NA>\n",
       "dtype: Float64"
      ]
     },
     "execution_count": 66,
     "metadata": {},
     "output_type": "execute_result"
    }
   ],
   "source": [
    "s = pd.Series([1.5, 2.8, 3.1, np.nan], dtype='Float64')\n",
    "\n",
    "# Obeverve o dtype\n",
    "s"
   ]
  },
  {
   "cell_type": "markdown",
   "id": "45cbe65a",
   "metadata": {
    "heading_collapsed": true,
    "hidden": true
   },
   "source": [
    "###  🐥 <font size=4>Valores str e NaN<font>"
   ]
  },
  {
   "cell_type": "markdown",
   "id": "92588a28",
   "metadata": {
    "hidden": true
   },
   "source": [
    "Uma series que contém string por padrão tem o tipo **object**. Esse tipo de comportamento tem haver com o numpy, pois como sabemos o **pandas usa o Numpy** por debaixo do capor. Uma Series com o **dtype** igual a **object** significa que a melhor representação de tipo comum que o Numpy pode inferir para o conteúdo da Series, é que eles são objetos Python. Embora ter uma Series com esse dtype seja útil para alguns propósitos, qualquer operação nos dados será feita no nível do Python, com muito mais sobrecarga do que as operações normalmente rápidas, vistas nos arrays nativos do Numpy."
   ]
  },
  {
   "cell_type": "code",
   "execution_count": 68,
   "id": "608396c0",
   "metadata": {
    "ExecuteTime": {
     "end_time": "2022-10-28T16:10:48.915676Z",
     "start_time": "2022-10-28T16:10:48.909292Z"
    },
    "hidden": true
   },
   "outputs": [
    {
     "data": {
      "text/plain": [
       "0      A\n",
       "1      B\n",
       "2      C\n",
       "3    NaN\n",
       "dtype: object"
      ]
     },
     "execution_count": 68,
     "metadata": {},
     "output_type": "execute_result"
    }
   ],
   "source": [
    "# Series com valor vazio\n",
    "s = pd.Series(['A', 'B', 'C', np.nan])\n",
    "\n",
    "# Obeverve o dtype\n",
    "s"
   ]
  },
  {
   "cell_type": "markdown",
   "id": "d6767e7f",
   "metadata": {
    "hidden": true
   },
   "source": [
    " \n"
   ]
  },
  {
   "cell_type": "markdown",
   "id": "62dab226",
   "metadata": {
    "hidden": true
   },
   "source": [
    "Para contornar esse problema o pandas nos disponibiliza o tido de dado 'string'. Quando definimos que o tipo de dado da nossa Series deve ser 'String', por mais que ela tenha valores **NaN**, o seu tipo deixa de ser object e passa a ser 'string'."
   ]
  },
  {
   "cell_type": "code",
   "execution_count": 70,
   "id": "7355af09",
   "metadata": {
    "ExecuteTime": {
     "end_time": "2022-10-28T16:15:37.140111Z",
     "start_time": "2022-10-28T16:15:37.131711Z"
    },
    "hidden": true,
    "scrolled": true
   },
   "outputs": [
    {
     "data": {
      "text/plain": [
       "0       A\n",
       "1       B\n",
       "2       C\n",
       "3    <NA>\n",
       "dtype: string"
      ]
     },
     "execution_count": 70,
     "metadata": {},
     "output_type": "execute_result"
    }
   ],
   "source": [
    "# Series com valor vazio\n",
    "s = pd.Series(['A', 'B', 'C', np.nan], dtype='string')\n",
    "\n",
    "# Obeverve o dtype\n",
    "s"
   ]
  },
  {
   "cell_type": "markdown",
   "id": "833c5e62",
   "metadata": {
    "heading_collapsed": true,
    "hidden": true
   },
   "source": [
    "###  🐥 <font size=4>Encontrando valores nulos ou não nulos<font>"
   ]
  },
  {
   "cell_type": "markdown",
   "id": "2716b636",
   "metadata": {
    "hidden": true
   },
   "source": [
    "Existem 2 métodos utilizados para descobrir valores nulos dentro de uma Series. Os métodos são **isna** e **isnull**. Os dois método quando uitlizados retornam uma series de tipo booleano indicando **True** quando um valor for nulo e **False** quando o contrário."
   ]
  },
  {
   "cell_type": "code",
   "execution_count": 71,
   "id": "0723231c",
   "metadata": {
    "ExecuteTime": {
     "end_time": "2022-11-07T19:55:03.622625Z",
     "start_time": "2022-11-07T19:55:03.612948Z"
    },
    "hidden": true,
    "scrolled": true
   },
   "outputs": [
    {
     "name": "stdout",
     "output_type": "stream",
     "text": [
      "*Com isna*\n",
      "0    False\n",
      "1    False\n",
      "2    False\n",
      "3     True\n",
      "4     True\n",
      "5    False\n",
      "dtype: bool\n",
      "\n",
      "\n",
      "*Com isnull*\n",
      "0    False\n",
      "1    False\n",
      "2    False\n",
      "3     True\n",
      "4     True\n",
      "5    False\n",
      "dtype: bool\n"
     ]
    }
   ],
   "source": [
    "x = pd.Series(['A', 'B', 'C', np.nan, np.nan, 'F'], dtype='string')\n",
    "\n",
    "# Com isna\n",
    "print(f'*Com isna*\\n{x.isna()}', end='\\n\\n\\n')\n",
    "\n",
    "# Com isnull\n",
    "print(f'*Com isnull*\\n{x.isnull()}')"
   ]
  },
  {
   "cell_type": "markdown",
   "id": "b6da19d8",
   "metadata": {
    "hidden": true
   },
   "source": [
    " <br>"
   ]
  },
  {
   "cell_type": "markdown",
   "id": "63a8cf0f",
   "metadata": {
    "hidden": true
   },
   "source": [
    "O método **notnull** funciona de forma contrária, ou seja, quando **True** significa que naquela posição existe um dado real e quando **False** existe um dado ausente."
   ]
  },
  {
   "cell_type": "code",
   "execution_count": 37,
   "id": "9708c725",
   "metadata": {
    "ExecuteTime": {
     "end_time": "2022-11-07T18:54:30.249191Z",
     "start_time": "2022-11-07T18:54:30.235556Z"
    },
    "hidden": true
   },
   "outputs": [
    {
     "data": {
      "text/plain": [
       "0     True\n",
       "1     True\n",
       "2     True\n",
       "3    False\n",
       "4    False\n",
       "5     True\n",
       "dtype: bool"
      ]
     },
     "execution_count": 37,
     "metadata": {},
     "output_type": "execute_result"
    }
   ],
   "source": [
    "x.notnull()"
   ]
  },
  {
   "cell_type": "markdown",
   "id": "b2ec3519",
   "metadata": {
    "hidden": true
   },
   "source": [
    " <br>"
   ]
  },
  {
   "cell_type": "markdown",
   "id": "a5a7de1f",
   "metadata": {
    "hidden": true
   },
   "source": [
    "Como a series retornada pelos métodos é do tipo booleano, nós podemos utilizar a função soma para poder calcular quantos dados são dados ausentes ou reais."
   ]
  },
  {
   "cell_type": "code",
   "execution_count": 78,
   "id": "2be0de71",
   "metadata": {
    "ExecuteTime": {
     "end_time": "2022-11-07T20:03:12.195961Z",
     "start_time": "2022-11-07T20:03:12.187982Z"
    },
    "hidden": true
   },
   "outputs": [
    {
     "name": "stdout",
     "output_type": "stream",
     "text": [
      "Quantidade de dados ausentes: 2\n",
      "Quantidade de dados não ausentes: 4\n"
     ]
    }
   ],
   "source": [
    "print('Quantidade de dados ausentes:', x.isna().sum())\n",
    "print('Quantidade de dados não ausentes:', x.notnull().sum())"
   ]
  },
  {
   "cell_type": "markdown",
   "id": "ee0446db",
   "metadata": {
    "hidden": true
   },
   "source": [
    " <br>"
   ]
  },
  {
   "cell_type": "markdown",
   "id": "6dde5f49",
   "metadata": {
    "heading_collapsed": true,
    "hidden": true
   },
   "source": [
    "###  🐥 <font size=4>Excluindo linhas com valores nulos<font>"
   ]
  },
  {
   "cell_type": "markdown",
   "id": "795ae6f3",
   "metadata": {
    "hidden": true
   },
   "source": [
    "Para excluir as linhas da nossa Series nós iremos utilizar o método **dropna()**. Utilizar esse método numa Series é bem limitado, pois praticamente todos os parẽmetro desse método só servem para DataFrame."
   ]
  },
  {
   "cell_type": "code",
   "execution_count": 162,
   "id": "6d9827e0",
   "metadata": {
    "ExecuteTime": {
     "end_time": "2022-11-15T16:56:04.157293Z",
     "start_time": "2022-11-15T16:56:04.141324Z"
    },
    "hidden": true
   },
   "outputs": [
    {
     "data": {
      "text/plain": [
       "0    A\n",
       "1    B\n",
       "2    C\n",
       "5    F\n",
       "dtype: string"
      ]
     },
     "execution_count": 162,
     "metadata": {},
     "output_type": "execute_result"
    }
   ],
   "source": [
    "x = pd.Series(['A', 'B', 'C', np.nan, np.nan, 'F'], dtype='string')\n",
    "\n",
    "# Excluindo os valores vazios da Series\n",
    "x.dropna(axis=0)"
   ]
  },
  {
   "cell_type": "markdown",
   "id": "fbdf35b5",
   "metadata": {
    "heading_collapsed": true
   },
   "source": [
    "## 👾 <font size=5>Coletando informações sobre uma Series<font>"
   ]
  },
  {
   "cell_type": "markdown",
   "id": "47cffde2",
   "metadata": {
    "hidden": true
   },
   "source": [
    "- dtypes\n",
    "- index\n",
    "- name\n",
    "- shape\n",
    "- max( )\n",
    "- min( )\n",
    "- mean( )\n",
    "- median( )\n",
    "- std( )\n",
    "- corr( )\n",
    "- var( )\n",
    "- describe( )\n",
    "- unique( )\n",
    "- nunique( )\n",
    "- count( )\n",
    "- value_counts( )\n",
    "- sample( )"
   ]
  },
  {
   "cell_type": "markdown",
   "id": "7c48f478",
   "metadata": {},
   "source": [
    "# 🎯 DataFrame"
   ]
  },
  {
   "cell_type": "markdown",
   "id": "faf0f0b2",
   "metadata": {
    "heading_collapsed": true
   },
   "source": [
    "## 👾  <font size=5>Definição<font>"
   ]
  },
  {
   "cell_type": "markdown",
   "id": "fe524739",
   "metadata": {
    "hidden": true
   },
   "source": [
    "<br>\n",
    "O DataFrame é uma estrutura de dados tabular, semelhante a planilha de dados do Excel, essa estrutrura conciste em três componentes principais, os dados, linhas e colunas, onde as linhas e colunas possuem rotulos.<br>\n",
    "\n",
    "Olhando para a estrutura do DataFrame vamos perceber que ele é a junção de duas ou mais Series, ou seja, cada coluna de um _**DataFrame**_ é uma _**Series**_, veja.<br><br>\n",
    "\n",
    "\n",
    "![S](https://www.datasciencemadesimple.com/wp-content/uploads/2020/05/create-series-in-python-pandas-0.png)\n",
    "\n",
    "<br><br>\n",
    "\n",
    "Os dados que compoem cada coluna de um DataFrame podem ser variados, ou seja, uma coluna pode conter vários tipos de dados, como por exemplo, int e object (o pandas identifica str  como object). No entanto como o pandas  é implementado usando o numpy, isso fará o DataFrame perder performance e muitas das suas vantagens.<br>\n",
    "\n",
    "Alguns dados de entrada para a criação de um DataFrame são: Dict, listas, Series, np.ndarray de 1D ou 2D , outro DataFrame e muito mais ...<br>\n",
    "\n",
    "Já os dados que podem ser armazenados nas colunas de um DataFrame são: object (str), int, float, bool, dados categóricos e etc.<br>\n",
    "\n",
    "Um DataFrame pode ter seu tamanho mudado, através da exclusão ou inserção de linhas ou colunas.\n"
   ]
  },
  {
   "cell_type": "markdown",
   "id": "5cfed3c7",
   "metadata": {
    "heading_collapsed": true
   },
   "source": [
    "## 👾 <font size=5>Parametros de criação <font>"
   ]
  },
  {
   "cell_type": "markdown",
   "id": "ca9ba8a8",
   "metadata": {
    "hidden": true
   },
   "source": [
    "<br>\n",
    "Os parametros de criação de um DataFrame estão abaixo junto com a explicação de cada um. \n",
    "\n",
    "No entanto caso você queira beber da fonte o link está [aqui](https://pandas.pydata.org/docs/reference/api/pandas.DataFrame.html?highlight=pandas%20dataframe#pandas.DataFrame).<br><br>\n",
    "\n",
    "### <font color=purple>_pandas.DataFrame (_<font>\n",
    "\n",
    "**data**    =  None<br> \n",
    "**index**   =  None<br>\n",
    "**columns** =  None<br>\n",
    "**dtype**   =  None<br>\n",
    "**copy**    =  None<br>\n",
    "\n",
    "### <font color=purple>_)_<font>\n",
    "<br>"
   ]
  },
  {
   "cell_type": "markdown",
   "id": "12d6e576",
   "metadata": {
    "hidden": true
   },
   "source": [
    "\n",
    "### <font color=purple>data : ndarray (structured or homogeneous), Iterable, dict, or DataFrame<font>\n"
   ]
  },
  {
   "cell_type": "markdown",
   "id": "23963217",
   "metadata": {
    "hidden": true
   },
   "source": [
    "O parametro _**data**_ é responsavel por receber o objeto que será transformado em um DataFrame, esse objeto pode ser do tipo dict, listas, Series, np.ndarray de 1D ou 2D e outro DataFrame.<br>\n",
    "\n",
    "Por padrão esse parametro é None, o que signica que não há a necessidade de atribuir algum valor para esse parametro na hora da criação do DataFrame."
   ]
  },
  {
   "cell_type": "markdown",
   "id": "5e64f192",
   "metadata": {
    "hidden": true
   },
   "source": [
    "\n",
    "Quando não atribuimos nenhum valor ao parametro **data** estamos criando um DF vazio."
   ]
  },
  {
   "cell_type": "code",
   "execution_count": null,
   "id": "78888e58",
   "metadata": {
    "ExecuteTime": {
     "end_time": "2022-10-20T21:27:35.303088Z",
     "start_time": "2022-10-20T21:27:35.303075Z"
    },
    "hidden": true
   },
   "outputs": [],
   "source": [
    "import pandas as pd"
   ]
  },
  {
   "cell_type": "code",
   "execution_count": null,
   "id": "332d35b9",
   "metadata": {
    "ExecuteTime": {
     "end_time": "2022-10-20T21:27:35.303709Z",
     "start_time": "2022-10-20T21:27:35.303701Z"
    },
    "hidden": true
   },
   "outputs": [],
   "source": [
    "df = pd.DataFrame()\n",
    "df"
   ]
  },
  {
   "cell_type": "markdown",
   "id": "7dd072ab",
   "metadata": {
    "hidden": true
   },
   "source": [
    " <br>"
   ]
  },
  {
   "cell_type": "markdown",
   "id": "5cc752dd",
   "metadata": {
    "hidden": true
   },
   "source": [
    "Podemos montar um DataFrame com os estados da região norte do Brasil com uma **lista**, ao fazer isso a lista se trasmormará em uma coluna do DF (as linhas e colunas terão rotulos numéricos)."
   ]
  },
  {
   "cell_type": "code",
   "execution_count": null,
   "id": "71be8930",
   "metadata": {
    "ExecuteTime": {
     "end_time": "2022-10-20T21:27:35.304395Z",
     "start_time": "2022-10-20T21:27:35.304386Z"
    },
    "hidden": true
   },
   "outputs": [],
   "source": [
    "estados = ['Acre',\n",
    "           'Amapá',\n",
    "           'Amazonas',\n",
    "           'Pará',\n",
    "           'Rondônia',\n",
    "           'Roraima',\n",
    "           'Tocantins']\n",
    "\n",
    "df = pd.DataFrame(data=estados)\n",
    "df"
   ]
  },
  {
   "cell_type": "markdown",
   "id": "b0a418cd",
   "metadata": {
    "hidden": true
   },
   "source": [
    " <br>"
   ]
  },
  {
   "cell_type": "markdown",
   "id": "1b238446",
   "metadata": {
    "hidden": true
   },
   "source": [
    "Também podemos utilizar uma **lista de listas** para montar um DataFrame com várias colunas."
   ]
  },
  {
   "cell_type": "code",
   "execution_count": null,
   "id": "0c610dd2",
   "metadata": {
    "ExecuteTime": {
     "end_time": "2022-10-20T21:27:35.305621Z",
     "start_time": "2022-10-20T21:27:35.305612Z"
    },
    "hidden": true
   },
   "outputs": [],
   "source": [
    "capitais = [['Acre', 'AC', '803,5 mil', 'Rio Branco'],\n",
    "            ['Amapá', 'AP', '776,6 mil', 'Macapá'],\n",
    "            ['Amazonas', 'AM', '3,9 milhões', 'Manaus'],\n",
    "            ['Pará', 'PA', '8,1 milhões', 'Belém'],\n",
    "            ['Rondônia', 'RO', '1,7 milhão', 'Porto Velho'],\n",
    "            ['Roraima', 'RR', '505,6 mil', 'Boa Vista'],\n",
    "            ['Tocantins', 'TO', '1,5 milhão', 'Palmas']]\n",
    "\n",
    "\n",
    "df = pd.DataFrame(data=capitais)\n",
    "df"
   ]
  },
  {
   "cell_type": "markdown",
   "id": "f55d9626",
   "metadata": {
    "hidden": true
   },
   "source": [
    " <br>"
   ]
  },
  {
   "cell_type": "markdown",
   "id": "fbf611a7",
   "metadata": {
    "hidden": true
   },
   "source": [
    "Outra forma de criar um DataFrame é apartir de um **dicionário**. Quando criamos um DF a partir de um dicionário, cada item do dicionário será uma coluna do df, a chave será o rotulo da coluna e o valor da chave serão os valores da coluna."
   ]
  },
  {
   "cell_type": "code",
   "execution_count": null,
   "id": "76c0153a",
   "metadata": {
    "ExecuteTime": {
     "end_time": "2022-10-20T21:27:35.306424Z",
     "start_time": "2022-10-20T21:27:35.306415Z"
    },
    "hidden": true
   },
   "outputs": [],
   "source": [
    "estados = {'Estado': ['Acre',\n",
    "                      'Amapá',\n",
    "                      'Amazonas',\n",
    "                      'Pará',\n",
    "                      'Rondônia',\n",
    "                      'Roraima',\n",
    "                      'Tocantins'],\n",
    "           'Sigla': ['AC',\n",
    "                     'AP',\n",
    "                     'AM',\n",
    "                     'PA',\n",
    "                     'RO',\n",
    "                     'RR',\n",
    "                     'TO'],\n",
    "           'População': ['803,5 mil',\n",
    "                         '776,6 mil',\n",
    "                         '3,9 milhões',\n",
    "                         '8,1 milhões',\n",
    "                         '1,7 milhão',\n",
    "                         '505,6 mil',\n",
    "                         '1,5 milhão'],\n",
    "           'Capital': ['Rio Branco',\n",
    "                       'Macapá',\n",
    "                       'Manaus',\n",
    "                       'Belém',\n",
    "                       'Porto Velho',\n",
    "                       'Boa Vista',\n",
    "                       'Palmas']}\n",
    "\n",
    "\n",
    "df = pd.DataFrame(data=estados)\n",
    "df"
   ]
  },
  {
   "cell_type": "markdown",
   "id": "73d20d49",
   "metadata": {
    "hidden": true
   },
   "source": [
    " <br>"
   ]
  },
  {
   "cell_type": "markdown",
   "id": "8e6e9b96",
   "metadata": {
    "hidden": true
   },
   "source": [
    "**Resumo**<br>\n",
    "Resumindo, o parametro data serve para indicar o que queremos que o pandas transforme em um DataFrame."
   ]
  },
  {
   "cell_type": "markdown",
   "id": "5d85bd83",
   "metadata": {
    "hidden": true
   },
   "source": [
    " <br>"
   ]
  },
  {
   "cell_type": "markdown",
   "id": "02d095e9",
   "metadata": {
    "hidden": true
   },
   "source": [
    "\n",
    "### <font color=purple>index : Index or array-like<font>"
   ]
  },
  {
   "cell_type": "markdown",
   "id": "3c435e51",
   "metadata": {
    "hidden": true
   },
   "source": [
    "O parametro index é opcional, por padrão o índice do dataframe começa em 0 e termina no último valor. Ele define os índices das linha.\n",
    "\n",
    "Quando criamos um DataFrame a partir de outros objetos ou de inportação de dados, o pandas define o indice das linhas por padrão como numérico, mas é possivel modificar esses índices e passar como valor para o parametro **index** algum array."
   ]
  },
  {
   "cell_type": "code",
   "execution_count": null,
   "id": "95537ed3",
   "metadata": {
    "ExecuteTime": {
     "end_time": "2022-10-20T21:27:35.307497Z",
     "start_time": "2022-10-20T21:27:35.307487Z"
    },
    "hidden": true
   },
   "outputs": [],
   "source": [
    "import pandas as pd"
   ]
  },
  {
   "cell_type": "code",
   "execution_count": null,
   "id": "04355431",
   "metadata": {
    "ExecuteTime": {
     "end_time": "2022-10-20T21:27:35.309102Z",
     "start_time": "2022-10-20T21:27:35.309091Z"
    },
    "hidden": true
   },
   "outputs": [],
   "source": [
    "nomes = ['Alba', 'Ana', 'Amélia',\n",
    "         'Breno', 'Bruno', 'Bernardo',\n",
    "         'Carla', 'Cesar', 'Cris']\n",
    "\n",
    "rotulo = [10, 11, 12, 13, 14, 15, 16, 17, 18]\n",
    "# rotulo2 = [p[0] for p in nomes]\n",
    "\n",
    "df = pd.DataFrame(data=nomes, index=rotulo)\n",
    "df"
   ]
  },
  {
   "cell_type": "markdown",
   "id": "f6f9e177",
   "metadata": {
    "hidden": true
   },
   "source": [
    " <br>"
   ]
  },
  {
   "cell_type": "markdown",
   "id": "d694489a",
   "metadata": {
    "hidden": true
   },
   "source": [
    "\n",
    "### <font color=purple>Columns : Index or array-like<font>"
   ]
  },
  {
   "cell_type": "markdown",
   "id": "8fb3ea2a",
   "metadata": {
    "hidden": true
   },
   "source": [
    "Este parâmetro se comporta de duas maneiras diferentes. Vamos ver ná prática."
   ]
  },
  {
   "cell_type": "markdown",
   "id": "8c34b4d1",
   "metadata": {
    "hidden": true
   },
   "source": [
    "Quando criamos um dataframe a partir de uma lista de listas, os indices das linhas e os rotulos das colunas serão numéricos. Quando o rótulo das colunas forem numéricos, podemos usar o parâmetro columns para nomear as colunas."
   ]
  },
  {
   "cell_type": "code",
   "execution_count": null,
   "id": "ccc5ec7d",
   "metadata": {
    "ExecuteTime": {
     "end_time": "2022-10-20T21:27:35.310013Z",
     "start_time": "2022-10-20T21:27:35.310001Z"
    },
    "hidden": true
   },
   "outputs": [],
   "source": [
    "lista = [['huan', 18, 'm'],\n",
    "         ['luigi', 19, 'm'],\n",
    "         ['lucas', 18, 'm'],\n",
    "         ['manoel', 17, 'm'],\n",
    "         ['simão', 19, 'm']]\n",
    "\n",
    "# colunas sem nome\n",
    "df = pd.DataFrame(data=lista)\n",
    "display(df)\n",
    "\n",
    "\n",
    "# nomeando as colunas\n",
    "df = pd.DataFrame(data=lista, columns=['nome', 'idade', 'sexo'])\n",
    "display(df)"
   ]
  },
  {
   "cell_type": "markdown",
   "id": "9375482a",
   "metadata": {
    "hidden": true
   },
   "source": [
    " <br>"
   ]
  },
  {
   "cell_type": "markdown",
   "id": "3702b9d4",
   "metadata": {
    "hidden": true
   },
   "source": [
    "Já quando criamos um dataframe a partir de um dicionário ou uma lista de Series, o parâmetro columns serve para definir quais itens do dicionário ou, quais Series da lista devem ser transformado no dataframe."
   ]
  },
  {
   "cell_type": "code",
   "execution_count": null,
   "id": "360e2a9b",
   "metadata": {
    "ExecuteTime": {
     "end_time": "2022-10-20T21:27:35.311167Z",
     "start_time": "2022-10-20T21:27:35.311156Z"
    },
    "hidden": true,
    "scrolled": true
   },
   "outputs": [],
   "source": [
    "dic = {\n",
    "    'nome': ['huan', 'luigi', 'lucas', 'manoel', 'simão'],\n",
    "    'idade': [18, 19, 18, 17, 19],\n",
    "    'sexo': ['m', 'm', 'm', 'm', 'm']\n",
    "\n",
    "}\n",
    "\n",
    "# dataframe completo\n",
    "df = pd.DataFrame(data=dic)\n",
    "display(df)\n",
    "\n",
    "\n",
    "# apenas nome e sexo\n",
    "df = pd.DataFrame(data=dic, columns=['nome', 'sexo'])\n",
    "display(df)"
   ]
  },
  {
   "cell_type": "markdown",
   "id": "485e5e1c",
   "metadata": {
    "hidden": true
   },
   "source": [
    " <br>"
   ]
  },
  {
   "cell_type": "markdown",
   "id": "d1452f72",
   "metadata": {
    "hidden": true
   },
   "source": [
    "\n",
    "### <font color=purple>dtype : dtype, default None<font>"
   ]
  },
  {
   "cell_type": "markdown",
   "id": "cafc9a9f",
   "metadata": {
    "hidden": true
   },
   "source": [
    "Esse parametro serve para forçar todos os valores a terem o mesmo tipo. Apenas um único dtype é permitido.<br>\n",
    "Caso o DF tenha algum valor com tipo de dado igual a str não será possivel fazer a conversão."
   ]
  },
  {
   "cell_type": "code",
   "execution_count": null,
   "id": "09447915",
   "metadata": {
    "ExecuteTime": {
     "end_time": "2022-10-20T21:27:35.311682Z",
     "start_time": "2022-10-20T21:27:35.311673Z"
    },
    "hidden": true
   },
   "outputs": [],
   "source": [
    "idades = [12, 13, 14, 10, 11, 17, 10, 69]\n",
    "\n",
    "# Alguns tipos de dados numéricos\n",
    "flutuante = [np.float16, np.float32, np.float64]\n",
    "inteiro = [np.int16, np.int32, np.int64]\n",
    "\n",
    "df = pd.DataFrame(data=idades, dtype=inteiro[0])\n",
    "\n",
    "df.dtypes"
   ]
  },
  {
   "cell_type": "markdown",
   "id": "57515e0a",
   "metadata": {
    "hidden": true
   },
   "source": [
    " <br>"
   ]
  },
  {
   "cell_type": "markdown",
   "id": "bdf8f739",
   "metadata": {
    "hidden": true
   },
   "source": [
    "Obs: caso exista um valor que é um numero, mas tem tipo str, é possivel fazer a conversão de todos os valores para float."
   ]
  },
  {
   "cell_type": "code",
   "execution_count": null,
   "id": "894fe3bd",
   "metadata": {
    "ExecuteTime": {
     "end_time": "2022-10-20T21:27:35.313130Z",
     "start_time": "2022-10-20T21:27:35.313116Z"
    },
    "hidden": true
   },
   "outputs": [],
   "source": [
    "idades = ['12', 13, 14, 10, '11', '17', 10, '69']\n",
    "\n",
    "flutuante = [np.float16, np.float32, np.float64]\n",
    "\n",
    "df = pd.DataFrame(data=idades, dtype=flutuante[0])\n",
    "\n",
    "df.dtypes"
   ]
  },
  {
   "cell_type": "markdown",
   "id": "4dfa90f3",
   "metadata": {
    "hidden": true
   },
   "source": [
    " <br>"
   ]
  },
  {
   "cell_type": "markdown",
   "id": "39853f0e",
   "metadata": {
    "hidden": true
   },
   "source": [
    "\n",
    "### <font color=purple>copy : bool, default None<font>"
   ]
  },
  {
   "cell_type": "markdown",
   "id": "f41c4830",
   "metadata": {
    "hidden": true
   },
   "source": [
    "O parametro **copy** serve para situações que você queira criar um dataframe novo a partir de uma Series ou um Dataframe antigo sem que alterações futuras nesses objetos possam alterar o DataFrame também.<br>\n",
    "\n",
    "Esse parametro recebe valores booleanos, ou seja, **False** ou **True**. Por padrão ele é **False**.<br>\n",
    "\n",
    "Caso o valor seja **True**, qualquer alteração no objeto de criação não acarretará em uma mudança no DataFrame.<br>\n",
    "\n",
    "E se for **False**, qualquer alteração no objeto de criação acarretará em uma mudança no DataFrame."
   ]
  },
  {
   "cell_type": "code",
   "execution_count": null,
   "id": "16f09fcc",
   "metadata": {
    "ExecuteTime": {
     "end_time": "2022-10-20T21:27:35.314080Z",
     "start_time": "2022-10-20T21:27:35.314070Z"
    },
    "hidden": true,
    "scrolled": true
   },
   "outputs": [],
   "source": [
    "dic = {\n",
    "    'nome': ['huan', 'luigi', 'lucas', 'manoel', 'simão'],\n",
    "    'idade': [18, 19, 18, 17, 19],\n",
    "    'sexo': ['m', 'm', 'm', 'm', 'm']\n",
    "}\n",
    "\n",
    "df = pd.DataFrame(data=dic)\n",
    "\n",
    "# Agora é possivel fazer alterações no df1 sem alterar o df, vice e versa.\n",
    "df1 = pd.DataFrame(df, copy=True)\n",
    "df2 = pd.DataFrame(df, copy=False)\n",
    "\n",
    "df.loc[0, ['nome']] = 'modificado'\n",
    "\n",
    "display(df1)\n",
    "display(df2)"
   ]
  },
  {
   "cell_type": "markdown",
   "id": "6790f378",
   "metadata": {
    "hidden": true
   },
   "source": [
    " <br>"
   ]
  },
  {
   "cell_type": "markdown",
   "id": "c0ee8482",
   "metadata": {
    "heading_collapsed": true
   },
   "source": [
    "## 👾 <font size=5>Importando arquivos ou bases de dados<font>\n"
   ]
  },
  {
   "cell_type": "markdown",
   "id": "c20b4c92",
   "metadata": {
    "hidden": true
   },
   "source": [
    "<br>\n",
    "O pandas oferece uma variedade de métodos que serve para ler um arquivo e transforma-lo em uma tabela (DataFrame). Veja alguns:\n",
    "    "
   ]
  },
  {
   "cell_type": "markdown",
   "id": "36a215cc",
   "metadata": {
    "hidden": true
   },
   "source": [
    "- [pd.read_csv](https://pandas.pydata.org/docs/reference/api/pandas.read_csv.html?highlight=pandas%20read_) \n",
    "- [pd.read_excel](https://pandas.pydata.org/docs/reference/api/pandas.read_excel.html?highlight=pandas%20read_) \n",
    "- [pd.read_json](https://pandas.pydata.org/docs/reference/api/pandas.read_json.html?highlight=pandas%20read_) \n",
    "- [pd.read_html](https://pandas.pydata.org/docs/reference/api/pandas.read_html.html?highlight=pandas%20read_) \n",
    "- [pd.read_sas](https://pandas.pydata.org/docs/reference/api/pandas.read_sas.html?highlight=pandas%20read_) \n",
    "- [pd.read_sql](https://pandas.pydata.org/docs/reference/api/pandas.read_sql.html?highlight=pandas%20read_) \n",
    "- [pd.read_table](https://pandas.pydata.org/docs/reference/api/pandas.read_table.html?highlight=pandas%20read_) "
   ]
  },
  {
   "cell_type": "markdown",
   "id": "1f1e8641",
   "metadata": {
    "hidden": true
   },
   "source": [
    "\n",
    "Cada método foi criado para ler um tipo de arquivo e por isso tem suas particularidades, devido ao nome dos métodos fica facil entender pra qual tipo de arquivo ele serve. Abaixo segue a explicação de alguns desses métodos.<br><br>"
   ]
  },
  {
   "cell_type": "markdown",
   "id": "a73f93b4",
   "metadata": {
    "heading_collapsed": true,
    "hidden": true
   },
   "source": [
    "###  🐥 pd.read_csv ( )"
   ]
  },
  {
   "cell_type": "markdown",
   "id": "4b998d5f",
   "metadata": {
    "hidden": true
   },
   "source": [
    "\n",
    "\n",
    "### O que esse método faz?\n",
    "\n",
    "A maioria dos dados está disponivel em um formato tabular (linhas e colunas) de arquivos CSV. É muito popular. Por isso o pandas despolibiliza o método pd.read_csv, que importa um arquivo csv para o formato DataFrame. Também suporta iterar ou dividir o arquivo em partes. Caso você queira aprender como ler um arquivo CSV sem usar o pandas, o link está [aqui](https://www.youtube.com/watch?v=AnJPtKLtc7o&ab_channel=HashtagPrograma%C3%A7%C3%A3o).\n",
    "\n",
    "### O que é um arquivo CSV?\n",
    "\n",
    "CSV é a sigla para 'Comma Separated Values' (em português, valores separados por virgula). Um arquivo CSV é um arquivo de texto que organiza informações reparados por virgula em 2 dimenções, ou seja, linhas e colunas. O conteúdo geralmente são textos números ou datas. Os arquivos CSV podem ser facilmente importados e exportados usando programas que armazenam dados em tabelas.\n",
    "\n",
    "### Como um arquivo CSV é organizado?\n",
    "\n",
    "Em geral a primeira linha contém os rótulos das colunas das tabelas. Cada uma das linhas subsequentes representam uma linha da tabela. Virgulas separam cada valor da linha, o que é motivo para o nome do formato.\n",
    "\n",
    "Aqui temos um exemplo de um arquivo CSV. O exemplo tem 3 colunas, com os rótulos nome, idade e comida favorita. Temos 5 linhas incluindo a linha do cabeçalho."
   ]
  },
  {
   "cell_type": "code",
   "execution_count": null,
   "id": "9c910729",
   "metadata": {
    "ExecuteTime": {
     "end_time": "2022-10-20T21:27:35.315228Z",
     "start_time": "2022-10-20T21:27:35.315218Z"
    },
    "hidden": true
   },
   "outputs": [],
   "source": [
    "nome, idade, comida favorita\n",
    "huan barros, 18, muita coisa\n",
    "joão polinario, 15, pizza\n",
    "ana barretos, 17, lasanha\n",
    "marcos silva, 13, sorvete"
   ]
  },
  {
   "cell_type": "markdown",
   "id": "11161896",
   "metadata": {
    "hidden": true
   },
   "source": [
    "\n",
    "### Parâmetros\n",
    "\n",
    "Os parâmetros que esse método pode receber são inumeros, por isso separamos somente os que você provavelmente precisa conhecer no inicio. Mas, caso você queira conhecer todos os parâmetros o link está [aqui](https://pandas.pydata.org/docs/reference/api/pandas.read_csv.html#pandas.read_csv). <br><br>\n",
    "\n",
    "### <font color=purple>_pd.read_csv (_<font> \n",
    "<br>\n",
    "\n",
    "**filepath_or_buffer**<br>\n",
    "**sep** = ',' <br>\n",
    "**header** = 'infer' <br>\n",
    "**names** = _NoDefault.no_default <br>\n",
    "**index_col** = None <br>\n",
    "**usecols** = None <br>\n",
    "**dtype** = None <br> \n",
    "**converters** = None <br>\n",
    "**skiprows** = None <br>\n",
    "**skipfooter** = 0 <br>\n",
    "**nrows** = None <br>\n",
    "**na_values** = None <br>\n",
    "**skipfooter** = True\n",
    "\n",
    "\n",
    "### <font color=purple>_)_ <font> <br>\n",
    "\n"
   ]
  },
  {
   "cell_type": "markdown",
   "id": "8cffbbd0",
   "metadata": {
    "hidden": true
   },
   "source": [
    "\n",
    "### <font color=purple>filepath_or_buffer : str<font>"
   ]
  },
  {
   "cell_type": "markdown",
   "id": "ef91bfc5",
   "metadata": {
    "hidden": true
   },
   "source": [
    "Esse parâmetro é a localização do **arquivo.csv** e deve ser passado no formato de uma string. Se o **arquivo.csv** estiver no mesmo diretório do projeto será necessário ser passado apenas o nome do arquivo, caso contrário você terá que passar o caminho completo da base do seu sistema de arquivos para o **arquivo.csv** que você deseja carregar, por exemplo, /home/audax/Downloads/test_file.csv . Esse parâmetro também aceita a URL do arquivo como localização."
   ]
  },
  {
   "cell_type": "code",
   "execution_count": null,
   "id": "5eaf295c",
   "metadata": {
    "ExecuteTime": {
     "end_time": "2022-10-20T21:27:35.315750Z",
     "start_time": "2022-10-20T21:27:35.315741Z"
    },
    "hidden": true
   },
   "outputs": [],
   "source": [
    "import pandas as pd"
   ]
  },
  {
   "cell_type": "code",
   "execution_count": null,
   "id": "e86e170c",
   "metadata": {
    "ExecuteTime": {
     "end_time": "2022-10-20T21:27:35.316226Z",
     "start_time": "2022-10-20T21:27:35.316218Z"
    },
    "hidden": true
   },
   "outputs": [],
   "source": [
    "df = pd.read_csv('base-de-dados/teste1.csv')\n",
    "df"
   ]
  },
  {
   "cell_type": "markdown",
   "id": "41cba54e",
   "metadata": {
    "hidden": true
   },
   "source": [
    " <br>"
   ]
  },
  {
   "cell_type": "markdown",
   "id": "95d39b0c",
   "metadata": {
    "hidden": true
   },
   "source": [
    "\n",
    "### <font color=purple>sep : str<font>"
   ]
  },
  {
   "cell_type": "markdown",
   "id": "3f32443d",
   "metadata": {
    "hidden": true
   },
   "source": [
    "Significa um separador, que serve para separar os valores de cada linha de um arquivo.csv, o padrão é uma vírgula. No entanto pode haver arquivos com o sepador diferente da virgula, como por exemplo, dois pontos, a barra vertical e muitos outros. Nesse caso é necessário indicar ao parâmetro **sep** que separador é esse."
   ]
  },
  {
   "cell_type": "code",
   "execution_count": null,
   "id": "1d96ea32",
   "metadata": {
    "ExecuteTime": {
     "end_time": "2022-10-20T21:27:35.316807Z",
     "start_time": "2022-10-20T21:27:35.316797Z"
    },
    "hidden": true
   },
   "outputs": [],
   "source": [
    "# o arquivo usa a barra vertical como separador\n",
    "df = pd.read_csv('base-de-dados/teste2.csv', sep='|')\n",
    "df"
   ]
  },
  {
   "cell_type": "markdown",
   "id": "bf5ebd3e",
   "metadata": {
    "hidden": true
   },
   "source": [
    " <br>"
   ]
  },
  {
   "cell_type": "markdown",
   "id": "7c4e8b9a",
   "metadata": {
    "hidden": true
   },
   "source": [
    "É possivel haver mais de um tipo de separador em um arquivo CSV. Por isso o pandas dispolibiliza 3 mecanismos diferentes para o analisador de arquivos CSV. Os mecanismos C, pyarrow e python. C e pyarrow são mais rápidos ná hora de ler o arquivo e separar os valores, no entato eles não conseguem ler arquivos que tenham mais de 1 separador. Já o mecanismo python é atualmente mais completo e é capaz de ler arquivos CSV com mais de 1 separador, no entanto deixa a dejar na sua velocidade.\n",
    "\n",
    "Para usar o pyarrow é necessário fazer a instalação do pyarrow.csv via pip ou conda. Os outros não precisa.\n",
    "\n",
    "Para escolher o mecanismo que você quer usar o pandas disponibilizou o parametro **engine**, que recebe uma str com o nome do mecanismo.<br>\n",
    "\n"
   ]
  },
  {
   "cell_type": "code",
   "execution_count": null,
   "id": "c30a1ae3",
   "metadata": {
    "ExecuteTime": {
     "end_time": "2022-10-20T21:27:35.317697Z",
     "start_time": "2022-10-20T21:27:35.317687Z"
    },
    "hidden": true
   },
   "outputs": [],
   "source": [
    "# é necessário passar os separadores dentro de colchetes, e o tipo do dado tem que ser str\n",
    "df = pd.read_csv('base-de-dados/teste3.csv', sep='[,|:]', engine='python')\n",
    "df"
   ]
  },
  {
   "cell_type": "markdown",
   "id": "8744f366",
   "metadata": {
    "hidden": true
   },
   "source": [
    " <br>"
   ]
  },
  {
   "cell_type": "markdown",
   "id": "c2f0f254",
   "metadata": {
    "hidden": true
   },
   "source": [
    "\n",
    "### <font color=purple>header  : int, list of int<font>"
   ]
  },
  {
   "cell_type": "markdown",
   "id": "af705e99",
   "metadata": {
    "hidden": true
   },
   "source": [
    "Serve para especificar qual linha do seu arquivo será usada como os rótulos das colunas do seu DataFrame. É esperado um valor int ou uma lista de valores int. O valor padrão é **_header=0_**."
   ]
  },
  {
   "cell_type": "code",
   "execution_count": null,
   "id": "922b392b",
   "metadata": {
    "ExecuteTime": {
     "end_time": "2022-10-20T21:27:35.318179Z",
     "start_time": "2022-10-20T21:27:35.318171Z"
    },
    "hidden": true,
    "scrolled": false
   },
   "outputs": [],
   "source": [
    "# Escolhendo a 4ª linha do arquivo como cabeçalho\n",
    "df = pd.read_csv('base-de-dados/teste1.csv', header=3)\n",
    "df"
   ]
  },
  {
   "cell_type": "markdown",
   "id": "beacd24e",
   "metadata": {
    "hidden": true
   },
   "source": [
    " "
   ]
  },
  {
   "cell_type": "code",
   "execution_count": null,
   "id": "3a2b3874",
   "metadata": {
    "ExecuteTime": {
     "end_time": "2022-10-20T21:27:35.318682Z",
     "start_time": "2022-10-20T21:27:35.318673Z"
    },
    "hidden": true
   },
   "outputs": [],
   "source": [
    "# Escolhendo a 1ª e  a 2ª linha do arquivo como cabeçalho\n",
    "# Só pode ser uma lista de ints, outro tipo de array não\n",
    "df = pd.read_csv('base-de-dados/teste1.csv', header=[0, 1])\n",
    "df"
   ]
  },
  {
   "cell_type": "markdown",
   "id": "5e8f260c",
   "metadata": {
    "hidden": true
   },
   "source": [
    " <br>"
   ]
  },
  {
   "cell_type": "markdown",
   "id": "87dee2ee",
   "metadata": {
    "hidden": true
   },
   "source": [
    "\n",
    "### <font color=purple>names : array - like<font>"
   ]
  },
  {
   "cell_type": "markdown",
   "id": "459d8ee6",
   "metadata": {
    "hidden": true
   },
   "source": [
    "O parâmetro names recebe um array com valores que serão usados como o cabeçalho do DataFrame. O array não pode conter valores repetidos. Caso o seu arquivo CSV já tenha cabeçalho, ele se tornará a primeira linha do DataFrame. Para sobrescrever um cabeçalho já existente é necessário passar **header=0**."
   ]
  },
  {
   "cell_type": "code",
   "execution_count": null,
   "id": "94b3d5c2",
   "metadata": {
    "ExecuteTime": {
     "end_time": "2022-10-20T21:27:35.319156Z",
     "start_time": "2022-10-20T21:27:35.319147Z"
    },
    "hidden": true
   },
   "outputs": [],
   "source": [
    "# Antes de mudar o nome das colunas\n",
    "df = pd.read_csv('base-de-dados/teste1.csv')\n",
    "display(df)\n",
    "\n",
    "# Depois de mudar o nome das colunas\n",
    "df = pd.read_csv('base-de-dados/teste1.csv', header=0,\n",
    "                 names=['name', 'age', 'favorite food'])\n",
    "display(df)"
   ]
  },
  {
   "cell_type": "markdown",
   "id": "924cd43e",
   "metadata": {
    "hidden": true
   },
   "source": [
    " <br>"
   ]
  },
  {
   "cell_type": "markdown",
   "id": "b66b337b",
   "metadata": {
    "hidden": true
   },
   "source": [
    "\n",
    "\n",
    "### <font color=purple>index_col : int, str, sequence of int or str, or False<font>"
   ]
  },
  {
   "cell_type": "markdown",
   "id": "e72061b7",
   "metadata": {
    "hidden": true
   },
   "source": [
    "Serve para escolher qual coluna será usada como índice do DataFrame, o valor padrão é None/False. Para escolher a coluna você precisa passar o nome ou o índice da coluna. Também é possivel passar uma lista com os nomes ou os índices da colunas que você queira que virem o índice do seu DataFrame. Ao fazer isso um MultiIndex será usado, ou seja, o seu DataFrame terá mutiplos índices."
   ]
  },
  {
   "cell_type": "code",
   "execution_count": null,
   "id": "4ca589ba",
   "metadata": {
    "ExecuteTime": {
     "end_time": "2022-10-20T21:27:35.319803Z",
     "start_time": "2022-10-20T21:27:35.319794Z"
    },
    "hidden": true
   },
   "outputs": [],
   "source": [
    "# Utilizando o indice da coluna\n",
    "\n",
    "df = pd.read_csv('base-de-dados/teste1.csv', index_col=0)\n",
    "df"
   ]
  },
  {
   "cell_type": "markdown",
   "id": "5b4477b7",
   "metadata": {
    "hidden": true
   },
   "source": [
    " "
   ]
  },
  {
   "cell_type": "code",
   "execution_count": null,
   "id": "be2ba971",
   "metadata": {
    "ExecuteTime": {
     "end_time": "2022-10-20T21:27:35.320357Z",
     "start_time": "2022-10-20T21:27:35.320348Z"
    },
    "hidden": true
   },
   "outputs": [],
   "source": [
    "# Utilizando o nome da coluna\n",
    "\n",
    "df = pd.read_csv('base-de-dados/teste1.csv', index_col='nome')\n",
    "df"
   ]
  },
  {
   "cell_type": "markdown",
   "id": "f38ab556",
   "metadata": {
    "hidden": true
   },
   "source": [
    " \n"
   ]
  },
  {
   "cell_type": "code",
   "execution_count": null,
   "id": "38c306bf",
   "metadata": {
    "ExecuteTime": {
     "end_time": "2022-10-20T21:27:35.320908Z",
     "start_time": "2022-10-20T21:27:35.320897Z"
    },
    "hidden": true
   },
   "outputs": [],
   "source": [
    "# Utilizando uma lista com os indices das colunas, poderia ser outro tipo de array\n",
    "\n",
    "df = pd.read_csv('base-de-dados/teste1.csv', index_col=[0, 2])\n",
    "df"
   ]
  },
  {
   "cell_type": "markdown",
   "id": "f6e42dd3",
   "metadata": {
    "hidden": true
   },
   "source": [
    " "
   ]
  },
  {
   "cell_type": "code",
   "execution_count": null,
   "id": "158baaa5",
   "metadata": {
    "ExecuteTime": {
     "end_time": "2022-10-20T21:27:35.321388Z",
     "start_time": "2022-10-20T21:27:35.321379Z"
    },
    "hidden": true
   },
   "outputs": [],
   "source": [
    "# Utilizando uma lista com os nomes das colunas, poderia ser outro tipo de array\n",
    "\n",
    "df = pd.read_csv('base-de-dados/teste1.csv',\n",
    "                 index_col=['nome', 'comida favorita'])\n",
    "df"
   ]
  },
  {
   "cell_type": "markdown",
   "id": "52985e12",
   "metadata": {
    "hidden": true
   },
   "source": [
    " <br>"
   ]
  },
  {
   "cell_type": "markdown",
   "id": "a79affe6",
   "metadata": {
    "hidden": true
   },
   "source": [
    "\n",
    "### <font color=purple>usecols : list-like ou callable<font>"
   ]
  },
  {
   "cell_type": "markdown",
   "id": "245e0c98",
   "metadata": {
    "hidden": true
   },
   "source": [
    "Serve para especificar quais colunas do arquivo CSV devem ser importadas para o DataFrame. O padrão é None, ou seja, todas as colunas serão importadas. O parâmetro deve receber uma lista com os índices ou os nomes das colunas que devem ser importadas para o DataFrame."
   ]
  },
  {
   "cell_type": "code",
   "execution_count": null,
   "id": "0199a499",
   "metadata": {
    "ExecuteTime": {
     "end_time": "2022-10-20T21:27:35.321866Z",
     "start_time": "2022-10-20T21:27:35.321857Z"
    },
    "hidden": true
   },
   "outputs": [],
   "source": [
    "# Utilizando os índice da coluna\n",
    "\n",
    "# É possivel escolher apenas uma coluna, mas o indice\n",
    "df = pd.read_csv('base-de-dados/teste1.csv', usecols=[0, 2])\n",
    "# presica estar dentro de uma lista.\n",
    "df"
   ]
  },
  {
   "cell_type": "markdown",
   "id": "7dca3e55",
   "metadata": {
    "hidden": true
   },
   "source": [
    " "
   ]
  },
  {
   "cell_type": "code",
   "execution_count": null,
   "id": "8403a39d",
   "metadata": {
    "ExecuteTime": {
     "end_time": "2022-10-20T21:27:35.322342Z",
     "start_time": "2022-10-20T21:27:35.322334Z"
    },
    "hidden": true
   },
   "outputs": [],
   "source": [
    "# Utilizando os nomes da coluna\n",
    "\n",
    "df = pd.read_csv('base-de-dados/teste1.csv',\n",
    "                 usecols=['nome', 'comida favorita'])\n",
    "df"
   ]
  },
  {
   "cell_type": "markdown",
   "id": "b9c728f2",
   "metadata": {
    "hidden": true
   },
   "source": [
    " <br>"
   ]
  },
  {
   "cell_type": "markdown",
   "id": "f196e5f3",
   "metadata": {
    "hidden": true
   },
   "source": [
    "\n",
    "### <font color=purple>dtype : Type name or dict of column -> type, optional<font>"
   ]
  },
  {
   "cell_type": "markdown",
   "id": "281ffd51",
   "metadata": {
    "hidden": true
   },
   "source": [
    "O parâmetro dtype serve para determinar o tipo de dado que cada coluna deve ter. Ele recebe um dicionário, aonde a chave do dicionário, deve ser nome da coluna e o valor da chave, o tipo de dado que será forçado na coluna."
   ]
  },
  {
   "cell_type": "code",
   "execution_count": null,
   "id": "a53eb1f9",
   "metadata": {
    "ExecuteTime": {
     "end_time": "2022-10-20T21:27:35.322911Z",
     "start_time": "2022-10-20T21:27:35.322902Z"
    },
    "hidden": true
   },
   "outputs": [],
   "source": [
    "df = pd.read_csv('base-de-dados/teste1.csv',\n",
    "                 dtype={'nome': 'string', 'idade': 'float', 'comida favorita': 'string'})\n",
    "\n",
    "df.dtypes"
   ]
  },
  {
   "cell_type": "markdown",
   "id": "b774d58b",
   "metadata": {
    "hidden": true
   },
   "source": [
    " <br>"
   ]
  },
  {
   "cell_type": "markdown",
   "id": "999ba805",
   "metadata": {
    "hidden": true
   },
   "source": [
    "\n",
    "### <font color=purple>converters : dict<font>"
   ]
  },
  {
   "cell_type": "markdown",
   "id": "c9641de0",
   "metadata": {
    "hidden": true
   },
   "source": [
    "O parametro converters possiblita que você faça alterações, transformações ou conversões nos valores das colunas do arquivo CSV enquanto importa o próprio CSV. Para isso é necessário passar um dicionário com funções. A chave do dicionário deve conter o nome da coluna e o valor da chave a função. \n",
    "\n",
    "Vamos a um exemplo: o objetivo é, da coluna nome, pegar somente o primeiro nome da pessoa. E da coluna idade, transformar os anos em meses."
   ]
  },
  {
   "cell_type": "code",
   "execution_count": null,
   "id": "de445ab6",
   "metadata": {
    "ExecuteTime": {
     "end_time": "2022-10-20T21:27:35.323393Z",
     "start_time": "2022-10-20T21:27:35.323384Z"
    },
    "hidden": true
   },
   "outputs": [],
   "source": [
    "# DataFrame importado sem alterações\n",
    "df1 = pd.read_csv(filepath_or_buffer='base-de-dados/teste1.csv')\n",
    "display(df1)\n",
    "\n",
    "\n",
    "# DataFrame importado com alterações\n",
    "df2 = pd.read_csv(\n",
    "\n",
    "    filepath_or_buffer='base-de-dados/teste1.csv',\n",
    "    converters={'nome': lambda x: x.split()[0],\n",
    "                'idade': lambda x: int(x)*12}\n",
    ")\n",
    "\n",
    "display(df2)"
   ]
  },
  {
   "cell_type": "markdown",
   "id": "e366d85a",
   "metadata": {
    "hidden": true
   },
   "source": [
    " <br>"
   ]
  },
  {
   "cell_type": "markdown",
   "id": "3976a0a8",
   "metadata": {
    "hidden": true
   },
   "source": [
    "\n",
    "### <font color=purple>skiprows : list-like, int ou callable<font>"
   ]
  },
  {
   "cell_type": "markdown",
   "id": "fad77fd8",
   "metadata": {
    "hidden": true
   },
   "source": [
    "O skiprows serve para definir quais linhas desde o inicio do arquivo devem ser ignoradas na hora da importação. O skiprows pode receber 3 tipos de valores, um numero (int), uma lista de índices ou uma função. O valor padrão do parâmetro é **None**."
   ]
  },
  {
   "cell_type": "markdown",
   "id": "1517d42c",
   "metadata": {
    "hidden": true
   },
   "source": [
    "Suponha que você queira ignorar as 3 primeiras linhas do arquivo, para isso basta passar ao parâmetro o numero 3. Se você quer ignorar as **n** primeiras linhas do arquivo é só passar o numero **n** ao parâmetro. Quando essa operação é feita, a linha **n+1** se tornará o cabeçalho do dataframe. Veja um exemplo. "
   ]
  },
  {
   "cell_type": "code",
   "execution_count": null,
   "id": "1d8d7701",
   "metadata": {
    "ExecuteTime": {
     "end_time": "2022-10-20T21:27:35.323858Z",
     "start_time": "2022-10-20T21:27:35.323849Z"
    },
    "hidden": true
   },
   "outputs": [],
   "source": [
    "# dataframe original\n",
    "df = pd.read_csv('base-de-dados/teste1.csv')\n",
    "display(df)\n",
    "\n",
    "# dataframe depois de pular as linhas\n",
    "df = pd.read_csv('base-de-dados/teste1.csv', skiprows=2)\n",
    "display(df)"
   ]
  },
  {
   "cell_type": "markdown",
   "id": "1566b25e",
   "metadata": {
    "hidden": true
   },
   "source": [
    " <br>"
   ]
  },
  {
   "cell_type": "markdown",
   "id": "ab6d5917",
   "metadata": {
    "hidden": true
   },
   "source": [
    "Caso queira pular linhas específicas, você pode passar uma lista com os índices das linhas a serem ignoradas."
   ]
  },
  {
   "cell_type": "code",
   "execution_count": null,
   "id": "de1c8499",
   "metadata": {
    "ExecuteTime": {
     "end_time": "2022-10-20T21:27:35.324329Z",
     "start_time": "2022-10-20T21:27:35.324321Z"
    },
    "hidden": true
   },
   "outputs": [],
   "source": [
    "# dataframe original\n",
    "df = pd.read_csv('base-de-dados/teste1.csv')\n",
    "display(df)\n",
    "\n",
    "# dataframe depois de pular as linhas\n",
    "df = pd.read_csv('base-de-dados/teste1.csv', skiprows=[1, 3])\n",
    "display(df)"
   ]
  },
  {
   "cell_type": "markdown",
   "id": "38ee7404",
   "metadata": {
    "hidden": true
   },
   "source": [
    " <br>"
   ]
  },
  {
   "cell_type": "markdown",
   "id": "9aa1d772",
   "metadata": {
    "hidden": true
   },
   "source": [
    "Também é possivel passar uma função ao parâmetro para pular linhas específcas. Vamos passar uma função lambda que vai ignorar as linhas ímpares. Quando um linha for ímpar a função lambda retorna True indicando que essa linha deve ser ignorada caso ela seja par a função lambda retorna False indicando que esse linha não deve ser ignorada. "
   ]
  },
  {
   "cell_type": "code",
   "execution_count": null,
   "id": "5e380b82",
   "metadata": {
    "ExecuteTime": {
     "end_time": "2022-10-20T21:27:35.326079Z",
     "start_time": "2022-10-20T21:27:35.326069Z"
    },
    "hidden": true
   },
   "outputs": [],
   "source": [
    "# dataframe original\n",
    "df = pd.read_csv('base-de-dados/teste1.csv')\n",
    "display(df)\n",
    "\n",
    "# dataframe depois de pular as linhas\n",
    "df = pd.read_csv('base-de-dados/teste1.csv', skiprows=lambda n: n % 2 != 0)\n",
    "display(df)"
   ]
  },
  {
   "cell_type": "markdown",
   "id": "7e542d88",
   "metadata": {
    "hidden": true
   },
   "source": [
    " <br>"
   ]
  },
  {
   "cell_type": "markdown",
   "id": "0b7a770d",
   "metadata": {
    "hidden": true
   },
   "source": [
    "\n",
    "### <font color=purple>skipfooter : int <font>"
   ]
  },
  {
   "cell_type": "markdown",
   "id": "96927c95",
   "metadata": {
    "hidden": true
   },
   "source": [
    "Serve para definir o numero de linhas que devem ser igonaradas na parte inferior do arquivo. O valor padrão é 0. **Não suportado com engine='c'**, ou seja, quando você precisar ignorar algumas linhas da parte inferior do arquivo, terá que usar o engine python ou pyarrow. Vamos a um exemplo:"
   ]
  },
  {
   "cell_type": "code",
   "execution_count": null,
   "id": "847382df",
   "metadata": {
    "ExecuteTime": {
     "end_time": "2022-10-20T21:27:35.327674Z",
     "start_time": "2022-10-20T21:27:35.327663Z"
    },
    "hidden": true
   },
   "outputs": [],
   "source": [
    "# dataframe original\n",
    "df = pd.read_csv('base-de-dados/teste1.csv')\n",
    "display(df)\n",
    "\n",
    "# dataframe depois de pular as linhas\n",
    "df = pd.read_csv('base-de-dados/teste1.csv', engine='python', skipfooter=1)\n",
    "display(df)"
   ]
  },
  {
   "cell_type": "markdown",
   "id": "44695d87",
   "metadata": {
    "hidden": true
   },
   "source": [
    " <br>"
   ]
  },
  {
   "cell_type": "markdown",
   "id": "ac81e4a3",
   "metadata": {
    "hidden": true
   },
   "source": [
    "\n",
    "### <font color=purple>nrows : int<font>"
   ]
  },
  {
   "cell_type": "markdown",
   "id": "6738fb37",
   "metadata": {
    "hidden": true
   },
   "source": [
    "Numero de linhas do arquivo a serem lidas, o cabeçário vem incluso por padrão. Útil para ler pedaçõs de arquivos grandes. O valor padrão do parâmetro é None.\n",
    "\n",
    "Obs: Se você colocar um numero maior que o numero de linhas existente no arquivo não acontece nada, o pandas simplismente ler o arquivo todo."
   ]
  },
  {
   "cell_type": "code",
   "execution_count": null,
   "id": "1f246652",
   "metadata": {
    "ExecuteTime": {
     "end_time": "2022-10-20T21:27:35.328685Z",
     "start_time": "2022-10-20T21:27:35.328675Z"
    },
    "hidden": true
   },
   "outputs": [],
   "source": [
    "# dataframe original\n",
    "df = pd.read_csv('base-de-dados/teste1.csv')\n",
    "display(df)\n",
    "\n",
    "# dataframe depois de pular as linhas\n",
    "df = pd.read_csv('base-de-dados/teste1.csv', nrows=2)\n",
    "display(df)"
   ]
  },
  {
   "cell_type": "markdown",
   "id": "49abc80f",
   "metadata": {
    "hidden": true
   },
   "source": [
    " <br>"
   ]
  },
  {
   "cell_type": "markdown",
   "id": "5a320c26",
   "metadata": {
    "hidden": true
   },
   "source": [
    "\n",
    "### <font color=purple>na_values : scalar, str, list-like ou dict<font>"
   ]
  },
  {
   "cell_type": "markdown",
   "id": "465cc346",
   "metadata": {
    "hidden": true
   },
   "source": [
    "\n",
    "Por padrão, os seguintes valores são interpretados como nulo: \n",
    "\n",
    "**'NaN'** ﾠﾠ**'n /a'**ﾠﾠﾠ**'nan'**ﾠﾠﾠ**'null'**<br>\n",
    "\n",
    "**''**ﾠﾠﾠﾠ**'#N/A'**ﾠﾠ**'#N/AN/A'**ﾠﾠ**'#NA'**<br>\n",
    "\n",
    "**'-1.#IND'**ﾠﾠ**'-1.#QNAN'**ﾠﾠﾠ**'-NaN'**\n",
    "\n",
    "**'-nan'**ﾠﾠﾠ**'1.#IND'**ﾠﾠﾠﾠ**'1.#QNAN'**\n",
    "\n",
    "**'N/A'**ﾠﾠﾠﾠ**'NA'**ﾠﾠﾠﾠﾠﾠ**'NULL'**\n",
    "\n",
    "<br>\n",
    "\n",
    "Com o parâmetro na_values você pode definir outros valores para serem considerado como nulos no momento da importação do arquivo. "
   ]
  },
  {
   "cell_type": "markdown",
   "id": "26f9580c",
   "metadata": {
    "hidden": true
   },
   "source": [
    "É possivel passar como valor para ao parâmetro um dicionário, aonde a chave do dicionário deve ser o nome da coluna e o valor da chave deve ser os valores que deverão ser considerados nulos, pode ser uma str ou uma lista de str."
   ]
  },
  {
   "cell_type": "code",
   "execution_count": null,
   "id": "3451e1d5",
   "metadata": {
    "ExecuteTime": {
     "end_time": "2022-10-20T21:27:35.329540Z",
     "start_time": "2022-10-20T21:27:35.329529Z"
    },
    "hidden": true
   },
   "outputs": [],
   "source": [
    "df = pd.read_csv(\n",
    "\n",
    "    filepath_or_buffer='base-de-dados/teste1.csv',\n",
    "    na_values={'idade': '18',\n",
    "               'comida favorita': ['pizza', 'sorvete']}\n",
    ")\n",
    "\n",
    "df"
   ]
  },
  {
   "cell_type": "markdown",
   "id": "334f0570",
   "metadata": {
    "hidden": true
   },
   "source": [
    " <br>"
   ]
  },
  {
   "cell_type": "markdown",
   "id": "8b07e4d0",
   "metadata": {
    "hidden": true
   },
   "source": [
    "Também é possivel definir quais valores devem ser considerados nulos sem filtrar pela coluna, ou seja, não importa a coluna que o valor estiver ele será considerado como nulo. Basta passar ao parâmetro uma str ou uma lista de str, com os valores que deverão ser considerados nulos. "
   ]
  },
  {
   "cell_type": "code",
   "execution_count": null,
   "id": "78468baf",
   "metadata": {
    "ExecuteTime": {
     "end_time": "2022-10-20T21:27:35.330994Z",
     "start_time": "2022-10-20T21:27:35.330984Z"
    },
    "hidden": true
   },
   "outputs": [],
   "source": [
    "df = pd.read_csv(\n",
    "\n",
    "    filepath_or_buffer='base-de-dados/teste1.csv',\n",
    "    na_values=['18', 'sorvete']\n",
    ")\n",
    "\n",
    "df"
   ]
  },
  {
   "cell_type": "markdown",
   "id": "9352bbe1",
   "metadata": {
    "hidden": true
   },
   "source": [
    " <br>"
   ]
  },
  {
   "cell_type": "markdown",
   "id": "01de6921",
   "metadata": {
    "hidden": true
   },
   "source": [
    "\n",
    "### <font color=purple>skip_blank_lines : bool, padrão True<font>"
   ]
  },
  {
   "cell_type": "markdown",
   "id": "ba610546",
   "metadata": {
    "hidden": true
   },
   "source": [
    "Se o valor passado ao parâmetro for True, as linhas em branco serão puldas em vez de interpretadas como valores NaN."
   ]
  },
  {
   "cell_type": "code",
   "execution_count": null,
   "id": "92feceeb",
   "metadata": {
    "ExecuteTime": {
     "end_time": "2022-10-20T21:27:35.332110Z",
     "start_time": "2022-10-20T21:27:35.332100Z"
    },
    "hidden": true
   },
   "outputs": [],
   "source": [
    "# sem desconsiderar as linhas brancas\n",
    "df = pd.read_csv(\n",
    "\n",
    "    filepath_or_buffer='base-de-dados/teste4.csv',\n",
    "    skip_blank_lines=False\n",
    ")\n",
    "\n",
    "df"
   ]
  },
  {
   "cell_type": "markdown",
   "id": "1466bb38",
   "metadata": {
    "hidden": true
   },
   "source": [
    " "
   ]
  },
  {
   "cell_type": "code",
   "execution_count": null,
   "id": "c0c46afc",
   "metadata": {
    "ExecuteTime": {
     "end_time": "2022-10-20T21:27:35.332891Z",
     "start_time": "2022-10-20T21:27:35.332878Z"
    },
    "hidden": true
   },
   "outputs": [],
   "source": [
    "# desconsiderando as linhas brancas\n",
    "df = pd.read_csv(\n",
    "\n",
    "    filepath_or_buffer='base-de-dados/teste4.csv',\n",
    "    skip_blank_lines=True\n",
    ")\n",
    "\n",
    "df"
   ]
  },
  {
   "cell_type": "markdown",
   "id": "b054da7b",
   "metadata": {
    "hidden": true
   },
   "source": [
    " <br>"
   ]
  },
  {
   "cell_type": "markdown",
   "id": "fce7e213",
   "metadata": {
    "hidden": true
   },
   "source": [
    "\n",
    "## Dicas\n",
    "\n",
    "- Antes de carregar o arquivo CSV em um quadro de dados do pandas, sempre dê uma olhada no arquivo. Ele o ajudará a estimar quais colunas você deve importar e determinar quais tipos de dados suas colunas devem ter.\n",
    "\n",
    "\n",
    "- Você também deve procurar a contagem total de linhas do conjunto de dados. Um sistema com 4 GB de RAM pode não consegue carregar 7 a 8 milhões de linhas."
   ]
  },
  {
   "cell_type": "markdown",
   "id": "f02b008f",
   "metadata": {
    "hidden": true
   },
   "source": [
    " <br>"
   ]
  },
  {
   "cell_type": "markdown",
   "id": "3be4cf4e",
   "metadata": {
    "heading_collapsed": true
   },
   "source": [
    "## 👾 <font size=5>Visualisando um dataframe<font>"
   ]
  },
  {
   "cell_type": "markdown",
   "id": "9b72ab45",
   "metadata": {
    "hidden": true
   },
   "source": [
    "Neste tópico iremos aprender algumas formas de visualisar um dataframe. A baixo segue alguns métodos que iremos estudar."
   ]
  },
  {
   "cell_type": "markdown",
   "id": "c3864d53",
   "metadata": {
    "hidden": true
   },
   "source": [
    "- print(df)\n",
    "- display(df)\n",
    "- DataFrame.head( )\n",
    "- DataFrame.tail( )"
   ]
  },
  {
   "cell_type": "markdown",
   "id": "e5188289",
   "metadata": {
    "hidden": true
   },
   "source": [
    "### 🐥 print( )"
   ]
  },
  {
   "cell_type": "markdown",
   "id": "22813fa8",
   "metadata": {
    "hidden": true
   },
   "source": [
    "Uma das maneiras mais simples de ver um dataframe. Por ser tão simples não é reconmendável ustilizá-lo, estou apresentando ele apenas para dizer que é possivel."
   ]
  },
  {
   "cell_type": "code",
   "execution_count": null,
   "id": "5b4fd484",
   "metadata": {
    "ExecuteTime": {
     "end_time": "2022-10-20T21:27:35.333740Z",
     "start_time": "2022-10-20T21:27:35.333730Z"
    },
    "hidden": true
   },
   "outputs": [],
   "source": [
    "df = pd.read_csv(filepath_or_buffer='base-de-dados/teste1.csv')\n",
    "\n",
    "print(df)  # Apenas coloque o nome do dataframe dentro da função"
   ]
  },
  {
   "cell_type": "markdown",
   "id": "6ea807ab",
   "metadata": {
    "hidden": true
   },
   "source": [
    " <br>"
   ]
  },
  {
   "cell_type": "markdown",
   "id": "5fed1334",
   "metadata": {
    "hidden": true
   },
   "source": [
    "### 🐥 display( )"
   ]
  },
  {
   "cell_type": "markdown",
   "id": "f0dc17b9",
   "metadata": {
    "ExecuteTime": {
     "end_time": "2022-10-13T22:12:23.578382Z",
     "start_time": "2022-10-13T22:12:23.571922Z"
    },
    "hidden": true
   },
   "source": [
    "A função display pode-se dizer que é um print( ) melhorado. Essa função mostra o dataframe em um formato de tabela beem agrádavel."
   ]
  },
  {
   "cell_type": "code",
   "execution_count": null,
   "id": "8d948800",
   "metadata": {
    "ExecuteTime": {
     "end_time": "2022-10-20T21:27:35.334543Z",
     "start_time": "2022-10-20T21:27:35.334534Z"
    },
    "hidden": true
   },
   "outputs": [],
   "source": [
    "df = pd.read_csv(filepath_or_buffer='base-de-dados/teste1.csv')\n",
    "\n",
    "display(df)"
   ]
  },
  {
   "cell_type": "markdown",
   "id": "df5048e7",
   "metadata": {
    "hidden": true
   },
   "source": [
    " <br>"
   ]
  },
  {
   "cell_type": "markdown",
   "id": "521bf45b",
   "metadata": {
    "hidden": true
   },
   "source": [
    "### 🐥 DataFrame.head( )"
   ]
  },
  {
   "cell_type": "markdown",
   "id": "f5d6b4e3",
   "metadata": {
    "hidden": true
   },
   "source": [
    "O metodo head( ) serve para visualizas as n primeiras linhas de um dataframe."
   ]
  },
  {
   "cell_type": "markdown",
   "id": "dda026b5",
   "metadata": {
    "hidden": true
   },
   "source": [
    "\n",
    "### Parametros"
   ]
  },
  {
   "cell_type": "markdown",
   "id": "0ffa93df",
   "metadata": {
    "hidden": true
   },
   "source": [
    "Esse método recebe apenas 1 parâmetro, veja."
   ]
  },
  {
   "cell_type": "markdown",
   "id": "9895b105",
   "metadata": {
    "hidden": true
   },
   "source": [
    "\n",
    "### n : int"
   ]
  },
  {
   "cell_type": "markdown",
   "id": "5c16d1cf",
   "metadata": {
    "hidden": true
   },
   "source": [
    "Esse parâmetro serve para definir a quantidade de linhas que você deseja visualisar. Veja o exemplo abaixo."
   ]
  },
  {
   "cell_type": "code",
   "execution_count": null,
   "id": "be6c51cb",
   "metadata": {
    "ExecuteTime": {
     "end_time": "2022-10-20T21:27:35.335392Z",
     "start_time": "2022-10-20T21:27:35.335382Z"
    },
    "hidden": true
   },
   "outputs": [],
   "source": [
    "df = pd.read_csv(filepath_or_buffer='base-de-dados/teste1.csv')\n",
    "\n",
    "# todo o dataframe\n",
    "display(df)\n",
    "\n",
    "# apenas as 2 primeiras linhas\n",
    "display(df.head(n=2))"
   ]
  },
  {
   "cell_type": "markdown",
   "id": "b6b400e7",
   "metadata": {
    "hidden": true
   },
   "source": [
    " <br>"
   ]
  },
  {
   "cell_type": "markdown",
   "id": "3fd81c20",
   "metadata": {
    "heading_collapsed": true,
    "hidden": true
   },
   "source": [
    "### 🐥 DataFrame.tail( )"
   ]
  },
  {
   "cell_type": "markdown",
   "id": "99cd5a06",
   "metadata": {
    "hidden": true
   },
   "source": [
    "Esse parâmetro é o contrário do head(), basicamente ele serve para ver as ultimas n linhas de um dataframe."
   ]
  },
  {
   "cell_type": "markdown",
   "id": "076b3758",
   "metadata": {
    "hidden": true
   },
   "source": [
    "\n",
    "### Parametros"
   ]
  },
  {
   "cell_type": "markdown",
   "id": "b1633798",
   "metadata": {
    "hidden": true
   },
   "source": [
    "Esse método recebe apenas 1 parâmetro, veja."
   ]
  },
  {
   "cell_type": "markdown",
   "id": "d1c08f5d",
   "metadata": {
    "hidden": true
   },
   "source": [
    "\n",
    "### n : int"
   ]
  },
  {
   "cell_type": "markdown",
   "id": "ee25d339",
   "metadata": {
    "hidden": true
   },
   "source": [
    "Esse parâmetro serve para definir a quantidade de linhas que você deseja visualisar. Veja o exemplo abaixo."
   ]
  },
  {
   "cell_type": "code",
   "execution_count": null,
   "id": "8845bf95",
   "metadata": {
    "ExecuteTime": {
     "end_time": "2022-10-20T21:27:35.336371Z",
     "start_time": "2022-10-20T21:27:35.336361Z"
    },
    "hidden": true
   },
   "outputs": [],
   "source": [
    "df = pd.read_csv(filepath_or_buffer='base-de-dados/teste1.csv')\n",
    "\n",
    "# todo o dataframe\n",
    "display(df)\n",
    "\n",
    "# apenas as 2 ultimas linhas\n",
    "display(df.tail(n=2))"
   ]
  },
  {
   "cell_type": "markdown",
   "id": "fbf21d91",
   "metadata": {
    "hidden": true
   },
   "source": [
    " <br>"
   ]
  },
  {
   "cell_type": "markdown",
   "id": "aab4fd6f",
   "metadata": {
    "heading_collapsed": true
   },
   "source": [
    "## 👾 <font size=5>Indexação utilizando métodos<font>"
   ]
  },
  {
   "cell_type": "markdown",
   "id": "f894cee5",
   "metadata": {
    "hidden": true
   },
   "source": [
    "Utilizando loc e iloc:\n",
    "\n",
    "- Selecionar linha (s)\n",
    "- Selecionar coluna (s)\n",
    "- Selecionar linha (s) e selecionar coluna (s) específica (s)\n",
    "- Selecionar 1 valor em especifico\n",
    "- Selecionar dados com base em seu tipo usando o .select_dtype()\n"
   ]
  },
  {
   "cell_type": "markdown",
   "id": "917d0c13",
   "metadata": {
    "heading_collapsed": true
   },
   "source": [
    "## 👾 <font size=5>Indexação booleana<font>"
   ]
  },
  {
   "cell_type": "markdown",
   "id": "6aafeb9c",
   "metadata": {
    "hidden": true
   },
   "source": [
    "- Selecionar linha (s) usando condições"
   ]
  },
  {
   "cell_type": "markdown",
   "id": "3d8e507e",
   "metadata": {
    "heading_collapsed": true
   },
   "source": [
    "## 👾 <font size=5>Dados ausentes<font>"
   ]
  },
  {
   "cell_type": "markdown",
   "id": "df60b708",
   "metadata": {
    "hidden": true
   },
   "source": [
    "Como já estudamos lá atrás a importância de saber trabalhar com dados ausentes e o processo de tipagem das Series que possuem dados ausentes, não precisamos passar por todo esse processo novamente. Nesse tópico apenas iremos aprender como os métodos para trabalhar com dados ausentes funcionam em um DataFrame. "
   ]
  },
  {
   "cell_type": "markdown",
   "id": "f75f4f2a",
   "metadata": {
    "heading_collapsed": true,
    "hidden": true
   },
   "source": [
    "###  🐥 <font size=4>Método astype<font>"
   ]
  },
  {
   "cell_type": "markdown",
   "id": "c4de0c77",
   "metadata": {
    "hidden": true
   },
   "source": [
    "Como sabemos, é muito importante que cada elemento da coluna do nosso DataFrame possua o mesmo tipo de dado. Para que a coluna seja homogênea e assim podermor fazer muitas operações e com muita performance. Pois estaremos no nivel numpy de processamento.\n",
    "\n",
    "Já quando o tipo da coluna do DataFrame é **object** significa que as operações que serão feitas com essa coluna serão bem limitadas e com pouca eficiência, pois o numpy não estará mais em ação, mas sim o python.\n",
    "\n",
    "O método **astype** nos permite definir o tipo de cada coluna do DataFrame. Bom é isso o que queremos, cada coluna com um tipo especifico e que esse tipo não seja object. Abaixo veja os parâmetros que esse método recebe."
   ]
  },
  {
   "cell_type": "markdown",
   "id": "42d596c5",
   "metadata": {
    "hidden": true
   },
   "source": [
    "\n",
    "### <font color=purple>_.astype (_<font>\n",
    "\n",
    "**dtype**<br> \n",
    "**copy**   =  True<br>\n",
    "**erros**  =  'raise'<br>\n",
    "\n",
    "### <font color=purple>_)_<font>\n",
    "<br>"
   ]
  },
  {
   "cell_type": "markdown",
   "id": "9febae3c",
   "metadata": {
    "hidden": true
   },
   "source": [
    "\n",
    "### <font color=purple>dtype : str ou dict<font>"
   ]
  },
  {
   "cell_type": "markdown",
   "id": "5d7fabac",
   "metadata": {
    "hidden": true
   },
   "source": [
    "O parâmetro dtype é utilizado para espeficicar o tipo de dado que você quer forçar em determinada Series ou Dataframe. Podemos passar ao parâmetro dtype um tipo de dado para ser forçado em um Series e também num DataFrame por completo, ou seja, todas as colunas do DataFrame."
   ]
  },
  {
   "cell_type": "code",
   "execution_count": 134,
   "id": "68f35151",
   "metadata": {
    "ExecuteTime": {
     "end_time": "2022-11-07T22:20:08.233929Z",
     "start_time": "2022-11-07T22:20:08.217396Z"
    },
    "hidden": true
   },
   "outputs": [
    {
     "name": "stdout",
     "output_type": "stream",
     "text": [
      "**DataFrame**\n",
      "Nome      string\n",
      "Idade     string\n",
      "Altura    string\n",
      "dtype: object \n",
      "\n",
      "**Series**\n",
      "string\n"
     ]
    }
   ],
   "source": [
    "df = pd.DataFrame({'Nome':['Huan', 'Luigi', 'Lucas', np.nan, 'Ana'],\n",
    "                   'Idade':[np.nan, 19, 18, 16, np.nan],\n",
    "                   'Altura':[1.8, 1.78, np.nan, 1.83, 1.75]})\n",
    "s = pd.Series(['Huan', 'Luigi', 'Lucas', np.nan, 'Ana'])\n",
    "\n",
    "\n",
    "# Mudando o tipo de todas as colunas do df\n",
    "df = df.astype(dtype='string') \n",
    "\n",
    "# Mudando o tipo da Series\n",
    "s = s.astype(dtype='string')\n",
    "\n",
    "\n",
    "#######################################################################\n",
    "# Note que é necessário sobreescrever o DataFrame e a Series anterior #\n",
    "#######################################################################\n",
    "\n",
    "\n",
    "# Depois da mudança de tipo\n",
    "print('**DataFrame**')\n",
    "print(df.dtypes, '\\n')\n",
    "\n",
    "print('**Series**')\n",
    "print(s.dtype)"
   ]
  },
  {
   "cell_type": "markdown",
   "id": "331f8b57",
   "metadata": {
    "hidden": true
   },
   "source": [
    " <br>"
   ]
  },
  {
   "cell_type": "markdown",
   "id": "2dce3c80",
   "metadata": {
    "hidden": true
   },
   "source": [
    "O método **astype** aplicado em um DataFrame nos permite passar um dicinionário ao parâmetro **dtype**, onde cada chave do dicionário corresponde ao nome de uma coluna do DataFrame e o valor de cada chave corresponde ao tipo de dado que deve ser forçado na coluna em específico."
   ]
  },
  {
   "cell_type": "code",
   "execution_count": 119,
   "id": "1004a8c7",
   "metadata": {
    "ExecuteTime": {
     "end_time": "2022-11-07T21:49:09.613980Z",
     "start_time": "2022-11-07T21:49:09.597338Z"
    },
    "hidden": true,
    "scrolled": true
   },
   "outputs": [
    {
     "data": {
      "text/plain": [
       "Nome       string\n",
       "Idade       Int64\n",
       "Altura    Float64\n",
       "dtype: object"
      ]
     },
     "execution_count": 119,
     "metadata": {},
     "output_type": "execute_result"
    }
   ],
   "source": [
    "df = pd.DataFrame(\n",
    "    data={'Nome'   : ['Huan', 'Luigi', 'Lucas', np.nan, 'Ana'],\n",
    "          'Idade'  : [np.nan, 19, 18, 16, np.nan],\n",
    "          'Altura' : [1.8, 1.78, np.nan, 1.83, 1.75]}\n",
    ")\n",
    "\n",
    "\n",
    "# Modificando o tipo de cada coluna do df\n",
    "df = df.astype(\n",
    "    dtype={'Nome'   : 'string',\n",
    "           'Idade'  : 'Int64' ,\n",
    "           'Altura' : 'Float64'}\n",
    ")\n",
    "\n",
    "# Tipo de cada coluna após a mudança\n",
    "df.dtypes"
   ]
  },
  {
   "cell_type": "markdown",
   "id": "f00e08a3",
   "metadata": {
    "hidden": true
   },
   "source": [
    " <br>"
   ]
  },
  {
   "cell_type": "markdown",
   "id": "f0250004",
   "metadata": {
    "hidden": true
   },
   "source": [
    "\n",
    "### <font color=purple>copy : bool<font>"
   ]
  },
  {
   "cell_type": "markdown",
   "id": "b49ed662",
   "metadata": {
    "hidden": true
   },
   "source": [
    "O parâmetro copy serve para definir se o retorno do parâmetro será uma copia profunda ou rasa do DataFrame original. Quando copy igual a **True** (o padrão) uma cópia profunda do DataFrame original será retornado. Quando copy igual a **False** uma cópia rasa será retornado."
   ]
  },
  {
   "cell_type": "markdown",
   "id": "7b721de6",
   "metadata": {
    "hidden": true
   },
   "source": [
    " \n"
   ]
  },
  {
   "cell_type": "markdown",
   "id": "2ee1d1fc",
   "metadata": {
    "hidden": true
   },
   "source": [
    "\n",
    "### <font color=purple>errors : {‘raise’, ‘ignore’}, default ‘raise’<font>"
   ]
  },
  {
   "cell_type": "markdown",
   "id": "7ba00911",
   "metadata": {
    "hidden": true
   },
   "source": [
    "Ao defini-lo como **' raise '**, permitimos que as exceções sejam levantadas pela função. Caso contrário, podemos configurá-lo para **' ignorar '**."
   ]
  },
  {
   "cell_type": "code",
   "execution_count": 2,
   "id": "705b09c2",
   "metadata": {
    "ExecuteTime": {
     "end_time": "2022-11-15T13:22:25.809237Z",
     "start_time": "2022-11-15T13:22:25.805434Z"
    },
    "hidden": true
   },
   "outputs": [],
   "source": [
    "s = pd.Series(['Huan', 'Luigi', 'Lucas', np.nan, 'Ana'])\n",
    "\n",
    "# errors = 'ignore' \n",
    "# significa que qualquer execeção é ignorada e o objeto original é retornado.\n",
    "s = s.astype(dtype='Int64', errors='ignore')"
   ]
  },
  {
   "cell_type": "markdown",
   "id": "0713bb62",
   "metadata": {
    "hidden": true
   },
   "source": [
    "<br>"
   ]
  },
  {
   "cell_type": "markdown",
   "id": "03bd7d62",
   "metadata": {
    "heading_collapsed": true,
    "hidden": true
   },
   "source": [
    "### 🐥 <font size=4>Método to_numeric<font>"
   ]
  },
  {
   "cell_type": "markdown",
   "id": "f7ffa391",
   "metadata": {
    "hidden": true
   },
   "source": []
  },
  {
   "cell_type": "markdown",
   "id": "60a8ee29",
   "metadata": {
    "hidden": true
   },
   "source": []
  },
  {
   "cell_type": "markdown",
   "id": "e5cd2fcd",
   "metadata": {
    "hidden": true
   },
   "source": []
  },
  {
   "cell_type": "markdown",
   "id": "a7ce0fe4",
   "metadata": {
    "heading_collapsed": true,
    "hidden": true
   },
   "source": [
    "###  🐥 <font size=4>Encontrando valores nulos ou não nulos<font>"
   ]
  },
  {
   "cell_type": "markdown",
   "id": "bb133cc2",
   "metadata": {
    "hidden": true
   },
   "source": [
    "Os método **isna** e **isnull** nos indicam quando temos um dado ausente dentro do nosso DataFrame. Esses métodos retornam um Dataframe de tipo booleano que foi espelhado no DataFrame original. Ou seja, onde aparecer **True** significa que naquela posição do DataFrame se encontra um dado ausente e onde aparecer **False** significa o contrário. "
   ]
  },
  {
   "cell_type": "markdown",
   "id": "8334a3fe",
   "metadata": {
    "hidden": true
   },
   "source": [
    " "
   ]
  },
  {
   "cell_type": "code",
   "execution_count": 3,
   "id": "4676205a",
   "metadata": {
    "ExecuteTime": {
     "end_time": "2022-11-15T13:23:10.223105Z",
     "start_time": "2022-11-15T13:23:10.208760Z"
    },
    "hidden": true
   },
   "outputs": [],
   "source": [
    "# Criando o df\n",
    "df = pd.DataFrame({'Nome':['Huan', 'Luigi', 'Lucas', np.nan, 'Ana'],\n",
    "                   'Idade':[np.nan, 19, 18, 16, np.nan],\n",
    "                   'Altura':[1.8, 1.78, np.nan, 1.83, 1.75]})\n",
    "\n",
    "# Alterando o tipo de cada coluna\n",
    "df = df.astype(\n",
    "    dtype={\n",
    "        'Nome':'string',\n",
    "        'Idade': 'Int64',\n",
    "        'Altura': 'Float64'\n",
    "    },\n",
    "    \n",
    "    copy=True\n",
    ")"
   ]
  },
  {
   "cell_type": "markdown",
   "id": "1a0e21ca",
   "metadata": {
    "hidden": true
   },
   "source": [
    " "
   ]
  },
  {
   "cell_type": "code",
   "execution_count": 4,
   "id": "b343bc73",
   "metadata": {
    "ExecuteTime": {
     "end_time": "2022-11-15T13:23:13.152534Z",
     "start_time": "2022-11-15T13:23:13.112915Z"
    },
    "hidden": true
   },
   "outputs": [
    {
     "data": {
      "text/html": [
       "<div>\n",
       "<style scoped>\n",
       "    .dataframe tbody tr th:only-of-type {\n",
       "        vertical-align: middle;\n",
       "    }\n",
       "\n",
       "    .dataframe tbody tr th {\n",
       "        vertical-align: top;\n",
       "    }\n",
       "\n",
       "    .dataframe thead th {\n",
       "        text-align: right;\n",
       "    }\n",
       "</style>\n",
       "<table border=\"1\" class=\"dataframe\">\n",
       "  <thead>\n",
       "    <tr style=\"text-align: right;\">\n",
       "      <th></th>\n",
       "      <th>Nome</th>\n",
       "      <th>Idade</th>\n",
       "      <th>Altura</th>\n",
       "    </tr>\n",
       "  </thead>\n",
       "  <tbody>\n",
       "    <tr>\n",
       "      <th>0</th>\n",
       "      <td>False</td>\n",
       "      <td>True</td>\n",
       "      <td>False</td>\n",
       "    </tr>\n",
       "    <tr>\n",
       "      <th>1</th>\n",
       "      <td>False</td>\n",
       "      <td>False</td>\n",
       "      <td>False</td>\n",
       "    </tr>\n",
       "    <tr>\n",
       "      <th>2</th>\n",
       "      <td>False</td>\n",
       "      <td>False</td>\n",
       "      <td>True</td>\n",
       "    </tr>\n",
       "    <tr>\n",
       "      <th>3</th>\n",
       "      <td>True</td>\n",
       "      <td>False</td>\n",
       "      <td>False</td>\n",
       "    </tr>\n",
       "    <tr>\n",
       "      <th>4</th>\n",
       "      <td>False</td>\n",
       "      <td>True</td>\n",
       "      <td>False</td>\n",
       "    </tr>\n",
       "  </tbody>\n",
       "</table>\n",
       "</div>"
      ],
      "text/plain": [
       "    Nome  Idade  Altura\n",
       "0  False   True   False\n",
       "1  False  False   False\n",
       "2  False  False    True\n",
       "3   True  False   False\n",
       "4  False   True   False"
      ]
     },
     "execution_count": 4,
     "metadata": {},
     "output_type": "execute_result"
    }
   ],
   "source": [
    "# Verificando dados asentes com isna\n",
    "df.isna()"
   ]
  },
  {
   "cell_type": "markdown",
   "id": "5c477483",
   "metadata": {
    "hidden": true
   },
   "source": [
    " \n",
    " "
   ]
  },
  {
   "cell_type": "code",
   "execution_count": 5,
   "id": "77809a8d",
   "metadata": {
    "ExecuteTime": {
     "end_time": "2022-11-15T13:23:15.991885Z",
     "start_time": "2022-11-15T13:23:15.974871Z"
    },
    "hidden": true,
    "scrolled": false
   },
   "outputs": [
    {
     "data": {
      "text/html": [
       "<div>\n",
       "<style scoped>\n",
       "    .dataframe tbody tr th:only-of-type {\n",
       "        vertical-align: middle;\n",
       "    }\n",
       "\n",
       "    .dataframe tbody tr th {\n",
       "        vertical-align: top;\n",
       "    }\n",
       "\n",
       "    .dataframe thead th {\n",
       "        text-align: right;\n",
       "    }\n",
       "</style>\n",
       "<table border=\"1\" class=\"dataframe\">\n",
       "  <thead>\n",
       "    <tr style=\"text-align: right;\">\n",
       "      <th></th>\n",
       "      <th>Nome</th>\n",
       "      <th>Idade</th>\n",
       "      <th>Altura</th>\n",
       "    </tr>\n",
       "  </thead>\n",
       "  <tbody>\n",
       "    <tr>\n",
       "      <th>0</th>\n",
       "      <td>False</td>\n",
       "      <td>True</td>\n",
       "      <td>False</td>\n",
       "    </tr>\n",
       "    <tr>\n",
       "      <th>1</th>\n",
       "      <td>False</td>\n",
       "      <td>False</td>\n",
       "      <td>False</td>\n",
       "    </tr>\n",
       "    <tr>\n",
       "      <th>2</th>\n",
       "      <td>False</td>\n",
       "      <td>False</td>\n",
       "      <td>True</td>\n",
       "    </tr>\n",
       "    <tr>\n",
       "      <th>3</th>\n",
       "      <td>True</td>\n",
       "      <td>False</td>\n",
       "      <td>False</td>\n",
       "    </tr>\n",
       "    <tr>\n",
       "      <th>4</th>\n",
       "      <td>False</td>\n",
       "      <td>True</td>\n",
       "      <td>False</td>\n",
       "    </tr>\n",
       "  </tbody>\n",
       "</table>\n",
       "</div>"
      ],
      "text/plain": [
       "    Nome  Idade  Altura\n",
       "0  False   True   False\n",
       "1  False  False   False\n",
       "2  False  False    True\n",
       "3   True  False   False\n",
       "4  False   True   False"
      ]
     },
     "execution_count": 5,
     "metadata": {},
     "output_type": "execute_result"
    }
   ],
   "source": [
    "# Verificando dados asentes com isna\n",
    "df.isnull()"
   ]
  },
  {
   "cell_type": "markdown",
   "id": "fae83fe3",
   "metadata": {
    "hidden": true
   },
   "source": [
    "<br>"
   ]
  },
  {
   "cell_type": "markdown",
   "id": "df8a323b",
   "metadata": {
    "hidden": true
   },
   "source": [
    "Já o método **notnull** funciona de maneira contrária, ou seja, ele serve para descobrir quais valores não são nulos. Então quando for **True** significa que naquela posição se encontra um valor não nulo e quando for **False** significa o contrário."
   ]
  },
  {
   "cell_type": "code",
   "execution_count": 9,
   "id": "315f7f07",
   "metadata": {
    "ExecuteTime": {
     "end_time": "2022-11-15T13:46:20.847028Z",
     "start_time": "2022-11-15T13:46:20.832366Z"
    },
    "hidden": true
   },
   "outputs": [
    {
     "data": {
      "text/html": [
       "<div>\n",
       "<style scoped>\n",
       "    .dataframe tbody tr th:only-of-type {\n",
       "        vertical-align: middle;\n",
       "    }\n",
       "\n",
       "    .dataframe tbody tr th {\n",
       "        vertical-align: top;\n",
       "    }\n",
       "\n",
       "    .dataframe thead th {\n",
       "        text-align: right;\n",
       "    }\n",
       "</style>\n",
       "<table border=\"1\" class=\"dataframe\">\n",
       "  <thead>\n",
       "    <tr style=\"text-align: right;\">\n",
       "      <th></th>\n",
       "      <th>Nome</th>\n",
       "      <th>Idade</th>\n",
       "      <th>Altura</th>\n",
       "    </tr>\n",
       "  </thead>\n",
       "  <tbody>\n",
       "    <tr>\n",
       "      <th>0</th>\n",
       "      <td>True</td>\n",
       "      <td>False</td>\n",
       "      <td>True</td>\n",
       "    </tr>\n",
       "    <tr>\n",
       "      <th>1</th>\n",
       "      <td>True</td>\n",
       "      <td>True</td>\n",
       "      <td>True</td>\n",
       "    </tr>\n",
       "    <tr>\n",
       "      <th>2</th>\n",
       "      <td>True</td>\n",
       "      <td>True</td>\n",
       "      <td>False</td>\n",
       "    </tr>\n",
       "    <tr>\n",
       "      <th>3</th>\n",
       "      <td>False</td>\n",
       "      <td>True</td>\n",
       "      <td>True</td>\n",
       "    </tr>\n",
       "    <tr>\n",
       "      <th>4</th>\n",
       "      <td>True</td>\n",
       "      <td>False</td>\n",
       "      <td>True</td>\n",
       "    </tr>\n",
       "  </tbody>\n",
       "</table>\n",
       "</div>"
      ],
      "text/plain": [
       "    Nome  Idade  Altura\n",
       "0   True  False    True\n",
       "1   True   True    True\n",
       "2   True   True   False\n",
       "3  False   True    True\n",
       "4   True  False    True"
      ]
     },
     "execution_count": 9,
     "metadata": {},
     "output_type": "execute_result"
    }
   ],
   "source": [
    "df.notnull()"
   ]
  },
  {
   "cell_type": "markdown",
   "id": "ca5baf12",
   "metadata": {
    "hidden": true
   },
   "source": [
    "<br>"
   ]
  },
  {
   "cell_type": "markdown",
   "id": "30c32d03",
   "metadata": {
    "hidden": true
   },
   "source": [
    "Os valores False e True na lógica computacional podem ser considerados como 0 e 1 respectivamente. Por isso podemos usar o método **sum** para somar quantos elementos da Series são valores vazios ou não vazios."
   ]
  },
  {
   "cell_type": "code",
   "execution_count": 16,
   "id": "53148f3b",
   "metadata": {
    "ExecuteTime": {
     "end_time": "2022-11-15T13:55:53.411841Z",
     "start_time": "2022-11-15T13:55:53.400639Z"
    },
    "hidden": true
   },
   "outputs": [
    {
     "name": "stdout",
     "output_type": "stream",
     "text": [
      "Quantidade de dados ausentes por coluna:\n",
      "Nome      1\n",
      "Idade     2\n",
      "Altura    1\n",
      "dtype: int64\n",
      "\n",
      "Quantidade de dados não ausentes por coluna:\n",
      "Nome      4\n",
      "Idade     3\n",
      "Altura    4\n",
      "dtype: int64\n",
      "\n"
     ]
    }
   ],
   "source": [
    "print(f'Quantidade de dados ausentes por coluna:\\n{df.isna().sum()}\\n')\n",
    "print(f'Quantidade de dados não ausentes por coluna:\\n{df.notnull().sum()}\\n')"
   ]
  },
  {
   "cell_type": "markdown",
   "id": "47b9f1ff",
   "metadata": {
    "hidden": true
   },
   "source": [
    " <br>"
   ]
  },
  {
   "cell_type": "markdown",
   "id": "2b307972",
   "metadata": {
    "heading_collapsed": true,
    "hidden": true
   },
   "source": [
    "###  🐥 <font size=4>Excluindo linhas ou colunas que possuam dados ausentes<font>"
   ]
  },
  {
   "cell_type": "markdown",
   "id": "17d9dc3e",
   "metadata": {
    "hidden": true
   },
   "source": [
    "A método **dropna()** do Pandas  é usado para remover linhas ou colunas com valores nulos. Por padrão, essa função retorna um novo DataFrame e o DataFrame de origem permanece inalterado. A sintaxe do método **dropna()** é:"
   ]
  },
  {
   "cell_type": "markdown",
   "id": "15ab3a2a",
   "metadata": {
    "hidden": true
   },
   "source": [
    "\n",
    "### <font color=purple>_.dropna (_<font>\n",
    "\n",
    "**axis**    =  0    <br> \n",
    "**how**     =  'Any'<br>\n",
    "**subset**  =  None <br>\n",
    "**inplace** =  False<br>\n",
    "    \n",
    "### <font color=purple>_)_<font>\n",
    "<br>"
   ]
  },
  {
   "cell_type": "markdown",
   "id": "37de7afd",
   "metadata": {
    "hidden": true
   },
   "source": [
    "\n",
    "### <font color=purple>axis : {0 or ‘index’, 1 or ‘columns’}, default 0<font>"
   ]
  },
  {
   "cell_type": "markdown",
   "id": "a213108a",
   "metadata": {
    "hidden": true
   },
   "source": [
    "Esse parâmetro serve para definir se a linha ou a coluna será excluida. 0 para linha e 1  para coluna."
   ]
  },
  {
   "cell_type": "code",
   "execution_count": 163,
   "id": "be028c22",
   "metadata": {
    "ExecuteTime": {
     "end_time": "2022-11-15T21:29:31.901265Z",
     "start_time": "2022-11-15T21:29:31.880469Z"
    },
    "hidden": true,
    "scrolled": true
   },
   "outputs": [
    {
     "data": {
      "text/html": [
       "<div>\n",
       "<style scoped>\n",
       "    .dataframe tbody tr th:only-of-type {\n",
       "        vertical-align: middle;\n",
       "    }\n",
       "\n",
       "    .dataframe tbody tr th {\n",
       "        vertical-align: top;\n",
       "    }\n",
       "\n",
       "    .dataframe thead th {\n",
       "        text-align: right;\n",
       "    }\n",
       "</style>\n",
       "<table border=\"1\" class=\"dataframe\">\n",
       "  <thead>\n",
       "    <tr style=\"text-align: right;\">\n",
       "      <th></th>\n",
       "      <th>Nome</th>\n",
       "      <th>Idade</th>\n",
       "      <th>Altura</th>\n",
       "      <th>Sex</th>\n",
       "    </tr>\n",
       "  </thead>\n",
       "  <tbody>\n",
       "    <tr>\n",
       "      <th>0</th>\n",
       "      <td>Huan</td>\n",
       "      <td>NaN</td>\n",
       "      <td>NaN</td>\n",
       "      <td>NaN</td>\n",
       "    </tr>\n",
       "    <tr>\n",
       "      <th>1</th>\n",
       "      <td>Luigi</td>\n",
       "      <td>19.0</td>\n",
       "      <td>1.78</td>\n",
       "      <td>NaN</td>\n",
       "    </tr>\n",
       "    <tr>\n",
       "      <th>2</th>\n",
       "      <td>Lucas</td>\n",
       "      <td>18.0</td>\n",
       "      <td>NaN</td>\n",
       "      <td>NaN</td>\n",
       "    </tr>\n",
       "    <tr>\n",
       "      <th>3</th>\n",
       "      <td>Marcos</td>\n",
       "      <td>16.0</td>\n",
       "      <td>1.83</td>\n",
       "      <td>NaN</td>\n",
       "    </tr>\n",
       "    <tr>\n",
       "      <th>4</th>\n",
       "      <td>Ana</td>\n",
       "      <td>NaN</td>\n",
       "      <td>1.75</td>\n",
       "      <td>NaN</td>\n",
       "    </tr>\n",
       "  </tbody>\n",
       "</table>\n",
       "</div>"
      ],
      "text/plain": [
       "     Nome  Idade  Altura  Sex\n",
       "0    Huan    NaN     NaN  NaN\n",
       "1   Luigi   19.0    1.78  NaN\n",
       "2   Lucas   18.0     NaN  NaN\n",
       "3  Marcos   16.0    1.83  NaN\n",
       "4     Ana    NaN    1.75  NaN"
      ]
     },
     "execution_count": 163,
     "metadata": {},
     "output_type": "execute_result"
    }
   ],
   "source": [
    "# Criando o  DataFrame com dados ausentes\n",
    "df = pd.DataFrame({'Nome':['Huan', 'Luigi', 'Lucas', 'Marcos', 'Ana'],\n",
    "                   'Idade':[np.nan, 19, 18, 16, np.nan],\n",
    "                   'Altura':[np.nan, 1.78, np.nan, 1.83, 1.75],\n",
    "                   'Sex': [np.nan, np.nan, np.nan, np.nan, np.nan]})\n",
    "df"
   ]
  },
  {
   "cell_type": "markdown",
   "id": "d19ab15e",
   "metadata": {
    "hidden": true
   },
   "source": [
    " "
   ]
  },
  {
   "cell_type": "code",
   "execution_count": 103,
   "id": "a21c52d5",
   "metadata": {
    "ExecuteTime": {
     "end_time": "2022-11-15T16:05:15.479972Z",
     "start_time": "2022-11-15T16:05:15.464775Z"
    },
    "hidden": true
   },
   "outputs": [
    {
     "data": {
      "text/html": [
       "<div>\n",
       "<style scoped>\n",
       "    .dataframe tbody tr th:only-of-type {\n",
       "        vertical-align: middle;\n",
       "    }\n",
       "\n",
       "    .dataframe tbody tr th {\n",
       "        vertical-align: top;\n",
       "    }\n",
       "\n",
       "    .dataframe thead th {\n",
       "        text-align: right;\n",
       "    }\n",
       "</style>\n",
       "<table border=\"1\" class=\"dataframe\">\n",
       "  <thead>\n",
       "    <tr style=\"text-align: right;\">\n",
       "      <th></th>\n",
       "      <th>Nome</th>\n",
       "      <th>Idade</th>\n",
       "      <th>Altura</th>\n",
       "      <th>Sex</th>\n",
       "    </tr>\n",
       "  </thead>\n",
       "  <tbody>\n",
       "  </tbody>\n",
       "</table>\n",
       "</div>"
      ],
      "text/plain": [
       "Empty DataFrame\n",
       "Columns: [Nome, Idade, Altura, Sex]\n",
       "Index: []"
      ]
     },
     "execution_count": 103,
     "metadata": {},
     "output_type": "execute_result"
    }
   ],
   "source": [
    "# Excluindo as linhas que possuem valores ausentes\n",
    "df.dropna(axis=0)"
   ]
  },
  {
   "cell_type": "markdown",
   "id": "f4834697",
   "metadata": {
    "hidden": true
   },
   "source": [
    " "
   ]
  },
  {
   "cell_type": "code",
   "execution_count": 104,
   "id": "07577cda",
   "metadata": {
    "ExecuteTime": {
     "end_time": "2022-11-15T16:05:17.364853Z",
     "start_time": "2022-11-15T16:05:17.349647Z"
    },
    "hidden": true
   },
   "outputs": [
    {
     "data": {
      "text/html": [
       "<div>\n",
       "<style scoped>\n",
       "    .dataframe tbody tr th:only-of-type {\n",
       "        vertical-align: middle;\n",
       "    }\n",
       "\n",
       "    .dataframe tbody tr th {\n",
       "        vertical-align: top;\n",
       "    }\n",
       "\n",
       "    .dataframe thead th {\n",
       "        text-align: right;\n",
       "    }\n",
       "</style>\n",
       "<table border=\"1\" class=\"dataframe\">\n",
       "  <thead>\n",
       "    <tr style=\"text-align: right;\">\n",
       "      <th></th>\n",
       "      <th>Nome</th>\n",
       "    </tr>\n",
       "  </thead>\n",
       "  <tbody>\n",
       "    <tr>\n",
       "      <th>0</th>\n",
       "      <td>Huan</td>\n",
       "    </tr>\n",
       "    <tr>\n",
       "      <th>1</th>\n",
       "      <td>Luigi</td>\n",
       "    </tr>\n",
       "    <tr>\n",
       "      <th>2</th>\n",
       "      <td>Lucas</td>\n",
       "    </tr>\n",
       "    <tr>\n",
       "      <th>3</th>\n",
       "      <td>Marcos</td>\n",
       "    </tr>\n",
       "    <tr>\n",
       "      <th>4</th>\n",
       "      <td>Ana</td>\n",
       "    </tr>\n",
       "  </tbody>\n",
       "</table>\n",
       "</div>"
      ],
      "text/plain": [
       "     Nome\n",
       "0    Huan\n",
       "1   Luigi\n",
       "2   Lucas\n",
       "3  Marcos\n",
       "4     Ana"
      ]
     },
     "execution_count": 104,
     "metadata": {},
     "output_type": "execute_result"
    }
   ],
   "source": [
    "# Excluindo as colunas que possuem valores ausentes\n",
    "df.dropna(axis=1)"
   ]
  },
  {
   "cell_type": "markdown",
   "id": "b1eb95b7",
   "metadata": {
    "hidden": true
   },
   "source": [
    "<br>"
   ]
  },
  {
   "cell_type": "markdown",
   "id": "b7a6dc79",
   "metadata": {
    "hidden": true
   },
   "source": [
    "\n",
    "### <font color=purple>how : {‘any’ or ‘all’}, default ‘any’<font>"
   ]
  },
  {
   "cell_type": "markdown",
   "id": "f42a79f0",
   "metadata": {
    "hidden": true
   },
   "source": [
    "O parâmetro how é mais adequado para um DataFrame. Quando o parâmetro **how** for igual a **'any'**, significa que a linha ou acoluna será excluida se possuir um ou mais valores nulos. Quando o parâmetro for igual a **'all'**, significa que a linha ou coluna será excluida apenas se for composta inteiramente por valores nulos."
   ]
  },
  {
   "cell_type": "code",
   "execution_count": 105,
   "id": "fe2e36e8",
   "metadata": {
    "ExecuteTime": {
     "end_time": "2022-11-15T16:05:22.112157Z",
     "start_time": "2022-11-15T16:05:22.098119Z"
    },
    "hidden": true,
    "scrolled": true
   },
   "outputs": [
    {
     "data": {
      "text/html": [
       "<div>\n",
       "<style scoped>\n",
       "    .dataframe tbody tr th:only-of-type {\n",
       "        vertical-align: middle;\n",
       "    }\n",
       "\n",
       "    .dataframe tbody tr th {\n",
       "        vertical-align: top;\n",
       "    }\n",
       "\n",
       "    .dataframe thead th {\n",
       "        text-align: right;\n",
       "    }\n",
       "</style>\n",
       "<table border=\"1\" class=\"dataframe\">\n",
       "  <thead>\n",
       "    <tr style=\"text-align: right;\">\n",
       "      <th></th>\n",
       "      <th>Nome</th>\n",
       "      <th>Idade</th>\n",
       "      <th>Altura</th>\n",
       "      <th>Sex</th>\n",
       "    </tr>\n",
       "  </thead>\n",
       "  <tbody>\n",
       "  </tbody>\n",
       "</table>\n",
       "</div>"
      ],
      "text/plain": [
       "Empty DataFrame\n",
       "Columns: [Nome, Idade, Altura, Sex]\n",
       "Index: []"
      ]
     },
     "execution_count": 105,
     "metadata": {},
     "output_type": "execute_result"
    }
   ],
   "source": [
    "# Excluindo as linhas que possui 1 ou mais valores vazios\n",
    "df.dropna(axis=0, how='any')"
   ]
  },
  {
   "cell_type": "markdown",
   "id": "a2dcf961",
   "metadata": {
    "hidden": true
   },
   "source": [
    " "
   ]
  },
  {
   "cell_type": "code",
   "execution_count": 106,
   "id": "7b536365",
   "metadata": {
    "ExecuteTime": {
     "end_time": "2022-11-15T16:05:24.663314Z",
     "start_time": "2022-11-15T16:05:24.649058Z"
    },
    "hidden": true,
    "scrolled": true
   },
   "outputs": [
    {
     "data": {
      "text/html": [
       "<div>\n",
       "<style scoped>\n",
       "    .dataframe tbody tr th:only-of-type {\n",
       "        vertical-align: middle;\n",
       "    }\n",
       "\n",
       "    .dataframe tbody tr th {\n",
       "        vertical-align: top;\n",
       "    }\n",
       "\n",
       "    .dataframe thead th {\n",
       "        text-align: right;\n",
       "    }\n",
       "</style>\n",
       "<table border=\"1\" class=\"dataframe\">\n",
       "  <thead>\n",
       "    <tr style=\"text-align: right;\">\n",
       "      <th></th>\n",
       "      <th>Nome</th>\n",
       "    </tr>\n",
       "  </thead>\n",
       "  <tbody>\n",
       "    <tr>\n",
       "      <th>0</th>\n",
       "      <td>Huan</td>\n",
       "    </tr>\n",
       "    <tr>\n",
       "      <th>1</th>\n",
       "      <td>Luigi</td>\n",
       "    </tr>\n",
       "    <tr>\n",
       "      <th>2</th>\n",
       "      <td>Lucas</td>\n",
       "    </tr>\n",
       "    <tr>\n",
       "      <th>3</th>\n",
       "      <td>Marcos</td>\n",
       "    </tr>\n",
       "    <tr>\n",
       "      <th>4</th>\n",
       "      <td>Ana</td>\n",
       "    </tr>\n",
       "  </tbody>\n",
       "</table>\n",
       "</div>"
      ],
      "text/plain": [
       "     Nome\n",
       "0    Huan\n",
       "1   Luigi\n",
       "2   Lucas\n",
       "3  Marcos\n",
       "4     Ana"
      ]
     },
     "execution_count": 106,
     "metadata": {},
     "output_type": "execute_result"
    }
   ],
   "source": [
    "# Excluindo as colunas que possui 1 ou mais valores vazios\n",
    "df.dropna(axis=1, how='any')"
   ]
  },
  {
   "cell_type": "markdown",
   "id": "276823df",
   "metadata": {
    "hidden": true
   },
   "source": [
    " "
   ]
  },
  {
   "cell_type": "code",
   "execution_count": 107,
   "id": "3ae98622",
   "metadata": {
    "ExecuteTime": {
     "end_time": "2022-11-15T16:06:08.191235Z",
     "start_time": "2022-11-15T16:06:08.172719Z"
    },
    "hidden": true
   },
   "outputs": [
    {
     "data": {
      "text/html": [
       "<div>\n",
       "<style scoped>\n",
       "    .dataframe tbody tr th:only-of-type {\n",
       "        vertical-align: middle;\n",
       "    }\n",
       "\n",
       "    .dataframe tbody tr th {\n",
       "        vertical-align: top;\n",
       "    }\n",
       "\n",
       "    .dataframe thead th {\n",
       "        text-align: right;\n",
       "    }\n",
       "</style>\n",
       "<table border=\"1\" class=\"dataframe\">\n",
       "  <thead>\n",
       "    <tr style=\"text-align: right;\">\n",
       "      <th></th>\n",
       "      <th>Nome</th>\n",
       "      <th>Idade</th>\n",
       "      <th>Altura</th>\n",
       "      <th>Sex</th>\n",
       "    </tr>\n",
       "  </thead>\n",
       "  <tbody>\n",
       "    <tr>\n",
       "      <th>0</th>\n",
       "      <td>Huan</td>\n",
       "      <td>NaN</td>\n",
       "      <td>NaN</td>\n",
       "      <td>NaN</td>\n",
       "    </tr>\n",
       "    <tr>\n",
       "      <th>1</th>\n",
       "      <td>Luigi</td>\n",
       "      <td>19.0</td>\n",
       "      <td>1.78</td>\n",
       "      <td>NaN</td>\n",
       "    </tr>\n",
       "    <tr>\n",
       "      <th>2</th>\n",
       "      <td>Lucas</td>\n",
       "      <td>18.0</td>\n",
       "      <td>NaN</td>\n",
       "      <td>NaN</td>\n",
       "    </tr>\n",
       "    <tr>\n",
       "      <th>3</th>\n",
       "      <td>Marcos</td>\n",
       "      <td>16.0</td>\n",
       "      <td>1.83</td>\n",
       "      <td>NaN</td>\n",
       "    </tr>\n",
       "    <tr>\n",
       "      <th>4</th>\n",
       "      <td>Ana</td>\n",
       "      <td>NaN</td>\n",
       "      <td>1.75</td>\n",
       "      <td>NaN</td>\n",
       "    </tr>\n",
       "  </tbody>\n",
       "</table>\n",
       "</div>"
      ],
      "text/plain": [
       "     Nome  Idade  Altura  Sex\n",
       "0    Huan    NaN     NaN  NaN\n",
       "1   Luigi   19.0    1.78  NaN\n",
       "2   Lucas   18.0     NaN  NaN\n",
       "3  Marcos   16.0    1.83  NaN\n",
       "4     Ana    NaN    1.75  NaN"
      ]
     },
     "execution_count": 107,
     "metadata": {},
     "output_type": "execute_result"
    }
   ],
   "source": [
    "# Excluindo as linhas que possui todos os valores vazios\n",
    "df.dropna(axis=0, how='all')"
   ]
  },
  {
   "cell_type": "markdown",
   "id": "c115c651",
   "metadata": {
    "hidden": true
   },
   "source": [
    " "
   ]
  },
  {
   "cell_type": "code",
   "execution_count": 108,
   "id": "2f3561b3",
   "metadata": {
    "ExecuteTime": {
     "end_time": "2022-11-15T16:06:10.205701Z",
     "start_time": "2022-11-15T16:06:10.186856Z"
    },
    "hidden": true,
    "scrolled": true
   },
   "outputs": [
    {
     "data": {
      "text/html": [
       "<div>\n",
       "<style scoped>\n",
       "    .dataframe tbody tr th:only-of-type {\n",
       "        vertical-align: middle;\n",
       "    }\n",
       "\n",
       "    .dataframe tbody tr th {\n",
       "        vertical-align: top;\n",
       "    }\n",
       "\n",
       "    .dataframe thead th {\n",
       "        text-align: right;\n",
       "    }\n",
       "</style>\n",
       "<table border=\"1\" class=\"dataframe\">\n",
       "  <thead>\n",
       "    <tr style=\"text-align: right;\">\n",
       "      <th></th>\n",
       "      <th>Nome</th>\n",
       "      <th>Idade</th>\n",
       "      <th>Altura</th>\n",
       "    </tr>\n",
       "  </thead>\n",
       "  <tbody>\n",
       "    <tr>\n",
       "      <th>0</th>\n",
       "      <td>Huan</td>\n",
       "      <td>NaN</td>\n",
       "      <td>NaN</td>\n",
       "    </tr>\n",
       "    <tr>\n",
       "      <th>1</th>\n",
       "      <td>Luigi</td>\n",
       "      <td>19.0</td>\n",
       "      <td>1.78</td>\n",
       "    </tr>\n",
       "    <tr>\n",
       "      <th>2</th>\n",
       "      <td>Lucas</td>\n",
       "      <td>18.0</td>\n",
       "      <td>NaN</td>\n",
       "    </tr>\n",
       "    <tr>\n",
       "      <th>3</th>\n",
       "      <td>Marcos</td>\n",
       "      <td>16.0</td>\n",
       "      <td>1.83</td>\n",
       "    </tr>\n",
       "    <tr>\n",
       "      <th>4</th>\n",
       "      <td>Ana</td>\n",
       "      <td>NaN</td>\n",
       "      <td>1.75</td>\n",
       "    </tr>\n",
       "  </tbody>\n",
       "</table>\n",
       "</div>"
      ],
      "text/plain": [
       "     Nome  Idade  Altura\n",
       "0    Huan    NaN     NaN\n",
       "1   Luigi   19.0    1.78\n",
       "2   Lucas   18.0     NaN\n",
       "3  Marcos   16.0    1.83\n",
       "4     Ana    NaN    1.75"
      ]
     },
     "execution_count": 108,
     "metadata": {},
     "output_type": "execute_result"
    }
   ],
   "source": [
    "# Excluindo as colunas que possui todos os valores vazios\n",
    "df.dropna(axis=1, how='all')"
   ]
  },
  {
   "cell_type": "markdown",
   "id": "10df743e",
   "metadata": {
    "hidden": true
   },
   "source": [
    " <br>"
   ]
  },
  {
   "cell_type": "markdown",
   "id": "5a7cf33b",
   "metadata": {
    "hidden": true
   },
   "source": [
    "\n",
    "### <font color=purple>subset  : column label or sequence of labels, optional<font>"
   ]
  },
  {
   "cell_type": "markdown",
   "id": "7f0b6d23",
   "metadata": {
    "hidden": true
   },
   "source": [
    "O parâmetro **subset** serve para:\n",
    "\n",
    "- excluir linhas com base em uma coluna específica ou mais de uma coluna. \n",
    "- excluir colunas com base em uma linha específica ou mais de uma linha."
   ]
  },
  {
   "cell_type": "code",
   "execution_count": 131,
   "id": "31108fb1",
   "metadata": {
    "ExecuteTime": {
     "end_time": "2022-11-15T16:21:29.275783Z",
     "start_time": "2022-11-15T16:21:29.260520Z"
    },
    "hidden": true,
    "scrolled": true
   },
   "outputs": [
    {
     "data": {
      "text/html": [
       "<div>\n",
       "<style scoped>\n",
       "    .dataframe tbody tr th:only-of-type {\n",
       "        vertical-align: middle;\n",
       "    }\n",
       "\n",
       "    .dataframe tbody tr th {\n",
       "        vertical-align: top;\n",
       "    }\n",
       "\n",
       "    .dataframe thead th {\n",
       "        text-align: right;\n",
       "    }\n",
       "</style>\n",
       "<table border=\"1\" class=\"dataframe\">\n",
       "  <thead>\n",
       "    <tr style=\"text-align: right;\">\n",
       "      <th></th>\n",
       "      <th>Nome</th>\n",
       "      <th>Idade</th>\n",
       "      <th>Altura</th>\n",
       "      <th>Sex</th>\n",
       "    </tr>\n",
       "  </thead>\n",
       "  <tbody>\n",
       "    <tr>\n",
       "      <th>0</th>\n",
       "      <td>Huan</td>\n",
       "      <td>NaN</td>\n",
       "      <td>NaN</td>\n",
       "      <td>NaN</td>\n",
       "    </tr>\n",
       "    <tr>\n",
       "      <th>1</th>\n",
       "      <td>Luigi</td>\n",
       "      <td>19.0</td>\n",
       "      <td>1.78</td>\n",
       "      <td>NaN</td>\n",
       "    </tr>\n",
       "    <tr>\n",
       "      <th>2</th>\n",
       "      <td>Lucas</td>\n",
       "      <td>18.0</td>\n",
       "      <td>NaN</td>\n",
       "      <td>NaN</td>\n",
       "    </tr>\n",
       "    <tr>\n",
       "      <th>3</th>\n",
       "      <td>Marcos</td>\n",
       "      <td>16.0</td>\n",
       "      <td>1.83</td>\n",
       "      <td>NaN</td>\n",
       "    </tr>\n",
       "    <tr>\n",
       "      <th>4</th>\n",
       "      <td>Ana</td>\n",
       "      <td>NaN</td>\n",
       "      <td>1.75</td>\n",
       "      <td>NaN</td>\n",
       "    </tr>\n",
       "  </tbody>\n",
       "</table>\n",
       "</div>"
      ],
      "text/plain": [
       "     Nome  Idade  Altura  Sex\n",
       "0    Huan    NaN     NaN  NaN\n",
       "1   Luigi   19.0    1.78  NaN\n",
       "2   Lucas   18.0     NaN  NaN\n",
       "3  Marcos   16.0    1.83  NaN\n",
       "4     Ana    NaN    1.75  NaN"
      ]
     },
     "execution_count": 131,
     "metadata": {},
     "output_type": "execute_result"
    }
   ],
   "source": [
    "# df antes de excluir as linhas\n",
    "df"
   ]
  },
  {
   "cell_type": "markdown",
   "id": "7d263751",
   "metadata": {
    "hidden": true
   },
   "source": [
    " "
   ]
  },
  {
   "cell_type": "markdown",
   "id": "2d737327",
   "metadata": {
    "hidden": true
   },
   "source": [
    "Vamos escluir as linhas com base na coluna **Altura**. Ou seja, cada linha da coluna **Altura** que conter valor nulo será excluida."
   ]
  },
  {
   "cell_type": "code",
   "execution_count": 147,
   "id": "402a3856",
   "metadata": {
    "ExecuteTime": {
     "end_time": "2022-11-15T16:39:14.005144Z",
     "start_time": "2022-11-15T16:39:13.984074Z"
    },
    "hidden": true
   },
   "outputs": [
    {
     "data": {
      "text/html": [
       "<div>\n",
       "<style scoped>\n",
       "    .dataframe tbody tr th:only-of-type {\n",
       "        vertical-align: middle;\n",
       "    }\n",
       "\n",
       "    .dataframe tbody tr th {\n",
       "        vertical-align: top;\n",
       "    }\n",
       "\n",
       "    .dataframe thead th {\n",
       "        text-align: right;\n",
       "    }\n",
       "</style>\n",
       "<table border=\"1\" class=\"dataframe\">\n",
       "  <thead>\n",
       "    <tr style=\"text-align: right;\">\n",
       "      <th></th>\n",
       "      <th>Nome</th>\n",
       "      <th>Idade</th>\n",
       "      <th>Altura</th>\n",
       "      <th>Sex</th>\n",
       "    </tr>\n",
       "  </thead>\n",
       "  <tbody>\n",
       "    <tr>\n",
       "      <th>1</th>\n",
       "      <td>Luigi</td>\n",
       "      <td>19.0</td>\n",
       "      <td>1.78</td>\n",
       "      <td>NaN</td>\n",
       "    </tr>\n",
       "    <tr>\n",
       "      <th>3</th>\n",
       "      <td>Marcos</td>\n",
       "      <td>16.0</td>\n",
       "      <td>1.83</td>\n",
       "      <td>NaN</td>\n",
       "    </tr>\n",
       "    <tr>\n",
       "      <th>4</th>\n",
       "      <td>Ana</td>\n",
       "      <td>NaN</td>\n",
       "      <td>1.75</td>\n",
       "      <td>NaN</td>\n",
       "    </tr>\n",
       "  </tbody>\n",
       "</table>\n",
       "</div>"
      ],
      "text/plain": [
       "     Nome  Idade  Altura  Sex\n",
       "1   Luigi   19.0    1.78  NaN\n",
       "3  Marcos   16.0    1.83  NaN\n",
       "4     Ana    NaN    1.75  NaN"
      ]
     },
     "execution_count": 147,
     "metadata": {},
     "output_type": "execute_result"
    }
   ],
   "source": [
    "df.dropna(axis=0, subset=['Altura'])"
   ]
  },
  {
   "cell_type": "markdown",
   "id": "dd79b6ac",
   "metadata": {
    "hidden": true
   },
   "source": [
    " "
   ]
  },
  {
   "cell_type": "markdown",
   "id": "7ab48591",
   "metadata": {
    "hidden": true
   },
   "source": [
    "Vamos escluir as linhas com base na coluna **Altura** e **Idade**. Ou seja, cada linha da coluna **Altura** e da coluna **Idade** que conter valor nulo será excluida."
   ]
  },
  {
   "cell_type": "code",
   "execution_count": 135,
   "id": "8f8941a0",
   "metadata": {
    "ExecuteTime": {
     "end_time": "2022-11-15T16:28:50.671592Z",
     "start_time": "2022-11-15T16:28:50.651887Z"
    },
    "hidden": true
   },
   "outputs": [
    {
     "data": {
      "text/html": [
       "<div>\n",
       "<style scoped>\n",
       "    .dataframe tbody tr th:only-of-type {\n",
       "        vertical-align: middle;\n",
       "    }\n",
       "\n",
       "    .dataframe tbody tr th {\n",
       "        vertical-align: top;\n",
       "    }\n",
       "\n",
       "    .dataframe thead th {\n",
       "        text-align: right;\n",
       "    }\n",
       "</style>\n",
       "<table border=\"1\" class=\"dataframe\">\n",
       "  <thead>\n",
       "    <tr style=\"text-align: right;\">\n",
       "      <th></th>\n",
       "      <th>Nome</th>\n",
       "      <th>Idade</th>\n",
       "      <th>Altura</th>\n",
       "      <th>Sex</th>\n",
       "    </tr>\n",
       "  </thead>\n",
       "  <tbody>\n",
       "    <tr>\n",
       "      <th>1</th>\n",
       "      <td>Luigi</td>\n",
       "      <td>19.0</td>\n",
       "      <td>1.78</td>\n",
       "      <td>NaN</td>\n",
       "    </tr>\n",
       "    <tr>\n",
       "      <th>3</th>\n",
       "      <td>Marcos</td>\n",
       "      <td>16.0</td>\n",
       "      <td>1.83</td>\n",
       "      <td>NaN</td>\n",
       "    </tr>\n",
       "  </tbody>\n",
       "</table>\n",
       "</div>"
      ],
      "text/plain": [
       "     Nome  Idade  Altura  Sex\n",
       "1   Luigi   19.0    1.78  NaN\n",
       "3  Marcos   16.0    1.83  NaN"
      ]
     },
     "execution_count": 135,
     "metadata": {},
     "output_type": "execute_result"
    }
   ],
   "source": [
    "df.dropna(axis=0, subset=['Altura', 'Idade'])"
   ]
  },
  {
   "cell_type": "markdown",
   "id": "7b99af20",
   "metadata": {
    "hidden": true
   },
   "source": [
    " "
   ]
  },
  {
   "cell_type": "markdown",
   "id": "f29773fa",
   "metadata": {
    "hidden": true
   },
   "source": [
    "Vamos escluir as coluna com base na **primeira linha do df**. Ou seja, cada coluna da **primeira linha do df** que conter valor nulo será excluida."
   ]
  },
  {
   "cell_type": "code",
   "execution_count": 137,
   "id": "02ccf251",
   "metadata": {
    "ExecuteTime": {
     "end_time": "2022-11-15T16:30:38.847951Z",
     "start_time": "2022-11-15T16:30:38.832656Z"
    },
    "hidden": true
   },
   "outputs": [
    {
     "data": {
      "text/html": [
       "<div>\n",
       "<style scoped>\n",
       "    .dataframe tbody tr th:only-of-type {\n",
       "        vertical-align: middle;\n",
       "    }\n",
       "\n",
       "    .dataframe tbody tr th {\n",
       "        vertical-align: top;\n",
       "    }\n",
       "\n",
       "    .dataframe thead th {\n",
       "        text-align: right;\n",
       "    }\n",
       "</style>\n",
       "<table border=\"1\" class=\"dataframe\">\n",
       "  <thead>\n",
       "    <tr style=\"text-align: right;\">\n",
       "      <th></th>\n",
       "      <th>Nome</th>\n",
       "    </tr>\n",
       "  </thead>\n",
       "  <tbody>\n",
       "    <tr>\n",
       "      <th>0</th>\n",
       "      <td>Huan</td>\n",
       "    </tr>\n",
       "    <tr>\n",
       "      <th>1</th>\n",
       "      <td>Luigi</td>\n",
       "    </tr>\n",
       "    <tr>\n",
       "      <th>2</th>\n",
       "      <td>Lucas</td>\n",
       "    </tr>\n",
       "    <tr>\n",
       "      <th>3</th>\n",
       "      <td>Marcos</td>\n",
       "    </tr>\n",
       "    <tr>\n",
       "      <th>4</th>\n",
       "      <td>Ana</td>\n",
       "    </tr>\n",
       "  </tbody>\n",
       "</table>\n",
       "</div>"
      ],
      "text/plain": [
       "     Nome\n",
       "0    Huan\n",
       "1   Luigi\n",
       "2   Lucas\n",
       "3  Marcos\n",
       "4     Ana"
      ]
     },
     "execution_count": 137,
     "metadata": {},
     "output_type": "execute_result"
    }
   ],
   "source": [
    "df.dropna(axis=1, subset=[0])"
   ]
  },
  {
   "cell_type": "markdown",
   "id": "976ccbcb",
   "metadata": {
    "hidden": true
   },
   "source": [
    " "
   ]
  },
  {
   "cell_type": "markdown",
   "id": "727aec64",
   "metadata": {
    "hidden": true
   },
   "source": [
    "Vamos escluir as coluna com base na **primeira linha do df** e na **quinta linha do df**. Ou seja, cada coluna da **primeira linha do df** e da **primeira linha do df** que conter valor nulo será excluida."
   ]
  },
  {
   "cell_type": "code",
   "execution_count": 152,
   "id": "5c0dd0b8",
   "metadata": {
    "ExecuteTime": {
     "end_time": "2022-11-15T16:41:12.213852Z",
     "start_time": "2022-11-15T16:41:12.196948Z"
    },
    "hidden": true
   },
   "outputs": [
    {
     "data": {
      "text/html": [
       "<div>\n",
       "<style scoped>\n",
       "    .dataframe tbody tr th:only-of-type {\n",
       "        vertical-align: middle;\n",
       "    }\n",
       "\n",
       "    .dataframe tbody tr th {\n",
       "        vertical-align: top;\n",
       "    }\n",
       "\n",
       "    .dataframe thead th {\n",
       "        text-align: right;\n",
       "    }\n",
       "</style>\n",
       "<table border=\"1\" class=\"dataframe\">\n",
       "  <thead>\n",
       "    <tr style=\"text-align: right;\">\n",
       "      <th></th>\n",
       "      <th>Nome</th>\n",
       "    </tr>\n",
       "  </thead>\n",
       "  <tbody>\n",
       "    <tr>\n",
       "      <th>0</th>\n",
       "      <td>Huan</td>\n",
       "    </tr>\n",
       "    <tr>\n",
       "      <th>1</th>\n",
       "      <td>Luigi</td>\n",
       "    </tr>\n",
       "    <tr>\n",
       "      <th>2</th>\n",
       "      <td>Lucas</td>\n",
       "    </tr>\n",
       "    <tr>\n",
       "      <th>3</th>\n",
       "      <td>Marcos</td>\n",
       "    </tr>\n",
       "    <tr>\n",
       "      <th>4</th>\n",
       "      <td>Ana</td>\n",
       "    </tr>\n",
       "  </tbody>\n",
       "</table>\n",
       "</div>"
      ],
      "text/plain": [
       "     Nome\n",
       "0    Huan\n",
       "1   Luigi\n",
       "2   Lucas\n",
       "3  Marcos\n",
       "4     Ana"
      ]
     },
     "execution_count": 152,
     "metadata": {},
     "output_type": "execute_result"
    }
   ],
   "source": [
    "df.dropna(axis=1, subset=[0, 4])"
   ]
  },
  {
   "cell_type": "markdown",
   "id": "39323ad6",
   "metadata": {
    "hidden": true
   },
   "source": [
    "<br>"
   ]
  },
  {
   "cell_type": "markdown",
   "id": "e47cc5f3",
   "metadata": {
    "hidden": true
   },
   "source": [
    "\n",
    "### <font color=purple>implace  : bool, default False<font>"
   ]
  },
  {
   "cell_type": "markdown",
   "id": "130bfee8",
   "metadata": {
    "hidden": true
   },
   "source": [
    "Quando True, o DataFrame de origem é alterado. Quando False, um novo DataFrame é retornado."
   ]
  },
  {
   "cell_type": "code",
   "execution_count": 157,
   "id": "778ee8ef",
   "metadata": {
    "ExecuteTime": {
     "end_time": "2022-11-15T16:43:42.502190Z",
     "start_time": "2022-11-15T16:43:42.489401Z"
    },
    "hidden": true
   },
   "outputs": [
    {
     "data": {
      "text/html": [
       "<div>\n",
       "<style scoped>\n",
       "    .dataframe tbody tr th:only-of-type {\n",
       "        vertical-align: middle;\n",
       "    }\n",
       "\n",
       "    .dataframe tbody tr th {\n",
       "        vertical-align: top;\n",
       "    }\n",
       "\n",
       "    .dataframe thead th {\n",
       "        text-align: right;\n",
       "    }\n",
       "</style>\n",
       "<table border=\"1\" class=\"dataframe\">\n",
       "  <thead>\n",
       "    <tr style=\"text-align: right;\">\n",
       "      <th></th>\n",
       "      <th>Nome</th>\n",
       "      <th>Idade</th>\n",
       "      <th>Altura</th>\n",
       "      <th>Sex</th>\n",
       "    </tr>\n",
       "  </thead>\n",
       "  <tbody>\n",
       "  </tbody>\n",
       "</table>\n",
       "</div>"
      ],
      "text/plain": [
       "Empty DataFrame\n",
       "Columns: [Nome, Idade, Altura, Sex]\n",
       "Index: []"
      ]
     },
     "execution_count": 157,
     "metadata": {},
     "output_type": "execute_result"
    }
   ],
   "source": [
    "# Um novo DataFrame é retornado\n",
    "df_novo = df.dropna(axis=0, inplace=False)\n",
    "df_novo"
   ]
  },
  {
   "cell_type": "markdown",
   "id": "ccec1ee4",
   "metadata": {
    "hidden": true
   },
   "source": [
    "Vamos escluir as coluna com base na **primeira linha do df**. Ou seja, cada coluna da **primeira linha do df** que conter valor nulo será excluida."
   ]
  },
  {
   "cell_type": "markdown",
   "id": "c108d173",
   "metadata": {
    "hidden": true
   },
   "source": [
    " "
   ]
  },
  {
   "cell_type": "code",
   "execution_count": 159,
   "id": "c6dfe6a6",
   "metadata": {
    "ExecuteTime": {
     "end_time": "2022-11-15T16:43:49.324083Z",
     "start_time": "2022-11-15T16:43:49.309627Z"
    },
    "hidden": true
   },
   "outputs": [
    {
     "data": {
      "text/html": [
       "<div>\n",
       "<style scoped>\n",
       "    .dataframe tbody tr th:only-of-type {\n",
       "        vertical-align: middle;\n",
       "    }\n",
       "\n",
       "    .dataframe tbody tr th {\n",
       "        vertical-align: top;\n",
       "    }\n",
       "\n",
       "    .dataframe thead th {\n",
       "        text-align: right;\n",
       "    }\n",
       "</style>\n",
       "<table border=\"1\" class=\"dataframe\">\n",
       "  <thead>\n",
       "    <tr style=\"text-align: right;\">\n",
       "      <th></th>\n",
       "      <th>Nome</th>\n",
       "      <th>Idade</th>\n",
       "      <th>Altura</th>\n",
       "      <th>Sex</th>\n",
       "    </tr>\n",
       "  </thead>\n",
       "  <tbody>\n",
       "  </tbody>\n",
       "</table>\n",
       "</div>"
      ],
      "text/plain": [
       "Empty DataFrame\n",
       "Columns: [Nome, Idade, Altura, Sex]\n",
       "Index: []"
      ]
     },
     "execution_count": 159,
     "metadata": {},
     "output_type": "execute_result"
    }
   ],
   "source": [
    "# O DataFrame original é alterado\n",
    "df.dropna(axis=0, inplace=True)\n",
    "df"
   ]
  },
  {
   "cell_type": "markdown",
   "id": "b26688fa",
   "metadata": {
    "hidden": true
   },
   "source": [
    "<br>"
   ]
  },
  {
   "cell_type": "markdown",
   "id": "fea4794e",
   "metadata": {
    "heading_collapsed": true,
    "hidden": true
   },
   "source": [
    "### 🐥 <font size=4>Tratando valores vazios com fillna()<font>"
   ]
  },
  {
   "cell_type": "markdown",
   "id": "72392c7b",
   "metadata": {
    "hidden": true
   },
   "source": [
    "O método **fillna** serve para substituir os valores nulos de um DataFrame por outro valor especificado. Você pode específicar o valor que vai substituir os valores nulos ou pode usar o parâmetro **method** para escolher alguns métodos estatísticos para preencher os valores nulos. Veja a sintaxe do **fillna**:"
   ]
  },
  {
   "cell_type": "markdown",
   "id": "78a17bf4",
   "metadata": {
    "hidden": true
   },
   "source": [
    "\n",
    "### <font color=purple>_.fillna (_<font>\n",
    " \n",
    "**value** = None<br>\n",
    "**method** = None<br>\n",
    "**inplace** = False<br>\n",
    "**limit** = None<br>\n",
    "**copy** = True<br>\n",
    "**axis** = None<br>\n",
    "**downcast** = None<br>\n",
    "\n",
    "### <font color=purple>_)_<font>\n",
    "<br>"
   ]
  },
  {
   "cell_type": "markdown",
   "id": "050c5a97",
   "metadata": {
    "hidden": true
   },
   "source": [
    "\n",
    "### <font color=purple>value : scalar, dict, Series, or DataFrame<font>"
   ]
  },
  {
   "cell_type": "markdown",
   "id": "c3c7b7c5",
   "metadata": {
    "hidden": true
   },
   "source": []
  },
  {
   "cell_type": "markdown",
   "id": "6f41caed",
   "metadata": {
    "hidden": true
   },
   "source": []
  },
  {
   "cell_type": "markdown",
   "id": "cd65d08b",
   "metadata": {},
   "source": [
    "## 👾 <font size=5>Coletando informações sobre o DataFrame<font>"
   ]
  },
  {
   "cell_type": "markdown",
   "id": "3cbaed66",
   "metadata": {},
   "source": [
    "- DataFrame.dtypes\n",
    "- DataFrame.columns\n",
    "- DataFrame.index\n",
    "- DataFrame.shape\n",
    "- DataFrame.max\n",
    "- DataFrame.min\n",
    "- DataFrame.mean\n",
    "- DataFrame.median\n",
    "- DataFrame.var\n",
    "- DataFrame.std\n",
    "- DataFrame.describe\n",
    "- DataFrame.unique e nunique\n",
    "- DataFrame.count\n",
    "- DataFrame.value_counts\n",
    "- DataFrame.sample\n",
    "- pd.crosstab\n",
    "- pd.concat\n",
    "- DataFrame.apply\n",
    "- DataFrame.merge\n",
    "- DataFrame.map\n",
    "- DataFrame.astype\n",
    "- DataFrame.set_index\n",
    "- DataFrame.sort_values\n",
    "- DataFrame.groupby\n",
    "- DataFrame.T \n",
    "- DataFrame.pivot\n",
    "- pd.cut\n",
    "- DataFrame.drop\n",
    "- DataFrame.transform"
   ]
  }
 ],
 "metadata": {
  "kernelspec": {
   "display_name": "Python 3 (ipykernel)",
   "language": "python",
   "name": "python3"
  },
  "language_info": {
   "codemirror_mode": {
    "name": "ipython",
    "version": 3
   },
   "file_extension": ".py",
   "mimetype": "text/x-python",
   "name": "python",
   "nbconvert_exporter": "python",
   "pygments_lexer": "ipython3",
   "version": "3.11.0"
  },
  "varInspector": {
   "cols": {
    "lenName": 16,
    "lenType": 16,
    "lenVar": 40
   },
   "kernels_config": {
    "python": {
     "delete_cmd_postfix": "",
     "delete_cmd_prefix": "del ",
     "library": "var_list.py",
     "varRefreshCmd": "print(var_dic_list())"
    },
    "r": {
     "delete_cmd_postfix": ") ",
     "delete_cmd_prefix": "rm(",
     "library": "var_list.r",
     "varRefreshCmd": "cat(var_dic_list()) "
    }
   },
   "types_to_exclude": [
    "module",
    "function",
    "builtin_function_or_method",
    "instance",
    "_Feature"
   ],
   "window_display": false
  },
  "vscode": {
   "interpreter": {
    "hash": "e7370f93d1d0cde622a1f8e1c04877d8463912d04d973331ad4851f04de6915a"
   }
  }
 },
 "nbformat": 4,
 "nbformat_minor": 5
}
