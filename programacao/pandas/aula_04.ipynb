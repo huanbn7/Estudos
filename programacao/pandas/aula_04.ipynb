{
 "cells": [
  {
   "cell_type": "code",
   "execution_count": 1,
   "id": "d9e040db",
   "metadata": {
    "ExecuteTime": {
     "end_time": "2022-12-20T15:33:47.484445Z",
     "start_time": "2022-12-20T15:33:47.191972Z"
    }
   },
   "outputs": [],
   "source": [
    "import pandas as pd\n",
    "import random as rd"
   ]
  },
  {
   "cell_type": "markdown",
   "id": "b8ae4675",
   "metadata": {
    "heading_collapsed": true
   },
   "source": [
    "# 🎯 Indexação básica para Series e DataFrame"
   ]
  },
  {
   "cell_type": "markdown",
   "id": "aca205d4",
   "metadata": {
    "heading_collapsed": true,
    "hidden": true
   },
   "source": [
    "##  👾 <font size=5>Series<font>"
   ]
  },
  {
   "cell_type": "markdown",
   "id": "f05df7ad",
   "metadata": {
    "hidden": true
   },
   "source": [
    "Quando estavamos estudando como criar uma Series vimos que uma Series possui 3 tipos de indices: **Indice negativo**, **Indice padão** e **Index\n",
    "label**. Quando não definimos o index label podemos selecionar elementos de uma Series apenas usando o indice padrão. Já para selecionar intervalos podemos utilizar o indice padrão ou o indice negativo."
   ]
  },
  {
   "cell_type": "code",
   "execution_count": 4,
   "id": "4cd9cc7c",
   "metadata": {
    "ExecuteTime": {
     "end_time": "2022-12-19T00:13:10.511903Z",
     "start_time": "2022-12-19T00:13:10.506918Z"
    },
    "hidden": true
   },
   "outputs": [
    {
     "name": "stdout",
     "output_type": "stream",
     "text": [
      "Mike \n",
      "\n",
      "\n",
      "2    Mike\n",
      "4     Ana\n",
      "dtype: object \n",
      "\n",
      "\n",
      "2    Mike\n",
      "3    Xuxa\n",
      "dtype: object\n"
     ]
    }
   ],
   "source": [
    "se = pd.Series('Audax Spike Mike Xuxa Ana'.split())\n",
    "\n",
    "# selecionando um único elemento\n",
    "print(se[2], '\\n\\n')\n",
    "\n",
    "# selecionando elementos especificos\n",
    "print(se[[2, 4]], '\\n\\n')\n",
    "\n",
    "# selecionando um intervalo de elementos\n",
    "print(se[-3:-1])"
   ]
  },
  {
   "cell_type": "markdown",
   "id": "8d838753",
   "metadata": {
    "hidden": true
   },
   "source": [
    " <br>"
   ]
  },
  {
   "cell_type": "markdown",
   "id": "54cc35f1",
   "metadata": {
    "hidden": true
   },
   "source": [
    "Quando definimos os index labels de uma Series como valores inteiros ou float, só poderemos acessar os itens dessa Series utilizando o index label. Para selecionar intervalos podemos utilizar o index label ou indice negativo."
   ]
  },
  {
   "cell_type": "code",
   "execution_count": 4,
   "id": "b99ee2df",
   "metadata": {
    "ExecuteTime": {
     "end_time": "2022-11-21T21:15:46.263490Z",
     "start_time": "2022-11-21T21:15:46.250955Z"
    },
    "hidden": true
   },
   "outputs": [
    {
     "name": "stdout",
     "output_type": "stream",
     "text": [
      "Audax \n",
      "\n",
      "\n",
      "10    Audax\n",
      "30     Mike\n",
      "dtype: object \n",
      "\n",
      "\n",
      "30    Mike\n",
      "40    Xuxa\n",
      "dtype: object\n"
     ]
    }
   ],
   "source": [
    "se = pd.Series('Audax Spike Mike Xuxa Ana'.split(), index=[10, 20, 30, 40, 50])\n",
    "\n",
    "# selecionando um único elemento\n",
    "print(se[10], '\\n\\n')\n",
    "\n",
    "# selecionando elementos especificos\n",
    "print(se[[10, 30]], '\\n\\n')\n",
    "\n",
    "# selecionando um intervalo de elementos\n",
    "print(se[-3:-1])"
   ]
  },
  {
   "cell_type": "markdown",
   "id": "e3c21c58",
   "metadata": {
    "hidden": true
   },
   "source": [
    " <br>"
   ]
  },
  {
   "cell_type": "markdown",
   "id": "336724f3",
   "metadata": {
    "hidden": true
   },
   "source": [
    "Por fim, quando definimos os index labels de uma Series como strings ou outro tipo de dado que não seja float ou int, poderemos acessar os elementos da Series utilizando os 3 tipos de indice. Para selecionar intervalos podemos também utilizar os 3 tipos de indice."
   ]
  },
  {
   "cell_type": "code",
   "execution_count": 5,
   "id": "506fb62b",
   "metadata": {
    "ExecuteTime": {
     "end_time": "2022-11-21T21:15:49.495524Z",
     "start_time": "2022-11-21T21:15:49.487114Z"
    },
    "hidden": true,
    "scrolled": true
   },
   "outputs": [
    {
     "name": "stdout",
     "output_type": "stream",
     "text": [
      "Audax\n",
      "Audax\n",
      "Audax\n"
     ]
    }
   ],
   "source": [
    "se = pd.Series('Audax Spike Mike Xuxa Ana'.split(), index='a b c d e'.split())\n",
    "\n",
    "# selecionando um único elemento\n",
    "print(se['a'])\n",
    "print(se[0])\n",
    "print(se[-5])"
   ]
  },
  {
   "cell_type": "markdown",
   "id": "bc9fa2b9",
   "metadata": {
    "hidden": true
   },
   "source": [
    " "
   ]
  },
  {
   "cell_type": "code",
   "execution_count": 6,
   "id": "6546fa09",
   "metadata": {
    "ExecuteTime": {
     "end_time": "2022-11-21T21:15:52.227388Z",
     "start_time": "2022-11-21T21:15:52.220138Z"
    },
    "hidden": true
   },
   "outputs": [
    {
     "name": "stdout",
     "output_type": "stream",
     "text": [
      "a    Audax\n",
      "b    Spike\n",
      "dtype: object \n",
      "\n",
      "a    Audax\n",
      "b    Spike\n",
      "dtype: object \n",
      "\n",
      "a    Audax\n",
      "b    Spike\n",
      "dtype: object\n"
     ]
    }
   ],
   "source": [
    "# selecionando elementos especificos\n",
    "print(se[['a', 'b']], '\\n')\n",
    "print(se[[0, 1]], '\\n')\n",
    "print(se[[-5, -4]])"
   ]
  },
  {
   "cell_type": "markdown",
   "id": "3c64030d",
   "metadata": {
    "hidden": true
   },
   "source": [
    " "
   ]
  },
  {
   "cell_type": "code",
   "execution_count": 53,
   "id": "edb49522",
   "metadata": {
    "ExecuteTime": {
     "end_time": "2022-10-20T21:47:44.237363Z",
     "start_time": "2022-10-20T21:47:44.227976Z"
    },
    "hidden": true,
    "scrolled": true
   },
   "outputs": [
    {
     "name": "stdout",
     "output_type": "stream",
     "text": [
      "c    Mike\n",
      "d    Xuxa\n",
      "dtype: object \n",
      "\n",
      "c    Mike\n",
      "d    Xuxa\n",
      "dtype: object \n",
      "\n",
      "c    Mike\n",
      "d    Xuxa\n",
      "dtype: object\n"
     ]
    }
   ],
   "source": [
    "# selecionando um intervalo de elementos\n",
    "# perceba que o elemento que se encontra na posição 'd' é selecionado\n",
    "print(se['c':'d'], '\\n')\n",
    "print(se[2:4], '\\n')\n",
    "print(se[-3:-1])"
   ]
  },
  {
   "cell_type": "markdown",
   "id": "e8e56f28",
   "metadata": {
    "hidden": true
   },
   "source": [
    " <br>"
   ]
  },
  {
   "cell_type": "markdown",
   "id": "ce6fcaff",
   "metadata": {
    "hidden": true
   },
   "source": [
    "O **range index** (index default da Series) deixa a Series ocupando menos espaço na memória do que o **int64 index** (tipo de indice de uma lista e outras iterables), pois em vez de armazenar o indice de cada elemento na memória ele guarada apenas o start, stop e o step, ou seja, o **primeiro indice**, o **ultimo indice** e a **razão entre os indices**."
   ]
  },
  {
   "cell_type": "code",
   "execution_count": 45,
   "id": "79c81d87",
   "metadata": {
    "ExecuteTime": {
     "end_time": "2022-11-17T21:44:25.715928Z",
     "start_time": "2022-11-17T21:44:24.691020Z"
    },
    "hidden": true
   },
   "outputs": [
    {
     "name": "stdout",
     "output_type": "stream",
     "text": [
      "Tamanho de s1 em bytes: 8000144\n",
      "Tamanho de s2 em bytes: 16000016\n"
     ]
    }
   ],
   "source": [
    "import sys\n",
    "\n",
    "# criando uma series com o indice range index\n",
    "s1 = pd.Series([x for x in range(1000000)])\n",
    "print(f'Tamanho de s1 em bytes: {sys.getsizeof(s1)}')\n",
    "\n",
    "# criando uma series com o indice int64 index\n",
    "s2 = pd.Series([x for x in range(1000000)], index=[x for x in range(1000000)])\n",
    "print(f'Tamanho de s2 em bytes: {sys.getsizeof(s2)}')"
   ]
  },
  {
   "cell_type": "markdown",
   "id": "8444dfab",
   "metadata": {
    "hidden": true
   },
   "source": [
    " <br>"
   ]
  },
  {
   "cell_type": "markdown",
   "id": "6a72824b",
   "metadata": {
    "hidden": true
   },
   "source": [
    "É possivel que uma Series tenha elementos com o mesmo indice, devido o index label aceitar duplicatas."
   ]
  },
  {
   "cell_type": "code",
   "execution_count": 47,
   "id": "6fd54316",
   "metadata": {
    "ExecuteTime": {
     "end_time": "2022-11-17T21:46:00.315285Z",
     "start_time": "2022-11-17T21:46:00.302585Z"
    },
    "hidden": true
   },
   "outputs": [
    {
     "data": {
      "text/plain": [
       "a    Audax\n",
       "a    Spike\n",
       "a     Mike\n",
       "dtype: object"
      ]
     },
     "execution_count": 47,
     "metadata": {},
     "output_type": "execute_result"
    }
   ],
   "source": [
    "# criando uma Series com alguns indices repetidos\n",
    "se = pd.Series('Audax Spike Mike Xuxa Ana'.split(), index='a a a d e'.split())\n",
    "\n",
    "# selecionando todos os elementos que correnspodem ao indice 'a'\n",
    "se['a']"
   ]
  },
  {
   "cell_type": "markdown",
   "id": "a458ab24",
   "metadata": {
    "hidden": true
   },
   "source": [
    " <br>"
   ]
  },
  {
   "cell_type": "markdown",
   "id": "82ff27dd",
   "metadata": {
    "hidden": true
   },
   "source": [
    "Sobrescrevendo um elemento de uma Series."
   ]
  },
  {
   "cell_type": "code",
   "execution_count": 46,
   "id": "ea13d4f2",
   "metadata": {
    "ExecuteTime": {
     "end_time": "2022-11-17T21:45:53.998340Z",
     "start_time": "2022-11-17T21:45:53.991083Z"
    },
    "hidden": true
   },
   "outputs": [
    {
     "name": "stdout",
     "output_type": "stream",
     "text": [
      "0    999\n",
      "1     20\n",
      "2     30\n",
      "3     40\n",
      "4     50\n",
      "5     60\n",
      "6     70\n",
      "dtype: int64\n"
     ]
    }
   ],
   "source": [
    "# criando a Series\n",
    "se = pd.Series([10, 20, 30, 40, 50, 60, 70])\n",
    "\n",
    "# sobrescrevendo o 1° elemento\n",
    "se[0] = 999\n",
    "print(se)"
   ]
  },
  {
   "cell_type": "markdown",
   "id": "ff615b1a",
   "metadata": {
    "hidden": true
   },
   "source": [
    " <br>"
   ]
  },
  {
   "cell_type": "markdown",
   "id": "f819ad66",
   "metadata": {
    "hidden": true
   },
   "source": [
    "Sobrescrevendo elementos especificos de uma Series."
   ]
  },
  {
   "cell_type": "code",
   "execution_count": 48,
   "id": "d930b57b",
   "metadata": {
    "ExecuteTime": {
     "end_time": "2022-11-17T21:46:16.408262Z",
     "start_time": "2022-11-17T21:46:16.398582Z"
    },
    "hidden": true
   },
   "outputs": [
    {
     "name": "stdout",
     "output_type": "stream",
     "text": [
      "0    999\n",
      "1    999\n",
      "2    999\n",
      "3     40\n",
      "4     50\n",
      "5     60\n",
      "6     70\n",
      "dtype: int64\n"
     ]
    }
   ],
   "source": [
    "# criando a Series\n",
    "se = pd.Series([10, 20, 30, 40, 50, 60, 70])\n",
    "\n",
    "# sobrescrevendo os elementos\n",
    "se[[0, 1, 2]] = 999\n",
    "print(se)"
   ]
  },
  {
   "cell_type": "markdown",
   "id": "28a90666",
   "metadata": {
    "hidden": true
   },
   "source": [
    " <br>"
   ]
  },
  {
   "cell_type": "markdown",
   "id": "510e2a46",
   "metadata": {
    "ExecuteTime": {
     "end_time": "2022-10-18T22:23:20.449748Z",
     "start_time": "2022-10-18T22:23:20.442087Z"
    },
    "hidden": true
   },
   "source": [
    "Sobrescrevendo intervalos de uma Series."
   ]
  },
  {
   "cell_type": "code",
   "execution_count": 49,
   "id": "eed7a215",
   "metadata": {
    "ExecuteTime": {
     "end_time": "2022-11-17T21:47:19.639436Z",
     "start_time": "2022-11-17T21:47:19.630933Z"
    },
    "hidden": true,
    "scrolled": true
   },
   "outputs": [
    {
     "name": "stdout",
     "output_type": "stream",
     "text": [
      "0     10\n",
      "1     20\n",
      "2     30\n",
      "3     40\n",
      "4    999\n",
      "5    999\n",
      "6    999\n",
      "dtype: int64\n"
     ]
    }
   ],
   "source": [
    "# criando a Series\n",
    "se = pd.Series([10, 20, 30, 40, 50, 60, 70])\n",
    "\n",
    "# sobrescrevendo o intervalo\n",
    "se[4:] = 999\n",
    "print(se)"
   ]
  },
  {
   "cell_type": "markdown",
   "id": "5d10c656",
   "metadata": {
    "hidden": true
   },
   "source": [
    " <br>"
   ]
  },
  {
   "cell_type": "markdown",
   "id": "5d1597c8",
   "metadata": {
    "hidden": true
   },
   "source": [
    "Sobrescrevendo uma Series completa.\n"
   ]
  },
  {
   "cell_type": "code",
   "execution_count": 51,
   "id": "009e057e",
   "metadata": {
    "ExecuteTime": {
     "end_time": "2022-11-17T21:48:02.156970Z",
     "start_time": "2022-11-17T21:48:02.149358Z"
    },
    "hidden": true
   },
   "outputs": [
    {
     "name": "stdout",
     "output_type": "stream",
     "text": [
      "A    0\n",
      "B    1\n",
      "C    2\n",
      "D    3\n",
      "E    4\n",
      "F    5\n",
      "G    6\n",
      "dtype: int64\n"
     ]
    }
   ],
   "source": [
    "# criando a Series\n",
    "se = pd.Series([10, 20, 30, 40, 50, 60, 70], index='A B C D E F G'.split())\n",
    "\n",
    "# sobrescrevendo os elementos\n",
    "novos_valores = [x for x in range(7)]\n",
    "se[:] = novos_valores\n",
    "print(se)\n",
    "\n",
    "# note que somente os valores foram sobrescritos, os indices continuam os mesmos "
   ]
  },
  {
   "cell_type": "markdown",
   "id": "f9043e6a",
   "metadata": {
    "hidden": true
   },
   "source": [
    " <br>"
   ]
  },
  {
   "cell_type": "markdown",
   "id": "e83f0376",
   "metadata": {
    "hidden": true
   },
   "source": [
    "Trocando elementos de uma Series através de outra Series."
   ]
  },
  {
   "cell_type": "code",
   "execution_count": 53,
   "id": "208702ef",
   "metadata": {
    "ExecuteTime": {
     "end_time": "2022-11-17T21:48:42.098425Z",
     "start_time": "2022-11-17T21:48:42.090607Z"
    },
    "hidden": true,
    "scrolled": true
   },
   "outputs": [
    {
     "name": "stdout",
     "output_type": "stream",
     "text": [
      "0     A\n",
      "1    20\n",
      "2     C\n",
      "3    40\n",
      "dtype: object\n"
     ]
    }
   ],
   "source": [
    "x = pd.Series([10, 20, 30, 40])\n",
    "y = pd.Series(['A', 'B', 'C', 'D'])\n",
    "\n",
    "# os elementos que estão na posição 0 e 2 de x vão ser substituidos pelos elementos que estão na posição 0 e 2 de y\n",
    "x.loc[[0, 2]] = y\n",
    "\n",
    "print(x)"
   ]
  },
  {
   "cell_type": "markdown",
   "id": "df9d4bbe",
   "metadata": {
    "hidden": true
   },
   "source": [
    "<br>"
   ]
  },
  {
   "cell_type": "markdown",
   "id": "28bf1ce6",
   "metadata": {
    "heading_collapsed": true,
    "hidden": true
   },
   "source": [
    "##  👾 <font size=5>DataFrame<font>"
   ]
  },
  {
   "cell_type": "markdown",
   "id": "26122904",
   "metadata": {
    "hidden": true
   },
   "source": [
    "Como sabemos, um DataFrame é composto por uma ou mais Series. Então, nosso objetivo é aprender como selecionar essas Series."
   ]
  },
  {
   "cell_type": "code",
   "execution_count": 5,
   "id": "6b7c75b5",
   "metadata": {
    "ExecuteTime": {
     "end_time": "2022-12-19T00:17:38.263776Z",
     "start_time": "2022-12-19T00:17:38.238050Z"
    },
    "hidden": true
   },
   "outputs": [
    {
     "data": {
      "text/html": [
       "<div>\n",
       "<style scoped>\n",
       "    .dataframe tbody tr th:only-of-type {\n",
       "        vertical-align: middle;\n",
       "    }\n",
       "\n",
       "    .dataframe tbody tr th {\n",
       "        vertical-align: top;\n",
       "    }\n",
       "\n",
       "    .dataframe thead th {\n",
       "        text-align: right;\n",
       "    }\n",
       "</style>\n",
       "<table border=\"1\" class=\"dataframe\">\n",
       "  <thead>\n",
       "    <tr style=\"text-align: right;\">\n",
       "      <th></th>\n",
       "      <th>nome</th>\n",
       "      <th>idade</th>\n",
       "      <th>altura</th>\n",
       "    </tr>\n",
       "  </thead>\n",
       "  <tbody>\n",
       "    <tr>\n",
       "      <th>0</th>\n",
       "      <td>huan</td>\n",
       "      <td>18</td>\n",
       "      <td>1.80</td>\n",
       "    </tr>\n",
       "    <tr>\n",
       "      <th>1</th>\n",
       "      <td>luigi</td>\n",
       "      <td>19</td>\n",
       "      <td>1.78</td>\n",
       "    </tr>\n",
       "    <tr>\n",
       "      <th>2</th>\n",
       "      <td>lucas</td>\n",
       "      <td>18</td>\n",
       "      <td>1.82</td>\n",
       "    </tr>\n",
       "  </tbody>\n",
       "</table>\n",
       "</div>"
      ],
      "text/plain": [
       "    nome  idade  altura\n",
       "0   huan     18    1.80\n",
       "1  luigi     19    1.78\n",
       "2  lucas     18    1.82"
      ]
     },
     "execution_count": 5,
     "metadata": {},
     "output_type": "execute_result"
    }
   ],
   "source": [
    "# criando um df\n",
    "\n",
    "dic = {'nome':['huan', 'luigi', 'lucas'],\n",
    "       'idade':[18, 19, 18],\n",
    "       'altura':[1.80, 1.78, 1.82]}\n",
    "\n",
    "df = pd.DataFrame(data=dic)\n",
    "df"
   ]
  },
  {
   "cell_type": "markdown",
   "id": "35a0c152",
   "metadata": {
    "hidden": true
   },
   "source": [
    " "
   ]
  },
  {
   "cell_type": "markdown",
   "id": "023b23d5",
   "metadata": {
    "hidden": true
   },
   "source": [
    "Vamos selecionar a coluna do DataFrame referente aos nomes. Uma Series será retornado."
   ]
  },
  {
   "cell_type": "code",
   "execution_count": 25,
   "id": "deee4c57",
   "metadata": {
    "ExecuteTime": {
     "end_time": "2022-11-18T00:39:09.878748Z",
     "start_time": "2022-11-18T00:39:09.869040Z"
    },
    "hidden": true
   },
   "outputs": [
    {
     "name": "stdout",
     "output_type": "stream",
     "text": [
      "0     huan\n",
      "1    luigi\n",
      "2    lucas\n",
      "Name: nome, dtype: object\n"
     ]
    },
    {
     "data": {
      "text/plain": [
       "pandas.core.series.Series"
      ]
     },
     "execution_count": 25,
     "metadata": {},
     "output_type": "execute_result"
    }
   ],
   "source": [
    "print(df['nome'])\n",
    "type(df['nome'])"
   ]
  },
  {
   "cell_type": "markdown",
   "id": "d082bbd4",
   "metadata": {
    "ExecuteTime": {
     "end_time": "2022-11-17T21:19:11.138203Z",
     "start_time": "2022-11-17T21:19:11.126150Z"
    },
    "hidden": true
   },
   "source": [
    " "
   ]
  },
  {
   "cell_type": "markdown",
   "id": "0d4dd138",
   "metadata": {
    "hidden": true
   },
   "source": [
    "É possivel selecionar mais de uma coluna, no entanto, o retorno será um DataFrame. Para fazer essa operação precisamos passar um lista com os nomes das colunas que queremos selecionar."
   ]
  },
  {
   "cell_type": "code",
   "execution_count": 9,
   "id": "fa46f241",
   "metadata": {
    "ExecuteTime": {
     "end_time": "2022-12-19T00:18:02.880902Z",
     "start_time": "2022-12-19T00:18:02.868829Z"
    },
    "hidden": true
   },
   "outputs": [
    {
     "data": {
      "text/html": [
       "<div>\n",
       "<style scoped>\n",
       "    .dataframe tbody tr th:only-of-type {\n",
       "        vertical-align: middle;\n",
       "    }\n",
       "\n",
       "    .dataframe tbody tr th {\n",
       "        vertical-align: top;\n",
       "    }\n",
       "\n",
       "    .dataframe thead th {\n",
       "        text-align: right;\n",
       "    }\n",
       "</style>\n",
       "<table border=\"1\" class=\"dataframe\">\n",
       "  <thead>\n",
       "    <tr style=\"text-align: right;\">\n",
       "      <th></th>\n",
       "      <th>nome</th>\n",
       "      <th>altura</th>\n",
       "    </tr>\n",
       "  </thead>\n",
       "  <tbody>\n",
       "    <tr>\n",
       "      <th>0</th>\n",
       "      <td>huan</td>\n",
       "      <td>1.80</td>\n",
       "    </tr>\n",
       "    <tr>\n",
       "      <th>1</th>\n",
       "      <td>luigi</td>\n",
       "      <td>1.78</td>\n",
       "    </tr>\n",
       "    <tr>\n",
       "      <th>2</th>\n",
       "      <td>lucas</td>\n",
       "      <td>1.82</td>\n",
       "    </tr>\n",
       "  </tbody>\n",
       "</table>\n",
       "</div>"
      ],
      "text/plain": [
       "    nome  altura\n",
       "0   huan    1.80\n",
       "1  luigi    1.78\n",
       "2  lucas    1.82"
      ]
     },
     "execution_count": 9,
     "metadata": {},
     "output_type": "execute_result"
    }
   ],
   "source": [
    "df[['nome', 'altura']]"
   ]
  },
  {
   "cell_type": "markdown",
   "id": "da96663a",
   "metadata": {
    "hidden": true
   },
   "source": [
    "<br>"
   ]
  },
  {
   "cell_type": "markdown",
   "id": "5cfaa493",
   "metadata": {
    "heading_collapsed": true
   },
   "source": [
    "# 🎯 Indexação com métodos para Series e DataFrame"
   ]
  },
  {
   "cell_type": "markdown",
   "id": "53775ff0",
   "metadata": {
    "hidden": true
   },
   "source": [
    "<br>\n",
    "No pandas temos duas maneiras muito interessantes de selecionar os dados que queremos, seja de um DataFrame ou uma Series.\n",
    "\n",
    "- loc\n",
    "- iloc\n",
    "\n",
    "Basicamente os dois métodos servem para resgatar dados, mas possuem características distintas na hora que vamos utilizá-los. Vamos entender agora quais são as particularidades deles e os casos de uso para cada um.<br><br>"
   ]
  },
  {
   "cell_type": "markdown",
   "id": "5f0a4f26",
   "metadata": {
    "heading_collapsed": true,
    "hidden": true
   },
   "source": [
    "##  👾 <font size=5>loc<font>"
   ]
  },
  {
   "cell_type": "markdown",
   "id": "b4b29fb5",
   "metadata": {
    "heading_collapsed": true,
    "hidden": true
   },
   "source": [
    "###  🐥 <font size=4>Selecionando valores de uma Series<font>"
   ]
  },
  {
   "cell_type": "markdown",
   "id": "539e0fe5",
   "metadata": {
    "hidden": true
   },
   "source": [
    "Quando a Series tiver como indice o **range index**, o método loc só poderá selecionar elementos da Series através do range index.  \n",
    "Quando a Series tiver como indice o **index label**, o método loc só poderá selecionar elementos da Series através do index label. \n",
    " \n",
    "\n",
    "Vamos criar uma Series para usar nos exemplos seguintes."
   ]
  },
  {
   "cell_type": "code",
   "execution_count": 6,
   "id": "daf05f05",
   "metadata": {
    "ExecuteTime": {
     "end_time": "2022-11-20T14:34:00.892856Z",
     "start_time": "2022-11-20T14:34:00.881804Z"
    },
    "hidden": true
   },
   "outputs": [
    {
     "data": {
      "text/plain": [
       "0    A\n",
       "1    B\n",
       "2    C\n",
       "3    D\n",
       "4    E\n",
       "5    F\n",
       "6    G\n",
       "7    H\n",
       "8    I\n",
       "9    J\n",
       "dtype: object"
      ]
     },
     "execution_count": 6,
     "metadata": {},
     "output_type": "execute_result"
    }
   ],
   "source": [
    "x = pd.Series(data='A B C D E F G H I J'.split())\n",
    "x"
   ]
  },
  {
   "cell_type": "markdown",
   "id": "37a634da",
   "metadata": {
    "hidden": true
   },
   "source": [
    " "
   ]
  },
  {
   "cell_type": "markdown",
   "id": "ac018adc",
   "metadata": {
    "hidden": true
   },
   "source": [
    "Selecioando um elemento."
   ]
  },
  {
   "cell_type": "code",
   "execution_count": 83,
   "id": "204ee701",
   "metadata": {
    "ExecuteTime": {
     "end_time": "2022-11-17T22:03:53.878756Z",
     "start_time": "2022-11-17T22:03:53.870164Z"
    },
    "hidden": true
   },
   "outputs": [
    {
     "data": {
      "text/plain": [
       "'A'"
      ]
     },
     "execution_count": 83,
     "metadata": {},
     "output_type": "execute_result"
    }
   ],
   "source": [
    "x.loc[0]"
   ]
  },
  {
   "cell_type": "markdown",
   "id": "e4fb9ea1",
   "metadata": {
    "hidden": true
   },
   "source": [
    " "
   ]
  },
  {
   "cell_type": "markdown",
   "id": "9ead4f96",
   "metadata": {
    "hidden": true
   },
   "source": [
    "Selecionando elementos específicos."
   ]
  },
  {
   "cell_type": "code",
   "execution_count": 61,
   "id": "8f7b221d",
   "metadata": {
    "ExecuteTime": {
     "end_time": "2022-11-17T22:01:10.874109Z",
     "start_time": "2022-11-17T22:01:10.861627Z"
    },
    "hidden": true
   },
   "outputs": [
    {
     "data": {
      "text/plain": [
       "0    A\n",
       "2    C\n",
       "4    E\n",
       "dtype: object"
      ]
     },
     "execution_count": 61,
     "metadata": {},
     "output_type": "execute_result"
    }
   ],
   "source": [
    "x.loc[[0, 2, 4]]"
   ]
  },
  {
   "cell_type": "markdown",
   "id": "a41f2961",
   "metadata": {
    "hidden": true
   },
   "source": [
    " "
   ]
  },
  {
   "cell_type": "markdown",
   "id": "c6985bf1",
   "metadata": {
    "hidden": true
   },
   "source": [
    "Selecionando um intervalo de elementos. "
   ]
  },
  {
   "cell_type": "code",
   "execution_count": 66,
   "id": "beb703fe",
   "metadata": {
    "ExecuteTime": {
     "end_time": "2022-11-17T22:02:06.861783Z",
     "start_time": "2022-11-17T22:02:06.850680Z"
    },
    "hidden": true
   },
   "outputs": [
    {
     "data": {
      "text/plain": [
       "3    D\n",
       "4    E\n",
       "5    F\n",
       "dtype: object"
      ]
     },
     "execution_count": 66,
     "metadata": {},
     "output_type": "execute_result"
    }
   ],
   "source": [
    "x.loc[3:5]  # o elemento que se encontra no indice 5 será selecionado também"
   ]
  },
  {
   "cell_type": "markdown",
   "id": "cbd8c73e",
   "metadata": {
    "hidden": true
   },
   "source": [
    " "
   ]
  },
  {
   "cell_type": "markdown",
   "id": "ef0e998b",
   "metadata": {
    "hidden": true
   },
   "source": [
    "Selecionando e trocando os elementos da Series."
   ]
  },
  {
   "cell_type": "code",
   "execution_count": 36,
   "id": "152dee17",
   "metadata": {
    "ExecuteTime": {
     "end_time": "2022-10-20T21:39:05.883557Z",
     "start_time": "2022-10-20T21:39:05.875651Z"
    },
    "hidden": true,
    "scrolled": true
   },
   "outputs": [
    {
     "data": {
      "text/plain": [
       "0    A\n",
       "1    A\n",
       "2    A\n",
       "3    A\n",
       "4    E\n",
       "5    F\n",
       "6    G\n",
       "7    H\n",
       "8    I\n",
       "9    J\n",
       "dtype: object"
      ]
     },
     "execution_count": 36,
     "metadata": {},
     "output_type": "execute_result"
    }
   ],
   "source": [
    "x.loc[0:3] = 'A'\n",
    "x"
   ]
  },
  {
   "cell_type": "markdown",
   "id": "2b14e287",
   "metadata": {
    "hidden": true
   },
   "source": [
    " "
   ]
  },
  {
   "cell_type": "markdown",
   "id": "e77bb162",
   "metadata": {
    "heading_collapsed": true,
    "hidden": true
   },
   "source": [
    "###  🐥 <font size=4>Selecionando valores de um DataFrame<font>"
   ]
  },
  {
   "cell_type": "markdown",
   "id": "ccd2450b",
   "metadata": {
    "ExecuteTime": {
     "end_time": "2022-11-18T00:49:14.580896Z",
     "start_time": "2022-11-18T00:49:14.570636Z"
    },
    "hidden": true
   },
   "source": [
    "O método loc nos possibilita selecionar linhas e colunas de um DataFrame com mais eficiência. A sintaxe do método loc para poder fazer operações com um DataFrame é:<br><br>\n",
    "\n",
    "# <center>loc [ <font color=blue>linha<font> : <font color=blue>coluna<font> <font color=black>]<font><center>"
   ]
  },
  {
   "cell_type": "markdown",
   "id": "18dfbc8a",
   "metadata": {
    "hidden": true
   },
   "source": [
    "Vamos criar um DataFrame para usar nos exemplos."
   ]
  },
  {
   "cell_type": "code",
   "execution_count": 10,
   "id": "749be06e",
   "metadata": {
    "ExecuteTime": {
     "end_time": "2022-12-19T00:19:12.070209Z",
     "start_time": "2022-12-19T00:19:12.064839Z"
    },
    "hidden": true
   },
   "outputs": [],
   "source": [
    "nomes = ['Enzo Gabriel', 'João Miguel',\n",
    "         'Luiz Felipe', 'Arthur Miguel',\n",
    "         'João Guilherme', 'Davi Luiz', \n",
    "         'Davi Lucas','João Oliveira',\n",
    "         'Davi Silva', 'Anthony Lima', \n",
    "         'Pedro Lucas', 'Luiz Miguel', \n",
    "         'João Vitor', 'Pedro Miguel']\n",
    "\n",
    "idades = [13, 19, 16, 15, \n",
    "          15, 13, 17, 18, \n",
    "          19, 11, 14, 13, \n",
    "          13, 18]\n",
    "\n",
    "sexo = ['M', 'M', 'M', 'M', \n",
    "        'M', 'M', 'M', 'M', \n",
    "        'M', 'M', 'M', 'M', \n",
    "        'M', 'M']\n",
    "\n",
    "df = pd.DataFrame({'nome':nomes, 'idade':idades, 'sex':sexo})"
   ]
  },
  {
   "cell_type": "markdown",
   "id": "d10c28c5",
   "metadata": {
    "hidden": true
   },
   "source": [
    " "
   ]
  },
  {
   "cell_type": "markdown",
   "id": "1597a51f",
   "metadata": {
    "hidden": true
   },
   "source": [
    "Sempre quando formos selecionar algo do df devemos informar quais linhas ou colunas devem ser selecionada. Se tentarmos passar só a informação da linha ou da coluna um erro será retornado."
   ]
  },
  {
   "cell_type": "code",
   "execution_count": 13,
   "id": "ec0bc4ef",
   "metadata": {
    "ExecuteTime": {
     "end_time": "2022-12-19T00:20:26.401203Z",
     "start_time": "2022-12-19T00:20:26.394550Z"
    },
    "hidden": true
   },
   "outputs": [
    {
     "data": {
      "text/plain": [
       "0     13\n",
       "1     19\n",
       "2     16\n",
       "3     15\n",
       "4     15\n",
       "5     13\n",
       "6     17\n",
       "7     18\n",
       "8     19\n",
       "9     11\n",
       "10    14\n",
       "11    13\n",
       "12    13\n",
       "13    18\n",
       "Name: idade, dtype: int64"
      ]
     },
     "execution_count": 13,
     "metadata": {},
     "output_type": "execute_result"
    }
   ],
   "source": [
    "# Selecionando uma coluna e todas as linhas\n",
    "df.loc[:,'idade']"
   ]
  },
  {
   "cell_type": "markdown",
   "id": "f43e4b37",
   "metadata": {
    "hidden": true
   },
   "source": [
    " "
   ]
  },
  {
   "cell_type": "code",
   "execution_count": 15,
   "id": "39b1dd11",
   "metadata": {
    "ExecuteTime": {
     "end_time": "2022-12-19T00:20:52.496180Z",
     "start_time": "2022-12-19T00:20:52.484087Z"
    },
    "hidden": true,
    "scrolled": true
   },
   "outputs": [
    {
     "data": {
      "text/html": [
       "<div>\n",
       "<style scoped>\n",
       "    .dataframe tbody tr th:only-of-type {\n",
       "        vertical-align: middle;\n",
       "    }\n",
       "\n",
       "    .dataframe tbody tr th {\n",
       "        vertical-align: top;\n",
       "    }\n",
       "\n",
       "    .dataframe thead th {\n",
       "        text-align: right;\n",
       "    }\n",
       "</style>\n",
       "<table border=\"1\" class=\"dataframe\">\n",
       "  <thead>\n",
       "    <tr style=\"text-align: right;\">\n",
       "      <th></th>\n",
       "      <th>nome</th>\n",
       "      <th>idade</th>\n",
       "    </tr>\n",
       "  </thead>\n",
       "  <tbody>\n",
       "    <tr>\n",
       "      <th>0</th>\n",
       "      <td>Enzo Gabriel</td>\n",
       "      <td>13</td>\n",
       "    </tr>\n",
       "    <tr>\n",
       "      <th>1</th>\n",
       "      <td>João Miguel</td>\n",
       "      <td>19</td>\n",
       "    </tr>\n",
       "    <tr>\n",
       "      <th>2</th>\n",
       "      <td>Luiz Felipe</td>\n",
       "      <td>16</td>\n",
       "    </tr>\n",
       "    <tr>\n",
       "      <th>3</th>\n",
       "      <td>Arthur Miguel</td>\n",
       "      <td>15</td>\n",
       "    </tr>\n",
       "    <tr>\n",
       "      <th>4</th>\n",
       "      <td>João Guilherme</td>\n",
       "      <td>15</td>\n",
       "    </tr>\n",
       "  </tbody>\n",
       "</table>\n",
       "</div>"
      ],
      "text/plain": [
       "             nome  idade\n",
       "0    Enzo Gabriel     13\n",
       "1     João Miguel     19\n",
       "2     Luiz Felipe     16\n",
       "3   Arthur Miguel     15\n",
       "4  João Guilherme     15"
      ]
     },
     "execution_count": 15,
     "metadata": {},
     "output_type": "execute_result"
    }
   ],
   "source": [
    "# Selecionando mais de uma coluna e somente as 5 primeiras linhas\n",
    "df.loc[:4, ['nome', 'idade']]"
   ]
  },
  {
   "cell_type": "markdown",
   "id": "05b4d0eb",
   "metadata": {
    "hidden": true
   },
   "source": [
    " "
   ]
  },
  {
   "cell_type": "markdown",
   "id": "61805e9e",
   "metadata": {
    "hidden": true
   },
   "source": [
    "Quando selecionamos apenas uma linha do DataFrame uma Series é retornado. Os nomes das colunas do df viram os indices da Series e os valores de cada coluna viram os elementos da Series."
   ]
  },
  {
   "cell_type": "code",
   "execution_count": 14,
   "id": "730559a9",
   "metadata": {
    "ExecuteTime": {
     "end_time": "2022-12-19T00:20:44.807907Z",
     "start_time": "2022-12-19T00:20:44.800525Z"
    },
    "hidden": true
   },
   "outputs": [
    {
     "data": {
      "text/plain": [
       "nome     Enzo Gabriel\n",
       "idade              13\n",
       "sex                 M\n",
       "Name: 0, dtype: object"
      ]
     },
     "execution_count": 14,
     "metadata": {},
     "output_type": "execute_result"
    }
   ],
   "source": [
    "df.loc[0,:]"
   ]
  },
  {
   "cell_type": "markdown",
   "id": "91012bd4",
   "metadata": {
    "hidden": true
   },
   "source": [
    " "
   ]
  },
  {
   "cell_type": "markdown",
   "id": "512ee4b2",
   "metadata": {
    "hidden": true
   },
   "source": [
    "Também podemos selecionar linhas e colunas especificas."
   ]
  },
  {
   "cell_type": "code",
   "execution_count": 36,
   "id": "d125c147",
   "metadata": {
    "ExecuteTime": {
     "end_time": "2022-11-20T14:44:04.366135Z",
     "start_time": "2022-11-20T14:44:04.357032Z"
    },
    "hidden": true
   },
   "outputs": [
    {
     "data": {
      "text/html": [
       "<div>\n",
       "<style scoped>\n",
       "    .dataframe tbody tr th:only-of-type {\n",
       "        vertical-align: middle;\n",
       "    }\n",
       "\n",
       "    .dataframe tbody tr th {\n",
       "        vertical-align: top;\n",
       "    }\n",
       "\n",
       "    .dataframe thead th {\n",
       "        text-align: right;\n",
       "    }\n",
       "</style>\n",
       "<table border=\"1\" class=\"dataframe\">\n",
       "  <thead>\n",
       "    <tr style=\"text-align: right;\">\n",
       "      <th></th>\n",
       "      <th>nome</th>\n",
       "      <th>sex</th>\n",
       "    </tr>\n",
       "  </thead>\n",
       "  <tbody>\n",
       "    <tr>\n",
       "      <th>0</th>\n",
       "      <td>Enzo Gabriel</td>\n",
       "      <td>M</td>\n",
       "    </tr>\n",
       "    <tr>\n",
       "      <th>5</th>\n",
       "      <td>Davi Luiz</td>\n",
       "      <td>M</td>\n",
       "    </tr>\n",
       "    <tr>\n",
       "      <th>10</th>\n",
       "      <td>Pedro Lucas</td>\n",
       "      <td>M</td>\n",
       "    </tr>\n",
       "  </tbody>\n",
       "</table>\n",
       "</div>"
      ],
      "text/plain": [
       "            nome sex\n",
       "0   Enzo Gabriel   M\n",
       "5      Davi Luiz   M\n",
       "10   Pedro Lucas   M"
      ]
     },
     "execution_count": 36,
     "metadata": {},
     "output_type": "execute_result"
    }
   ],
   "source": [
    "df.loc[[0, 5, 10], ['nome', 'sex']]"
   ]
  },
  {
   "cell_type": "markdown",
   "id": "d6472606",
   "metadata": {
    "hidden": true
   },
   "source": [
    " "
   ]
  },
  {
   "cell_type": "markdown",
   "id": "4e63bf53",
   "metadata": {
    "hidden": true
   },
   "source": [
    "Podemos selecionar um intervalo de linhas e colunas."
   ]
  },
  {
   "cell_type": "code",
   "execution_count": 17,
   "id": "552f7cc5",
   "metadata": {
    "ExecuteTime": {
     "end_time": "2022-12-19T00:22:08.616589Z",
     "start_time": "2022-12-19T00:22:08.606235Z"
    },
    "hidden": true
   },
   "outputs": [
    {
     "data": {
      "text/html": [
       "<div>\n",
       "<style scoped>\n",
       "    .dataframe tbody tr th:only-of-type {\n",
       "        vertical-align: middle;\n",
       "    }\n",
       "\n",
       "    .dataframe tbody tr th {\n",
       "        vertical-align: top;\n",
       "    }\n",
       "\n",
       "    .dataframe thead th {\n",
       "        text-align: right;\n",
       "    }\n",
       "</style>\n",
       "<table border=\"1\" class=\"dataframe\">\n",
       "  <thead>\n",
       "    <tr style=\"text-align: right;\">\n",
       "      <th></th>\n",
       "      <th>idade</th>\n",
       "      <th>sex</th>\n",
       "    </tr>\n",
       "  </thead>\n",
       "  <tbody>\n",
       "    <tr>\n",
       "      <th>5</th>\n",
       "      <td>13</td>\n",
       "      <td>M</td>\n",
       "    </tr>\n",
       "    <tr>\n",
       "      <th>6</th>\n",
       "      <td>17</td>\n",
       "      <td>M</td>\n",
       "    </tr>\n",
       "    <tr>\n",
       "      <th>7</th>\n",
       "      <td>18</td>\n",
       "      <td>M</td>\n",
       "    </tr>\n",
       "    <tr>\n",
       "      <th>8</th>\n",
       "      <td>19</td>\n",
       "      <td>M</td>\n",
       "    </tr>\n",
       "    <tr>\n",
       "      <th>9</th>\n",
       "      <td>11</td>\n",
       "      <td>M</td>\n",
       "    </tr>\n",
       "    <tr>\n",
       "      <th>10</th>\n",
       "      <td>14</td>\n",
       "      <td>M</td>\n",
       "    </tr>\n",
       "    <tr>\n",
       "      <th>11</th>\n",
       "      <td>13</td>\n",
       "      <td>M</td>\n",
       "    </tr>\n",
       "    <tr>\n",
       "      <th>12</th>\n",
       "      <td>13</td>\n",
       "      <td>M</td>\n",
       "    </tr>\n",
       "    <tr>\n",
       "      <th>13</th>\n",
       "      <td>18</td>\n",
       "      <td>M</td>\n",
       "    </tr>\n",
       "  </tbody>\n",
       "</table>\n",
       "</div>"
      ],
      "text/plain": [
       "    idade sex\n",
       "5      13   M\n",
       "6      17   M\n",
       "7      18   M\n",
       "8      19   M\n",
       "9      11   M\n",
       "10     14   M\n",
       "11     13   M\n",
       "12     13   M\n",
       "13     18   M"
      ]
     },
     "execution_count": 17,
     "metadata": {},
     "output_type": "execute_result"
    }
   ],
   "source": [
    "df.loc[5:, 'idade':]"
   ]
  },
  {
   "cell_type": "markdown",
   "id": "b1ffb24e",
   "metadata": {
    "hidden": true
   },
   "source": [
    "<br>"
   ]
  },
  {
   "cell_type": "markdown",
   "id": "22a23414",
   "metadata": {
    "heading_collapsed": true,
    "hidden": true
   },
   "source": [
    "##  👾 <font size=5>iloc<font>"
   ]
  },
  {
   "cell_type": "markdown",
   "id": "88c88e2a",
   "metadata": {
    "heading_collapsed": true,
    "hidden": true
   },
   "source": [
    "###  🐥 <font size=4>Selecionando valores de uma Series<font>"
   ]
  },
  {
   "cell_type": "markdown",
   "id": "ada698a6",
   "metadata": {
    "hidden": true
   },
   "source": [
    "O método iloc seleciona linhas e colunas por números, esta é uma boa definição para o recurso. Ou seja, por mais que uma Series tenha um index label definido o método iloc só seleciona os elementos da Series através do **range index** e também através do indice negativo. Apenas e nada mais.\n",
    "\n",
    "Vamos criar uma Series para usar nos exemplos seguintes."
   ]
  },
  {
   "cell_type": "code",
   "execution_count": 13,
   "id": "b2fbbae4",
   "metadata": {
    "ExecuteTime": {
     "end_time": "2022-11-20T14:36:18.018196Z",
     "start_time": "2022-11-20T14:36:18.011283Z"
    },
    "hidden": true
   },
   "outputs": [
    {
     "data": {
      "text/plain": [
       "10      100\n",
       "20      200\n",
       "30      300\n",
       "40      400\n",
       "50      500\n",
       "60      600\n",
       "70      700\n",
       "80      800\n",
       "90      900\n",
       "100    1000\n",
       "dtype: int64"
      ]
     },
     "execution_count": 13,
     "metadata": {},
     "output_type": "execute_result"
    }
   ],
   "source": [
    "s = pd.Series(data=[x for x in range(100, 1001, 100)],\n",
    "              index=[x for x in range(10, 101, 10)])\n",
    "s"
   ]
  },
  {
   "cell_type": "markdown",
   "id": "beff285b",
   "metadata": {
    "hidden": true
   },
   "source": [
    "\n"
   ]
  },
  {
   "cell_type": "markdown",
   "id": "085931f8",
   "metadata": {
    "hidden": true
   },
   "source": [
    "Selecionando apenas um elemento da Series."
   ]
  },
  {
   "cell_type": "code",
   "execution_count": 16,
   "id": "a8c18972",
   "metadata": {
    "ExecuteTime": {
     "end_time": "2022-11-20T14:36:41.854923Z",
     "start_time": "2022-11-20T14:36:41.849537Z"
    },
    "hidden": true
   },
   "outputs": [
    {
     "data": {
      "text/plain": [
       "100"
      ]
     },
     "execution_count": 16,
     "metadata": {},
     "output_type": "execute_result"
    }
   ],
   "source": [
    "s.iloc[0]  # no lugar o 0 poderia ser o -10"
   ]
  },
  {
   "cell_type": "markdown",
   "id": "41b5fa91",
   "metadata": {
    "hidden": true
   },
   "source": [
    " "
   ]
  },
  {
   "cell_type": "markdown",
   "id": "e19968d1",
   "metadata": {
    "hidden": true
   },
   "source": [
    "Selecioando elementos específicos da Series."
   ]
  },
  {
   "cell_type": "code",
   "execution_count": 85,
   "id": "e4c55791",
   "metadata": {
    "ExecuteTime": {
     "end_time": "2022-10-20T22:18:45.370126Z",
     "start_time": "2022-10-20T22:18:45.360848Z"
    },
    "hidden": true
   },
   "outputs": [
    {
     "data": {
      "text/plain": [
       "20    200\n",
       "30    300\n",
       "40    400\n",
       "dtype: int64"
      ]
     },
     "execution_count": 85,
     "metadata": {},
     "output_type": "execute_result"
    }
   ],
   "source": [
    "s.iloc[[1, 2, 3]]"
   ]
  },
  {
   "cell_type": "markdown",
   "id": "d8766959",
   "metadata": {
    "hidden": true
   },
   "source": [
    " "
   ]
  },
  {
   "cell_type": "markdown",
   "id": "b631211e",
   "metadata": {
    "hidden": true
   },
   "source": [
    "Selecioando um intervalo da Series."
   ]
  },
  {
   "cell_type": "code",
   "execution_count": 86,
   "id": "3f0291b6",
   "metadata": {
    "ExecuteTime": {
     "end_time": "2022-10-20T22:18:50.116026Z",
     "start_time": "2022-10-20T22:18:50.107403Z"
    },
    "hidden": true
   },
   "outputs": [
    {
     "data": {
      "text/plain": [
       "10    100\n",
       "20    200\n",
       "30    300\n",
       "40    400\n",
       "50    500\n",
       "dtype: int64"
      ]
     },
     "execution_count": 86,
     "metadata": {},
     "output_type": "execute_result"
    }
   ],
   "source": [
    "s.iloc[0:5]  # o valor que corresponde ao indice 5 não está incluso na seleção"
   ]
  },
  {
   "cell_type": "markdown",
   "id": "bfd62fae",
   "metadata": {
    "hidden": true
   },
   "source": [
    " "
   ]
  },
  {
   "cell_type": "markdown",
   "id": "b0abf780",
   "metadata": {
    "hidden": true
   },
   "source": [
    "Selecionando e trocando os elementos da Series."
   ]
  },
  {
   "cell_type": "code",
   "execution_count": 90,
   "id": "d1ed5ed0",
   "metadata": {
    "ExecuteTime": {
     "end_time": "2022-10-20T22:19:20.214859Z",
     "start_time": "2022-10-20T22:19:20.203506Z"
    },
    "hidden": true
   },
   "outputs": [
    {
     "data": {
      "text/plain": [
       "10     11111\n",
       "20       200\n",
       "30       300\n",
       "40       400\n",
       "50       500\n",
       "60     11111\n",
       "70       700\n",
       "80       800\n",
       "90     11111\n",
       "100     1000\n",
       "dtype: int64"
      ]
     },
     "execution_count": 90,
     "metadata": {},
     "output_type": "execute_result"
    }
   ],
   "source": [
    "s.iloc[[0, 5, 8]] = 11111\n",
    "s"
   ]
  },
  {
   "cell_type": "markdown",
   "id": "0da65267",
   "metadata": {
    "hidden": true
   },
   "source": [
    "<br>"
   ]
  },
  {
   "cell_type": "markdown",
   "id": "a99fda33",
   "metadata": {
    "heading_collapsed": true,
    "hidden": true
   },
   "source": [
    "###  🐥 <font size=4>Selecionando valores de um DataFrame<font>"
   ]
  },
  {
   "cell_type": "markdown",
   "id": "8d83693e",
   "metadata": {
    "hidden": true
   },
   "source": [
    "Como já sabemos o método **iloc** utiliza o indice numérico dos objetos pandas para poder selecionar um elemento ou  um conjunto de elementos. Sendo assim para selecionarmos linhas ou colunas de um DataFrame devemos utilizar os indices numéricos. Veja abaixo uma imagem sobre a esturtura do método **iloc**."
   ]
  },
  {
   "cell_type": "markdown",
   "id": "6b3a620c",
   "metadata": {
    "ExecuteTime": {
     "end_time": "2022-11-18T00:49:14.580896Z",
     "start_time": "2022-11-18T00:49:14.570636Z"
    },
    "hidden": true
   },
   "source": [
    "\n",
    "# <center>iloc [ <font color=blue>indice da linha<font> : <font color=blue>indice da coluna<font> <font color=black>]<font><center>"
   ]
  },
  {
   "cell_type": "markdown",
   "id": "b21318d7",
   "metadata": {
    "hidden": true
   },
   "source": [
    "Criando um DataFrame para usar nos exemplos."
   ]
  },
  {
   "cell_type": "code",
   "execution_count": 2,
   "id": "e69a869a",
   "metadata": {
    "ExecuteTime": {
     "end_time": "2022-12-20T15:34:01.021642Z",
     "start_time": "2022-12-20T15:34:01.017206Z"
    },
    "hidden": true
   },
   "outputs": [],
   "source": [
    "nomes = ['Enzo Gabriel', 'João Miguel',\n",
    "         'Luiz Felipe', 'Arthur Miguel',\n",
    "         'João Guilherme', 'Davi Luiz', \n",
    "         'Davi Lucas','João Oliveira',\n",
    "         'Davi Silva', 'Anthony Lima', \n",
    "         'Pedro Lucas', 'Luiz Miguel', \n",
    "         'João Vitor', 'Pedro Miguel']\n",
    "\n",
    "idades = [13, 19, 16, 15, \n",
    "          15, 13, 17, 18, \n",
    "          19, 11, 14, 13, \n",
    "          13, 18]\n",
    "\n",
    "sexo = ['M', 'M', 'M', 'M', \n",
    "        'M', 'M', 'M', 'M', \n",
    "        'M', 'M', 'M', 'M', \n",
    "        'M', 'M']\n",
    "\n",
    "df = pd.DataFrame({'idade':idades, 'sex':sexo}, index=nomes)"
   ]
  },
  {
   "cell_type": "markdown",
   "id": "66c3cbbc",
   "metadata": {
    "hidden": true
   },
   "source": [
    " "
   ]
  },
  {
   "cell_type": "markdown",
   "id": "cab88bc9",
   "metadata": {
    "hidden": true
   },
   "source": [
    "Vamos utilizar o método **iloc** para selecionar a primeira linha do DataFrame que possui o **index label**."
   ]
  },
  {
   "cell_type": "code",
   "execution_count": 16,
   "id": "9ba68c41",
   "metadata": {
    "ExecuteTime": {
     "end_time": "2022-12-20T15:39:38.100039Z",
     "start_time": "2022-12-20T15:39:38.092107Z"
    },
    "hidden": true
   },
   "outputs": [
    {
     "data": {
      "text/plain": [
       "idade    13\n",
       "sex       M\n",
       "Name: Enzo Gabriel, dtype: object"
      ]
     },
     "execution_count": 16,
     "metadata": {},
     "output_type": "execute_result"
    }
   ],
   "source": [
    "df.iloc[0]"
   ]
  },
  {
   "cell_type": "markdown",
   "id": "f7d18ab8",
   "metadata": {
    "hidden": true
   },
   "source": [
    " "
   ]
  },
  {
   "cell_type": "markdown",
   "id": "48631e5e",
   "metadata": {
    "hidden": true
   },
   "source": [
    "Selecionando linhas especificas."
   ]
  },
  {
   "cell_type": "code",
   "execution_count": 32,
   "id": "b09fc44a",
   "metadata": {
    "ExecuteTime": {
     "end_time": "2022-12-20T16:06:17.481571Z",
     "start_time": "2022-12-20T16:06:17.472097Z"
    },
    "hidden": true
   },
   "outputs": [
    {
     "data": {
      "text/html": [
       "<div>\n",
       "<style scoped>\n",
       "    .dataframe tbody tr th:only-of-type {\n",
       "        vertical-align: middle;\n",
       "    }\n",
       "\n",
       "    .dataframe tbody tr th {\n",
       "        vertical-align: top;\n",
       "    }\n",
       "\n",
       "    .dataframe thead th {\n",
       "        text-align: right;\n",
       "    }\n",
       "</style>\n",
       "<table border=\"1\" class=\"dataframe\">\n",
       "  <thead>\n",
       "    <tr style=\"text-align: right;\">\n",
       "      <th></th>\n",
       "      <th>idade</th>\n",
       "      <th>sex</th>\n",
       "    </tr>\n",
       "  </thead>\n",
       "  <tbody>\n",
       "    <tr>\n",
       "      <th>Enzo Gabriel</th>\n",
       "      <td>13</td>\n",
       "      <td>M</td>\n",
       "    </tr>\n",
       "    <tr>\n",
       "      <th>Davi Luiz</th>\n",
       "      <td>13</td>\n",
       "      <td>M</td>\n",
       "    </tr>\n",
       "    <tr>\n",
       "      <th>Davi Lucas</th>\n",
       "      <td>17</td>\n",
       "      <td>M</td>\n",
       "    </tr>\n",
       "  </tbody>\n",
       "</table>\n",
       "</div>"
      ],
      "text/plain": [
       "              idade sex\n",
       "Enzo Gabriel     13   M\n",
       "Davi Luiz        13   M\n",
       "Davi Lucas       17   M"
      ]
     },
     "execution_count": 32,
     "metadata": {},
     "output_type": "execute_result"
    }
   ],
   "source": [
    "df.iloc[[0, 5, 6]]"
   ]
  },
  {
   "cell_type": "markdown",
   "id": "70e518a2",
   "metadata": {
    "hidden": true
   },
   "source": [
    " "
   ]
  },
  {
   "cell_type": "markdown",
   "id": "82176d3e",
   "metadata": {
    "hidden": true
   },
   "source": [
    "Selecioando um intervalo de linhas."
   ]
  },
  {
   "cell_type": "code",
   "execution_count": 18,
   "id": "2c180d37",
   "metadata": {
    "ExecuteTime": {
     "end_time": "2022-12-20T15:40:25.353402Z",
     "start_time": "2022-12-20T15:40:25.345682Z"
    },
    "hidden": true
   },
   "outputs": [
    {
     "data": {
      "text/html": [
       "<div>\n",
       "<style scoped>\n",
       "    .dataframe tbody tr th:only-of-type {\n",
       "        vertical-align: middle;\n",
       "    }\n",
       "\n",
       "    .dataframe tbody tr th {\n",
       "        vertical-align: top;\n",
       "    }\n",
       "\n",
       "    .dataframe thead th {\n",
       "        text-align: right;\n",
       "    }\n",
       "</style>\n",
       "<table border=\"1\" class=\"dataframe\">\n",
       "  <thead>\n",
       "    <tr style=\"text-align: right;\">\n",
       "      <th></th>\n",
       "      <th>idade</th>\n",
       "      <th>sex</th>\n",
       "    </tr>\n",
       "  </thead>\n",
       "  <tbody>\n",
       "    <tr>\n",
       "      <th>Enzo Gabriel</th>\n",
       "      <td>13</td>\n",
       "      <td>M</td>\n",
       "    </tr>\n",
       "    <tr>\n",
       "      <th>João Miguel</th>\n",
       "      <td>19</td>\n",
       "      <td>M</td>\n",
       "    </tr>\n",
       "    <tr>\n",
       "      <th>Luiz Felipe</th>\n",
       "      <td>16</td>\n",
       "      <td>M</td>\n",
       "    </tr>\n",
       "    <tr>\n",
       "      <th>Arthur Miguel</th>\n",
       "      <td>15</td>\n",
       "      <td>M</td>\n",
       "    </tr>\n",
       "    <tr>\n",
       "      <th>João Guilherme</th>\n",
       "      <td>15</td>\n",
       "      <td>M</td>\n",
       "    </tr>\n",
       "  </tbody>\n",
       "</table>\n",
       "</div>"
      ],
      "text/plain": [
       "                idade sex\n",
       "Enzo Gabriel       13   M\n",
       "João Miguel        19   M\n",
       "Luiz Felipe        16   M\n",
       "Arthur Miguel      15   M\n",
       "João Guilherme     15   M"
      ]
     },
     "execution_count": 18,
     "metadata": {},
     "output_type": "execute_result"
    }
   ],
   "source": [
    "df.iloc[0:5]"
   ]
  },
  {
   "cell_type": "markdown",
   "id": "fdf338a2",
   "metadata": {
    "hidden": true
   },
   "source": [
    " "
   ]
  },
  {
   "cell_type": "markdown",
   "id": "4d8d3ec8",
   "metadata": {
    "hidden": true
   },
   "source": [
    "Selecionando linhas e colunas especificas."
   ]
  },
  {
   "cell_type": "code",
   "execution_count": 33,
   "id": "e83eb7a9",
   "metadata": {
    "ExecuteTime": {
     "end_time": "2022-12-20T16:45:19.362343Z",
     "start_time": "2022-12-20T16:45:19.352164Z"
    },
    "hidden": true
   },
   "outputs": [
    {
     "data": {
      "text/html": [
       "<div>\n",
       "<style scoped>\n",
       "    .dataframe tbody tr th:only-of-type {\n",
       "        vertical-align: middle;\n",
       "    }\n",
       "\n",
       "    .dataframe tbody tr th {\n",
       "        vertical-align: top;\n",
       "    }\n",
       "\n",
       "    .dataframe thead th {\n",
       "        text-align: right;\n",
       "    }\n",
       "</style>\n",
       "<table border=\"1\" class=\"dataframe\">\n",
       "  <thead>\n",
       "    <tr style=\"text-align: right;\">\n",
       "      <th></th>\n",
       "      <th>sex</th>\n",
       "    </tr>\n",
       "  </thead>\n",
       "  <tbody>\n",
       "    <tr>\n",
       "      <th>Enzo Gabriel</th>\n",
       "      <td>M</td>\n",
       "    </tr>\n",
       "    <tr>\n",
       "      <th>João Miguel</th>\n",
       "      <td>M</td>\n",
       "    </tr>\n",
       "    <tr>\n",
       "      <th>Luiz Felipe</th>\n",
       "      <td>M</td>\n",
       "    </tr>\n",
       "  </tbody>\n",
       "</table>\n",
       "</div>"
      ],
      "text/plain": [
       "             sex\n",
       "Enzo Gabriel   M\n",
       "João Miguel    M\n",
       "Luiz Felipe    M"
      ]
     },
     "execution_count": 33,
     "metadata": {},
     "output_type": "execute_result"
    }
   ],
   "source": [
    "df.iloc[[0, 1, 2], [1]]"
   ]
  },
  {
   "cell_type": "markdown",
   "id": "7e22d4e9",
   "metadata": {
    "hidden": true
   },
   "source": [
    " "
   ]
  },
  {
   "cell_type": "markdown",
   "id": "c54b6528",
   "metadata": {
    "hidden": true
   },
   "source": [
    "Selecionanddo um intervalo de linhas e apenas a primeira coluna."
   ]
  },
  {
   "cell_type": "code",
   "execution_count": 34,
   "id": "d1c13073",
   "metadata": {
    "ExecuteTime": {
     "end_time": "2022-12-20T16:45:41.487301Z",
     "start_time": "2022-12-20T16:45:41.477982Z"
    },
    "hidden": true
   },
   "outputs": [
    {
     "data": {
      "text/html": [
       "<div>\n",
       "<style scoped>\n",
       "    .dataframe tbody tr th:only-of-type {\n",
       "        vertical-align: middle;\n",
       "    }\n",
       "\n",
       "    .dataframe tbody tr th {\n",
       "        vertical-align: top;\n",
       "    }\n",
       "\n",
       "    .dataframe thead th {\n",
       "        text-align: right;\n",
       "    }\n",
       "</style>\n",
       "<table border=\"1\" class=\"dataframe\">\n",
       "  <thead>\n",
       "    <tr style=\"text-align: right;\">\n",
       "      <th></th>\n",
       "      <th>idade</th>\n",
       "    </tr>\n",
       "  </thead>\n",
       "  <tbody>\n",
       "    <tr>\n",
       "      <th>Davi Lucas</th>\n",
       "      <td>17</td>\n",
       "    </tr>\n",
       "    <tr>\n",
       "      <th>João Oliveira</th>\n",
       "      <td>18</td>\n",
       "    </tr>\n",
       "    <tr>\n",
       "      <th>Davi Silva</th>\n",
       "      <td>19</td>\n",
       "    </tr>\n",
       "    <tr>\n",
       "      <th>Anthony Lima</th>\n",
       "      <td>11</td>\n",
       "    </tr>\n",
       "    <tr>\n",
       "      <th>Pedro Lucas</th>\n",
       "      <td>14</td>\n",
       "    </tr>\n",
       "    <tr>\n",
       "      <th>Luiz Miguel</th>\n",
       "      <td>13</td>\n",
       "    </tr>\n",
       "    <tr>\n",
       "      <th>João Vitor</th>\n",
       "      <td>13</td>\n",
       "    </tr>\n",
       "    <tr>\n",
       "      <th>Pedro Miguel</th>\n",
       "      <td>18</td>\n",
       "    </tr>\n",
       "  </tbody>\n",
       "</table>\n",
       "</div>"
      ],
      "text/plain": [
       "               idade\n",
       "Davi Lucas        17\n",
       "João Oliveira     18\n",
       "Davi Silva        19\n",
       "Anthony Lima      11\n",
       "Pedro Lucas       14\n",
       "Luiz Miguel       13\n",
       "João Vitor        13\n",
       "Pedro Miguel      18"
      ]
     },
     "execution_count": 34,
     "metadata": {},
     "output_type": "execute_result"
    }
   ],
   "source": [
    "df.iloc[6:, [0]]"
   ]
  },
  {
   "cell_type": "markdown",
   "id": "8e12a8fd",
   "metadata": {
    "hidden": true
   },
   "source": [
    " "
   ]
  },
  {
   "cell_type": "markdown",
   "id": "5d17e2f3",
   "metadata": {
    "hidden": true
   },
   "source": [
    "Selecionando um intervalo de linhas e apenas a primeira e a degunda coluna."
   ]
  },
  {
   "cell_type": "code",
   "execution_count": 31,
   "id": "5575768e",
   "metadata": {
    "ExecuteTime": {
     "end_time": "2022-12-20T16:05:23.608733Z",
     "start_time": "2022-12-20T16:05:23.596716Z"
    },
    "hidden": true
   },
   "outputs": [
    {
     "data": {
      "text/html": [
       "<div>\n",
       "<style scoped>\n",
       "    .dataframe tbody tr th:only-of-type {\n",
       "        vertical-align: middle;\n",
       "    }\n",
       "\n",
       "    .dataframe tbody tr th {\n",
       "        vertical-align: top;\n",
       "    }\n",
       "\n",
       "    .dataframe thead th {\n",
       "        text-align: right;\n",
       "    }\n",
       "</style>\n",
       "<table border=\"1\" class=\"dataframe\">\n",
       "  <thead>\n",
       "    <tr style=\"text-align: right;\">\n",
       "      <th></th>\n",
       "      <th>idade</th>\n",
       "      <th>sex</th>\n",
       "    </tr>\n",
       "  </thead>\n",
       "  <tbody>\n",
       "    <tr>\n",
       "      <th>Enzo Gabriel</th>\n",
       "      <td>13</td>\n",
       "      <td>M</td>\n",
       "    </tr>\n",
       "    <tr>\n",
       "      <th>João Miguel</th>\n",
       "      <td>19</td>\n",
       "      <td>M</td>\n",
       "    </tr>\n",
       "    <tr>\n",
       "      <th>Luiz Felipe</th>\n",
       "      <td>16</td>\n",
       "      <td>M</td>\n",
       "    </tr>\n",
       "  </tbody>\n",
       "</table>\n",
       "</div>"
      ],
      "text/plain": [
       "              idade sex\n",
       "Enzo Gabriel     13   M\n",
       "João Miguel      19   M\n",
       "Luiz Felipe      16   M"
      ]
     },
     "execution_count": 31,
     "metadata": {},
     "output_type": "execute_result"
    }
   ],
   "source": [
    "df.iloc[0:3, [0, 1]]"
   ]
  },
  {
   "cell_type": "markdown",
   "id": "07dfaef3",
   "metadata": {
    "hidden": true
   },
   "source": [
    " "
   ]
  },
  {
   "cell_type": "markdown",
   "id": "7471f2c2",
   "metadata": {
    "hidden": true
   },
   "source": [
    "##  👾 <font size=5>query<font>"
   ]
  },
  {
   "cell_type": "markdown",
   "id": "afdcd962",
   "metadata": {
    "heading_collapsed": true
   },
   "source": [
    "# 🎯 Indexação booleana para Series e DataFrame"
   ]
  },
  {
   "cell_type": "markdown",
   "id": "55b016c0",
   "metadata": {
    "heading_collapsed": true,
    "hidden": true
   },
   "source": [
    "##  👾 <font size=5>Introdução<font>"
   ]
  },
  {
   "cell_type": "markdown",
   "id": "3cc4d48f",
   "metadata": {
    "hidden": true
   },
   "source": [
    "A indexação booleana é uma forma de selecionar elementos de uma Series ou um DataFrame através de condições. Para compreender melhor esse assunto eu vou dividir o estudo nos seguintes tópicos:\n",
    "\n",
    "- O que é uma mask?\n",
    "- Criando uma mask através de condições\n",
    "- Selecionando elementos através du uma condição\n",
    "- Selecionando elementos utilizando 2 ou mais condições"
   ]
  },
  {
   "cell_type": "code",
   "execution_count": 19,
   "id": "6222f5c3",
   "metadata": {
    "ExecuteTime": {
     "end_time": "2022-12-19T00:25:38.713218Z",
     "start_time": "2022-12-19T00:25:38.708938Z"
    },
    "hidden": true
   },
   "outputs": [],
   "source": [
    "# Criando uma Series e um DataFrame para usar nos exemplos\n",
    "\n",
    "nome = ['Miguel', 'Arthur', \n",
    "         'Heitor', 'Théo',\n",
    "         'Gael', 'Gabriel', \n",
    "         'Davi', 'Bernardo', \n",
    "         'Mirela', 'Sophia']\n",
    "\n",
    "idade = [12, 14, \n",
    "         15, 12, \n",
    "         13, 17, \n",
    "         16, 14, \n",
    "         15, 12]\n",
    "\n",
    "altura = [1.5, 1.7,\n",
    "          1.7, 1.6,\n",
    "          1.8, 1.9,\n",
    "          1.3, 1.8,\n",
    "          1.5, 1.6]\n",
    "\n",
    "se = pd.Series(data=idade)\n",
    "df = pd.DataFrame(data={'nome': nome, 'idade': idade, 'altura': altura})"
   ]
  },
  {
   "cell_type": "markdown",
   "id": "29859895",
   "metadata": {
    "hidden": true
   },
   "source": [
    " "
   ]
  },
  {
   "cell_type": "markdown",
   "id": "0954e60e",
   "metadata": {
    "heading_collapsed": true,
    "hidden": true
   },
   "source": [
    "### 🐥 O que é uma mask?"
   ]
  },
  {
   "cell_type": "markdown",
   "id": "913fe499",
   "metadata": {
    "hidden": true
   },
   "source": [
    "Uma mask (mascara no português) nada mais é do que um objeto composto por valores booleanos. Esse objeto pode ser uma lista, uma Series ou um DataFrame. O pandas nos possibilita usar uma mask para poder selecionar elementos de uma Series ou um DataFrame, no entanto, para isso é necessário que a mask possua o mesma quantidade de linhas que o objeto de onde os dados serão selecionados.\n",
    "\n",
    "Ou seja cada linha da mask deve corresponder a uma linha da Series ou DataFrame. Quando uma linha da mask possuir um elemento que for igual a **True** significa que a linha da Series ou do DataFrame que se encontra no mesmo indice será selecionada. E quando for igual a **False** significa que essa linha será ignorada. Vamos ver um exemplo."
   ]
  },
  {
   "cell_type": "markdown",
   "id": "ca11a338",
   "metadata": {
    "hidden": true
   },
   "source": [
    "Vamos selecionar apenas os primeiros 3 elementos da Series utilizando uma mask."
   ]
  },
  {
   "cell_type": "code",
   "execution_count": 20,
   "id": "1c95b242",
   "metadata": {
    "ExecuteTime": {
     "end_time": "2022-12-19T00:25:40.463010Z",
     "start_time": "2022-12-19T00:25:40.454849Z"
    },
    "cell_style": "center",
    "hidden": true,
    "scrolled": true
   },
   "outputs": [
    {
     "data": {
      "text/plain": [
       "0    12\n",
       "1    14\n",
       "2    15\n",
       "dtype: int64"
      ]
     },
     "execution_count": 20,
     "metadata": {},
     "output_type": "execute_result"
    }
   ],
   "source": [
    "# Criando a mask\n",
    "mask = [True, True, True, False, False, False, False, False, False, False]\n",
    "\n",
    "# Selecionando\n",
    "se[mask]\n",
    "\n",
    "# Perceba que a mask possui a mesma quantidade de linhas que a Series\n",
    "# Perceba também que cada linha selecionada corresponde a cada linha da mask que contem o elemento True\n",
    "# Já quando a linha da mask possui o elemento False a linha da Series que está na mesma posição é ignorada"
   ]
  },
  {
   "cell_type": "markdown",
   "id": "aa8eafc2",
   "metadata": {
    "hidden": true
   },
   "source": [
    " "
   ]
  },
  {
   "cell_type": "markdown",
   "id": "a01e3a2c",
   "metadata": {
    "hidden": true
   },
   "source": [
    "O mesmo raciocínio serve para selecionar as linhas de um DataFrame."
   ]
  },
  {
   "cell_type": "code",
   "execution_count": 53,
   "id": "32314219",
   "metadata": {
    "ExecuteTime": {
     "end_time": "2022-11-19T03:36:04.605940Z",
     "start_time": "2022-11-19T03:36:04.589685Z"
    },
    "hidden": true,
    "scrolled": false
   },
   "outputs": [
    {
     "data": {
      "text/html": [
       "<div>\n",
       "<style scoped>\n",
       "    .dataframe tbody tr th:only-of-type {\n",
       "        vertical-align: middle;\n",
       "    }\n",
       "\n",
       "    .dataframe tbody tr th {\n",
       "        vertical-align: top;\n",
       "    }\n",
       "\n",
       "    .dataframe thead th {\n",
       "        text-align: right;\n",
       "    }\n",
       "</style>\n",
       "<table border=\"1\" class=\"dataframe\">\n",
       "  <thead>\n",
       "    <tr style=\"text-align: right;\">\n",
       "      <th></th>\n",
       "      <th>nome</th>\n",
       "      <th>idade</th>\n",
       "      <th>altura</th>\n",
       "    </tr>\n",
       "  </thead>\n",
       "  <tbody>\n",
       "    <tr>\n",
       "      <th>0</th>\n",
       "      <td>Miguel</td>\n",
       "      <td>12</td>\n",
       "      <td>1.5</td>\n",
       "    </tr>\n",
       "    <tr>\n",
       "      <th>1</th>\n",
       "      <td>Arthur</td>\n",
       "      <td>14</td>\n",
       "      <td>1.7</td>\n",
       "    </tr>\n",
       "    <tr>\n",
       "      <th>2</th>\n",
       "      <td>Heitor</td>\n",
       "      <td>15</td>\n",
       "      <td>1.7</td>\n",
       "    </tr>\n",
       "  </tbody>\n",
       "</table>\n",
       "</div>"
      ],
      "text/plain": [
       "     nome  idade  altura\n",
       "0  Miguel     12     1.5\n",
       "1  Arthur     14     1.7\n",
       "2  Heitor     15     1.7"
      ]
     },
     "execution_count": 53,
     "metadata": {},
     "output_type": "execute_result"
    }
   ],
   "source": [
    "df[mask]"
   ]
  },
  {
   "cell_type": "markdown",
   "id": "5788bfb0",
   "metadata": {
    "hidden": true
   },
   "source": [
    " "
   ]
  },
  {
   "cell_type": "markdown",
   "id": "3715b66d",
   "metadata": {
    "hidden": true
   },
   "source": [
    "Quando possuimos uma mask que é um objeto pandas, uma Series ou DataFrame, nós podemos usar o acento __~__ para poder inverter a lógica, ou seja, todos os elementos da mask que são **True** viraram **False** e o contrário também. Resumindo, tudo aquilo que seria selecionado deixa de ser selecionado enquanto tudo aquilo que não deveria ser selecionado acaba sendo selecionado. Veja um exemplo."
   ]
  },
  {
   "cell_type": "code",
   "execution_count": 6,
   "id": "f6ccd867",
   "metadata": {
    "ExecuteTime": {
     "end_time": "2022-11-19T19:09:45.724712Z",
     "start_time": "2022-11-19T19:09:45.713596Z"
    },
    "hidden": true
   },
   "outputs": [
    {
     "data": {
      "text/plain": [
       "0    12\n",
       "1    14\n",
       "2    15\n",
       "3    12\n",
       "4    13\n",
       "7    14\n",
       "8    15\n",
       "9    12\n",
       "dtype: int64"
      ]
     },
     "execution_count": 6,
     "metadata": {},
     "output_type": "execute_result"
    }
   ],
   "source": [
    "# Convertendo a mask de lista para uma Series\n",
    "mask = pd.Series(mask)\n",
    "\n",
    "# Invertendo a mask e selecionando os elementos\n",
    "se[~mask]\n",
    "\n",
    "# Veja que os 3 primeiros itens não foram selecionados, mas sim o restante"
   ]
  },
  {
   "cell_type": "markdown",
   "id": "d3d37e5f",
   "metadata": {
    "hidden": true
   },
   "source": [
    " "
   ]
  },
  {
   "cell_type": "markdown",
   "id": "9098e8a3",
   "metadata": {
    "hidden": true
   },
   "source": [
    "Quando possuimos uma mask que é um objeto pandas (Series ou DataFrame), cada posição da mask corresponde a uma mesma posição na Series ou DataFrame no qual desejamos selecionar os dados. Ou seja, se a posição de indice 0 da mask possui o elemento **True**, o elemento da Series ou DataFrame que possui o mesmo indice será selecionado. Vamos criar uma cópia da Series para utilizar nos exemplos."
   ]
  },
  {
   "cell_type": "code",
   "execution_count": 8,
   "id": "70e11828",
   "metadata": {
    "ExecuteTime": {
     "end_time": "2022-11-21T21:25:59.024962Z",
     "start_time": "2022-11-21T21:25:59.000142Z"
    },
    "hidden": true
   },
   "outputs": [
    {
     "data": {
      "text/plain": [
       "0    12\n",
       "1    14\n",
       "2    15\n",
       "3    12\n",
       "4    13\n",
       "5    17\n",
       "6    16\n",
       "7    14\n",
       "8    15\n",
       "9    12\n",
       "dtype: int64"
      ]
     },
     "execution_count": 8,
     "metadata": {},
     "output_type": "execute_result"
    }
   ],
   "source": [
    "se_new = se.copy(deep=True)\n",
    "se_new"
   ]
  },
  {
   "cell_type": "markdown",
   "id": "03ed26f0",
   "metadata": {
    "hidden": true
   },
   "source": [
    " "
   ]
  },
  {
   "cell_type": "markdown",
   "id": "6965d187",
   "metadata": {
    "hidden": true
   },
   "source": [
    "De inicio vamos selecionar os primeiros dois elementos da Series. Pra ver que elementos são esses."
   ]
  },
  {
   "cell_type": "code",
   "execution_count": 10,
   "id": "6b5824b0",
   "metadata": {
    "ExecuteTime": {
     "end_time": "2022-11-21T21:26:28.309411Z",
     "start_time": "2022-11-21T21:26:28.299564Z"
    },
    "hidden": true
   },
   "outputs": [
    {
     "data": {
      "text/plain": [
       "0    12\n",
       "1    14\n",
       "dtype: int64"
      ]
     },
     "execution_count": 10,
     "metadata": {},
     "output_type": "execute_result"
    }
   ],
   "source": [
    "mask = pd.Series([True, True, False, False, False, False, False, False, False, False])\n",
    "\n",
    "se_new[mask]\n",
    "\n",
    "# Podemos ver que a mask possui o elemento True na posição 0 e 1\n",
    "# Podemos ver também que os elementos 12 e 14 da Series estão repectivamente nas posições 0 e 1"
   ]
  },
  {
   "cell_type": "markdown",
   "id": "6b8dd669",
   "metadata": {
    "hidden": true
   },
   "source": [
    " "
   ]
  },
  {
   "cell_type": "markdown",
   "id": "2392098c",
   "metadata": {
    "hidden": true
   },
   "source": [
    "Agora vamos mudar os indices da Series e selecionar os elementos utilizando a mesma mask."
   ]
  },
  {
   "cell_type": "code",
   "execution_count": 13,
   "id": "2a3bb0fb",
   "metadata": {
    "ExecuteTime": {
     "end_time": "2022-11-21T21:26:54.811343Z",
     "start_time": "2022-11-21T21:26:54.799448Z"
    },
    "hidden": true
   },
   "outputs": [
    {
     "data": {
      "text/plain": [
       "0    15\n",
       "1    12\n",
       "dtype: int64"
      ]
     },
     "execution_count": 13,
     "metadata": {},
     "output_type": "execute_result"
    }
   ],
   "source": [
    "se_new.index = [8, 9, 2, 3, 4, 5, 6, 7, 0, 1]\n",
    "\n",
    "se_new[mask]\n",
    "\n",
    "# Agora os elementos selecionados foram os 2 ultimos elementos\n",
    "# Isso acontceu porque agora os elementos 15 e 12 da Series é que estão respectvamente nas posições 0 e 1 "
   ]
  },
  {
   "cell_type": "markdown",
   "id": "69b874e3",
   "metadata": {
    "hidden": true
   },
   "source": [
    " "
   ]
  },
  {
   "cell_type": "markdown",
   "id": "1683e439",
   "metadata": {
    "heading_collapsed": true,
    "hidden": true
   },
   "source": [
    "### 🐥 Criando uma mask através de condições"
   ]
  },
  {
   "cell_type": "markdown",
   "id": "5db8d8f2",
   "metadata": {
    "hidden": true
   },
   "source": [
    "Para criar uma mask através de uma condição é bem simples, você cria uma condição para um objeto, pode ser uma Series ou uma coluna de um DataFrame, e essa condição vai ser testada para todos os elementos desse objeto. Após o final dessa operçação uma mask é retornada. Quando uma linha da mask possui o elemento **True** significa que o elemento do objeto que se econtra na mesma posição satifez a condição. Já quando a linha da mask possui o elemento **False** significa que esse elemento não satifez a condição. Veja o exemplo:"
   ]
  },
  {
   "cell_type": "markdown",
   "id": "4a5efeeb",
   "metadata": {
    "hidden": true
   },
   "source": [
    "Queremos saber quais elemento da Series são maiores do que 15."
   ]
  },
  {
   "cell_type": "code",
   "execution_count": 14,
   "id": "0df7ac11",
   "metadata": {
    "ExecuteTime": {
     "end_time": "2022-11-21T21:28:31.833828Z",
     "start_time": "2022-11-21T21:28:31.822570Z"
    },
    "hidden": true
   },
   "outputs": [
    {
     "data": {
      "text/plain": [
       "0    False\n",
       "1    False\n",
       "2    False\n",
       "3    False\n",
       "4    False\n",
       "5     True\n",
       "6     True\n",
       "7    False\n",
       "8    False\n",
       "9    False\n",
       "dtype: bool"
      ]
     },
     "execution_count": 14,
     "metadata": {},
     "output_type": "execute_result"
    }
   ],
   "source": [
    "mask = se > 15\n",
    "mask\n",
    "\n",
    "# Perceba que somente os elementos da Series que se encotram na posição 5 e 6 são maiores do que 15"
   ]
  },
  {
   "cell_type": "markdown",
   "id": "721ba884",
   "metadata": {
    "hidden": true
   },
   "source": [
    " "
   ]
  },
  {
   "cell_type": "markdown",
   "id": "8a005b07",
   "metadata": {
    "hidden": true
   },
   "source": [
    "Podemos usar o mesmo raciocinio para saber quais pessoas do nosso DataFrame possuem a altura igual á 1 metro e 70."
   ]
  },
  {
   "cell_type": "code",
   "execution_count": 4,
   "id": "1be6d4c5",
   "metadata": {
    "ExecuteTime": {
     "end_time": "2022-11-19T13:44:56.339668Z",
     "start_time": "2022-11-19T13:44:56.329155Z"
    },
    "cell_style": "center",
    "hidden": true
   },
   "outputs": [
    {
     "data": {
      "text/plain": [
       "0    False\n",
       "1     True\n",
       "2     True\n",
       "3    False\n",
       "4    False\n",
       "5    False\n",
       "6    False\n",
       "7    False\n",
       "8    False\n",
       "9    False\n",
       "Name: altura, dtype: bool"
      ]
     },
     "execution_count": 4,
     "metadata": {},
     "output_type": "execute_result"
    }
   ],
   "source": [
    "mask = df['altura'] == 1.7\n",
    "mask\n",
    "\n",
    "# Podemos ver que somente as pessoas que se encontram na posição 1 e 2 possuem a altura igual a 1 metro e 70 "
   ]
  },
  {
   "cell_type": "markdown",
   "id": "4d7f85b7",
   "metadata": {
    "hidden": true
   },
   "source": [
    " "
   ]
  },
  {
   "cell_type": "markdown",
   "id": "25703bd5",
   "metadata": {
    "heading_collapsed": true,
    "hidden": true
   },
   "source": [
    "### 🐥 Selecionando elementos através de uma condição"
   ]
  },
  {
   "cell_type": "markdown",
   "id": "bcd97e78",
   "metadata": {
    "hidden": true
   },
   "source": [
    "Agora que já sabemos como funciona uma mask e como cria-la através de uma condição. Podemos utilizar esse conhecimento para selecionar elementos de um Series e de um DataFrame."
   ]
  },
  {
   "cell_type": "markdown",
   "id": "a1414d58",
   "metadata": {
    "hidden": true
   },
   "source": [
    "Vamos selecionar os elementos da Series que são iguais a 15."
   ]
  },
  {
   "cell_type": "code",
   "execution_count": 15,
   "id": "7f82b4de",
   "metadata": {
    "ExecuteTime": {
     "end_time": "2022-11-21T21:29:18.016123Z",
     "start_time": "2022-11-21T21:29:18.006457Z"
    },
    "hidden": true
   },
   "outputs": [
    {
     "data": {
      "text/plain": [
       "2    15\n",
       "8    15\n",
       "dtype: int64"
      ]
     },
     "execution_count": 15,
     "metadata": {},
     "output_type": "execute_result"
    }
   ],
   "source": [
    "se[ se == 15 ]"
   ]
  },
  {
   "cell_type": "markdown",
   "id": "93af96cf",
   "metadata": {
    "hidden": true
   },
   "source": [
    " "
   ]
  },
  {
   "cell_type": "markdown",
   "id": "30cec70b",
   "metadata": {
    "hidden": true
   },
   "source": [
    "Vamos selecionar do DataFrame as pessoas que possuirem a altura menor que 1 metro e 70."
   ]
  },
  {
   "cell_type": "code",
   "execution_count": 16,
   "id": "a7e44671",
   "metadata": {
    "ExecuteTime": {
     "end_time": "2022-11-21T21:29:25.564569Z",
     "start_time": "2022-11-21T21:29:25.531325Z"
    },
    "hidden": true
   },
   "outputs": [
    {
     "data": {
      "text/html": [
       "<div>\n",
       "<style scoped>\n",
       "    .dataframe tbody tr th:only-of-type {\n",
       "        vertical-align: middle;\n",
       "    }\n",
       "\n",
       "    .dataframe tbody tr th {\n",
       "        vertical-align: top;\n",
       "    }\n",
       "\n",
       "    .dataframe thead th {\n",
       "        text-align: right;\n",
       "    }\n",
       "</style>\n",
       "<table border=\"1\" class=\"dataframe\">\n",
       "  <thead>\n",
       "    <tr style=\"text-align: right;\">\n",
       "      <th></th>\n",
       "      <th>nome</th>\n",
       "      <th>idade</th>\n",
       "      <th>altura</th>\n",
       "    </tr>\n",
       "  </thead>\n",
       "  <tbody>\n",
       "    <tr>\n",
       "      <th>0</th>\n",
       "      <td>Miguel</td>\n",
       "      <td>12</td>\n",
       "      <td>1.5</td>\n",
       "    </tr>\n",
       "    <tr>\n",
       "      <th>3</th>\n",
       "      <td>Théo</td>\n",
       "      <td>12</td>\n",
       "      <td>1.6</td>\n",
       "    </tr>\n",
       "    <tr>\n",
       "      <th>6</th>\n",
       "      <td>Davi</td>\n",
       "      <td>16</td>\n",
       "      <td>1.3</td>\n",
       "    </tr>\n",
       "    <tr>\n",
       "      <th>8</th>\n",
       "      <td>Mirela</td>\n",
       "      <td>15</td>\n",
       "      <td>1.5</td>\n",
       "    </tr>\n",
       "    <tr>\n",
       "      <th>9</th>\n",
       "      <td>Sophia</td>\n",
       "      <td>12</td>\n",
       "      <td>1.6</td>\n",
       "    </tr>\n",
       "  </tbody>\n",
       "</table>\n",
       "</div>"
      ],
      "text/plain": [
       "     nome  idade  altura\n",
       "0  Miguel     12     1.5\n",
       "3    Théo     12     1.6\n",
       "6    Davi     16     1.3\n",
       "8  Mirela     15     1.5\n",
       "9  Sophia     12     1.6"
      ]
     },
     "execution_count": 16,
     "metadata": {},
     "output_type": "execute_result"
    }
   ],
   "source": [
    "df[ df['altura']<1.7 ]"
   ]
  },
  {
   "cell_type": "markdown",
   "id": "cd60ed05",
   "metadata": {
    "hidden": true
   },
   "source": [
    " <br>"
   ]
  },
  {
   "cell_type": "markdown",
   "id": "e166338a",
   "metadata": {
    "heading_collapsed": true,
    "hidden": true
   },
   "source": [
    "###  🐥 Selecionando elementos utilizando mais de uma condição"
   ]
  },
  {
   "cell_type": "markdown",
   "id": "bd83a5a6",
   "metadata": {
    "hidden": true
   },
   "source": [
    "<br>\n",
    "Existem 2 formas de selecionar dados utilizando mais de uma condição."
   ]
  },
  {
   "cell_type": "markdown",
   "id": "0f409e7e",
   "metadata": {
    "hidden": true
   },
   "source": [
    "\n",
    "### 1° forma\n",
    "A primeira forma conciste em fazer várias filtragens, ou seja, os dados são filtrados pela primeira condição, depois pela segunda e assim até acabar todas as condições. Para essa operação utilizamos o simbolo **&** e cada condição deve estar entre parenteses."
   ]
  },
  {
   "cell_type": "markdown",
   "id": "946639e4",
   "metadata": {
    "hidden": true
   },
   "source": [
    "Vamos selecionar da Series os valores que se encontram no intervalo de 13 a 15, incluindo o 13 e o 15."
   ]
  },
  {
   "cell_type": "code",
   "execution_count": 65,
   "id": "f0b168cc",
   "metadata": {
    "ExecuteTime": {
     "end_time": "2022-11-21T22:51:16.267811Z",
     "start_time": "2022-11-21T22:51:16.254723Z"
    },
    "cell_style": "center",
    "hidden": true
   },
   "outputs": [
    {
     "data": {
      "text/plain": [
       "1    14\n",
       "2    15\n",
       "4    13\n",
       "7    14\n",
       "8    15\n",
       "dtype: int64"
      ]
     },
     "execution_count": 65,
     "metadata": {},
     "output_type": "execute_result"
    }
   ],
   "source": [
    "se[(se >= 13) & (se <= 15)] \n",
    "\n",
    "# A lógica é, os dados são filtrados pela 1° condição\n",
    "# E aqueles que conseguiram passar pela 1° condição sofrerão uma nova filtragem pela 2° condição"
   ]
  },
  {
   "cell_type": "markdown",
   "id": "427c735d",
   "metadata": {
    "ExecuteTime": {
     "end_time": "2022-11-21T22:31:01.542310Z",
     "start_time": "2022-11-21T22:31:01.533483Z"
    },
    "hidden": true
   },
   "source": [
    " "
   ]
  },
  {
   "cell_type": "markdown",
   "id": "0af679c5",
   "metadata": {
    "hidden": true
   },
   "source": [
    "Podemos usar o mesmo raciocinio num DataFrame. Vamo selecionar do DataFrame as pessoas que possuem a altura num intervalo de 130cm a 170cm. Sem contar os extremos."
   ]
  },
  {
   "cell_type": "code",
   "execution_count": 69,
   "id": "746a9cba",
   "metadata": {
    "ExecuteTime": {
     "end_time": "2022-11-21T22:59:07.162564Z",
     "start_time": "2022-11-21T22:59:07.149115Z"
    },
    "hidden": true
   },
   "outputs": [
    {
     "data": {
      "text/html": [
       "<div>\n",
       "<style scoped>\n",
       "    .dataframe tbody tr th:only-of-type {\n",
       "        vertical-align: middle;\n",
       "    }\n",
       "\n",
       "    .dataframe tbody tr th {\n",
       "        vertical-align: top;\n",
       "    }\n",
       "\n",
       "    .dataframe thead th {\n",
       "        text-align: right;\n",
       "    }\n",
       "</style>\n",
       "<table border=\"1\" class=\"dataframe\">\n",
       "  <thead>\n",
       "    <tr style=\"text-align: right;\">\n",
       "      <th></th>\n",
       "      <th>nome</th>\n",
       "      <th>idade</th>\n",
       "      <th>altura</th>\n",
       "    </tr>\n",
       "  </thead>\n",
       "  <tbody>\n",
       "    <tr>\n",
       "      <th>0</th>\n",
       "      <td>Miguel</td>\n",
       "      <td>12</td>\n",
       "      <td>1.5</td>\n",
       "    </tr>\n",
       "    <tr>\n",
       "      <th>3</th>\n",
       "      <td>Théo</td>\n",
       "      <td>12</td>\n",
       "      <td>1.6</td>\n",
       "    </tr>\n",
       "    <tr>\n",
       "      <th>8</th>\n",
       "      <td>Mirela</td>\n",
       "      <td>15</td>\n",
       "      <td>1.5</td>\n",
       "    </tr>\n",
       "    <tr>\n",
       "      <th>9</th>\n",
       "      <td>Sophia</td>\n",
       "      <td>12</td>\n",
       "      <td>1.6</td>\n",
       "    </tr>\n",
       "  </tbody>\n",
       "</table>\n",
       "</div>"
      ],
      "text/plain": [
       "     nome  idade  altura\n",
       "0  Miguel     12     1.5\n",
       "3    Théo     12     1.6\n",
       "8  Mirela     15     1.5\n",
       "9  Sophia     12     1.6"
      ]
     },
     "execution_count": 69,
     "metadata": {},
     "output_type": "execute_result"
    }
   ],
   "source": [
    "df[ (df['altura']>1.3) & (df['altura']<1.70) ]"
   ]
  },
  {
   "cell_type": "markdown",
   "id": "a6c9c711",
   "metadata": {
    "hidden": true
   },
   "source": [
    " "
   ]
  },
  {
   "cell_type": "markdown",
   "id": "894b655e",
   "metadata": {
    "hidden": true
   },
   "source": [
    "\n",
    "### 2° forma"
   ]
  },
  {
   "cell_type": "markdown",
   "id": "f499f16f",
   "metadata": {
    "hidden": true
   },
   "source": [
    "O outra forma de selecionar dados utilizando mais de uma condição funciona da seguinte forma, todas as condições são aplicadas aos dados e depois os retornos das condições serão concatenados. Ou seja, a primeira condição é aplicada, depois a segunda, depois a enesima e no final o retorno de cada condição serão concatenados.  Para esse tipo de operação utilizamos o simbolo **|**."
   ]
  },
  {
   "cell_type": "markdown",
   "id": "955453cc",
   "metadata": {
    "hidden": true
   },
   "source": [
    "Vamos selecionar da Series os valores menores que 13 ou maiores que 15."
   ]
  },
  {
   "cell_type": "code",
   "execution_count": 30,
   "id": "34d18f14",
   "metadata": {
    "ExecuteTime": {
     "end_time": "2022-12-19T00:36:36.682982Z",
     "start_time": "2022-12-19T00:36:36.674998Z"
    },
    "hidden": true
   },
   "outputs": [
    {
     "data": {
      "text/plain": [
       "0    12\n",
       "3    12\n",
       "5    17\n",
       "6    16\n",
       "9    12\n",
       "dtype: int64"
      ]
     },
     "execution_count": 30,
     "metadata": {},
     "output_type": "execute_result"
    }
   ],
   "source": [
    "se[(se < 13) | (se > 15)]\n",
    "\n",
    "# A lógica é, a primeira condição é aplicada e depois a segunda condição é aplicada. \n",
    "# Cada condição é aplicada diretamente no objeto no qual serão extraido os dados.\n",
    "# No final o retorno de cada condição serão agrupados e concatenados."
   ]
  },
  {
   "cell_type": "markdown",
   "id": "a8cad51d",
   "metadata": {
    "hidden": true
   },
   "source": [
    " "
   ]
  },
  {
   "cell_type": "markdown",
   "id": "73c8672a",
   "metadata": {
    "hidden": true
   },
   "source": [
    "Podemos usar o mesmo raciocinio num DataFrame. Vamo selecionar do DataFrame as pessoas que possuem a altura menor que 150cm ou maior que 170cm."
   ]
  },
  {
   "cell_type": "code",
   "execution_count": 31,
   "id": "bb3cfcd9",
   "metadata": {
    "ExecuteTime": {
     "end_time": "2022-12-19T00:36:41.790858Z",
     "start_time": "2022-12-19T00:36:41.773485Z"
    },
    "hidden": true
   },
   "outputs": [
    {
     "data": {
      "text/html": [
       "<div>\n",
       "<style scoped>\n",
       "    .dataframe tbody tr th:only-of-type {\n",
       "        vertical-align: middle;\n",
       "    }\n",
       "\n",
       "    .dataframe tbody tr th {\n",
       "        vertical-align: top;\n",
       "    }\n",
       "\n",
       "    .dataframe thead th {\n",
       "        text-align: right;\n",
       "    }\n",
       "</style>\n",
       "<table border=\"1\" class=\"dataframe\">\n",
       "  <thead>\n",
       "    <tr style=\"text-align: right;\">\n",
       "      <th></th>\n",
       "      <th>nome</th>\n",
       "      <th>idade</th>\n",
       "      <th>altura</th>\n",
       "    </tr>\n",
       "  </thead>\n",
       "  <tbody>\n",
       "    <tr>\n",
       "      <th>4</th>\n",
       "      <td>Gael</td>\n",
       "      <td>13</td>\n",
       "      <td>1.8</td>\n",
       "    </tr>\n",
       "    <tr>\n",
       "      <th>5</th>\n",
       "      <td>Gabriel</td>\n",
       "      <td>17</td>\n",
       "      <td>1.9</td>\n",
       "    </tr>\n",
       "    <tr>\n",
       "      <th>6</th>\n",
       "      <td>Davi</td>\n",
       "      <td>16</td>\n",
       "      <td>1.3</td>\n",
       "    </tr>\n",
       "    <tr>\n",
       "      <th>7</th>\n",
       "      <td>Bernardo</td>\n",
       "      <td>14</td>\n",
       "      <td>1.8</td>\n",
       "    </tr>\n",
       "  </tbody>\n",
       "</table>\n",
       "</div>"
      ],
      "text/plain": [
       "       nome  idade  altura\n",
       "4      Gael     13     1.8\n",
       "5   Gabriel     17     1.9\n",
       "6      Davi     16     1.3\n",
       "7  Bernardo     14     1.8"
      ]
     },
     "execution_count": 31,
     "metadata": {},
     "output_type": "execute_result"
    }
   ],
   "source": [
    "df[ (df['altura']<1.5) | (df['altura']>1.7)]"
   ]
  },
  {
   "cell_type": "markdown",
   "id": "fbb2069d",
   "metadata": {
    "hidden": true
   },
   "source": [
    "<br>"
   ]
  },
  {
   "cell_type": "markdown",
   "id": "7726ea8a",
   "metadata": {
    "ExecuteTime": {
     "end_time": "2022-11-17T22:15:20.657076Z",
     "start_time": "2022-11-17T22:15:20.651374Z"
    },
    "heading_collapsed": true,
    "hidden": true
   },
   "source": [
    "##  👾 <font size=5>Indexação booleana com loc<font>"
   ]
  },
  {
   "cell_type": "markdown",
   "id": "39f8c761",
   "metadata": {
    "hidden": true
   },
   "source": [
    "Utilizar o loc para selecionar linhas de uma Series ou DataFrame com base em condições é praticamente igual ao que ja vimos no tópico anterior, o que muda mesmo é simplismente a sintaxe."
   ]
  },
  {
   "cell_type": "code",
   "execution_count": 73,
   "id": "6f21d72a",
   "metadata": {
    "ExecuteTime": {
     "end_time": "2022-12-19T01:09:46.508411Z",
     "start_time": "2022-12-19T01:09:46.502301Z"
    },
    "hidden": true
   },
   "outputs": [],
   "source": [
    "# Criando uma Series e um DataFrame para usar nos exemplos\n",
    "\n",
    "codigo_uf = [11, 12, 13, 14, 15, 16, 17,\n",
    "             21, 22, 23, 24, 25, 26, 27, \n",
    "             28, 29, 31, 32, 33, 35, 41,\n",
    "             42, 43, 50, 51, 52, 53]\n",
    "\n",
    "uf = ['RO', 'AC', 'AM', 'RR', 'PA', 'AP', 'TO', \n",
    "      'MA', 'PI', 'CE', 'RN', 'PB', 'PE', 'AL', \n",
    "      'SE', 'BA', 'MG', 'ES', 'RJ', 'SP', 'PR',\n",
    "      'SC', 'RS', 'MS', 'MT', 'GO', 'DF']\n",
    "\n",
    "unidade_da_federacao = ['Rondônia', 'Acre', 'Amazonas', 'Roraima', 'Pará', 'Amapá', 'Tocantins', 'Maranhão', \n",
    "                        'Piauí', 'Ceará', 'Rio Grande do Norte', 'Paraíba', 'Pernambuco', 'Alagoas', 'Sergipe', \n",
    "                        'Bahia', 'Minas Gerais', 'Espírito Santo', 'Rio de Janeiro', 'São Paulo', 'Paraná', \n",
    "                        'Santa Catarina', 'Rio Grande do Sul (*)', 'Mato Grosso do Sul', 'Mato Grosso', 'Goiás',\n",
    "                        'Distrito Federal']\n",
    "\n",
    "se = pd.Series(codigo_uf)\n",
    "df = pd.DataFrame({'codigo_uf': codigo_uf, 'unidade_da_federacao': unidade_da_federacao, 'uf': uf})"
   ]
  },
  {
   "cell_type": "markdown",
   "id": "e85cb042",
   "metadata": {
    "hidden": true
   },
   "source": [
    " "
   ]
  },
  {
   "cell_type": "markdown",
   "id": "3aedd367",
   "metadata": {
    "heading_collapsed": true,
    "hidden": true
   },
   "source": [
    "###  🐥 <font size=4>Indexação com uma condição<font>"
   ]
  },
  {
   "cell_type": "code",
   "execution_count": 50,
   "id": "62ee8efb",
   "metadata": {
    "ExecuteTime": {
     "end_time": "2022-12-19T00:43:20.090442Z",
     "start_time": "2022-12-19T00:43:20.076306Z"
    },
    "hidden": true
   },
   "outputs": [
    {
     "data": {
      "text/html": [
       "<div>\n",
       "<style scoped>\n",
       "    .dataframe tbody tr th:only-of-type {\n",
       "        vertical-align: middle;\n",
       "    }\n",
       "\n",
       "    .dataframe tbody tr th {\n",
       "        vertical-align: top;\n",
       "    }\n",
       "\n",
       "    .dataframe thead th {\n",
       "        text-align: right;\n",
       "    }\n",
       "</style>\n",
       "<table border=\"1\" class=\"dataframe\">\n",
       "  <thead>\n",
       "    <tr style=\"text-align: right;\">\n",
       "      <th></th>\n",
       "      <th>nome</th>\n",
       "      <th>idade</th>\n",
       "      <th>altura</th>\n",
       "    </tr>\n",
       "  </thead>\n",
       "  <tbody>\n",
       "    <tr>\n",
       "      <th>0</th>\n",
       "      <td>Miguel</td>\n",
       "      <td>12</td>\n",
       "      <td>1.5</td>\n",
       "    </tr>\n",
       "    <tr>\n",
       "      <th>1</th>\n",
       "      <td>Arthur</td>\n",
       "      <td>14</td>\n",
       "      <td>1.7</td>\n",
       "    </tr>\n",
       "    <tr>\n",
       "      <th>3</th>\n",
       "      <td>Théo</td>\n",
       "      <td>12</td>\n",
       "      <td>1.6</td>\n",
       "    </tr>\n",
       "    <tr>\n",
       "      <th>4</th>\n",
       "      <td>Gael</td>\n",
       "      <td>13</td>\n",
       "      <td>1.8</td>\n",
       "    </tr>\n",
       "    <tr>\n",
       "      <th>7</th>\n",
       "      <td>Bernardo</td>\n",
       "      <td>14</td>\n",
       "      <td>1.8</td>\n",
       "    </tr>\n",
       "    <tr>\n",
       "      <th>9</th>\n",
       "      <td>Sophia</td>\n",
       "      <td>12</td>\n",
       "      <td>1.6</td>\n",
       "    </tr>\n",
       "  </tbody>\n",
       "</table>\n",
       "</div>"
      ],
      "text/plain": [
       "       nome  idade  altura\n",
       "0    Miguel     12     1.5\n",
       "1    Arthur     14     1.7\n",
       "3      Théo     12     1.6\n",
       "4      Gael     13     1.8\n",
       "7  Bernardo     14     1.8\n",
       "9    Sophia     12     1.6"
      ]
     },
     "execution_count": 50,
     "metadata": {},
     "output_type": "execute_result"
    }
   ],
   "source": [
    "df.loc[df['idade'] < 15]"
   ]
  },
  {
   "cell_type": "markdown",
   "id": "e684fc44",
   "metadata": {
    "heading_collapsed": true,
    "hidden": true
   },
   "source": [
    "###  🐥 <font size=4>Indexação com mais de uma condição<font>"
   ]
  },
  {
   "cell_type": "code",
   "execution_count": 52,
   "id": "5594c973",
   "metadata": {
    "ExecuteTime": {
     "end_time": "2022-12-19T00:44:31.752463Z",
     "start_time": "2022-12-19T00:44:31.741017Z"
    },
    "hidden": true
   },
   "outputs": [
    {
     "data": {
      "text/html": [
       "<div>\n",
       "<style scoped>\n",
       "    .dataframe tbody tr th:only-of-type {\n",
       "        vertical-align: middle;\n",
       "    }\n",
       "\n",
       "    .dataframe tbody tr th {\n",
       "        vertical-align: top;\n",
       "    }\n",
       "\n",
       "    .dataframe thead th {\n",
       "        text-align: right;\n",
       "    }\n",
       "</style>\n",
       "<table border=\"1\" class=\"dataframe\">\n",
       "  <thead>\n",
       "    <tr style=\"text-align: right;\">\n",
       "      <th></th>\n",
       "      <th>nome</th>\n",
       "      <th>idade</th>\n",
       "      <th>altura</th>\n",
       "    </tr>\n",
       "  </thead>\n",
       "  <tbody>\n",
       "    <tr>\n",
       "      <th>0</th>\n",
       "      <td>Miguel</td>\n",
       "      <td>12</td>\n",
       "      <td>1.5</td>\n",
       "    </tr>\n",
       "    <tr>\n",
       "      <th>2</th>\n",
       "      <td>Heitor</td>\n",
       "      <td>15</td>\n",
       "      <td>1.7</td>\n",
       "    </tr>\n",
       "    <tr>\n",
       "      <th>8</th>\n",
       "      <td>Mirela</td>\n",
       "      <td>15</td>\n",
       "      <td>1.5</td>\n",
       "    </tr>\n",
       "  </tbody>\n",
       "</table>\n",
       "</div>"
      ],
      "text/plain": [
       "     nome  idade  altura\n",
       "0  Miguel     12     1.5\n",
       "2  Heitor     15     1.7\n",
       "8  Mirela     15     1.5"
      ]
     },
     "execution_count": 52,
     "metadata": {},
     "output_type": "execute_result"
    }
   ],
   "source": [
    "df.loc[(df['idade'] == 15) | (df['altura'] == 1.5)]"
   ]
  }
 ],
 "metadata": {
  "kernelspec": {
   "display_name": "Python 3 (ipykernel)",
   "language": "python",
   "name": "python3"
  },
  "language_info": {
   "codemirror_mode": {
    "name": "ipython",
    "version": 3
   },
   "file_extension": ".py",
   "mimetype": "text/x-python",
   "name": "python",
   "nbconvert_exporter": "python",
   "pygments_lexer": "ipython3",
   "version": "3.11.1"
  },
  "varInspector": {
   "cols": {
    "lenName": 16,
    "lenType": 16,
    "lenVar": 40
   },
   "kernels_config": {
    "python": {
     "delete_cmd_postfix": "",
     "delete_cmd_prefix": "del ",
     "library": "var_list.py",
     "varRefreshCmd": "print(var_dic_list())"
    },
    "r": {
     "delete_cmd_postfix": ") ",
     "delete_cmd_prefix": "rm(",
     "library": "var_list.r",
     "varRefreshCmd": "cat(var_dic_list()) "
    }
   },
   "types_to_exclude": [
    "module",
    "function",
    "builtin_function_or_method",
    "instance",
    "_Feature"
   ],
   "window_display": false
  },
  "vscode": {
   "interpreter": {
    "hash": "4dc6d04b23184f23f5711ec8e9fc9238b6ca8ea6896f8eb919a5bfe24d33fc7c"
   }
  }
 },
 "nbformat": 4,
 "nbformat_minor": 5
}
