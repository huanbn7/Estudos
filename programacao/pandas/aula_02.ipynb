{
 "cells": [
  {
   "cell_type": "code",
   "execution_count": 1,
   "id": "84d66f71",
   "metadata": {
    "ExecuteTime": {
     "end_time": "2023-01-22T13:51:05.176792Z",
     "start_time": "2023-01-22T13:51:05.013148Z"
    }
   },
   "outputs": [],
   "source": [
    "import pandas as pd\n",
    "import random as rd"
   ]
  },
  {
   "cell_type": "markdown",
   "id": "1437442c",
   "metadata": {
    "heading_collapsed": true
   },
   "source": [
    "# 🎯 Conceito de Series e DataFrame"
   ]
  },
  {
   "cell_type": "markdown",
   "id": "e02565d8",
   "metadata": {
    "ExecuteTime": {
     "end_time": "2022-10-14T18:30:23.316236Z",
     "start_time": "2022-10-14T18:30:23.311835Z"
    },
    "heading_collapsed": true,
    "hidden": true
   },
   "source": [
    "##  👾 <font size=5>Series<font>"
   ]
  },
  {
   "cell_type": "markdown",
   "id": "36ce49a7",
   "metadata": {
    "hidden": true
   },
   "source": [
    "<br>\n",
    "Series é uma matriz rotulada unidimensional que pode receber diversos tipos dados como entrada, por exemplo, str, bool, int, float, uma lista, um 1D np.ndarray, alguns objetos python e etc. <br>\n",
    "\n",
    "**Obs**: Dentro de uma Series pode haver uma salada de dados, no entanto vale ressalatar que o pandas é implementado usando o numpy, então se você colocar uma salada mista de dados dentro uma Series ela acabará perdendo performace e muitas das suas vantangens.<br><br>\n",
    "\n",
    "<img src='https://pythonru.com/wp-content/uploads/2020/05/struktura-obekta-series.png' style='float:left'>"
   ]
  },
  {
   "cell_type": "markdown",
   "id": "43961164",
   "metadata": {
    "heading_collapsed": true,
    "hidden": true
   },
   "source": [
    "## 👾  <font size=5>DataFrame<font>"
   ]
  },
  {
   "cell_type": "markdown",
   "id": "d837a5ac",
   "metadata": {
    "hidden": true
   },
   "source": [
    "<br>\n",
    "O DataFrame é uma estrutura de dados tabular, semelhante a planilha de dados do Excel, essa estrutrura conciste em três componentes principais, os dados, linhas e colunas, onde as linhas e colunas possuem rotulos.<br>\n",
    "\n",
    "Olhando para a estrutura do DataFrame vamos perceber que ele é a junção de duas ou mais Series, ou seja, cada coluna de um _**DataFrame**_ é uma _**Series**_, veja.<br><br>\n",
    "\n",
    "\n",
    "![S](https://www.datasciencemadesimple.com/wp-content/uploads/2020/05/create-series-in-python-pandas-0.png)\n",
    "\n",
    "<br><br>\n",
    "\n",
    "Os dados que compoem cada coluna de um DataFrame podem ser variados, ou seja, uma coluna pode conter vários tipos de dados, como por exemplo, int e object. No entanto como o pandas  é implementado usando o numpy, isso fará o DataFrame perder performance e muitas das suas vantagens.<br>\n",
    "\n",
    "Alguns dados de entrada para a criação de um DataFrame são: Dict, listas, Series, np.ndarray de 1D ou 2D , outro DataFrame e muito mais ...<br>\n",
    "\n",
    "Um DataFrame pode ter seu tamanho mudado, através da exclusão ou inserção de linhas ou colunas.\n"
   ]
  },
  {
   "cell_type": "markdown",
   "id": "c4441464",
   "metadata": {
    "heading_collapsed": true
   },
   "source": [
    "# 🎯 Criando uma Series e um DataFrame"
   ]
  },
  {
   "cell_type": "markdown",
   "id": "802efab6",
   "metadata": {
    "heading_collapsed": true,
    "hidden": true
   },
   "source": [
    "## 👾 <font size=5>Series<font>"
   ]
  },
  {
   "cell_type": "markdown",
   "id": "8f2568a0",
   "metadata": {
    "hidden": true
   },
   "source": [
    "<br>\n",
    "Os parametros para a criação de uma Series estão logo abaixo junto com a explicação de cada um. \n",
    "\n",
    "No entanto caso você queira beber da fonte o link está [aqui](https://pandas.pydata.org/docs/reference/api/pandas.Series.html?highlight=pandas%20series#pandas.Series).<br><br>\n",
    "\n",
    "### <font color=purple>_pandas.Series (_<font>\n",
    "<br>\n",
    "\n",
    "**data** =  None<br> \n",
    "**index** =  None<br>\n",
    "**dtype** =  None<br>\n",
    "**name** =  None<br>\n",
    "**copy** =  False<br>\n",
    "\n",
    "### <font color=purple>_)_<font>\n",
    "<br>"
   ]
  },
  {
   "cell_type": "markdown",
   "id": "7ea68eeb",
   "metadata": {
    "hidden": true
   },
   "source": [
    "\n",
    "### <font color=purple>data : array-like, Iterable, dict, or scalar value<font>"
   ]
  },
  {
   "cell_type": "markdown",
   "id": "da748de7",
   "metadata": {
    "hidden": true
   },
   "source": [
    "O parâmetro data recebe um objeto python que será transformado em uma Series. Esse objeto pode ser uma iterable, um dicionário, um int, uma str, etc.\n",
    "\n",
    "Quando você for passar ao parâmetro **data** alguma iterable, é bom lembrar que o pandas utiliza o numpy por baixo do capor, por isso passar uma iterable com elementos que possuem tipos de dados diferentes fará com que você tenha uma Series pouco performática. Você pode até criar uma Series que contém uma salada mista de dados, mas o ideal é utilizar apenas um tipo de dado."
   ]
  },
  {
   "cell_type": "markdown",
   "id": "f8b260a4",
   "metadata": {
    "hidden": true
   },
   "source": [
    " "
   ]
  },
  {
   "cell_type": "markdown",
   "id": "25d53ba7",
   "metadata": {
    "hidden": true
   },
   "source": [
    "Agora vamos criar uma Series a partir de uma lista e também apartir de um valor do tipo int."
   ]
  },
  {
   "cell_type": "code",
   "execution_count": 2,
   "id": "c3de69c8",
   "metadata": {
    "ExecuteTime": {
     "end_time": "2022-12-17T03:41:52.444798Z",
     "start_time": "2022-12-17T03:41:52.440313Z"
    },
    "hidden": true
   },
   "outputs": [
    {
     "name": "stdout",
     "output_type": "stream",
     "text": [
      "--se1-- \n",
      "0    A\n",
      "1    B\n",
      "2    C\n",
      "3    D\n",
      "dtype: object\n",
      "\n",
      "\n",
      "--se2-- \n",
      "0    2\n",
      "dtype: int64\n"
     ]
    }
   ],
   "source": [
    "se1 = pd.Series(data=['A', 'B', 'C', 'D'])\n",
    "print(f'--se1-- \\n{se1}')\n",
    "\n",
    "print('\\n')\n",
    "\n",
    "se2 = pd.Series(data=2)\n",
    "print(f'--se2-- \\n{se2}')"
   ]
  },
  {
   "cell_type": "markdown",
   "id": "257752cc",
   "metadata": {
    "hidden": true
   },
   "source": [
    " <br>"
   ]
  },
  {
   "cell_type": "markdown",
   "id": "c519be6d",
   "metadata": {
    "hidden": true
   },
   "source": [
    "Criando uma Series que contém uma salada mista de dados."
   ]
  },
  {
   "cell_type": "code",
   "execution_count": 5,
   "id": "751d29d9",
   "metadata": {
    "ExecuteTime": {
     "end_time": "2022-10-20T21:27:34.013833Z",
     "start_time": "2022-10-20T21:27:34.008401Z"
    },
    "hidden": true
   },
   "outputs": [
    {
     "data": {
      "text/plain": [
       "0    Audax\n",
       "1       18\n",
       "2     1.81\n",
       "3        M\n",
       "4     True\n",
       "dtype: object"
      ]
     },
     "execution_count": 5,
     "metadata": {},
     "output_type": "execute_result"
    }
   ],
   "source": [
    "se = pd.Series(data=['Audax', 18, 1.81, 'M', True])\n",
    "se"
   ]
  },
  {
   "cell_type": "markdown",
   "id": "6104655a",
   "metadata": {
    "hidden": true
   },
   "source": [
    " <br>"
   ]
  },
  {
   "cell_type": "markdown",
   "id": "22206585",
   "metadata": {
    "hidden": true
   },
   "source": [
    "Quando criamos uma Series a partir de um dicionário, as chaves do dicionário se tornarão os indices da Series e os valores da chaves se tornarão os elementos da Series. Mais adiante falaremos melhor sobre como funciona os indices de uma Series."
   ]
  },
  {
   "cell_type": "code",
   "execution_count": 6,
   "id": "90d14d6b",
   "metadata": {
    "ExecuteTime": {
     "end_time": "2022-10-20T21:27:34.020076Z",
     "start_time": "2022-10-20T21:27:34.015413Z"
    },
    "hidden": true
   },
   "outputs": [
    {
     "data": {
      "text/plain": [
       "Nome         Audax\n",
       "Idade           18\n",
       "Sexo     Masculino\n",
       "dtype: object"
      ]
     },
     "execution_count": 6,
     "metadata": {},
     "output_type": "execute_result"
    }
   ],
   "source": [
    "dicionario = {\n",
    "    'Nome': 'Audax',\n",
    "    'Idade': 18,\n",
    "    'Sexo': 'Masculino'\n",
    "}\n",
    "\n",
    "se = pd.Series(data=dicionario)\n",
    "se"
   ]
  },
  {
   "cell_type": "markdown",
   "id": "2ff5a4f4",
   "metadata": {
    "hidden": true
   },
   "source": [
    " <br> "
   ]
  },
  {
   "cell_type": "markdown",
   "id": "f092b8c7",
   "metadata": {
    "hidden": true
   },
   "source": [
    "\n",
    "### <font color=purple>index : array-like or Index (1d) <font>"
   ]
  },
  {
   "cell_type": "markdown",
   "id": "b4e730dd",
   "metadata": {
    "hidden": true
   },
   "source": [
    "Antes de tudo precisamos entender como os indices de uma Series funciona. \n",
    "\n",
    "Uma Series tem 3 tipos de indices: \n",
    "\n",
    "**Indice negativo:** São valores negativos usados para representar os índices de uma Series. Para entendermos como isso acontece, o último elemento fica na posição -1, o penúltimo fica na posição -2, o antepenúltimo, na posição -3 e assim por diante. \n",
    "\n",
    "\n",
    "**Indice padrão:** Funciona como parecido como os indices de uma lista. O primeiro elemento tem indice 0, o segundo tem indice 1 e assim por diante. O que difere esse indice do indice de uma lista é a maneira como ele é armazenado na memória, mais para frente veremos esse assunto.\n",
    "\n",
    "\n",
    "**Index label:** Quando você defini os indices da uma Series ou DataFrame você está trabalhando com o index label (no português rótulo de indice). É possivel alterá-los sempre que necessário. "
   ]
  },
  {
   "cell_type": "markdown",
   "id": "7b368562",
   "metadata": {
    "hidden": true
   },
   "source": [
    "---"
   ]
  },
  {
   "cell_type": "markdown",
   "id": "c5855982",
   "metadata": {
    "hidden": true
   },
   "source": [
    "Nesse primeiro momento não iremos ver como selecionar elementos ou fatias de uma Series. Apena iresmo aprender como definir os indices de uma Series."
   ]
  },
  {
   "cell_type": "markdown",
   "id": "1ee13ed6",
   "metadata": {
    "hidden": true
   },
   "source": [
    "---"
   ]
  },
  {
   "cell_type": "markdown",
   "id": "c1eadd64",
   "metadata": {
    "hidden": true
   },
   "source": [
    "O parâmetro **index** serve para definir o indice de uma Series. Você passa uma lista com o mesmo tamanho que o objeto passado ao parâmetro **data**, composta por qualquer tipo de dado, desde que esses dados sejam [hashable](https://stackoverflow.com/questions/14535730/what-does-hashable-mean-in-python). Quando não definimos o index label, a Series adota por padrão o RangeIndex (0, 1, 2, …, n)."
   ]
  },
  {
   "cell_type": "code",
   "execution_count": 3,
   "id": "d656d8d0",
   "metadata": {
    "ExecuteTime": {
     "end_time": "2022-12-17T03:51:38.606809Z",
     "start_time": "2022-12-17T03:51:38.591210Z"
    },
    "hidden": true
   },
   "outputs": [
    {
     "data": {
      "text/plain": [
       "0      Audax\n",
       "1     Netuno\n",
       "2    Ciclope\n",
       "dtype: object"
      ]
     },
     "execution_count": 3,
     "metadata": {},
     "output_type": "execute_result"
    }
   ],
   "source": [
    "# Criando uma Series com o RangeIndex\n",
    "\n",
    "se = pd.Series(data=['Audax', 'Netuno', 'Ciclope'])\n",
    "se"
   ]
  },
  {
   "cell_type": "code",
   "execution_count": 8,
   "id": "48116c6b",
   "metadata": {
    "ExecuteTime": {
     "end_time": "2022-10-20T21:27:34.033672Z",
     "start_time": "2022-10-20T21:27:34.028227Z"
    },
    "hidden": true
   },
   "outputs": [
    {
     "data": {
      "text/plain": [
       "nome1      Audax\n",
       "nome2     Netuno\n",
       "nome3    Ciclope\n",
       "dtype: object"
      ]
     },
     "execution_count": 8,
     "metadata": {},
     "output_type": "execute_result"
    }
   ],
   "source": [
    "# Criando uma Series e definindo o index label\n",
    "se = pd.Series(data=['Audax', 'Netuno', 'Ciclope'],\n",
    "               index=['nome1', 'nome2', 'nome3'])\n",
    "se"
   ]
  },
  {
   "cell_type": "code",
   "execution_count": 9,
   "id": "67ed8ffc",
   "metadata": {
    "ExecuteTime": {
     "end_time": "2022-10-20T21:27:34.039899Z",
     "start_time": "2022-10-20T21:27:34.035323Z"
    },
    "hidden": true
   },
   "outputs": [
    {
     "data": {
      "text/plain": [
       "nome1      Audax\n",
       "2.5       Netuno\n",
       "2        Ciclope\n",
       "True       Spike\n",
       "dtype: object"
      ]
     },
     "execution_count": 9,
     "metadata": {},
     "output_type": "execute_result"
    }
   ],
   "source": [
    "# Definindo um index label muito louco\n",
    "se = pd.Series(data=['Audax', 'Netuno', 'Ciclope', 'Spike'],\n",
    "               index=['nome1', 2.5, 2, True])\n",
    "se"
   ]
  },
  {
   "cell_type": "markdown",
   "id": "641357c0",
   "metadata": {
    "hidden": true
   },
   "source": [
    " <br>"
   ]
  },
  {
   "cell_type": "markdown",
   "id": "39dea845",
   "metadata": {
    "hidden": true
   },
   "source": [
    "É importante lembrar que é possivel usar o indice negativo e o indice padrão para selecionar elementos mesmo após o index label ser definido, menos quando o index label for definido por valores do tipo int ou float. Nesse caso o index label meio que sobrescrevece os outros tipos de indices."
   ]
  },
  {
   "cell_type": "code",
   "execution_count": 4,
   "id": "80221553",
   "metadata": {
    "ExecuteTime": {
     "end_time": "2022-12-17T03:56:43.057577Z",
     "start_time": "2022-12-17T03:56:43.041971Z"
    },
    "hidden": true
   },
   "outputs": [
    {
     "data": {
      "text/plain": [
       "-2.0       Audax\n",
       " 13.3     Netuno\n",
       " 10.0    Ciclope\n",
       " 0.0       Spike\n",
       "dtype: object"
      ]
     },
     "execution_count": 4,
     "metadata": {},
     "output_type": "execute_result"
    }
   ],
   "source": [
    "# Definindo um index label com valores numericos, mas que não remete ao RangeIndex(0, 1, 2, ..., n)\n",
    "se = pd.Series(data=['Audax', 'Netuno', 'Ciclope',\n",
    "               'Spike'], index=[-2, 13.3, 10, 0])\n",
    "se"
   ]
  },
  {
   "cell_type": "markdown",
   "id": "efb4c27c",
   "metadata": {
    "hidden": true
   },
   "source": [
    " <br>"
   ]
  },
  {
   "cell_type": "markdown",
   "id": "2bc48010",
   "metadata": {
    "hidden": true
   },
   "source": [
    "Parece meio estranho, mas podemos ter valores de índices iguais, quando buscamos pelo indice, ele tráz todos os elementos 'apontados' por aquele indice (todas as linhas que tem referência daquele índice)."
   ]
  },
  {
   "cell_type": "code",
   "execution_count": 11,
   "id": "427da041",
   "metadata": {
    "ExecuteTime": {
     "end_time": "2022-10-20T21:27:34.057355Z",
     "start_time": "2022-10-20T21:27:34.051232Z"
    },
    "hidden": true
   },
   "outputs": [
    {
     "name": "stdout",
     "output_type": "stream",
     "text": [
      "A      Audax\n",
      "A     Netuno\n",
      "B    Ciclope\n",
      "C      Spike\n",
      "dtype: object \n",
      "\n"
     ]
    },
    {
     "data": {
      "text/plain": [
       "A     Audax\n",
       "A    Netuno\n",
       "dtype: object"
      ]
     },
     "execution_count": 11,
     "metadata": {},
     "output_type": "execute_result"
    }
   ],
   "source": [
    "# Definindo um index label com valores de indices repetidos\n",
    "se = pd.Series(data=['Audax', 'Netuno', 'Ciclope',\n",
    "               'Spike'], index=['A', 'A', 'B', 'C'])\n",
    "print(se, '\\n')\n",
    "\n",
    "# Selecionando os valores que correspondem ao indice 'A'\n",
    "se['A']"
   ]
  },
  {
   "cell_type": "markdown",
   "id": "a6eaa946",
   "metadata": {
    "hidden": true
   },
   "source": [
    " <br>"
   ]
  },
  {
   "cell_type": "markdown",
   "id": "04fa8e42",
   "metadata": {
    "hidden": true
   },
   "source": [
    "\n",
    "### <font color=purple>dtype : str, numpy.dtype, or ExtensionDtype, optional <font>"
   ]
  },
  {
   "cell_type": "markdown",
   "id": "cfa527f8",
   "metadata": {
    "hidden": true
   },
   "source": [
    "Esse parâmetro serve para definirmos o tipo de dado dos elementos de uma Series. Se não definirmos o tipo, o pandas infere a partir dos dados. É bem importante que uma Series tenha elementos com o mesmo tipo de dado, pois assim você terá mais eficiencia e muitas vantangens para manipulá-la."
   ]
  },
  {
   "cell_type": "code",
   "execution_count": 12,
   "id": "d35b9b9d",
   "metadata": {
    "ExecuteTime": {
     "end_time": "2022-10-20T21:27:34.063492Z",
     "start_time": "2022-10-20T21:27:34.058536Z"
    },
    "hidden": true
   },
   "outputs": [
    {
     "name": "stdout",
     "output_type": "stream",
     "text": [
      "float64\n"
     ]
    }
   ],
   "source": [
    "# Usando uma string para definir o dtype de uma Series\n",
    "# Poderia ser 'str32', 'str16', 'int8', 'int32', 'bool', etc.\n",
    "se = pd.Series(data=[18, 25, 19, 31], dtype='float')\n",
    "print(se.dtype)"
   ]
  },
  {
   "cell_type": "code",
   "execution_count": 13,
   "id": "ced291df",
   "metadata": {
    "ExecuteTime": {
     "end_time": "2022-10-20T21:27:34.069937Z",
     "start_time": "2022-10-20T21:27:34.064730Z"
    },
    "hidden": true
   },
   "outputs": [
    {
     "name": "stdout",
     "output_type": "stream",
     "text": [
      "float64\n"
     ]
    }
   ],
   "source": [
    "# Usando o numpy.dtype para definir o dtype de uma Series\n",
    "se = pd.Series(data=[18, 25, 19, 31], dtype=np.float64)\n",
    "print(se.dtype)"
   ]
  },
  {
   "cell_type": "markdown",
   "id": "464d5768",
   "metadata": {
    "hidden": true
   },
   "source": [
    " <br>"
   ]
  },
  {
   "cell_type": "markdown",
   "id": "ccaa3734",
   "metadata": {
    "hidden": true
   },
   "source": [
    "Quando uma Series tem uma salada mista de dados ou os dados são do tipo str, o dtype dela é defido pelo pandas como object."
   ]
  },
  {
   "cell_type": "code",
   "execution_count": 14,
   "id": "c8e3d0cb",
   "metadata": {
    "ExecuteTime": {
     "end_time": "2022-10-20T21:27:34.076602Z",
     "start_time": "2022-10-20T21:27:34.071265Z"
    },
    "hidden": true
   },
   "outputs": [
    {
     "name": "stdout",
     "output_type": "stream",
     "text": [
      "object\n",
      "object\n"
     ]
    }
   ],
   "source": [
    "se1 = pd.Series(data=['Audax', 18, 'M', 1.81])\n",
    "se2 = pd.Series(data=['A', 'B', 'C', 'D'])\n",
    "\n",
    "print(se1.dtype)\n",
    "print(se2.dtype)"
   ]
  },
  {
   "cell_type": "markdown",
   "id": "a0ee8eb8",
   "metadata": {
    "hidden": true
   },
   "source": [
    " <br>"
   ]
  },
  {
   "cell_type": "markdown",
   "id": "0b5b2606",
   "metadata": {
    "hidden": true
   },
   "source": [
    "Cuidado na hora conversão, para não tentar fazer conversões que não sejam possiveis."
   ]
  },
  {
   "cell_type": "code",
   "execution_count": 15,
   "id": "f9642e91",
   "metadata": {
    "ExecuteTime": {
     "end_time": "2022-10-20T21:27:35.252306Z",
     "start_time": "2022-10-20T21:27:34.077949Z"
    },
    "hidden": true
   },
   "outputs": [
    {
     "ename": "ValueError",
     "evalue": "Trying to coerce float values to integers",
     "output_type": "error",
     "traceback": [
      "\u001b[0;31m---------------------------------------------------------------------------\u001b[0m",
      "\u001b[0;31mValueError\u001b[0m                                Traceback (most recent call last)",
      "Input \u001b[0;32mIn [15]\u001b[0m, in \u001b[0;36m<cell line: 1>\u001b[0;34m()\u001b[0m\n\u001b[0;32m----> 1\u001b[0m se1 \u001b[38;5;241m=\u001b[39m \u001b[43mpd\u001b[49m\u001b[38;5;241;43m.\u001b[39;49m\u001b[43mSeries\u001b[49m\u001b[43m(\u001b[49m\u001b[43mdata\u001b[49m\u001b[38;5;241;43m=\u001b[39;49m\u001b[43m[\u001b[49m\u001b[38;5;241;43m18.1\u001b[39;49m\u001b[43m,\u001b[49m\u001b[43m \u001b[49m\u001b[38;5;241;43m25.3\u001b[39;49m\u001b[43m,\u001b[49m\u001b[43m \u001b[49m\u001b[38;5;241;43m19.7\u001b[39;49m\u001b[43m,\u001b[49m\u001b[43m \u001b[49m\u001b[38;5;241;43m31.8\u001b[39;49m\u001b[43m]\u001b[49m\u001b[43m,\u001b[49m\u001b[43m \u001b[49m\u001b[43mdtype\u001b[49m\u001b[38;5;241;43m=\u001b[39;49m\u001b[38;5;124;43m'\u001b[39;49m\u001b[38;5;124;43mint64\u001b[39;49m\u001b[38;5;124;43m'\u001b[39;49m\u001b[43m)\u001b[49m\n",
      "File \u001b[0;32m~/.local/lib/python3.10/site-packages/pandas/core/series.py:451\u001b[0m, in \u001b[0;36mSeries.__init__\u001b[0;34m(self, data, index, dtype, name, copy, fastpath)\u001b[0m\n\u001b[1;32m    449\u001b[0m         data \u001b[38;5;241m=\u001b[39m data\u001b[38;5;241m.\u001b[39mcopy()\n\u001b[1;32m    450\u001b[0m \u001b[38;5;28;01melse\u001b[39;00m:\n\u001b[0;32m--> 451\u001b[0m     data \u001b[38;5;241m=\u001b[39m \u001b[43msanitize_array\u001b[49m\u001b[43m(\u001b[49m\u001b[43mdata\u001b[49m\u001b[43m,\u001b[49m\u001b[43m \u001b[49m\u001b[43mindex\u001b[49m\u001b[43m,\u001b[49m\u001b[43m \u001b[49m\u001b[43mdtype\u001b[49m\u001b[43m,\u001b[49m\u001b[43m \u001b[49m\u001b[43mcopy\u001b[49m\u001b[43m)\u001b[49m\n\u001b[1;32m    453\u001b[0m     manager \u001b[38;5;241m=\u001b[39m get_option(\u001b[38;5;124m\"\u001b[39m\u001b[38;5;124mmode.data_manager\u001b[39m\u001b[38;5;124m\"\u001b[39m)\n\u001b[1;32m    454\u001b[0m     \u001b[38;5;28;01mif\u001b[39;00m manager \u001b[38;5;241m==\u001b[39m \u001b[38;5;124m\"\u001b[39m\u001b[38;5;124mblock\u001b[39m\u001b[38;5;124m\"\u001b[39m:\n",
      "File \u001b[0;32m~/.local/lib/python3.10/site-packages/pandas/core/construction.py:594\u001b[0m, in \u001b[0;36msanitize_array\u001b[0;34m(data, index, dtype, copy, raise_cast_failure, allow_2d)\u001b[0m\n\u001b[1;32m    591\u001b[0m     data \u001b[38;5;241m=\u001b[39m \u001b[38;5;28mlist\u001b[39m(data)\n\u001b[1;32m    593\u001b[0m \u001b[38;5;28;01mif\u001b[39;00m dtype \u001b[38;5;129;01mis\u001b[39;00m \u001b[38;5;129;01mnot\u001b[39;00m \u001b[38;5;28;01mNone\u001b[39;00m \u001b[38;5;129;01mor\u001b[39;00m \u001b[38;5;28mlen\u001b[39m(data) \u001b[38;5;241m==\u001b[39m \u001b[38;5;241m0\u001b[39m:\n\u001b[0;32m--> 594\u001b[0m     subarr \u001b[38;5;241m=\u001b[39m \u001b[43m_try_cast\u001b[49m\u001b[43m(\u001b[49m\u001b[43mdata\u001b[49m\u001b[43m,\u001b[49m\u001b[43m \u001b[49m\u001b[43mdtype\u001b[49m\u001b[43m,\u001b[49m\u001b[43m \u001b[49m\u001b[43mcopy\u001b[49m\u001b[43m,\u001b[49m\u001b[43m \u001b[49m\u001b[43mraise_cast_failure\u001b[49m\u001b[43m)\u001b[49m\n\u001b[1;32m    595\u001b[0m \u001b[38;5;28;01melse\u001b[39;00m:\n\u001b[1;32m    596\u001b[0m     subarr \u001b[38;5;241m=\u001b[39m maybe_convert_platform(data)\n",
      "File \u001b[0;32m~/.local/lib/python3.10/site-packages/pandas/core/construction.py:779\u001b[0m, in \u001b[0;36m_try_cast\u001b[0;34m(arr, dtype, copy, raise_cast_failure)\u001b[0m\n\u001b[1;32m    773\u001b[0m \u001b[38;5;28;01mtry\u001b[39;00m:\n\u001b[1;32m    774\u001b[0m     \u001b[38;5;66;03m# GH#15832: Check if we are requesting a numeric dtype and\u001b[39;00m\n\u001b[1;32m    775\u001b[0m     \u001b[38;5;66;03m# that we can convert the data to the requested dtype.\u001b[39;00m\n\u001b[1;32m    776\u001b[0m     \u001b[38;5;28;01mif\u001b[39;00m is_integer_dtype(dtype):\n\u001b[1;32m    777\u001b[0m         \u001b[38;5;66;03m# this will raise if we have e.g. floats\u001b[39;00m\n\u001b[0;32m--> 779\u001b[0m         subarr \u001b[38;5;241m=\u001b[39m \u001b[43mmaybe_cast_to_integer_array\u001b[49m\u001b[43m(\u001b[49m\u001b[43marr\u001b[49m\u001b[43m,\u001b[49m\u001b[43m \u001b[49m\u001b[43mdtype\u001b[49m\u001b[43m)\u001b[49m\n\u001b[1;32m    780\u001b[0m     \u001b[38;5;28;01melse\u001b[39;00m:\n\u001b[1;32m    781\u001b[0m         \u001b[38;5;66;03m# 4 tests fail if we move this to a try/except/else; see\u001b[39;00m\n\u001b[1;32m    782\u001b[0m         \u001b[38;5;66;03m#  test_constructor_compound_dtypes, test_constructor_cast_failure\u001b[39;00m\n\u001b[1;32m    783\u001b[0m         \u001b[38;5;66;03m#  test_constructor_dict_cast2, test_loc_setitem_dtype\u001b[39;00m\n\u001b[1;32m    784\u001b[0m         subarr \u001b[38;5;241m=\u001b[39m np\u001b[38;5;241m.\u001b[39marray(arr, dtype\u001b[38;5;241m=\u001b[39mdtype, copy\u001b[38;5;241m=\u001b[39mcopy)\n",
      "File \u001b[0;32m~/.local/lib/python3.10/site-packages/pandas/core/dtypes/cast.py:2060\u001b[0m, in \u001b[0;36mmaybe_cast_to_integer_array\u001b[0;34m(arr, dtype, copy)\u001b[0m\n\u001b[1;32m   2056\u001b[0m     \u001b[38;5;28;01mif\u001b[39;00m \u001b[38;5;129;01mnot\u001b[39;00m np\u001b[38;5;241m.\u001b[39misfinite(arr)\u001b[38;5;241m.\u001b[39mall():\n\u001b[1;32m   2057\u001b[0m         \u001b[38;5;28;01mraise\u001b[39;00m IntCastingNaNError(\n\u001b[1;32m   2058\u001b[0m             \u001b[38;5;124m\"\u001b[39m\u001b[38;5;124mCannot convert non-finite values (NA or inf) to integer\u001b[39m\u001b[38;5;124m\"\u001b[39m\n\u001b[1;32m   2059\u001b[0m         )\n\u001b[0;32m-> 2060\u001b[0m     \u001b[38;5;28;01mraise\u001b[39;00m \u001b[38;5;167;01mValueError\u001b[39;00m(\u001b[38;5;124m\"\u001b[39m\u001b[38;5;124mTrying to coerce float values to integers\u001b[39m\u001b[38;5;124m\"\u001b[39m)\n\u001b[1;32m   2061\u001b[0m \u001b[38;5;28;01mif\u001b[39;00m is_object_dtype(arr\u001b[38;5;241m.\u001b[39mdtype):\n\u001b[1;32m   2062\u001b[0m     \u001b[38;5;28;01mraise\u001b[39;00m \u001b[38;5;167;01mValueError\u001b[39;00m(\u001b[38;5;124m\"\u001b[39m\u001b[38;5;124mTrying to coerce float values to integers\u001b[39m\u001b[38;5;124m\"\u001b[39m)\n",
      "\u001b[0;31mValueError\u001b[0m: Trying to coerce float values to integers"
     ]
    }
   ],
   "source": [
    "se1 = pd.Series(data=[18.1, 25.3, 19.7, 31.8], dtype='int64')"
   ]
  },
  {
   "cell_type": "markdown",
   "id": "3c09baa5",
   "metadata": {
    "hidden": true
   },
   "source": [
    " <br>"
   ]
  },
  {
   "cell_type": "markdown",
   "id": "9f0788c3",
   "metadata": {
    "hidden": true
   },
   "source": [
    "\n",
    "### <font color=purple>name : str, optional <font>"
   ]
  },
  {
   "cell_type": "markdown",
   "id": "bf591d73",
   "metadata": {
    "hidden": true
   },
   "source": [
    "Serve para nomear uma Series, deve ser passado uma string. Se uma Serie for transformada numa coluna de um dataframe, o nome dela será usado como o rótulo da coluna do dataframe."
   ]
  },
  {
   "cell_type": "code",
   "execution_count": null,
   "id": "63d7da88",
   "metadata": {
    "ExecuteTime": {
     "end_time": "2022-10-20T21:27:35.280185Z",
     "start_time": "2022-10-20T21:27:35.280175Z"
    },
    "hidden": true
   },
   "outputs": [],
   "source": [
    "se = pd.Series(data=[13, 18, 17, 20, 23], name='Idade')\n",
    "se"
   ]
  },
  {
   "cell_type": "markdown",
   "id": "297346f7",
   "metadata": {
    "hidden": true
   },
   "source": [
    " <br>"
   ]
  },
  {
   "cell_type": "markdown",
   "id": "c2e5842f",
   "metadata": {
    "hidden": true
   },
   "source": [
    "\n",
    "### <font color=purple>copy : bool, default False <font>"
   ]
  },
  {
   "cell_type": "markdown",
   "id": "39287901",
   "metadata": {
    "hidden": true
   },
   "source": [
    "Faz uma cópia do objeto de entrada. Afeta apenas a entrada Série ou 1d ndarray."
   ]
  },
  {
   "cell_type": "code",
   "execution_count": 5,
   "id": "f5537d85",
   "metadata": {
    "ExecuteTime": {
     "end_time": "2022-12-17T03:59:26.648411Z",
     "start_time": "2022-12-17T03:59:26.637044Z"
    },
    "hidden": true
   },
   "outputs": [
    {
     "name": "stdout",
     "output_type": "stream",
     "text": [
      "[12 13 15 11 10]\n",
      "[99 13 15 11 10] \n",
      "\n",
      "**se1** \n",
      "0    12\n",
      "1    13\n",
      "2    15\n",
      "3    11\n",
      "4    10\n",
      "dtype: int64\n",
      "\n",
      "**se2** \n",
      "0    99\n",
      "1    13\n",
      "2    15\n",
      "3    11\n",
      "4    10\n",
      "dtype: int64\n",
      "\n"
     ]
    }
   ],
   "source": [
    "import numpy as np\n",
    "\n",
    "# Criando um nd array para usar no exemplo\n",
    "x = np.array([12, 13, 15, 11, 10])\n",
    "print(x)\n",
    "\n",
    "# Criando 2 Series, uma é uma copia e a outra apenas um tipo de apontamento para x\n",
    "se1 = pd.Series(data=x, copy=True)\n",
    "se2 = pd.Series(data=x, copy=False)\n",
    "\n",
    "# Modificando o a variável x\n",
    "x[0] = 99\n",
    "\n",
    "# Mostrando as 2 Series e a variável x\n",
    "print(x, '\\n')\n",
    "print(f'**se1** \\n{se1}\\n')\n",
    "print(f'**se2** \\n{se2}\\n')"
   ]
  },
  {
   "cell_type": "markdown",
   "id": "95c6fe5d",
   "metadata": {
    "hidden": true
   },
   "source": [
    "<br>"
   ]
  },
  {
   "cell_type": "markdown",
   "id": "b17a2379",
   "metadata": {
    "heading_collapsed": true,
    "hidden": true
   },
   "source": [
    "## 👾 <font size=5>DataFrame<font>"
   ]
  },
  {
   "cell_type": "markdown",
   "id": "803b6c79",
   "metadata": {
    "hidden": true
   },
   "source": [
    "<br>\n",
    "Os parametros de criação de um DataFrame estão abaixo junto com a explicação de cada um. \n",
    "\n",
    "No entanto caso você queira beber da fonte o link está [aqui](https://pandas.pydata.org/docs/reference/api/pandas.DataFrame.html?highlight=pandas%20dataframe#pandas.DataFrame).<br><br>\n",
    "\n",
    "### <font color=purple>_pandas.DataFrame (_<font>\n",
    "\n",
    "**data**    =  None<br> \n",
    "**index**   =  None<br>\n",
    "**columns** =  None<br>\n",
    "**dtype**   =  None<br>\n",
    "**copy**    =  None<br>\n",
    "\n",
    "### <font color=purple>_)_<font>\n",
    "<br>"
   ]
  },
  {
   "cell_type": "markdown",
   "id": "e8d9a8c1",
   "metadata": {
    "hidden": true
   },
   "source": [
    "\n",
    "### <font color=purple>data : ndarray (structured or homogeneous), Iterable, dict, or DataFrame<font>\n"
   ]
  },
  {
   "cell_type": "markdown",
   "id": "7f386427",
   "metadata": {
    "hidden": true
   },
   "source": [
    "O parametro _**data**_ é responsavel por receber o objeto que será transformado em um DataFrame, esse objeto pode ser do tipo dict, listas, Series, np.ndarray de 1D ou 2D e outro DataFrame.<br>\n",
    "\n",
    "Por padrão esse parametro é None, o que signica que não há a necessidade de atribuir algum valor para esse parametro na hora da criação do DataFrame."
   ]
  },
  {
   "cell_type": "markdown",
   "id": "60328c2f",
   "metadata": {
    "hidden": true
   },
   "source": [
    "\n",
    "Quando não atribuimos nenhum valor ao parametro **data** estamos criando um DF vazio."
   ]
  },
  {
   "cell_type": "code",
   "execution_count": null,
   "id": "411226a8",
   "metadata": {
    "ExecuteTime": {
     "end_time": "2022-10-20T21:27:35.303088Z",
     "start_time": "2022-10-20T21:27:35.303075Z"
    },
    "hidden": true
   },
   "outputs": [],
   "source": [
    "import pandas as pd"
   ]
  },
  {
   "cell_type": "code",
   "execution_count": null,
   "id": "09d57d04",
   "metadata": {
    "ExecuteTime": {
     "end_time": "2022-10-20T21:27:35.303709Z",
     "start_time": "2022-10-20T21:27:35.303701Z"
    },
    "hidden": true
   },
   "outputs": [],
   "source": [
    "df = pd.DataFrame()\n",
    "df"
   ]
  },
  {
   "cell_type": "markdown",
   "id": "4857079f",
   "metadata": {
    "hidden": true
   },
   "source": [
    " <br>"
   ]
  },
  {
   "cell_type": "markdown",
   "id": "19c5b60e",
   "metadata": {
    "hidden": true
   },
   "source": [
    "Podemos montar um DataFrame com os estados da região norte do Brasil com uma **lista**, ao fazer isso a lista se trasmormará em uma coluna do DF (as linhas e colunas terão rotulos numéricos)."
   ]
  },
  {
   "cell_type": "code",
   "execution_count": null,
   "id": "93f3ce5f",
   "metadata": {
    "ExecuteTime": {
     "end_time": "2022-10-20T21:27:35.304395Z",
     "start_time": "2022-10-20T21:27:35.304386Z"
    },
    "hidden": true
   },
   "outputs": [],
   "source": [
    "estados = ['Acre',\n",
    "           'Amapá',\n",
    "           'Amazonas',\n",
    "           'Pará',\n",
    "           'Rondônia',\n",
    "           'Roraima',\n",
    "           'Tocantins']\n",
    "\n",
    "df = pd.DataFrame(data=estados)\n",
    "df"
   ]
  },
  {
   "cell_type": "markdown",
   "id": "2bd3c44b",
   "metadata": {
    "hidden": true
   },
   "source": [
    " <br>"
   ]
  },
  {
   "cell_type": "markdown",
   "id": "5ae9f30f",
   "metadata": {
    "hidden": true
   },
   "source": [
    "Também podemos utilizar uma **lista de listas** para montar um DataFrame com várias colunas."
   ]
  },
  {
   "cell_type": "code",
   "execution_count": null,
   "id": "b6515f0c",
   "metadata": {
    "ExecuteTime": {
     "end_time": "2022-10-20T21:27:35.305621Z",
     "start_time": "2022-10-20T21:27:35.305612Z"
    },
    "hidden": true
   },
   "outputs": [],
   "source": [
    "capitais = [['Acre', 'AC', '803,5 mil', 'Rio Branco'],\n",
    "            ['Amapá', 'AP', '776,6 mil', 'Macapá'],\n",
    "            ['Amazonas', 'AM', '3,9 milhões', 'Manaus'],\n",
    "            ['Pará', 'PA', '8,1 milhões', 'Belém'],\n",
    "            ['Rondônia', 'RO', '1,7 milhão', 'Porto Velho'],\n",
    "            ['Roraima', 'RR', '505,6 mil', 'Boa Vista'],\n",
    "            ['Tocantins', 'TO', '1,5 milhão', 'Palmas']]\n",
    "\n",
    "\n",
    "df = pd.DataFrame(data=capitais)\n",
    "df"
   ]
  },
  {
   "cell_type": "markdown",
   "id": "bc994382",
   "metadata": {
    "hidden": true
   },
   "source": [
    " <br>"
   ]
  },
  {
   "cell_type": "markdown",
   "id": "6022afaf",
   "metadata": {
    "hidden": true
   },
   "source": [
    "Outra forma de criar um DataFrame é apartir de um **dicionário**. Quando criamos um DF a partir de um dicionário, cada item do dicionário será uma coluna do df, a chave será o rotulo da coluna e o valor da chave serão os valores da coluna."
   ]
  },
  {
   "cell_type": "code",
   "execution_count": null,
   "id": "a74ba4a6",
   "metadata": {
    "ExecuteTime": {
     "end_time": "2022-10-20T21:27:35.306424Z",
     "start_time": "2022-10-20T21:27:35.306415Z"
    },
    "hidden": true
   },
   "outputs": [],
   "source": [
    "estados = {'Estado': ['Acre',\n",
    "                      'Amapá',\n",
    "                      'Amazonas',\n",
    "                      'Pará',\n",
    "                      'Rondônia',\n",
    "                      'Roraima',\n",
    "                      'Tocantins'],\n",
    "           'Sigla': ['AC',\n",
    "                     'AP',\n",
    "                     'AM',\n",
    "                     'PA',\n",
    "                     'RO',\n",
    "                     'RR',\n",
    "                     'TO'],\n",
    "           'População': ['803,5 mil',\n",
    "                         '776,6 mil',\n",
    "                         '3,9 milhões',\n",
    "                         '8,1 milhões',\n",
    "                         '1,7 milhão',\n",
    "                         '505,6 mil',\n",
    "                         '1,5 milhão'],\n",
    "           'Capital': ['Rio Branco',\n",
    "                       'Macapá',\n",
    "                       'Manaus',\n",
    "                       'Belém',\n",
    "                       'Porto Velho',\n",
    "                       'Boa Vista',\n",
    "                       'Palmas']}\n",
    "\n",
    "\n",
    "df = pd.DataFrame(data=estados)\n",
    "df"
   ]
  },
  {
   "cell_type": "markdown",
   "id": "dc251bfd",
   "metadata": {
    "hidden": true
   },
   "source": [
    " <br>"
   ]
  },
  {
   "cell_type": "markdown",
   "id": "868e1fd1",
   "metadata": {
    "hidden": true
   },
   "source": [
    "**Resumo**<br>\n",
    "Resumindo, o parametro data serve para indicar o que queremos que o pandas transforme em um DataFrame."
   ]
  },
  {
   "cell_type": "markdown",
   "id": "fe964c3d",
   "metadata": {
    "hidden": true
   },
   "source": [
    " <br>"
   ]
  },
  {
   "cell_type": "markdown",
   "id": "04b2b4b4",
   "metadata": {
    "hidden": true
   },
   "source": [
    "\n",
    "### <font color=purple>index : Index or array-like<font>"
   ]
  },
  {
   "cell_type": "markdown",
   "id": "63fd03b7",
   "metadata": {
    "hidden": true
   },
   "source": [
    "O parametro index é opcional, por padrão o índice do dataframe começa em 0 e termina no último valor. Ele define os índices das linha.\n",
    "\n",
    "Quando criamos um DataFrame a partir de outros objetos ou de inportação de dados, o pandas define o indice das linhas por padrão como numérico, mas é possivel modificar esses índices e passar como valor para o parametro **index** algum array."
   ]
  },
  {
   "cell_type": "code",
   "execution_count": null,
   "id": "87de7593",
   "metadata": {
    "ExecuteTime": {
     "end_time": "2022-10-20T21:27:35.307497Z",
     "start_time": "2022-10-20T21:27:35.307487Z"
    },
    "hidden": true
   },
   "outputs": [],
   "source": [
    "import pandas as pd"
   ]
  },
  {
   "cell_type": "code",
   "execution_count": null,
   "id": "7fe5936b",
   "metadata": {
    "ExecuteTime": {
     "end_time": "2022-10-20T21:27:35.309102Z",
     "start_time": "2022-10-20T21:27:35.309091Z"
    },
    "hidden": true
   },
   "outputs": [],
   "source": [
    "nomes = ['Alba', 'Ana', 'Amélia',\n",
    "         'Breno', 'Bruno', 'Bernardo',\n",
    "         'Carla', 'Cesar', 'Cris']\n",
    "\n",
    "rotulo = [10, 11, 12, 13, 14, 15, 16, 17, 18]\n",
    "# rotulo2 = [p[0] for p in nomes]\n",
    "\n",
    "df = pd.DataFrame(data=nomes, index=rotulo)\n",
    "df"
   ]
  },
  {
   "cell_type": "markdown",
   "id": "7b5f85f3",
   "metadata": {
    "hidden": true
   },
   "source": [
    " <br>"
   ]
  },
  {
   "cell_type": "markdown",
   "id": "4ab3f5f5",
   "metadata": {
    "hidden": true
   },
   "source": [
    "\n",
    "### <font color=purple>Columns : Index or array-like<font>"
   ]
  },
  {
   "cell_type": "markdown",
   "id": "aff1805a",
   "metadata": {
    "hidden": true
   },
   "source": [
    "Este parâmetro se comporta de duas maneiras diferentes. Vamos ver ná prática."
   ]
  },
  {
   "cell_type": "markdown",
   "id": "fa823c61",
   "metadata": {
    "hidden": true
   },
   "source": [
    "Quando criamos um dataframe a partir de uma lista de listas, os indices das linhas e os rotulos das colunas serão numéricos. Quando o rótulo das colunas forem numéricos, podemos usar o parâmetro columns para nomear as colunas."
   ]
  },
  {
   "cell_type": "code",
   "execution_count": null,
   "id": "497f4976",
   "metadata": {
    "ExecuteTime": {
     "end_time": "2022-10-20T21:27:35.310013Z",
     "start_time": "2022-10-20T21:27:35.310001Z"
    },
    "hidden": true
   },
   "outputs": [],
   "source": [
    "lista = [['huan', 18, 'm'],\n",
    "         ['luigi', 19, 'm'],\n",
    "         ['lucas', 18, 'm'],\n",
    "         ['manoel', 17, 'm'],\n",
    "         ['simão', 19, 'm']]\n",
    "\n",
    "# colunas sem nome\n",
    "df = pd.DataFrame(data=lista)\n",
    "display(df)\n",
    "\n",
    "\n",
    "# nomeando as colunas\n",
    "df = pd.DataFrame(data=lista, columns=['nome', 'idade', 'sexo'])\n",
    "display(df)"
   ]
  },
  {
   "cell_type": "markdown",
   "id": "8e509538",
   "metadata": {
    "hidden": true
   },
   "source": [
    " <br>"
   ]
  },
  {
   "cell_type": "markdown",
   "id": "f56cc9df",
   "metadata": {
    "hidden": true
   },
   "source": [
    "Já quando criamos um dataframe a partir de um dicionário ou uma lista de Series, o parâmetro columns serve para definir quais itens do dicionário ou, quais Series da lista devem ser transformado no dataframe."
   ]
  },
  {
   "cell_type": "code",
   "execution_count": null,
   "id": "2c6b5f7e",
   "metadata": {
    "ExecuteTime": {
     "end_time": "2022-10-20T21:27:35.311167Z",
     "start_time": "2022-10-20T21:27:35.311156Z"
    },
    "hidden": true,
    "scrolled": true
   },
   "outputs": [],
   "source": [
    "dic = {\n",
    "    'nome': ['huan', 'luigi', 'lucas', 'manoel', 'simão'],\n",
    "    'idade': [18, 19, 18, 17, 19],\n",
    "    'sexo': ['m', 'm', 'm', 'm', 'm']\n",
    "\n",
    "}\n",
    "\n",
    "# dataframe completo\n",
    "df = pd.DataFrame(data=dic)\n",
    "display(df)\n",
    "\n",
    "\n",
    "# apenas nome e sexo\n",
    "df = pd.DataFrame(data=dic, columns=['nome', 'sexo'])\n",
    "display(df)"
   ]
  },
  {
   "cell_type": "markdown",
   "id": "23c04986",
   "metadata": {
    "hidden": true
   },
   "source": [
    " <br>"
   ]
  },
  {
   "cell_type": "markdown",
   "id": "b56c10f3",
   "metadata": {
    "hidden": true
   },
   "source": [
    "\n",
    "### <font color=purple>dtype : dtype, default None<font>"
   ]
  },
  {
   "cell_type": "markdown",
   "id": "9e0a313b",
   "metadata": {
    "hidden": true
   },
   "source": [
    "Esse parametro serve para forçar todos os valores a terem o mesmo tipo. Apenas um único dtype é permitido.<br>\n",
    "Caso o DF tenha algum valor com tipo de dado igual a str não será possivel fazer a conversão."
   ]
  },
  {
   "cell_type": "code",
   "execution_count": null,
   "id": "ef3c453a",
   "metadata": {
    "ExecuteTime": {
     "end_time": "2022-10-20T21:27:35.311682Z",
     "start_time": "2022-10-20T21:27:35.311673Z"
    },
    "hidden": true
   },
   "outputs": [],
   "source": [
    "idades = [12, 13, 14, 10, 11, 17, 10, 69]\n",
    "\n",
    "# Alguns tipos de dados numéricos\n",
    "flutuante = [np.float16, np.float32, np.float64]\n",
    "inteiro = [np.int16, np.int32, np.int64]\n",
    "\n",
    "df = pd.DataFrame(data=idades, dtype=inteiro[0])\n",
    "\n",
    "df.dtypes"
   ]
  },
  {
   "cell_type": "markdown",
   "id": "f3ee57a1",
   "metadata": {
    "hidden": true
   },
   "source": [
    " <br>"
   ]
  },
  {
   "cell_type": "markdown",
   "id": "36130ac9",
   "metadata": {
    "hidden": true
   },
   "source": [
    "Obs: caso exista um valor que é um numero, mas tem tipo str, é possivel fazer a conversão de todos os valores para float."
   ]
  },
  {
   "cell_type": "code",
   "execution_count": null,
   "id": "fae9e410",
   "metadata": {
    "ExecuteTime": {
     "end_time": "2022-10-20T21:27:35.313130Z",
     "start_time": "2022-10-20T21:27:35.313116Z"
    },
    "hidden": true
   },
   "outputs": [],
   "source": [
    "idades = ['12', 13, 14, 10, '11', '17', 10, '69']\n",
    "\n",
    "flutuante = [np.float16, np.float32, np.float64]\n",
    "\n",
    "df = pd.DataFrame(data=idades, dtype=flutuante[0])\n",
    "\n",
    "df.dtypes"
   ]
  },
  {
   "cell_type": "markdown",
   "id": "a8837a5e",
   "metadata": {
    "hidden": true
   },
   "source": [
    " <br>"
   ]
  },
  {
   "cell_type": "markdown",
   "id": "13c29156",
   "metadata": {
    "hidden": true
   },
   "source": [
    "\n",
    "### <font color=purple>copy : bool, default None<font>"
   ]
  },
  {
   "cell_type": "markdown",
   "id": "521b6431",
   "metadata": {
    "hidden": true
   },
   "source": [
    "O parametro **copy** serve para situações que você queira criar um dataframe novo a partir de uma Series ou um Dataframe antigo sem que alterações futuras nesses objetos possam alterar o DataFrame também.<br>\n",
    "\n",
    "Esse parametro recebe valores booleanos, ou seja, **False** ou **True**. Por padrão ele é **False**.<br>\n",
    "\n",
    "Caso o valor seja **True**, qualquer alteração no objeto de criação não acarretará em uma mudança no DataFrame.<br>\n",
    "\n",
    "E se for **False**, qualquer alteração no objeto de criação acarretará em uma mudança no DataFrame."
   ]
  },
  {
   "cell_type": "code",
   "execution_count": null,
   "id": "a9d22dc7",
   "metadata": {
    "ExecuteTime": {
     "end_time": "2022-10-20T21:27:35.314080Z",
     "start_time": "2022-10-20T21:27:35.314070Z"
    },
    "hidden": true,
    "scrolled": true
   },
   "outputs": [],
   "source": [
    "dic = {\n",
    "    'nome': ['huan', 'luigi', 'lucas', 'manoel', 'simão'],\n",
    "    'idade': [18, 19, 18, 17, 19],\n",
    "    'sexo': ['m', 'm', 'm', 'm', 'm']\n",
    "}\n",
    "\n",
    "df = pd.DataFrame(data=dic)\n",
    "\n",
    "# Agora é possivel fazer alterações no df1 sem alterar o df, vice e versa.\n",
    "df1 = pd.DataFrame(df, copy=True)\n",
    "df2 = pd.DataFrame(df, copy=False)\n",
    "\n",
    "df.loc[0, ['nome']] = 'modificado'\n",
    "\n",
    "display(df1)\n",
    "display(df2)"
   ]
  },
  {
   "cell_type": "markdown",
   "id": "163fa7f2",
   "metadata": {
    "hidden": true
   },
   "source": [
    " <br>"
   ]
  },
  {
   "cell_type": "markdown",
   "id": "20158d68",
   "metadata": {
    "heading_collapsed": true
   },
   "source": [
    "# 🎯 Operações aritiméticas com Series"
   ]
  },
  {
   "cell_type": "markdown",
   "id": "2ad673af",
   "metadata": {
    "hidden": true
   },
   "source": [
    "O pandas nos possibilita fazer operações matemáticas básicas com Series. Podemos utilizar duas **Series** para fazer operações de soma, subtração, multiplicação, divisão e etc. Ou podemos fazer essas mesmas operações entre uma **Series** e um valor do tipo **int** ou **float**."
   ]
  },
  {
   "cell_type": "markdown",
   "id": "da0e5c10",
   "metadata": {
    "hidden": true
   },
   "source": [
    "Vamos utilizar duas Series para fazer operações de soma e multiplicação."
   ]
  },
  {
   "cell_type": "code",
   "execution_count": 39,
   "id": "f340b53a",
   "metadata": {
    "ExecuteTime": {
     "end_time": "2022-11-23T21:41:00.526845Z",
     "start_time": "2022-11-23T21:41:00.520706Z"
    },
    "cell_style": "center",
    "hidden": true
   },
   "outputs": [],
   "source": [
    "# Criando as Series\n",
    "a = pd.Series([0, 1, 2, 3, 4, 5])\n",
    "b = pd.Series([0, 1, 2, 3, 4, 5])"
   ]
  },
  {
   "cell_type": "code",
   "execution_count": 40,
   "id": "c0ee594a",
   "metadata": {
    "ExecuteTime": {
     "end_time": "2022-11-23T21:41:04.947679Z",
     "start_time": "2022-11-23T21:41:04.939481Z"
    },
    "cell_style": "center",
    "hidden": true
   },
   "outputs": [
    {
     "data": {
      "text/plain": [
       "0     0\n",
       "1     2\n",
       "2     4\n",
       "3     6\n",
       "4     8\n",
       "5    10\n",
       "dtype: int64"
      ]
     },
     "execution_count": 40,
     "metadata": {},
     "output_type": "execute_result"
    }
   ],
   "source": [
    "# Somando\n",
    "a+b"
   ]
  },
  {
   "cell_type": "code",
   "execution_count": 45,
   "id": "d6c26670",
   "metadata": {
    "ExecuteTime": {
     "end_time": "2022-11-23T21:49:18.626442Z",
     "start_time": "2022-11-23T21:49:18.616316Z"
    },
    "cell_style": "center",
    "hidden": true
   },
   "outputs": [
    {
     "data": {
      "text/plain": [
       "0      0.0\n",
       "1     20.0\n",
       "2     60.0\n",
       "3    120.0\n",
       "4    200.0\n",
       "5      NaN\n",
       "dtype: float64"
      ]
     },
     "execution_count": 45,
     "metadata": {},
     "output_type": "execute_result"
    }
   ],
   "source": [
    "# Multiplicando\n",
    "a*b"
   ]
  },
  {
   "cell_type": "markdown",
   "id": "d44e43b5",
   "metadata": {
    "ExecuteTime": {
     "end_time": "2022-11-23T21:39:27.474532Z",
     "start_time": "2022-11-23T21:39:27.464750Z"
    },
    "hidden": true
   },
   "source": [
    "  "
   ]
  },
  {
   "cell_type": "markdown",
   "id": "c547f6c1",
   "metadata": {
    "hidden": true
   },
   "source": [
    "Agora vamos fazer outras operações aritiméticas, só que envolverendo uma Series e um valor do tipo int ou float."
   ]
  },
  {
   "cell_type": "code",
   "execution_count": 60,
   "id": "384a1445",
   "metadata": {
    "ExecuteTime": {
     "end_time": "2022-11-24T00:19:22.718436Z",
     "start_time": "2022-11-24T00:19:22.713015Z"
    },
    "hidden": true
   },
   "outputs": [],
   "source": [
    "# Criando a Series\n",
    "a = pd.Series([10, 20, 30, 40, 50])"
   ]
  },
  {
   "cell_type": "code",
   "execution_count": 69,
   "id": "30e982f5",
   "metadata": {
    "ExecuteTime": {
     "end_time": "2022-11-24T00:19:27.428036Z",
     "start_time": "2022-11-24T00:19:27.418732Z"
    },
    "cell_style": "center",
    "hidden": true
   },
   "outputs": [
    {
     "data": {
      "text/plain": [
       "0     5.0\n",
       "1    10.0\n",
       "2    15.0\n",
       "3    20.0\n",
       "4    25.0\n",
       "dtype: float64"
      ]
     },
     "execution_count": 69,
     "metadata": {},
     "output_type": "execute_result"
    }
   ],
   "source": [
    "# Dividindo\n",
    "a/2"
   ]
  },
  {
   "cell_type": "code",
   "execution_count": 79,
   "id": "5fddf591",
   "metadata": {
    "ExecuteTime": {
     "end_time": "2022-11-24T00:19:33.558120Z",
     "start_time": "2022-11-24T00:19:33.549674Z"
    },
    "cell_style": "center",
    "hidden": true
   },
   "outputs": [
    {
     "data": {
      "text/plain": [
       "0     7.5\n",
       "1    17.5\n",
       "2    27.5\n",
       "3    37.5\n",
       "4    47.5\n",
       "dtype: float64"
      ]
     },
     "execution_count": 79,
     "metadata": {},
     "output_type": "execute_result"
    }
   ],
   "source": [
    "# Subtraindo \n",
    "a-2.5"
   ]
  },
  {
   "cell_type": "markdown",
   "id": "e5d318d2",
   "metadata": {
    "hidden": true
   },
   "source": [
    "<br>"
   ]
  },
  {
   "cell_type": "markdown",
   "id": "99bcb316",
   "metadata": {
    "hidden": true
   },
   "source": [
    "Quando fazemos uma operação aritmética entre duas Series, não necessariamente elas precisam ter a mesma quantidade de elementos. Isso ocorre porque os elementos das Series estão interligados pelos indices, ou seja, quando fazemos uma soma entre Series por exemplo, o elemento que está na posição 0 da 1° Series será somado com o elemento da 2° Series que se encontra na mesma posição."
   ]
  },
  {
   "cell_type": "markdown",
   "id": "4dce41b0",
   "metadata": {
    "hidden": true
   },
   "source": [
    "Vamos somar duas Series que possuem o tamanho e os indices em ordens diferentes."
   ]
  },
  {
   "cell_type": "code",
   "execution_count": 114,
   "id": "9c5b1afa",
   "metadata": {
    "ExecuteTime": {
     "end_time": "2022-11-24T01:04:09.433794Z",
     "start_time": "2022-11-24T01:04:09.427193Z"
    },
    "hidden": true
   },
   "outputs": [],
   "source": [
    "# Criando as Series\n",
    "b = pd.Series([1, 2], index=[3, 4])\n",
    "a = pd.Series([10, 20, 30, 40, 50])"
   ]
  },
  {
   "cell_type": "markdown",
   "id": "3190cbc6",
   "metadata": {
    "ExecuteTime": {
     "end_time": "2022-11-24T00:33:34.341027Z",
     "start_time": "2022-11-24T00:33:34.333328Z"
    },
    "hidden": true
   },
   "source": [
    "Perceba que cada elemento da 1° Series foi somado com outro elemento da 2° Series que possui o mesmo indice. Outro ponto importante de se notar é que alguns valores nulos foram retornados. Isso aconteceu porque a 1° Series não tem valores para serem somados com os valores da 2° Series."
   ]
  },
  {
   "cell_type": "code",
   "execution_count": 115,
   "id": "3d82aaa2",
   "metadata": {
    "ExecuteTime": {
     "end_time": "2022-11-24T01:04:10.690179Z",
     "start_time": "2022-11-24T01:04:10.679530Z"
    },
    "hidden": true,
    "scrolled": false
   },
   "outputs": [
    {
     "data": {
      "text/plain": [
       "0     NaN\n",
       "1     NaN\n",
       "2     NaN\n",
       "3    41.0\n",
       "4    52.0\n",
       "dtype: float64"
      ]
     },
     "execution_count": 115,
     "metadata": {},
     "output_type": "execute_result"
    }
   ],
   "source": [
    "# Somando as Series\n",
    "a+b"
   ]
  },
  {
   "cell_type": "markdown",
   "id": "2f266742",
   "metadata": {
    "hidden": true
   },
   "source": [
    " <br>"
   ]
  },
  {
   "cell_type": "markdown",
   "id": "4155efed",
   "metadata": {
    "ExecuteTime": {
     "end_time": "2022-11-24T00:33:34.341027Z",
     "start_time": "2022-11-24T00:33:34.333328Z"
    },
    "hidden": true
   },
   "source": [
    "Outra forma de valores nulos serem retornados é quando as duas Series possuem o mesmo tamanho, mas alguns elementos da **Series X** não encontram outro elemento na **Series Y** que possua o mesmo indice. Operações entre Series que possuem essas caracteristicas terão como retorno uma outra Series composta por valores reais, resultados das operações bem sucedidas, e também valores nulos, resultados das operações mal sucedidas."
   ]
  },
  {
   "cell_type": "markdown",
   "id": "90bc98ba",
   "metadata": {
    "hidden": true
   },
   "source": [
    "Vamos somas duas Series que possuem alguns elementos com indices totalmente diferente."
   ]
  },
  {
   "cell_type": "code",
   "execution_count": 131,
   "id": "8ddbc564",
   "metadata": {
    "ExecuteTime": {
     "end_time": "2022-11-24T01:15:51.906995Z",
     "start_time": "2022-11-24T01:15:51.899857Z"
    },
    "hidden": true
   },
   "outputs": [],
   "source": [
    "# Criando as Series\n",
    "a = pd.Series([10, 20, 30, 40, 50], index=[0, 1, 2, 3, 4])\n",
    "b = pd.Series([1, 2, 3, 4, 5], index=[0, 1, 2, 88, 99])"
   ]
  },
  {
   "cell_type": "code",
   "execution_count": 133,
   "id": "8ceffb9f",
   "metadata": {
    "ExecuteTime": {
     "end_time": "2022-11-24T01:46:39.246723Z",
     "start_time": "2022-11-24T01:46:39.236113Z"
    },
    "hidden": true,
    "scrolled": true
   },
   "outputs": [
    {
     "data": {
      "text/plain": [
       "0     10.0\n",
       "1     40.0\n",
       "2     90.0\n",
       "3      NaN\n",
       "4      NaN\n",
       "88     NaN\n",
       "99     NaN\n",
       "dtype: float64"
      ]
     },
     "execution_count": 133,
     "metadata": {},
     "output_type": "execute_result"
    }
   ],
   "source": [
    "# Somando as Series\n",
    "b*a\n",
    "\n",
    "# Perceba que alguns elementos das Series não possuem os mesmos indices\n",
    "# As mesmas posições que foram retornadas com valores nulos"
   ]
  }
 ],
 "metadata": {
  "kernelspec": {
   "display_name": "Python 3 (ipykernel)",
   "language": "python",
   "name": "python3"
  },
  "language_info": {
   "codemirror_mode": {
    "name": "ipython",
    "version": 3
   },
   "file_extension": ".py",
   "mimetype": "text/x-python",
   "name": "python",
   "nbconvert_exporter": "python",
   "pygments_lexer": "ipython3",
   "version": "3.11.1"
  },
  "varInspector": {
   "cols": {
    "lenName": 16,
    "lenType": 16,
    "lenVar": 40
   },
   "kernels_config": {
    "python": {
     "delete_cmd_postfix": "",
     "delete_cmd_prefix": "del ",
     "library": "var_list.py",
     "varRefreshCmd": "print(var_dic_list())"
    },
    "r": {
     "delete_cmd_postfix": ") ",
     "delete_cmd_prefix": "rm(",
     "library": "var_list.r",
     "varRefreshCmd": "cat(var_dic_list()) "
    }
   },
   "types_to_exclude": [
    "module",
    "function",
    "builtin_function_or_method",
    "instance",
    "_Feature"
   ],
   "window_display": false
  }
 },
 "nbformat": 4,
 "nbformat_minor": 5
}
