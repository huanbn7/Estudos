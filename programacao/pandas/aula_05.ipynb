{
 "cells": [
  {
   "cell_type": "code",
   "execution_count": 3,
   "id": "018f4347",
   "metadata": {
    "ExecuteTime": {
     "end_time": "2022-11-23T16:47:15.709499Z",
     "start_time": "2022-11-23T16:47:15.704849Z"
    },
    "cell_style": "center"
   },
   "outputs": [],
   "source": [
    "import pandas as pd\n",
    "import random as rd"
   ]
  },
  {
   "cell_type": "markdown",
   "id": "e3b0a911",
   "metadata": {
    "heading_collapsed": true
   },
   "source": [
    "# 🎯 Cópia rasa e cópia profunda"
   ]
  },
  {
   "cell_type": "markdown",
   "id": "e34ab6fc",
   "metadata": {
    "hidden": true
   },
   "source": [
    "Compreender **view** (visualização superficial) e **copy** (cópia profunda) é uma parte importante para saber como o NumPy e o Pandas manipulam dados. Também pode ajudá-lo a evitar erros e gargalos de desempenho. Às vezes, os dados são copiados de uma parte da memória para outra, mas em outros casos, dois ou mais objetos podem compartilhar os mesmos dados, economizando tempo e memória.\n",
    "\n",
    "**View**: uma view é uma visualização supercial de uma Series ou um DataFrame. Qualquer alteração que fizermos nessa view será propagado para o objeto original.\n",
    "\n",
    "**copy**: uma copy por outro lado é uma cópia profunda de uma Series ou um DataFrame. Qualquer alteração que essa copy possa vir a sofrer não será propagado para o objeto original."
   ]
  },
  {
   "cell_type": "markdown",
   "id": "cd455e39",
   "metadata": {
    "heading_collapsed": true,
    "hidden": true
   },
   "source": [
    "##  👾 <font size=5>copy<font>"
   ]
  },
  {
   "cell_type": "markdown",
   "id": "87dbf4ef",
   "metadata": {
    "hidden": true
   },
   "source": [
    "Algumas operações que fazemos com uma Series ou um DataFrame podem retorna uma view ou uma copy. Pra saber o que cada operação retorna aí complica. Por isso o pandas tem o método **copy()** que serve para escolher se o objeto que vamos manusear no momento tem que ser uma view ou copy do objeto original."
   ]
  },
  {
   "cell_type": "markdown",
   "id": "5db2b882",
   "metadata": {
    "hidden": true
   },
   "source": [
    "\n",
    "### <font color=purple>_copy (_<font>\n",
    "<br>\n",
    "    \n",
    "**deep** =  True<br> \n",
    "\n",
    "    \n",
    "### <font color=purple>_)_<font>\n",
    "<br>"
   ]
  },
  {
   "cell_type": "markdown",
   "id": "ebe63e33",
   "metadata": {
    "hidden": true
   },
   "source": [
    "\n",
    "### deep"
   ]
  },
  {
   "cell_type": "markdown",
   "id": "eebbeb9e",
   "metadata": {
    "hidden": true
   },
   "source": [
    "O parâmetro deep quando True (seu valor padrão), um novo objeto será criado com uma cópia profunda dos dados e índices do objeto original. Modificações nos dados ou índices da cópia não serão refletidas no objeto original."
   ]
  },
  {
   "cell_type": "code",
   "execution_count": 20,
   "id": "db3f97bf",
   "metadata": {
    "ExecuteTime": {
     "end_time": "2022-10-21T18:26:38.385528Z",
     "start_time": "2022-10-21T18:26:38.381679Z"
    },
    "hidden": true
   },
   "outputs": [],
   "source": [
    "# Criando uma Series para testar deep=True\n",
    "s = pd.Series('A B C D'.split())\n",
    "\n",
    "# Criando uma cópia profunda da Series\n",
    "s_copy = s.copy()"
   ]
  },
  {
   "cell_type": "code",
   "execution_count": 21,
   "id": "4f1500b7",
   "metadata": {
    "ExecuteTime": {
     "end_time": "2022-10-21T18:26:39.358858Z",
     "start_time": "2022-10-21T18:26:39.350177Z"
    },
    "hidden": true
   },
   "outputs": [
    {
     "name": "stdout",
     "output_type": "stream",
     "text": [
      "*s_copia*\n",
      "0    XX\n",
      "1     B\n",
      "2     C\n",
      "3    XX\n",
      "dtype: object\n",
      "\n",
      "*s_original*\n",
      "0    A\n",
      "1    B\n",
      "2    C\n",
      "3    D\n",
      "dtype: object\n"
     ]
    }
   ],
   "source": [
    "# Alterando a s_copia para mostrar que nenhuma mudança feita em s_copia afetará s\n",
    "s_copy[[0, 3]] = 'XX'\n",
    "\n",
    "print(f'*s_copia*\\n{s_copy}\\n')\n",
    "print(f'*s_original*\\n{s}')\n",
    "\n",
    "# O mesmo raciocinio serve para um dataframe"
   ]
  },
  {
   "cell_type": "markdown",
   "id": "f69a799e",
   "metadata": {
    "hidden": true
   },
   "source": [
    " <br>"
   ]
  },
  {
   "cell_type": "markdown",
   "id": "610705c2",
   "metadata": {
    "hidden": true
   },
   "source": [
    "Quando deep = False, retorna um objeto que será uma view (visualozação superficial) do objeto original. Modificações nos dados ou índices da **view** serão refletidas no objeto original."
   ]
  },
  {
   "cell_type": "code",
   "execution_count": 24,
   "id": "b80e253f",
   "metadata": {
    "ExecuteTime": {
     "end_time": "2022-10-21T18:28:36.880170Z",
     "start_time": "2022-10-21T18:28:36.872990Z"
    },
    "hidden": true
   },
   "outputs": [],
   "source": [
    "# Criando uma Series para testar deep=False\n",
    "s = pd.Series('A B C D'.split())\n",
    "\n",
    "# Criando uma visualisação superficial da Series\n",
    "s_view = s.copy(deep=False)"
   ]
  },
  {
   "cell_type": "code",
   "execution_count": 26,
   "id": "3eeb6f39",
   "metadata": {
    "ExecuteTime": {
     "end_time": "2022-10-21T18:36:05.288971Z",
     "start_time": "2022-10-21T18:36:05.280730Z"
    },
    "hidden": true
   },
   "outputs": [
    {
     "name": "stdout",
     "output_type": "stream",
     "text": [
      "*s_view*\n",
      "0    XX\n",
      "1     B\n",
      "2     C\n",
      "3    XX\n",
      "dtype: object\n",
      "\n",
      "*s_original*\n",
      "0    XX\n",
      "1     B\n",
      "2     C\n",
      "3    XX\n",
      "dtype: object\n"
     ]
    }
   ],
   "source": [
    "# Qualquer alteração que s_view sofrer s também sofrerá\n",
    "s_view[[0, 3]] = 'XX'\n",
    "\n",
    "print(f'*s_view*\\n{s_view}\\n')\n",
    "print(f'*s_original*\\n{s}')\n",
    "\n",
    "# O mesmo raciocinio serve para um dataframe"
   ]
  },
  {
   "cell_type": "markdown",
   "id": "e4c43aba",
   "metadata": {
    "hidden": true
   },
   "source": [
    "<br>"
   ]
  },
  {
   "cell_type": "markdown",
   "id": "d146b854",
   "metadata": {
    "hidden": true
   },
   "source": [
    "Quando tentamos mudar o elemento de uma view por outro elemento que tenha o tipo de dado diferente essa view deixa de ser view e se torna uma copy. Caso os elementos tenham o mesmo tipo a view continua sendo view."
   ]
  },
  {
   "cell_type": "code",
   "execution_count": 29,
   "id": "cafdc637",
   "metadata": {
    "ExecuteTime": {
     "end_time": "2022-10-21T18:37:07.447702Z",
     "start_time": "2022-10-21T18:37:07.440836Z"
    },
    "hidden": true,
    "scrolled": true
   },
   "outputs": [
    {
     "name": "stdout",
     "output_type": "stream",
     "text": [
      "*s_view*\n",
      "0    A\n",
      "1    1\n",
      "2    2\n",
      "3    A\n",
      "dtype: object\n",
      "\n",
      "*s_original*\n",
      "0    0\n",
      "1    1\n",
      "2    2\n",
      "3    3\n",
      "dtype: int64\n"
     ]
    }
   ],
   "source": [
    "s = pd.Series(x for x in range(4))\n",
    "\n",
    "# Criando uma view\n",
    "s_view = s.copy(deep=False)\n",
    "\n",
    "# Alterando elementos da view\n",
    "s_view[[0, 3]] = 'A'\n",
    "\n",
    "# Mostrando a view e a Series original\n",
    "print(f'*s_view*\\n{s_view}\\n')\n",
    "print(f'*s_original*\\n{s}')\n",
    "\n",
    "# Perceba que somente a view mudou, isso pq ela virou uma copy, devido a troca de elementos int por elementos str\n",
    "# Esse mesmo processo não funciona quando é o inverso, ou seja, trocar elementos str por elementos de outro tipo.\n",
    "# Até podemos fazer a troca, mas view não deixa de ser view."
   ]
  },
  {
   "cell_type": "markdown",
   "id": "78c2bbae",
   "metadata": {
    "hidden": true
   },
   "source": [
    " <br>"
   ]
  },
  {
   "cell_type": "markdown",
   "id": "df4c24ba",
   "metadata": {
    "heading_collapsed": true
   },
   "source": [
    "# 🎯 Dtype "
   ]
  },
  {
   "cell_type": "markdown",
   "id": "77a32dfb",
   "metadata": {
    "heading_collapsed": true,
    "hidden": true
   },
   "source": [
    "### sumário\n",
    "- O que é um dtype e como ele funciona\n",
    "- Os 4 principais tipos de dtype\n",
    "- A importância de uma Series não ter o __dtype = object__.\n",
    "- Apresentar os métodos astype, to_numeric, convert_dtypes."
   ]
  },
  {
   "cell_type": "markdown",
   "id": "af2f6116",
   "metadata": {
    "hidden": true
   },
   "source": [
    "Como sabemos, é muito importante que cada elemento da coluna do nosso DataFrame possua o mesmo tipo de dado. Para que a coluna seja homogênea e assim podermor fazer muitas operações e com muita performance. Pois estaremos no nivel numpy de processamento.\n",
    "\n",
    "Já quando o tipo da coluna do DataFrame é **object** significa que as operações que serão feitas com essa coluna serão bem limitadas e com pouca eficiência, pois o numpy não estará mais em ação, mas sim o python.\n",
    "\n",
    "O método **astype** nos permite definir o tipo de cada coluna do DataFrame. Bom é isso o que queremos, cada coluna com um tipo especifico e que esse tipo não seja object. Abaixo veja os parâmetros que esse método recebe."
   ]
  },
  {
   "cell_type": "markdown",
   "id": "9c0101c4",
   "metadata": {
    "hidden": true
   },
   "source": [
    "Esse assunto é muito importante e precisa de muita atenção para ser estudado. Pois no mundo real um cientista de dados lida na maioria das vezes com datasets que possuem dados ausentes. Os\n",
    "dados ausentes podem ocorrer quando nenhuma informação é fornecida para um ou mais itens ou para uma unidade inteira. \n",
    "\n",
    "Quando estamos trabalhando com o pandas, para o nosso DataFrame, o ideal é que cada coluna tenha todos os elementos com o mesmo tipo de dado. E que cada tipo represente o tipo da variável. Por exemplo, o **tipo float** serve para representar variáveis como altura, renda e etc. "
   ]
  },
  {
   "cell_type": "markdown",
   "id": "822d25e5",
   "metadata": {
    "hidden": true
   },
   "source": [
    "Uma series que contém string por padrão tem o tipo **object**. Esse tipo de comportamento tem haver com o numpy, pois como sabemos o **pandas usa o Numpy** por debaixo do capor. Uma Series com o **dtype** igual a **object** significa que a melhor representação de tipo comum que o Numpy pode inferir para o conteúdo da Series, é que eles são objetos Python. Embora ter uma Series com esse dtype seja útil para alguns propósitos, qualquer operação nos dados será feita no nível do Python, com muito mais sobrecarga do que as operações normalmente rápidas, vistas nos arrays nativos do Numpy."
   ]
  },
  {
   "cell_type": "markdown",
   "id": "4c834bba",
   "metadata": {
    "heading_collapsed": true,
    "hidden": true
   },
   "source": [
    "##  👾 <font size=5>astype<font>\n"
   ]
  },
  {
   "cell_type": "markdown",
   "id": "3ee17df8",
   "metadata": {
    "hidden": true
   },
   "source": [
    "\n",
    "### <font color=purple>_.astype (_<font>\n",
    "\n",
    "**dtype**<br> \n",
    "**copy**   =  True<br>\n",
    "**erros**  =  'raise'<br>\n",
    "\n",
    "### <font color=purple>_)_<font>\n",
    "<br>"
   ]
  },
  {
   "cell_type": "markdown",
   "id": "6b495ae3",
   "metadata": {
    "hidden": true
   },
   "source": [
    "\n",
    "### <font color=purple>dtype : str ou dict<font>"
   ]
  },
  {
   "cell_type": "markdown",
   "id": "0e7a594e",
   "metadata": {
    "hidden": true
   },
   "source": [
    "O parâmetro dtype é utilizado para espeficicar o tipo de dado que você quer forçar em determinada Series ou Dataframe. Podemos passar ao parâmetro dtype um tipo de dado para ser forçado em um Series e também num DataFrame por completo, ou seja, todas as colunas do DataFrame."
   ]
  },
  {
   "cell_type": "code",
   "execution_count": 134,
   "id": "2242a97a",
   "metadata": {
    "ExecuteTime": {
     "end_time": "2022-11-07T22:20:08.233929Z",
     "start_time": "2022-11-07T22:20:08.217396Z"
    },
    "hidden": true
   },
   "outputs": [
    {
     "name": "stdout",
     "output_type": "stream",
     "text": [
      "**DataFrame**\n",
      "Nome      string\n",
      "Idade     string\n",
      "Altura    string\n",
      "dtype: object \n",
      "\n",
      "**Series**\n",
      "string\n"
     ]
    }
   ],
   "source": [
    "df = pd.DataFrame({'Nome':['Huan', 'Luigi', 'Lucas', np.nan, 'Ana'],\n",
    "                   'Idade':[np.nan, 19, 18, 16, np.nan],\n",
    "                   'Altura':[1.8, 1.78, np.nan, 1.83, 1.75]})\n",
    "\n",
    "s = pd.Series(['Huan', 'Luigi', 'Lucas', np.nan, 'Ana'])\n",
    "\n",
    "\n",
    "# Mudando o tipo de todas as colunas do df\n",
    "df = df.astype(dtype='string') \n",
    "\n",
    "# Mudando o tipo da Series\n",
    "s = s.astype(dtype='string')\n",
    "\n",
    "\n",
    "#######################################################################\n",
    "# Note que é necessário sobreescrever o DataFrame e a Series anterior #\n",
    "#######################################################################\n",
    "\n",
    "\n",
    "# Depois da mudança de tipo\n",
    "print('**DataFrame**')\n",
    "print(df.dtypes, '\\n')\n",
    "\n",
    "print('**Series**')\n",
    "print(s.dtype)"
   ]
  },
  {
   "cell_type": "markdown",
   "id": "53b9850d",
   "metadata": {
    "hidden": true
   },
   "source": [
    " "
   ]
  },
  {
   "cell_type": "markdown",
   "id": "42b20e57",
   "metadata": {
    "hidden": true
   },
   "source": [
    "O método **astype** aplicado em um DataFrame nos permite passar um dicinionário ao parâmetro **dtype**, onde cada chave do dicionário corresponde ao nome de uma coluna do DataFrame e o valor de cada chave corresponde ao tipo de dado que deve ser forçado na coluna em específico."
   ]
  },
  {
   "cell_type": "code",
   "execution_count": 119,
   "id": "63cfa4eb",
   "metadata": {
    "ExecuteTime": {
     "end_time": "2022-11-07T21:49:09.613980Z",
     "start_time": "2022-11-07T21:49:09.597338Z"
    },
    "hidden": true,
    "scrolled": true
   },
   "outputs": [
    {
     "data": {
      "text/plain": [
       "Nome       string\n",
       "Idade       Int64\n",
       "Altura    Float64\n",
       "dtype: object"
      ]
     },
     "execution_count": 119,
     "metadata": {},
     "output_type": "execute_result"
    }
   ],
   "source": [
    "df = pd.DataFrame(\n",
    "    data={'Nome'   : ['Huan', 'Luigi', 'Lucas', np.nan, 'Ana'],\n",
    "          'Idade'  : [np.nan, 19, 18, 16, np.nan],\n",
    "          'Altura' : [1.8, 1.78, np.nan, 1.83, 1.75]}\n",
    ")\n",
    "\n",
    "\n",
    "# Modificando o tipo de cada coluna do df\n",
    "df = df.astype(\n",
    "    dtype={'Nome'   : 'string',\n",
    "           'Idade'  : 'Int64' ,\n",
    "           'Altura' : 'Float64'}\n",
    ")\n",
    "\n",
    "# Tipo de cada coluna após a mudança\n",
    "df.dtypes"
   ]
  },
  {
   "cell_type": "markdown",
   "id": "8a914489",
   "metadata": {
    "hidden": true
   },
   "source": [
    " "
   ]
  },
  {
   "cell_type": "markdown",
   "id": "42b7ca86",
   "metadata": {
    "hidden": true
   },
   "source": [
    "\n",
    "### <font color=purple>copy : bool<font>"
   ]
  },
  {
   "cell_type": "markdown",
   "id": "48dace24",
   "metadata": {
    "hidden": true
   },
   "source": [
    "O parâmetro copy serve para definir se o retorno do parâmetro será uma copia profunda ou rasa do DataFrame original. Quando copy igual a **True** (o padrão) uma cópia profunda do DataFrame original será retornado. Quando copy igual a **False** uma cópia rasa será retornado."
   ]
  },
  {
   "cell_type": "markdown",
   "id": "f1fa304d",
   "metadata": {
    "hidden": true
   },
   "source": [
    " \n"
   ]
  },
  {
   "cell_type": "markdown",
   "id": "5ab47645",
   "metadata": {
    "hidden": true
   },
   "source": [
    "\n",
    "### <font color=purple>errors : {‘raise’, ‘ignore’}, default ‘raise’<font>"
   ]
  },
  {
   "cell_type": "markdown",
   "id": "a6f4c5d7",
   "metadata": {
    "hidden": true
   },
   "source": [
    "Ao defini-lo como **' raise '**, permitimos que as exceções sejam levantadas pela função. Caso contrário, podemos configurá-lo para **' ignorar '**. Quando **errors = 'ignore'**, significa que qualquer execeção é ignorada e o objeto original é retornado."
   ]
  },
  {
   "cell_type": "code",
   "execution_count": 62,
   "id": "218fc857",
   "metadata": {
    "ExecuteTime": {
     "end_time": "2022-11-18T01:43:30.289254Z",
     "start_time": "2022-11-18T01:43:30.284140Z"
    },
    "hidden": true
   },
   "outputs": [],
   "source": [
    "s = pd.Series(['Huan', 'Luigi', 'Lucas', np.nan, 'Ana'])\n",
    "s1 = s.astype(dtype='Int64', errors='ignore')"
   ]
  },
  {
   "cell_type": "markdown",
   "id": "a65dec50",
   "metadata": {
    "hidden": true
   },
   "source": [
    "<br>"
   ]
  },
  {
   "cell_type": "markdown",
   "id": "835cb9ae",
   "metadata": {
    "hidden": true
   },
   "source": [
    " \n"
   ]
  },
  {
   "cell_type": "markdown",
   "id": "fa6517d6",
   "metadata": {
    "hidden": true
   },
   "source": [
    "Para contornar esse problema o pandas nos disponibiliza o tido de dado 'string'. Quando definimos que o tipo de dado da nossa Series deve ser 'String', por mais que ela tenha valores **NaN**, o seu tipo deixa de ser object e passa a ser 'string'."
   ]
  },
  {
   "cell_type": "code",
   "execution_count": 70,
   "id": "ffade8ff",
   "metadata": {
    "ExecuteTime": {
     "end_time": "2022-10-28T16:15:37.140111Z",
     "start_time": "2022-10-28T16:15:37.131711Z"
    },
    "hidden": true,
    "scrolled": true
   },
   "outputs": [
    {
     "data": {
      "text/plain": [
       "0       A\n",
       "1       B\n",
       "2       C\n",
       "3    <NA>\n",
       "dtype: string"
      ]
     },
     "execution_count": 70,
     "metadata": {},
     "output_type": "execute_result"
    }
   ],
   "source": [
    "# Series com valor vazio\n",
    "s = pd.Series(['A', 'B', 'C', np.nan], dtype='string')\n",
    "\n",
    "# Obeverve o dtype\n",
    "s"
   ]
  },
  {
   "cell_type": "markdown",
   "id": "c3adb0e3",
   "metadata": {
    "hidden": true
   },
   "source": [
    "<br>"
   ]
  },
  {
   "cell_type": "markdown",
   "id": "3b72d6bf",
   "metadata": {
    "heading_collapsed": true,
    "hidden": true
   },
   "source": [
    "##  👾 <font size=5>to_numeric<font>"
   ]
  },
  {
   "cell_type": "markdown",
   "id": "d86b3358",
   "metadata": {
    "heading_collapsed": true,
    "hidden": true
   },
   "source": [
    "##  👾 <font size=5>convert_dtypes<font>"
   ]
  },
  {
   "cell_type": "markdown",
   "id": "35c22dd3",
   "metadata": {
    "heading_collapsed": true
   },
   "source": [
    "# 🎯 Dados ausentes"
   ]
  },
  {
   "cell_type": "markdown",
   "id": "d7be967f",
   "metadata": {
    "hidden": true
   },
   "source": [
    "Dados ausentes ..."
   ]
  },
  {
   "cell_type": "markdown",
   "id": "833c5e62",
   "metadata": {
    "heading_collapsed": true,
    "hidden": true
   },
   "source": [
    "##  👾 <font size=5 >isna, isnull e notnull<font>"
   ]
  },
  {
   "cell_type": "markdown",
   "id": "2716b636",
   "metadata": {
    "hidden": true
   },
   "source": [
    "Existem 2 métodos utilizados para descobrir valores nulos dentro de uma Series. Os métodos são **isna** e **isnull**. Os dois método quando uitlizados retornam uma series de tipo booleano indicando **True** quando um valor for nulo e **False** quando o contrário."
   ]
  },
  {
   "cell_type": "code",
   "execution_count": 71,
   "id": "0723231c",
   "metadata": {
    "ExecuteTime": {
     "end_time": "2022-11-07T19:55:03.622625Z",
     "start_time": "2022-11-07T19:55:03.612948Z"
    },
    "hidden": true,
    "scrolled": true
   },
   "outputs": [
    {
     "name": "stdout",
     "output_type": "stream",
     "text": [
      "*Com isna*\n",
      "0    False\n",
      "1    False\n",
      "2    False\n",
      "3     True\n",
      "4     True\n",
      "5    False\n",
      "dtype: bool\n",
      "\n",
      "\n",
      "*Com isnull*\n",
      "0    False\n",
      "1    False\n",
      "2    False\n",
      "3     True\n",
      "4     True\n",
      "5    False\n",
      "dtype: bool\n"
     ]
    }
   ],
   "source": [
    "x = pd.Series(['A', 'B', 'C', np.nan, np.nan, 'F'], dtype='string')\n",
    "\n",
    "# Com isna\n",
    "print(f'*Com isna*\\n{x.isna()}', end='\\n\\n\\n')\n",
    "\n",
    "# Com isnull\n",
    "print(f'*Com isnull*\\n{x.isnull()}')"
   ]
  },
  {
   "cell_type": "markdown",
   "id": "b6da19d8",
   "metadata": {
    "hidden": true
   },
   "source": [
    " <br>"
   ]
  },
  {
   "cell_type": "markdown",
   "id": "63a8cf0f",
   "metadata": {
    "hidden": true
   },
   "source": [
    "O método **notnull** funciona de forma contrária, ou seja, quando **True** significa que naquela posição existe um dado real e quando **False** existe um dado ausente."
   ]
  },
  {
   "cell_type": "code",
   "execution_count": 37,
   "id": "9708c725",
   "metadata": {
    "ExecuteTime": {
     "end_time": "2022-11-07T18:54:30.249191Z",
     "start_time": "2022-11-07T18:54:30.235556Z"
    },
    "hidden": true,
    "scrolled": true
   },
   "outputs": [
    {
     "data": {
      "text/plain": [
       "0     True\n",
       "1     True\n",
       "2     True\n",
       "3    False\n",
       "4    False\n",
       "5     True\n",
       "dtype: bool"
      ]
     },
     "execution_count": 37,
     "metadata": {},
     "output_type": "execute_result"
    }
   ],
   "source": [
    "x.notnull()"
   ]
  },
  {
   "cell_type": "markdown",
   "id": "b2ec3519",
   "metadata": {
    "hidden": true
   },
   "source": [
    " <br>"
   ]
  },
  {
   "cell_type": "markdown",
   "id": "a5a7de1f",
   "metadata": {
    "hidden": true
   },
   "source": [
    "Como a series retornada pelos métodos é do tipo booleano, nós podemos utilizar a função soma para poder calcular quantos dados são dados ausentes ou reais."
   ]
  },
  {
   "cell_type": "code",
   "execution_count": 78,
   "id": "2be0de71",
   "metadata": {
    "ExecuteTime": {
     "end_time": "2022-11-07T20:03:12.195961Z",
     "start_time": "2022-11-07T20:03:12.187982Z"
    },
    "hidden": true
   },
   "outputs": [
    {
     "name": "stdout",
     "output_type": "stream",
     "text": [
      "Quantidade de dados ausentes: 2\n",
      "Quantidade de dados não ausentes: 4\n"
     ]
    }
   ],
   "source": [
    "print('Quantidade de dados ausentes:', x.isna().sum())\n",
    "print('Quantidade de dados não ausentes:', x.notnull().sum())"
   ]
  },
  {
   "cell_type": "markdown",
   "id": "ee0446db",
   "metadata": {
    "hidden": true
   },
   "source": [
    " <br>"
   ]
  },
  {
   "cell_type": "markdown",
   "id": "2b307972",
   "metadata": {
    "heading_collapsed": true,
    "hidden": true
   },
   "source": [
    "## 👾 <font size=5>dropna<font>"
   ]
  },
  {
   "cell_type": "markdown",
   "id": "17d9dc3e",
   "metadata": {
    "hidden": true
   },
   "source": [
    "A método **dropna()** do Pandas  é usado para remover linhas ou colunas com valores nulos. Por padrão, essa função retorna um novo DataFrame e o DataFrame de origem permanece inalterado. A sintaxe do método **dropna()** é:"
   ]
  },
  {
   "cell_type": "markdown",
   "id": "15ab3a2a",
   "metadata": {
    "hidden": true
   },
   "source": [
    "\n",
    "### <font color=purple>_.dropna (_<font>\n",
    "\n",
    "**axis**    =  0    <br> \n",
    "**how**     =  'Any'<br>\n",
    "**subset**  =  None <br>\n",
    "**inplace** =  False<br>\n",
    "    \n",
    "### <font color=purple>_)_<font>\n",
    "<br>"
   ]
  },
  {
   "cell_type": "markdown",
   "id": "37de7afd",
   "metadata": {
    "hidden": true
   },
   "source": [
    "\n",
    "### <font color=purple>axis : {0 or ‘index’, 1 or ‘columns’}, default 0<font>"
   ]
  },
  {
   "cell_type": "markdown",
   "id": "a213108a",
   "metadata": {
    "hidden": true
   },
   "source": [
    "Esse parâmetro serve para definir se a linha ou a coluna será excluida. 0 para linha e 1  para coluna."
   ]
  },
  {
   "cell_type": "code",
   "execution_count": 163,
   "id": "be028c22",
   "metadata": {
    "ExecuteTime": {
     "end_time": "2022-11-15T21:29:31.901265Z",
     "start_time": "2022-11-15T21:29:31.880469Z"
    },
    "hidden": true,
    "scrolled": true
   },
   "outputs": [
    {
     "data": {
      "text/html": [
       "<div>\n",
       "<style scoped>\n",
       "    .dataframe tbody tr th:only-of-type {\n",
       "        vertical-align: middle;\n",
       "    }\n",
       "\n",
       "    .dataframe tbody tr th {\n",
       "        vertical-align: top;\n",
       "    }\n",
       "\n",
       "    .dataframe thead th {\n",
       "        text-align: right;\n",
       "    }\n",
       "</style>\n",
       "<table border=\"1\" class=\"dataframe\">\n",
       "  <thead>\n",
       "    <tr style=\"text-align: right;\">\n",
       "      <th></th>\n",
       "      <th>Nome</th>\n",
       "      <th>Idade</th>\n",
       "      <th>Altura</th>\n",
       "      <th>Sex</th>\n",
       "    </tr>\n",
       "  </thead>\n",
       "  <tbody>\n",
       "    <tr>\n",
       "      <th>0</th>\n",
       "      <td>Huan</td>\n",
       "      <td>NaN</td>\n",
       "      <td>NaN</td>\n",
       "      <td>NaN</td>\n",
       "    </tr>\n",
       "    <tr>\n",
       "      <th>1</th>\n",
       "      <td>Luigi</td>\n",
       "      <td>19.0</td>\n",
       "      <td>1.78</td>\n",
       "      <td>NaN</td>\n",
       "    </tr>\n",
       "    <tr>\n",
       "      <th>2</th>\n",
       "      <td>Lucas</td>\n",
       "      <td>18.0</td>\n",
       "      <td>NaN</td>\n",
       "      <td>NaN</td>\n",
       "    </tr>\n",
       "    <tr>\n",
       "      <th>3</th>\n",
       "      <td>Marcos</td>\n",
       "      <td>16.0</td>\n",
       "      <td>1.83</td>\n",
       "      <td>NaN</td>\n",
       "    </tr>\n",
       "    <tr>\n",
       "      <th>4</th>\n",
       "      <td>Ana</td>\n",
       "      <td>NaN</td>\n",
       "      <td>1.75</td>\n",
       "      <td>NaN</td>\n",
       "    </tr>\n",
       "  </tbody>\n",
       "</table>\n",
       "</div>"
      ],
      "text/plain": [
       "     Nome  Idade  Altura  Sex\n",
       "0    Huan    NaN     NaN  NaN\n",
       "1   Luigi   19.0    1.78  NaN\n",
       "2   Lucas   18.0     NaN  NaN\n",
       "3  Marcos   16.0    1.83  NaN\n",
       "4     Ana    NaN    1.75  NaN"
      ]
     },
     "execution_count": 163,
     "metadata": {},
     "output_type": "execute_result"
    }
   ],
   "source": [
    "# Criando o  DataFrame com dados ausentes\n",
    "df = pd.DataFrame({'Nome':['Huan', 'Luigi', 'Lucas', 'Marcos', 'Ana'],\n",
    "                   'Idade':[np.nan, 19, 18, 16, np.nan],\n",
    "                   'Altura':[np.nan, 1.78, np.nan, 1.83, 1.75],\n",
    "                   'Sex': [np.nan, np.nan, np.nan, np.nan, np.nan]})\n",
    "df"
   ]
  },
  {
   "cell_type": "markdown",
   "id": "d19ab15e",
   "metadata": {
    "hidden": true
   },
   "source": [
    " "
   ]
  },
  {
   "cell_type": "code",
   "execution_count": 103,
   "id": "a21c52d5",
   "metadata": {
    "ExecuteTime": {
     "end_time": "2022-11-15T16:05:15.479972Z",
     "start_time": "2022-11-15T16:05:15.464775Z"
    },
    "hidden": true
   },
   "outputs": [
    {
     "data": {
      "text/html": [
       "<div>\n",
       "<style scoped>\n",
       "    .dataframe tbody tr th:only-of-type {\n",
       "        vertical-align: middle;\n",
       "    }\n",
       "\n",
       "    .dataframe tbody tr th {\n",
       "        vertical-align: top;\n",
       "    }\n",
       "\n",
       "    .dataframe thead th {\n",
       "        text-align: right;\n",
       "    }\n",
       "</style>\n",
       "<table border=\"1\" class=\"dataframe\">\n",
       "  <thead>\n",
       "    <tr style=\"text-align: right;\">\n",
       "      <th></th>\n",
       "      <th>Nome</th>\n",
       "      <th>Idade</th>\n",
       "      <th>Altura</th>\n",
       "      <th>Sex</th>\n",
       "    </tr>\n",
       "  </thead>\n",
       "  <tbody>\n",
       "  </tbody>\n",
       "</table>\n",
       "</div>"
      ],
      "text/plain": [
       "Empty DataFrame\n",
       "Columns: [Nome, Idade, Altura, Sex]\n",
       "Index: []"
      ]
     },
     "execution_count": 103,
     "metadata": {},
     "output_type": "execute_result"
    }
   ],
   "source": [
    "# Excluindo as linhas que possuem valores ausentes\n",
    "df.dropna(axis=0)"
   ]
  },
  {
   "cell_type": "markdown",
   "id": "f4834697",
   "metadata": {
    "hidden": true
   },
   "source": [
    " "
   ]
  },
  {
   "cell_type": "code",
   "execution_count": 104,
   "id": "07577cda",
   "metadata": {
    "ExecuteTime": {
     "end_time": "2022-11-15T16:05:17.364853Z",
     "start_time": "2022-11-15T16:05:17.349647Z"
    },
    "hidden": true
   },
   "outputs": [
    {
     "data": {
      "text/html": [
       "<div>\n",
       "<style scoped>\n",
       "    .dataframe tbody tr th:only-of-type {\n",
       "        vertical-align: middle;\n",
       "    }\n",
       "\n",
       "    .dataframe tbody tr th {\n",
       "        vertical-align: top;\n",
       "    }\n",
       "\n",
       "    .dataframe thead th {\n",
       "        text-align: right;\n",
       "    }\n",
       "</style>\n",
       "<table border=\"1\" class=\"dataframe\">\n",
       "  <thead>\n",
       "    <tr style=\"text-align: right;\">\n",
       "      <th></th>\n",
       "      <th>Nome</th>\n",
       "    </tr>\n",
       "  </thead>\n",
       "  <tbody>\n",
       "    <tr>\n",
       "      <th>0</th>\n",
       "      <td>Huan</td>\n",
       "    </tr>\n",
       "    <tr>\n",
       "      <th>1</th>\n",
       "      <td>Luigi</td>\n",
       "    </tr>\n",
       "    <tr>\n",
       "      <th>2</th>\n",
       "      <td>Lucas</td>\n",
       "    </tr>\n",
       "    <tr>\n",
       "      <th>3</th>\n",
       "      <td>Marcos</td>\n",
       "    </tr>\n",
       "    <tr>\n",
       "      <th>4</th>\n",
       "      <td>Ana</td>\n",
       "    </tr>\n",
       "  </tbody>\n",
       "</table>\n",
       "</div>"
      ],
      "text/plain": [
       "     Nome\n",
       "0    Huan\n",
       "1   Luigi\n",
       "2   Lucas\n",
       "3  Marcos\n",
       "4     Ana"
      ]
     },
     "execution_count": 104,
     "metadata": {},
     "output_type": "execute_result"
    }
   ],
   "source": [
    "# Excluindo as colunas que possuem valores ausentes\n",
    "df.dropna(axis=1)"
   ]
  },
  {
   "cell_type": "markdown",
   "id": "b1eb95b7",
   "metadata": {
    "hidden": true
   },
   "source": [
    "<br>"
   ]
  },
  {
   "cell_type": "markdown",
   "id": "b7a6dc79",
   "metadata": {
    "hidden": true
   },
   "source": [
    "\n",
    "### <font color=purple>how : {‘any’ or ‘all’}, default ‘any’<font>"
   ]
  },
  {
   "cell_type": "markdown",
   "id": "f42a79f0",
   "metadata": {
    "hidden": true
   },
   "source": [
    "O parâmetro how é mais adequado para um DataFrame. Quando o parâmetro **how** for igual a **'any'**, significa que a linha ou acoluna será excluida se possuir um ou mais valores nulos. Quando o parâmetro for igual a **'all'**, significa que a linha ou coluna será excluida apenas se for composta inteiramente por valores nulos."
   ]
  },
  {
   "cell_type": "code",
   "execution_count": 105,
   "id": "fe2e36e8",
   "metadata": {
    "ExecuteTime": {
     "end_time": "2022-11-15T16:05:22.112157Z",
     "start_time": "2022-11-15T16:05:22.098119Z"
    },
    "hidden": true,
    "scrolled": true
   },
   "outputs": [
    {
     "data": {
      "text/html": [
       "<div>\n",
       "<style scoped>\n",
       "    .dataframe tbody tr th:only-of-type {\n",
       "        vertical-align: middle;\n",
       "    }\n",
       "\n",
       "    .dataframe tbody tr th {\n",
       "        vertical-align: top;\n",
       "    }\n",
       "\n",
       "    .dataframe thead th {\n",
       "        text-align: right;\n",
       "    }\n",
       "</style>\n",
       "<table border=\"1\" class=\"dataframe\">\n",
       "  <thead>\n",
       "    <tr style=\"text-align: right;\">\n",
       "      <th></th>\n",
       "      <th>Nome</th>\n",
       "      <th>Idade</th>\n",
       "      <th>Altura</th>\n",
       "      <th>Sex</th>\n",
       "    </tr>\n",
       "  </thead>\n",
       "  <tbody>\n",
       "  </tbody>\n",
       "</table>\n",
       "</div>"
      ],
      "text/plain": [
       "Empty DataFrame\n",
       "Columns: [Nome, Idade, Altura, Sex]\n",
       "Index: []"
      ]
     },
     "execution_count": 105,
     "metadata": {},
     "output_type": "execute_result"
    }
   ],
   "source": [
    "# Excluindo as linhas que possui 1 ou mais valores vazios\n",
    "df.dropna(axis=0, how='any')"
   ]
  },
  {
   "cell_type": "markdown",
   "id": "a2dcf961",
   "metadata": {
    "hidden": true
   },
   "source": [
    " "
   ]
  },
  {
   "cell_type": "code",
   "execution_count": 106,
   "id": "7b536365",
   "metadata": {
    "ExecuteTime": {
     "end_time": "2022-11-15T16:05:24.663314Z",
     "start_time": "2022-11-15T16:05:24.649058Z"
    },
    "hidden": true,
    "scrolled": true
   },
   "outputs": [
    {
     "data": {
      "text/html": [
       "<div>\n",
       "<style scoped>\n",
       "    .dataframe tbody tr th:only-of-type {\n",
       "        vertical-align: middle;\n",
       "    }\n",
       "\n",
       "    .dataframe tbody tr th {\n",
       "        vertical-align: top;\n",
       "    }\n",
       "\n",
       "    .dataframe thead th {\n",
       "        text-align: right;\n",
       "    }\n",
       "</style>\n",
       "<table border=\"1\" class=\"dataframe\">\n",
       "  <thead>\n",
       "    <tr style=\"text-align: right;\">\n",
       "      <th></th>\n",
       "      <th>Nome</th>\n",
       "    </tr>\n",
       "  </thead>\n",
       "  <tbody>\n",
       "    <tr>\n",
       "      <th>0</th>\n",
       "      <td>Huan</td>\n",
       "    </tr>\n",
       "    <tr>\n",
       "      <th>1</th>\n",
       "      <td>Luigi</td>\n",
       "    </tr>\n",
       "    <tr>\n",
       "      <th>2</th>\n",
       "      <td>Lucas</td>\n",
       "    </tr>\n",
       "    <tr>\n",
       "      <th>3</th>\n",
       "      <td>Marcos</td>\n",
       "    </tr>\n",
       "    <tr>\n",
       "      <th>4</th>\n",
       "      <td>Ana</td>\n",
       "    </tr>\n",
       "  </tbody>\n",
       "</table>\n",
       "</div>"
      ],
      "text/plain": [
       "     Nome\n",
       "0    Huan\n",
       "1   Luigi\n",
       "2   Lucas\n",
       "3  Marcos\n",
       "4     Ana"
      ]
     },
     "execution_count": 106,
     "metadata": {},
     "output_type": "execute_result"
    }
   ],
   "source": [
    "# Excluindo as colunas que possui 1 ou mais valores vazios\n",
    "df.dropna(axis=1, how='any')"
   ]
  },
  {
   "cell_type": "markdown",
   "id": "276823df",
   "metadata": {
    "hidden": true
   },
   "source": [
    " "
   ]
  },
  {
   "cell_type": "code",
   "execution_count": 107,
   "id": "3ae98622",
   "metadata": {
    "ExecuteTime": {
     "end_time": "2022-11-15T16:06:08.191235Z",
     "start_time": "2022-11-15T16:06:08.172719Z"
    },
    "hidden": true
   },
   "outputs": [
    {
     "data": {
      "text/html": [
       "<div>\n",
       "<style scoped>\n",
       "    .dataframe tbody tr th:only-of-type {\n",
       "        vertical-align: middle;\n",
       "    }\n",
       "\n",
       "    .dataframe tbody tr th {\n",
       "        vertical-align: top;\n",
       "    }\n",
       "\n",
       "    .dataframe thead th {\n",
       "        text-align: right;\n",
       "    }\n",
       "</style>\n",
       "<table border=\"1\" class=\"dataframe\">\n",
       "  <thead>\n",
       "    <tr style=\"text-align: right;\">\n",
       "      <th></th>\n",
       "      <th>Nome</th>\n",
       "      <th>Idade</th>\n",
       "      <th>Altura</th>\n",
       "      <th>Sex</th>\n",
       "    </tr>\n",
       "  </thead>\n",
       "  <tbody>\n",
       "    <tr>\n",
       "      <th>0</th>\n",
       "      <td>Huan</td>\n",
       "      <td>NaN</td>\n",
       "      <td>NaN</td>\n",
       "      <td>NaN</td>\n",
       "    </tr>\n",
       "    <tr>\n",
       "      <th>1</th>\n",
       "      <td>Luigi</td>\n",
       "      <td>19.0</td>\n",
       "      <td>1.78</td>\n",
       "      <td>NaN</td>\n",
       "    </tr>\n",
       "    <tr>\n",
       "      <th>2</th>\n",
       "      <td>Lucas</td>\n",
       "      <td>18.0</td>\n",
       "      <td>NaN</td>\n",
       "      <td>NaN</td>\n",
       "    </tr>\n",
       "    <tr>\n",
       "      <th>3</th>\n",
       "      <td>Marcos</td>\n",
       "      <td>16.0</td>\n",
       "      <td>1.83</td>\n",
       "      <td>NaN</td>\n",
       "    </tr>\n",
       "    <tr>\n",
       "      <th>4</th>\n",
       "      <td>Ana</td>\n",
       "      <td>NaN</td>\n",
       "      <td>1.75</td>\n",
       "      <td>NaN</td>\n",
       "    </tr>\n",
       "  </tbody>\n",
       "</table>\n",
       "</div>"
      ],
      "text/plain": [
       "     Nome  Idade  Altura  Sex\n",
       "0    Huan    NaN     NaN  NaN\n",
       "1   Luigi   19.0    1.78  NaN\n",
       "2   Lucas   18.0     NaN  NaN\n",
       "3  Marcos   16.0    1.83  NaN\n",
       "4     Ana    NaN    1.75  NaN"
      ]
     },
     "execution_count": 107,
     "metadata": {},
     "output_type": "execute_result"
    }
   ],
   "source": [
    "# Excluindo as linhas que possui todos os valores vazios\n",
    "df.dropna(axis=0, how='all')"
   ]
  },
  {
   "cell_type": "markdown",
   "id": "c115c651",
   "metadata": {
    "hidden": true
   },
   "source": [
    " "
   ]
  },
  {
   "cell_type": "code",
   "execution_count": 108,
   "id": "2f3561b3",
   "metadata": {
    "ExecuteTime": {
     "end_time": "2022-11-15T16:06:10.205701Z",
     "start_time": "2022-11-15T16:06:10.186856Z"
    },
    "hidden": true,
    "scrolled": true
   },
   "outputs": [
    {
     "data": {
      "text/html": [
       "<div>\n",
       "<style scoped>\n",
       "    .dataframe tbody tr th:only-of-type {\n",
       "        vertical-align: middle;\n",
       "    }\n",
       "\n",
       "    .dataframe tbody tr th {\n",
       "        vertical-align: top;\n",
       "    }\n",
       "\n",
       "    .dataframe thead th {\n",
       "        text-align: right;\n",
       "    }\n",
       "</style>\n",
       "<table border=\"1\" class=\"dataframe\">\n",
       "  <thead>\n",
       "    <tr style=\"text-align: right;\">\n",
       "      <th></th>\n",
       "      <th>Nome</th>\n",
       "      <th>Idade</th>\n",
       "      <th>Altura</th>\n",
       "    </tr>\n",
       "  </thead>\n",
       "  <tbody>\n",
       "    <tr>\n",
       "      <th>0</th>\n",
       "      <td>Huan</td>\n",
       "      <td>NaN</td>\n",
       "      <td>NaN</td>\n",
       "    </tr>\n",
       "    <tr>\n",
       "      <th>1</th>\n",
       "      <td>Luigi</td>\n",
       "      <td>19.0</td>\n",
       "      <td>1.78</td>\n",
       "    </tr>\n",
       "    <tr>\n",
       "      <th>2</th>\n",
       "      <td>Lucas</td>\n",
       "      <td>18.0</td>\n",
       "      <td>NaN</td>\n",
       "    </tr>\n",
       "    <tr>\n",
       "      <th>3</th>\n",
       "      <td>Marcos</td>\n",
       "      <td>16.0</td>\n",
       "      <td>1.83</td>\n",
       "    </tr>\n",
       "    <tr>\n",
       "      <th>4</th>\n",
       "      <td>Ana</td>\n",
       "      <td>NaN</td>\n",
       "      <td>1.75</td>\n",
       "    </tr>\n",
       "  </tbody>\n",
       "</table>\n",
       "</div>"
      ],
      "text/plain": [
       "     Nome  Idade  Altura\n",
       "0    Huan    NaN     NaN\n",
       "1   Luigi   19.0    1.78\n",
       "2   Lucas   18.0     NaN\n",
       "3  Marcos   16.0    1.83\n",
       "4     Ana    NaN    1.75"
      ]
     },
     "execution_count": 108,
     "metadata": {},
     "output_type": "execute_result"
    }
   ],
   "source": [
    "# Excluindo as colunas que possui todos os valores vazios\n",
    "df.dropna(axis=1, how='all')"
   ]
  },
  {
   "cell_type": "markdown",
   "id": "10df743e",
   "metadata": {
    "hidden": true
   },
   "source": [
    " <br>"
   ]
  },
  {
   "cell_type": "markdown",
   "id": "5a7cf33b",
   "metadata": {
    "hidden": true
   },
   "source": [
    "\n",
    "### <font color=purple>subset  : column label or sequence of labels, optional<font>"
   ]
  },
  {
   "cell_type": "markdown",
   "id": "7f0b6d23",
   "metadata": {
    "hidden": true
   },
   "source": [
    "O parâmetro **subset** serve para:\n",
    "\n",
    "- excluir linhas com base em uma coluna específica ou mais de uma coluna. \n",
    "- excluir colunas com base em uma linha específica ou mais de uma linha."
   ]
  },
  {
   "cell_type": "code",
   "execution_count": 131,
   "id": "31108fb1",
   "metadata": {
    "ExecuteTime": {
     "end_time": "2022-11-15T16:21:29.275783Z",
     "start_time": "2022-11-15T16:21:29.260520Z"
    },
    "hidden": true,
    "scrolled": true
   },
   "outputs": [
    {
     "data": {
      "text/html": [
       "<div>\n",
       "<style scoped>\n",
       "    .dataframe tbody tr th:only-of-type {\n",
       "        vertical-align: middle;\n",
       "    }\n",
       "\n",
       "    .dataframe tbody tr th {\n",
       "        vertical-align: top;\n",
       "    }\n",
       "\n",
       "    .dataframe thead th {\n",
       "        text-align: right;\n",
       "    }\n",
       "</style>\n",
       "<table border=\"1\" class=\"dataframe\">\n",
       "  <thead>\n",
       "    <tr style=\"text-align: right;\">\n",
       "      <th></th>\n",
       "      <th>Nome</th>\n",
       "      <th>Idade</th>\n",
       "      <th>Altura</th>\n",
       "      <th>Sex</th>\n",
       "    </tr>\n",
       "  </thead>\n",
       "  <tbody>\n",
       "    <tr>\n",
       "      <th>0</th>\n",
       "      <td>Huan</td>\n",
       "      <td>NaN</td>\n",
       "      <td>NaN</td>\n",
       "      <td>NaN</td>\n",
       "    </tr>\n",
       "    <tr>\n",
       "      <th>1</th>\n",
       "      <td>Luigi</td>\n",
       "      <td>19.0</td>\n",
       "      <td>1.78</td>\n",
       "      <td>NaN</td>\n",
       "    </tr>\n",
       "    <tr>\n",
       "      <th>2</th>\n",
       "      <td>Lucas</td>\n",
       "      <td>18.0</td>\n",
       "      <td>NaN</td>\n",
       "      <td>NaN</td>\n",
       "    </tr>\n",
       "    <tr>\n",
       "      <th>3</th>\n",
       "      <td>Marcos</td>\n",
       "      <td>16.0</td>\n",
       "      <td>1.83</td>\n",
       "      <td>NaN</td>\n",
       "    </tr>\n",
       "    <tr>\n",
       "      <th>4</th>\n",
       "      <td>Ana</td>\n",
       "      <td>NaN</td>\n",
       "      <td>1.75</td>\n",
       "      <td>NaN</td>\n",
       "    </tr>\n",
       "  </tbody>\n",
       "</table>\n",
       "</div>"
      ],
      "text/plain": [
       "     Nome  Idade  Altura  Sex\n",
       "0    Huan    NaN     NaN  NaN\n",
       "1   Luigi   19.0    1.78  NaN\n",
       "2   Lucas   18.0     NaN  NaN\n",
       "3  Marcos   16.0    1.83  NaN\n",
       "4     Ana    NaN    1.75  NaN"
      ]
     },
     "execution_count": 131,
     "metadata": {},
     "output_type": "execute_result"
    }
   ],
   "source": [
    "# df antes de excluir as linhas\n",
    "df"
   ]
  },
  {
   "cell_type": "markdown",
   "id": "7d263751",
   "metadata": {
    "hidden": true
   },
   "source": [
    " "
   ]
  },
  {
   "cell_type": "markdown",
   "id": "2d737327",
   "metadata": {
    "hidden": true
   },
   "source": [
    "Vamos escluir as linhas com base na coluna **Altura**. Ou seja, cada linha da coluna **Altura** que conter valor nulo será excluida."
   ]
  },
  {
   "cell_type": "code",
   "execution_count": 147,
   "id": "402a3856",
   "metadata": {
    "ExecuteTime": {
     "end_time": "2022-11-15T16:39:14.005144Z",
     "start_time": "2022-11-15T16:39:13.984074Z"
    },
    "hidden": true
   },
   "outputs": [
    {
     "data": {
      "text/html": [
       "<div>\n",
       "<style scoped>\n",
       "    .dataframe tbody tr th:only-of-type {\n",
       "        vertical-align: middle;\n",
       "    }\n",
       "\n",
       "    .dataframe tbody tr th {\n",
       "        vertical-align: top;\n",
       "    }\n",
       "\n",
       "    .dataframe thead th {\n",
       "        text-align: right;\n",
       "    }\n",
       "</style>\n",
       "<table border=\"1\" class=\"dataframe\">\n",
       "  <thead>\n",
       "    <tr style=\"text-align: right;\">\n",
       "      <th></th>\n",
       "      <th>Nome</th>\n",
       "      <th>Idade</th>\n",
       "      <th>Altura</th>\n",
       "      <th>Sex</th>\n",
       "    </tr>\n",
       "  </thead>\n",
       "  <tbody>\n",
       "    <tr>\n",
       "      <th>1</th>\n",
       "      <td>Luigi</td>\n",
       "      <td>19.0</td>\n",
       "      <td>1.78</td>\n",
       "      <td>NaN</td>\n",
       "    </tr>\n",
       "    <tr>\n",
       "      <th>3</th>\n",
       "      <td>Marcos</td>\n",
       "      <td>16.0</td>\n",
       "      <td>1.83</td>\n",
       "      <td>NaN</td>\n",
       "    </tr>\n",
       "    <tr>\n",
       "      <th>4</th>\n",
       "      <td>Ana</td>\n",
       "      <td>NaN</td>\n",
       "      <td>1.75</td>\n",
       "      <td>NaN</td>\n",
       "    </tr>\n",
       "  </tbody>\n",
       "</table>\n",
       "</div>"
      ],
      "text/plain": [
       "     Nome  Idade  Altura  Sex\n",
       "1   Luigi   19.0    1.78  NaN\n",
       "3  Marcos   16.0    1.83  NaN\n",
       "4     Ana    NaN    1.75  NaN"
      ]
     },
     "execution_count": 147,
     "metadata": {},
     "output_type": "execute_result"
    }
   ],
   "source": [
    "df.dropna(axis=0, subset=['Altura'])"
   ]
  },
  {
   "cell_type": "markdown",
   "id": "dd79b6ac",
   "metadata": {
    "hidden": true
   },
   "source": [
    " "
   ]
  },
  {
   "cell_type": "markdown",
   "id": "7ab48591",
   "metadata": {
    "hidden": true
   },
   "source": [
    "Vamos escluir as linhas com base na coluna **Altura** e **Idade**. Ou seja, cada linha da coluna **Altura** e da coluna **Idade** que conter valor nulo será excluida."
   ]
  },
  {
   "cell_type": "code",
   "execution_count": 135,
   "id": "8f8941a0",
   "metadata": {
    "ExecuteTime": {
     "end_time": "2022-11-15T16:28:50.671592Z",
     "start_time": "2022-11-15T16:28:50.651887Z"
    },
    "hidden": true
   },
   "outputs": [
    {
     "data": {
      "text/html": [
       "<div>\n",
       "<style scoped>\n",
       "    .dataframe tbody tr th:only-of-type {\n",
       "        vertical-align: middle;\n",
       "    }\n",
       "\n",
       "    .dataframe tbody tr th {\n",
       "        vertical-align: top;\n",
       "    }\n",
       "\n",
       "    .dataframe thead th {\n",
       "        text-align: right;\n",
       "    }\n",
       "</style>\n",
       "<table border=\"1\" class=\"dataframe\">\n",
       "  <thead>\n",
       "    <tr style=\"text-align: right;\">\n",
       "      <th></th>\n",
       "      <th>Nome</th>\n",
       "      <th>Idade</th>\n",
       "      <th>Altura</th>\n",
       "      <th>Sex</th>\n",
       "    </tr>\n",
       "  </thead>\n",
       "  <tbody>\n",
       "    <tr>\n",
       "      <th>1</th>\n",
       "      <td>Luigi</td>\n",
       "      <td>19.0</td>\n",
       "      <td>1.78</td>\n",
       "      <td>NaN</td>\n",
       "    </tr>\n",
       "    <tr>\n",
       "      <th>3</th>\n",
       "      <td>Marcos</td>\n",
       "      <td>16.0</td>\n",
       "      <td>1.83</td>\n",
       "      <td>NaN</td>\n",
       "    </tr>\n",
       "  </tbody>\n",
       "</table>\n",
       "</div>"
      ],
      "text/plain": [
       "     Nome  Idade  Altura  Sex\n",
       "1   Luigi   19.0    1.78  NaN\n",
       "3  Marcos   16.0    1.83  NaN"
      ]
     },
     "execution_count": 135,
     "metadata": {},
     "output_type": "execute_result"
    }
   ],
   "source": [
    "df.dropna(axis=0, subset=['Altura', 'Idade'])"
   ]
  },
  {
   "cell_type": "markdown",
   "id": "7b99af20",
   "metadata": {
    "hidden": true
   },
   "source": [
    " "
   ]
  },
  {
   "cell_type": "markdown",
   "id": "f29773fa",
   "metadata": {
    "hidden": true
   },
   "source": [
    "Vamos escluir as coluna com base na **primeira linha do df**. Ou seja, cada coluna da **primeira linha do df** que conter valor nulo será excluida."
   ]
  },
  {
   "cell_type": "code",
   "execution_count": 137,
   "id": "02ccf251",
   "metadata": {
    "ExecuteTime": {
     "end_time": "2022-11-15T16:30:38.847951Z",
     "start_time": "2022-11-15T16:30:38.832656Z"
    },
    "hidden": true
   },
   "outputs": [
    {
     "data": {
      "text/html": [
       "<div>\n",
       "<style scoped>\n",
       "    .dataframe tbody tr th:only-of-type {\n",
       "        vertical-align: middle;\n",
       "    }\n",
       "\n",
       "    .dataframe tbody tr th {\n",
       "        vertical-align: top;\n",
       "    }\n",
       "\n",
       "    .dataframe thead th {\n",
       "        text-align: right;\n",
       "    }\n",
       "</style>\n",
       "<table border=\"1\" class=\"dataframe\">\n",
       "  <thead>\n",
       "    <tr style=\"text-align: right;\">\n",
       "      <th></th>\n",
       "      <th>Nome</th>\n",
       "    </tr>\n",
       "  </thead>\n",
       "  <tbody>\n",
       "    <tr>\n",
       "      <th>0</th>\n",
       "      <td>Huan</td>\n",
       "    </tr>\n",
       "    <tr>\n",
       "      <th>1</th>\n",
       "      <td>Luigi</td>\n",
       "    </tr>\n",
       "    <tr>\n",
       "      <th>2</th>\n",
       "      <td>Lucas</td>\n",
       "    </tr>\n",
       "    <tr>\n",
       "      <th>3</th>\n",
       "      <td>Marcos</td>\n",
       "    </tr>\n",
       "    <tr>\n",
       "      <th>4</th>\n",
       "      <td>Ana</td>\n",
       "    </tr>\n",
       "  </tbody>\n",
       "</table>\n",
       "</div>"
      ],
      "text/plain": [
       "     Nome\n",
       "0    Huan\n",
       "1   Luigi\n",
       "2   Lucas\n",
       "3  Marcos\n",
       "4     Ana"
      ]
     },
     "execution_count": 137,
     "metadata": {},
     "output_type": "execute_result"
    }
   ],
   "source": [
    "df.dropna(axis=1, subset=[0])"
   ]
  },
  {
   "cell_type": "markdown",
   "id": "976ccbcb",
   "metadata": {
    "hidden": true
   },
   "source": [
    " "
   ]
  },
  {
   "cell_type": "markdown",
   "id": "727aec64",
   "metadata": {
    "hidden": true
   },
   "source": [
    "Vamos escluir as coluna com base na **primeira linha do df** e na **quinta linha do df**. Ou seja, cada coluna da **primeira linha do df** e da **primeira linha do df** que conter valor nulo será excluida."
   ]
  },
  {
   "cell_type": "code",
   "execution_count": 152,
   "id": "5c0dd0b8",
   "metadata": {
    "ExecuteTime": {
     "end_time": "2022-11-15T16:41:12.213852Z",
     "start_time": "2022-11-15T16:41:12.196948Z"
    },
    "hidden": true
   },
   "outputs": [
    {
     "data": {
      "text/html": [
       "<div>\n",
       "<style scoped>\n",
       "    .dataframe tbody tr th:only-of-type {\n",
       "        vertical-align: middle;\n",
       "    }\n",
       "\n",
       "    .dataframe tbody tr th {\n",
       "        vertical-align: top;\n",
       "    }\n",
       "\n",
       "    .dataframe thead th {\n",
       "        text-align: right;\n",
       "    }\n",
       "</style>\n",
       "<table border=\"1\" class=\"dataframe\">\n",
       "  <thead>\n",
       "    <tr style=\"text-align: right;\">\n",
       "      <th></th>\n",
       "      <th>Nome</th>\n",
       "    </tr>\n",
       "  </thead>\n",
       "  <tbody>\n",
       "    <tr>\n",
       "      <th>0</th>\n",
       "      <td>Huan</td>\n",
       "    </tr>\n",
       "    <tr>\n",
       "      <th>1</th>\n",
       "      <td>Luigi</td>\n",
       "    </tr>\n",
       "    <tr>\n",
       "      <th>2</th>\n",
       "      <td>Lucas</td>\n",
       "    </tr>\n",
       "    <tr>\n",
       "      <th>3</th>\n",
       "      <td>Marcos</td>\n",
       "    </tr>\n",
       "    <tr>\n",
       "      <th>4</th>\n",
       "      <td>Ana</td>\n",
       "    </tr>\n",
       "  </tbody>\n",
       "</table>\n",
       "</div>"
      ],
      "text/plain": [
       "     Nome\n",
       "0    Huan\n",
       "1   Luigi\n",
       "2   Lucas\n",
       "3  Marcos\n",
       "4     Ana"
      ]
     },
     "execution_count": 152,
     "metadata": {},
     "output_type": "execute_result"
    }
   ],
   "source": [
    "df.dropna(axis=1, subset=[0, 4])"
   ]
  },
  {
   "cell_type": "markdown",
   "id": "39323ad6",
   "metadata": {
    "hidden": true
   },
   "source": [
    "<br>"
   ]
  },
  {
   "cell_type": "markdown",
   "id": "e47cc5f3",
   "metadata": {
    "hidden": true
   },
   "source": [
    "\n",
    "### <font color=purple>implace  : bool, default False<font>"
   ]
  },
  {
   "cell_type": "markdown",
   "id": "130bfee8",
   "metadata": {
    "hidden": true
   },
   "source": [
    "Quando True, o DataFrame de origem é alterado. Quando False, um novo DataFrame é retornado."
   ]
  },
  {
   "cell_type": "code",
   "execution_count": 157,
   "id": "778ee8ef",
   "metadata": {
    "ExecuteTime": {
     "end_time": "2022-11-15T16:43:42.502190Z",
     "start_time": "2022-11-15T16:43:42.489401Z"
    },
    "hidden": true
   },
   "outputs": [
    {
     "data": {
      "text/html": [
       "<div>\n",
       "<style scoped>\n",
       "    .dataframe tbody tr th:only-of-type {\n",
       "        vertical-align: middle;\n",
       "    }\n",
       "\n",
       "    .dataframe tbody tr th {\n",
       "        vertical-align: top;\n",
       "    }\n",
       "\n",
       "    .dataframe thead th {\n",
       "        text-align: right;\n",
       "    }\n",
       "</style>\n",
       "<table border=\"1\" class=\"dataframe\">\n",
       "  <thead>\n",
       "    <tr style=\"text-align: right;\">\n",
       "      <th></th>\n",
       "      <th>Nome</th>\n",
       "      <th>Idade</th>\n",
       "      <th>Altura</th>\n",
       "      <th>Sex</th>\n",
       "    </tr>\n",
       "  </thead>\n",
       "  <tbody>\n",
       "  </tbody>\n",
       "</table>\n",
       "</div>"
      ],
      "text/plain": [
       "Empty DataFrame\n",
       "Columns: [Nome, Idade, Altura, Sex]\n",
       "Index: []"
      ]
     },
     "execution_count": 157,
     "metadata": {},
     "output_type": "execute_result"
    }
   ],
   "source": [
    "# Um novo DataFrame é retornado\n",
    "df_novo = df.dropna(axis=0, inplace=False)\n",
    "df_novo"
   ]
  },
  {
   "cell_type": "markdown",
   "id": "ccec1ee4",
   "metadata": {
    "hidden": true
   },
   "source": [
    "Vamos escluir as coluna com base na **primeira linha do df**. Ou seja, cada coluna da **primeira linha do df** que conter valor nulo será excluida."
   ]
  },
  {
   "cell_type": "markdown",
   "id": "c108d173",
   "metadata": {
    "hidden": true
   },
   "source": [
    " "
   ]
  },
  {
   "cell_type": "code",
   "execution_count": 159,
   "id": "c6dfe6a6",
   "metadata": {
    "ExecuteTime": {
     "end_time": "2022-11-15T16:43:49.324083Z",
     "start_time": "2022-11-15T16:43:49.309627Z"
    },
    "hidden": true
   },
   "outputs": [
    {
     "data": {
      "text/html": [
       "<div>\n",
       "<style scoped>\n",
       "    .dataframe tbody tr th:only-of-type {\n",
       "        vertical-align: middle;\n",
       "    }\n",
       "\n",
       "    .dataframe tbody tr th {\n",
       "        vertical-align: top;\n",
       "    }\n",
       "\n",
       "    .dataframe thead th {\n",
       "        text-align: right;\n",
       "    }\n",
       "</style>\n",
       "<table border=\"1\" class=\"dataframe\">\n",
       "  <thead>\n",
       "    <tr style=\"text-align: right;\">\n",
       "      <th></th>\n",
       "      <th>Nome</th>\n",
       "      <th>Idade</th>\n",
       "      <th>Altura</th>\n",
       "      <th>Sex</th>\n",
       "    </tr>\n",
       "  </thead>\n",
       "  <tbody>\n",
       "  </tbody>\n",
       "</table>\n",
       "</div>"
      ],
      "text/plain": [
       "Empty DataFrame\n",
       "Columns: [Nome, Idade, Altura, Sex]\n",
       "Index: []"
      ]
     },
     "execution_count": 159,
     "metadata": {},
     "output_type": "execute_result"
    }
   ],
   "source": [
    "# O DataFrame original é alterado\n",
    "df.dropna(axis=0, inplace=True)\n",
    "df"
   ]
  },
  {
   "cell_type": "markdown",
   "id": "b26688fa",
   "metadata": {
    "hidden": true
   },
   "source": [
    "<br>"
   ]
  },
  {
   "cell_type": "markdown",
   "id": "bf585a49",
   "metadata": {
    "heading_collapsed": true,
    "hidden": true
   },
   "source": [
    "## 👾 <font size=5>fillna<font>"
   ]
  },
  {
   "cell_type": "markdown",
   "id": "9592eef7",
   "metadata": {
    "heading_collapsed": true,
    "hidden": true
   },
   "source": [
    "## 👾 <font size=5>replace<font>"
   ]
  },
  {
   "cell_type": "markdown",
   "id": "fa73fb06",
   "metadata": {
    "heading_collapsed": true,
    "hidden": true
   },
   "source": [
    "## 👾 <font size=5>interpolate<font>"
   ]
  }
 ],
 "metadata": {
  "kernelspec": {
   "display_name": "Python 3 (ipykernel)",
   "language": "python",
   "name": "python3"
  },
  "language_info": {
   "codemirror_mode": {
    "name": "ipython",
    "version": 3
   },
   "file_extension": ".py",
   "mimetype": "text/x-python",
   "name": "python",
   "nbconvert_exporter": "python",
   "pygments_lexer": "ipython3",
   "version": "3.11.1"
  },
  "varInspector": {
   "cols": {
    "lenName": 16,
    "lenType": 16,
    "lenVar": 40
   },
   "kernels_config": {
    "python": {
     "delete_cmd_postfix": "",
     "delete_cmd_prefix": "del ",
     "library": "var_list.py",
     "varRefreshCmd": "print(var_dic_list())"
    },
    "r": {
     "delete_cmd_postfix": ") ",
     "delete_cmd_prefix": "rm(",
     "library": "var_list.r",
     "varRefreshCmd": "cat(var_dic_list()) "
    }
   },
   "position": {
    "height": "144.85px",
    "left": "645.8px",
    "right": "20px",
    "top": "132px",
    "width": "499px"
   },
   "types_to_exclude": [
    "module",
    "function",
    "builtin_function_or_method",
    "instance",
    "_Feature"
   ],
   "window_display": false
  }
 },
 "nbformat": 4,
 "nbformat_minor": 5
}
