{
 "cells": [
  {
   "cell_type": "markdown",
   "id": "36a71146",
   "metadata": {},
   "source": [
    "# Introduçao"
   ]
  },
  {
   "cell_type": "markdown",
   "id": "f8099ddc",
   "metadata": {},
   "source": [
    "As queues/filas sao estrutura de de dados com o seguinte conceito: armazenar itens em FIFO (first in / first out), o que significa primeiro a entrar / primeiro a sair. E possivel implementar as queues/filas ultilizando:\n",
    "<br><br>\n",
    "- lista\n",
    "- classe deque do modulo collections\n",
    "- array\n",
    "<br><br>\n",
    "\n",
    "Dentre essas estruturas de dados a estrutura Collections.deque e array sao mais eficiente na hora da implementacao das filas, pois elas usam um gerenciador de meroria melhor que o da lista o que deixa essas estruturas mais eficazes para trabalhar com muitos dados."
   ]
  },
  {
   "cell_type": "markdown",
   "id": "a742af91",
   "metadata": {},
   "source": [
    "### ▶ Implementando queues com Collections.deque"
   ]
  },
  {
   "cell_type": "code",
   "execution_count": 25,
   "id": "1f996949",
   "metadata": {},
   "outputs": [],
   "source": [
    "from collections import deque"
   ]
  },
  {
   "cell_type": "code",
   "execution_count": 30,
   "id": "2a6716f3",
   "metadata": {},
   "outputs": [
    {
     "name": "stdout",
     "output_type": "stream",
     "text": [
      "deque([0, 1], maxlen=2)\n",
      "deque([2, 3], maxlen=2)\n",
      "2\n",
      "\n"
     ]
    }
   ],
   "source": [
    "# Criando um deque\n",
    "fila = deque(range(2), maxlen=2) # O maxlen serve para determinar o tamanaho maximo de um deque\n",
    "print(fila)                \n",
    "\n",
    "''' Se por caso novos elementos forem implementados e esses elementos ultrapassarem o limite. \n",
    "Os primeiros itens seram excluidos para a entrada dos novos.\n",
    "'''\n",
    "\n",
    "fila.append(2)\n",
    "fila.append(3)\n",
    "print(fila)\n",
    "\n",
    "print(fila.maxlen) \n",
    "'''\n",
    "Retorna o maxlen da lista se esse parametro for determinado, caso contrario retorna none\n",
    "'''\n",
    "print()"
   ]
  },
  {
   "cell_type": "code",
   "execution_count": 21,
   "id": "48dec2e3",
   "metadata": {},
   "outputs": [
    {
     "name": "stdout",
     "output_type": "stream",
     "text": [
      "deque(['Huan', [1, 2, 3, 4]])\n"
     ]
    }
   ],
   "source": [
    "# Apendando elementos no final do deque\n",
    "fila = deque()\n",
    "\n",
    "fila.append('Huan')\n",
    "fila.append([1, 2, 3, 4])\n",
    "\n",
    "print(fila)"
   ]
  },
  {
   "cell_type": "code",
   "execution_count": 20,
   "id": "748360e0",
   "metadata": {},
   "outputs": [
    {
     "name": "stdout",
     "output_type": "stream",
     "text": [
      "deque([[1, 2, 3, 4], 'Huan', 'l', 'u', 'i', 'g', 'i'])\n"
     ]
    }
   ],
   "source": [
    "# Apendando elementos no começo do deque\n",
    "fila = deque('luigi') # Ao usar a funcao em uma str, a mesma sera divida letra por letra\n",
    "                       # Para eviatr isso basta adcioar a str dentro de colchetes\n",
    "\n",
    "fila.appendleft('Huan')\n",
    "fila.appendleft([1, 2, 3, 4])\n",
    "\n",
    "print(fila)"
   ]
  },
  {
   "cell_type": "code",
   "execution_count": 19,
   "id": "8b645225",
   "metadata": {},
   "outputs": [
    {
     "name": "stdout",
     "output_type": "stream",
     "text": [
      "deque([0, 1, 2, 3, 4, 5, 6, 7, 8, 9])\n",
      "deque([])\n"
     ]
    }
   ],
   "source": [
    "# Limpando um deque\n",
    "fila = deque(range(10))\n",
    "print(fila)\n",
    "\n",
    "fila.clear()\n",
    "print(fila)"
   ]
  },
  {
   "cell_type": "code",
   "execution_count": 18,
   "id": "bc8f3eb2",
   "metadata": {},
   "outputs": [
    {
     "name": "stdout",
     "output_type": "stream",
     "text": [
      "deque([0, 1, 2, 3, 4, 5, 6, 7, 8, 9])\n",
      "deque([0, 1, 2, 3, 4, 5, 6, 7, 8, 11])\n"
     ]
    }
   ],
   "source": [
    "# Criando uma copia superficial do deque de 2 formas\n",
    "# Por mais que a fila original nao mude, algumas operacores usando esse tipo de copy pode dar erro\n",
    "\n",
    "fila = deque(range(10))\n",
    "\n",
    "fila2 = fila.copy()\n",
    "fila2[-1] = 11\n",
    "\n",
    "print(fila)\n",
    "print(fila2)"
   ]
  },
  {
   "cell_type": "code",
   "execution_count": 17,
   "id": "0cc59efb",
   "metadata": {},
   "outputs": [
    {
     "name": "stdout",
     "output_type": "stream",
     "text": [
      "3\n"
     ]
    }
   ],
   "source": [
    "# Contando a quantidade de elementos iguais\n",
    "\n",
    "fila = deque([0, 1, 2, 3, 4, 5, 6, 9, 9, 9])\n",
    "quantidade = fila.count(9)\n",
    "\n",
    "print(quantidade)"
   ]
  },
  {
   "cell_type": "code",
   "execution_count": 16,
   "id": "760a5612",
   "metadata": {},
   "outputs": [
    {
     "name": "stdout",
     "output_type": "stream",
     "text": [
      "deque(['Huan', 'Luigi'])\n"
     ]
    }
   ],
   "source": [
    "# Adcionando elementos no final do deque atraves do extend\n",
    "\n",
    "fila = deque(['Huan'])\n",
    "fila.extend(['Luigi']) # Ao apendar uma str ultilizando o extend, a str sera apendada toda desmontada\n",
    "                        # Para que isso nao ocorra, e necessario colocar a str dentro de colchetes\n",
    "# fila.extend(3)       # Nao e possivel usar dados diferentes de iterables como argumento\n",
    "    \n",
    "print(fila)"
   ]
  },
  {
   "cell_type": "code",
   "execution_count": 15,
   "id": "705fd3bf",
   "metadata": {},
   "outputs": [
    {
     "name": "stdout",
     "output_type": "stream",
     "text": [
      "deque(['Luigi', 'Huan'])\n"
     ]
    }
   ],
   "source": [
    "# Adcionando elementos no começo do deque atraves do extend\n",
    "\n",
    "fila = deque(['Huan'])\n",
    "fila.extendleft(['Luigi'])\n",
    "\n",
    "print(fila)"
   ]
  },
  {
   "cell_type": "code",
   "execution_count": 14,
   "id": "84bfce3b",
   "metadata": {},
   "outputs": [
    {
     "name": "stdout",
     "output_type": "stream",
     "text": [
      "0\n"
     ]
    }
   ],
   "source": [
    "# O metodo index retorna a primeira ocorrencia do elemento procurado \n",
    "\n",
    "fila = deque(['Huan'])\n",
    "posicao = fila[0].index('H',0,3)\n",
    "\n",
    "print(posicao)"
   ]
  },
  {
   "cell_type": "code",
   "execution_count": 13,
   "id": "6b6583d3",
   "metadata": {},
   "outputs": [
    {
     "name": "stdout",
     "output_type": "stream",
     "text": [
      "deque([0, 1, 2, 3, 4, 5, 6, 7, 8, 'x', 9])\n"
     ]
    }
   ],
   "source": [
    "# O metodo insert serve para appendar elementos em uma stack em uma posicao especifica\n",
    "\n",
    "fila = deque(range(10))\n",
    "fila.insert(9, 'x')\n",
    "\n",
    "print(fila)"
   ]
  },
  {
   "cell_type": "code",
   "execution_count": 12,
   "id": "403c696e",
   "metadata": {},
   "outputs": [
    {
     "name": "stdout",
     "output_type": "stream",
     "text": [
      "deque([0, 1, 2, 3, 4, 5, 6, 7, 8, 9])\n",
      "deque([0, 1, 2, 3, 4, 5, 6, 7, 8])\n"
     ]
    }
   ],
   "source": [
    "# O metodo pop serve para remover o ultimo elemento da queue\n",
    "\n",
    "fila = deque(range(10))\n",
    "print(fila)\n",
    "fila.pop()\n",
    "\n",
    "print(fila)"
   ]
  },
  {
   "cell_type": "code",
   "execution_count": 11,
   "id": "43c8d928",
   "metadata": {},
   "outputs": [
    {
     "name": "stdout",
     "output_type": "stream",
     "text": [
      "deque([0, 1, 2, 3, 4, 5, 6, 7, 8, 9])\n",
      "deque([1, 2, 3, 4, 5, 6, 7, 8, 9])\n"
     ]
    }
   ],
   "source": [
    "# o popleft serve cara esxluir o primeiro item da queue\n",
    "\n",
    "fila = deque(range(10))\n",
    "print(fila)\n",
    "fila.popleft()\n",
    "\n",
    "print(fila)"
   ]
  },
  {
   "cell_type": "code",
   "execution_count": 10,
   "id": "396794ac",
   "metadata": {},
   "outputs": [
    {
     "name": "stdout",
     "output_type": "stream",
     "text": [
      "deque([0, 1, 2, 3, 4, 5, 6, 7, 8, 9])\n",
      "deque([0, 1, 2, 3, 4, 5, 6, 7, 8])\n"
     ]
    }
   ],
   "source": [
    "# Removendo elementos com o remove\n",
    "\n",
    "fila = deque(range(10))\n",
    "print(fila)\n",
    "fila.remove(9) # Remove a primeira ocorrencia do elemento\n",
    "                # Caso o elemento nao exista sera retornado um ValueErro\n",
    "\n",
    "print(fila)"
   ]
  },
  {
   "cell_type": "code",
   "execution_count": 9,
   "id": "1cfbfb67",
   "metadata": {},
   "outputs": [
    {
     "name": "stdout",
     "output_type": "stream",
     "text": [
      "deque([0, 1, 2, 3, 4, 5, 6, 7, 8, 9])\n",
      "deque([9, 8, 7, 6, 5, 4, 3, 2, 1, 0])\n"
     ]
    }
   ],
   "source": [
    "# O metodo reverse inverte os elementos da queue\n",
    "\n",
    "fila = deque(range(10))\n",
    "print(fila)\n",
    "fila.reverse() \n",
    "\n",
    "print(fila)"
   ]
  },
  {
   "cell_type": "code",
   "execution_count": 8,
   "id": "ff06bab2",
   "metadata": {},
   "outputs": [
    {
     "name": "stdout",
     "output_type": "stream",
     "text": [
      "deque([0, 1, 2, 3, 4, 5, 6, 7, 8, 9])\n",
      "deque([8, 9, 0, 1, 2, 3, 4, 5, 6, 7]) \n",
      "\n",
      "deque([0, 1, 2, 3, 4, 5, 6, 7, 8, 9])\n",
      "deque([2, 3, 4, 5, 6, 7, 8, 9, 0, 1])\n"
     ]
    }
   ],
   "source": [
    "# Rotate serve para para inverter n quantidade de elementos\n",
    "\n",
    "# Girando o deque para a direita\n",
    "fila = deque(range(10))\n",
    "print(fila)\n",
    "fila.rotate(2) \n",
    "\n",
    "print(fila,'\\n')\n",
    "\n",
    "\n",
    "# Girando o deque para a esquerda\n",
    "fila = deque(range(10))\n",
    "print(fila)\n",
    "fila.rotate(-2) \n",
    "\n",
    "print(fila)"
   ]
  },
  {
   "cell_type": "markdown",
   "id": "0153d2fe",
   "metadata": {},
   "source": [
    "### ▶ Implementando queues com array"
   ]
  },
  {
   "cell_type": "code",
   "execution_count": 1,
   "id": "20109f69",
   "metadata": {},
   "outputs": [],
   "source": [
    "import numpy as np"
   ]
  },
  {
   "cell_type": "code",
   "execution_count": 5,
   "id": "03d221b6",
   "metadata": {},
   "outputs": [
    {
     "name": "stdout",
     "output_type": "stream",
     "text": [
      "[  0   1   2   3   4   5   6   7   8   9 100] \n",
      "\n",
      "[  1   2   3   4   5   6   7   8   9 100] \n",
      "\n",
      "10\n"
     ]
    }
   ],
   "source": [
    "fila = np.array(range(10))\n",
    "\n",
    "# Inserindo elemento na fila\n",
    "fila = np.append(arr=fila, values=100)\n",
    "print(fila,'\\n')\n",
    "\n",
    "# Excluindo elemento da fila\n",
    "fila = np.delete(arr=fila, obj=0)\n",
    "print(fila,'\\n')\n",
    "\n",
    "# Quantidades de elementos da fila\n",
    "print(fila.size)"
   ]
  }
 ],
 "metadata": {
  "kernelspec": {
   "display_name": "Python 3 (ipykernel)",
   "language": "python",
   "name": "python3"
  },
  "language_info": {
   "codemirror_mode": {
    "name": "ipython",
    "version": 3
   },
   "file_extension": ".py",
   "mimetype": "text/x-python",
   "name": "python",
   "nbconvert_exporter": "python",
   "pygments_lexer": "ipython3",
   "version": "3.10.4"
  }
 },
 "nbformat": 4,
 "nbformat_minor": 5
}
