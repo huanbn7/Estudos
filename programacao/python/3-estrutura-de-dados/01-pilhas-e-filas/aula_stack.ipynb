{
 "cells": [
  {
   "cell_type": "markdown",
   "id": "36a71146",
   "metadata": {},
   "source": [
    "# Introduçao"
   ]
  },
  {
   "cell_type": "markdown",
   "id": "f8099ddc",
   "metadata": {},
   "source": [
    "As stacks/pilhas sao estrutura de de dados com o seguinte conceito: armazenar itens em LIFO (last in / first out), o que significa (ultimo a entrar / primeiro a sair). E possivel implementar as stacks/pilhas ultilizando:\n",
    "<br><br>\n",
    "- lista\n",
    "- classe deque do modulo collections\n",
    "- array\n",
    "<br><br>\n",
    "\n",
    "Dentre essas estruturas de dados a estrutura Collections.deque e array sao mais eficiente na hora da implementacao das pilhas, pois elas usam um gerenciador de meroria melhor que o da lista o que deixa essas estruturas mais eficazes para trabalhar com muitos dados."
   ]
  },
  {
   "cell_type": "markdown",
   "id": "3bf312c2",
   "metadata": {},
   "source": [
    "### ▶ Implementando stacks com listas"
   ]
  },
  {
   "cell_type": "code",
   "execution_count": 15,
   "id": "c6ca6b97",
   "metadata": {},
   "outputs": [
    {
     "name": "stdout",
     "output_type": "stream",
     "text": [
      "[0, 1, 2, 3, 4, 5, 6, 7, 8, 9, 100] \n",
      "\n",
      "[0, 1, 2, 3, 4, 5, 6, 7, 8, 9]\n"
     ]
    }
   ],
   "source": [
    "pilha = [i for i in range(10)]\n",
    "\n",
    "# Inserindo elemento na pilha\n",
    "pilha.append(100)\n",
    "print(pilha,'\\n')\n",
    "\n",
    "# Excluindo elemento da pilha\n",
    "pilha.pop()\n",
    "print(pilha)"
   ]
  },
  {
   "cell_type": "markdown",
   "id": "fe730db2",
   "metadata": {},
   "source": [
    "### ▶ Implementando stacks com Collections.deque"
   ]
  },
  {
   "cell_type": "code",
   "execution_count": 10,
   "id": "ac789b59",
   "metadata": {},
   "outputs": [],
   "source": [
    "from collections import deque"
   ]
  },
  {
   "cell_type": "code",
   "execution_count": 12,
   "id": "ef2b503b",
   "metadata": {},
   "outputs": [
    {
     "name": "stdout",
     "output_type": "stream",
     "text": [
      "deque([0, 1, 2, 3, 4, 5, 6, 7, 8, 9, 100]) \n",
      "\n",
      "deque([0, 1, 2, 3, 4, 5, 6, 7, 8, 9])\n"
     ]
    }
   ],
   "source": [
    "pilha = deque(range(10), maxlen=None)\n",
    "\n",
    "# Inserindo elemento na pilha\n",
    "pilha.append(100)\n",
    "print(pilha,'\\n')\n",
    "\n",
    "# Excluindo elemento da pilha\n",
    "pilha.pop()\n",
    "print(pilha)"
   ]
  },
  {
   "cell_type": "markdown",
   "id": "53446526",
   "metadata": {},
   "source": [
    "### ▶ Implementando stacks com array"
   ]
  },
  {
   "cell_type": "code",
   "execution_count": 1,
   "id": "6bab74b6",
   "metadata": {},
   "outputs": [],
   "source": [
    "import numpy as np"
   ]
  },
  {
   "cell_type": "code",
   "execution_count": 5,
   "id": "72b8b78b",
   "metadata": {},
   "outputs": [
    {
     "name": "stdout",
     "output_type": "stream",
     "text": [
      "[  0   1   2   3   4   5   6   7   8   9 100] \n",
      "\n",
      "[0 1 2 3 4 5 6 7 8 9]\n"
     ]
    }
   ],
   "source": [
    "pilha = np.array(range(10))\n",
    "\n",
    "# Inserindo elemento na pilha\n",
    "pilha = np.append(arr=pilha, values=100)\n",
    "print(pilha,'\\n')\n",
    "\n",
    "# Excluindo elemento da pilha\n",
    "pilha = np.delete(arr=pilha, obj=-1)\n",
    "print(pilha)"
   ]
  }
 ],
 "metadata": {
  "kernelspec": {
   "display_name": "Python 3 (ipykernel)",
   "language": "python",
   "name": "python3"
  },
  "language_info": {
   "codemirror_mode": {
    "name": "ipython",
    "version": 3
   },
   "file_extension": ".py",
   "mimetype": "text/x-python",
   "name": "python",
   "nbconvert_exporter": "python",
   "pygments_lexer": "ipython3",
   "version": "3.10.4"
  }
 },
 "nbformat": 4,
 "nbformat_minor": 5
}
