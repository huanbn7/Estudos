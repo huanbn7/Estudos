{
 "cells": [
  {
   "cell_type": "markdown",
   "id": "ab936d9f",
   "metadata": {},
   "source": [
    "Exercício Python 032: Faça um programa que leia um ano qualquer e mostre se ele é bissexto."
   ]
  },
  {
   "cell_type": "code",
   "execution_count": null,
   "id": "2544fdf7",
   "metadata": {},
   "outputs": [],
   "source": [
    "a = int(input(\"Digite o ano a ser analisado: \" ))\n",
    "\n",
    "if a%4==0 and a%100!=0 or a%400==0:\n",
    "  print(f\"O ano {a} é bissexto\")\n",
    "else:\n",
    "  print(f\"O ano {a} não é bissexto\")"
   ]
  }
 ],
 "metadata": {
  "kernelspec": {
   "display_name": "Python 3 (ipykernel)",
   "language": "python",
   "name": "python3"
  },
  "language_info": {
   "codemirror_mode": {
    "name": "ipython",
    "version": 3
   },
   "file_extension": ".py",
   "mimetype": "text/x-python",
   "name": "python",
   "nbconvert_exporter": "python",
   "pygments_lexer": "ipython3",
   "version": "3.9.7"
  }
 },
 "nbformat": 4,
 "nbformat_minor": 5
}
