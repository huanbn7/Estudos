{
 "cells": [
  {
   "cell_type": "markdown",
   "id": "bd38cc0c",
   "metadata": {},
   "source": [
    "Exercício Python 034: Escreva um programa que pergunte o salário de um funcionário e calcule o valor do seu aumento. Para salários superiores a R$1250,00, calcule um aumento de 10%. Para os inferiores ou iguais, o aumento é de 15%."
   ]
  },
  {
   "cell_type": "code",
   "execution_count": null,
   "id": "f669c415",
   "metadata": {},
   "outputs": [],
   "source": [
    "w = int(input(\"what is the salary you receive?\"))\n",
    "\n",
    "i1 = w*0.1\n",
    "i2 = w*0.15\n",
    "\n",
    "if w <= 1250:\n",
    "  print(f\"you got a raise of ${i1}, the new salary is ${w+i1:.2f}\")\n",
    "else:\n",
    "  print(f\"you got a raise of ${i2}, the new salary is ${w+i2:.2f}\")"
   ]
  }
 ],
 "metadata": {
  "kernelspec": {
   "display_name": "Python 3 (ipykernel)",
   "language": "python",
   "name": "python3"
  },
  "language_info": {
   "codemirror_mode": {
    "name": "ipython",
    "version": 3
   },
   "file_extension": ".py",
   "mimetype": "text/x-python",
   "name": "python",
   "nbconvert_exporter": "python",
   "pygments_lexer": "ipython3",
   "version": "3.9.7"
  }
 },
 "nbformat": 4,
 "nbformat_minor": 5
}
