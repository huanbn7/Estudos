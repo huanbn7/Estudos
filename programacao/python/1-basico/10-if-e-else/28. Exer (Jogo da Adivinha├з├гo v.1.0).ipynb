{
 "cells": [
  {
   "cell_type": "markdown",
   "id": "fd69f59d",
   "metadata": {},
   "source": [
    "Exercício Python 028: Escreva um programa que faça o computador \"pensar\" em um número inteiro entre 0 e 5 e peça para o usuário tentar descobrir qual foi o número escolhido pelo computador. O programa deverá escrever na tela se o usuário venceu ou perdeu."
   ]
  },
  {
   "cell_type": "code",
   "execution_count": null,
   "id": "b56b8169",
   "metadata": {},
   "outputs": [],
   "source": [
    "n1 = int(input(\"Entre 0 e 5 em que número eu pensei?\" ))\n",
    "\n",
    "n2 = 0\n",
    "\n",
    "if n1 != 0:\n",
    "  print(\"Você errou, tente novamente\")\n",
    "else:\n",
    "  print(\"parabéns, você acertou\")\n",
    "  print(\"Fim\")"
   ]
  }
 ],
 "metadata": {
  "kernelspec": {
   "display_name": "Python 3 (ipykernel)",
   "language": "python",
   "name": "python3"
  },
  "language_info": {
   "codemirror_mode": {
    "name": "ipython",
    "version": 3
   },
   "file_extension": ".py",
   "mimetype": "text/x-python",
   "name": "python",
   "nbconvert_exporter": "python",
   "pygments_lexer": "ipython3",
   "version": "3.9.7"
  }
 },
 "nbformat": 4,
 "nbformat_minor": 5
}
