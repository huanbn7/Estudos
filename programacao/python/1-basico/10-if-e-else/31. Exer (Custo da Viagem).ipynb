{
 "cells": [
  {
   "cell_type": "markdown",
   "id": "31efeb7c",
   "metadata": {},
   "source": [
    "Exercício Python 031: Desenvolva um programa que pergunte a distância de uma viagem em Km. Calcule o preço da passagem, cobrando 0,50 por Km para viagens de até 200Km e 0,45 parta viagens mais longas."
   ]
  },
  {
   "cell_type": "code",
   "execution_count": 1,
   "id": "560cc972",
   "metadata": {},
   "outputs": [
    {
     "name": "stdout",
     "output_type": "stream",
     "text": [
      "Digite quantos km você vai viajar:1500\n",
      "A sua passagem vai custar R$675.00\n",
      "Tenha uma boa viagem\n"
     ]
    }
   ],
   "source": [
    "kmv = float(input(\"Digite quantos km você vai viajar:\"))\n",
    "\n",
    "if kmv <= 200:\n",
    "  print(\"A sua passagem vai custar R${:.2f}\".format(kmv*0.5))\n",
    "  print(\"Tenha uma boa viagem\")\n",
    "else:\n",
    "  print(\"A sua passagem vai custar R${:.2f}\".format(kmv*0.45))\n",
    "  print(\"Tenha uma boa viagem\")"
   ]
  }
 ],
 "metadata": {
  "kernelspec": {
   "display_name": "Python 3 (ipykernel)",
   "language": "python",
   "name": "python3"
  },
  "language_info": {
   "codemirror_mode": {
    "name": "ipython",
    "version": 3
   },
   "file_extension": ".py",
   "mimetype": "text/x-python",
   "name": "python",
   "nbconvert_exporter": "python",
   "pygments_lexer": "ipython3",
   "version": "3.9.7"
  }
 },
 "nbformat": 4,
 "nbformat_minor": 5
}
