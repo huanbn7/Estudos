{
 "cells": [
  {
   "cell_type": "markdown",
   "id": "9c6f399e",
   "metadata": {},
   "source": [
    "Exercício Python 029: Escreva um programa que leia a velocidade de um carro. Se ele ultrapassar 80Km/h, mostre uma mensagem dizendo que ele foi multado. A multa vai custar R$7,00 por cada Km acima do limite."
   ]
  },
  {
   "cell_type": "code",
   "execution_count": null,
   "id": "8b3f350c",
   "metadata": {},
   "outputs": [],
   "source": [
    "from time import sleep\n",
    "\n",
    "\n",
    "v1 = int(input(\"Qual a velocidade que você está dirigindo?\"))\n",
    "\n",
    "m = (v1 - 80) * 7\n",
    "\n",
    "if v1 > 80:\n",
    "  sleep(2)\n",
    "  print(f\"Você excedeu o limite de velocidade e levará uma multa de R${m:.2f}\")\n",
    "  print(\"Se lascou\")\n",
    "print(\"Parabéns pela boa condulta\")\n",
    "print(\"Boa viagem\")"
   ]
  }
 ],
 "metadata": {
  "kernelspec": {
   "display_name": "Python 3 (ipykernel)",
   "language": "python",
   "name": "python3"
  },
  "language_info": {
   "codemirror_mode": {
    "name": "ipython",
    "version": 3
   },
   "file_extension": ".py",
   "mimetype": "text/x-python",
   "name": "python",
   "nbconvert_exporter": "python",
   "pygments_lexer": "ipython3",
   "version": "3.9.7"
  }
 },
 "nbformat": 4,
 "nbformat_minor": 5
}
