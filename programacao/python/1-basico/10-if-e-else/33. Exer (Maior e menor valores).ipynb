{
 "cells": [
  {
   "cell_type": "markdown",
   "id": "184a3dc4",
   "metadata": {},
   "source": [
    "Exercício Python 033: Faça um programa que leia três números e mostre qual é o maior e qual é o menor."
   ]
  },
  {
   "cell_type": "code",
   "execution_count": null,
   "id": "f16417ee",
   "metadata": {},
   "outputs": [],
   "source": [
    "print(\"enter 3 number\")\n",
    "print()\n",
    "\n",
    "a=input(\"enter the first number: \")\n",
    "b=input(\"enter the second number: \")\n",
    "c=input(\"enter the third number: \")\n",
    "\n",
    "largest = a\n",
    "if b>a and b>c:\n",
    "  largest = b\n",
    "if c>a and c>b:\n",
    "  largest = c\n",
    "print(f\"The largest number is {largest}\")\n",
    "\n",
    "smaller = a\n",
    "if b<a and b<c:\n",
    "  smaller = b\n",
    "if c<b and c<a:\n",
    "  smaller = c\n",
    "print(f\"The smaller number is {smaller}\")\n",
    "\n",
    "\n",
    "\n",
    "# print(f'O menor valor digitado foi {min(n1,n2,n3)}')\n",
    "# print(f'O maior valor digitado foi {max(n1,n2,n3)}')"
   ]
  }
 ],
 "metadata": {
  "kernelspec": {
   "display_name": "Python 3 (ipykernel)",
   "language": "python",
   "name": "python3"
  },
  "language_info": {
   "codemirror_mode": {
    "name": "ipython",
    "version": 3
   },
   "file_extension": ".py",
   "mimetype": "text/x-python",
   "name": "python",
   "nbconvert_exporter": "python",
   "pygments_lexer": "ipython3",
   "version": "3.9.7"
  }
 },
 "nbformat": 4,
 "nbformat_minor": 5
}
