{
 "cells": [
  {
   "cell_type": "markdown",
   "id": "b0e97710",
   "metadata": {},
   "source": [
    "Exercício Python 030: Crie um programa que leia um número inteiro e mostre na tela se ele é PAR ou ÍMPAR.\n"
   ]
  },
  {
   "cell_type": "code",
   "execution_count": 2,
   "id": "bab47142",
   "metadata": {},
   "outputs": [
    {
     "name": "stdout",
     "output_type": "stream",
     "text": [
      "Digite um número e direi se ele é par ou ímpar: 1524\n",
      "processando...\n",
      "O número que você digitou é par\n",
      "fim\n"
     ]
    }
   ],
   "source": [
    "from time import sleep\n",
    "\n",
    "\n",
    "n = int(input(\"Digite um número e direi se ele é par ou ímpar: \"))\n",
    "\n",
    "if n % 2 == 1:\n",
    "  print(\"processando...\")\n",
    "  sleep(1)\n",
    "  print(\"O número que você digitou é ímpar\")\n",
    "else:\n",
    "  print(\"processando...\")\n",
    "  sleep(1)\n",
    "  print(\"O número que você digitou é par\")\n",
    "\n",
    "sleep(1)\n",
    "print(\"fim\")\n"
   ]
  }
 ],
 "metadata": {
  "kernelspec": {
   "display_name": "Python 3 (ipykernel)",
   "language": "python",
   "name": "python3"
  },
  "language_info": {
   "codemirror_mode": {
    "name": "ipython",
    "version": 3
   },
   "file_extension": ".py",
   "mimetype": "text/x-python",
   "name": "python",
   "nbconvert_exporter": "python",
   "pygments_lexer": "ipython3",
   "version": "3.9.7"
  }
 },
 "nbformat": 4,
 "nbformat_minor": 5
}
