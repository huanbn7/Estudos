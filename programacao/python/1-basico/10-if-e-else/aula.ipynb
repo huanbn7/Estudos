{
 "cells": [
  {
   "cell_type": "markdown",
   "id": "e2eb0e74",
   "metadata": {},
   "source": [
    "## If e Else"
   ]
  },
  {
   "cell_type": "code",
   "execution_count": 9,
   "id": "4e29d88c",
   "metadata": {},
   "outputs": [
    {
     "name": "stdout",
     "output_type": "stream",
     "text": [
      "Digite um número: 9\n",
      "Digite outro número: 9\n"
     ]
    }
   ],
   "source": [
    "# a função if serve para verificar uma expressão e executar um comando caso essa expressão seje verdadeira\n",
    "\n",
    "n1 = int(input(\"Digite um número: \"))\n",
    "n2 = int(input(\"Digite outro número: \"))\n",
    "\n",
    "if n1 > n2:                             # if = se\n",
    "    print(f\"{n1} é maior que {n2}\")       # o python irá imprimir apenas a condicional verdadeira\n",
    "if n1 < n2:\n",
    "    print(f\"{n1} é menor que {n2}\")\n"
   ]
  },
  {
   "cell_type": "code",
   "execution_count": 7,
   "id": "74d5009d",
   "metadata": {},
   "outputs": [
    {
     "name": "stdout",
     "output_type": "stream",
     "text": [
      "Digite um número: 8\n",
      "Digite outro número: 8\n",
      "\n",
      "8 é menor que 8\n",
      "8 é menor que 8\n"
     ]
    }
   ],
   "source": [
    "# agora if + else\n",
    "\n",
    "n1 = int(input(\"Digite um número: \"))\n",
    "n2 = int(input(\"Digite outro número: \"))\n",
    "\n",
    "if n1 > n2:\n",
    "    print(f\"\\n{n1} é maior que {n2}\")\n",
    "else:                                 # else (se não).\n",
    "    print(f\"\\n{n1} é menor que {n2}\") # o else serve para criar um comando alternativo ao IF, se o IF for falso logo o else será executado\n",
    "\n",
    "\n",
    "\n",
    "#outra maneira de escrever\n",
    "\n",
    "print(f'{n1} é maior que {n2}')if n1 > n2 else print(f'{n1} é menor que {n2}')"
   ]
  },
  {
   "cell_type": "code",
   "execution_count": null,
   "id": "d2d0b5d3",
   "metadata": {},
   "outputs": [],
   "source": []
  }
 ],
 "metadata": {
  "kernelspec": {
   "display_name": "Python 3 (ipykernel)",
   "language": "python",
   "name": "python3"
  },
  "language_info": {
   "codemirror_mode": {
    "name": "ipython",
    "version": 3
   },
   "file_extension": ".py",
   "mimetype": "text/x-python",
   "name": "python",
   "nbconvert_exporter": "python",
   "pygments_lexer": "ipython3",
   "version": "3.10.4"
  }
 },
 "nbformat": 4,
 "nbformat_minor": 5
}
