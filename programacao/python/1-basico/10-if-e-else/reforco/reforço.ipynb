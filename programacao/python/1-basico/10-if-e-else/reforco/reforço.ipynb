{
 "cells": [
  {
   "cell_type": "markdown",
   "id": "f18ca481",
   "metadata": {
    "id": "f18ca481"
   },
   "source": [
    "Faça um Programa que peça dois números e imprima o maior deles."
   ]
  },
  {
   "cell_type": "code",
   "execution_count": null,
   "id": "80de6447",
   "metadata": {
    "id": "80de6447",
    "outputId": "fddf89fe-1e31-46df-f7aa-91207a20efc5"
   },
   "outputs": [
    {
     "name": "stdout",
     "output_type": "stream",
     "text": [
      "\n",
      "Digite o 1º numero: 2\n",
      "Digite o 2º numero: 3\n",
      "\n",
      "O maior numero recebido foi o 3\n"
     ]
    }
   ],
   "source": [
    "while True:\n",
    "    try:\n",
    "        print()\n",
    "        numeros = [float(input(f'Digite o {x+1}º numero: ')) for x in range(2)]\n",
    "        \n",
    "        print(f'\\nO maior numero recebido foi o {max(numeros):.0f}')\n",
    "        break\n",
    "        \n",
    "    except:\n",
    "        print('\\033[31;1mError, so aceitamos numeros inteiros.\\033[m')"
   ]
  },
  {
   "cell_type": "markdown",
   "id": "5d4fdc84",
   "metadata": {
    "id": "5d4fdc84"
   },
   "source": [
    "Faça um Programa que peça um valor e mostre na tela se o valor é positivo ou negativo."
   ]
  },
  {
   "cell_type": "code",
   "execution_count": 4,
   "id": "1e90855b",
   "metadata": {
    "colab": {
     "base_uri": "https://localhost:8080/"
    },
    "executionInfo": {
     "elapsed": 8546,
     "status": "ok",
     "timestamp": 1660438090376,
     "user": {
      "displayName": "Huan Barros",
      "userId": "15112681477455705097"
     },
     "user_tz": 240
    },
    "id": "1e90855b",
    "outputId": "e80056a0-0db7-4d3d-e505-f78846f95b2b"
   },
   "outputs": [
    {
     "name": "stdout",
     "output_type": "stream",
     "text": [
      "\n",
      "Digite um numero: -5\n",
      "\n",
      "O numero e negativo.\n"
     ]
    }
   ],
   "source": [
    "while True:\n",
    "    try:\n",
    "        num = float(input('\\nDigite um numero: '))\n",
    "        \n",
    "    except Exception as erro:\n",
    "        print(f'\\033[31;1mError {erro.__class__}. Por favor, digite so numeros.\\033[m')\n",
    "    \n",
    "    else:\n",
    "        if num < 0:\n",
    "            print('\\nO numero e negativo.')\n",
    "        else:\n",
    "            print('\\nO numero e positivo.')\n",
    "            \n",
    "        break     "
   ]
  },
  {
   "cell_type": "markdown",
   "id": "36c86f7e",
   "metadata": {
    "id": "36c86f7e"
   },
   "source": [
    "Faça um Programa que verifique se uma letra digitada é \"F\" ou \"M\". Conforme a letra escrever: F - Feminino, M - Masculino, Sexo Inválido."
   ]
  },
  {
   "cell_type": "code",
   "execution_count": null,
   "id": "ee3bda59",
   "metadata": {
    "id": "ee3bda59"
   },
   "outputs": [],
   "source": [
    "while True:\n",
    "    try:\n",
    "        sexo = input('\\nQual o seu sexo? ').casefold()\n",
    "\n",
    "    if sexo!='m' and sexo!='f':\n",
    "        raise Exception('Caracteres diferentes F ou M não são aceitas')\n",
    "\n",
    "    except Exception as erro:\n",
    "        print(erro)\n",
    "    \n",
    "    else:\n",
    "        print(f'A letra que você digitou foi {sexo}')\n",
    "        break"
   ]
  },
  {
   "cell_type": "markdown",
   "id": "jNfQ8g7r7Qs0",
   "metadata": {
    "id": "jNfQ8g7r7Qs0"
   },
   "source": [
    "Faça um Programa que verifique se uma letra digitada é vogal ou consoante.\n",
    "\n"
   ]
  },
  {
   "cell_type": "code",
   "execution_count": null,
   "id": "pwO-GYVo7pLw",
   "metadata": {
    "colab": {
     "base_uri": "https://localhost:8080/"
    },
    "executionInfo": {
     "elapsed": 4655,
     "status": "ok",
     "timestamp": 1660440964109,
     "user": {
      "displayName": "Huan Barros",
      "userId": "15112681477455705097"
     },
     "user_tz": 240
    },
    "id": "pwO-GYVo7pLw",
    "outputId": "0c202a6d-a00a-4aa6-93e9-f407ed9e653c"
   },
   "outputs": [
    {
     "name": "stdout",
     "output_type": "stream",
     "text": [
      "\n",
      "Digite uma letra: a\n",
      "A letra é uma vogal\n"
     ]
    }
   ],
   "source": [
    "while True:\n",
    "    letra = input('\\nDigite uma letra: ')\n",
    "\n",
    "\n",
    "    if not letra.isalpha():\n",
    "        print('Erro. Digite uma letra')\n",
    "        continue\n",
    "\n",
    "    elif letra in ['a', 'e', 'i', 'o', 'u']:\n",
    "        print('A letra é uma vogal')\n",
    "        break\n",
    "\n",
    "    else:\n",
    "        print('A letra é uma consoante')\n",
    "        break"
   ]
  },
  {
   "cell_type": "markdown",
   "id": "kj9NGmSFtpTw",
   "metadata": {
    "id": "kj9NGmSFtpTw"
   },
   "source": [
    "Faça um programa para a leitura de duas notas parciais de um aluno. O programa deve calcular a média alcançada por aluno e apresentar:\n",
    "- A mensagem \"Aprovado\", se a média alcançada for maior ou igual a sete;\n",
    "- A mensagem \"Reprovado\", se a média for menor do que sete;\n",
    "- A mensagem \"Aprovado com Distinção\", se a média for igual a dez."
   ]
  },
  {
   "cell_type": "code",
   "execution_count": 2,
   "id": "joERYYJft32s",
   "metadata": {
    "colab": {
     "base_uri": "https://localhost:8080/"
    },
    "executionInfo": {
     "elapsed": 21762,
     "status": "ok",
     "timestamp": 1660522076347,
     "user": {
      "displayName": "Huan Barros",
      "userId": "15112681477455705097"
     },
     "user_tz": 240
    },
    "id": "joERYYJft32s",
    "outputId": "83510b75-d192-4348-a4fb-7b42b475cf4a"
   },
   "outputs": [
    {
     "name": "stdout",
     "output_type": "stream",
     "text": [
      "\n",
      "Nome: h\n",
      "1° Note: 2\n",
      "2° Note: 3\n",
      "\n",
      "Nome: d\n",
      "1° Note: 3\n",
      "2° Note: 6\n",
      "\n",
      "Nome: f\n",
      "1° Note: 2\n",
      "2° Note: 0\n",
      "\n",
      "Aluno:  h\n",
      "Notas:  [2, 3]\n",
      "Media:  2.5\n",
      "Situação:  Reprovado\n",
      "\n",
      "Aluno:  d\n",
      "Notas:  [3, 6]\n",
      "Media:  4.5\n",
      "Situação:  Reprovado\n",
      "\n",
      "Aluno:  f\n",
      "Notas:  [2, 0]\n",
      "Media:  1.0\n",
      "Situação:  Reprovado\n"
     ]
    }
   ],
   "source": [
    "sala = []\n",
    "\n",
    "for i in range(3):\n",
    "    aluno = [input('\\nNome: '), [int(input('1° Note: ')), int(input('2° Note: '))]]\n",
    "    mean = sum(aluno[1])/len(aluno[1])\n",
    "\n",
    "    aluno.append(mean)\n",
    "\n",
    "    if mean >= 10:\n",
    "        aluno.append('Aprovado com louvor')\n",
    "    elif mean >= 7:\n",
    "        aluno.append('Aprovado')\n",
    "    else:\n",
    "        aluno.append('Reprovado')\n",
    "\n",
    "    sala.append(aluno)\n",
    "\n",
    "for aluno in sala:\n",
    "    print('\\nAluno: ', aluno[0])\n",
    "    print('Notas: ', aluno[1])\n",
    "    print('Media: ', aluno[2])\n",
    "    print('Situação: ', aluno[3]) "
   ]
  },
  {
   "cell_type": "markdown",
   "id": "a2de970d",
   "metadata": {},
   "source": [
    "Uma fruteira está vendendo frutas com a seguinte tabela de preços:\n",
    "\n",
    "                      Até 5 Kg           Acima de 5 Kg\n",
    "Morango         R$ 2,50 por Kg          R$ 2,20 por Kg\n",
    "Maçã            R$ 1,80 por Kg          R$ 1,50 por Kg\n",
    "\n",
    "Se o cliente comprar mais de 8 Kg em frutas ou o valor total da compra ultrapassar R$ 25,00, receberá ainda um desconto de 10% sobre este total. Escreva um algoritmo para ler a quantidade (em Kg) de morangos e a quantidade (em Kg) de maças adquiridas e escreva o valor a ser pago pelo cliente."
   ]
  },
  {
   "cell_type": "code",
   "execution_count": 50,
   "id": "9c3be784",
   "metadata": {},
   "outputs": [
    {
     "name": "stdout",
     "output_type": "stream",
     "text": [
      "-------------------------------------------------------------\n",
      " Id           Fruta           Até 5kg           Acima de 5kg\n",
      "-------------------------------------------------------------\n",
      " 1            morango         2.5 por kg        2.2 por kg\n",
      " 2            maçã            1.8 por kg        1.5 por kg\n",
      "\n",
      "Escolha a fruta pelo id: 2\n",
      "Quantidade em quilos comprado: s\n",
      "\u001b[31;1minvalid literal for int() with base 10: 's'\u001b[m\n",
      "\n",
      "Escolha a fruta pelo id: 3\n",
      "\u001b[31;1mERRO: escolha um Id relacionado a uma fruta.\u001b[m\n",
      "\n",
      "Escolha a fruta pelo id: 2\n",
      "Quantidade em quilos comprado: 10\n",
      "\n",
      "Valor final da compra: R$13.50\n"
     ]
    }
   ],
   "source": [
    "# Guardando os produtos\n",
    "# Chave: valor\n",
    "# id: [str: fruta, float: valor para compra até 5kg, float: valor para compra acimda de 5kg]\n",
    "frutas = {\n",
    "    1: ['morango', 2.5, 2.2],\n",
    "    2: ['maçã', 1.8, 1.5]\n",
    "}\n",
    "\n",
    "# Escolha do produto pelo usuario\n",
    "print('-'*61)\n",
    "print(f' {\"Id\":<12} {\"Fruta\":<15} {\"Até 5kg\":<17} {\"Acima de 5kg\"}')\n",
    "print('-'*61)\n",
    "for chave, valor in frutas.items():\n",
    "    print(f' {chave:<12} {valor[0]:<15} {valor[1]} {\"por kg\":<12}  {valor[2]} por kg')\n",
    "    \n",
    "while True:\n",
    "    try:\n",
    "        fruta_escolhida = int(input('\\nEscolha a fruta pelo id: '))\n",
    "        if fruta_escolhida>2 or fruta_escolhida<1:\n",
    "            raise Exception('ERRO: escolha um Id relacionado a uma fruta.')\n",
    "        kg = int(input('Quantidade em quilos comprado: '))\n",
    "    except Exception as erro:\n",
    "        print(f'\\033[31;1m{erro}\\033[m')\n",
    "    else:\n",
    "        break\n",
    "        \n",
    "# Calcuçando o valor a ser pago pelo usuario\n",
    "for chave, valor in frutas.items():\n",
    "    if fruta_escolhida ==  chave:\n",
    "        total = kg*valor[1] if kg<=5 else kg*valor[2]\n",
    "        desconto = total*0.1 if kg>8 or total>25 else 0\n",
    "        valor_final = total-desconto\n",
    "        \n",
    "print(f'\\nValor final da compra: R${valor_final:.2f}')"
   ]
  }
 ],
 "metadata": {
  "colab": {
   "collapsed_sections": [],
   "name": "reforço.ipynb",
   "provenance": []
  },
  "kernelspec": {
   "display_name": "Python 3 (ipykernel)",
   "language": "python",
   "name": "python3"
  },
  "language_info": {
   "codemirror_mode": {
    "name": "ipython",
    "version": 3
   },
   "file_extension": ".py",
   "mimetype": "text/x-python",
   "name": "python",
   "nbconvert_exporter": "python",
   "pygments_lexer": "ipython3",
   "version": "3.10.6"
  }
 },
 "nbformat": 4,
 "nbformat_minor": 5
}
