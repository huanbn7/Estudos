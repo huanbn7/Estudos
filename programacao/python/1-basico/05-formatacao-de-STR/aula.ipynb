{
 "cells": [
  {
   "cell_type": "markdown",
   "id": "ad130a8f",
   "metadata": {},
   "source": [
    "## Formataçao de STR"
   ]
  },
  {
   "cell_type": "markdown",
   "id": "3b7fae25",
   "metadata": {},
   "source": [
    "#### ▶ Formataçao com %"
   ]
  },
  {
   "cell_type": "code",
   "execution_count": 16,
   "id": "9355cfc9",
   "metadata": {
    "collapsed": true
   },
   "outputs": [
    {
     "name": "stdout",
     "output_type": "stream",
     "text": [
      "O Huan tem 2 dolares e o kaua tem 3.50 dolares\n"
     ]
    }
   ],
   "source": [
    " #Ex.:\n",
    "a = 2\n",
    "b = 3.5\n",
    "nome_1 = \"Huan\"\n",
    "nome_2 = \"kaua\"\n",
    "print(\"O %s tem %d dolares e o %s tem %.2f dolares\" % (nome_1, a , nome_2, b))"
   ]
  },
  {
   "cell_type": "markdown",
   "id": "a5e70a58",
   "metadata": {},
   "source": [
    "#### ▶ Formataçao com .format() "
   ]
  },
  {
   "cell_type": "code",
   "execution_count": 1,
   "id": "8e3d272a",
   "metadata": {},
   "outputs": [
    {
     "name": "stdout",
     "output_type": "stream",
     "text": [
      "O joão tem 6 anos e o bruno tem 5 anos\n"
     ]
    }
   ],
   "source": [
    "# Ex.:\n",
    "a = 6\n",
    "b = 5\n",
    "print(\"O joão tem {} anos e o bruno tem {} anos\" .format(a,b))"
   ]
  },
  {
   "cell_type": "markdown",
   "id": "6f5c24db",
   "metadata": {},
   "source": [
    "#### ▶ Formataçao com f-string"
   ]
  },
  {
   "cell_type": "code",
   "execution_count": 2,
   "id": "cd5ca227",
   "metadata": {},
   "outputs": [
    {
     "name": "stdout",
     "output_type": "stream",
     "text": [
      "joao tem 90 anos\n",
      "joao recebe um salário de R$1230.75\n"
     ]
    }
   ],
   "source": [
    "# Ex.:\n",
    "a = 90\n",
    "nome = \"joao\"\n",
    "print(f\"{nome} tem {a} anos\")\n",
    "\n",
    "a = 1230.75\n",
    "nome = \"joao\"\n",
    "print(f\"{nome} recebe um salário de R${a:.2f}\")"
   ]
  }
 ],
 "metadata": {
  "kernelspec": {
   "display_name": "Python 3 (ipykernel)",
   "language": "python",
   "name": "python3"
  },
  "language_info": {
   "codemirror_mode": {
    "name": "ipython",
    "version": 3
   },
   "file_extension": ".py",
   "mimetype": "text/x-python",
   "name": "python",
   "nbconvert_exporter": "python",
   "pygments_lexer": "ipython3",
   "version": "3.10.7"
  },
  "varInspector": {
   "cols": {
    "lenName": 16,
    "lenType": 16,
    "lenVar": 40
   },
   "kernels_config": {
    "python": {
     "delete_cmd_postfix": "",
     "delete_cmd_prefix": "del ",
     "library": "var_list.py",
     "varRefreshCmd": "print(var_dic_list())"
    },
    "r": {
     "delete_cmd_postfix": ") ",
     "delete_cmd_prefix": "rm(",
     "library": "var_list.r",
     "varRefreshCmd": "cat(var_dic_list()) "
    }
   },
   "types_to_exclude": [
    "module",
    "function",
    "builtin_function_or_method",
    "instance",
    "_Feature"
   ],
   "window_display": false
  }
 },
 "nbformat": 4,
 "nbformat_minor": 5
}
