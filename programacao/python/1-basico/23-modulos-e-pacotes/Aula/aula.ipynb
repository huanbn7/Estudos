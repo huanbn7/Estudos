{
 "cells": [
  {
   "cell_type": "markdown",
   "id": "1f040b45",
   "metadata": {},
   "source": [
    "# Modulo e pacotes"
   ]
  },
  {
   "cell_type": "markdown",
   "id": "970d41ed",
   "metadata": {},
   "source": [
    "#### ▶ Modulo"
   ]
  },
  {
   "cell_type": "code",
   "execution_count": 1,
   "id": "8c37dbfb",
   "metadata": {},
   "outputs": [],
   "source": [
    "# Modularização\n",
    "# Os modulos são funções dentro de um arquivo.py que serão importadas e ultilizadas em um programa que está em outro arquivo.py  \n",
    "# Surgiu na decada de 60, devido aos programas ficarem cada vez maiores\n",
    "\n",
    "# Foco\n",
    "# - diminuir um programa grande\n",
    "# - aumetar a legibilidade\n",
    "# - facilita a manutenção do programa\n",
    "\n",
    "\n",
    "# COMANDO PARA IMPORTAR UM MODULO E ULTILIZAR SUAS FUNÇÕES.\n",
    "import funções_matematica as fm   # importei o modulo funções_matematicas apelidando esse modulo de fm\n",
    "# Os apelidos servem para facilitar a escrita do codido, pois antes de usar uma função do modulo é necessario \n",
    "# espeficar de qual modulo ele pertence\n",
    "\n",
    "\n",
    "# COMANDO PARA ULTILIZAR UMA FUNÇÃO DE UM MODULO IMPORTADO\n",
    "fm.soma() # nome do modulo ou apelido . chama a função()\n",
    "\n",
    "\n",
    "# É POSSIVEL IMPORTAR MAIS DE UMA FUNÇÃO DE UM PACOTE OU DE UM MODULO\n",
    "from funções matematicas import soma, subtração, divisão, multiplicação  \n",
    "# quando importo uma ou mais funções dessa maneira, não é preciso ultilizar o nome do modulo ou do pacote antes de chamar a função "
   ]
  },
  {
   "cell_type": "markdown",
   "id": "465d40fe",
   "metadata": {},
   "source": [
    "#### ▶ Pacote ou biblioteca"
   ]
  },
  {
   "cell_type": "code",
   "execution_count": null,
   "id": "1220ca83",
   "metadata": {},
   "outputs": [],
   "source": [
    "# Bibliotecas ou pacotes, nada mais é que vários modulos dentro de uma pasta (pasta > modulo > funções)\n",
    "# Gelralmente os modulos são organizados dentro da pasta por assunto\n",
    "\n",
    "# COMANDO PARA IMPORTAR UMA BIBLIOTECA > MODULOS E ULTILIZAR SUAS FUNÇÕES.\n",
    "from pasta import modulo as dm # importei a biblioteca, depois o modulo e apelidei o modulo de dm\n",
    "\n",
    "# Caso tenha mais pastas até chegar nos modulos é necessário importar essas pastas também.\n",
    "# COMANDO PARA IMPORTAR UMA BIBLIOTECA > OUTRA BIBLIOTECA > O(S) MODULO(S) E ULTILIZAR SUAS FUNÇÕES.\n",
    "from pasta1.pasta2 import modulo as dm  # importei um modulo que esta dentro de 2 pastas"
   ]
  },
  {
   "cell_type": "markdown",
   "id": "465d40fe",
   "metadata": {},
   "source": [
    "#### ▶ O que significa __name__ == '__main__'"
   ]
  },
  {
   "cell_type": "markdown",
   "id": "063238d1",
   "metadata": {},
   "source": [
    "É utilizado para testar funções dentro de seus respectivos modulos modulos, por exemplo, você está criando um programa no qual vai precisar de algumas funções, então você organizado do jeito que é, cria um arquivo.py (modulo) só para as funções e no decorrer do desenvolvimento você vai precisar testar suas funções, agora que entra esse comando, em vez de você importar a função para o arquivo principal e ter que rodar todo o programa que ja foi desenvolvido, você usa esse comando __name__=='__main__' como uma condição para rodar o teste dentro do proprio modulo, fazendo com que o programa principal rode somente a função em si. Ta um pouco confuso pq estudei as pressas. "
   ]
  }
 ],
 "metadata": {
  "kernelspec": {
   "display_name": "Python 3.10.6 64-bit",
   "language": "python",
   "name": "python3"
  },
  "language_info": {
   "codemirror_mode": {
    "name": "ipython",
    "version": 3
   },
   "file_extension": ".py",
   "mimetype": "text/x-python",
   "name": "python",
   "nbconvert_exporter": "python",
   "pygments_lexer": "ipython3",
   "version": "3.10.6"
  },
  "vscode": {
   "interpreter": {
    "hash": "e7370f93d1d0cde622a1f8e1c04877d8463912d04d973331ad4851f04de6915a"
   }
  }
 },
 "nbformat": 4,
 "nbformat_minor": 5
}
