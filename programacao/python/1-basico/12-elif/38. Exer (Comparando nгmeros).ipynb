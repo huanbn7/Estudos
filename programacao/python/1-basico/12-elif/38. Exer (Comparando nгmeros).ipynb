{
 "cells": [
  {
   "cell_type": "markdown",
   "id": "72e6ecf4",
   "metadata": {},
   "source": [
    "Exercício Python 038: Escreva um programa que leia dois números inteiros e compare-os. mostrando na tela uma mensagem:\n",
    "- O primeiro valor é maior\n",
    "- O segundo valor é maior\n",
    "- Não existe valor maior, os dois são iguais"
   ]
  },
  {
   "cell_type": "code",
   "execution_count": null,
   "id": "a2715307",
   "metadata": {},
   "outputs": [],
   "source": [
    "print(\"\")\n",
    "num1 = int(input(\"Enter of the first number: \" ))\n",
    "num2 = int(input(\"Enter of the second number: \" ))\n",
    "print(\"\")\n",
    "\n",
    "if num1 > num2 :\n",
    "    print(f\" {num1} it's the largest number and {num2} it's the smaller number\")\n",
    "\n",
    "elif num1 < num2:\n",
    "    print(f\" {num2} it's the largest number and {num1} it's the smaller number\")\n",
    "\n",
    "else:\n",
    "    print(\" both are the same\")"
   ]
  }
 ],
 "metadata": {
  "kernelspec": {
   "display_name": "Python 3 (ipykernel)",
   "language": "python",
   "name": "python3"
  },
  "language_info": {
   "codemirror_mode": {
    "name": "ipython",
    "version": 3
   },
   "file_extension": ".py",
   "mimetype": "text/x-python",
   "name": "python",
   "nbconvert_exporter": "python",
   "pygments_lexer": "ipython3",
   "version": "3.9.7"
  }
 },
 "nbformat": 4,
 "nbformat_minor": 5
}
