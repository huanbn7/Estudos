{
 "cells": [
  {
   "cell_type": "markdown",
   "id": "e38a37e4",
   "metadata": {},
   "source": [
    "Exercício Python 037: Escreva um programa em Python que leia um número inteiro qualquer e peça para o usuário escolher qual será a base de conversão: 1 para binário, 2 para octal e 3 para hexadecimal."
   ]
  },
  {
   "cell_type": "code",
   "execution_count": null,
   "id": "a6b54cf8",
   "metadata": {},
   "outputs": [],
   "source": [
    "number = int(input(\"Enter a number to convert : \" ))\n",
    "print(\"\")\n",
    "\n",
    "print('''choose the conversion base for the number:\n",
    "\n",
    "[1] Binario\n",
    "\n",
    "[2] Hexadecimal\n",
    "\n",
    "[3] Octadecimal\n",
    "\n",
    "''')\n",
    "\n",
    "b = int(input(\"choose a base: \"))\n",
    "\n",
    "if b == 1:\n",
    "     print(f\" o {number} convertido para Binário fica {bin(number) [2:]}\")\n",
    "\n",
    "elif b == 2:\n",
    "    print(f\"o {number} convertido para Octal fica {oct(number) [2:]}\")\n",
    "\n",
    "elif b == 3:\n",
    "    print(f\"o {number} convertido para Hexadecimal fica {hex(number) [2:]}\")\n",
    "\n",
    "else:\n",
    "    print(\"O numero está errado, tente novamente\")"
   ]
  }
 ],
 "metadata": {
  "kernelspec": {
   "display_name": "Python 3 (ipykernel)",
   "language": "python",
   "name": "python3"
  },
  "language_info": {
   "codemirror_mode": {
    "name": "ipython",
    "version": 3
   },
   "file_extension": ".py",
   "mimetype": "text/x-python",
   "name": "python",
   "nbconvert_exporter": "python",
   "pygments_lexer": "ipython3",
   "version": "3.9.7"
  }
 },
 "nbformat": 4,
 "nbformat_minor": 5
}
