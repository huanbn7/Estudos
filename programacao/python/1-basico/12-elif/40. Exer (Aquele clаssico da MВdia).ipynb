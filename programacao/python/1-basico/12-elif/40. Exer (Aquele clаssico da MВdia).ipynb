{
 "cells": [
  {
   "cell_type": "markdown",
   "id": "58b5ddce",
   "metadata": {},
   "source": [
    "Exercício Python 040: Crie um programa que leia duas notas de um aluno e calcule sua média, mostrando uma mensagem no final, de acordo com a média atingida:\n",
    "- Média abaixo de 5.0: REPROVADO\n",
    "- Média entre 5.0 e 6.9: RECUPERAÇÃO\n",
    "- Média 7.0 ou superior: APROVADO"
   ]
  },
  {
   "cell_type": "code",
   "execution_count": null,
   "id": "2f75d3ce",
   "metadata": {},
   "outputs": [],
   "source": [
    "nota1 = float(input(\"Digite a nota do 1° semestre: \" ))\n",
    "nota2 = float(input(\"Digite a nota do segundo bimestre: \" ))\n",
    "\n",
    "media = (nota1+nota2)/2\n",
    "\n",
    "if media<5:\n",
    "  print(\"Reprovado, se esforçe mais ano que vem\")\n",
    "elif media<7:\n",
    "  print(\"Recuperação, estude para fazer a prova de recuperação e passar de ano\")\n",
    "elif media<10:\n",
    "  print(\"Aprovado, parabéns você mereceu\")\n",
    "else:\n",
    "  print(\"Aprovado, você passou de ano e ainda ganhou um ingresso para assistir a F1\")"
   ]
  }
 ],
 "metadata": {
  "kernelspec": {
   "display_name": "Python 3 (ipykernel)",
   "language": "python",
   "name": "python3"
  },
  "language_info": {
   "codemirror_mode": {
    "name": "ipython",
    "version": 3
   },
   "file_extension": ".py",
   "mimetype": "text/x-python",
   "name": "python",
   "nbconvert_exporter": "python",
   "pygments_lexer": "ipython3",
   "version": "3.9.7"
  }
 },
 "nbformat": 4,
 "nbformat_minor": 5
}
