{
 "cells": [
  {
   "cell_type": "markdown",
   "id": "f3f3e80d",
   "metadata": {},
   "source": [
    "Exercício Python 036: Escreva um programa para aprovar o empréstimo bancário para a compra de uma casa. Pergunte o valor da casa, o salário do comprador e em quantos anos ele vai pagar. A prestação mensal não pode exceder 30% do salário ou então o empréstimo será negado.\n"
   ]
  },
  {
   "cell_type": "code",
   "execution_count": null,
   "id": "9fe3204f",
   "metadata": {},
   "outputs": [],
   "source": [
    "v = float(input(\" what is the value of the house? \" ))\n",
    "s = float(input(\"what is the value of the your salary monthly? \" ))\n",
    "y = int(input(\"how many years do you want to pay? \" ))\n",
    "\n",
    "m = y*12\n",
    "\n",
    "p = v/m\n",
    "\n",
    "if p>s*0.3:\n",
    "    print(\"loan denied\")\n",
    "else:\n",
    "    print(\"loan accepted\")"
   ]
  }
 ],
 "metadata": {
  "kernelspec": {
   "display_name": "Python 3 (ipykernel)",
   "language": "python",
   "name": "python3"
  },
  "language_info": {
   "codemirror_mode": {
    "name": "ipython",
    "version": 3
   },
   "file_extension": ".py",
   "mimetype": "text/x-python",
   "name": "python",
   "nbconvert_exporter": "python",
   "pygments_lexer": "ipython3",
   "version": "3.9.7"
  }
 },
 "nbformat": 4,
 "nbformat_minor": 5
}
