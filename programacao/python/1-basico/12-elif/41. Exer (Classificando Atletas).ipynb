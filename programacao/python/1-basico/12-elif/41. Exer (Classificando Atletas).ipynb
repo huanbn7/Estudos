{
 "cells": [
  {
   "cell_type": "markdown",
   "id": "da8d935b",
   "metadata": {},
   "source": [
    "Exercício Python 041: A Confederação Nacional de Natação precisa de um programa que leia o ano de nascimento de um atleta e mostre sua categoria, de acordo com a idade:\n",
    "- Até 9 anos: MIRIM\n",
    "- Até 14 anos: INFANTIL\n",
    "- Até 19 anos: JÚNIOR\n",
    "- Até 25 anos: SÊNIOR\n",
    "- Acima de 25 anos: MASTER"
   ]
  },
  {
   "cell_type": "code",
   "execution_count": null,
   "id": "0cf251df",
   "metadata": {},
   "outputs": [],
   "source": [
    "age = int(input(\"Enter your age: \" ))\n",
    "\n",
    "if age<=0:\n",
    "    print(\"enter a number largest than 0 \")\n",
    "elif age<=9:\n",
    "    print(\"you fit into the child category\")\n",
    "elif age<=14:\n",
    "    print(\"you fit into the childish category\")\n",
    "elif  age<=19:\n",
    "    print(\"you fit into the junior category\")\n",
    "elif age<=25:\n",
    "    print(\"you fit into the senior category\")\n",
    "else:\n",
    "    print(\"you fit into the master category\")"
   ]
  }
 ],
 "metadata": {
  "kernelspec": {
   "display_name": "Python 3 (ipykernel)",
   "language": "python",
   "name": "python3"
  },
  "language_info": {
   "codemirror_mode": {
    "name": "ipython",
    "version": 3
   },
   "file_extension": ".py",
   "mimetype": "text/x-python",
   "name": "python",
   "nbconvert_exporter": "python",
   "pygments_lexer": "ipython3",
   "version": "3.9.7"
  }
 },
 "nbformat": 4,
 "nbformat_minor": 5
}
