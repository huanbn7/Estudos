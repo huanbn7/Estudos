{
 "cells": [
  {
   "cell_type": "markdown",
   "id": "c20ac3cd",
   "metadata": {},
   "source": [
    "Exercício Python 043: Desenvolva uma lógica que leia o peso e a altura de uma pessoa, calcule seu Índice de Massa Corporal (IMC) e mostre seu status, de acordo com a tabela abaixo:\n",
    "- IMC abaixo de 18,5: Abaixo do Peso\n",
    "- Entre 18,5 e 25: Peso Ideal\n",
    "- 25 até 30: Sobrepeso\n",
    "- 30 até 40: Obesidade\n",
    "- Acima de 40: Obesidade Mórbida"
   ]
  },
  {
   "cell_type": "code",
   "execution_count": null,
   "id": "ca2189f7",
   "metadata": {},
   "outputs": [],
   "source": [
    "m = float(input(\"Enter your body mass: \" ))\n",
    "h = float(input(\"Enter your height meters: \" ))\n",
    "\n",
    "imc = m/h**2\n",
    "\n",
    "\n",
    "if imc<=0:\n",
    "    print(\"enter a number largest  than 0\")\n",
    "elif imc<18.5:\n",
    "    print(\"Your are underweight\")\n",
    "elif imc <=25:\n",
    "    print(\"your are at the ideal weight \")\n",
    "elif imc<=30:\n",
    "    print(\"Your are overweight\")\n",
    "elif imc<=40:\n",
    "    print(\"You are obese\")\n",
    "else:\n",
    "    print(\"You are morbidly obese\")\n",
    "\n",
    "print(imc)"
   ]
  }
 ],
 "metadata": {
  "kernelspec": {
   "display_name": "Python 3 (ipykernel)",
   "language": "python",
   "name": "python3"
  },
  "language_info": {
   "codemirror_mode": {
    "name": "ipython",
    "version": 3
   },
   "file_extension": ".py",
   "mimetype": "text/x-python",
   "name": "python",
   "nbconvert_exporter": "python",
   "pygments_lexer": "ipython3",
   "version": "3.9.7"
  }
 },
 "nbformat": 4,
 "nbformat_minor": 5
}
