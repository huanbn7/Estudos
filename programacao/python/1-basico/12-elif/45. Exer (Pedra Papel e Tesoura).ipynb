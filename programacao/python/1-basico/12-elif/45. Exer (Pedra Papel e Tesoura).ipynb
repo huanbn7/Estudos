{
 "cells": [
  {
   "cell_type": "markdown",
   "id": "e288e367",
   "metadata": {},
   "source": [
    "Exercício Python 045: Crie um programa que faça o computador jogar Jokenpô com você."
   ]
  },
  {
   "cell_type": "code",
   "execution_count": null,
   "id": "ab5952dd",
   "metadata": {},
   "outputs": [],
   "source": [
    "from random import randint\n",
    "maquina = randint(0,2)\n",
    "itens = ('pedra', 'papel', 'tesoura')\n",
    "\n",
    "\n",
    "print(\"\")\n",
    "print('''Opções:\n",
    "\n",
    "[0] Pedra\n",
    "[1] Papel\n",
    "[2] Tesoura\n",
    "''')\n",
    "usuario = int(input(\"Qual a sua jogada? \" ))\n",
    "\n",
    "print(\"\")\n",
    "print(\"=\" *20)\n",
    "print(f\"A maquina jogou {itens[maquina]}\")\n",
    "print(f\"Você jogou {itens[usuario]}\")\n",
    "print(\"=\" *20)\n",
    "\n",
    "\n",
    "if maquina == 0: # pedra\n",
    "    if usuario == 0:\n",
    "        print(\"Empate\")\n",
    "    elif usuario == 1:\n",
    "        print(\"Você ganhou !!\")\n",
    "    else:\n",
    "        print(\"A maquina ganhou T_T\")\n",
    "\n",
    "elif maquina == 1: # papel\n",
    "    if usuario == 0:\n",
    "        print(\"A maquina ganhou T_T\")\n",
    "    elif usuario == 1:\n",
    "        print(\"Empate\")\n",
    "    else:\n",
    "        print(\"Você ganhou !!\")\n",
    "\n",
    "elif maquina == 2: # tesoura\n",
    "    if usuario == 0:\n",
    "        print(\"Você ganhou !!\")\n",
    "    elif usuario == 1:\n",
    "        print(\"A maquina ganhou T_T\")\n",
    "    else:\n",
    "        print(\"Empate\")\n",
    "\n",
    "else:\n",
    "    print(\"jogada inválida\")"
   ]
  }
 ],
 "metadata": {
  "kernelspec": {
   "display_name": "Python 3 (ipykernel)",
   "language": "python",
   "name": "python3"
  },
  "language_info": {
   "codemirror_mode": {
    "name": "ipython",
    "version": 3
   },
   "file_extension": ".py",
   "mimetype": "text/x-python",
   "name": "python",
   "nbconvert_exporter": "python",
   "pygments_lexer": "ipython3",
   "version": "3.9.7"
  }
 },
 "nbformat": 4,
 "nbformat_minor": 5
}
