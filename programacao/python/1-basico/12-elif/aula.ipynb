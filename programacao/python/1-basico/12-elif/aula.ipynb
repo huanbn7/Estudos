{
 "cells": [
  {
   "cell_type": "markdown",
   "id": "45bbf97c",
   "metadata": {},
   "source": [
    "## Elif"
   ]
  },
  {
   "cell_type": "code",
   "execution_count": null,
   "id": "90feb8ef",
   "metadata": {},
   "outputs": [],
   "source": [
    "# explicação atrevés de um exercicio\n",
    "\n",
    "#criar um algoritmo que pede a nota do aluno e diz se ele está reprovado, de recuperação ou aprovado.\n",
    "# 0 <= nota <= 7  (REPROVADO)\n",
    "# 4 < nota < 7  (RECUPERAÇÃO)\n",
    "# nota >= 7  (APROVADO)\n",
    "\n",
    "nota = float(input(\"Digite sua nota: \"))\n",
    "\n",
    "if 0<= nota <= 4:\n",
    "  print(\"Você foi reprovado\")\n",
    "else:                                 \n",
    "  if nota < 7:\n",
    "    print(\"Você está de recuperação\")\n",
    "  else:\n",
    "    print(\"Parabéns você foi aprovado\")"
   ]
  },
  {
   "cell_type": "code",
   "execution_count": null,
   "id": "3ed85e1f",
   "metadata": {},
   "outputs": [],
   "source": [
    "# Exemplo com elif\n",
    "# O If serve para verificar uma condição e o ELIF serve para verificar outra condição caso a condição do If seja falsa\n",
    "\n",
    "nota = float(input(\"Digite sua nota: \"))\n",
    "\n",
    "if 0<= nota <= 4:                         #Se nota for maior que 0 e menor que 4\n",
    "  print(\"Você foi reprovado\")             #O comando print vai ser executado\n",
    "\n",
    "elif nota < 7:                            #A elif ta verificando se nota é menor que 7 e maior do que 4. Pois o ELIF é uma continuação do if \n",
    "  print(\"Você está de recuperação\")       #O comando print vai ser executado\n",
    "\n",
    "else:                                     #Se nota for maior que 7\n",
    "  print(\"Parabéns você foi aprovado\")     #O comando print vai ser executado\n"
   ]
  }
 ],
 "metadata": {
  "kernelspec": {
   "display_name": "Python 3 (ipykernel)",
   "language": "python",
   "name": "python3"
  },
  "language_info": {
   "codemirror_mode": {
    "name": "ipython",
    "version": 3
   },
   "file_extension": ".py",
   "mimetype": "text/x-python",
   "name": "python",
   "nbconvert_exporter": "python",
   "pygments_lexer": "ipython3",
   "version": "3.10.4"
  }
 },
 "nbformat": 4,
 "nbformat_minor": 5
}
