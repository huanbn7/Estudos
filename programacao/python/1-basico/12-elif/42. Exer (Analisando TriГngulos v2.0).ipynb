{
 "cells": [
  {
   "cell_type": "markdown",
   "id": "924bfff3",
   "metadata": {},
   "source": [
    "Exercício Python 042: Refaça o DESAFIO 035 dos triângulos, acrescentando o recurso de mostrar que tipo de triângulo será formado:\n",
    "- EQUILÁTERO: todos os lados iguais\n",
    "- ISÓSCELES: dois lados iguais, um diferente\n",
    "- ESCALENO: todos os lados diferentes"
   ]
  },
  {
   "cell_type": "code",
   "execution_count": 1,
   "id": "7a82b6e8",
   "metadata": {},
   "outputs": [
    {
     "name": "stdout",
     "output_type": "stream",
     "text": [
      "Enter three values to see if it forms a triangle\n",
      "enter the value of the first side: 2\n",
      "enter the value of the second side: 3\n",
      "enter the value of the third side: 6\n",
      "these values do not form a triangle\n"
     ]
    }
   ],
   "source": [
    "print(\"Enter three values to see if it forms a triangle\")\n",
    "\n",
    "s1 = float(input(\"enter the value of the first side: \" ))\n",
    "s2 = float(input(\"enter the value of the second side: \" ))\n",
    "s3 = float(input(\"enter the value of the third side: \" ))\n",
    "\n",
    "if s1<s2+s3 and s2<s3+s1 and s3<s2+s1:\n",
    "  print(\"these values form a triangle\")\n",
    "\n",
    "\n",
    "  if s1 == s2 != s3 or s1 == s3 != s2 or s2 == s3 != s1:\n",
    "    print(\"The values you entered form a isoceles tringle\")\n",
    "\n",
    "  elif s1 == s2 == s3:\n",
    "    print(\"The values you entered form a equilateral tringle\")\n",
    "\n",
    "  elif s1 != s2 != s3 and s3 != s1:\n",
    "    print(\"The values you entered form a scalene tringle\")\n",
    "\n",
    "\n",
    "else:\n",
    "  print(\"these values do not form a triangle\")"
   ]
  }
 ],
 "metadata": {
  "kernelspec": {
   "display_name": "Python 3 (ipykernel)",
   "language": "python",
   "name": "python3"
  },
  "language_info": {
   "codemirror_mode": {
    "name": "ipython",
    "version": 3
   },
   "file_extension": ".py",
   "mimetype": "text/x-python",
   "name": "python",
   "nbconvert_exporter": "python",
   "pygments_lexer": "ipython3",
   "version": "3.9.7"
  }
 },
 "nbformat": 4,
 "nbformat_minor": 5
}
