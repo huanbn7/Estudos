{
 "cells": [
  {
   "cell_type": "markdown",
   "id": "7982307e",
   "metadata": {},
   "source": [
    "Exercício Python 039: Faça um programa que leia o ano de nascimento de um jovem e informe, de acordo com a sua idade, se ele ainda vai se alistar ao serviço militar, se é a hora exata de se alistar ou se já passou do tempo do alistamento. Seu programa também deverá mostrar o tempo que falta ou que passou do prazo."
   ]
  },
  {
   "cell_type": "code",
   "execution_count": 1,
   "id": "37bd5b04",
   "metadata": {},
   "outputs": [
    {
     "name": "stdout",
     "output_type": "stream",
     "text": [
      "\n",
      "Em qual ano você nasceu? 2004\n",
      "\n",
      "Recruta está na hora de você se alistar\n",
      "Mal posso ver a hora de você chegar\n"
     ]
    }
   ],
   "source": [
    "print(\"\")\n",
    "ano = int(input(\"Em qual ano você nasceu? \" ))\n",
    "print(\"\")\n",
    "\n",
    "idade = 2022-ano\n",
    "\n",
    "if idade<18:\n",
    "    print(f\"Você  tem apenas {idade} e não precisa se alistar \")\n",
    "    print(f\"Mas daqui a {18-idade} será sua obrigação se alistar\")\n",
    "elif idade==18:\n",
    "    print(\"Recruta está na hora de você se alistar\")\n",
    "    print(\"Mal posso ver a hora de você chegar\")\n",
    "else:\n",
    "    print(\"Bizonho já passou da hora de se alistar \")\n",
    "    print(f\"Se passaram {idade-18} anos da data do alistamento\")\n",
    "    print(\"Vá até o quartel mais próximo ou acesse o site da FAB e se aliste\")"
   ]
  }
 ],
 "metadata": {
  "kernelspec": {
   "display_name": "Python 3 (ipykernel)",
   "language": "python",
   "name": "python3"
  },
  "language_info": {
   "codemirror_mode": {
    "name": "ipython",
    "version": 3
   },
   "file_extension": ".py",
   "mimetype": "text/x-python",
   "name": "python",
   "nbconvert_exporter": "python",
   "pygments_lexer": "ipython3",
   "version": "3.9.7"
  }
 },
 "nbformat": 4,
 "nbformat_minor": 5
}
