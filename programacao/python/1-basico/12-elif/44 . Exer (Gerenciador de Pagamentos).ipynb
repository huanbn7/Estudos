{
 "cells": [
  {
   "cell_type": "markdown",
   "id": "bcbfdfff",
   "metadata": {},
   "source": [
    "Exercício Python 044: Elabore um programa que calcule o valor a ser pago por um produto, considerando o seu preço normal e condição de pagamento:\n",
    "- à vista dinheiro/cheque: 10% de desconto\n",
    "- à vista no cartão: 5% de desconto\n",
    "- em até 2x no cartão: preço formal\n",
    "- 3x ou mais no cartão: 20% de juros"
   ]
  },
  {
   "cell_type": "code",
   "execution_count": null,
   "id": "10e2aeb8",
   "metadata": {},
   "outputs": [],
   "source": [
    "print(\"\")\n",
    "a = float(input(\"Dige o preço do produto: \" ))\n",
    "\n",
    "print('''Escolha a forma de pagamento\n",
    "\n",
    " [1] Avista (dinheiro/cheque)\n",
    " [2] Avista no cartão \n",
    " [3] 2x no cartão\n",
    " [4] 3x ou mais no cartão\n",
    "''')\n",
    "f = float(input(\"Qual a opção: \" ))\n",
    "\n",
    "d1 = a*0.1\n",
    "d2 = a*0.05\n",
    "print(\"\")\n",
    "\n",
    "if f == 1:\n",
    "    print(f\"Você ganhou um desconto de 10% e pagará somente R${a-d1:.2f} pelo produto\")\n",
    "\n",
    "elif f == 2:\n",
    "    print(f\"Você ganhou um desconto de 5% e pagará somente R${a-d2:.2f} pelo produto\")\n",
    "\n",
    "elif f == 3:\n",
    "    print(f\"O valor do produto é o mesmo, R${a}\")\n",
    "    print(f\"E o valor da paercela será de R${a/2:.2f}\")\n",
    "\n",
    "elif f == 4:\n",
    "    g=float(input(\"Digite em quantas parcelas você quer pagar: \" ))\n",
    "\n",
    "\n",
    "    valor_produto = a*1.2\n",
    "    valor_parcela = valor_produto/g\n",
    "\n",
    "    print(\"\")\n",
    "    print(f\"O valor do produto será de R${valor_produto:.2f}\")\n",
    "    print(f\"E o valor da paercela será de R${valor_parcela:.2f}\")\n",
    "\n",
    "else:\n",
    "    print(\"Essa forma de pagamento não existe\")"
   ]
  }
 ],
 "metadata": {
  "kernelspec": {
   "display_name": "Python 3 (ipykernel)",
   "language": "python",
   "name": "python3"
  },
  "language_info": {
   "codemirror_mode": {
    "name": "ipython",
    "version": 3
   },
   "file_extension": ".py",
   "mimetype": "text/x-python",
   "name": "python",
   "nbconvert_exporter": "python",
   "pygments_lexer": "ipython3",
   "version": "3.9.7"
  }
 },
 "nbformat": 4,
 "nbformat_minor": 5
}
