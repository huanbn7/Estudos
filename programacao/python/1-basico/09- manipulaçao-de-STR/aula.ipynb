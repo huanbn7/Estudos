{
 "cells": [
  {
   "cell_type": "markdown",
   "id": "1e3469e0",
   "metadata": {},
   "source": [
    "## Manipulação de str"
   ]
  },
  {
   "cell_type": "markdown",
   "id": "1ef4f6d8",
   "metadata": {},
   "source": [
    "#### ▶ Fatiamento de str"
   ]
  },
  {
   "cell_type": "code",
   "execution_count": 5,
   "id": "fa5d6a4b",
   "metadata": {
    "ExecuteTime": {
     "end_time": "2023-02-06T00:56:11.952667Z",
     "start_time": "2023-02-06T00:56:11.947095Z"
    }
   },
   "outputs": [
    {
     "data": {
      "text/plain": [
       "'n'"
      ]
     },
     "execution_count": 5,
     "metadata": {},
     "output_type": "execute_result"
    }
   ],
   "source": [
    "# Cada caractere de uma str tem um indice que significa sua posição na str.\n",
    "# A primeira letra tem o indice 0, a segunda tem o indice 1 e assim sucetivamente.\n",
    "# Ex.:\n",
    "nome = 'Huan' \n",
    "\n",
    "# A maneira de acessar o caractere é pelo seu indice.  \n",
    "# Ex.:\n",
    "nome = 'Huan'\n",
    "nome[0] #➥ H\n",
    "nome[1] #➥ u\n",
    "nome[2] #➥ a\n",
    "nome[3] #➥ n"
   ]
  },
  {
   "cell_type": "code",
   "execution_count": 6,
   "id": "5c255a9c",
   "metadata": {
    "ExecuteTime": {
     "end_time": "2023-02-06T00:56:11.958986Z",
     "start_time": "2023-02-06T00:56:11.954671Z"
    }
   },
   "outputs": [
    {
     "data": {
      "text/plain": [
       "'n'"
      ]
     },
     "execution_count": 6,
     "metadata": {},
     "output_type": "execute_result"
    }
   ],
   "source": [
    "# Acessando o caractere pelo seus indices negativos.\n",
    "# Ex.:\n",
    "nome = 'Huan'\n",
    "nome[-4] #➥ H\n",
    "nome[-3] #➥ u\n",
    "nome[-2] #➥ a\n",
    "nome[-1] #➥ n"
   ]
  },
  {
   "cell_type": "code",
   "execution_count": 7,
   "id": "c55a070c",
   "metadata": {
    "ExecuteTime": {
     "end_time": "2023-02-06T00:56:11.964932Z",
     "start_time": "2023-02-06T00:56:11.959989Z"
    }
   },
   "outputs": [
    {
     "data": {
      "text/plain": [
       "'droW olleH'"
      ]
     },
     "execution_count": 7,
     "metadata": {},
     "output_type": "execute_result"
    }
   ],
   "source": [
    "# Acessando partes de uma str.\n",
    "# Ex.:\n",
    "frase = 'Hello Word'\n",
    "frase[0] # frase na posição 0 ➥ H\n",
    "frase[6:10] # frase da posição 6 até 10 ➥ Word\n",
    "frase[0:10] # frase da posição 0 até 10 ➥ Hello Word\n",
    "frase[:10] # mesma coisa\n",
    "frase[0:] # mesma coisa\n",
    "frase[:] # mesma coisa\n",
    "frase[::2] # frase do começo ao fim pulando de 2 em 2 ➥ HloWr\n",
    "frase[::-1] # frase do começo ao fim invertida ➥ droW olleH"
   ]
  },
  {
   "cell_type": "markdown",
   "id": "b85b628c",
   "metadata": {},
   "source": [
    "#### ▶ Análise de str"
   ]
  },
  {
   "cell_type": "code",
   "execution_count": 8,
   "id": "3d8effa4",
   "metadata": {
    "ExecuteTime": {
     "end_time": "2023-02-06T00:56:11.970499Z",
     "start_time": "2023-02-06T00:56:11.966970Z"
    }
   },
   "outputs": [
    {
     "name": "stdout",
     "output_type": "stream",
     "text": [
      "37\n"
     ]
    }
   ],
   "source": [
    "# Função len()\n",
    "# Retorna o comprimento de uma STR.\n",
    "\n",
    "# Ex.:\n",
    "frase = 'três pratos de trigo para três tigres'\n",
    "print(len(frase))"
   ]
  },
  {
   "cell_type": "code",
   "execution_count": 9,
   "id": "6c075f21",
   "metadata": {
    "ExecuteTime": {
     "end_time": "2023-02-06T00:56:11.976027Z",
     "start_time": "2023-02-06T00:56:11.971508Z"
    }
   },
   "outputs": [
    {
     "name": "stdout",
     "output_type": "stream",
     "text": [
      "5\n",
      "2\n"
     ]
    }
   ],
   "source": [
    "# Método .count(a,x,y)\n",
    "# Retorna quantas vezes o parametro aparece na STR.\n",
    "# a = o que eu procuro. \n",
    "# x = o inicio do intervalo da STR. (parametro opcional)\n",
    "# y = o fim do intervalo da STR. (parametro opcional)\n",
    "\n",
    "# Ex.:\n",
    "frase = 'três pratos de trigo para três tigres'\n",
    "print(frase.count('t'))\n",
    "print(frase.count('t',0,10))"
   ]
  },
  {
   "cell_type": "code",
   "execution_count": 10,
   "id": "b331973b",
   "metadata": {
    "ExecuteTime": {
     "end_time": "2023-02-06T00:56:11.982019Z",
     "start_time": "2023-02-06T00:56:11.977065Z"
    }
   },
   "outputs": [
    {
     "name": "stdout",
     "output_type": "stream",
     "text": [
      "0\n",
      "31\n",
      "-1\n"
     ]
    }
   ],
   "source": [
    "# Método .find(x) ou .index() ➥ funciona pra lista também\n",
    "# Retorna a posição da primeira ocorrencia de x \n",
    "# Se não tiver o x na STR será retornado -1\n",
    "# .rfind(x) procura da direita para esquerda\n",
    "\n",
    "# Ex.:\n",
    "frase = 'três pratos de trigo para três tigres'\n",
    "print(frase.find('t'))\n",
    "print(frase.rfind('t'))\n",
    "print(frase.find('b'))"
   ]
  },
  {
   "cell_type": "markdown",
   "id": "30acacce",
   "metadata": {},
   "source": [
    "#### ▶ Transformação de str"
   ]
  },
  {
   "cell_type": "code",
   "execution_count": 11,
   "id": "a2b0fba3",
   "metadata": {
    "ExecuteTime": {
     "end_time": "2023-02-06T00:56:11.987025Z",
     "start_time": "2023-02-06T00:56:11.983026Z"
    }
   },
   "outputs": [
    {
     "name": "stdout",
     "output_type": "stream",
     "text": [
      "Hella Ward\n",
      "Hella Word\n"
     ]
    }
   ],
   "source": [
    "# Método .replace(x,y,n)\n",
    "# Cada x que tem em uma STR o pc vai trocar por y.\n",
    "# n = quantas vezes trocar x por y (parametro opcional)\n",
    "\n",
    "# Ex.:\n",
    "frase = 'Hello Word'\n",
    "print(frase.replace('o','a'))\n",
    "print(frase.replace('o','a',1))"
   ]
  },
  {
   "cell_type": "code",
   "execution_count": 12,
   "id": "4eb835bb",
   "metadata": {
    "ExecuteTime": {
     "end_time": "2023-02-06T00:56:11.992446Z",
     "start_time": "2023-02-06T00:56:11.988037Z"
    }
   },
   "outputs": [
    {
     "name": "stdout",
     "output_type": "stream",
     "text": [
      "Hello word\n"
     ]
    }
   ],
   "source": [
    "# Método .capitalize()\n",
    "# Deixa a 1° letra de uma STR maiuscula.\n",
    "\n",
    "# Ex.:\n",
    "frase = 'hello word'\n",
    "print(frase.capitalize())"
   ]
  },
  {
   "cell_type": "code",
   "execution_count": 13,
   "id": "eddb45d7",
   "metadata": {
    "ExecuteTime": {
     "end_time": "2023-02-06T00:56:11.997441Z",
     "start_time": "2023-02-06T00:56:11.993457Z"
    }
   },
   "outputs": [
    {
     "name": "stdout",
     "output_type": "stream",
     "text": [
      "hello word\n"
     ]
    }
   ],
   "source": [
    "# Método .casefold() ou .lower() \n",
    "# Deixa todas as letra de uma STR minuscula.\n",
    "\n",
    "# Ex.:\n",
    "frase = 'HELLO WORD'\n",
    "print(frase.casefold())"
   ]
  },
  {
   "cell_type": "code",
   "execution_count": 14,
   "id": "4f748734",
   "metadata": {
    "ExecuteTime": {
     "end_time": "2023-02-06T00:56:12.003090Z",
     "start_time": "2023-02-06T00:56:11.999465Z"
    }
   },
   "outputs": [
    {
     "name": "stdout",
     "output_type": "stream",
     "text": [
      "HELLO WORD\n"
     ]
    }
   ],
   "source": [
    "# Método .upper() \n",
    "# Deixa todas as letra de uma STR maiuscula.\n",
    "\n",
    "# Ex.:\n",
    "frase = 'hello word'\n",
    "print(frase.upper())"
   ]
  },
  {
   "cell_type": "code",
   "execution_count": 15,
   "id": "e83e10fa",
   "metadata": {
    "ExecuteTime": {
     "end_time": "2023-02-06T00:56:12.009002Z",
     "start_time": "2023-02-06T00:56:12.003090Z"
    }
   },
   "outputs": [
    {
     "name": "stdout",
     "output_type": "stream",
     "text": [
      "Hello Word Cool\n"
     ]
    }
   ],
   "source": [
    "# Método .title() \n",
    "# Deixa a 1° letra de todas as palavras de uma STR maiuscula.\n",
    "\n",
    "# Ex.:\n",
    "frase = 'hello word cool'\n",
    "print(frase.title())"
   ]
  },
  {
   "cell_type": "code",
   "execution_count": 16,
   "id": "1f56cc51",
   "metadata": {
    "ExecuteTime": {
     "end_time": "2023-02-06T00:56:12.019113Z",
     "start_time": "2023-02-06T00:56:12.010063Z"
    }
   },
   "outputs": [
    {
     "name": "stdout",
     "output_type": "stream",
     "text": [
      "Hello Word\n",
      "  Hello Word\n",
      "Hello Word  \n"
     ]
    }
   ],
   "source": [
    "# Método .strip()\n",
    "# Remove os espaços vazios do começo e fim de uma STR.\n",
    "# .rstrip() remove o espaço vazio da direita\n",
    "# .lstrip() remove o espaço vazio da esquerda\n",
    "\n",
    "\n",
    "# Ex.:\n",
    "frase = '  Hello Word  '\n",
    "print(frase.strip())\n",
    "print(frase.rstrip())\n",
    "print(frase.lstrip())"
   ]
  },
  {
   "cell_type": "code",
   "execution_count": 17,
   "id": "868d36c8",
   "metadata": {
    "ExecuteTime": {
     "end_time": "2023-02-06T00:56:12.023471Z",
     "start_time": "2023-02-06T00:56:12.020123Z"
    }
   },
   "outputs": [
    {
     "name": "stdout",
     "output_type": "stream",
     "text": [
      "07\n"
     ]
    }
   ],
   "source": [
    "# Método .zfill(x)\n",
    "# Acressenta a quantidade (x-len(str)), de 0 em uma STR\n",
    "\n",
    "# Ex.:\n",
    "num = '7'\n",
    "print(num.zfill(2))"
   ]
  },
  {
   "cell_type": "code",
   "execution_count": 18,
   "id": "4283e8b9",
   "metadata": {
    "ExecuteTime": {
     "end_time": "2023-02-06T00:56:12.028348Z",
     "start_time": "2023-02-06T00:56:12.024482Z"
    }
   },
   "outputs": [
    {
     "name": "stdout",
     "output_type": "stream",
     "text": [
      "llo Word\n"
     ]
    }
   ],
   "source": [
    "# Método .removeprefix(x)\n",
    "# Remove o inicio de uma STR, no qual esse inicio é x\n",
    "\n",
    "# Ex.:\n",
    "frase = 'Hello Word'\n",
    "print(frase.removeprefix('He'))"
   ]
  },
  {
   "cell_type": "code",
   "execution_count": 19,
   "id": "9d677f06",
   "metadata": {
    "ExecuteTime": {
     "end_time": "2023-02-06T00:56:12.033047Z",
     "start_time": "2023-02-06T00:56:12.029360Z"
    }
   },
   "outputs": [
    {
     "name": "stdout",
     "output_type": "stream",
     "text": [
      "Hello Wo\n"
     ]
    }
   ],
   "source": [
    "# Método .removesuffix(x)\n",
    "# Remove o fim de uma STR, no qual esse fim é x\n",
    "\n",
    "# Ex.:\n",
    "frase = 'Hello Word'\n",
    "print(frase.removesuffix('rd'))"
   ]
  },
  {
   "cell_type": "markdown",
   "id": "40e5dd8d",
   "metadata": {},
   "source": [
    "#### ▶ Divisão de str"
   ]
  },
  {
   "cell_type": "code",
   "execution_count": 20,
   "id": "80410e31",
   "metadata": {
    "ExecuteTime": {
     "end_time": "2023-02-06T00:56:12.037983Z",
     "start_time": "2023-02-06T00:56:12.034463Z"
    }
   },
   "outputs": [
    {
     "name": "stdout",
     "output_type": "stream",
     "text": [
      "['Hello', 'Word']\n",
      "['Hell', ' W', 'rd']\n"
     ]
    }
   ],
   "source": [
    "# Método .strip(x)\n",
    "# Quebra a STR em itens de uma lista com base no \\n\n",
    "# x = o separador (parametro opcional)\n",
    "\n",
    "# Ex.:\n",
    "frase = 'Hello Word'\n",
    "print(frase.split())\n",
    "print(frase.split('o'))"
   ]
  },
  {
   "cell_type": "code",
   "execution_count": 21,
   "id": "103eb2f1",
   "metadata": {
    "ExecuteTime": {
     "end_time": "2023-02-06T00:56:12.043740Z",
     "start_time": "2023-02-06T00:56:12.039291Z"
    }
   },
   "outputs": [
    {
     "name": "stdout",
     "output_type": "stream",
     "text": [
      "('Hello', ' ', 'Word')\n",
      "('Hello ', 'Wo', 'rd')\n",
      "('Hello Word', '', '')\n"
     ]
    }
   ],
   "source": [
    "# Método .partition(x)\n",
    "# Divide a STR em 3 itens de uma lista com base parametro x\n",
    "# Caso coloque um parametro que não existe dentro da STR, o pc retorna uma lista com 3 itens, 2 itens vazios e um item é a STR.\n",
    "\n",
    "# Ex.:\n",
    "frase = 'Hello Word'\n",
    "print(frase.partition(' '))\n",
    "print(frase.partition('Wo'))\n",
    "print(frase.partition('s'))"
   ]
  },
  {
   "cell_type": "code",
   "execution_count": 22,
   "id": "dd89b738",
   "metadata": {
    "ExecuteTime": {
     "end_time": "2023-02-06T00:56:12.048305Z",
     "start_time": "2023-02-06T00:56:12.043740Z"
    }
   },
   "outputs": [
    {
     "name": "stdout",
     "output_type": "stream",
     "text": [
      "Hello Word\n",
      "Hello_Word\n"
     ]
    }
   ],
   "source": [
    "# Método x.join(STR)\n",
    "# junta itens de uma lista ou STR\n",
    "# x = o juntador (parametro opcional)\n",
    "\n",
    "# Ex.:\n",
    "frase = ['Hello','Word']\n",
    "print(' '.join(frase))\n",
    "print('_'.join(frase))"
   ]
  },
  {
   "cell_type": "markdown",
   "id": "9ef00168",
   "metadata": {},
   "source": [
    "#### ▶ Ferificando de str"
   ]
  },
  {
   "cell_type": "code",
   "execution_count": 23,
   "id": "82719b63",
   "metadata": {
    "ExecuteTime": {
     "end_time": "2023-02-06T00:56:12.052832Z",
     "start_time": "2023-02-06T00:56:12.048305Z"
    }
   },
   "outputs": [
    {
     "name": "stdout",
     "output_type": "stream",
     "text": [
      "True\n"
     ]
    }
   ],
   "source": [
    "# Método .isalpha()\n",
    "# Verifica se a STR é composta somente por letras\n",
    "\n",
    "# Ex.:\n",
    "frase = 'Huan'\n",
    "print(frase.isalpha())"
   ]
  },
  {
   "cell_type": "code",
   "execution_count": 24,
   "id": "f0a2b52c",
   "metadata": {
    "ExecuteTime": {
     "end_time": "2023-02-06T00:56:12.058293Z",
     "start_time": "2023-02-06T00:56:12.052832Z"
    }
   },
   "outputs": [
    {
     "name": "stdout",
     "output_type": "stream",
     "text": [
      "True\n"
     ]
    }
   ],
   "source": [
    "# Método .isdigit() ou .isnumeric()\n",
    "# Verifica se a STR é composta somente por numeros\n",
    "\n",
    "# Ex.:\n",
    "frase = '12356'\n",
    "print(frase.isdigit())"
   ]
  },
  {
   "cell_type": "code",
   "execution_count": 32,
   "id": "ea40499c",
   "metadata": {
    "ExecuteTime": {
     "end_time": "2023-02-06T00:57:06.181090Z",
     "start_time": "2023-02-06T00:57:06.177073Z"
    }
   },
   "outputs": [
    {
     "name": "stdout",
     "output_type": "stream",
     "text": [
      "True\n",
      "True\n"
     ]
    }
   ],
   "source": [
    "# Método .isalnum()\n",
    "# Verifica se na STR tem numeros ou letras\n",
    "\n",
    "# Ex.:\n",
    "frase = '123'\n",
    "frase2 = 'Huan123'\n",
    "print(frase.isalnum())\n",
    "print(frase2.isalnum())"
   ]
  },
  {
   "cell_type": "code",
   "execution_count": 26,
   "id": "5d6f9e53",
   "metadata": {
    "ExecuteTime": {
     "end_time": "2023-02-06T00:56:12.068463Z",
     "start_time": "2023-02-06T00:56:12.064355Z"
    }
   },
   "outputs": [
    {
     "name": "stdout",
     "output_type": "stream",
     "text": [
      "True\n",
      "False\n"
     ]
    }
   ],
   "source": [
    "# Método .startswith(x)\n",
    "# Verifica se a STR começa com x\n",
    "\n",
    "# Ex.:\n",
    "frase = 'Hello Word'\n",
    "print(frase.startswith('H'))\n",
    "print(frase.startswith('h'))"
   ]
  },
  {
   "cell_type": "code",
   "execution_count": 27,
   "id": "7f449948",
   "metadata": {
    "ExecuteTime": {
     "end_time": "2023-02-06T00:56:12.074382Z",
     "start_time": "2023-02-06T00:56:12.069802Z"
    }
   },
   "outputs": [
    {
     "name": "stdout",
     "output_type": "stream",
     "text": [
      "True\n",
      "False\n"
     ]
    }
   ],
   "source": [
    "# Método .endswith(x)\n",
    "# Verifica se a STR termina com x\n",
    "\n",
    "# Ex.:\n",
    "frase = 'Hello Word'\n",
    "print(frase.endswith('ord'))\n",
    "print(frase.endswith('j'))"
   ]
  },
  {
   "cell_type": "code",
   "execution_count": 34,
   "id": "c9cc3103",
   "metadata": {
    "ExecuteTime": {
     "end_time": "2023-02-06T00:57:30.804497Z",
     "start_time": "2023-02-06T00:57:30.800574Z"
    }
   },
   "outputs": [
    {
     "name": "stdout",
     "output_type": "stream",
     "text": [
      "True\n",
      "False\n"
     ]
    }
   ],
   "source": [
    "# Método .isspace()\n",
    "# Verifica se a STR é composta por espaços vazios\n",
    "\n",
    "# Ex.:\n",
    "frase = ' '\n",
    "print(frase.isspace())\n",
    "\n",
    "# Ex.:\n",
    "frase = 'Huan'\n",
    "print(frase.isspace())"
   ]
  }
 ],
 "metadata": {
  "kernelspec": {
   "display_name": "Python 3 (ipykernel)",
   "language": "python",
   "name": "python3"
  },
  "language_info": {
   "codemirror_mode": {
    "name": "ipython",
    "version": 3
   },
   "file_extension": ".py",
   "mimetype": "text/x-python",
   "name": "python",
   "nbconvert_exporter": "python",
   "pygments_lexer": "ipython3",
   "version": "3.11.1"
  }
 },
 "nbformat": 4,
 "nbformat_minor": 5
}
