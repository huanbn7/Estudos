{
 "cells": [
  {
   "cell_type": "markdown",
   "id": "b8d0ab26",
   "metadata": {},
   "source": [
    "Exercício Python 025: Crie um programa que leia o nome de uma pessoa e diga se ela tem \"SILVA\" no nome."
   ]
  },
  {
   "cell_type": "code",
   "execution_count": null,
   "id": "67521c3d",
   "metadata": {},
   "outputs": [],
   "source": [
    "print(\"\")\n",
    "n = input(\"Digite o seu nome: \" )\n",
    "\n",
    "n2 = n.strip()\n",
    "n3 = n2.title()\n",
    "\n",
    "a = \"Silva\" in n3\n",
    "\n",
    "if a == False:\n",
    "    print(\"Seu nome não tem Silva\")\n",
    "else:\n",
    "    print(\"Seu nome tem Silva\")"
   ]
  }
 ],
 "metadata": {
  "kernelspec": {
   "display_name": "Python 3 (ipykernel)",
   "language": "python",
   "name": "python3"
  },
  "language_info": {
   "codemirror_mode": {
    "name": "ipython",
    "version": 3
   },
   "file_extension": ".py",
   "mimetype": "text/x-python",
   "name": "python",
   "nbconvert_exporter": "python",
   "pygments_lexer": "ipython3",
   "version": "3.9.7"
  }
 },
 "nbformat": 4,
 "nbformat_minor": 5
}
