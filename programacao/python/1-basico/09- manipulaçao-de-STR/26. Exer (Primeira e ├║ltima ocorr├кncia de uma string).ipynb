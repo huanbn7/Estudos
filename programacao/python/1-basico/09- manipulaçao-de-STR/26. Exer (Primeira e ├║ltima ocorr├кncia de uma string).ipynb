{
 "cells": [
  {
   "cell_type": "markdown",
   "id": "c9fbd980",
   "metadata": {},
   "source": [
    "Exercício Python 026: Faça um programa que leia uma frase pelo teclado e mostre quantas vezes aparece a letra \"A\", em que posição ela aparece a primeira vez e em que posição ela aparece a última vez."
   ]
  },
  {
   "cell_type": "code",
   "execution_count": null,
   "id": "3b7dc004",
   "metadata": {},
   "outputs": [],
   "source": [
    "print(\"\")\n",
    "f = input(\"Digite uma frase: \" )\n",
    "f2 = f.strip()\n",
    "f3 = f2.casefold()\n",
    "\n",
    "\n",
    "a1 = f3.count(\"a\")\n",
    "a2 = f3.find(\"a\")\n",
    "a3 = f3.rfind(\"a\")\n",
    "\n",
    "\n",
    "print(\"\")\n",
    "print(f\"A letra (a) aparece {a1}\")\n",
    "print(f\"A letra (a) aparece pela primeira vez na posição {a2+1}\")\n",
    "print(f\"A letra (a) aparece pela ultima vez na posição {a3+1}\")"
   ]
  }
 ],
 "metadata": {
  "kernelspec": {
   "display_name": "Python 3 (ipykernel)",
   "language": "python",
   "name": "python3"
  },
  "language_info": {
   "codemirror_mode": {
    "name": "ipython",
    "version": 3
   },
   "file_extension": ".py",
   "mimetype": "text/x-python",
   "name": "python",
   "nbconvert_exporter": "python",
   "pygments_lexer": "ipython3",
   "version": "3.9.7"
  }
 },
 "nbformat": 4,
 "nbformat_minor": 5
}
