{
 "cells": [
  {
   "cell_type": "markdown",
   "id": "3d1b587c",
   "metadata": {},
   "source": [
    "Exercício Python 027: Faça um programa que leia o nome completo de uma pessoa, mostrando em seguida o primeiro e o último nome separadamente."
   ]
  },
  {
   "cell_type": "code",
   "execution_count": null,
   "id": "b2463218",
   "metadata": {},
   "outputs": [],
   "source": [
    "n = input(\"\\nDigite seu nome completo: \" )\n",
    "\n",
    "n2 = n.strip()\n",
    "n3 = n2.title()\n",
    "n4 = n3.split()\n",
    "n5 = n4[::-1]\n",
    "\n",
    "print(f\"\\nSeu primeiro nome é {n4[0]}\")\n",
    "print(f\"Seu ultimo nome é {n5[0]}\")"
   ]
  }
 ],
 "metadata": {
  "kernelspec": {
   "display_name": "Python 3 (ipykernel)",
   "language": "python",
   "name": "python3"
  },
  "language_info": {
   "codemirror_mode": {
    "name": "ipython",
    "version": 3
   },
   "file_extension": ".py",
   "mimetype": "text/x-python",
   "name": "python",
   "nbconvert_exporter": "python",
   "pygments_lexer": "ipython3",
   "version": "3.9.7"
  }
 },
 "nbformat": 4,
 "nbformat_minor": 5
}
