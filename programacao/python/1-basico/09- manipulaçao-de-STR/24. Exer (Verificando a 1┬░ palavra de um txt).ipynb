{
 "cells": [
  {
   "cell_type": "markdown",
   "id": "1c11c435",
   "metadata": {},
   "source": [
    "Exercício Python 024: Crie um programa que leia o nome de uma cidade diga se ela começa ou não com o nome \"SANTO\"."
   ]
  },
  {
   "cell_type": "code",
   "execution_count": null,
   "id": "ff99a362",
   "metadata": {},
   "outputs": [],
   "source": [
    "print(\"\")\n",
    "n = input(\"Digite o nome da cidade que você nasceu: \")\n",
    "\n",
    "n1 = n.strip()\n",
    "n2 = n1.title()\n",
    "\n",
    "lista = n2.split()\n",
    "b = lista[0]\n",
    "\n",
    "print(\"Santo\" in b)"
   ]
  }
 ],
 "metadata": {
  "kernelspec": {
   "display_name": "Python 3 (ipykernel)",
   "language": "python",
   "name": "python3"
  },
  "language_info": {
   "codemirror_mode": {
    "name": "ipython",
    "version": 3
   },
   "file_extension": ".py",
   "mimetype": "text/x-python",
   "name": "python",
   "nbconvert_exporter": "python",
   "pygments_lexer": "ipython3",
   "version": "3.9.7"
  }
 },
 "nbformat": 4,
 "nbformat_minor": 5
}
