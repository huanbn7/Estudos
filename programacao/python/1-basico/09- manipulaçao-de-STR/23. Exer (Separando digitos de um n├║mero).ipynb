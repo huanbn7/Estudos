{
 "cells": [
  {
   "cell_type": "markdown",
   "id": "0cbaed81",
   "metadata": {},
   "source": [
    "Exercício Python 023: Faça um programa que leia um número de 0 a 9999 e mostre na tela cada um dos dígitos separados."
   ]
  },
  {
   "cell_type": "code",
   "execution_count": null,
   "id": "3ca822e4",
   "metadata": {},
   "outputs": [],
   "source": [
    "print(\"\")\n",
    "num = int(input(\"Digite um número: \" ))\n",
    "print(\"\")\n",
    "\n",
    "print(f\"O número {num} tem: \" )\n",
    "print(\"\")\n",
    "\n",
    "u = num // 1 %10\n",
    "d = num // 10 % 10\n",
    "c = num // 100 %10\n",
    "m = num // 1000 % 10\n",
    "\n",
    "print(f\"{u} unidade (s)\")\n",
    "print(f\"{d} dezena (s)\")\n",
    "print(f\"{c} centena (s)\")\n",
    "print(f\"{m} unidade (s) de milhar\")"
   ]
  }
 ],
 "metadata": {
  "kernelspec": {
   "display_name": "Python 3 (ipykernel)",
   "language": "python",
   "name": "python3"
  },
  "language_info": {
   "codemirror_mode": {
    "name": "ipython",
    "version": 3
   },
   "file_extension": ".py",
   "mimetype": "text/x-python",
   "name": "python",
   "nbconvert_exporter": "python",
   "pygments_lexer": "ipython3",
   "version": "3.9.7"
  }
 },
 "nbformat": 4,
 "nbformat_minor": 5
}
