{
 "cells": [
  {
   "cell_type": "markdown",
   "id": "d99ac8ab",
   "metadata": {},
   "source": [
    "Exercício Python 022: Crie um programa que leia o nome completo de uma pessoa e mostre: \n",
    "- O nome com todas as letras maiúsculas e minúsculas.\n",
    "- Quantas letras ao todo (sem considerar espaços).\n",
    "- Quantas letras tem o primeiro nome."
   ]
  },
  {
   "cell_type": "code",
   "execution_count": 1,
   "id": "c9c7f03d",
   "metadata": {},
   "outputs": [
    {
     "name": "stdout",
     "output_type": "stream",
     "text": [
      "\n",
      "\n",
      "Seu nome todo maisculo fica: \n",
      "Seu nome todo minusculo fica: \n",
      "Seu nome tem 0 letras\n"
     ]
    },
    {
     "ename": "IndexError",
     "evalue": "list index out of range",
     "output_type": "error",
     "traceback": [
      "\u001b[1;31m---------------------------------------------------------------------------\u001b[0m",
      "\u001b[1;31mIndexError\u001b[0m                                Traceback (most recent call last)",
      "\u001b[1;32mc:\\Users\\luigi\\OneDrive\\projects\\Huan\\EXERCICIOS (PYTHON)\\010 Manipulação de STR\\22. Exer (Analizador de texto).ipynb Cell 2'\u001b[0m in \u001b[0;36m<cell line: 14>\u001b[1;34m()\u001b[0m\n\u001b[0;32m     <a href='vscode-notebook-cell:/c%3A/Users/luigi/OneDrive/projects/Huan/EXERCICIOS%20%28PYTHON%29/010%20Manipula%C3%A7%C3%A3o%20de%20STR/22.%20Exer%20%28Analizador%20de%20texto%29.ipynb#ch0000001?line=10'>11</a>\u001b[0m \u001b[39mprint\u001b[39m(\u001b[39mf\u001b[39m\u001b[39m\"\u001b[39m\u001b[39mSeu nome tem \u001b[39m\u001b[39m{\u001b[39;00ma\u001b[39m-\u001b[39mb\u001b[39m}\u001b[39;00m\u001b[39m letras\u001b[39m\u001b[39m\"\u001b[39m)\n\u001b[0;32m     <a href='vscode-notebook-cell:/c%3A/Users/luigi/OneDrive/projects/Huan/EXERCICIOS%20%28PYTHON%29/010%20Manipula%C3%A7%C3%A3o%20de%20STR/22.%20Exer%20%28Analizador%20de%20texto%29.ipynb#ch0000001?line=12'>13</a>\u001b[0m lista \u001b[39m=\u001b[39m n\u001b[39m.\u001b[39msplit()  \u001b[39m#quebrei o nome em uma lista\u001b[39;00m\n\u001b[1;32m---> <a href='vscode-notebook-cell:/c%3A/Users/luigi/OneDrive/projects/Huan/EXERCICIOS%20%28PYTHON%29/010%20Manipula%C3%A7%C3%A3o%20de%20STR/22.%20Exer%20%28Analizador%20de%20texto%29.ipynb#ch0000001?line=13'>14</a>\u001b[0m c \u001b[39m=\u001b[39m lista[\u001b[39m0\u001b[39;49m] \u001b[39m#esse aqui é o 1° item da lista\u001b[39;00m\n\u001b[0;32m     <a href='vscode-notebook-cell:/c%3A/Users/luigi/OneDrive/projects/Huan/EXERCICIOS%20%28PYTHON%29/010%20Manipula%C3%A7%C3%A3o%20de%20STR/22.%20Exer%20%28Analizador%20de%20texto%29.ipynb#ch0000001?line=15'>16</a>\u001b[0m \u001b[39mprint\u001b[39m(\u001b[39mf\u001b[39m\u001b[39m\"\u001b[39m\u001b[39mO seu primeiro nome é \u001b[39m\u001b[39m{\u001b[39;00mc\u001b[39m}\u001b[39;00m\u001b[39m e tem \u001b[39m\u001b[39m{\u001b[39;00m\u001b[39mlen\u001b[39m(c)\u001b[39m}\u001b[39;00m\u001b[39m letras\u001b[39m\u001b[39m\"\u001b[39m)\n",
      "\u001b[1;31mIndexError\u001b[0m: list index out of range"
     ]
    }
   ],
   "source": [
    "# criar um programa que analise o nome de uma pessoa\n",
    "\n",
    "print(\"\")\n",
    "n = input(\"Digite seu nome: \" )\n",
    "print(\"\")\n",
    "\n",
    "print(f\"Seu nome todo maisculo fica: {n.upper()}\")\n",
    "print(f\"Seu nome todo minusculo fica: {n.casefold()}\")\n",
    "a = len(n) #quantidade de micro espasso\n",
    "b = n.count(\" \") #quantidade de espaços\n",
    "print(f\"Seu nome tem {a-b} letras\")\n",
    "\n",
    "lista = n.split()  #quebrei o nome em uma lista\n",
    "c = lista[0] #esse aqui é o 1° item da lista\n",
    "\n",
    "print(f\"O seu primeiro nome é {c} e tem {len(c)} letras\")"
   ]
  }
 ],
 "metadata": {
  "interpreter": {
   "hash": "9a4f0b1f75230d0685db9f62ea9a74145eb856063afdde202d14c9725e05c010"
  },
  "kernelspec": {
   "display_name": "Python 3.10.4 64-bit",
   "language": "python",
   "name": "python3"
  },
  "language_info": {
   "codemirror_mode": {
    "name": "ipython",
    "version": 3
   },
   "file_extension": ".py",
   "mimetype": "text/x-python",
   "name": "python",
   "nbconvert_exporter": "python",
   "pygments_lexer": "ipython3",
   "version": "3.10.4"
  }
 },
 "nbformat": 4,
 "nbformat_minor": 5
}
