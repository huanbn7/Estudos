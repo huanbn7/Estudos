{
 "cells": [
  {
   "cell_type": "markdown",
   "id": "fb0bbdb1",
   "metadata": {},
   "source": [
    "#### 1° Exer."
   ]
  },
  {
   "cell_type": "code",
   "execution_count": null,
   "id": "a9eb80b8",
   "metadata": {},
   "outputs": [],
   "source": [
    "# Tamanho de strings: \n",
    "# Faça um programa que leia 2 strings e informe o conteúdo delas seguido do seu comprimento. \n",
    "# Informe também se as duas strings possuem o mesmo comprimento e são iguais ou diferentes no conteúdo.\n",
    "\n",
    "a = input('Digite algo: ')\n",
    "b = input('Digite algo: ')\n",
    "\n",
    "print(f'\\nConteudo: {a}\\nTamanho: {len(a)}')\n",
    "print(f'\\nConteudo: {b}\\nTamanho: {len(b)}')\n",
    "print()\n",
    "\n",
    "if a == b:\n",
    "    print(\"As str's são iguais\")\n",
    "else:\n",
    "    print(\"As str's são diferentes\")\n",
    "\n",
    "if len(a) == len(b):\n",
    "    print(\"As str's possuem o mesmo comprimento\")\n",
    "else:\n",
    "    print(\"As str's não possuem o mesmo comprimento\")"
   ]
  },
  {
   "cell_type": "markdown",
   "id": "00842344",
   "metadata": {},
   "source": [
    "#### 2° Exer."
   ]
  },
  {
   "cell_type": "code",
   "execution_count": null,
   "id": "d1a582af",
   "metadata": {},
   "outputs": [],
   "source": [
    "# Nome ao contrário em maiúsculas:   \n",
    "# Faça um programa que permita ao usuário digitar o seu nome e em seguida,  \n",
    "# mostre o nome do usuário de trás para frente utilizando somente letras maiúsculas. \n",
    "# Dica: lembre−se que ao informar o nome o usuário pode digitar letras maiúsculas ou minúsculas.\n",
    "\n",
    "nome = input('Digite seu nome: ').upper()\n",
    "print(nome[::-1])\n"
   ]
  },
  {
   "cell_type": "markdown",
   "id": "ae1a93aa",
   "metadata": {},
   "source": [
    "#### 3° Exer."
   ]
  },
  {
   "cell_type": "code",
   "execution_count": null,
   "id": "630bdd1c",
   "metadata": {},
   "outputs": [],
   "source": [
    "# Nome na vertical. Faça um programa que solicite o nome do usuário e imprima-o na vertical.\n",
    "\n",
    "nome = input('Digite seu nome: ').capitalize()\n",
    "\n",
    "for letra in nome:\n",
    "    print(letra)"
   ]
  },
  {
   "cell_type": "markdown",
   "id": "d80101b4",
   "metadata": {},
   "source": [
    "#### 4° Exer."
   ]
  },
  {
   "cell_type": "code",
   "execution_count": null,
   "id": "477e76d3",
   "metadata": {},
   "outputs": [],
   "source": [
    "# Nome na vertical em escada. Modifique o programa anterior de forma a mostrar o nome em formato de escada.\n",
    "\n",
    "nome = input('Digite um nome: ')\n",
    "print()\n",
    "\n",
    "c = ''\n",
    "for l in nome:\n",
    "    c += l\n",
    "    print(c)"
   ]
  },
  {
   "cell_type": "markdown",
   "id": "295a7494",
   "metadata": {},
   "source": [
    "#### 5° Exer."
   ]
  },
  {
   "cell_type": "code",
   "execution_count": 25,
   "id": "8d77f552",
   "metadata": {},
   "outputs": [
    {
     "name": "stdout",
     "output_type": "stream",
     "text": [
      "Digite um nome: Huan\n",
      "\n",
      "Huan\n",
      "Hua\n",
      "Hu\n",
      "H\n"
     ]
    }
   ],
   "source": [
    "# Nome na vertical em escada invertida. Altere o programa anterior de modo que a escada seja invertida.\n",
    "\n",
    "nome = input('Digite um nome: ')\n",
    "print()\n",
    "\n",
    "for letra in nome:\n",
    "    print(nome)\n",
    "    nome = nome.removesuffix(nome[-1])\n",
    "    "
   ]
  },
  {
   "cell_type": "markdown",
   "id": "7c101dde",
   "metadata": {},
   "source": [
    "#### 6° Exer."
   ]
  },
  {
   "cell_type": "code",
   "execution_count": 28,
   "id": "6a35059b",
   "metadata": {},
   "outputs": [
    {
     "name": "stdout",
     "output_type": "stream",
     "text": [
      "Data de nascimento: 25/04/199\n",
      "Você nasceu em 25 de abril de 199\n"
     ]
    }
   ],
   "source": [
    "# Data por extenso. Faça um programa que solicite a data de nascimento (dd/mm/aaaa) do usuário e imprima \n",
    "# a data com o nome do mês por extenso.\n",
    "\n",
    "meses=['janeiro','fevereiro','março','abril','maio','junho','julho','agosto','setembro','novembro','dezembro']\n",
    "\n",
    "data = input('Data de nascimento: ')\n",
    "mes = (int(data[3:5]) -1) \n",
    "\n",
    "print(f'Você nasceu em {data[0:2]} de {meses[mes]} de {data[6:10]}')"
   ]
  },
  {
   "cell_type": "markdown",
   "id": "fb441f77",
   "metadata": {},
   "source": [
    "#### 7° Exer."
   ]
  },
  {
   "cell_type": "code",
   "execution_count": 32,
   "id": "9cfda30a",
   "metadata": {},
   "outputs": [
    {
     "name": "stdout",
     "output_type": "stream",
     "text": [
      "Digite algo: Huan Barros\n",
      "A String contém 4 vogais e 1 espaços vazios \n"
     ]
    }
   ],
   "source": [
    "# Conta espaços e vogais. Dado uma string com uma frase informada pelo, \n",
    "# usuário (incluindo espaços em branco), conte:\n",
    "\n",
    "# quantos espaços em branco existem na frase.\n",
    "# quantas vezes aparecem as vogais a, e, i, o, u.\n",
    "\n",
    "x = input('Digite algo: ').casefold()\n",
    "\n",
    "vazio = x.count(' ')\n",
    "cont = 0\n",
    "\n",
    "for letra in x:\n",
    "    if letra in 'aeiou':\n",
    "        cont += 1 \n",
    "\n",
    "print(f'A String contém {cont} vogais e {vazio} espaços vazios ')"
   ]
  },
  {
   "cell_type": "markdown",
   "id": "dad5691f",
   "metadata": {},
   "source": [
    "#### 8° Exer."
   ]
  },
  {
   "cell_type": "code",
   "execution_count": null,
   "id": "3a734b9f",
   "metadata": {},
   "outputs": [],
   "source": [
    "# Faça um programa que leia uma seqüência de caracteres, mostre−a e diga se é um palíndromo ou não.\n",
    "\n",
    "a = input('Digite algo: ')\n",
    "b = a.split(' ')\n",
    "c = ''.join(b)\n",
    "d = c[::-1]\n",
    "\n",
    "if c == d:\n",
    "    print(f'{a.upper()} é um palindromo')\n",
    "else:\n",
    "    print(f'{a.upper()} não é um palindromo')"
   ]
  },
  {
   "cell_type": "markdown",
   "id": "743fb0de",
   "metadata": {},
   "source": [
    "#### 9° Exer."
   ]
  },
  {
   "cell_type": "code",
   "execution_count": null,
   "id": "2a2b3888",
   "metadata": {},
   "outputs": [],
   "source": [
    "# Desenvolva um programa que solicite a digitação de um número de CPF no formato \n",
    "# xxx.xxx.xxx-xx e indique se é um número válido ou inválido \n",
    "# através da validação dos dígitos verificadores edos caracteres de formatação.\n",
    "cont = ''\n",
    "while True:\n",
    "    cpf = input('\\nDigite seu cpf: ')\n",
    "    \n",
    "    for i in cpf:\n",
    "        if i.isnumeric():\n",
    "            cont+=i\n",
    "    \n",
    "    if len(cpf)!=14:\n",
    "        print('CPF inválido!')\n",
    "        continue\n",
    "    if cpf[3] != '.' or cpf[7]!= '.' or cpf[11]!= '-':\n",
    "        print('CPF inválido!')\n",
    "        continue  \n",
    "    if len(cont) < 11:\n",
    "        print('O cpf é INVÁLIDO')\n",
    "        continue\n",
    "    else:\n",
    "        print('\\nO CPF É VÁLIDO')\n",
    "        break\n",
    "    print(a)"
   ]
  },
  {
   "cell_type": "markdown",
   "id": "270e7679",
   "metadata": {},
   "source": [
    "#### 10° Exer."
   ]
  },
  {
   "cell_type": "code",
   "execution_count": null,
   "id": "50b23fba",
   "metadata": {},
   "outputs": [],
   "source": [
    "lista = ['zero','um','dois','três','quatro','cinco','seis','sete','oito','nove','dez'\n",
    "         ,'onze','doze','treze','quatorze','quinze','dezesseis','dezessete','dezoito','dezenove']\n",
    "\n",
    "dezenas = ['vinte','trinta','quarenta','cinquenta',\n",
    "           'sessenta','setenta','oitenta','noventa']\n",
    "\n",
    "centenas = ['cento','duzentos','trezentos','quatrocentos',\n",
    "           'quinhentos','seissentos','setessentos','oitocentos','novecentos']\n",
    "\n",
    "while True:\n",
    "    numero = input('\\nDigite um número [0 á 999]: ')\n",
    "    if int(numero) > 999:\n",
    "        print('Erro. Número maior que 99')\n",
    "        continue\n",
    "\n",
    "    if int(numero) < 20:\n",
    "        print(f'Número por extenso:\\033[31m {lista[int(numero)]} \\033[m')\n",
    "    else: \n",
    "        pos1 = int(numero[0])\n",
    "        pos2 = int(numero[1])   \n",
    "        \n",
    "        if len(numero) > 2:\n",
    "            pos3 = int(numero[2])\n",
    "            \n",
    "            if 9 < int(numero[1:3]) < 20:\n",
    "                print(f'Número por extenso:\\033[31m {centenas[pos1-1]} e {lista[int(numero[1:3])]} \\033[m')\n",
    "                continue\n",
    "            elif pos2 == 0 and pos3 == 0:\n",
    "                print(f'Número por extenso:\\033[31m {centenas[pos1-1]} \\033[m')\n",
    "                continue\n",
    "            elif pos3 == 0:\n",
    "                print(f'Número por extenso:\\033[31m {centenas[pos1-1]} e {dezenas[pos2-2]} \\033[m')\n",
    "                continue\n",
    "            elif pos2 == 0:\n",
    "                print(f'Número por extenso:\\033[31m {centenas[pos1-1]} e {lista[pos3]} \\033[m')\n",
    "                continue\n",
    "            else:\n",
    "                print(f'Número por extenso:\\033[31m {centenas[pos1-1]} e {dezenas[pos2-2]} e {lista[pos3]} \\033[m')\n",
    "                continue\n",
    "                \n",
    "        if pos2 == 0:\n",
    "            print(f'Número por extenso:\\033[31m {dezenas[pos1-2]} \\033[m')\n",
    "        else:  \n",
    "            print(f'Número por extenso:\\033[31m {dezenas[pos1-2]} e {lista[pos2]} \\033[m')\n",
    "    "
   ]
  },
  {
   "cell_type": "markdown",
   "id": "2b02fe87",
   "metadata": {},
   "source": [
    "#### 11° Exer."
   ]
  },
  {
   "cell_type": "code",
   "execution_count": null,
   "id": "6fbc73b7",
   "metadata": {
    "scrolled": false
   },
   "outputs": [],
   "source": [
    "from random import *\n",
    "\n",
    "lista = [\n",
    "         ['banana','pera','tangerina','pessego','limao','siriguela','cacau',\n",
    "          'kiwi','abacate','lima','caju','caja','morango','pera','uva','laranja'],\n",
    "       \n",
    "         ['sagui','macaco','rato','tartaruga','golfinho','canguru','cavalo',\n",
    "          'leao','jaguar','onca','curuja','aguia','coelho','aranha','abelha',\n",
    "          'vaca','tamandua','cobra','zebra','gato','cachorro','urso','tigre']\n",
    "]\n",
    "\n",
    "print('''\n",
    "▶ Temas\n",
    "[1] Frutas\n",
    "[2] Animais\n",
    "      ''')\n",
    "\n",
    "tema = int(input('Qual tema você quer? '))\n",
    "pos = randint(0,len(lista[tema-1]))\n",
    "pe = lista[tema-1][pos]\n",
    "x = ['_ ' for i in range(len(pe))]\n",
    "\n",
    "print(f'\\nA palavra tem {len(pe)} letras')\n",
    "\n",
    "cont = 0\n",
    "while True:\n",
    "    # Mostrando os traços\n",
    "    print(f'\\n▶ A palavra é:  ',end='')\n",
    "    for c in x:\n",
    "        print(c,'',end='')\n",
    "    \n",
    "    # Saida caso o usuário acerte a palavra\n",
    "    if '_ ' not in x:\n",
    "        print(f'\\n\\nVocê Acertou a palavra. PARABÉNS')\n",
    "        break\n",
    "        \n",
    "    # input para a letra\n",
    "    letra = input('\\n▶ Digite uma letra:  ')\n",
    "    \n",
    "    # Trocando os traços pela letra que o usuário acertou\n",
    "    for pos,l in enumerate(pe):\n",
    "        if letra == l:\n",
    "            x[pos] = letra\n",
    "            \n",
    "    # Contando quantas vezes o usuário errou \n",
    "    if letra not in pe:\n",
    "        cont += 1 \n",
    "        if cont == 5:\n",
    "            print(f'\\nVocê errou pela {cont}ª vez. GAME OVER')\n",
    "            print(f'A palavra era {pe.upper()}')\n",
    "            break\n",
    "        print(f'\\nVocê errou pela {cont}ª vez. Tente de novo!')"
   ]
  },
  {
   "cell_type": "markdown",
   "id": "85d38c60",
   "metadata": {},
   "source": [
    "#### 12° Exerc.\n"
   ]
  },
  {
   "cell_type": "code",
   "execution_count": null,
   "id": "a6a308f1",
   "metadata": {},
   "outputs": [],
   "source": [
    "while True:\n",
    "    numero = input('\\nNúmero: ')\n",
    "    \n",
    "    if '-' in numero:\n",
    "        numero = numero.replace('-','')\n",
    "    \n",
    "    if numero.isnumeric() == False:\n",
    "        print('ERRO 1')\n",
    "        continue\n",
    "        \n",
    "    if len(numero) == 7:\n",
    "        print(f'Novo número: 3{numero[0:3]}-{numero[3:]}')\n",
    "        break\n",
    "        \n",
    "    elif len(numero) == 8:\n",
    "        print(f'Novo número: 3{numero[1:4]}-{numero[4:]}')\n",
    "        break\n",
    "        \n",
    "    else:\n",
    "        print('ERRO')\n",
    "        continue\n",
    "        \n",
    "    "
   ]
  },
  {
   "cell_type": "markdown",
   "id": "42eb3348",
   "metadata": {},
   "source": [
    "#### 13° Exer.\n"
   ]
  },
  {
   "cell_type": "code",
   "execution_count": null,
   "id": "09f2acad",
   "metadata": {},
   "outputs": [],
   "source": [
    "from random import *\n",
    "from time import *\n",
    "\n",
    "with open('teste.txt',encoding='utf8') as arquivo:\n",
    "    teste = arquivo.read()\n",
    "\n",
    "lista = teste.split('\\n')\n",
    "palavra = lista[randint(0,len(lista)-1)]\n",
    "\n",
    "print('EMBARALHANDO A PALAVRA ...')\n",
    "sleep(2)\n",
    "print('A PALAVRA É: \\033[0;31m', end='')\n",
    "\n",
    "for letra in sample(palavra,len(palavra)):\n",
    "    sleep(0.8)\n",
    "    print(letra.upper(), end='')\n",
    "\n",
    "print('\\033[m')\n",
    "sleep(1)\n",
    "print()\n",
    "\n",
    "cont=0\n",
    "while True:\n",
    "    palpite = input('\\nQual é a palavra: ')\n",
    "    \n",
    "    if palpite != palavra:\n",
    "        cont+=1\n",
    "        if cont==6:\n",
    "            print('\\n\\033[0;31mGAME OVER\\033[m')\n",
    "            print(f'A PALAVRA ERA \\033[0;31m{palavra.upper()}\\033[m')\n",
    "            break\n",
    "        print(f'Você errou {cont} de 6 tentaivas.')\n",
    "        continue\n",
    "    else:\n",
    "        print('\\nPARABÉNS, VOCÊ VENCEU.')\n",
    "        break\n",
    "    "
   ]
  }
 ],
 "metadata": {
  "kernelspec": {
   "display_name": "Python 3 (ipykernel)",
   "language": "python",
   "name": "python3"
  },
  "language_info": {
   "codemirror_mode": {
    "name": "ipython",
    "version": 3
   },
   "file_extension": ".py",
   "mimetype": "text/x-python",
   "name": "python",
   "nbconvert_exporter": "python",
   "pygments_lexer": "ipython3",
   "version": "3.9.7"
  }
 },
 "nbformat": 4,
 "nbformat_minor": 5
}
