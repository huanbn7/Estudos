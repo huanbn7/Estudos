{
 "cells": [
  {
   "cell_type": "markdown",
   "id": "59716648",
   "metadata": {},
   "source": [
    "# Python e arquivos de texto (.txt)"
   ]
  },
  {
   "cell_type": "markdown",
   "id": "827b4930",
   "metadata": {},
   "source": [
    "- Usar sempre o método with:<br><br>\n",
    "    - Sempre que abrirmos um arquivo é necessário que após a sua ultilização ele seje fechado, se o arquivo ficar aberto é provavel que alguns erros aconteçam, como por exemplo: falha na salvação, falha ao tentar acessar o arquivo.<br><br>\n",
    "    - Para que problemas relacionados ao não fechamento do arquivo não aconteçam é importante usar o with<br><br>\n",
    "    - Para abrir um arquivo chamando ele pelo seu nome é necessário que o arquivo e o programa estejam na mesma pasta, caso contrário será necessário chamar a raiz do arquivo."
   ]
  },
  {
   "cell_type": "code",
   "execution_count": null,
   "id": "c4bc8a09",
   "metadata": {},
   "outputs": [],
   "source": [
    "# sintaxe básica\n",
    "with open(file='nome_do_arquivo.txt', mode='r' ou 'w' ou 'a', encoding='utf-8') as apelido:\n",
    "    nome_do_arquivo = apelido. função usada para manipular o arquivo()"
   ]
  },
  {
   "cell_type": "markdown",
   "id": "05afe703",
   "metadata": {},
   "source": [
    "### Formas para criar e manipular um arquivo de texto"
   ]
  },
  {
   "cell_type": "markdown",
   "id": "7bc56dd9",
   "metadata": {},
   "source": [
    "- w → write→ escrever <br>\n",
    "      Cria um arquivo txt e escreve nele, se por acaso ja existir um arquivo txt com o mesmo nome, o conteudo do arquivo já existente será subscrito pelo arquivo novo."
   ]
  },
  {
   "cell_type": "code",
   "execution_count": 50,
   "id": "b1d010a0",
   "metadata": {},
   "outputs": [],
   "source": [
    "# criando um arquivo e escrevendo nele\n",
    "with open(file='nomes_clientes.txt', mode='w', encoding='utf-8') as arquivo:\n",
    "    nomes_clientes = arquivo.write('huan')"
   ]
  },
  {
   "cell_type": "markdown",
   "id": "c3b93337",
   "metadata": {},
   "source": [
    "- r → read → ler<br><br>\n",
    "    - read ()\n",
    "          Retorna uma str única contendo todo o conteúdo do arquivo.\n",
    "          Serve para abrir arquivos simples. \n",
    "          Exemplos: senhas, tokens, informações únicas.\n",
    "          \n",
    "    - readlines ()\n",
    "          Retorna uma lista com itens, a sepação dos itens é feita com base no \\n\n",
    "          Serve para abrir arquivos maiores"
   ]
  },
  {
   "cell_type": "code",
   "execution_count": 51,
   "id": "eef81f45",
   "metadata": {},
   "outputs": [
    {
     "name": "stdout",
     "output_type": "stream",
     "text": [
      "huan\n"
     ]
    }
   ],
   "source": [
    "# função read()\n",
    "with open(file='nomes_clientes.txt', mode='r', encoding='utf-8') as arquivo:\n",
    "    nomes_clientes = arquivo.read()\n",
    "\n",
    "print(nomes_clientes)"
   ]
  },
  {
   "cell_type": "code",
   "execution_count": 52,
   "id": "35ff3f38",
   "metadata": {},
   "outputs": [
    {
     "name": "stdout",
     "output_type": "stream",
     "text": [
      "['huan']\n"
     ]
    }
   ],
   "source": [
    "# função readlines()\n",
    "with open(file='nomes_clientes.txt', mode='r', encoding='utf-8') as arquivo:\n",
    "    nomes_clientes = arquivo.readlines()\n",
    "\n",
    "print(nomes_clientes)"
   ]
  },
  {
   "cell_type": "markdown",
   "id": "537525c6",
   "metadata": {},
   "source": [
    "- a → append→ adicionar <br>\n",
    "      Adiciona algo em formato str dentro de um arquivo, se o arquivo não existir a funcão criará um"
   ]
  },
  {
   "cell_type": "code",
   "execution_count": 53,
   "id": "9e1ae10e",
   "metadata": {},
   "outputs": [],
   "source": [
    "# adicionando algo dentro de uma str\n",
    "with open(file='nomes_clientes.txt', mode='a', encoding='utf-8') as arquivo:\n",
    "    a = [1,2,3]\n",
    "    nomes_clientes = arquivo.write(f'\\n{a}')\n",
    "    \n"
   ]
  }
 ],
 "metadata": {
  "kernelspec": {
   "display_name": "Python 3 (ipykernel)",
   "language": "python",
   "name": "python3"
  },
  "language_info": {
   "codemirror_mode": {
    "name": "ipython",
    "version": 3
   },
   "file_extension": ".py",
   "mimetype": "text/x-python",
   "name": "python",
   "nbconvert_exporter": "python",
   "pygments_lexer": "ipython3",
   "version": "3.11.0"
  },
  "varInspector": {
   "cols": {
    "lenName": 16,
    "lenType": 16,
    "lenVar": 40
   },
   "kernels_config": {
    "python": {
     "delete_cmd_postfix": "",
     "delete_cmd_prefix": "del ",
     "library": "var_list.py",
     "varRefreshCmd": "print(var_dic_list())"
    },
    "r": {
     "delete_cmd_postfix": ") ",
     "delete_cmd_prefix": "rm(",
     "library": "var_list.r",
     "varRefreshCmd": "cat(var_dic_list()) "
    }
   },
   "types_to_exclude": [
    "module",
    "function",
    "builtin_function_or_method",
    "instance",
    "_Feature"
   ],
   "window_display": false
  }
 },
 "nbformat": 4,
 "nbformat_minor": 5
}
