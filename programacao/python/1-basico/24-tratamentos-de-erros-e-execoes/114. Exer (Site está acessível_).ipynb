{
 "cells": [
  {
   "cell_type": "code",
   "execution_count": null,
   "id": "4b4ad139",
   "metadata": {},
   "outputs": [],
   "source": [
    "import urllib.request as url\n",
    "\n",
    "\n",
    "site = input('Qual site voce deseja verificar? ')\n",
    "\n",
    "\n",
    "try:\n",
    "    situacao = url.urlopen(site)\n",
    "\n",
    "except:\n",
    "    print('\\nO site esta temporariamente inacessivel :( ')\n",
    "\n",
    "else:\n",
    "    print('\\nO site esta acessivel :) ')"
   ]
  }
 ],
 "metadata": {
  "kernelspec": {
   "display_name": "Python 3 (ipykernel)",
   "language": "python",
   "name": "python3"
  },
  "language_info": {
   "codemirror_mode": {
    "name": "ipython",
    "version": 3
   },
   "file_extension": ".py",
   "mimetype": "text/x-python",
   "name": "python",
   "nbconvert_exporter": "python",
   "pygments_lexer": "ipython3",
   "version": "3.10.4"
  }
 },
 "nbformat": 4,
 "nbformat_minor": 5
}
