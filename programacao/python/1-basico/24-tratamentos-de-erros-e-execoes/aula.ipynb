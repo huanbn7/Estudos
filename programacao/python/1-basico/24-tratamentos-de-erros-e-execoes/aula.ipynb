{
 "cells": [
  {
   "cell_type": "markdown",
   "id": "6e5b906d",
   "metadata": {},
   "source": [
    "# Tratamento de erros e excecoes"
   ]
  },
  {
   "cell_type": "markdown",
   "id": "62797d4b",
   "metadata": {},
   "source": [
    "#### ▶ Try, except, else e finally"
   ]
  },
  {
   "cell_type": "code",
   "execution_count": null,
   "id": "ec2e9d5e",
   "metadata": {},
   "outputs": [],
   "source": [
    "# Excecoes nao sao erros sintaticos, mas sim erros logicos\n",
    "# Ex.: \n",
    "print(x)  # Sintaticamente o comando esta certo, porem o x nao foi declarado entao assim\n",
    "          # que o codigo rodar vai dar erro.\n",
    "    \n",
    "# Exemplo de excecoes sao: NameErro, IndexErro, ModulonotfoundErro e etc.\n",
    "\n",
    "# Para tratar excecoes em python existe os comandos Try, Except, Else e Finally.\n",
    "\n",
    "try:\n",
    "    \n",
    "    >> Recebe comandos para serem executados e testados.\n",
    "\n",
    "except: \n",
    "    \n",
    "    >> O except é utilizado para enviar uma mensagem de errou ao usuario ou escrever algum bloco de comando  \n",
    "       caso o bloco de comando que esta dentro de try esteja errado.\n",
    "   \n",
    "    >> É possivel usar mais de um except nesse processo, pois existem n tipos \n",
    "       de 'erros de execoes' e com isso posso enviar uma msg personalizada para cada um desses erros.\n",
    "\n",
    "else: (opcional)\n",
    "    \n",
    "    >> O else é ultilizado para caso o bloco de comando que esta dentro de try esteja certo.\n",
    "    \n",
    "    >> Se o try estiver certo, a identacao é quebrada e o bloco de codigo que estcrito estiver, executado sera\n",
    "    \n",
    "    \n",
    "finally: (opcional)\n",
    "    \n",
    "    >> Nao precisa de nehuma condicao para que o bloco de comando que aqui dentro estiver seje executado\n",
    "    \n",
    "    >> Sempre sera executado o bloco de comando que aqui dentro estiver"
   ]
  },
  {
   "cell_type": "markdown",
   "id": "5310cbf1",
   "metadata": {},
   "source": [
    "#### ▶ Estrutura raise"
   ]
  },
  {
   "cell_type": "code",
   "execution_count": 4,
   "id": "54a566a6",
   "metadata": {},
   "outputs": [
    {
     "name": "stdout",
     "output_type": "stream",
     "text": [
      "A funçao aceita somente numeros maiores ou igual a 10\n"
     ]
    }
   ],
   "source": [
    "# O comando raise serve para criar uma exceçao.\n",
    "# Exemplo: Criarei uma exceçao para minha funçao que so aceita numeros >= 10\n",
    "\n",
    "def soma_num_maior_que_10(a, b):\n",
    "    if a < 10 or b < 10:\n",
    "        raise Exception('A funçao aceita somente numeros maiores ou igual a 10')\n",
    "    return a+b   \n",
    "\n",
    "try:\n",
    "    a = soma_num_maior_que_10(10, 8)\n",
    "    print(a)\n",
    "except Exception as erro:\n",
    "    print(erro)"
   ]
  },
  {
   "cell_type": "code",
   "execution_count": 6,
   "id": "543e4856",
   "metadata": {},
   "outputs": [],
   "source": [
    "# Tratando e logando uma exceçao, e enviando uma exceçao para o usuario \n",
    "\n",
    "lista_exceçoes = []\n",
    "\n",
    "def soma(a, b):\n",
    "    try:\n",
    "        return a/b\n",
    "\n",
    "    except Exception as erro:\n",
    "        tipo = f'Tipo de erro: {erro.__class__}'\n",
    "        resumo = f'Resumo do erro: {erro}'\n",
    "        st = (tipo, resumo)\n",
    "        lista_exceçoes.append(st)\n",
    "        \n",
    "        raise erro.__class__(erro)"
   ]
  },
  {
   "cell_type": "code",
   "execution_count": 4,
   "id": "37ba2871",
   "metadata": {},
   "outputs": [
    {
     "name": "stdout",
     "output_type": "stream",
     "text": [
      "O erro <class 'ZeroDivisionError'> aconteceu.\n",
      "Resumo: division by zero\n"
     ]
    }
   ],
   "source": [
    "try:\n",
    "    soma(9, 0)\n",
    "except Exception as erro:\n",
    "    print(f'O erro {erro.__class__} aconteceu.')\n",
    "    print(f'Resumo: {erro}')"
   ]
  },
  {
   "cell_type": "code",
   "execution_count": 5,
   "id": "60bace50",
   "metadata": {},
   "outputs": [
    {
     "name": "stdout",
     "output_type": "stream",
     "text": [
      "Tipo de erro: <class 'ZeroDivisionError'>\n",
      "Resumo do erro: division by zero\n",
      "\n",
      "[(\"Tipo de erro: <class 'ZeroDivisionError'>\", 'Resumo do erro: division by zero')]\n"
     ]
    }
   ],
   "source": [
    "# Mostrando a lista\n",
    "\n",
    "for st in lista_exceçoes:\n",
    "    print(st[0])\n",
    "    print(st[1])\n",
    "\n",
    "print()\n",
    "print(lista_exceçoes)"
   ]
  },
  {
   "cell_type": "markdown",
   "id": "59ef579e",
   "metadata": {},
   "source": [
    "#### ▶ Estrutura assert"
   ]
  },
  {
   "cell_type": "code",
   "execution_count": null,
   "id": "79825fb0",
   "metadata": {},
   "outputs": [],
   "source": [
    "# Estrutura do python\n",
    "# Serve para verificar se a condicao que esta dentro da estrutura esta sendo satisfeita, caso contrario ele para o programa\n",
    "# É uma maneira de garantir que o que vai acontecer é o que eu espero que aconteça, caso contrario o programa para\n",
    "# Serve para desenvolvimento de um programa, na hora de finalizar o programa e botar pra rodar e melhor tirar os assert\n",
    "# Existe ferramentas que fazem essa limpeza dos assert do codigo"
   ]
  },
  {
   "cell_type": "code",
   "execution_count": null,
   "id": "f11013c6",
   "metadata": {},
   "outputs": [],
   "source": [
    "cotacao_dolar = '5.002'"
   ]
  },
  {
   "cell_type": "code",
   "execution_count": null,
   "id": "0daac16a",
   "metadata": {},
   "outputs": [],
   "source": [
    "# Sem usar o assert o resultado do faturamento deu errado, pois cotacao do dolar veio em str, mas eu quero em float\n",
    "\n",
    "vendas = 100\n",
    "faturamento = cotacao_dolar*vendas\n",
    "\n",
    "print(f'O faturamento da loja foi de R${faturamento}')"
   ]
  },
  {
   "cell_type": "code",
   "execution_count": null,
   "id": "67f5bac1",
   "metadata": {},
   "outputs": [],
   "source": [
    "# Usando o assert para verificar se a variavel cotacao_dolar vai vir em float\n",
    "# Se nao vir em float eu preciso trartar essa varivel para o codigo da certo\n",
    "\n",
    "cotacao_dolar = float(cotacao_dolar)\n",
    "assert type(cotacao_dolar) is float\n",
    "\n",
    "vendas = 100\n",
    "faturamento = cotacao_dolar*vendas\n",
    "\n",
    "print(f'O faturamento da loja foi de R${faturamento}')"
   ]
  }
 ],
 "metadata": {
  "kernelspec": {
   "display_name": "Python 3 (ipykernel)",
   "language": "python",
   "name": "python3"
  },
  "language_info": {
   "codemirror_mode": {
    "name": "ipython",
    "version": 3
   },
   "file_extension": ".py",
   "mimetype": "text/x-python",
   "name": "python",
   "nbconvert_exporter": "python",
   "pygments_lexer": "ipython3",
   "version": "3.10.7"
  },
  "varInspector": {
   "cols": {
    "lenName": 16,
    "lenType": 16,
    "lenVar": 40
   },
   "kernels_config": {
    "python": {
     "delete_cmd_postfix": "",
     "delete_cmd_prefix": "del ",
     "library": "var_list.py",
     "varRefreshCmd": "print(var_dic_list())"
    },
    "r": {
     "delete_cmd_postfix": ") ",
     "delete_cmd_prefix": "rm(",
     "library": "var_list.r",
     "varRefreshCmd": "cat(var_dic_list()) "
    }
   },
   "types_to_exclude": [
    "module",
    "function",
    "builtin_function_or_method",
    "instance",
    "_Feature"
   ],
   "window_display": false
  }
 },
 "nbformat": 4,
 "nbformat_minor": 5
}
