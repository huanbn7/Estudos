{
 "cells": [
  {
   "cell_type": "code",
   "execution_count": 12,
   "id": "97bf43c3",
   "metadata": {},
   "outputs": [
    {
     "name": "stdout",
     "output_type": "stream",
     "text": [
      "\n",
      "Digite um numero inteiro: e\n",
      "\u001b[31;1mErro. por favor, digite um numeiro inteiro.\u001b[m\n",
      "\n",
      "Digite um numero inteiro: e\n",
      "\u001b[31;1mErro. por favor, digite um numeiro inteiro.\u001b[m\n",
      "\n",
      "Digite um numero inteiro: 3\n",
      "\n",
      "O valor digitado foi 3\n"
     ]
    }
   ],
   "source": [
    "def valida_num(msg,tipo):\n",
    "    \n",
    "    while True:\n",
    "        \n",
    "        if tipo == 'int':\n",
    "        \n",
    "            try:\n",
    "                num = int(input(msg+' inteiro: '))\n",
    "\n",
    "            except:\n",
    "                print('\\033[31;1mErro. por favor, digite um numeiro inteiro.\\033[m')\n",
    "                continue\n",
    "\n",
    "            else:\n",
    "                return num\n",
    "        \n",
    "        \n",
    "        if tipo == 'float':\n",
    "        \n",
    "            try:\n",
    "                num = float(input(msg+' float: '))\n",
    "\n",
    "            except:\n",
    "                print('\\033[31;1mErro. por favor, digite um numeiro float.\\033[m')\n",
    "                continue\n",
    "\n",
    "            else:\n",
    "                return num\n",
    "    \n",
    "\n",
    "valor = valida_num('\\nDigite um numero', 'int')\n",
    "print(f'\\nO valor digitado foi {valor}')"
   ]
  }
 ],
 "metadata": {
  "kernelspec": {
   "display_name": "Python 3 (ipykernel)",
   "language": "python",
   "name": "python3"
  },
  "language_info": {
   "codemirror_mode": {
    "name": "ipython",
    "version": 3
   },
   "file_extension": ".py",
   "mimetype": "text/x-python",
   "name": "python",
   "nbconvert_exporter": "python",
   "pygments_lexer": "ipython3",
   "version": "3.10.4"
  }
 },
 "nbformat": 4,
 "nbformat_minor": 5
}
