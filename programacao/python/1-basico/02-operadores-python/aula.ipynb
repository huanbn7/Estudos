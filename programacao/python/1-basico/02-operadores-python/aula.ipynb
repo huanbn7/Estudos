{
 "cells": [
  {
   "cell_type": "markdown",
   "id": "97a89992",
   "metadata": {},
   "source": [
    "## Operadores no python "
   ]
  },
  {
   "cell_type": "markdown",
   "id": "b5497832",
   "metadata": {},
   "source": [
    "Os operadores são utilizados na construção de expressões, as quais contém um número variado de operandos. Por exemplo, na expressão **a + b**, temos o operador aritmético **+** e os operandos são as variáveis **a** e **b**.\n",
    "\n",
    "Na linguagem python temos os seguintes tipos de operadores:\n",
    "\n",
    "- Operadores aritméticos \n",
    "- Operadores de atribuição\n",
    "- Operadores de comparação\n",
    "- Operadores lógicos \n",
    "- Operadores de indentidade\n",
    "- Operadores de associação\n",
    "\n",
    "Vamos ver cada um dos tipos agora."
   ]
  },
  {
   "cell_type": "markdown",
   "id": "ddb19e2c",
   "metadata": {},
   "source": [
    "## Operadores aritméticos"
   ]
  },
  {
   "cell_type": "markdown",
   "id": "3e953127",
   "metadata": {},
   "source": [
    "Os operadores aritméticos são utilizados para fazer operações matemáticas. Tais como adição, subtração, multiplicação e outras. Vamos ver cada uma."
   ]
  },
  {
   "cell_type": "markdown",
   "id": "8e9aca82",
   "metadata": {},
   "source": [
    "### +"
   ]
  },
  {
   "cell_type": "markdown",
   "id": "c3558606",
   "metadata": {},
   "source": [
    "Realiza a soma entre operandos."
   ]
  },
  {
   "cell_type": "code",
   "execution_count": 3,
   "id": "7c57522d",
   "metadata": {},
   "outputs": [
    {
     "name": "stdout",
     "output_type": "stream",
     "text": [
      "20\n"
     ]
    }
   ],
   "source": [
    "print( 10+10 )"
   ]
  },
  {
   "cell_type": "markdown",
   "id": "de336628",
   "metadata": {},
   "source": [
    "### -"
   ]
  },
  {
   "cell_type": "markdown",
   "id": "8da5082e",
   "metadata": {},
   "source": [
    "Realiza a subtração entre operandos."
   ]
  },
  {
   "cell_type": "code",
   "execution_count": 4,
   "id": "c633d894",
   "metadata": {},
   "outputs": [
    {
     "name": "stdout",
     "output_type": "stream",
     "text": [
      "5\n"
     ]
    }
   ],
   "source": [
    "print( 10-5 )"
   ]
  },
  {
   "cell_type": "markdown",
   "id": "b926d288",
   "metadata": {},
   "source": [
    "### *"
   ]
  },
  {
   "cell_type": "markdown",
   "id": "8da5082e",
   "metadata": {},
   "source": [
    "Realiza a multiplicação entre operandos."
   ]
  },
  {
   "cell_type": "code",
   "execution_count": 5,
   "id": "7da1e283",
   "metadata": {},
   "outputs": [
    {
     "name": "stdout",
     "output_type": "stream",
     "text": [
      "100\n"
     ]
    }
   ],
   "source": [
    "print( 5*20 )"
   ]
  },
  {
   "cell_type": "markdown",
   "id": "36c2e4e8",
   "metadata": {},
   "source": [
    "### /"
   ]
  },
  {
   "cell_type": "markdown",
   "id": "8da5082e",
   "metadata": {},
   "source": [
    "Realiza a divisão entre operandos."
   ]
  },
  {
   "cell_type": "code",
   "execution_count": 6,
   "id": "89fdca1f",
   "metadata": {},
   "outputs": [
    {
     "name": "stdout",
     "output_type": "stream",
     "text": [
      "10.0\n"
     ]
    }
   ],
   "source": [
    "print(100/10)"
   ]
  },
  {
   "cell_type": "markdown",
   "id": "f2c4af06",
   "metadata": {},
   "source": [
    "### //"
   ]
  },
  {
   "cell_type": "markdown",
   "id": "8da5082e",
   "metadata": {},
   "source": [
    "Realiza a divisão entre operandos e retorna a parte inteira do resutado."
   ]
  },
  {
   "cell_type": "code",
   "execution_count": 13,
   "id": "6e8312c7",
   "metadata": {},
   "outputs": [
    {
     "name": "stdout",
     "output_type": "stream",
     "text": [
      "2\n"
     ]
    }
   ],
   "source": [
    "print( 5//2 )"
   ]
  },
  {
   "cell_type": "markdown",
   "id": "e0b82a65",
   "metadata": {},
   "source": [
    "### %"
   ]
  },
  {
   "cell_type": "markdown",
   "id": "8da5082e",
   "metadata": {},
   "source": [
    "Realiza a divisão entre operandos e retorna o resto da divisão."
   ]
  },
  {
   "cell_type": "code",
   "execution_count": 22,
   "id": "46f3ca4c",
   "metadata": {},
   "outputs": [
    {
     "name": "stdout",
     "output_type": "stream",
     "text": [
      "1\n"
     ]
    }
   ],
   "source": [
    "print( 5%2 )"
   ]
  },
  {
   "cell_type": "markdown",
   "id": "3858e775",
   "metadata": {},
   "source": [
    "### **"
   ]
  },
  {
   "cell_type": "markdown",
   "id": "46fc8e4d",
   "metadata": {},
   "source": [
    "Serve para realizar operações de exponenciação."
   ]
  },
  {
   "cell_type": "code",
   "execution_count": 23,
   "id": "91f33b97",
   "metadata": {},
   "outputs": [
    {
     "name": "stdout",
     "output_type": "stream",
     "text": [
      "9\n"
     ]
    }
   ],
   "source": [
    "print( 3**2 )"
   ]
  },
  {
   "cell_type": "markdown",
   "id": "b119c550",
   "metadata": {},
   "source": [
    "## Operadores de atribuição"
   ]
  },
  {
   "cell_type": "markdown",
   "id": "0604a580",
   "metadata": {},
   "source": [
    "Os operadores de atribuição servem para atribuir valores a uma variável."
   ]
  },
  {
   "cell_type": "markdown",
   "id": "48db2122",
   "metadata": {},
   "source": [
    "### ="
   ]
  },
  {
   "cell_type": "code",
   "execution_count": 28,
   "id": "23e8e892",
   "metadata": {},
   "outputs": [
    {
     "name": "stdout",
     "output_type": "stream",
     "text": [
      "10\n"
     ]
    }
   ],
   "source": [
    "x = 10\n",
    "print(x)"
   ]
  },
  {
   "cell_type": "markdown",
   "id": "0f87e641",
   "metadata": {},
   "source": [
    "### +="
   ]
  },
  {
   "cell_type": "code",
   "execution_count": 30,
   "id": "dc90b5ce",
   "metadata": {},
   "outputs": [
    {
     "name": "stdout",
     "output_type": "stream",
     "text": [
      "15\n"
     ]
    }
   ],
   "source": [
    "x = 10\n",
    "x += 5    # equivalente á x = x + 5\n",
    "\n",
    "print(x)"
   ]
  },
  {
   "cell_type": "markdown",
   "id": "59e944e0",
   "metadata": {},
   "source": [
    "### -="
   ]
  },
  {
   "cell_type": "code",
   "execution_count": 31,
   "id": "dc90b5ce",
   "metadata": {},
   "outputs": [
    {
     "name": "stdout",
     "output_type": "stream",
     "text": [
      "10\n"
     ]
    }
   ],
   "source": [
    "x = 20\n",
    "x -= 10    # equivalente á x = x - 10\n",
    "\n",
    "print(x)"
   ]
  },
  {
   "cell_type": "markdown",
   "id": "823e1308",
   "metadata": {},
   "source": [
    "### *="
   ]
  },
  {
   "cell_type": "code",
   "execution_count": 32,
   "id": "dc90b5ce",
   "metadata": {},
   "outputs": [
    {
     "name": "stdout",
     "output_type": "stream",
     "text": [
      "12\n"
     ]
    }
   ],
   "source": [
    "x = 6\n",
    "x *= 2    # equivalente á x = x * 2\n",
    "\n",
    "print(x)"
   ]
  },
  {
   "cell_type": "markdown",
   "id": "68fccd56",
   "metadata": {},
   "source": [
    "### /="
   ]
  },
  {
   "cell_type": "code",
   "execution_count": 33,
   "id": "dc90b5ce",
   "metadata": {},
   "outputs": [
    {
     "name": "stdout",
     "output_type": "stream",
     "text": [
      "5.0\n"
     ]
    }
   ],
   "source": [
    "x = 50\n",
    "x /= 10    # equivalente á x = x / 10\n",
    "\n",
    "print(x)"
   ]
  },
  {
   "cell_type": "markdown",
   "id": "03100679",
   "metadata": {},
   "source": [
    "### //="
   ]
  },
  {
   "cell_type": "code",
   "execution_count": 37,
   "id": "dc90b5ce",
   "metadata": {},
   "outputs": [
    {
     "name": "stdout",
     "output_type": "stream",
     "text": [
      "2\n"
     ]
    }
   ],
   "source": [
    "x = 5\n",
    "x //= 2    # equivalente á x = x // 2\n",
    "\n",
    "print(x)"
   ]
  },
  {
   "cell_type": "markdown",
   "id": "b8b946c5",
   "metadata": {},
   "source": [
    "### %="
   ]
  },
  {
   "cell_type": "code",
   "execution_count": 38,
   "id": "dc90b5ce",
   "metadata": {},
   "outputs": [
    {
     "name": "stdout",
     "output_type": "stream",
     "text": [
      "1\n"
     ]
    }
   ],
   "source": [
    "x = 9\n",
    "x %= 2    # equivalente á x = x % 2\n",
    "\n",
    "print(x)"
   ]
  },
  {
   "cell_type": "markdown",
   "id": "b7d3585b",
   "metadata": {},
   "source": [
    "## Operadores de comparação"
   ]
  },
  {
   "cell_type": "markdown",
   "id": "8ddd41f3",
   "metadata": {},
   "source": [
    "Os operadores de comparação são usados para compara valores, o que vai retornar **True** ou **False**, dependendo da condição."
   ]
  },
  {
   "cell_type": "markdown",
   "id": "f507b435",
   "metadata": {},
   "source": [
    "### >"
   ]
  },
  {
   "cell_type": "markdown",
   "id": "767d73cd",
   "metadata": {},
   "source": [
    "Verifica se um valor é maior que outro."
   ]
  },
  {
   "cell_type": "code",
   "execution_count": 39,
   "id": "312e3f7d",
   "metadata": {},
   "outputs": [
    {
     "name": "stdout",
     "output_type": "stream",
     "text": [
      "False\n"
     ]
    }
   ],
   "source": [
    "print( 10>11 )"
   ]
  },
  {
   "cell_type": "markdown",
   "id": "c15fcb0e",
   "metadata": {},
   "source": [
    "### <"
   ]
  },
  {
   "cell_type": "markdown",
   "id": "767d73cd",
   "metadata": {},
   "source": [
    "Verifica se um valor é menor que outro."
   ]
  },
  {
   "cell_type": "code",
   "execution_count": 40,
   "id": "f76e8f4c",
   "metadata": {},
   "outputs": [
    {
     "name": "stdout",
     "output_type": "stream",
     "text": [
      "True\n"
     ]
    }
   ],
   "source": [
    "print( 2<10 )"
   ]
  },
  {
   "cell_type": "markdown",
   "id": "0f8ac81d",
   "metadata": {},
   "source": [
    "### == "
   ]
  },
  {
   "cell_type": "markdown",
   "id": "70e6dcdd",
   "metadata": {},
   "source": [
    "Verifica se um valor é igual a outro."
   ]
  },
  {
   "cell_type": "code",
   "execution_count": 42,
   "id": "f76e8f4c",
   "metadata": {},
   "outputs": [
    {
     "name": "stdout",
     "output_type": "stream",
     "text": [
      "True\n"
     ]
    }
   ],
   "source": [
    "print( 99 == 99 )"
   ]
  },
  {
   "cell_type": "markdown",
   "id": "a2464e7c",
   "metadata": {},
   "source": [
    "### !="
   ]
  },
  {
   "cell_type": "markdown",
   "id": "d63db2b9",
   "metadata": {},
   "source": [
    "Verifica se um valor é diferente de outro."
   ]
  },
  {
   "cell_type": "code",
   "execution_count": 43,
   "id": "f76e8f4c",
   "metadata": {},
   "outputs": [
    {
     "name": "stdout",
     "output_type": "stream",
     "text": [
      "True\n"
     ]
    }
   ],
   "source": [
    "print( 50!=10 )"
   ]
  },
  {
   "cell_type": "markdown",
   "id": "fdff6f78",
   "metadata": {},
   "source": [
    "### >="
   ]
  },
  {
   "cell_type": "markdown",
   "id": "767d73cd",
   "metadata": {},
   "source": [
    "Verifica se um valor é maior ou igual a outro."
   ]
  },
  {
   "cell_type": "code",
   "execution_count": 45,
   "id": "a7bceca6",
   "metadata": {},
   "outputs": [
    {
     "name": "stdout",
     "output_type": "stream",
     "text": [
      "True\n"
     ]
    }
   ],
   "source": [
    "print( 45>=45 )"
   ]
  },
  {
   "cell_type": "markdown",
   "id": "70df2ed9",
   "metadata": {},
   "source": [
    "### <="
   ]
  },
  {
   "cell_type": "markdown",
   "id": "767d73cd",
   "metadata": {},
   "source": [
    "Verifica se um valor é menor ou igual a outro."
   ]
  },
  {
   "cell_type": "code",
   "execution_count": 46,
   "id": "9d8fcce2",
   "metadata": {},
   "outputs": [
    {
     "name": "stdout",
     "output_type": "stream",
     "text": [
      "True\n"
     ]
    }
   ],
   "source": [
    "print( 10<=20)"
   ]
  },
  {
   "cell_type": "markdown",
   "id": "059a319f",
   "metadata": {},
   "source": [
    "## Operadores lógicos"
   ]
  },
  {
   "cell_type": "markdown",
   "id": "4cc84a9f",
   "metadata": {},
   "source": [
    "Os operadores lógicos são usados para unir duas ou mais expressões condicionais."
   ]
  },
  {
   "cell_type": "markdown",
   "id": "49daca56",
   "metadata": {},
   "source": [
    "### and"
   ]
  },
  {
   "cell_type": "markdown",
   "id": "0768546b",
   "metadata": {},
   "source": [
    "Retorna **True** se todas as condições forem verdadeira, se apenas uma for falsa retorna **False**."
   ]
  },
  {
   "cell_type": "code",
   "execution_count": 49,
   "id": "e021b576",
   "metadata": {},
   "outputs": [
    {
     "name": "stdout",
     "output_type": "stream",
     "text": [
      "True\n"
     ]
    }
   ],
   "source": [
    "a = 10\n",
    "\n",
    "print( 10<20  and  10/2 == 5 )"
   ]
  },
  {
   "cell_type": "markdown",
   "id": "4e7c4f1b",
   "metadata": {},
   "source": [
    "### or\n"
   ]
  },
  {
   "cell_type": "markdown",
   "id": "0768546b",
   "metadata": {},
   "source": [
    "Retorna **True** se uma das condições for verdadeira, caso contrário retorna **False**."
   ]
  },
  {
   "cell_type": "code",
   "execution_count": 50,
   "id": "204ce016",
   "metadata": {},
   "outputs": [
    {
     "name": "stdout",
     "output_type": "stream",
     "text": [
      "False\n"
     ]
    }
   ],
   "source": [
    "a = 25\n",
    "\n",
    "print( 25>30  or  25-5 == 15 )"
   ]
  },
  {
   "cell_type": "markdown",
   "id": "79105303",
   "metadata": {},
   "source": [
    "### not"
   ]
  },
  {
   "cell_type": "markdown",
   "id": "3e3a5fbf",
   "metadata": {},
   "source": [
    "Inverte o resultado, por exemplo, se o resultado da expressão for **True**, o operador retorna **False**"
   ]
  },
  {
   "cell_type": "code",
   "execution_count": 53,
   "id": "4ae3e36d",
   "metadata": {},
   "outputs": [
    {
     "name": "stdout",
     "output_type": "stream",
     "text": [
      "True\n"
     ]
    }
   ],
   "source": [
    "print( not(10>30) )"
   ]
  },
  {
   "cell_type": "markdown",
   "id": "d896ec2b",
   "metadata": {},
   "source": [
    "## Operadores de indentidade"
   ]
  },
  {
   "cell_type": "markdown",
   "id": "138815f2",
   "metadata": {},
   "source": [
    "Em Python, tudo é um objeto, de variáveis ​​a listas e dicionários, tudo é tratado como objeto. Os operadores de identidade servem para a comparação de objetos. Nessa comparação é verificado se eles ocupam a mesma posição na memória."
   ]
  },
  {
   "cell_type": "markdown",
   "id": "f270da4d",
   "metadata": {},
   "source": [
    "### is"
   ]
  },
  {
   "cell_type": "markdown",
   "id": "603d1506",
   "metadata": {},
   "source": [
    "Retorna **True** se as variáveis comparadas possuirem o mesmo endereço na memória. Caso contrário retorna **False**."
   ]
  },
  {
   "cell_type": "code",
   "execution_count": 2,
   "id": "2fcc19d8",
   "metadata": {},
   "outputs": [
    {
     "name": "stdout",
     "output_type": "stream",
     "text": [
      "True\n",
      "140167617674152\n",
      "140167617674152\n"
     ]
    }
   ],
   "source": [
    "x = 10\n",
    "y = 10\n",
    "\n",
    "# verificando se x e y possui o mesmo endereço na memória\n",
    "print(x is y) \n",
    "\n",
    "# verificando qual é o endereço de x e y\n",
    "print(id(x))\n",
    "print(id(y)) "
   ]
  },
  {
   "cell_type": "markdown",
   "id": "5e3683f2",
   "metadata": {},
   "source": [
    "### is not"
   ]
  },
  {
   "cell_type": "markdown",
   "id": "244fc9eb",
   "metadata": {},
   "source": [
    "É o contrário de **is**, ou seja, se as variáveis não possuirem o mesmo endereço na memória será retornado **True**, caso contrário **False**."
   ]
  },
  {
   "cell_type": "code",
   "execution_count": 69,
   "id": "2fcc19d8",
   "metadata": {},
   "outputs": [
    {
     "name": "stdout",
     "output_type": "stream",
     "text": [
      "True\n",
      "140188283009960\n",
      "140188283010280\n"
     ]
    }
   ],
   "source": [
    "x = 10\n",
    "y = 20\n",
    "\n",
    "# verificando se x e y possui o mesmo endereço na memória\n",
    "print(x is not y) \n",
    "\n",
    "# verificando qual é o endereço de x e y\n",
    "print(id(x))\n",
    "print(id(y)) "
   ]
  },
  {
   "cell_type": "markdown",
   "id": "c931d72a",
   "metadata": {},
   "source": [
    "## Operadores de associação"
   ]
  },
  {
   "cell_type": "markdown",
   "id": "4916906f",
   "metadata": {},
   "source": [
    "Os operadores de associação são utilizados para verificar se um objeto está contido numa sequência, seja essa sequência uma **str** ou uma **iterable**."
   ]
  },
  {
   "cell_type": "markdown",
   "id": "17e61196",
   "metadata": {},
   "source": [
    "### in"
   ]
  },
  {
   "cell_type": "markdown",
   "id": "bd066704",
   "metadata": {},
   "source": [
    "Retorna **True** caso o valor seja encontrado na sequência, caso contrário retorna **False**."
   ]
  },
  {
   "cell_type": "code",
   "execution_count": 81,
   "id": "9ccc8d33",
   "metadata": {},
   "outputs": [
    {
     "name": "stdout",
     "output_type": "stream",
     "text": [
      "True\n"
     ]
    }
   ],
   "source": [
    "# testando com uma str\n",
    "y = 'huan'\n",
    "print( 'h' in y )"
   ]
  },
  {
   "cell_type": "code",
   "execution_count": 80,
   "id": "54f0602a",
   "metadata": {},
   "outputs": [
    {
     "name": "stdout",
     "output_type": "stream",
     "text": [
      "True\n"
     ]
    }
   ],
   "source": [
    "# testando com uma iterable\n",
    "x = [1, 2, 3]\n",
    "print(2 in x)"
   ]
  },
  {
   "cell_type": "markdown",
   "id": "c26b925a",
   "metadata": {},
   "source": [
    "### not in"
   ]
  },
  {
   "cell_type": "markdown",
   "id": "e3598eec",
   "metadata": {},
   "source": [
    "Retorna **True** caso o valor não seja encontrado na sequência, caso contrário retorna **False**."
   ]
  },
  {
   "cell_type": "code",
   "execution_count": 82,
   "id": "9c703a94",
   "metadata": {},
   "outputs": [
    {
     "name": "stdout",
     "output_type": "stream",
     "text": [
      "True\n"
     ]
    }
   ],
   "source": [
    "# testando com uma str\n",
    "y = 'huan'\n",
    "print( 'x' not in y )"
   ]
  },
  {
   "cell_type": "code",
   "execution_count": 84,
   "id": "ad220a97",
   "metadata": {},
   "outputs": [
    {
     "name": "stdout",
     "output_type": "stream",
     "text": [
      "True\n"
     ]
    }
   ],
   "source": [
    "# testando com uma iterable\n",
    "x = [1, 2, 3]\n",
    "print(0 not in x)"
   ]
  }
 ],
 "metadata": {
  "kernelspec": {
   "display_name": "Python 3.11.0 ('venv-estudo': venv)",
   "language": "python",
   "name": "python3"
  },
  "language_info": {
   "codemirror_mode": {
    "name": "ipython",
    "version": 3
   },
   "file_extension": ".py",
   "mimetype": "text/x-python",
   "name": "python",
   "nbconvert_exporter": "python",
   "pygments_lexer": "ipython3",
   "version": "3.11.0"
  },
  "vscode": {
   "interpreter": {
    "hash": "adb252e29be1f305dac8c96945518dcfb8c26ce2c3d6fc57eaedfa100d62fa3c"
   }
  }
 },
 "nbformat": 4,
 "nbformat_minor": 5
}
