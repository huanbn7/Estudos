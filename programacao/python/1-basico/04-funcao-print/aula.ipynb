{
 "cells": [
  {
   "cell_type": "markdown",
   "id": "fcff996e",
   "metadata": {},
   "source": [
    "## 6) Função print ()"
   ]
  },
  {
   "cell_type": "markdown",
   "id": "05bdfa84",
   "metadata": {},
   "source": [
    "#### ▶ Função print()"
   ]
  },
  {
   "cell_type": "code",
   "execution_count": 8,
   "id": "61089ef7",
   "metadata": {},
   "outputs": [
    {
     "name": "stdout",
     "output_type": "stream",
     "text": [
      "Olá, tudo bem?\n",
      "20\n",
      "5\n",
      "\n",
      "4\n"
     ]
    }
   ],
   "source": [
    "# A função print serve para imprimir algo na sua tela.\n",
    "# Ex.:\n",
    "print(\"Olá, tudo bem?\")\n",
    "\n",
    "# Também serve para imprimir resultados de operções matemáticas.\n",
    "#Ex.:\n",
    "a = 5\n",
    "b = 4\n",
    "print(a*b) # Eu usei a função print para imprimir na tela o resultado de a * b.\n",
    "\n",
    "# O print vazio serve para pular linha\n",
    "#Ex.:\n",
    "print(a)\n",
    "print()\n",
    "print(b)"
   ]
  }
 ],
 "metadata": {
  "kernelspec": {
   "display_name": "Python 3 (ipykernel)",
   "language": "python",
   "name": "python3"
  },
  "language_info": {
   "codemirror_mode": {
    "name": "ipython",
    "version": 3
   },
   "file_extension": ".py",
   "mimetype": "text/x-python",
   "name": "python",
   "nbconvert_exporter": "python",
   "pygments_lexer": "ipython3",
   "version": "3.10.6"
  }
 },
 "nbformat": 4,
 "nbformat_minor": 5
}
