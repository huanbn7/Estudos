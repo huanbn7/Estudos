{
 "cells": [
  {
   "cell_type": "markdown",
   "id": "61c0d032",
   "metadata": {},
   "source": [
    "Exercício Python 099: Faça um programa que tenha uma função chamada maior(), que receba vários parâmetros com valores inteiros. Seu programa tem que analisar todos os valores e dizer qual deles é o maior."
   ]
  },
  {
   "cell_type": "code",
   "execution_count": 3,
   "id": "798d3b6c",
   "metadata": {},
   "outputs": [
    {
     "name": "stdout",
     "output_type": "stream",
     "text": [
      "\n",
      "\n",
      "Foram informado 3 valores\n"
     ]
    }
   ],
   "source": [
    "\n",
    "def maior(x):\n",
    "    print(f'Foram informado {len(x)} valores')\n",
    "    print(f'O maior valor é {max(x)}.')\n",
    "    print('Os numeros analizados foram: ', end='')\n",
    "    for i in x:\n",
    "        print(i, end=' ')\n",
    "        \n",
    "\n",
    "for i in range(5):\n",
    "    x = []\n",
    "    a = int(input('\\n\\nQuantos numeros você quer analizar? '))\n",
    "    print()\n",
    "    for i in range(a):\n",
    "        x.append(int(input('Numero: ')))\n",
    "\n",
    "    print()\n",
    "\n",
    "    maior(x) "
   ]
  }
 ],
 "metadata": {
  "interpreter": {
   "hash": "9a85fd7c6c64cfaa0b58707eae3233c98d6cea94f439275bb142c266b0f77e04"
  },
  "kernelspec": {
   "display_name": "Python 3.9.7 ('base')",
   "language": "python",
   "name": "python3"
  },
  "language_info": {
   "codemirror_mode": {
    "name": "ipython",
    "version": 3
   },
   "file_extension": ".py",
   "mimetype": "text/x-python",
   "name": "python",
   "nbconvert_exporter": "python",
   "pygments_lexer": "ipython3",
   "version": "3.9.7"
  }
 },
 "nbformat": 4,
 "nbformat_minor": 5
}
