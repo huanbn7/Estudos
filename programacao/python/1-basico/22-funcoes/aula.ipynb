{
 "cells": [
  {
   "cell_type": "markdown",
   "id": "11e99585",
   "metadata": {},
   "source": [
    "# Função"
   ]
  },
  {
   "cell_type": "markdown",
   "id": "45a39b33",
   "metadata": {},
   "source": [
    "    No Python, uma função é um grupo de instruções relacionadas que executa uma tarefa específica.\n",
    "\n",
    "    As funções ajudam a dividir nosso programa em pedaços menores e modulares. À medida que nosso programa cresce cada vez mais, as funções o tornam mais organizado e gerenciável.\n",
    "\n",
    "    Além disso, evita repetições e torna o código reutilizável.\n",
    "    \n",
    "    Uma função é um bloco de código que só é executado quando é chamado.\n",
    "    Você pode passar dados, conhecidos como parâmetros, para uma função.\n",
    "    Uma função pode retornar dados como resultado.\n",
    "    \n"
   ]
  },
  {
   "cell_type": "markdown",
   "id": "ea39a243",
   "metadata": {},
   "source": [
    "### Funcoes personalizadas e nativas do python"
   ]
  },
  {
   "cell_type": "markdown",
   "id": "92aca6d1",
   "metadata": {},
   "source": [
    "    O python ja traz consigo nativamente varias funcoes, como por exemplo: print(), input(), type(), float(), int() e etc. Essas funcoes sao conhecidas como funcoes builtin.\n",
    "\n",
    "    A linguagem python tambem nos deixa criar funcoes personalidas de acordo com as nossas necessidades. Para evitar escrever o codigo varias vezes basta criar uma funcao que sempre ao ser chamada executara o codigo que antes se repetia varias vezes no programa.\n",
    "    \n",
    "    Em vez de escrever varias vezes o codigo, basta criar uma funcao que execute esse codigo e chama-la sempre que necessario."
   ]
  },
  {
   "cell_type": "markdown",
   "id": "973e6cc5",
   "metadata": {},
   "source": [
    "### Sintaxe da funçao  "
   ]
  },
  {
   "cell_type": "markdown",
   "id": "f46d530c",
   "metadata": {},
   "source": [
    "<br>\n",
    "def nome_da_funçao (parâmetros): <br>\n",
    "ﾠﾠﾠ<br>\n",
    "ﾠﾠﾠ\"\"\" docstring \"\"\" <br>\n",
    "ﾠﾠﾠ<br>\n",
    "ﾠﾠﾠ> Bloco de codigo <br><br>\n",
    "    \n",
    "    \n",
    "    1 - A palavra chave def marca o inicio do cabeçalho da funçao.\n",
    "    2 - Um nome de funçao para indentificar exclusivamente a funçao. Nao podemos usar palavras-chaves como nome de variavel, nome de funcao ou qualquer outro indentificador.      \n",
    "    3 - Parametros (argumentos) atraves dos quais passsamos valores para uma funçao. Eles sao opcionais.\n",
    "    4 - Dois pontos (:) para marcar o final do cabeçalho da funçao.\n",
    "    5 - Strind de documentaçao opcional (docstring) para descrever o que a funçao faz. \n",
    "    6 - Bloco de codigo que vai ser excutado assim que a funçao for chamada.\n",
    "    7 - Uma instrucao opcional return para retorar o valor da funçao."
   ]
  },
  {
   "cell_type": "code",
   "execution_count": 4,
   "id": "d25ff92e",
   "metadata": {},
   "outputs": [],
   "source": [
    "# Essa funcao nao recebe argumentos\n",
    "\n",
    "def minha_funcao():\n",
    "    print('Huan o melhor dos melhores')"
   ]
  },
  {
   "cell_type": "markdown",
   "id": "6fee9aa1",
   "metadata": {},
   "source": [
    "### Chamando uma funçao "
   ]
  },
  {
   "cell_type": "markdown",
   "id": "e8d6353b",
   "metadata": {},
   "source": [
    "    Para chamar uma funcao basta escrever o seu nome seguido de paratenses, caso ela precise receber argumentos, inseri-los dentro dos paratentes."
   ]
  },
  {
   "cell_type": "code",
   "execution_count": 13,
   "id": "c52f2dff",
   "metadata": {},
   "outputs": [
    {
     "name": "stdout",
     "output_type": "stream",
     "text": [
      "Huan o melhor dos melhores\n"
     ]
    }
   ],
   "source": [
    "# Essa funcao nao recebe argumentos\n",
    "\n",
    "minha_funcao()"
   ]
  },
  {
   "cell_type": "markdown",
   "id": "9a2ae673",
   "metadata": {},
   "source": [
    "### Argumentos ou Parametros "
   ]
  },
  {
   "cell_type": "markdown",
   "id": "ed41572d",
   "metadata": {},
   "source": [
    "    As informações podem ser passadas para funções como argumentos. Os argumentos são especificados após o nome da função, dentro dos parênteses. Você pode adicionar quantos argumentos quiser, basta separá-los com uma vírgula.\n",
    "    \n",
    "    Argumentos são frequentemente abreviados para args em documentações do Python"
   ]
  },
  {
   "cell_type": "code",
   "execution_count": 47,
   "id": "27d85257",
   "metadata": {},
   "outputs": [
    {
     "name": "stdout",
     "output_type": "stream",
     "text": [
      "9\n"
     ]
    }
   ],
   "source": [
    "# Criei uma funcao que recebe 2 argumentos (a e b), e essa funcao printa a soma de (a+b).\n",
    "\n",
    "def soma(a, b):\n",
    "    print(a+b)\n",
    "    \n",
    "soma(a=4, b=5)"
   ]
  },
  {
   "cell_type": "markdown",
   "id": "92c91d83",
   "metadata": {},
   "source": [
    "### Número de argumentos"
   ]
  },
  {
   "cell_type": "markdown",
   "id": "ec0c1636",
   "metadata": {},
   "source": [
    "    Por padrão, uma função deve ser chamada com o número correto de argumentos. Significando que se sua função espera 2 argumentos, você deve chamar a função com 2 argumentos, não mais e não menos."
   ]
  },
  {
   "cell_type": "markdown",
   "id": "9b625d47",
   "metadata": {},
   "source": [
    "### Argumentos arbitrários, * args"
   ]
  },
  {
   "cell_type": "markdown",
   "id": "9f9b88ae",
   "metadata": {},
   "source": [
    "    Se você não souber quantos argumentos serão passados para sua função, adicione um * antes do parametro. Dessa forma, a função receberá uma tupla de argumentos."
   ]
  },
  {
   "cell_type": "code",
   "execution_count": 46,
   "id": "badea419",
   "metadata": {},
   "outputs": [
    {
     "name": "stdout",
     "output_type": "stream",
     "text": [
      "10.0\n",
      "20.0\n",
      "30.0\n",
      "40.0\n",
      "50.0\n"
     ]
    }
   ],
   "source": [
    "def dez_porcento(*n):\n",
    "    for i in n:\n",
    "        print(i*0.1)\n",
    "        \n",
    "dez_porcento(100, 200, 300, 400, 500)"
   ]
  },
  {
   "cell_type": "markdown",
   "id": "7865e8b0",
   "metadata": {},
   "source": [
    "### Argumentos da palavra-chave"
   ]
  },
  {
   "cell_type": "markdown",
   "id": "19ca756f",
   "metadata": {},
   "source": [
    "    Você também pode enviar argumentos expecificando o que cada argumento deve receber. Desta forma, a ordem dos argumentos não importa."
   ]
  },
  {
   "cell_type": "code",
   "execution_count": 53,
   "id": "f2370b7d",
   "metadata": {},
   "outputs": [
    {
     "name": "stdout",
     "output_type": "stream",
     "text": [
      "A=1 : B=3 : C=5\n",
      "\n",
      "Soma = 9\n"
     ]
    }
   ],
   "source": [
    "def soma(a, b, c):\n",
    "    print(f'A={a} : B={b} : C={c}\\n')\n",
    "    print(f'Soma = {a+b+c}')\n",
    "    \n",
    "soma(b=3, c=5, a=1)"
   ]
  },
  {
   "cell_type": "markdown",
   "id": "3935c600",
   "metadata": {},
   "source": [
    "### Argumentos arbitrários de palavras-chave, ** kwargs"
   ]
  },
  {
   "cell_type": "markdown",
   "id": "84c29216",
   "metadata": {},
   "source": [
    "    Se você não souber quantos argumentos de palavra-chave serão passados para sua função, adicione dois asteriscos : ** do argumento.\n",
    "    \n",
    "    Argumentos arbitrários de Kword são frequentemente abreviados para ** kwargs em documentações em Python.\n",
    "\n",
    "    Dessa forma, a função receberá um dicionário de argumentos e pode acessar os itens de acordo."
   ]
  },
  {
   "cell_type": "code",
   "execution_count": 57,
   "id": "3bf13f93",
   "metadata": {},
   "outputs": [
    {
     "name": "stdout",
     "output_type": "stream",
     "text": [
      "p1: Huan\n",
      "p2: Luigi\n",
      "p3: Lucas\n"
     ]
    }
   ],
   "source": [
    "def pessoas(**n):\n",
    "    for k,v in n.items():\n",
    "        print(f'{k}: {v}')\n",
    "        \n",
    "pessoas(p1='Huan', p2='Luigi', p3='Lucas')\n",
    "\n",
    "# O nome da variavel passa a ser a chave do dicionario, enquanto a valor da variavel passa a ser\n",
    "# o valor da chave do dicionario."
   ]
  },
  {
   "cell_type": "markdown",
   "id": "fcf37839",
   "metadata": {},
   "source": [
    "### Valor padrão do parâmetro / parametro opcional"
   ]
  },
  {
   "cell_type": "markdown",
   "id": "8b368209",
   "metadata": {},
   "source": [
    "    O exemplo a seguir mostra como usar um valor de parâmetro padrão. Se chamarmos a função sem argumento, ela usa o valor padrão :"
   ]
  },
  {
   "cell_type": "code",
   "execution_count": 63,
   "id": "437d0672",
   "metadata": {},
   "outputs": [
    {
     "name": "stdout",
     "output_type": "stream",
     "text": [
      "Soma com parametros:\n",
      "11\n",
      "Soma sem parametros:\n",
      "0\n",
      "\n"
     ]
    }
   ],
   "source": [
    "def soma(a=0, b=0):\n",
    "    print(a+b)\n",
    "\n",
    "print('Soma com parametros:')\n",
    "soma(5, 6)\n",
    "print('Soma sem parametros:')\n",
    "soma()  \n",
    "''' quando a funcao nao recebe nenhum argumento, ela ultiliza os valores dos argumentos ja \n",
    "estabelecidos dentro da funcao '''\n",
    "print()"
   ]
  },
  {
   "cell_type": "markdown",
   "id": "5a907aa0",
   "metadata": {},
   "source": [
    "### Passando uma lista como um argumento"
   ]
  },
  {
   "cell_type": "markdown",
   "id": "76c868bc",
   "metadata": {},
   "source": [
    "\n",
    "    Você pode enviar qualquer tipo de argumento de dados para uma função (string, número, lista, dicionário etc.) e será tratado como o mesmo tipo de dados dentro da função.\n",
    "\n",
    "    Por exemplo. se você enviar uma lista como argumento, ela ainda será uma lista quando atingir a função."
   ]
  },
  {
   "cell_type": "code",
   "execution_count": 66,
   "id": "30f346bb",
   "metadata": {},
   "outputs": [
    {
     "name": "stdout",
     "output_type": "stream",
     "text": [
      "maçã\n",
      "banana\n",
      "cereja\n"
     ]
    }
   ],
   "source": [
    "def frutas(sesta):\n",
    "    for fruta in sesta:\n",
    "        print(fruta)\n",
    "\n",
    "a = [\"maçã\", \"banana\", \"cereja\"]\n",
    "\n",
    "frutas(a)"
   ]
  },
  {
   "cell_type": "markdown",
   "id": "0d50ec53",
   "metadata": {},
   "source": [
    "### Valores de retorno"
   ]
  },
  {
   "cell_type": "markdown",
   "id": "a92c32b8",
   "metadata": {},
   "source": [
    "    Para permitir que uma função retorne um valor, use o return.\n",
    "    \n",
    "    Ao ultilizar o return e possivel printar o que a funcao retorna e tambem armazenar esse retorno em um variavel. "
   ]
  },
  {
   "cell_type": "code",
   "execution_count": 79,
   "id": "be7fb073",
   "metadata": {},
   "outputs": [
    {
     "name": "stdout",
     "output_type": "stream",
     "text": [
      "28 \n",
      "\n",
      "20\n",
      "26\n"
     ]
    }
   ],
   "source": [
    "def soma(a=0, b=0):\n",
    "    return a+b\n",
    "\n",
    "# armazenando o retorno da funcao em uma variavel\n",
    "a = soma(13, 15)\n",
    "print(a,'\\n')\n",
    "\n",
    "# printando direto o retorno da funcao\n",
    "print(soma(10, 10))\n",
    "print(soma(13, 13))"
   ]
  },
  {
   "cell_type": "markdown",
   "id": "3137450a",
   "metadata": {},
   "source": [
    "### Docstring"
   ]
  },
  {
   "cell_type": "markdown",
   "id": "59dde7ad",
   "metadata": {},
   "source": [
    "    A primeira string apos o cabeçalho da funçao é chamado de docstring, que é a abreviçao de string de documentaçao. Ela é brevemente usada para explicar o que uma funçao faz.\n",
    "    Geralmente usamos aspas triplas para que a docstring possa se estender até varias linhas."
   ]
  },
  {
   "cell_type": "code",
   "execution_count": 9,
   "id": "a990bb72",
   "metadata": {},
   "outputs": [
    {
     "name": "stdout",
     "output_type": "stream",
     "text": [
      "==================================================\n",
      "\n",
      "    Docstring \n",
      "    \n",
      "    Retorna uma saldaçao \n",
      "    \n",
      "==================================================\n",
      "==================================================\n",
      "Help on function minha_funcao in module __main__:\n",
      "\n",
      "minha_funcao(nome)\n",
      "    Docstring \n",
      "    \n",
      "    Retorna uma saldaçao\n",
      "\n",
      "==================================================\n"
     ]
    }
   ],
   "source": [
    "# Criando minha funcao e inserindo uma docstring\n",
    "def minha_funcao(nome):\n",
    "    '''\n",
    "    Docstring \n",
    "    \n",
    "    Retorna uma saldaçao \n",
    "    '''\n",
    "    return 'Hello {nome}'\n",
    "\n",
    "# Visualisando uma docstring de uma funçao\n",
    "print('='*50)\n",
    "print(minha_funcao.__doc__)\n",
    "print('='*50)\n",
    "\n",
    "# Outra maneira de visualizar a docstring é através da funçao help()  \n",
    "print('='*50)\n",
    "help(minha_funcao)\n",
    "print('='*50)"
   ]
  },
  {
   "cell_type": "markdown",
   "id": "953dcfe5",
   "metadata": {},
   "source": [
    "### Escopo e vida util das variaveis "
   ]
  },
  {
   "cell_type": "markdown",
   "id": "dd4ed9d5",
   "metadata": {},
   "source": [
    "    Escopo de uma variavel é a parte de um programa onde a variavel é reconhecida. Parametros e variaveis definidos dentro da funçao nao sao visiveis de fora da funçao. Portanto essas variaveis tem um alcance local.\n",
    "    O tempo de vida de uma variavel é o periodo durante o qual a variavel existe na mémoria. O tempo de vida das variaveis dentro da funçao dura enquanto a funcao estiver sendo executada. Essas variaveis sao excluidas apos o a funcao parar de rodar, portanto, uma funçao nao lembra o valor de uma variavel de suas chamadas anteriores."
   ]
  },
  {
   "cell_type": "code",
   "execution_count": 16,
   "id": "2bb04067",
   "metadata": {},
   "outputs": [
    {
     "name": "stdout",
     "output_type": "stream",
     "text": [
      "O valor de x dentro da funçao é 10\n",
      "O valor de x fora da funçao é 20\n"
     ]
    }
   ],
   "source": [
    "x = 20\n",
    "\n",
    "def minha_funcao(x):\n",
    "    x = 10\n",
    "    print('O valor de x dentro da funçao é', x)\n",
    "    \n",
    "    \n",
    "\n",
    "minha_funcao(x)\n",
    "print('O valor de x fora da funçao é', x)\n",
    "\n"
   ]
  },
  {
   "cell_type": "markdown",
   "id": "05010117",
   "metadata": {},
   "source": [
    "    Por outro lado, variaveis fora da funçao sao visiveis dde dentro. Elas tem um alcance global. Para modificar o valor das variaveis de fora da funçao elas devem ser declaradas dentro da funçao como variaveis globais usando a palavra-chave global."
   ]
  },
  {
   "cell_type": "code",
   "execution_count": 32,
   "id": "7525041e",
   "metadata": {},
   "outputs": [
    {
     "name": "stdout",
     "output_type": "stream",
     "text": [
      "O valor de x dentro da funçao é 10\n",
      "O valor de x fora da funçao é 20\n"
     ]
    }
   ],
   "source": [
    "x = 20\n",
    "\n",
    "def minha_funcao():\n",
    "    x = 10\n",
    "    print('O valor de x dentro da funçao é', x)\n",
    "    \n",
    "    \n",
    "\n",
    "minha_funcao()\n",
    "print('O valor de x fora da funçao é', x)"
   ]
  }
 ],
 "metadata": {
  "kernelspec": {
   "display_name": "Python 3 (ipykernel)",
   "language": "python",
   "name": "python3"
  },
  "language_info": {
   "codemirror_mode": {
    "name": "ipython",
    "version": 3
   },
   "file_extension": ".py",
   "mimetype": "text/x-python",
   "name": "python",
   "nbconvert_exporter": "python",
   "pygments_lexer": "ipython3",
   "version": "3.10.4"
  }
 },
 "nbformat": 4,
 "nbformat_minor": 5
}
