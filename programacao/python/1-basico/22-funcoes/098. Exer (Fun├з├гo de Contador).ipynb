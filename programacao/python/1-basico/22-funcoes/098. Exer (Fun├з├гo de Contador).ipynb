{
 "cells": [
  {
   "cell_type": "markdown",
   "id": "86214c81",
   "metadata": {},
   "source": [
    "Exercício Python 098: Faça um programa que tenha uma função chamada contador(), que receba três parâmetros: início, fim e passo. Seu programa tem que realizar três contagens através da função criada:\n",
    "\n",
    "- de 1 até 10, de 1 em 1\n",
    "- de 10 até 0, de 2 em 2\n",
    "- uma contagem personalizada\n"
   ]
  },
  {
   "cell_type": "code",
   "execution_count": 161,
   "id": "c4a8901f",
   "metadata": {},
   "outputs": [
    {
     "name": "stdout",
     "output_type": "stream",
     "text": [
      "\n",
      "\n",
      "20 18 16 14 12 10 8 6 4 2 0 \n",
      "\n",
      "\n",
      "\n",
      "0 2 4 6 8 10 12 14 16 18 20 22 24 26 28 30 32 34 36 38 40 42 44 46 48 50 52 54 56 58 60 62 64 66 68 70 72 74 76 78 80 82 84 86 88 90 92 94 96 98 100 \n",
      "\n",
      "\n",
      "\n",
      "Contagem personalizada:\n",
      "Começo: 100\n",
      "Fim: 0\n",
      "Passo: 1\n",
      "\n",
      "\n",
      "100 99 98 97 96 95 94 93 92 91 90 89 88 87 86 85 84 83 82 81 80 79 78 77 76 75 74 73 72 71 70 69 68 67 66 65 64 63 62 61 60 59 58 57 56 55 54 53 52 51 50 49 48 47 46 45 44 43 42 41 40 39 38 37 36 35 34 33 32 31 30 29 28 27 26 25 24 23 22 21 20 19 18 17 16 15 14 13 12 11 10 9 8 7 6 5 4 3 2 1 0 "
     ]
    }
   ],
   "source": [
    "\n",
    "def contador(a,b,c):\n",
    "    if a > b:\n",
    "        c=c*(-1)\n",
    "        b-=1\n",
    "    else:\n",
    "        b=b+1\n",
    "    for y in range(a,b,c):\n",
    "        print(y, end=' ')\n",
    "\n",
    "print('\\n')\n",
    "contador(20,0,2)\n",
    "print('\\n')\n",
    "print('\\n')\n",
    "contador(0,100,2)\n",
    "print('\\n')\n",
    "\n",
    "\n",
    "print('\\n\\nContagem personalizada:')\n",
    "começo = int(input('Começo: '))\n",
    "fim = int(input('Fim: '))\n",
    "passo = int(input('Passo: '))\n",
    "\n",
    "        \n",
    "print('\\n')   \n",
    "contador(começo,fim,passo)"
   ]
  }
 ],
 "metadata": {
  "kernelspec": {
   "display_name": "Python 3 (ipykernel)",
   "language": "python",
   "name": "python3"
  },
  "language_info": {
   "codemirror_mode": {
    "name": "ipython",
    "version": 3
   },
   "file_extension": ".py",
   "mimetype": "text/x-python",
   "name": "python",
   "nbconvert_exporter": "python",
   "pygments_lexer": "ipython3",
   "version": "3.9.7"
  }
 },
 "nbformat": 4,
 "nbformat_minor": 5
}
