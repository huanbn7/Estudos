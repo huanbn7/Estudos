'''Exercício Python 100:

Faça um programa que tenha uma lista chamada números e duas funções chamadas sorteia() e
somaPar(). A primeira função vai sortear 5 números e vai colocá-los dentro da lista ea segunda
função vai mostrar a soma entre todos os valores pares sorteados pela função anterior.'''

from random import *

# Função que sorteia os numeros
x = []

def sorteia():
    for i in range(5):
        x.append(randint(1, 10))
    print(f'Os numeros sorteados foram: ', end='')
    for i in x:
        print(i, end=' ')
    print()


sorteia()

# Função para somas os pares
def somaPar():
    soma = 0
    for i in x:
        if i % 2 == 0:
            soma += i
    print(f'A soma de todos os numeros pares é {soma}')

somaPar()
