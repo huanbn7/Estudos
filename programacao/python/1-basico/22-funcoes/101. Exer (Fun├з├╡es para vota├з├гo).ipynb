{
 "cells": [
  {
   "cell_type": "code",
   "execution_count": 63,
   "id": "1f6fc031",
   "metadata": {},
   "outputs": [
    {
     "name": "stdout",
     "output_type": "stream",
     "text": [
      "Em que ano você nasceu? 2003\n",
      "Com 19 anos: voto obrigatório.\n"
     ]
    }
   ],
   "source": [
    "from datetime import date\n",
    "\n",
    "def eleitor(x):\n",
    "    idade = date.today().year - ano\n",
    "    \n",
    "    if idade < 16:\n",
    "        return 'não vota.'\n",
    "    elif idade == 16 or idade ==17 or idade >65:\n",
    "        return 'voto opcional.'\n",
    "    elif 17 < idade <= 65:\n",
    "        return 'voto obrigatório.'\n",
    "\n",
    "\n",
    "ano = int(input('Em que ano você nasceu? '))\n",
    "idade = date.today().year - ano\n",
    "print(f'Com {idade} anos: {eleitor(ano)}')"
   ]
  },
  {
   "cell_type": "code",
   "execution_count": 1,
   "id": "fee61c17",
   "metadata": {},
   "outputs": [
    {
     "name": "stdout",
     "output_type": "stream",
     "text": [
      "ano que nasceu: 2004\n",
      "voto obrigatório.\n"
     ]
    }
   ],
   "source": [
    "def vota(a):\n",
    "    from datetime import date\n",
    "    \"\"\"\n",
    "    a= ano de nascimento da pessoa\n",
    "    \"\"\"\n",
    "    idade= date.today().year-a\n",
    "    if idade < 16:\n",
    "        return 'não vota.'\n",
    "    elif idade == 16 or idade ==17 or idade >65:\n",
    "        return 'voto opcional.'\n",
    "    elif 17 < idade <= 65:\n",
    "        return 'voto obrigatório.'\n",
    "\n",
    "x=int(input(\"ano que nasceu: \"))\n",
    "print(vota(x))"
   ]
  }
 ],
 "metadata": {
  "kernelspec": {
   "display_name": "Python 3 (ipykernel)",
   "language": "python",
   "name": "python3"
  },
  "language_info": {
   "codemirror_mode": {
    "name": "ipython",
    "version": 3
   },
   "file_extension": ".py",
   "mimetype": "text/x-python",
   "name": "python",
   "nbconvert_exporter": "python",
   "pygments_lexer": "ipython3",
   "version": "3.10.4"
  }
 },
 "nbformat": 4,
 "nbformat_minor": 5
}
