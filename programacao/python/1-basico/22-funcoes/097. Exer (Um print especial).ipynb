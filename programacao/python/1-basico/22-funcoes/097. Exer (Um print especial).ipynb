{
 "cells": [
  {
   "cell_type": "code",
   "execution_count": 13,
   "id": "49411ffd",
   "metadata": {},
   "outputs": [
    {
     "name": "stdout",
     "output_type": "stream",
     "text": [
      "******\n",
      " Huan \n",
      "******\n",
      "*********\n",
      " Salário \n",
      "*********\n",
      "*********\n",
      " R$25000 \n",
      "*********\n"
     ]
    }
   ],
   "source": [
    "def mostrar(x):\n",
    "    print('*'*(len(x)+2))\n",
    "    print(f' {x} ')\n",
    "    print('*'*(len(x)+2))\n",
    "        \n",
    "    \n",
    "mostrar('Huan')\n",
    "mostrar('Salário')\n",
    "mostrar('R$25000')"
   ]
  }
 ],
 "metadata": {
  "kernelspec": {
   "display_name": "Python 3 (ipykernel)",
   "language": "python",
   "name": "python3"
  },
  "language_info": {
   "codemirror_mode": {
    "name": "ipython",
    "version": 3
   },
   "file_extension": ".py",
   "mimetype": "text/x-python",
   "name": "python",
   "nbconvert_exporter": "python",
   "pygments_lexer": "ipython3",
   "version": "3.9.7"
  }
 },
 "nbformat": 4,
 "nbformat_minor": 5
}
