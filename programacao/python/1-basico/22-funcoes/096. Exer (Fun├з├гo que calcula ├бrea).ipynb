{
 "cells": [
  {
   "cell_type": "code",
   "execution_count": 19,
   "id": "44daaa28",
   "metadata": {},
   "outputs": [
    {
     "name": "stdout",
     "output_type": "stream",
     "text": [
      "▶ CONTROLE DE TERRENOS\n",
      "\n",
      "Qual a largura do terreno? 2\n",
      "Qual o comprimento? 5\n",
      "\n",
      "A area de um terreno 2x5 é 10.0m².\n"
     ]
    }
   ],
   "source": [
    "def area(a,l):\n",
    "    area=int(a)*int(l)\n",
    "    print(f'\\nA area de um terreno {a}x{l} é {area:.1f}m².')\n",
    "\n",
    "    \n",
    "print('▶ CONTROLE DE TERRENOS\\n')\n",
    "\n",
    "a = input('Qual a largura do terreno? ')\n",
    "l = input('Qual o comprimento? ')\n",
    "\n",
    "area(a,l)"
   ]
  }
 ],
 "metadata": {
  "kernelspec": {
   "display_name": "Python 3 (ipykernel)",
   "language": "python",
   "name": "python3"
  },
  "language_info": {
   "codemirror_mode": {
    "name": "ipython",
    "version": 3
   },
   "file_extension": ".py",
   "mimetype": "text/x-python",
   "name": "python",
   "nbconvert_exporter": "python",
   "pygments_lexer": "ipython3",
   "version": "3.9.7"
  }
 },
 "nbformat": 4,
 "nbformat_minor": 5
}
