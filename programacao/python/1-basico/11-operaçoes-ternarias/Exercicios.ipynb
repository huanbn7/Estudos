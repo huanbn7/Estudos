{
 "cells": [
  {
   "cell_type": "markdown",
   "id": "0e56a944",
   "metadata": {},
   "source": [
    "01 - Faça um Programa que peça dois números e imprima o maior deles."
   ]
  },
  {
   "cell_type": "code",
   "execution_count": 5,
   "id": "03ae41d5",
   "metadata": {},
   "outputs": [
    {
     "name": "stdout",
     "output_type": "stream",
     "text": [
      "1 numero: 3\n",
      "2 numero: 4\n",
      "O valor maximo e 4 e o minimo e 3\n"
     ]
    }
   ],
   "source": [
    "numeros = {int(input(f'{x} numero: ')) for x in range(1,3)}\n",
    "\n",
    "print(f'O valor maximo e {max(numeros)} e o minimo e {min(numeros)}') if len(numeros)==2 else print('Ambos os numeros sao iguais')"
   ]
  },
  {
   "cell_type": "markdown",
   "id": "e5eedf4b",
   "metadata": {},
   "source": [
    "02 - Faça um Programa que peça um valor e mostre na tela se o valor é positivo ou negativo."
   ]
  },
  {
   "cell_type": "code",
   "execution_count": 9,
   "id": "f67e2753",
   "metadata": {},
   "outputs": [
    {
     "name": "stdout",
     "output_type": "stream",
     "text": [
      "Insira um valor: -2\n",
      "O valor e negativo\n"
     ]
    }
   ],
   "source": [
    "valor = int(input('Insira um valor: '))\n",
    "\n",
    "print('O valor e negativo') if valor<0 else print('O valor e positivo')"
   ]
  },
  {
   "cell_type": "markdown",
   "id": "65eb3435",
   "metadata": {},
   "source": [
    "03 - Faça um Programa que verifique se uma letra digitada é \"F\" ou \"M\". Conforme a letra escrever: F - Feminino, M - Masculino, Sexo Inválido."
   ]
  },
  {
   "cell_type": "code",
   "execution_count": 8,
   "id": "befac59e",
   "metadata": {},
   "outputs": [
    {
     "name": "stdout",
     "output_type": "stream",
     "text": [
      "Insira seu sexo: f\n",
      "feminino\n"
     ]
    }
   ],
   "source": [
    "sexo = input('Insira seu sexo: ').casefold()\n",
    "\n",
    "if sexo == 'm':\n",
    "    print('masculino')\n",
    "\n",
    "elif sexo == 'f':\n",
    "    print('feminino')\n",
    "    \n",
    "else:\n",
    "    print('sexo invalido')"
   ]
  },
  {
   "cell_type": "markdown",
   "id": "c414dcc8",
   "metadata": {},
   "source": [
    "04 - Faça um Programa que verifique se uma letra digitada é vogal ou consoante."
   ]
  },
  {
   "cell_type": "code",
   "execution_count": 27,
   "id": "f8253124",
   "metadata": {},
   "outputs": [
    {
     "name": "stdout",
     "output_type": "stream",
     "text": [
      "Insira uma letra: e\n",
      "Vogal\n"
     ]
    }
   ],
   "source": [
    "import unidecode\n",
    "\n",
    "letra = unidecode.unidecode(input('Insira uma letra: '))\n",
    "\n",
    "print('consoante') if not letra in 'aeiou' else print('Vogal')"
   ]
  },
  {
   "cell_type": "markdown",
   "id": "be6ac409",
   "metadata": {},
   "source": [
    "05 - Faça um programa para a leitura de duas notas parciais de um aluno. O programa deve calcular a média alcançada por aluno e apresentar:\n",
    "\n",
    "- A mensagem \"Aprovado\", se a média alcançada for maior ou igual a sete;\n",
    "- A mensagem \"Reprovado\", se a média for menor do que sete;\n",
    "- A mensagem \"Aprovado com Distinção\", se a média for igual a dez."
   ]
  },
  {
   "cell_type": "code",
   "execution_count": 69,
   "id": "d113859f",
   "metadata": {
    "collapsed": true
   },
   "outputs": [
    {
     "name": "stdout",
     "output_type": "stream",
     "text": [
      "\n",
      "Nome: Huan\n",
      "Nota 1: 3\n",
      "Nota 2: 4\n",
      "\n",
      "Nome: Luigi\n",
      "Nota 1: 5\n",
      "Nota 2: 6\n",
      "\n",
      "Nome: Lucas\n",
      "Nota 1: 7\n",
      "Nota 2: 8\n"
     ]
    }
   ],
   "source": [
    "alunos_notas = [[input('\\nNome: '), [float(input(f'Nota {x}: ')) for x in range(1,3)]] for y in range(3)]\n",
    "\n",
    "for i in alunos_notas:\n",
    "    print('\\nAluno:', i[0])\n",
    "    print('Notas:',i[1])\n",
    "    \n",
    "    media = sum(i[1])/len(i[1])\n",
    "    print('Media:', media)\n",
    "    \n",
    "    sit = 'Aprovado' if  media >= 7 else 'Reprovado'\n",
    "    \n",
    "    if media >= 10:\n",
    "        sit = 'Aprovado com distinçao'\n",
    "    \n",
    "    print('Situaçao:', sit)"
   ]
  },
  {
   "cell_type": "markdown",
   "id": "1f2962b6",
   "metadata": {},
   "source": [
    "06 - Faça um Programa que leia três números e mostre o maior deles."
   ]
  },
  {
   "cell_type": "code",
   "execution_count": 101,
   "id": "5765f1f4",
   "metadata": {},
   "outputs": [
    {
     "name": "stdout",
     "output_type": "stream",
     "text": [
      "1 - NUMERO: 5\n",
      "2 - NUMERO: 0\n",
      "3 - NUMERO: 1\n",
      "O maior numero: 5\n"
     ]
    }
   ],
   "source": [
    "numeros = [int(input(f'{x+1} - NUMERO: ')) for x in range(3)]\n",
    "\n",
    "print('\\nO maior numero:', max(numeros))"
   ]
  },
  {
   "cell_type": "markdown",
   "id": "0f10c2cb",
   "metadata": {},
   "source": [
    "07 - Faça um Programa que leia três números e mostre o maior e o menor deles."
   ]
  },
  {
   "cell_type": "code",
   "execution_count": 7,
   "id": "392eb2f2",
   "metadata": {},
   "outputs": [
    {
     "name": "stdout",
     "output_type": "stream",
     "text": [
      "O maior numero: 2\n",
      "O menor numero:  0\n"
     ]
    }
   ],
   "source": [
    "from random import sample\n",
    "a = sample(range(10),3)\n",
    "\n",
    "print('O maior numero:', max(a))\n",
    "print('O menor numero: ', min(a))"
   ]
  }
 ],
 "metadata": {
  "kernelspec": {
   "display_name": "Python 3 (ipykernel)",
   "language": "python",
   "name": "python3"
  },
  "language_info": {
   "codemirror_mode": {
    "name": "ipython",
    "version": 3
   },
   "file_extension": ".py",
   "mimetype": "text/x-python",
   "name": "python",
   "nbconvert_exporter": "python",
   "pygments_lexer": "ipython3",
   "version": "3.10.4"
  }
 },
 "nbformat": 4,
 "nbformat_minor": 5
}
