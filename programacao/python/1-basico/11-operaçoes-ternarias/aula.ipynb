{
 "cells": [
  {
   "cell_type": "markdown",
   "id": "3d6ef056",
   "metadata": {},
   "source": [
    "## Operaçoes ternarias"
   ]
  },
  {
   "cell_type": "code",
   "execution_count": 1,
   "id": "bed1e94f",
   "metadata": {},
   "outputs": [
    {
     "name": "stdout",
     "output_type": "stream",
     "text": [
      "Informe um numero: 2\n",
      "Numero par\n",
      "\n",
      "Informe um numero: 3\n",
      "Numero impar\n"
     ]
    }
   ],
   "source": [
    "# Operaçao ternaria e uma maneira de simplificar o codigo\n",
    "# Nas operaoçoes ternarias se usa as estruturas if e else\n",
    "# Epossivel escrever apenas 1 comando para cada estrutura\n",
    "# Ex.:\n",
    "\n",
    "# tradicional\n",
    "num = int(input('Informe um numero: '))\n",
    "if num%2==0:\n",
    "    print('Numero par')\n",
    "else:\n",
    "    print('Numero impar') \n",
    "\n",
    "# Usando operadores ternarios\n",
    "num = int(input('\\nInforme um numero: '))\n",
    "print('Numero par') if num%2==0 else print('Numero impar')"
   ]
  },
  {
   "cell_type": "code",
   "execution_count": 6,
   "id": "5217f0e8",
   "metadata": {},
   "outputs": [
    {
     "name": "stdout",
     "output_type": "stream",
     "text": [
      "Saque: -184\n",
      "Saque: -738\n",
      "Saque: -267\n",
      "Saque: -930\n",
      "\n",
      "Deposito: 711\n",
      "Deposito: 186\n",
      "Deposito: 360\n",
      "Deposito: 605\n",
      "Deposito: 330\n",
      "Deposito: 993\n"
     ]
    }
   ],
   "source": [
    "# Exemplo\n",
    "\n",
    "import random as rm\n",
    "\n",
    "historico = [rm.randint(-1000,1000) for i in range(10)]\n",
    "saques = []\n",
    "deposito = []\n",
    "\n",
    "for valor in historico:\n",
    "    saques.append(('Saque',valor)) if valor<0 else deposito.append(('Deposito',valor))\n",
    "\n",
    "for st in saques:\n",
    "    print(f'{st[0]}: {st[1]}')\n",
    "\n",
    "print()\n",
    "for st in deposito:\n",
    "    print(f'{st[0]}: {st[1]}')"
   ]
  },
  {
   "cell_type": "code",
   "execution_count": 2,
   "id": "c6ab6fdb",
   "metadata": {
    "ExecuteTime": {
     "end_time": "2023-02-06T00:59:31.756540Z",
     "start_time": "2023-02-06T00:59:31.752922Z"
    }
   },
   "outputs": [
    {
     "name": "stdout",
     "output_type": "stream",
     "text": [
      "100.0\n"
     ]
    }
   ],
   "source": [
    "# Exemplo\n",
    "\n",
    "vendas = 1000\n",
    "meta = 1100\n",
    "\n",
    "comissao = vendas* (0.2 if vendas>=1100 else 0.1)\n",
    "\n",
    "print(comissao)"
   ]
  },
  {
   "cell_type": "code",
   "execution_count": null,
   "id": "538a46ac",
   "metadata": {},
   "outputs": [],
   "source": []
  }
 ],
 "metadata": {
  "kernelspec": {
   "display_name": "Python 3 (ipykernel)",
   "language": "python",
   "name": "python3"
  },
  "language_info": {
   "codemirror_mode": {
    "name": "ipython",
    "version": 3
   },
   "file_extension": ".py",
   "mimetype": "text/x-python",
   "name": "python",
   "nbconvert_exporter": "python",
   "pygments_lexer": "ipython3",
   "version": "3.11.1"
  },
  "varInspector": {
   "cols": {
    "lenName": 16,
    "lenType": 16,
    "lenVar": 40
   },
   "kernels_config": {
    "python": {
     "delete_cmd_postfix": "",
     "delete_cmd_prefix": "del ",
     "library": "var_list.py",
     "varRefreshCmd": "print(var_dic_list())"
    },
    "r": {
     "delete_cmd_postfix": ") ",
     "delete_cmd_prefix": "rm(",
     "library": "var_list.r",
     "varRefreshCmd": "cat(var_dic_list()) "
    }
   },
   "types_to_exclude": [
    "module",
    "function",
    "builtin_function_or_method",
    "instance",
    "_Feature"
   ],
   "window_display": false
  }
 },
 "nbformat": 4,
 "nbformat_minor": 5
}
