{
 "cells": [
  {
   "cell_type": "markdown",
   "id": "57e20535",
   "metadata": {},
   "source": [
    "# Set"
   ]
  },
  {
   "cell_type": "markdown",
   "id": "f99784ea",
   "metadata": {},
   "source": [
    "#### ▶ Introduçao "
   ]
  },
  {
   "cell_type": "code",
   "execution_count": 18,
   "id": "d3708e02",
   "metadata": {},
   "outputs": [
    {
     "name": "stdout",
     "output_type": "stream",
     "text": [
      "<class 'set'>\n",
      "{'e', 'f', 'c', 'b', 'a', 'd'}\n"
     ]
    }
   ],
   "source": [
    "# Um conjunto é uma coleção não ordenada , imutável e não indexada\n",
    "# Os sets tem as mesmas caracteristicas que um conjunto de matematica\n",
    "# Os itens do conjunto não podem ser alterados e não permitem valores duplicados.\n",
    "# Os conjuntos são escritos com colchetes\n",
    "\n",
    "# Ex.:\n",
    "conjunto = {'a','a','b','c','d','e','f'}\n",
    "print(type(conjunto))\n",
    "print(conjunto)"
   ]
  },
  {
   "cell_type": "code",
   "execution_count": 21,
   "id": "f9e9e60f",
   "metadata": {},
   "outputs": [
    {
     "name": "stdout",
     "output_type": "stream",
     "text": [
      "<class 'dict'>\n"
     ]
    }
   ],
   "source": [
    "# Se voce nao adicionar um item a um set, voce esta criando um dicionario vazio\n",
    "\n",
    "conjunto = {}\n",
    "print(type(conjunto))"
   ]
  },
  {
   "cell_type": "code",
   "execution_count": null,
   "id": "14381ff2",
   "metadata": {},
   "outputs": [],
   "source": [
    "# Para criar um conjunto vazio se usa a funçao set()\n",
    "\n",
    "conjunto = set()"
   ]
  },
  {
   "cell_type": "markdown",
   "id": "b99a8760",
   "metadata": {},
   "source": [
    "#### ▶ Tipos de dados de um set"
   ]
  },
  {
   "cell_type": "code",
   "execution_count": null,
   "id": "636f56fd",
   "metadata": {},
   "outputs": [],
   "source": [
    "# Um conjunto pode conter diversos tipos de dados, menos iterables, com exceçao de uma STR\n",
    "a = {\"a\", \"b\", \"c\"}\n",
    "b = {1, 5, 7, 9, 3}\n",
    "c = {True, False, False}\n",
    "d = {\"abc\", 34, True, 40, \"Huan\"}"
   ]
  },
  {
   "cell_type": "markdown",
   "id": "89e7c66a",
   "metadata": {},
   "source": [
    "#### ▶ Funçao set ()"
   ]
  },
  {
   "cell_type": "code",
   "execution_count": 20,
   "id": "eeee284a",
   "metadata": {},
   "outputs": [
    {
     "name": "stdout",
     "output_type": "stream",
     "text": [
      "{'u', 'n', 'h', 'a'}\n"
     ]
    }
   ],
   "source": [
    "# Também é possível usar a funçao set() para fazer um conjunto\n",
    "# Quando se transforma uma iterable em conjunto usando essa funçao, e possivel que a ordem dos itens mude.\n",
    "\n",
    "# Ex.:\n",
    "a = 'huan'\n",
    "a = set(a)\n",
    "\n",
    "print(a)"
   ]
  },
  {
   "cell_type": "markdown",
   "id": "80bb4efb",
   "metadata": {},
   "source": [
    "#### ▶ Iterando um conjunto com o for"
   ]
  },
  {
   "cell_type": "code",
   "execution_count": 24,
   "id": "bac0be77",
   "metadata": {},
   "outputs": [
    {
     "name": "stdout",
     "output_type": "stream",
     "text": [
      "0 1 2 3 4 5 6 7 8 9 "
     ]
    }
   ],
   "source": [
    "# Para acessar os itens de um conjunto basta iterar sobre else com o for\n",
    "# E possivel fazer compreensao de lista\n",
    "# Ex.:\n",
    "\n",
    "conjunto = {x for x in range(10)}\n",
    "\n",
    "for i in conjunto:\n",
    "    print(i, end=' ')"
   ]
  },
  {
   "cell_type": "markdown",
   "id": "f2834ee0",
   "metadata": {},
   "source": [
    "#### ▶ Metodo .update ()"
   ]
  },
  {
   "cell_type": "code",
   "execution_count": 27,
   "id": "c5f06f97",
   "metadata": {},
   "outputs": [
    {
     "name": "stdout",
     "output_type": "stream",
     "text": [
      "{'u', 'n', 'a', 'H'}\n"
     ]
    }
   ],
   "source": [
    "# O metodo .update() serve para adicionar um item iteravel ou uma str em um set\n",
    "# O metodo recebe mais de um parametro\n",
    "# O metodo .update() itera sobre o item a ser adicionado e o adiciona em uma ordem bagunçada/aleatoria\n",
    "# Ex.:\n",
    "conjunto = set()\n",
    "conjunto.update('Huan')\n",
    "print(conjunto)"
   ]
  },
  {
   "cell_type": "code",
   "execution_count": 30,
   "id": "ca72beaa",
   "metadata": {},
   "outputs": [
    {
     "name": "stdout",
     "output_type": "stream",
     "text": [
      "{1, 2, 3, 4, 5, 6, 7}\n"
     ]
    }
   ],
   "source": [
    "# E possivel adicionar itens de um conjunto em outro\n",
    "conjunto1 = {1,2,3,4}\n",
    "conjunto2 = {5,6,7,7,5}\n",
    "conjunto1.update(conjunto2)\n",
    "\n",
    "print(conjunto1)"
   ]
  },
  {
   "cell_type": "markdown",
   "id": "9402d513",
   "metadata": {},
   "source": [
    "#### ▶ Metodo .add ()"
   ]
  },
  {
   "cell_type": "code",
   "execution_count": 33,
   "id": "003d7f3c",
   "metadata": {},
   "outputs": [
    {
     "name": "stdout",
     "output_type": "stream",
     "text": [
      "{0, 1, 2, 3, 4, 5, 6, 7, 8, 9, 10}\n"
     ]
    }
   ],
   "source": [
    "# O metodo .add() e ultilizado para adicionar itens em um conjunto\n",
    "a = set()\n",
    "\n",
    "for i in range(10):\n",
    "    a.add(i)\n",
    "    \n",
    "a.add(10)\n",
    "print(a)"
   ]
  },
  {
   "cell_type": "markdown",
   "id": "c328ed5c",
   "metadata": {},
   "source": [
    "#### ▶ Metodo .discard ()  e  .remove ()"
   ]
  },
  {
   "cell_type": "code",
   "execution_count": 38,
   "id": "6166c946",
   "metadata": {},
   "outputs": [
    {
     "name": "stdout",
     "output_type": "stream",
     "text": [
      "{3}\n"
     ]
    }
   ],
   "source": [
    "# O metodo .remove() serve para excluir o item especificado no parametro\n",
    "# O metodo .discard() nao retorna 1 erro caso o item nao exista no set, o metodo .remove() sim \n",
    "# So recebe um parametro os dois metodos\n",
    "# Ex.:\n",
    "a = {1,2,3}\n",
    "a.remove(1)\n",
    "a.discard(2)\n",
    "\n",
    "print(a)"
   ]
  },
  {
   "cell_type": "markdown",
   "id": "d67da720",
   "metadata": {},
   "source": [
    "#### ▶ Metodo .clear ()"
   ]
  },
  {
   "cell_type": "code",
   "execution_count": 39,
   "id": "c22b45a0",
   "metadata": {},
   "outputs": [
    {
     "name": "stdout",
     "output_type": "stream",
     "text": [
      "{0, 1, 2, 3, 4}\n",
      "set()\n"
     ]
    }
   ],
   "source": [
    "# O metodo .clear() limpa o set\n",
    "# Ex.:\n",
    "conjunto = {x for x in range(5)}\n",
    "print(conjunto)\n",
    "\n",
    "conjunto.clear()\n",
    "print(conjunto)"
   ]
  },
  {
   "cell_type": "markdown",
   "id": "b0753179",
   "metadata": {},
   "source": [
    "#### ▶ Comando del"
   ]
  },
  {
   "cell_type": "code",
   "execution_count": 42,
   "id": "b1dc6a32",
   "metadata": {},
   "outputs": [
    {
     "name": "stdout",
     "output_type": "stream",
     "text": [
      "{0, 1, 2, 3, 4}\n"
     ]
    }
   ],
   "source": [
    "# O comando del exclui todo o set\n",
    "# Ex.:\n",
    "conjunto = {x for x in range(5)}\n",
    "print(conjunto)\n",
    "\n",
    "del conjunto\n",
    "print(conjunto)"
   ]
  },
  {
   "cell_type": "markdown",
   "id": "32dfefc4",
   "metadata": {},
   "source": [
    "#### ▶ Metodo .union ( ) "
   ]
  },
  {
   "cell_type": "code",
   "execution_count": 46,
   "id": "16439234",
   "metadata": {},
   "outputs": [
    {
     "name": "stdout",
     "output_type": "stream",
     "text": [
      "{1, 2, 3, 4, 5, 6, 7, 8, 9}\n",
      "{1, 2, 3, 4, 5, 6, 7, 8, 9}\n"
     ]
    }
   ],
   "source": [
    "# O metodo uniao serve para unir 2 conjuntos ou mais\n",
    "# Ex.:\n",
    "a = {1,2,3}\n",
    "b = {4,5,6}\n",
    "c = {7,8,9}\n",
    "\n",
    "d = a.union(b,c) \n",
    "e = a|b|c\n",
    "\n",
    "print(d)\n",
    "print(e)"
   ]
  },
  {
   "cell_type": "markdown",
   "id": "c5260710",
   "metadata": {},
   "source": [
    "#### ▶ Metodo .itersection()"
   ]
  },
  {
   "cell_type": "code",
   "execution_count": 50,
   "id": "29ca8a92",
   "metadata": {},
   "outputs": [
    {
     "name": "stdout",
     "output_type": "stream",
     "text": [
      "{1, 2}\n",
      "{1, 2}\n"
     ]
    }
   ],
   "source": [
    "# O metodo intersection serve para criar um novo conjunto com os itens que tem em ambos os conjuntos\n",
    "# Ex.:\n",
    "a = {1,2,3}\n",
    "b = {1,2,6}\n",
    "c = {1,2,3}\n",
    "\n",
    "d = a.intersection(b,c)\n",
    "e = a&b&c\n",
    "\n",
    "print(d)\n",
    "print(e)"
   ]
  },
  {
   "cell_type": "markdown",
   "id": "67dd1203",
   "metadata": {},
   "source": [
    "#### ▶ Metodo .difference()"
   ]
  },
  {
   "cell_type": "code",
   "execution_count": 53,
   "id": "27715df4",
   "metadata": {},
   "outputs": [
    {
     "name": "stdout",
     "output_type": "stream",
     "text": [
      "{3}\n",
      "{3}\n"
     ]
    }
   ],
   "source": [
    "# O metodo .diference() serve para saber quais itens so tem no conjunto especificado\n",
    "# Ex.:\n",
    "\n",
    "a = {1,2,3}\n",
    "b = {1,2,6}\n",
    "\n",
    "c = a.difference(b)\n",
    "d = a - b\n",
    "\n",
    "print(c)\n",
    "print(d)"
   ]
  },
  {
   "cell_type": "markdown",
   "id": "b6fca1cf",
   "metadata": {},
   "source": [
    "#### ▶ Metodo .symmetric_difference()"
   ]
  },
  {
   "cell_type": "code",
   "execution_count": 57,
   "id": "762e3608",
   "metadata": {},
   "outputs": [
    {
     "name": "stdout",
     "output_type": "stream",
     "text": [
      "{3, 6}\n",
      "{3, 6}\n"
     ]
    }
   ],
   "source": [
    "# Esse metodo serve para saber quais a diferença entre 2 conjuntos\n",
    "# Ex.:\n",
    "a = {1,2,3}\n",
    "b = {1,2,6}\n",
    "\n",
    "d = a.symmetric_difference(b)\n",
    "e = a^b\n",
    "\n",
    "print(d)\n",
    "print(e)"
   ]
  }
 ],
 "metadata": {
  "kernelspec": {
   "display_name": "Python 3.10.6 64-bit",
   "language": "python",
   "name": "python3"
  },
  "language_info": {
   "codemirror_mode": {
    "name": "ipython",
    "version": 3
   },
   "file_extension": ".py",
   "mimetype": "text/x-python",
   "name": "python",
   "nbconvert_exporter": "python",
   "pygments_lexer": "ipython3",
   "version": "3.10.6"
  },
  "vscode": {
   "interpreter": {
    "hash": "e7370f93d1d0cde622a1f8e1c04877d8463912d04d973331ad4851f04de6915a"
   }
  }
 },
 "nbformat": 4,
 "nbformat_minor": 5
}
