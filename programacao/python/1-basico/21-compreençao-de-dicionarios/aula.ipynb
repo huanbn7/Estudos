{
 "cells": [
  {
   "cell_type": "markdown",
   "id": "7d4051f8",
   "metadata": {},
   "source": [
    "A compreencao de dicionario serve para criar dicionarios de forma simples, de varias formas"
   ]
  },
  {
   "cell_type": "code",
   "execution_count": 9,
   "id": "6a25e2dd",
   "metadata": {},
   "outputs": [
    {
     "name": "stdout",
     "output_type": "stream",
     "text": [
      "{1: 2, 2: 4, 3: 6, 4: 8, 5: 10, 6: 12, 7: 14, 8: 16, 9: 18, 10: 20}\n"
     ]
    }
   ],
   "source": [
    "# Compreencao de dicionario\n",
    "d = {i: i*2 for i in range(1, 11)}\n",
    "\n",
    "print(d)"
   ]
  },
  {
   "cell_type": "code",
   "execution_count": 3,
   "id": "034fba80",
   "metadata": {},
   "outputs": [
    {
     "name": "stdout",
     "output_type": "stream",
     "text": [
      "{'Huan': 17, 'Luigi': 19, 'Lucas': 17, 'Mario': 5}\n"
     ]
    }
   ],
   "source": [
    "# Juntando duas lista em compreençao de dicionarios\n",
    "lista = ['Huan', 'Luigi', 'Lucas', 'Mario']\n",
    "idade = [17, 19, 17, 5]\n",
    "\n",
    "d = {lista[pos]: idade[pos] for pos, i in enumerate(lista)}\n",
    "print(d)"
   ]
  },
  {
   "cell_type": "code",
   "execution_count": 11,
   "id": "433203b5",
   "metadata": {},
   "outputs": [
    {
     "name": "stdout",
     "output_type": "stream",
     "text": [
      "{'Huan': 17, 'Luigi': 19, 'Lucas': 17, 'Mario': 5}\n"
     ]
    }
   ],
   "source": [
    "# Juntando duas lista em compreençao de dicionarios ultilizando a funcao zip()\n",
    "\n",
    "lista = ['Huan', 'Luigi', 'Lucas', 'Mario']\n",
    "idade = [17, 19, 17, 5]\n",
    "\n",
    "d = {nome:idade for nome,idade in zip(lista,idade)}\n",
    "\n",
    "print(d)"
   ]
  }
 ],
 "metadata": {
  "kernelspec": {
   "display_name": "Python 3 (ipykernel)",
   "language": "python",
   "name": "python3"
  },
  "language_info": {
   "codemirror_mode": {
    "name": "ipython",
    "version": 3
   },
   "file_extension": ".py",
   "mimetype": "text/x-python",
   "name": "python",
   "nbconvert_exporter": "python",
   "pygments_lexer": "ipython3",
   "version": "3.10.4"
  }
 },
 "nbformat": 4,
 "nbformat_minor": 5
}
