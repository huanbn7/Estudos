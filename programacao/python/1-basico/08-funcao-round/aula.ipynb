{
 "cells": [
  {
   "cell_type": "markdown",
   "id": "568c4f4a",
   "metadata": {},
   "source": [
    "## Funçao round ()"
   ]
  },
  {
   "cell_type": "code",
   "execution_count": 1,
   "id": "c42e3777",
   "metadata": {},
   "outputs": [
    {
     "name": "stdout",
     "output_type": "stream",
     "text": [
      "3.14\n"
     ]
    }
   ],
   "source": [
    "\n",
    "a = 3.141516\n",
    "print(round(a,2)) # Arredondei para aparecer apenas 2 casas decimais.\n",
    "                  # No lugar do 2 posso colocar a quantidade de casas, \n",
    "                  # que eu quero que apareça após a virgula.\n"
   ]
  }
 ],
 "metadata": {
  "kernelspec": {
   "display_name": "Python 3 (ipykernel)",
   "language": "python",
   "name": "python3"
  },
  "language_info": {
   "codemirror_mode": {
    "name": "ipython",
    "version": 3
   },
   "file_extension": ".py",
   "mimetype": "text/x-python",
   "name": "python",
   "nbconvert_exporter": "python",
   "pygments_lexer": "ipython3",
   "version": "3.10.4"
  }
 },
 "nbformat": 4,
 "nbformat_minor": 5
}
