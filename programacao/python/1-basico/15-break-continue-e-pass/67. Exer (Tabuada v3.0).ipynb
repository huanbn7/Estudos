{
 "cells": [
  {
   "cell_type": "code",
   "execution_count": null,
   "id": "edccd311",
   "metadata": {},
   "outputs": [],
   "source": [
    "num = 0\n",
    "\n",
    "while True:\n",
    "    \n",
    "    print()\n",
    "    print('=-='*10)\n",
    "    print('   Tabuada de multiplicação')\n",
    "    print('=-='*10)\n",
    "    print()\n",
    "    \n",
    "    num = int(input('Digite um número para ver a tabuda de multiplicação: '))\n",
    "    \n",
    "    if num < 0:\n",
    "        print('Erroa, número negativo não é aceito')\n",
    "        print()\n",
    "        continue\n",
    "    \n",
    "    for n in range(1,11):\n",
    "        print(f'{num} x {n} = {n*num}')\n",
    "    \n",
    "    p = input('\\nQuer continuar [s/n]?').casefold()\n",
    "    print()\n",
    "    \n",
    "    if p == 'n':\n",
    "        break\n",
    "\n",
    "print('Fim')"
   ]
  }
 ],
 "metadata": {
  "kernelspec": {
   "display_name": "Python 3 (ipykernel)",
   "language": "python",
   "name": "python3"
  },
  "language_info": {
   "codemirror_mode": {
    "name": "ipython",
    "version": 3
   },
   "file_extension": ".py",
   "mimetype": "text/x-python",
   "name": "python",
   "nbconvert_exporter": "python",
   "pygments_lexer": "ipython3",
   "version": "3.9.7"
  }
 },
 "nbformat": 4,
 "nbformat_minor": 5
}
