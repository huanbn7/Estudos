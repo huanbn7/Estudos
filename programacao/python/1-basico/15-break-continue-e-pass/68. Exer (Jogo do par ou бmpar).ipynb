{
 "cells": [
  {
   "cell_type": "markdown",
   "id": "3a971270",
   "metadata": {},
   "source": [
    "Exercício Python 068: Faça um programa que jogue par ou ímpar com o computador. O jogo só será interrompido quando o jogador perder, mostrando o total de vitórias consecutivas que ele conquistou no final do jogo. \n"
   ]
  },
  {
   "cell_type": "code",
   "execution_count": null,
   "id": "a40c178b",
   "metadata": {},
   "outputs": [],
   "source": [
    "from random import *\n",
    "cont = 0\n",
    "\n",
    "while True:\n",
    "\n",
    "    jogador = input('\\nPar ou Impar? ').casefold().strip()[0]\n",
    "    if jogador != 'p' and jogador != 'i':\n",
    "        print('Error. Digite Par ou Impar!')\n",
    "        continue\n",
    "        \n",
    "    valor = int(input('Diga um valor de 1 a 10: '))\n",
    "    print('=-'*16)\n",
    "    if valor > 10 or valor < 1:\n",
    "        print('Error. Digite um valor de 1 a 10 ')\n",
    "        continue\n",
    "    \n",
    "    \n",
    "    pc = randint(1,11)\n",
    "    total = pc + valor\n",
    "      \n",
    "    print(f'Você jogou {valor} e o pc jogou {pc}')\n",
    "    \n",
    "\n",
    "    if total % 2 == 0:\n",
    "        print('=-'*16)\n",
    "        print(f'O total é {total} e deu PAR.')\n",
    "        if jogador == 'p':\n",
    "            print('Você venceu! Vamos jogar novamente ...')\n",
    "            print('=-'*16)\n",
    "        else:\n",
    "            print('Você perdeu!')\n",
    "            break\n",
    "    \n",
    "    \n",
    "    if total % 2 == 1:\n",
    "        print('=-'*16) \n",
    "        print(f'O total é {total} e deu ÍMPAR.')\n",
    "        if jogador == 'i':\n",
    "            print('Você venceu! Vamos jogar novamente ...')\n",
    "            print('=-'*16)\n",
    "        else:\n",
    "            print('Você perdeu!') \n",
    "            break\n",
    "    cont = cont + 1\n",
    "    \n",
    "print('=-'*16)    \n",
    "print(f'GAME OVER. Você venceu {cont} vezes.')\n",
    "print('=-'*16)"
   ]
  }
 ],
 "metadata": {
  "kernelspec": {
   "display_name": "Python 3 (ipykernel)",
   "language": "python",
   "name": "python3"
  },
  "language_info": {
   "codemirror_mode": {
    "name": "ipython",
    "version": 3
   },
   "file_extension": ".py",
   "mimetype": "text/x-python",
   "name": "python",
   "nbconvert_exporter": "python",
   "pygments_lexer": "ipython3",
   "version": "3.9.7"
  }
 },
 "nbformat": 4,
 "nbformat_minor": 5
}
