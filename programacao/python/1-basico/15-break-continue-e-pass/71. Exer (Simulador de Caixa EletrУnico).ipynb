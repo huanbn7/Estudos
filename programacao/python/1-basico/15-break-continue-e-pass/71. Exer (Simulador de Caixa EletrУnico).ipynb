{
 "cells": [
  {
   "cell_type": "markdown",
   "id": "9298f8af",
   "metadata": {},
   "source": [
    "Exercício Python 071: Crie um programa que simule o funcionamento de um caixa eletrônico. No início, pergunte ao usuário qual será o valor a ser sacado (número inteiro) e o programa vai informar quantas cédulas de cada valor serão entregues."
   ]
  },
  {
   "cell_type": "code",
   "execution_count": 59,
   "id": "3ea80f98",
   "metadata": {},
   "outputs": [
    {
     "name": "stdout",
     "output_type": "stream",
     "text": [
      "=============================\n",
      "          BANCO HNB\n",
      "=============================\n",
      "\n",
      "Quanto você quer sacar? R$1256\n",
      "\n",
      "O total de notas de R$50 é 25.\n",
      "O total de notas de R$5 é 1.\n",
      "O total de notas de R$1 é 1.\n",
      "=============================\n"
     ]
    }
   ],
   "source": [
    "\n",
    "\n",
    "\n",
    "\n",
    "\n",
    "while True:\n",
    "    \n",
    "    print('='*29)\n",
    "    print('          BANCO HNB')\n",
    "    print('='*29)\n",
    "    \n",
    "    valor = int(input('\\nQuanto você quer sacar? R$'))\n",
    "    print()\n",
    "    \n",
    "    if valor >= 50:\n",
    "        notas50 = valor // 50\n",
    "        v = valor % 50\n",
    "        print(f'O total de notas de R$50 é {notas50}.')\n",
    "    \n",
    "    if v >= 20:\n",
    "        notas20 = v // 20\n",
    "        v = valor % 20\n",
    "        print(f'O total de notas de R$20 é {notas20}.')\n",
    "    \n",
    "    if v >= 10:\n",
    "        notas10 = v // 10\n",
    "        v = valor % 10\n",
    "        print(f'O total de notas de R$10 é {notas10}.')\n",
    "    \n",
    "    if v >= 5:\n",
    "        notas5 = v // 5\n",
    "        v = valor % 5\n",
    "        print(f'O total de notas de R$5 é {notas5}.')\n",
    "    \n",
    "    if v >= 1:\n",
    "        notas1 = v // 1\n",
    "        v = valor % 1\n",
    "        print(f'O total de notas de R$1 é {notas1}.')\n",
    "    \n",
    "    print('='*29)\n",
    "    \n",
    "    if v == 0:\n",
    "        break\n",
    "    \n",
    "        \n",
    "\n",
    "        \n",
    "        \n",
    "        \n",
    "        \n",
    "    \n",
    "        "
   ]
  }
 ],
 "metadata": {
  "kernelspec": {
   "display_name": "Python 3 (ipykernel)",
   "language": "python",
   "name": "python3"
  },
  "language_info": {
   "codemirror_mode": {
    "name": "ipython",
    "version": 3
   },
   "file_extension": ".py",
   "mimetype": "text/x-python",
   "name": "python",
   "nbconvert_exporter": "python",
   "pygments_lexer": "ipython3",
   "version": "3.9.7"
  }
 },
 "nbformat": 4,
 "nbformat_minor": 5
}
