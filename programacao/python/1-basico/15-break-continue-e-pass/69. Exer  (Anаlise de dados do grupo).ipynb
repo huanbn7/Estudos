{
 "cells": [
  {
   "cell_type": "markdown",
   "id": "60e647fa",
   "metadata": {},
   "source": [
    "Exercício Python 069: Crie um programa que leia a idade e o sexo de várias pessoas. A cada pessoa cadastrada, o programa deverá perguntar se o usuário quer ou não continuar. No final, mostre:\n",
    "\n",
    "A) quantas pessoas tem mais de 18 anos.\n",
    "\n",
    "B) quantos homens foram cadastrados.\n",
    "\n",
    "C) quantas mulheres tem menos de 20 anos. "
   ]
  },
  {
   "cell_type": "code",
   "execution_count": null,
   "id": "37bc70ca",
   "metadata": {},
   "outputs": [
    {
     "name": "stdout",
     "output_type": "stream",
     "text": [
      "\n",
      "Digite sua idade: 19\n",
      "Diga seu sexo [m/f]: m\n",
      "Quer continuar, sim ou não? s\n",
      "\n"
     ]
    }
   ],
   "source": [
    "som = som2= som3 = 0\n",
    "\n",
    "while True:\n",
    "    \n",
    "    print()\n",
    "    idade = int(input('Digite sua idade: '))\n",
    "    \n",
    "    sexo = input('Diga seu sexo [m/f]: ').casefold().strip()[0]\n",
    "    while sexo != 'm' and sexo != 'f':\n",
    "        sexo = input('Error. Digite Masculino ou Feminino: ').casefold().strip()[0]\n",
    "        \n",
    "    if idade>18:\n",
    "        som += 1\n",
    "    \n",
    "    if sexo == 'm':\n",
    "        som2 += 1\n",
    "    \n",
    "    if sexo == 'f':\n",
    "        if idade < 20:\n",
    "            som3 += 1\n",
    "    \n",
    "    saida = input('Quer continuar, sim ou não? ').casefold().strip()[0]\n",
    "    while saida != 's' and saida != 'n':\n",
    "        saida = input('Error. Digite SIM para continuar ou NÃO p/ parar? ').casefold().strip()[0]\n",
    "    \n",
    "    if saida == 'n':\n",
    "        break\n",
    "\n",
    "print(f'\\nO total de pessoas com mais de 18 anos é {som}.')\n",
    "print(f'O total de homens é {som2}.')\n",
    "print(f'O total de mulheres com menos de 20 anos é {som3}.')\n",
    "    "
   ]
  }
 ],
 "metadata": {
  "kernelspec": {
   "display_name": "Python 3 (ipykernel)",
   "language": "python",
   "name": "python3"
  },
  "language_info": {
   "codemirror_mode": {
    "name": "ipython",
    "version": 3
   },
   "file_extension": ".py",
   "mimetype": "text/x-python",
   "name": "python",
   "nbconvert_exporter": "python",
   "pygments_lexer": "ipython3",
   "version": "3.9.7"
  }
 },
 "nbformat": 4,
 "nbformat_minor": 5
}
