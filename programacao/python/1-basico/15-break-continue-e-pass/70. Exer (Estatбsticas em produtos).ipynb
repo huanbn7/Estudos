{
 "cells": [
  {
   "cell_type": "markdown",
   "id": "dd9e3351",
   "metadata": {},
   "source": [
    "Exercício Python 070: Crie um programa que leia o nome e o preço de vários produtos. O programa deverá perguntar se o usuário vai continuar ou não. No final, mostre:\n",
    "A) qual é o total gasto na compra."
   ]
  },
  {
   "cell_type": "code",
   "execution_count": null,
   "id": "f78bb215",
   "metadata": {},
   "outputs": [],
   "source": [
    "total = cont = 0\n",
    "\n",
    "\n",
    "\n",
    "produto = input('Digite o nome do produto: ').strip().title()\n",
    "preço = float(input('Digite o valor do produto em reais: '))\n",
    "    \n",
    "pbarato = produto\n",
    "vbarato = preço\n",
    "    \n",
    "total += preço\n",
    "\n",
    "if preço > 1000:\n",
    "    cont += 1\n",
    "    \n",
    "    \n",
    "# SAIDA\n",
    "saida = input('Quer continuar, sim ou não? ').casefold().strip()[0]\n",
    "    \n",
    "while saida != 's' and saida != 'n':\n",
    "    saida = input('Error. Digite SIM para continuar e NÃO p/ sair: ').casefold().strip()[0]\n",
    "    \n",
    "    \n",
    "    \n",
    "while saida == 's':\n",
    "        \n",
    "    produto = input('/nDigite o nome do produto: ').strip().title()\n",
    "    preço = float(input('Digite o valor do produto em reais: '))\n",
    "\n",
    "    total += preço\n",
    "\n",
    "    if preço > 1000:\n",
    "        cont += 1\n",
    "\n",
    "    if preço < vbarato:\n",
    "        vbarato = preço\n",
    "        pbarato = produto\n",
    "\n",
    "\n",
    "    # SAIDA\n",
    "    saida = input('Quer continuar, sim ou não?').casefold().strip()[0]\n",
    "\n",
    "    while saida != 's' and saida != 'n':\n",
    "        saida = input('Error. Digite SIM para continuar e NÃO p/ sair: ').casefold().strip()[0]\n",
    "\n",
    "    \n",
    "print()\n",
    "print('=-='*20)\n",
    "print(f'> O total da compra foi R${total:.2f}')\n",
    "print(f'> A quantidade de produtos custando mais que R$1.000,00 é {cont}')\n",
    "print(f'> {pbarato} foi o produto mais barato e custou R${vbarato:.2f}')\n",
    "print('=-='*20)   "
   ]
  }
 ],
 "metadata": {
  "kernelspec": {
   "display_name": "Python 3 (ipykernel)",
   "language": "python",
   "name": "python3"
  },
  "language_info": {
   "codemirror_mode": {
    "name": "ipython",
    "version": 3
   },
   "file_extension": ".py",
   "mimetype": "text/x-python",
   "name": "python",
   "nbconvert_exporter": "python",
   "pygments_lexer": "ipython3",
   "version": "3.9.7"
  }
 },
 "nbformat": 4,
 "nbformat_minor": 5
}
