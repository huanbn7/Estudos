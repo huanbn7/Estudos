{
 "cells": [
  {
   "cell_type": "markdown",
   "id": "d9cf5f29",
   "metadata": {},
   "source": [
    "Exercício Python 066: Crie um programa que leia números inteiros pelo teclado. O programa só vai parar quando o usuário digitar o valor 999, que é a condição de parada. No final, mostre quantos números foram digitados e qual foi a soma entre elas (desconsiderando o flag)."
   ]
  },
  {
   "cell_type": "code",
   "execution_count": 4,
   "id": "e0095044",
   "metadata": {},
   "outputs": [
    {
     "name": "stdout",
     "output_type": "stream",
     "text": [
      "Digite um número [99 p/ parar]: 3\n",
      "Digite um número [99 p/ parar]: 6\n",
      "Digite um número [99 p/ parar]: 99\n",
      "\n",
      "Você digitou 2 números e a soma entre eles é 9\n"
     ]
    }
   ],
   "source": [
    "num = cont = som = 0\n",
    "\n",
    "while num!= 999:\n",
    "    num = int(input('Digite um número [99 p/ parar]: '))\n",
    "    if num == 99:\n",
    "        break\n",
    "    som = som + num\n",
    "    cont = cont + 1\n",
    "\n",
    "print(f'\\nVocê digitou {cont} números e a soma entre eles é {som}.')\n",
    "\n"
   ]
  }
 ],
 "metadata": {
  "kernelspec": {
   "display_name": "Python 3 (ipykernel)",
   "language": "python",
   "name": "python3"
  },
  "language_info": {
   "codemirror_mode": {
    "name": "ipython",
    "version": 3
   },
   "file_extension": ".py",
   "mimetype": "text/x-python",
   "name": "python",
   "nbconvert_exporter": "python",
   "pygments_lexer": "ipython3",
   "version": "3.9.7"
  }
 },
 "nbformat": 4,
 "nbformat_minor": 5
}
