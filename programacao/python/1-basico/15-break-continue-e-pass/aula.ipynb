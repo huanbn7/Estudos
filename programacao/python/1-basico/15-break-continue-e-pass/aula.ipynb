{
 "cells": [
  {
   "cell_type": "markdown",
   "id": "9ed95090",
   "metadata": {},
   "source": [
    "## Break, Continue e Pass"
   ]
  },
  {
   "cell_type": "markdown",
   "id": "6fd1ce24",
   "metadata": {},
   "source": [
    "#### ▶ Break"
   ]
  },
  {
   "cell_type": "code",
   "execution_count": null,
   "id": "b5a05565",
   "metadata": {},
   "outputs": [],
   "source": [
    "while True:\n",
    "    num = int(input('Digite um numero (0 para parar): '))\n",
    "    if num == 0:\n",
    "        break   # Se o input for igual a 0, eu ordenei ao pc que pare e saia do loop"
   ]
  },
  {
   "cell_type": "code",
   "execution_count": null,
   "id": "d0ad5d01",
   "metadata": {},
   "outputs": [],
   "source": [
    "for i in range(1,11):\n",
    "    if i == 5:\n",
    "        break   # Se o i for igual a 5, eu ordenei ao pc que pare e saia do loop\n",
    "    print(f'{i}', end=' ')"
   ]
  },
  {
   "cell_type": "markdown",
   "id": "1f9e3f38",
   "metadata": {},
   "source": [
    "#### ▶ Continue"
   ]
  },
  {
   "cell_type": "code",
   "execution_count": null,
   "id": "949dab22",
   "metadata": {},
   "outputs": [],
   "source": [
    "for i in range(1,11):\n",
    "    if i == 5:\n",
    "        continue     # Se o i for igual a 5, o pc vai puar para a proxima senquencia, sem executar os comandos abaixo do IF\n",
    "    print(i,end=' ')"
   ]
  },
  {
   "cell_type": "code",
   "execution_count": null,
   "id": "13c0b612",
   "metadata": {},
   "outputs": [],
   "source": [
    "while True:\n",
    "    num = int(input('\\nDigite um numero inteiro: '))\n",
    "    if num == 5:\n",
    "        continue    # Se o num for igual a 5 o programa não vai executar os comandos abaixo do if pois ele vai retornar ao inicio do loop\n",
    "    print(f'Você digitou o numero {num}')"
   ]
  },
  {
   "cell_type": "markdown",
   "id": "34d147c8",
   "metadata": {},
   "source": [
    "#### ▶ Pass"
   ]
  },
  {
   "cell_type": "code",
   "execution_count": null,
   "id": "bd9f4159",
   "metadata": {},
   "outputs": [],
   "source": [
    "for i in range(1,11):\n",
    "    if i == 5:\n",
    "        pass   # O camando pass serve para o programa cntinuar\n",
    "    print(f'{i}', end=' ')"
   ]
  }
 ],
 "metadata": {
  "kernelspec": {
   "display_name": "Python 3 (ipykernel)",
   "language": "python",
   "name": "python3"
  },
  "language_info": {
   "codemirror_mode": {
    "name": "ipython",
    "version": 3
   },
   "file_extension": ".py",
   "mimetype": "text/x-python",
   "name": "python",
   "nbconvert_exporter": "python",
   "pygments_lexer": "ipython3",
   "version": "3.10.4"
  }
 },
 "nbformat": 4,
 "nbformat_minor": 5
}
