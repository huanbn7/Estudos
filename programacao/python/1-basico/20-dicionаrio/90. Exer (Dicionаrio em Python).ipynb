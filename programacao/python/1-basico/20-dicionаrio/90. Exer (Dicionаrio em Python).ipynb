{
 "cells": [
  {
   "cell_type": "markdown",
   "id": "cf979ac1",
   "metadata": {},
   "source": [
    "Exercício Python 090: Faça um programa que leia nome e média de um aluno, guardando também a situação em um dicionário. No final, mostre o conteúdo da estrutura na tela.\n",
    "\n",
    "- nota < 5 = Reprovado\n",
    "- nota < 7 = Recuperação\n",
    "- nota >= 7 = Aprovado"
   ]
  },
  {
   "cell_type": "code",
   "execution_count": 1,
   "id": "b1db6ef6",
   "metadata": {},
   "outputs": [
    {
     "name": "stdout",
     "output_type": "stream",
     "text": [
      "========================================\n",
      "Nome: Huan\n",
      "Média: 10\n",
      "========================================\n",
      "\n",
      "- Nome é igual a Huan\n",
      "- Média é igual a 10\n",
      "- Situação é igual a aprovado\n"
     ]
    }
   ],
   "source": [
    "print('='*40)\n",
    "dados = {'nome': input('Nome: ')}\n",
    "dados['media'] = int(input('Média: '))\n",
    "print('='*40)\n",
    "\n",
    "\n",
    "print(f'\\n- Nome é igual a {dados[\"nome\"]}')\n",
    "print(f'- Média é igual a {dados[\"media\"]}')\n",
    "\n",
    "if dados['media']<5:\n",
    "    print('- Situação é igual a reprovado')\n",
    "elif dados['media'] < 7:\n",
    "    print('- Situação é igual a recuperação')\n",
    "else:\n",
    "    print('- Situação é igual a aprovado')\n"
   ]
  }
 ],
 "metadata": {
  "kernelspec": {
   "display_name": "Python 3 (ipykernel)",
   "language": "python",
   "name": "python3"
  },
  "language_info": {
   "codemirror_mode": {
    "name": "ipython",
    "version": 3
   },
   "file_extension": ".py",
   "mimetype": "text/x-python",
   "name": "python",
   "nbconvert_exporter": "python",
   "pygments_lexer": "ipython3",
   "version": "3.9.7"
  }
 },
 "nbformat": 4,
 "nbformat_minor": 5
}
