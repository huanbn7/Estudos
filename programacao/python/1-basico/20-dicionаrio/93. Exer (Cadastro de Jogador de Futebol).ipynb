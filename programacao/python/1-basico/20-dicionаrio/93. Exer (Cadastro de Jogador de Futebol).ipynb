{
 "cells": [
  {
   "cell_type": "markdown",
   "id": "66f08811",
   "metadata": {},
   "source": [
    "Exercício Python 093: Crie um programa que gerencie o aproveitamento de um jogador de futebol. O programa vai ler o nome do jogador e quantas partidas ele jogou. Depois vai ler a quantidade de gols feitos em cada partida. No final, tudo isso será guardado em um dicionário, incluindo o total de gols feitos durante o campeonato."
   ]
  },
  {
   "cell_type": "code",
   "execution_count": 39,
   "id": "817cfb99",
   "metadata": {},
   "outputs": [
    {
     "name": "stdout",
     "output_type": "stream",
     "text": [
      "➥ COLETA DE DADOS\n",
      "Nome do jogador: Huan\n",
      "N° de partidas: 2\n",
      "Total de gols na 1° partida: 1\n",
      "Total de gols na 2° partida: 0\n",
      "\n",
      "➥ DICIONÁRIO\n",
      "{'Nome': 'Huan', 'Partidas': 2, 'Gols': [1, 0]}\n",
      "\n",
      "➥ DADOS\n",
      "Nome: Huan\n",
      "Partidas: 2\n",
      "Gols: [1, 0]\n",
      "Total de gols: 1\n",
      "\n",
      "➥ GOLS E PARTIDAS\n",
      "O jogador Huan jogou 2 partidas\n",
      "1° partida: 1 gol\n",
      "2° partida: 0 gol\n",
      "O Total de gols foi 1\n"
     ]
    }
   ],
   "source": [
    "dic = {}\n",
    "\n",
    "# COLETA DE DADOS\n",
    "print('➥ COLETA DE DADOS')\n",
    "dic['Nome'] = input('Nome do jogador: ')\n",
    "dic['Partidas'] = int(input('N° de partidas: '))\n",
    "dic['Gols'] = [int(input(f'Total de gols na {i+1}° partida: ')) for i in range(dic['Partidas'])]\n",
    "print()\n",
    "\n",
    "# DICIONÁRIO\n",
    "print('➥ DICIONÁRIO')\n",
    "print(f'{dic}')\n",
    "print()\n",
    "\n",
    "# DADOS\n",
    "print('➥ DADOS')\n",
    "for k,v in dic.items():\n",
    "    print(f'{k}: {v}')\n",
    "print(f'Total de gols: {sum(dic[\"Gols\"])}')\n",
    "print()\n",
    "\n",
    "# GOLS E PARTIDAS\n",
    "print('➥ GOLS E PARTIDAS')\n",
    "print(f'O jogador {dic[\"Nome\"]} jogou {dic[\"Partidas\"]} partidas')\n",
    "for pos,i in enumerate(dic['Gols']):\n",
    "    print(f'{pos+1}° partida: {i} gol')\n",
    "print(f'O Total de gols foi {sum(dic[\"Gols\"])}')"
   ]
  }
 ],
 "metadata": {
  "kernelspec": {
   "display_name": "Python 3 (ipykernel)",
   "language": "python",
   "name": "python3"
  },
  "language_info": {
   "codemirror_mode": {
    "name": "ipython",
    "version": 3
   },
   "file_extension": ".py",
   "mimetype": "text/x-python",
   "name": "python",
   "nbconvert_exporter": "python",
   "pygments_lexer": "ipython3",
   "version": "3.9.7"
  }
 },
 "nbformat": 4,
 "nbformat_minor": 5
}
