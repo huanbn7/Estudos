{
 "cells": [
  {
   "cell_type": "markdown",
   "id": "5edc829f",
   "metadata": {},
   "source": [
    "Criar um programa que atualiza uma lista que contém informaçãoes sobre o estoque de um mercado."
   ]
  },
  {
   "cell_type": "code",
   "execution_count": null,
   "id": "178e4f5b",
   "metadata": {},
   "outputs": [],
   "source": [
    "estoque = []"
   ]
  },
  {
   "cell_type": "code",
   "execution_count": null,
   "id": "0fb82fd5",
   "metadata": {},
   "outputs": [],
   "source": [
    "# Atualizações de estoque\n",
    "print(''' Deseja fazer qual alteração no estoque? \n",
    "\n",
    "         ''')\n",
    "\n",
    "while True:\n",
    "    dic = {}\n",
    "    codigo = int(input('\\nCódigo do produto: '))\n",
    "    lista = [input('Nome do produto: ').capitalize(),\n",
    "             float(input('Valor do produto: ')),\n",
    "             int(input('Unidades em estoque: '))]\n",
    "    dic[codigo] = lista\n",
    "    estoque.append(dic)\n",
    "    dic.clear()\n",
    "\n",
    "    saida = input('Deseja adicionar mais um produto [S/N]? ').casefold()\n",
    "    if saida in 'n':\n",
    "        break\n",
    "\n",
    "print('\\n',estoque)"
   ]
  },
  {
   "cell_type": "code",
   "execution_count": null,
   "id": "52c3ee57",
   "metadata": {},
   "outputs": [],
   "source": [
    "\n",
    "total = 0\n",
    "print('\\n  -- Nota fiscal -- ')\n",
    "for v in sorted(dic.values()):\n",
    "    print(f'{v[0]:.<15} R${v[3]:.2f} ')\n",
    "    total += v[3] \n",
    "    \n",
    "print(f'\\n\\nTotal: R${total:.2f}')\n",
    "    "
   ]
  }
 ],
 "metadata": {
  "kernelspec": {
   "display_name": "Python 3 (ipykernel)",
   "language": "python",
   "name": "python3"
  },
  "language_info": {
   "codemirror_mode": {
    "name": "ipython",
    "version": 3
   },
   "file_extension": ".py",
   "mimetype": "text/x-python",
   "name": "python",
   "nbconvert_exporter": "python",
   "pygments_lexer": "ipython3",
   "version": "3.9.7"
  }
 },
 "nbformat": 4,
 "nbformat_minor": 5
}
