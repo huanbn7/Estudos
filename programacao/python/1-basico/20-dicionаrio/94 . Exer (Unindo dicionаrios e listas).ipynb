{
 "cells": [
  {
   "cell_type": "markdown",
   "id": "32df9379",
   "metadata": {},
   "source": [
    "Exercício Python 094: Crie um programa que leia nome, sexo e idade de várias pessoas, guardando os dados de cada pessoa em um dicionário e todos os dicionários em uma lista. No final, mostre: \n",
    "\n",
    "\n",
    "- A) Quantas pessoas foram cadastradas\n",
    "- B) A média de idade\n",
    "- C) Uma lista com as mulheres\n",
    "- D) Uma lista de pessoas com idade acima da média"
   ]
  },
  {
   "cell_type": "code",
   "execution_count": 87,
   "id": "cf762222",
   "metadata": {},
   "outputs": [
    {
     "name": "stdout",
     "output_type": "stream",
     "text": [
      "\n",
      "Nome: Huan\n",
      "Idade: 17\n",
      "Sexo [M/F]: m\n",
      "Quer continuar [S/N]: s\n",
      "\n",
      "Nome: Ana\n",
      "Idade: 15\n",
      "Sexo [M/F]: f\n",
      "Quer continuar [S/N]: s\n",
      "\n",
      "Nome: Maeia\n",
      "Idade: 12\n",
      "Sexo [M/F]: f\n",
      "Quer continuar [S/N]: n\n",
      "\n",
      "A) Ao todo temos 3 pessoas cadastradas.\n",
      "B) A média de idade é de 14.7\n",
      "C) Mulheres cadastradas: ['Ana', 'Maeia']\n",
      "D) Lista das pessoas que estão acima da média: \n",
      "\n",
      "1° -   nome= Huan  idade= 17  sexo= m\n",
      "2° -   nome= Ana  idade= 15  sexo= f"
     ]
    }
   ],
   "source": [
    "lista = []\n",
    "idade = []\n",
    "mulheres=[]\n",
    "\n",
    "while True:    \n",
    "    #Dados do usuario\n",
    "    dic = {}\n",
    "    dic['nome'] = input('\\nNome: ')\n",
    "    dic['idade'] = int(input('Idade: '))\n",
    "    dic['sexo'] = input('Sexo [M/F]: ').casefold()\n",
    "    while dic['sexo'] not in 'mf':\n",
    "        dic['sexo'] = input('Por favor digite apenas M ou F: ').casefold()\n",
    "    \n",
    "    #Separando pessoas do sexo feminino\n",
    "    if dic['sexo'] == 'f':\n",
    "        mulheres.append(dic['nome'])\n",
    "    \n",
    "    #Meida da idade\n",
    "    idade.append(dic['idade'])\n",
    "    \n",
    "    #Adicionando o dicionario na lista\n",
    "    lista.append(dic)\n",
    "    \n",
    "    #Saida\n",
    "    saida = input('Quer continuar [S/N]: ').casefold()\n",
    "    while saida not in 'sn':\n",
    "        saida = input('ERROR, responda apenas S ou N: ').casefold()\n",
    "    if saida == 'n':\n",
    "        break\n",
    "\n",
    "media = sum(idade)/len(idade)\n",
    "cont = 1\n",
    "\n",
    "print(f'\\nA) Ao todo temos {len(lista)} pessoas cadastradas.')\n",
    "print(f'B) A média de idade é de {media:.1f}')\n",
    "print(f'C) Mulheres cadastradas: {mulheres}')   \n",
    "print(f'D) Lista das pessoas que estão acima da média de idade: ')\n",
    "\n",
    "for dic in lista:\n",
    "    if dic['idade'] > media:\n",
    "        print()\n",
    "    for k,v in dic.items():\n",
    "        if dic['idade'] > media:\n",
    "            if v == dic['nome']:\n",
    "                print(f'{cont}° - ',end='')\n",
    "                cont+=1\n",
    "            print(f'  {k}= {v}',end='')\n",
    "\n"
   ]
  }
 ],
 "metadata": {
  "kernelspec": {
   "display_name": "Python 3 (ipykernel)",
   "language": "python",
   "name": "python3"
  },
  "language_info": {
   "codemirror_mode": {
    "name": "ipython",
    "version": 3
   },
   "file_extension": ".py",
   "mimetype": "text/x-python",
   "name": "python",
   "nbconvert_exporter": "python",
   "pygments_lexer": "ipython3",
   "version": "3.9.7"
  }
 },
 "nbformat": 4,
 "nbformat_minor": 5
}
