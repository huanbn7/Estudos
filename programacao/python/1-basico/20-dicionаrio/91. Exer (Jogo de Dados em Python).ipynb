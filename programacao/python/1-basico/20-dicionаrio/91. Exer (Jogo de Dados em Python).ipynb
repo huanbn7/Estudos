{
 "cells": [
  {
   "cell_type": "markdown",
   "id": "4fe1b8fe",
   "metadata": {},
   "source": [
    "Exercício Python 091: Crie um programa onde 4 jogadores joguem um dado e tenham resultados aleatórios. Guarde esses resultados em um dicionário em Python. No final, coloque esse dicionário em ordem, sabendo que o vencedor tirou o maior número no dado."
   ]
  },
  {
   "cell_type": "markdown",
   "id": "50334f84",
   "metadata": {},
   "source": [
    "### Resolução 1"
   ]
  },
  {
   "cell_type": "code",
   "execution_count": null,
   "id": "d7ad259d",
   "metadata": {},
   "outputs": [],
   "source": [
    "from random import *\n",
    "from time import *\n",
    "from operator import *\n",
    "\n",
    "print('='*30)\n",
    "print('       VALORES SORTEADOS')\n",
    "print('='*30)\n",
    "print()\n",
    "\n",
    "jogo = {'Paulo' : randint(1,6),\n",
    "        'João'  : randint(1,6),\n",
    "        'Mario' : randint(1,6),\n",
    "        'Ana'   : randint(1,6)}\n",
    "\n",
    "for k,v in jogo.items():\n",
    "    print(f'➡ {k} tirou {v} no dado')\n",
    "    sleep(1)\n",
    "\n",
    "jogo1 = sorted(jogo.items(),key=itemgetter(1),reverse=True)\n",
    "\n",
    "print()\n",
    "print('='*30)\n",
    "print('           RANKING')\n",
    "print('='*30)\n",
    "print()\n",
    "\n",
    "for pos,i in enumerate(jogo1):\n",
    "    print(f'{pos+1}° ➡ {i[0]}')\n",
    "    "
   ]
  },
  {
   "cell_type": "markdown",
   "id": "9e3332de",
   "metadata": {},
   "source": [
    "### Resolução 2"
   ]
  },
  {
   "cell_type": "code",
   "execution_count": null,
   "id": "98c98a57",
   "metadata": {},
   "outputs": [],
   "source": [
    "from random import *\n",
    "from time import *\n",
    "from operator import *\n",
    "\n",
    "print('='*30)\n",
    "print('       JOGO DOS DADOS')\n",
    "print('='*30)\n",
    "print()\n",
    "\n",
    "jogo = {}\n",
    "\n",
    "for i in range(4):\n",
    "    nome = input(f'Nome do jogador {i+1}: ')\n",
    "    jogo[nome] = randint(1,6)\n",
    "\n",
    "print()    \n",
    "print('='*30)\n",
    "print('       VALORES SORTEADOS')\n",
    "print('='*30)    \n",
    "print()\n",
    "\n",
    "for k,v in jogo.items():\n",
    "    print(f'O {k} tirou {v} no dado.')\n",
    "\n",
    "print()    \n",
    "print('='*30)\n",
    "print('           RANKING')\n",
    "print('='*30)    \n",
    "print()\n",
    "\n",
    "jogo1 = sorted(jogo.items(), key=itemgetter(1),reverse=True)\n",
    "\n",
    "for pos,i in enumerate(jogo1):\n",
    "    print(f'{pos+1}° ➡ {i[0]}')\n",
    "    \n",
    "    \n",
    "    "
   ]
  },
  {
   "cell_type": "markdown",
   "id": "10005d04",
   "metadata": {},
   "source": [
    "### Resolução 3"
   ]
  },
  {
   "cell_type": "code",
   "execution_count": null,
   "id": "51b861f5",
   "metadata": {},
   "outputs": [],
   "source": [
    "from random import *\n",
    "from time import *\n",
    "from operator import *\n",
    "\n",
    "print('='*30)\n",
    "print('       JOGO DOS DADOS')\n",
    "print('='*30)\n",
    "print()\n",
    "\n",
    "jogo = {}\n",
    "\n",
    "for i in range(4):\n",
    "    nome = input(f'Nome do jogador {i+1} ⇒ ')\n",
    "    jogo[nome] = randint(1,6) \n",
    "\n",
    "\n",
    "print()    \n",
    "print('='*30)\n",
    "print('       VALORES SORTEADOS')\n",
    "print('='*30)    \n",
    "print()\n",
    "\n",
    "for k,v in jogo.items():\n",
    "    print(f'O {k} tirou {v} no dado.')\n",
    "\n",
    "    \n",
    "print()    \n",
    "print('='*30)\n",
    "print('           RANKING')\n",
    "print('='*30)    \n",
    "print()\n",
    "\n",
    "jogo1 = sorted(jogo.items(),key=itemgetter(1),reverse = True)\n",
    "\n",
    "for i in jogo1:\n",
    "    print(f'{jogo1.index(i)+1}° ⇒ {i[0]}')\n",
    "\n"
   ]
  }
 ],
 "metadata": {
  "kernelspec": {
   "display_name": "Python 3 (ipykernel)",
   "language": "python",
   "name": "python3"
  },
  "language_info": {
   "codemirror_mode": {
    "name": "ipython",
    "version": 3
   },
   "file_extension": ".py",
   "mimetype": "text/x-python",
   "name": "python",
   "nbconvert_exporter": "python",
   "pygments_lexer": "ipython3",
   "version": "3.9.7"
  }
 },
 "nbformat": 4,
 "nbformat_minor": 5
}
