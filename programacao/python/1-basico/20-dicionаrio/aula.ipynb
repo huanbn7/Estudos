{
 "cells": [
  {
   "cell_type": "markdown",
   "id": "c8b3dbf6",
   "metadata": {},
   "source": [
    "# Dicinário"
   ]
  },
  {
   "cell_type": "markdown",
   "id": "ce0d645e",
   "metadata": {},
   "source": [
    "#### ▶ Introduçao "
   ]
  },
  {
   "cell_type": "code",
   "execution_count": 3,
   "id": "7e5f1683",
   "metadata": {},
   "outputs": [
    {
     "name": "stdout",
     "output_type": "stream",
     "text": [
      "<class 'dict'>\n",
      "<class 'dict'>\n"
     ]
    }
   ],
   "source": [
    "# Para criar um dicionario se usa as chaves {}\n",
    "# E possivel criar uma funcao usando os colchetes ou a funcao dict()\n",
    "# Ex.:\n",
    "dic = {}\n",
    "dic2 = dict()\n",
    "\n",
    "print(type(dic))\n",
    "print(type(dic2))"
   ]
  },
  {
   "cell_type": "code",
   "execution_count": 7,
   "id": "376c2ca0",
   "metadata": {},
   "outputs": [
    {
     "name": "stdout",
     "output_type": "stream",
     "text": [
      "{'chave1': 'Valor1', 'chave 2': 'Valor2', 'chave3': 'subscreveu'}\n"
     ]
    }
   ],
   "source": [
    "# Um dicionario e uma variavel composta que é composto por pares de chaves e valores.\n",
    "# A chave de um dicionario pode ser qualqeur dado, proximo bloco sera dito quais dados um dicionario recebe\n",
    "# Ao colocar uma chave repetida no dicionario ela subscrevera a chave anterior anterior, veja o exemplo.\n",
    "# Ex.:\n",
    "dic = {\n",
    "    'chave1': 'Valor1',\n",
    "    'chave 2': 'Valor2',\n",
    "    'chave3': 'Valor3',\n",
    "    'chave3': 'subscreveu'\n",
    "}\n",
    "print(dic)"
   ]
  },
  {
   "cell_type": "markdown",
   "id": "4e3859a1",
   "metadata": {},
   "source": [
    "#### ▶ Tipos de dados de um dicionario"
   ]
  },
  {
   "cell_type": "code",
   "execution_count": 4,
   "id": "15cdb3ac",
   "metadata": {},
   "outputs": [
    {
     "name": "stdout",
     "output_type": "stream",
     "text": [
      "<class 'dict'> \n",
      "\n",
      "{'nome': 'Huan', 'idade': 17, 'salario': 12050.3, 'vivo': True, 'documentos': {'cpf': '00011268284', 'rg': '60717430'}, 'contas': ('Energina', 'Agua', 'Aluguel'), 'carros': ['Doger', 'Camaro ss', 'Panamera 911'], 'paise': {'Italia', 'Finlandia', 'Noruega', 'Grecia', 'Dinamarca'}}\n"
     ]
    }
   ],
   "source": [
    "# Um dicionario recebe varios tipos de dados, como: int, float, str, booleana, lista, tupla, set, dicionario e etc.\n",
    "# Ex.:\n",
    "\n",
    "dic_pessoa = {\n",
    "    'nome': 'Huan',\n",
    "    'idade': 17,\n",
    "    'salario': 12050.30,\n",
    "    'vivo': True,\n",
    "    'documentos': {\n",
    "        'cpf':'00011268284',\n",
    "        'rg': '60717430'\n",
    "    },\n",
    "    'contas': ('Energina','Agua','Aluguel'),\n",
    "    'carros': ['Doger','Camaro ss','Panamera 911'],\n",
    "    'paise': {'Finlandia','Italia','Grecia','Dinamarca','Noruega'}\n",
    "}\n",
    "\n",
    "print(type(dic_pessoa),'\\n')\n",
    "print(dic_pessoa)"
   ]
  },
  {
   "cell_type": "markdown",
   "id": "9140b787",
   "metadata": {},
   "source": [
    "#### ▶ Multabilidade de um dicionario"
   ]
  },
  {
   "cell_type": "code",
   "execution_count": 21,
   "id": "ed5875f6",
   "metadata": {},
   "outputs": [],
   "source": [
    "# O s dicionarios sao multaveis, é possivel alterar,remover e adicionar itens neles"
   ]
  },
  {
   "cell_type": "markdown",
   "id": "a6596ca0",
   "metadata": {},
   "source": [
    "#### ▶ Alterando item"
   ]
  },
  {
   "cell_type": "code",
   "execution_count": 25,
   "id": "62701ea1",
   "metadata": {},
   "outputs": [
    {
     "name": "stdout",
     "output_type": "stream",
     "text": [
      "{'nome1': 'Paulo', 'nome2': 'Luigi', 'nome3': 'Lucas'}\n"
     ]
    }
   ],
   "source": [
    "# Alterando o valor de um item\n",
    "\n",
    "dic_nomes = {\n",
    "    'nome1': 'Huan',\n",
    "    'nome2': 'Luigi',\n",
    "    'nome3': 'Lucas'\n",
    "}\n",
    "\n",
    "dic_nomes['nome1'] = 'Paulo'\n",
    "print(dic_nomes)"
   ]
  },
  {
   "cell_type": "markdown",
   "id": "fd22f031",
   "metadata": {},
   "source": [
    "#### ▶ Adcionando item"
   ]
  },
  {
   "cell_type": "code",
   "execution_count": 28,
   "id": "69a7be82",
   "metadata": {},
   "outputs": [],
   "source": [
    "dic_nomes = {\n",
    "    'nome1': 'Huan',\n",
    "    'nome2': 'Luigi',\n",
    "    'nome3': 'Lucas'\n",
    "}"
   ]
  },
  {
   "cell_type": "code",
   "execution_count": 29,
   "id": "621df3cc",
   "metadata": {},
   "outputs": [
    {
     "name": "stdout",
     "output_type": "stream",
     "text": [
      "{'nome1': 'Huan', 'nome2': 'Luigi', 'nome3': 'Lucas', 'nome4': 'Ana'}\n"
     ]
    }
   ],
   "source": [
    "# Adicionando item com o metodo .update()\n",
    "# O item adcionado sempre sera o ultimo item\n",
    "\n",
    "dic_nomes.update({'nome4': 'Ana'})\n",
    "print(dic_nomes)"
   ]
  },
  {
   "cell_type": "code",
   "execution_count": 30,
   "id": "1cfc53c4",
   "metadata": {},
   "outputs": [
    {
     "name": "stdout",
     "output_type": "stream",
     "text": [
      "{'nome1': 'Huan', 'nome2': 'Luigi', 'nome3': 'Lucas', 'nome4': 'Ana', 'nome5': 'Marcos'}\n"
     ]
    }
   ],
   "source": [
    "# Adicionando item manualmente\n",
    "# O item adcionado sempre sera o ultimo item\n",
    "dic_nomes['nome5'] = 'Marcos'\n",
    "print(dic_nomes)"
   ]
  },
  {
   "cell_type": "markdown",
   "id": "7a072dd4",
   "metadata": {},
   "source": [
    "#### ▶ Removendo item"
   ]
  },
  {
   "cell_type": "code",
   "execution_count": 1,
   "id": "5ea9259b",
   "metadata": {
    "ExecuteTime": {
     "end_time": "2023-02-06T01:02:51.192190Z",
     "start_time": "2023-02-06T01:02:51.186531Z"
    }
   },
   "outputs": [],
   "source": [
    "dic_nomes = {\n",
    "    'nome1': 'Huan',\n",
    "    'nome2': 'Luigi', \n",
    "    'nome3': 'Lucas', \n",
    "    'nome4': 'Ana', \n",
    "    'nome5': 'Marcos'}"
   ]
  },
  {
   "cell_type": "code",
   "execution_count": 4,
   "id": "fffffe4b",
   "metadata": {
    "ExecuteTime": {
     "end_time": "2023-02-06T01:02:58.455773Z",
     "start_time": "2023-02-06T01:02:58.449779Z"
    }
   },
   "outputs": [
    {
     "name": "stdout",
     "output_type": "stream",
     "text": [
      "{'nome2': 'Luigi', 'nome3': 'Lucas', 'nome4': 'Ana', 'nome5': 'Marcos'}\n"
     ]
    }
   ],
   "source": [
    "# O metodo .pop() remove o item de um dicionario, so especificar a chave desse item\n",
    "# Ex.:\n",
    "dic_nomes.pop('nome1')\n",
    "print(dic_nomes)"
   ]
  },
  {
   "cell_type": "code",
   "execution_count": 35,
   "id": "65534781",
   "metadata": {},
   "outputs": [
    {
     "name": "stdout",
     "output_type": "stream",
     "text": [
      "{'nome2': 'Luigi', 'nome3': 'Lucas', 'nome4': 'Ana'}\n"
     ]
    }
   ],
   "source": [
    "# O metodo .popitem() remove o ultimo item de um dicionario\n",
    "dic_nomes.popitem()\n",
    "print(dic_nomes)"
   ]
  },
  {
   "cell_type": "code",
   "execution_count": 36,
   "id": "ab52447c",
   "metadata": {},
   "outputs": [
    {
     "name": "stdout",
     "output_type": "stream",
     "text": [
      "{'nome3': 'Lucas', 'nome4': 'Ana'}\n"
     ]
    }
   ],
   "source": [
    "# O estrutura del remove o item de um dicionario, so especificar a chave desse item\n",
    "# Ex.:\n",
    "del dic_nomes['nome2']\n",
    "print(dic_nomes)"
   ]
  },
  {
   "cell_type": "code",
   "execution_count": null,
   "id": "45d1aceb",
   "metadata": {},
   "outputs": [],
   "source": [
    "# O estrutura del remove o item de um dicionario, so especificar a chave desse item\n",
    "# Ex.:\n",
    "del dic_nomes['nome2']\n",
    "print(dic_nomes)"
   ]
  },
  {
   "cell_type": "code",
   "execution_count": 37,
   "id": "95fceb36",
   "metadata": {},
   "outputs": [
    {
     "name": "stdout",
     "output_type": "stream",
     "text": [
      "{}\n"
     ]
    }
   ],
   "source": [
    "# O metodo .clear() esvazia o dicionario \n",
    "# Ex.:\n",
    "dic_nomes.clear()\n",
    "print(dic_nomes)"
   ]
  },
  {
   "cell_type": "code",
   "execution_count": null,
   "id": "88f12b6d",
   "metadata": {},
   "outputs": [],
   "source": [
    "# A estrutua del tambem exclui todo o dicionario\n",
    "dic_nomes = {\n",
    "    'nome1': 'Huan',\n",
    "    'nome2': 'Luigi', \n",
    "    'nome3': 'Lucas', \n",
    "    'nome4': 'Ana', \n",
    "    'nome5': 'Marcos'}\n",
    "\n",
    "del dic_nomes"
   ]
  },
  {
   "cell_type": "markdown",
   "id": "9415028a",
   "metadata": {},
   "source": [
    "#### ▶ Acessando um dicionario"
   ]
  },
  {
   "cell_type": "code",
   "execution_count": 12,
   "id": "65eaf0fb",
   "metadata": {},
   "outputs": [
    {
     "name": "stdout",
     "output_type": "stream",
     "text": [
      "nome: Lucas\n"
     ]
    }
   ],
   "source": [
    "# Para acessar o valor de uma chave dentro do dicionario, e necessario informar o dicionario e qual chave quer ver\n",
    "# Um dicionario nao tem indices, por isso nao é ordenado\n",
    "# Ex.:\n",
    "dic_nomes = {\n",
    "    'nome1': 'Huan',\n",
    "    'nome2': 'Luigi',\n",
    "    'nome3': 'Lucas'\n",
    "}\n",
    "\n",
    "nome = dic_nomes['nome3']\n",
    "print(f'nome: {nome}')"
   ]
  },
  {
   "cell_type": "code",
   "execution_count": 3,
   "id": "8534b129",
   "metadata": {},
   "outputs": [
    {
     "name": "stdout",
     "output_type": "stream",
     "text": [
      "nome: Huan\n"
     ]
    }
   ],
   "source": [
    "# O Metodo .get () retorna o valor da cheve especificada como parametro\n",
    "# Ex.:\n",
    "dic_nomes = {\n",
    "    'nome1': 'Huan',\n",
    "    'nome2': 'Luigi',\n",
    "    'nome3': 'Lucas'\n",
    "}\n",
    "\n",
    "nome = dic_nomes.get('nome1')\n",
    "print(f'nome: {nome}')"
   ]
  },
  {
   "cell_type": "code",
   "execution_count": 31,
   "id": "c3ab12a6",
   "metadata": {},
   "outputs": [
    {
     "name": "stdout",
     "output_type": "stream",
     "text": [
      "dict_keys(['nome1', 'nome2', 'nome3']) \n",
      "\n",
      "nome1\n",
      "nome2\n",
      "nome3\n"
     ]
    }
   ],
   "source": [
    "# ➥ Metodo .keys() retorna uma tupla com uma lista contendo todas as chaves do dicionario\n",
    "# Ex.:\n",
    "dic_nomes = {\n",
    "    'nome1': 'Huan',\n",
    "    'nome2': 'Luigi',\n",
    "    'nome3': 'Lucas'\n",
    "}\n",
    "chaves = dic_nomes.keys()\n",
    "print(chaves,'\\n')\n",
    "\n",
    "for chave in chaves:\n",
    "    print(chave)"
   ]
  },
  {
   "cell_type": "code",
   "execution_count": 37,
   "id": "29e918b5",
   "metadata": {},
   "outputs": [
    {
     "name": "stdout",
     "output_type": "stream",
     "text": [
      "dict_values(['Huan', 'Luigi', 'Lucas']) \n",
      "\n",
      "Huan\n",
      "Luigi\n",
      "Lucas\n"
     ]
    }
   ],
   "source": [
    "# ➥ Metodo .values() retorna uma tupla com uma lista contendo todas os valores do dicionario\n",
    "# Ex.:\n",
    "dic_nomes = {\n",
    "    'nome1': 'Huan',\n",
    "    'nome2': 'Luigi',\n",
    "    'nome3': 'Lucas'\n",
    "}\n",
    "\n",
    "valores = dic_nomes.values()\n",
    "print(valores,'\\n')\n",
    "\n",
    "for valor in valores:\n",
    "    print(valor)"
   ]
  },
  {
   "cell_type": "code",
   "execution_count": 3,
   "id": "e7af7bc7",
   "metadata": {},
   "outputs": [
    {
     "name": "stdout",
     "output_type": "stream",
     "text": [
      "dict_items([('nome1', 'Huan'), ('nome2', 'Luigi'), ('nome3', 'Lucas')]) \n",
      "\n",
      "nome1: Huan\n",
      "nome2: Luigi\n",
      "nome3: Lucas\n"
     ]
    }
   ],
   "source": [
    "# ➥ Metodo .items() retorna uma tupla, com uma lista, com sub-tupla contendo a chave e valorde cada item do dicionario \n",
    "# Ex.;\n",
    "dic_nomes = {\n",
    "    'nome1': 'Huan',\n",
    "    'nome2': 'Luigi',\n",
    "    'nome3': 'Lucas'\n",
    "}\n",
    "\n",
    "chaves_valores = dic_nomes.items()\n",
    "print(chaves_valores,'\\n')\n",
    "\n",
    "for chave,valor in chaves_valores:\n",
    "    print(f'{chave}: {valor}')"
   ]
  },
  {
   "cell_type": "markdown",
   "id": "6006f0d4",
   "metadata": {},
   "source": [
    "#### ▶ Percorrendo um dicionario"
   ]
  },
  {
   "cell_type": "code",
   "execution_count": 39,
   "id": "18c146a1",
   "metadata": {},
   "outputs": [],
   "source": [
    "dic_nomes = {\n",
    "    'nome1': 'Huan',\n",
    "    'nome2': 'Luigi',\n",
    "    'nome3': 'Lucas'\n",
    "}"
   ]
  },
  {
   "cell_type": "code",
   "execution_count": 41,
   "id": "7c106e75",
   "metadata": {},
   "outputs": [
    {
     "name": "stdout",
     "output_type": "stream",
     "text": [
      "nome1\n",
      "nome2\n",
      "nome3\n"
     ]
    }
   ],
   "source": [
    "# Percorrendo as chaves \n",
    "for chave in dic_nomes.keys():\n",
    "    print(chave)"
   ]
  },
  {
   "cell_type": "code",
   "execution_count": 42,
   "id": "e8489beb",
   "metadata": {},
   "outputs": [
    {
     "name": "stdout",
     "output_type": "stream",
     "text": [
      "Huan\n",
      "Luigi\n",
      "Lucas\n"
     ]
    }
   ],
   "source": [
    "# Percorrendo os valores \n",
    "for valor in dic_nomes.values():\n",
    "    print(valor)"
   ]
  },
  {
   "cell_type": "code",
   "execution_count": 43,
   "id": "47c459e7",
   "metadata": {},
   "outputs": [
    {
     "name": "stdout",
     "output_type": "stream",
     "text": [
      "nome1: Huan\n",
      "nome2: Luigi\n",
      "nome3: Lucas\n"
     ]
    }
   ],
   "source": [
    "# Percorrendo as chaves e os valores \n",
    "for chave, valor in dic_nomes.items():\n",
    "    print(f'{chave}: {valor}')"
   ]
  },
  {
   "cell_type": "markdown",
   "id": "8917cbc3",
   "metadata": {},
   "source": [
    "#### ▶ Funçao len( )"
   ]
  },
  {
   "cell_type": "code",
   "execution_count": 10,
   "id": "12e1bdc4",
   "metadata": {},
   "outputs": [
    {
     "name": "stdout",
     "output_type": "stream",
     "text": [
      "3\n"
     ]
    }
   ],
   "source": [
    "# A funçao len() serve para saber o comprimento de um dicionario\n",
    "# Ex.:\n",
    "dic_nomes = {\n",
    "    'nome1': 'Huan',\n",
    "    'nome2': 'Luigi',\n",
    "    'nome3': 'Lucas'\n",
    "}\n",
    "\n",
    "print(len(dic_nomes))"
   ]
  },
  {
   "cell_type": "markdown",
   "id": "2c6c1241",
   "metadata": {},
   "source": [
    "#### ▶ Copiando um dicionario"
   ]
  },
  {
   "cell_type": "code",
   "execution_count": 7,
   "id": "a8d97056",
   "metadata": {},
   "outputs": [
    {
     "name": "stdout",
     "output_type": "stream",
     "text": [
      "{'nome1': 'Huan', 'nome2': 'Luigi', 'nome3': 'Lucas'}\n",
      "{'nome1': 'Paulo', 'nome2': 'Luigi', 'nome3': 'Lucas'}\n"
     ]
    }
   ],
   "source": [
    "# Ultilizando o metodo .deepcopy() da biblioteca copy \n",
    "import copy \n",
    "\n",
    "dic_nomes = {\n",
    "    'nome1': 'Huan',\n",
    "    'nome2': 'Luigi',\n",
    "    'nome3': 'Lucas'\n",
    "}\n",
    "\n",
    "dic_novo = dic_nomes.copy()\n",
    "dic_novo['nome1'] = 'Paulo'\n",
    "\n",
    "print(dic_nomes)\n",
    "print(dic_novo)"
   ]
  },
  {
   "cell_type": "code",
   "execution_count": 9,
   "id": "f9aa6b5f",
   "metadata": {},
   "outputs": [
    {
     "name": "stdout",
     "output_type": "stream",
     "text": [
      "{'nome1': 'Huan', 'nome2': 'Luigi', 'nome3': 'Lucas'}\n",
      "{'nome1': 'Marcos', 'nome2': 'Luigi', 'nome3': 'Lucas'}\n"
     ]
    }
   ],
   "source": [
    "# Ultilizando a funçao dict()\n",
    "\n",
    "import copy \n",
    "\n",
    "dic_nomes = {\n",
    "    'nome1': 'Huan',\n",
    "    'nome2': 'Luigi',\n",
    "    'nome3': 'Lucas'\n",
    "}\n",
    "\n",
    "dic_novo = dict(dic_nomes)\n",
    "dic_novo['nome1'] = 'Marcos'\n",
    "\n",
    "print(dic_nomes)\n",
    "print(dic_novo)"
   ]
  },
  {
   "cell_type": "markdown",
   "id": "0a4a3795",
   "metadata": {},
   "source": [
    "#### ▶ Dicionarios aninhados"
   ]
  },
  {
   "cell_type": "code",
   "execution_count": 15,
   "id": "5cb56fc8",
   "metadata": {},
   "outputs": [
    {
     "name": "stdout",
     "output_type": "stream",
     "text": [
      "\n",
      "filho1: {'nome': 'Huan', 'idade': 17}\n",
      "nome: Huan\n",
      "idade: 17\n",
      "\n",
      "filho2: {'nome': 'Kauan', 'idade': 15}\n",
      "nome: Kauan\n",
      "idade: 15\n",
      "\n",
      "filho3: {'nome': 'Hanna', 'idade': 23}\n",
      "nome: Hanna\n",
      "idade: 23\n"
     ]
    }
   ],
   "source": [
    "familia = {\n",
    "    'filho1': {\n",
    "        'nome': 'Huan',\n",
    "        'idade': 17\n",
    "    },\n",
    "    'filho2': {\n",
    "        'nome': 'Kauan',\n",
    "        'idade': 15\n",
    "    },\n",
    "    'filho3': {\n",
    "        'nome': 'Hanna',\n",
    "        'idade': 23\n",
    "    }\n",
    "}\n",
    "\n",
    "for filho, informacao in familia.items():\n",
    "    print()\n",
    "    print(f'{filho}: {informacao}')\n",
    "    for chave, valor in informacao.items():\n",
    "        print(f'{chave}: {valor}')"
   ]
  },
  {
   "cell_type": "markdown",
   "id": "cf7e5ea9",
   "metadata": {},
   "source": [
    "#### ▶ Verifivando se existe uma chave no dicionario"
   ]
  },
  {
   "cell_type": "code",
   "execution_count": 4,
   "id": "05407bd1",
   "metadata": {},
   "outputs": [
    {
     "name": "stdout",
     "output_type": "stream",
     "text": [
      "True\n",
      "False\n"
     ]
    }
   ],
   "source": [
    "# Ultilizando a estrutura in e possivel verificar se no dicionario existe certa chave\n",
    "dic_nomes = {\n",
    "    'nome1': 'Huan',\n",
    "    'nome2': 'Luigi',\n",
    "    'nome3': 'Lucas'\n",
    "}\n",
    "\n",
    "print('nome3' in dic_nomes)\n",
    "print('nome4' in dic_nomes)"
   ]
  },
  {
   "cell_type": "markdown",
   "id": "58b76534",
   "metadata": {},
   "source": [
    "#### ▶ Metodo .setdefault()"
   ]
  },
  {
   "cell_type": "code",
   "execution_count": 20,
   "id": "5bad34ce",
   "metadata": {},
   "outputs": [
    {
     "name": "stdout",
     "output_type": "stream",
     "text": [
      "A chave nao foi encontrada\n"
     ]
    }
   ],
   "source": [
    "# O metodo busca o varlo da chave e especificada, se nao encontrar sera retornado o que esta especificado no 2 parametro\n",
    "# Ex.:\n",
    "dic_nomes = {\n",
    "    'nome1': 'Huan',\n",
    "    'nome2': 'Luigi',\n",
    "    'nome3': 'Lucas'\n",
    "}\n",
    "\n",
    "a = dic_nomes.setdefault('nome4','A chave nao foi encontrada')\n",
    "print(a)"
   ]
  },
  {
   "cell_type": "markdown",
   "id": "449dc55f",
   "metadata": {},
   "source": [
    "#### ▶ Metodo dict.fromkeys( )"
   ]
  },
  {
   "cell_type": "code",
   "execution_count": 33,
   "id": "552462af",
   "metadata": {},
   "outputs": [
    {
     "name": "stdout",
     "output_type": "stream",
     "text": [
      "nome1: Huan\n",
      "nome2: Huan\n",
      "nome3: Huan\n",
      "nome4: Huan\n"
     ]
    }
   ],
   "source": [
    "# O metodo dict.fromkeys() cria um dicionario com todas as chaves tendo o mesmo valor\n",
    "# O primeiro parametro recebe uma iterable, cada item da iterable se uma chave\n",
    "# O segundo parametro recebe qualquer dado, esse dado sera o valor para todas as chaves\n",
    "\n",
    "chaves = [f'nome{x}' for x in range(1,len(lista)+1)]\n",
    "valor = 'Huan'\n",
    "\n",
    "dic = dict.fromkeys(chaves,valor)\n",
    "\n",
    "for chave, valor in dic.items():\n",
    "    print(f'{chave}: {valor}')"
   ]
  },
  {
   "cell_type": "markdown",
   "id": "b86cb9f3",
   "metadata": {},
   "source": [
    "#### ▶ Colocando o dicionario em ordem alfabetica e numerica"
   ]
  },
  {
   "cell_type": "code",
   "execution_count": 67,
   "id": "6bee7e50",
   "metadata": {},
   "outputs": [
    {
     "name": "stdout",
     "output_type": "stream",
     "text": [
      "Lucas: Masculino\n",
      "Manoela: Feminina\n",
      "Paulo: Masculino\n"
     ]
    }
   ],
   "source": [
    "# Organizando os items de um dicionario pela sua chave, pode ser em ordem alfabetica ou numerica\n",
    "# Ex.:\n",
    "dic_nomes = {\n",
    "    'Manoela': 'Feminina',\n",
    "    'Paulo': 'Masculino',\n",
    "    'Lucas': 'Masculino'\n",
    "}\n",
    "\n",
    "# sorted() no dicionario.items() retorna um lista com subtuplas, cada uma contendo um par de chave/valor\n",
    "dic_ordenado = sorted(dic_nomes.items())\n",
    "for chave, valor in dic_ordenado:\n",
    "    print(f'{chave}: {valor}')"
   ]
  },
  {
   "cell_type": "code",
   "execution_count": 63,
   "id": "7ba0b6da",
   "metadata": {},
   "outputs": [
    {
     "name": "stdout",
     "output_type": "stream",
     "text": [
      "nome1: Huan\n",
      "nome3: Lucas\n",
      "nome2: Luigi\n"
     ]
    }
   ],
   "source": [
    "# Organizando os items de um dicionario pela seu valor, pode ser em ordem alfabetica ou numerica\n",
    "# Ex.:\n",
    "dic_nomes = {\n",
    "    'nome1': 'Huan',\n",
    "    'nome2': 'Luigi',\n",
    "    'nome3': 'Lucas'\n",
    "}\n",
    "\n",
    "# Para organizar os dicionarios pelo valor e necessario importar a biblioteca OPERATOR\n",
    "import operator as opr\n",
    "\n",
    "# Agora ultilizaremos a funcao itengetter()\n",
    "# 0 siginica organizar pela chave\n",
    "# 1 significa organizar pelo valor\n",
    "dic_ordenado = sorted(dic_nomes.items(),key = opr.itemgetter(1))\n",
    "\n",
    "# Resultado\n",
    "for chave, valor in dic_ordenado:\n",
    "    print(f'{chave}: {valor}')"
   ]
  },
  {
   "cell_type": "code",
   "execution_count": 72,
   "id": "ab0b5352",
   "metadata": {},
   "outputs": [
    {
     "name": "stdout",
     "output_type": "stream",
     "text": [
      "Lucas\n",
      "Manoela\n",
      "Paulo\n",
      "\n",
      "Lucas\n",
      "Manoela\n",
      "Paulo\n",
      "['Lucas', 'Manoela', 'Paulo']\n"
     ]
    }
   ],
   "source": [
    "dic_nomes = {\n",
    "    'Manoela': 'Feminina',\n",
    "    'Paulo': 'Masculino',\n",
    "    'Lucas': 'Masculino'\n",
    "}\n",
    "\n",
    "# somente o sorted() no dicionario retorna uma lista com as chaves do dicionario organizadas\n",
    "dic_1 = sorted(dic_nomes)\n",
    "for chave in dic_1:\n",
    "    print(f'{chave}')\n",
    "\n",
    "print()\n",
    "# ou pode ser um sorted() no dicionario.keys()\n",
    "dic_2 = sorted(dic_nomes.keys())\n",
    "for chave in dic_2:\n",
    "    print(f'{chave}')"
   ]
  },
  {
   "cell_type": "code",
   "execution_count": 73,
   "id": "c1dba054",
   "metadata": {},
   "outputs": [
    {
     "name": "stdout",
     "output_type": "stream",
     "text": [
      "Huan\n",
      "Lucas\n",
      "Luigi\n"
     ]
    }
   ],
   "source": [
    "# O sorted() no dicionario.values() retorna uma lista com os valoes do dicionario em ordem alfabetica/numerica\n",
    "# Ex.:\n",
    "\n",
    "dic_nomes = {\n",
    "    'nome1': 'Huan',\n",
    "    'nome2': 'Luigi',\n",
    "    'nome3': 'Lucas'\n",
    "}\n",
    "\n",
    "dic_ordenado = sorted(dic_nomes.values())\n",
    "for valor in dic_ordenado:\n",
    "    print(f'{valor}')"
   ]
  }
 ],
 "metadata": {
  "kernelspec": {
   "display_name": "Python 3 (ipykernel)",
   "language": "python",
   "name": "python3"
  },
  "language_info": {
   "codemirror_mode": {
    "name": "ipython",
    "version": 3
   },
   "file_extension": ".py",
   "mimetype": "text/x-python",
   "name": "python",
   "nbconvert_exporter": "python",
   "pygments_lexer": "ipython3",
   "version": "3.11.1"
  }
 },
 "nbformat": 4,
 "nbformat_minor": 5
}
