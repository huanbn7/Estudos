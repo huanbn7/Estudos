{
 "cells": [
  {
   "cell_type": "markdown",
   "id": "7aeafd4e",
   "metadata": {},
   "source": [
    "Exercício Python 095: Aprimore o desafio 93 para que ele funcione com vários jogadores, incluindo um sistema de visualização de detalhes do aproveitamento de cada jogador.\n",
    "    "
   ]
  },
  {
   "cell_type": "code",
   "execution_count": null,
   "id": "7298574a",
   "metadata": {},
   "outputs": [
    {
     "name": "stdout",
     "output_type": "stream",
     "text": [
      "\n",
      "Nome do jogador: Huan\n",
      "Partidas jogadas: 2\n",
      "Gols marcados na 1° partida: 1\n",
      "Gols marcados na 2° partida: 2\n",
      "Quer continuar [S/N]? s\n",
      "\n",
      "Nome do jogador: Kaka\n",
      "Partidas jogadas: 2\n",
      "Gols marcados na 1° partida: 3\n",
      "Gols marcados na 2° partida: 6\n",
      "Quer continuar [S/N]? s\n",
      "\n",
      "Nome do jogador: Ronaldo\n",
      "Partidas jogadas: 3\n",
      "Gols marcados na 1° partida: 5\n",
      "Gols marcados na 2° partida: 6\n",
      "Gols marcados na 3° partida: 3\n",
      "Quer continuar [S/N]? s\n",
      "\n",
      "Nome do jogador: Juninho\n",
      "Partidas jogadas: 5\n",
      "Gols marcados na 1° partida: 2\n",
      "Gols marcados na 2° partida: 3\n",
      "Gols marcados na 3° partida: 1\n",
      "Gols marcados na 4° partida: 4\n",
      "Gols marcados na 5° partida: 2\n",
      "Quer continuar [S/N]? n\n",
      "\n",
      "1°  Huan  [1, 2]  3\n",
      "2°  Kaka  [3, 6]  9\n",
      "3°  Ronaldo  [5, 6, 3]  14\n",
      "4°  Juninho  [2, 3, 1, 4, 2]  12\n",
      "\n",
      "Mostrar dados de qual jogador? [999 p/ parar] : 1\n",
      "\n",
      "Levantamento do jogador Huan\n",
      "Gols da 1° partida: 1 \n",
      "Gols da 2° partida: 2 \n",
      "\n",
      "Mostrar dados de qual jogador? [999 p/ parar] : 2\n",
      "\n",
      "Levantamento do jogador Kaka\n",
      "Gols da 1° partida: 3 \n",
      "Gols da 2° partida: 6 \n",
      "\n",
      "Mostrar dados de qual jogador? [999 p/ parar] : 1\n",
      "\n",
      "Levantamento do jogador Huan\n",
      "Gols da 1° partida: 1 \n",
      "Gols da 2° partida: 2 \n"
     ]
    }
   ],
   "source": [
    "lista = []\n",
    "\n",
    "while True:\n",
    "    dic = {}\n",
    "    dic['nome'] = input('\\nNome do jogador: ')\n",
    "    dic['partidas'] = int(input('Partidas jogadas: '))\n",
    "    dic['gols'] = [int(input(f'Gols marcados na {i+1}° partida: ')) for i in range(dic['partidas'])]\n",
    "    dic['totalgols'] = sum(dic['gols'])  \n",
    "    \n",
    "    lista.append(dic)\n",
    "    \n",
    "    saida = input('Quer continuar [S/N]? ').casefold()\n",
    "    if saida in 'n':\n",
    "        break\n",
    "\n",
    "print()\n",
    "for pos,dic in enumerate(lista):\n",
    "    print(f\"{pos+1}°  {dic['nome']}  {dic['gols']}  {dic['totalgols']}\")\n",
    "\n",
    "while True:\n",
    "    num = int(input('\\n▶ Mostrar dados de qual jogador? [999 p/ parar] : '))\n",
    "    if 1 > num > len(lista):\n",
    "        print(f'ERRO. Não existe jogador com o código {num}!!')\n",
    "        continue\n",
    "    if num == 999:\n",
    "        break\n",
    "    \n",
    "    for pos,dic in enumerate(lista):\n",
    "        if pos == (num-1):\n",
    "            print(f'\\nLevantamento do jogador {dic[\"nome\"]}')\n",
    "            for pos,gol in enumerate(dic['gols']):\n",
    "                print(f'Gols da {pos+1}° partida: {gol} ')\n",
    "            "
   ]
  },
  {
   "cell_type": "code",
   "execution_count": 3,
   "id": "ec436427",
   "metadata": {},
   "outputs": [],
   "source": [
    "\n",
    "\n",
    "\n"
   ]
  }
 ],
 "metadata": {
  "kernelspec": {
   "display_name": "Python 3 (ipykernel)",
   "language": "python",
   "name": "python3"
  },
  "language_info": {
   "codemirror_mode": {
    "name": "ipython",
    "version": 3
   },
   "file_extension": ".py",
   "mimetype": "text/x-python",
   "name": "python",
   "nbconvert_exporter": "python",
   "pygments_lexer": "ipython3",
   "version": "3.9.7"
  }
 },
 "nbformat": 4,
 "nbformat_minor": 5
}
