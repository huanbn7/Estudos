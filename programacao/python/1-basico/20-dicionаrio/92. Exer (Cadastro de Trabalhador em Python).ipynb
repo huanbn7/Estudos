{
 "cells": [
  {
   "cell_type": "markdown",
   "id": "7e6610d0",
   "metadata": {},
   "source": [
    "Exercício Python 092: Crie um programa que leia nome, ano de nascimento e carteira de trabalho e cadastre-o (com idade) em um dicionário. Se por acaso a CTPS for diferente de ZERO, o dicionário receberá também o ano de contratação e o salário. Calcule e acrescente, além da idade, com quantos anos a pessoa vai se aposentar."
   ]
  },
  {
   "cell_type": "code",
   "execution_count": 1,
   "id": "313cb6c1",
   "metadata": {},
   "outputs": [
    {
     "name": "stdout",
     "output_type": "stream",
     "text": [
      "Nome: luigi\n"
     ]
    },
    {
     "ename": "NameError",
     "evalue": "name 'now' is not defined",
     "output_type": "error",
     "traceback": [
      "\u001b[1;31m---------------------------------------------------------------------------\u001b[0m",
      "\u001b[1;31mNameError\u001b[0m                                 Traceback (most recent call last)",
      "\u001b[1;32m~\\AppData\\Local\\Temp/ipykernel_864/1632085277.py\u001b[0m in \u001b[0;36m<module>\u001b[1;34m\u001b[0m\n\u001b[0;32m      5\u001b[0m \u001b[1;33m\u001b[0m\u001b[0m\n\u001b[0;32m      6\u001b[0m     \u001b[0mdic\u001b[0m\u001b[1;33m[\u001b[0m\u001b[1;34m'nome'\u001b[0m\u001b[1;33m]\u001b[0m \u001b[1;33m=\u001b[0m \u001b[0minput\u001b[0m\u001b[1;33m(\u001b[0m\u001b[1;34m'Nome: '\u001b[0m\u001b[1;33m)\u001b[0m\u001b[1;33m\u001b[0m\u001b[1;33m\u001b[0m\u001b[0m\n\u001b[1;32m----> 7\u001b[1;33m     \u001b[0mdic\u001b[0m\u001b[1;33m[\u001b[0m\u001b[1;34m'nascimento'\u001b[0m\u001b[1;33m]\u001b[0m \u001b[1;33m=\u001b[0m \u001b[0mnow\u001b[0m\u001b[1;33m(\u001b[0m\u001b[1;33m)\u001b[0m\u001b[1;33m.\u001b[0m\u001b[0myear\u001b[0m\u001b[1;33m-\u001b[0m\u001b[0mint\u001b[0m\u001b[1;33m(\u001b[0m\u001b[0minput\u001b[0m\u001b[1;33m(\u001b[0m\u001b[1;34m'Ano de nascimento: '\u001b[0m\u001b[1;33m)\u001b[0m\u001b[1;33m)\u001b[0m\u001b[1;33m\u001b[0m\u001b[1;33m\u001b[0m\u001b[0m\n\u001b[0m\u001b[0;32m      8\u001b[0m     \u001b[0mdic\u001b[0m\u001b[1;33m[\u001b[0m\u001b[1;34m'carteira'\u001b[0m\u001b[1;33m]\u001b[0m \u001b[1;33m=\u001b[0m \u001b[0mint\u001b[0m\u001b[1;33m(\u001b[0m\u001b[0minput\u001b[0m\u001b[1;33m(\u001b[0m\u001b[1;34m'Carteira de trabalho (0 não tem): '\u001b[0m\u001b[1;33m)\u001b[0m\u001b[1;33m)\u001b[0m\u001b[1;33m\u001b[0m\u001b[1;33m\u001b[0m\u001b[0m\n\u001b[0;32m      9\u001b[0m \u001b[1;33m\u001b[0m\u001b[0m\n",
      "\u001b[1;31mNameError\u001b[0m: name 'now' is not defined"
     ]
    }
   ],
   "source": [
    "dic = {}\n",
    "\n",
    "\n",
    "for i in range(1): \n",
    "    \n",
    "    dic['nome'] = input('Nome: ')\n",
    "    dic['nascimento'] = .now().year-int(input('Ano de nascimento: '))\n",
    "    dic['carteira'] = int(input('Carteira de trabalho (0 não tem): '))\n",
    "\n",
    "    if dic['carteira'] != 0:\n",
    "        \n",
    "        dic['contratação'] = int(input('Ano de contratação: '))\n",
    "        dic['salario'] = float(input('Quanto era o seu salário? R$ '))\n",
    "        dic['aposentadoria'] = dic['contratação'] - (dic['nascimento']) + 40\n",
    "        \n",
    "        print()\n",
    "        for k,v in dic.items():\n",
    "            print(f'▶ A chave {k} recebe → {v} ')\n",
    "             \n",
    "    else:\n",
    "        \n",
    "        print()\n",
    "        for k,v in dic.items():\n",
    "            print(f'▶ A chave {k} recebe → {v} ')\n",
    "        \n"
   ]
  }
 ],
 "metadata": {
  "kernelspec": {
   "display_name": "Python 3 (ipykernel)",
   "language": "python",
   "name": "python3"
  },
  "language_info": {
   "codemirror_mode": {
    "name": "ipython",
    "version": 3
   },
   "file_extension": ".py",
   "mimetype": "text/x-python",
   "name": "python",
   "nbconvert_exporter": "python",
   "pygments_lexer": "ipython3",
   "version": "3.9.7"
  }
 },
 "nbformat": 4,
 "nbformat_minor": 5
}
