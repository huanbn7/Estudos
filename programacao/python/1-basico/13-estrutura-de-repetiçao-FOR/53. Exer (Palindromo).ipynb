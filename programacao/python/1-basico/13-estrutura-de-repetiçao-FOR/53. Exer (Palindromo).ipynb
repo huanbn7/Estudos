{
 "cells": [
  {
   "cell_type": "markdown",
   "id": "4e7d00cc",
   "metadata": {},
   "source": [
    "Exercício Python 053: Crie um programa que leia uma frase qualquer e diga se ela é um palíndromo, desconsiderando os espaços."
   ]
  },
  {
   "cell_type": "code",
   "execution_count": 15,
   "id": "65a38e6e",
   "metadata": {},
   "outputs": [
    {
     "name": "stdout",
     "output_type": "stream",
     "text": [
      "\n",
      "Digite uma frase e veja se é um palindromo: a pos a sopa\n",
      "Sua frase ao contrário é APOSASOPA\n",
      "Sua frase é um palindromo\n"
     ]
    }
   ],
   "source": [
    "frase = input(\"\\nDigite uma frase e veja se é um palindromo: \" ).strip().casefold()\n",
    "\n",
    "frase1 = frase.split()\n",
    "frase2 = ''.join(frase1)\n",
    "frase3 = frase2[::-1]\n",
    "\n",
    "\n",
    "print(f\"Sua frase ao contrário é {frase3.upper()}\")\n",
    "\n",
    "if frase2 == frase3:\n",
    "    print(\"Sua frase é um palindromo\")\n",
    "else:\n",
    "    print(\"Não é um palindromo\")\n",
    "\n"
   ]
  }
 ],
 "metadata": {
  "kernelspec": {
   "display_name": "Python 3 (ipykernel)",
   "language": "python",
   "name": "python3"
  },
  "language_info": {
   "codemirror_mode": {
    "name": "ipython",
    "version": 3
   },
   "file_extension": ".py",
   "mimetype": "text/x-python",
   "name": "python",
   "nbconvert_exporter": "python",
   "pygments_lexer": "ipython3",
   "version": "3.9.7"
  }
 },
 "nbformat": 4,
 "nbformat_minor": 5
}
