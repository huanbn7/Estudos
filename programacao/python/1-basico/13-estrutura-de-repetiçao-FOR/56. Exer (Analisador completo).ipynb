{
 "cells": [
  {
   "cell_type": "markdown",
   "id": "4f25ae9a",
   "metadata": {},
   "source": [
    "Exercício Python 056: Desenvolva um programa que leia o nome, idade e sexo de 4 pessoas. No final do programa, mostre: a média de idade do grupo, qual é o nome do homem mais velho e quantas mulheres têm menos de 20 anos."
   ]
  },
  {
   "cell_type": "code",
   "execution_count": 1,
   "id": "45e5602d",
   "metadata": {},
   "outputs": [
    {
     "name": "stdout",
     "output_type": "stream",
     "text": [
      "\n",
      "----- 1° PESSOA -----\n",
      "Nome: Huan\n",
      "Idade: 24\n",
      "Sexo [M/F]: m\n",
      "\n",
      "----- 2° PESSOA -----\n",
      "Nome: julia\n",
      "Idade: 21\n",
      "Sexo [M/F]: f\n",
      "\n",
      "----- 3° PESSOA -----\n",
      "Nome: kaua\n",
      "Idade: 16\n",
      "Sexo [M/F]: m\n",
      "\n",
      "A média da idade das pessoa é de 20.3 anos\n",
      "O homen mais velho tem 24 anos e se chama Huan\n",
      " Ao todo são 0 mulher (s) com menos de 20 anos \n"
     ]
    }
   ],
   "source": [
    "#Crie um programa que leia o nome, idade e sexo de 4 pessoas.\n",
    "#Mostre: A média de idade, O homem mais velho, Quantas mulheres tem com menos de 20 anos\n",
    "\n",
    "homemvelho = 0\n",
    "media_idade = 0\n",
    "mulher20 = 0\n",
    "nome = \"\"\n",
    "\n",
    "print(\"\")\n",
    "\n",
    "for i in range(3):\n",
    "\n",
    "    print(\"-\"*5,f\"{i+1}° PESSOA\", \"-\"*5)\n",
    "\n",
    "    n = input(\"Nome: \" ).title().strip()\n",
    "    y = int(input(\"Idade: \" ))\n",
    "    s = input(\"Sexo [M/F]: \" ).casefold().strip()\n",
    "    \n",
    "    print(\"\")\n",
    "    \n",
    "    media_idade +=  y\n",
    "    \n",
    "    if  i == 0 and s == \"m\":\n",
    "        homemvelho = y\n",
    "        nome = n\n",
    "    \n",
    "    if s == \"m\" and y>homemvelho:\n",
    "        homemvelho = y\n",
    "        nome = n\n",
    "    \n",
    "    if s == \"f\" and y<20:\n",
    "        mulher20 +=1\n",
    "\n",
    "\n",
    "\n",
    "print(f\"A média da idade das pessoa é de {media_idade/3:.1f} anos\")\n",
    "print(f\"O homen mais velho tem {homemvelho} anos e se chama {nome}\")\n",
    "print(f\"Ao todo são {mulher20} mulher (s) com menos de 20 anos \")\n"
   ]
  }
 ],
 "metadata": {
  "kernelspec": {
   "display_name": "Python 3 (ipykernel)",
   "language": "python",
   "name": "python3"
  },
  "language_info": {
   "codemirror_mode": {
    "name": "ipython",
    "version": 3
   },
   "file_extension": ".py",
   "mimetype": "text/x-python",
   "name": "python",
   "nbconvert_exporter": "python",
   "pygments_lexer": "ipython3",
   "version": "3.9.7"
  }
 },
 "nbformat": 4,
 "nbformat_minor": 5
}
