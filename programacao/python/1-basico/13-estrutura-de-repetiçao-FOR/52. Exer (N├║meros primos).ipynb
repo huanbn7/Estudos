{
 "cells": [
  {
   "cell_type": "markdown",
   "id": "223456e6",
   "metadata": {},
   "source": [
    "Exercício Python 052: Faça um programa que leia um número inteiro e diga se ele é ou não um número primo."
   ]
  },
  {
   "cell_type": "code",
   "execution_count": 2,
   "id": "c7bc71cb",
   "metadata": {},
   "outputs": [
    {
     "name": "stdout",
     "output_type": "stream",
     "text": [
      "\n",
      "Digite um número: 10\n",
      "\n",
      "\u001b[31m1\n",
      "\u001b[31m2\n",
      "\u001b[m3\n",
      "\u001b[m4\n",
      "\u001b[31m5\n",
      "\u001b[m6\n",
      "\u001b[m7\n",
      "\u001b[m8\n",
      "\u001b[m9\n",
      "\u001b[31m10\n",
      "\n",
      "\u001b[mO número 10 foi dividido 4 vezes\n",
      "E por isso ele não é PRIMO\n"
     ]
    }
   ],
   "source": [
    "n = int(input(\"\\nDigite um número: \" ))\n",
    "tot = 0\n",
    "\n",
    "print()\n",
    "for c in range(1,n+1):\n",
    "    \n",
    "    if n%c==0:\n",
    "        print(\"\\033[31m\", end=\"\")\n",
    "        tot += 1\n",
    "\n",
    "    else:\n",
    "        print(\"\\033[m\", end=\"\")\n",
    "    print(c)\n",
    "\n",
    "\n",
    "print(f\"\\n\\033[mO número {n} foi dividido {tot} vezes\")\n",
    "\n",
    "if tot == 2:\n",
    "    print(f\"E por isso ele é PRIMO\")\n",
    "else:\n",
    "    print(f\"E por isso ele não é PRIMO\")"
   ]
  }
 ],
 "metadata": {
  "kernelspec": {
   "display_name": "Python 3 (ipykernel)",
   "language": "python",
   "name": "python3"
  },
  "language_info": {
   "codemirror_mode": {
    "name": "ipython",
    "version": 3
   },
   "file_extension": ".py",
   "mimetype": "text/x-python",
   "name": "python",
   "nbconvert_exporter": "python",
   "pygments_lexer": "ipython3",
   "version": "3.9.7"
  }
 },
 "nbformat": 4,
 "nbformat_minor": 5
}
