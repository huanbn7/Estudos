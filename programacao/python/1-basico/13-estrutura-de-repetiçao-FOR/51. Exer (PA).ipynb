{
 "cells": [
  {
   "cell_type": "markdown",
   "id": "2b78f2ee",
   "metadata": {},
   "source": [
    "Exercício Python 051: Desenvolva um programa que leia o primeiro termo e a razão de uma PA. No final, mostre os 10 primeiros termos dessa progressão."
   ]
  },
  {
   "cell_type": "code",
   "execution_count": 12,
   "id": "43d186d6",
   "metadata": {},
   "outputs": [
    {
     "name": "stdout",
     "output_type": "stream",
     "text": [
      "\n",
      " =====================================\n",
      "    OS 10 PEIMEIRO TERMOS DE UMA PA\n",
      " =====================================\n",
      "\n",
      "Digite o 1° termo: 0\n",
      "Digite a razão: 2\n",
      "\n",
      "0\n",
      "2\n",
      "4\n",
      "6\n",
      "8\n",
      "10\n",
      "12\n",
      "14\n",
      "16\n",
      "18\n",
      "\n",
      "ACABOU !!\n"
     ]
    }
   ],
   "source": [
    "#Calcule os 10 primeiro termo de uma PA\n",
    "\n",
    "print(\"\\n\",\"=\"*37)\n",
    "print(\"    OS 10 PEIMEIRO TERMOS DE UMA PA\")\n",
    "print('' '',\"=\"*37)\n",
    "\n",
    "\n",
    "t = int(input(\"\\nDigite o 1° termo: \" ))\n",
    "r = int(input(\"Digite a razão: \" ))\n",
    "x = t+r*9+1 # regra de formação para achar um termo da P.A só com o primeiro termo e a razão\n",
    "print()\n",
    "\n",
    "for n in range(t,x,r):\n",
    "    print(n)\n",
    "\n",
    "print(\"\\nACABOU !!\")"
   ]
  }
 ],
 "metadata": {
  "kernelspec": {
   "display_name": "Python 3 (ipykernel)",
   "language": "python",
   "name": "python3"
  },
  "language_info": {
   "codemirror_mode": {
    "name": "ipython",
    "version": 3
   },
   "file_extension": ".py",
   "mimetype": "text/x-python",
   "name": "python",
   "nbconvert_exporter": "python",
   "pygments_lexer": "ipython3",
   "version": "3.9.7"
  }
 },
 "nbformat": 4,
 "nbformat_minor": 5
}
