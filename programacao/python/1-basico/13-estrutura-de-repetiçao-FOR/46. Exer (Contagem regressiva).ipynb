{
 "cells": [
  {
   "cell_type": "markdown",
   "id": "e4d83f1c",
   "metadata": {},
   "source": [
    "Exercício Python 046: Faça um programa que mostre na tela uma contagem regressiva para o estouro de fogos de artifício, indo de 10 até 0, com uma pausa de 1 segundo entre eles."
   ]
  },
  {
   "cell_type": "code",
   "execution_count": null,
   "id": "cb9b718d",
   "metadata": {},
   "outputs": [],
   "source": [
    "#Crie uma contagem regressiva\n",
    "\n",
    "from time import sleep\n",
    "\n",
    "print(\"\")\n",
    "n = int(input(\"Digite um número para começar a contagem regressiva: \" ))\n",
    "print(\"\")\n",
    "\n",
    "for c in range( n,-1,-1):\n",
    "    print(c)\n",
    "    sleep(1)\n",
    "\n",
    "print(\"Lançar!!!\")"
   ]
  }
 ],
 "metadata": {
  "kernelspec": {
   "display_name": "Python 3 (ipykernel)",
   "language": "python",
   "name": "python3"
  },
  "language_info": {
   "codemirror_mode": {
    "name": "ipython",
    "version": 3
   },
   "file_extension": ".py",
   "mimetype": "text/x-python",
   "name": "python",
   "nbconvert_exporter": "python",
   "pygments_lexer": "ipython3",
   "version": "3.9.7"
  }
 },
 "nbformat": 4,
 "nbformat_minor": 5
}
