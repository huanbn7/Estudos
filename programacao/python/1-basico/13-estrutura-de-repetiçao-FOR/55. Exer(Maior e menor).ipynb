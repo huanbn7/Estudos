{
 "cells": [
  {
   "cell_type": "markdown",
   "id": "a4118cef",
   "metadata": {},
   "source": [
    "Exercício Python 055: Faça um programa que leia o peso de cinco pessoas. No final, mostre qual foi o maior e o menor peso lidos."
   ]
  },
  {
   "cell_type": "code",
   "execution_count": 5,
   "id": "e1326aea",
   "metadata": {},
   "outputs": [
    {
     "name": "stdout",
     "output_type": "stream",
     "text": [
      "\n",
      "Digite quantos pesos você quer analisar: 4\n",
      "\n",
      "Digite o 1° peso: 21\n",
      "Digite o 2° peso: 0\n",
      "Digite o 3° peso: 23\n",
      "Digite o 4° peso: 100\n",
      "\n",
      "O maior peso é 100.0\n",
      "O menor peso é 0.0\n"
     ]
    }
   ],
   "source": [
    "q = int(input(\"\\nDigite quantos pesos você quer analisar: \" ))\n",
    "print(\"\")\n",
    "\n",
    "peso1 = float(input(\"Digite o 1° peso: \" ))\n",
    "\n",
    "mai = peso1\n",
    "men = peso1\n",
    "\n",
    "for p in range(q-1):\n",
    "    \n",
    "    peso = float(input(f\"Digite o {p+2}° peso: \" ))\n",
    "    \n",
    "    if peso>mai:\n",
    "        mai = peso\n",
    "    if peso<men:\n",
    "        men = peso\n",
    "\n",
    "print(f\"\\nO maior peso é {mai}\")\n",
    "print(f\"O menor peso é {men}\")"
   ]
  }
 ],
 "metadata": {
  "kernelspec": {
   "display_name": "Python 3 (ipykernel)",
   "language": "python",
   "name": "python3"
  },
  "language_info": {
   "codemirror_mode": {
    "name": "ipython",
    "version": 3
   },
   "file_extension": ".py",
   "mimetype": "text/x-python",
   "name": "python",
   "nbconvert_exporter": "python",
   "pygments_lexer": "ipython3",
   "version": "3.9.7"
  }
 },
 "nbformat": 4,
 "nbformat_minor": 5
}
