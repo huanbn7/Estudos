{
 "cells": [
  {
   "cell_type": "markdown",
   "id": "24b10e32",
   "metadata": {},
   "source": [
    "Exercício Python 047: Crie um programa que mostre na tela todos os números pares que estão no intervalo entre 1 e 50."
   ]
  },
  {
   "cell_type": "code",
   "execution_count": null,
   "id": "e4342313",
   "metadata": {},
   "outputs": [],
   "source": [
    "#Dentro de um intervalo mostre somente os números pares\n",
    "\n",
    "print(\"\")\n",
    "print(\"Digite o inicio e o fim de um intervalo para a maquina procurar somente os números pares\")\n",
    "print(\"\")\n",
    "\n",
    "i = int(input(\"Inicio: \" ))\n",
    "f = int(input(\"Fim: \" ))\n",
    "print(\"\")\n",
    "\n",
    "for c in range(i,f+1,2):\n",
    "    print(c)\n",
    "\n",
    "print(\"\")\n",
    "print(\"Fim!\")"
   ]
  }
 ],
 "metadata": {
  "kernelspec": {
   "display_name": "Python 3 (ipykernel)",
   "language": "python",
   "name": "python3"
  },
  "language_info": {
   "codemirror_mode": {
    "name": "ipython",
    "version": 3
   },
   "file_extension": ".py",
   "mimetype": "text/x-python",
   "name": "python",
   "nbconvert_exporter": "python",
   "pygments_lexer": "ipython3",
   "version": "3.9.7"
  }
 },
 "nbformat": 4,
 "nbformat_minor": 5
}
