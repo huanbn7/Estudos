{
 "cells": [
  {
   "cell_type": "markdown",
   "id": "da2d29c2",
   "metadata": {},
   "source": [
    "## Estrutura de repetição FOR"
   ]
  },
  {
   "cell_type": "code",
   "execution_count": 9,
   "id": "d9fcb093",
   "metadata": {
    "collapsed": true
   },
   "outputs": [
    {
     "name": "stdout",
     "output_type": "stream",
     "text": [
      "caneta\n",
      "lápis\n",
      "borracha\n"
     ]
    }
   ],
   "source": [
    "#A estrutura for é uma estrutura de repetição que ler listas, discionários ou intervalos numéricos.\n",
    "\n",
    "#Ex.1: Imprima cada produto da lista de produtos\n",
    "\n",
    "lista = ['caneta','lápis','borracha']\n",
    "\n",
    "for i in lista:    #para cada item da lista:\n",
    "    print(i)       #imprima o ítem\n",
    "                   #posso colocar qualquer coisa no lugar do 'i'"
   ]
  },
  {
   "cell_type": "code",
   "execution_count": 15,
   "id": "a9fe70bd",
   "metadata": {
    "collapsed": true
   },
   "outputs": [
    {
     "name": "stdout",
     "output_type": "stream",
     "text": [
      "O valor do imposto sobre R$20 é R$2.00\n",
      "O valor do imposto sobre R$30 é R$3.00\n",
      "O valor do imposto sobre R$10 é R$1.00\n"
     ]
    }
   ],
   "source": [
    "#Ex.2: Calcular o imposto de 10% sobre os preços\n",
    "\n",
    "preço = [20,30,10]\n",
    "\n",
    "for p in preço:\n",
    "    imposto = p*0.1\n",
    "    print(f'O valor do imposto sobre R${p} é R${imposto:.2f}')"
   ]
  },
  {
   "cell_type": "code",
   "execution_count": 19,
   "id": "0227e6bd",
   "metadata": {
    "collapsed": true
   },
   "outputs": [
    {
     "name": "stdout",
     "output_type": "stream",
     "text": [
      "faca\n",
      "garfo\n",
      "panela\n",
      "frigideira\n",
      "10\n",
      "20\n",
      "100\n",
      "150\n"
     ]
    }
   ],
   "source": [
    "#Ex.3: Usando FOR em uma lista\n",
    "\n",
    "dicionario = {\n",
    "              'faca':10,\n",
    "              'garfo':20,\n",
    "              'panela':100,\n",
    "              'frigideira':150 }\n",
    "\n",
    "for i in dicionario:   #para cada item no dicionário:\n",
    "    print(i)           #imprima o que vem antes dos ':'\n",
    "                       #o pc só vai printar o que está antes dos ':'\n",
    "\n",
    "\n",
    "for i in dicionario:      #para cada item no dicionario:\n",
    "    print(dicionario[i])  #imprima o que vem depois dos ':'\n",
    "                          #o pc só vai printar o que está depois dos ':'"
   ]
  },
  {
   "cell_type": "code",
   "execution_count": 27,
   "id": "152916b2",
   "metadata": {
    "collapsed": true
   },
   "outputs": [
    {
     "name": "stdout",
     "output_type": "stream",
     "text": [
      "0\n",
      "1\n",
      "2\n",
      "3\n",
      "\n",
      "0\n",
      "2\n",
      "4\n",
      "6\n",
      "8\n"
     ]
    }
   ],
   "source": [
    "#Ex.4: Usando o range(intervalo em portugues)\n",
    "\n",
    "#O range serve para criar um intervalo numérico e ele funciona com base na contagem do python\n",
    "#range(inicio,fim,pulo)\n",
    "\n",
    "\n",
    "for n in range(0,4):  #para cada número no intervalo de 0 a 4:\n",
    "    print(n)          #imprima o número\n",
    "\n",
    "print('')\n",
    "for n in range(0,10,2):  #para cada número no intervalo de 0 a 10 (pulando de 2 em 2):\n",
    "    print(n)             #imprima o número"
   ]
  },
  {
   "cell_type": "code",
   "execution_count": 32,
   "id": "7db8a311",
   "metadata": {
    "collapsed": true
   },
   "outputs": [
    {
     "name": "stdout",
     "output_type": "stream",
     "text": [
      "hello\n",
      "hello\n",
      "hello\n",
      "hello\n"
     ]
    }
   ],
   "source": [
    "#Ex.5:\n",
    "\n",
    "for n in range(4):   #para cada numero no intervalo de 0 a 4:    \n",
    "    print('hello')   #imprima hello\n",
    "                     #executa um comando de acordo com a quantidade de vez que está dentro do intervalo.\n",
    "\n"
   ]
  },
  {
   "cell_type": "code",
   "execution_count": 34,
   "id": "c59458de",
   "metadata": {
    "collapsed": true
   },
   "outputs": [
    {
     "name": "stdout",
     "output_type": "stream",
     "text": [
      "10\n",
      "9\n",
      "8\n",
      "7\n",
      "6\n",
      "5\n",
      "4\n",
      "3\n",
      "2\n",
      "1\n"
     ]
    }
   ],
   "source": [
    "#Ex.6:\n",
    "\n",
    "for n in range(10,0,-1):  #para cada número no intervalo de 0 a 10 (o -1 serve para inverter o intervalo):\n",
    "    print(n)              #imprima o número\n",
    "                          \n",
    "    "
   ]
  },
  {
   "cell_type": "code",
   "execution_count": 37,
   "id": "f299856f",
   "metadata": {
    "collapsed": true
   },
   "outputs": [
    {
     "name": "stdout",
     "output_type": "stream",
     "text": [
      "i\n",
      "h\n",
      "g\n",
      "f\n",
      "d\n",
      "c\n",
      "b\n",
      "a\n"
     ]
    }
   ],
   "source": [
    "#Ex.7:\n",
    "\n",
    "alfabeto = ['a','b','c','d','f','g','h','i']\n",
    "\n",
    "for letra in alfabeto[::-1]:   #para cada letra dentro da lista alfabeto ([::] = lista alfabeto do inicio ao fim invertida):\n",
    "    print(letra)               #imprima a letra"
   ]
  },
  {
   "cell_type": "code",
   "execution_count": null,
   "id": "9c888136",
   "metadata": {},
   "outputs": [],
   "source": []
  }
 ],
 "metadata": {
  "kernelspec": {
   "display_name": "Python 3 (ipykernel)",
   "language": "python",
   "name": "python3"
  },
  "language_info": {
   "codemirror_mode": {
    "name": "ipython",
    "version": 3
   },
   "file_extension": ".py",
   "mimetype": "text/x-python",
   "name": "python",
   "nbconvert_exporter": "python",
   "pygments_lexer": "ipython3",
   "version": "3.10.4"
  }
 },
 "nbformat": 4,
 "nbformat_minor": 5
}
