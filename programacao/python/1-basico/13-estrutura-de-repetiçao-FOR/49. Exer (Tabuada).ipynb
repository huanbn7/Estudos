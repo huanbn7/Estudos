{
 "cells": [
  {
   "cell_type": "markdown",
   "id": "4b01a1e5",
   "metadata": {},
   "source": [
    "Exercício Python 049: Refaça o DESAFIO 009, mostrando a tabuada de um número que o usuário escolher, só que agora utilizando um laço for."
   ]
  },
  {
   "cell_type": "code",
   "execution_count": 6,
   "id": "c85387d3",
   "metadata": {},
   "outputs": [
    {
     "name": "stdout",
     "output_type": "stream",
     "text": [
      "\n",
      "==============================\n",
      "   TABUADA DE MULTIPLICAÇÃO\n",
      "==============================\n",
      "\n",
      "Digite o numero para ver a sua tabuada: 1\n",
      "\n",
      " 1  x  1  =  1\n",
      " 1  x  2  =  2\n",
      " 1  x  3  =  3\n",
      " 1  x  4  =  4\n",
      " 1  x  5  =  5\n",
      " 1  x  6  =  6\n",
      " 1  x  7  =  7\n",
      " 1  x  8  =  8\n",
      " 1  x  9  =  9\n",
      " 1  x  10  =  10\n"
     ]
    }
   ],
   "source": [
    "#O usuario vai digitar um numero que corresponde a uma tabuada\n",
    "#Eu tenho que mostrar a tabuada do numero que o usuario digitar\n",
    "\n",
    "print()\n",
    "print(\"=\"*30)\n",
    "print(\"   TABUADA DE MULTIPLICAÇÃO\")\n",
    "print(\"=\"*30)\n",
    "\n",
    "\n",
    "n = int(input(\"\\nDigite o numero para ver a sua tabuada: \" ))\n",
    "print()\n",
    "\n",
    "for num in range (1,11):\n",
    "    print(f\" {n}  x  {num}  =  {n*num}\")\n"
   ]
  }
 ],
 "metadata": {
  "kernelspec": {
   "display_name": "Python 3 (ipykernel)",
   "language": "python",
   "name": "python3"
  },
  "language_info": {
   "codemirror_mode": {
    "name": "ipython",
    "version": 3
   },
   "file_extension": ".py",
   "mimetype": "text/x-python",
   "name": "python",
   "nbconvert_exporter": "python",
   "pygments_lexer": "ipython3",
   "version": "3.9.7"
  }
 },
 "nbformat": 4,
 "nbformat_minor": 5
}
