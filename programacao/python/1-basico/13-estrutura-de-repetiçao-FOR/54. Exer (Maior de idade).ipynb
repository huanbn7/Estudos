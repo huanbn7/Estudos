{
 "cells": [
  {
   "cell_type": "markdown",
   "id": "7ba37782",
   "metadata": {},
   "source": [
    "Exercício Python 054: Crie um programa que leia o ano de nascimento de sete pessoas. No final, mostre quantas pessoas ainda não atingiram a maioridade e quantas já são maiores.\n"
   ]
  },
  {
   "cell_type": "code",
   "execution_count": 3,
   "id": "5490655c",
   "metadata": {},
   "outputs": [
    {
     "name": "stdout",
     "output_type": "stream",
     "text": [
      "\n",
      "Digite quantas idades você quer analisar: 2\n",
      "\n",
      "Em que ano a 1° pessoa nasceu? 2004\n",
      "Em que ano a 2° pessoa nasceu? 2015\n",
      "\n",
      "Ao todo temos 1 pessoa (s) maior (es) de idade e 1 pessoa (s) menor (es)  de idade.\n"
     ]
    }
   ],
   "source": [
    "#coletar datas de nascimento e dizer quantas pessoas são maiores de idade e quantas são menores de idade\n",
    "\n",
    "\n",
    "q = int(input(\"\\nDigite quantas idades você quer analisar: \" ))\n",
    "print(\"\")\n",
    "\n",
    "mi = 0\n",
    "mni = 0\n",
    "\n",
    "for d in range(1,q+1):\n",
    "    a = int(input(f\"Em que ano a {d}° pessoa nasceu? \" ))\n",
    "    \n",
    "    idade_pessoa = 2022 - a\n",
    "    \n",
    "    if idade_pessoa>=18:\n",
    "        mi +=1\n",
    "    else:\n",
    "        mni+=1\n",
    "\n",
    "print(\"\")\n",
    "print(f\"Ao todo temos {mi} pessoa (s) maior (es) de idade e {mni} pessoa (s) menor (es)  de idade.\")"
   ]
  }
 ],
 "metadata": {
  "kernelspec": {
   "display_name": "Python 3 (ipykernel)",
   "language": "python",
   "name": "python3"
  },
  "language_info": {
   "codemirror_mode": {
    "name": "ipython",
    "version": 3
   },
   "file_extension": ".py",
   "mimetype": "text/x-python",
   "name": "python",
   "nbconvert_exporter": "python",
   "pygments_lexer": "ipython3",
   "version": "3.9.7"
  }
 },
 "nbformat": 4,
 "nbformat_minor": 5
}
