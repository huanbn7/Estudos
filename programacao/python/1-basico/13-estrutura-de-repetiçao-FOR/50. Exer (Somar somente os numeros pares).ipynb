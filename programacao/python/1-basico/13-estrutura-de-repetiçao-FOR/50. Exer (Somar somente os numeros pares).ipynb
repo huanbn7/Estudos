{
 "cells": [
  {
   "cell_type": "markdown",
   "id": "a138569f",
   "metadata": {},
   "source": [
    "Exercício Python 050: Desenvolva um programa que leia seis números inteiros e mostre a soma apenas daqueles que forem pares. Se o valor digitado for ímpar, desconsidere-o."
   ]
  },
  {
   "cell_type": "code",
   "execution_count": 3,
   "id": "966db77f",
   "metadata": {},
   "outputs": [
    {
     "name": "stdout",
     "output_type": "stream",
     "text": [
      "\n",
      "Digite 3 valores e a maquina vai calcular somente os números pares\n",
      "\n",
      "Digite um valor: 2\n",
      "Digite um valor: 861\n",
      "Digite um valor: 0\n",
      "\n",
      "Somente a soma dos números pares corespodem a 2\n"
     ]
    }
   ],
   "source": [
    "print()\n",
    "s = 0\n",
    "\n",
    "print(\"Digite 3 valores e a maquina vai calcular somente os números pares\")\n",
    "print(\"\")\n",
    "\n",
    "for c in range(0,3):\n",
    "    n = int(input(\"Digite um valor: \" ))\n",
    "    if n%2==0:\n",
    "        s = s+n\n",
    "\n",
    "print()\n",
    "print(f\"Somente a soma dos números pares corespodem a {s}\")"
   ]
  }
 ],
 "metadata": {
  "kernelspec": {
   "display_name": "Python 3 (ipykernel)",
   "language": "python",
   "name": "python3"
  },
  "language_info": {
   "codemirror_mode": {
    "name": "ipython",
    "version": 3
   },
   "file_extension": ".py",
   "mimetype": "text/x-python",
   "name": "python",
   "nbconvert_exporter": "python",
   "pygments_lexer": "ipython3",
   "version": "3.9.7"
  }
 },
 "nbformat": 4,
 "nbformat_minor": 5
}
