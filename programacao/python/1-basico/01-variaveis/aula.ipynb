{
 "cells": [
  {
   "cell_type": "markdown",
   "id": "3f5d6f25",
   "metadata": {},
   "source": [
    "<br><br>\n",
    "No início do aprendizado de qualquer linguagem de programação existem alguns conceitos e idéias básicas que são necessários. O objetivo deste capítulo é introduzi-lo ao vocabulário básico de programação e alguns dos conceitos fundamentais de Python.<br><br><br>"
   ]
  },
  {
   "cell_type": "markdown",
   "id": "298be5fa",
   "metadata": {
    "heading_collapsed": true
   },
   "source": [
    "#  🔶 O que é uma variável? "
   ]
  },
  {
   "cell_type": "markdown",
   "id": "c72ae9ec",
   "metadata": {
    "hidden": true
   },
   "source": [
    "Variáveis em python são lugares reservados na mémoria de um dispositivo para o armazenamento de dados, que posteriormente poderão ser utilizados na execução de algum algoritmo. Essas variáveis podem ter tamanho e tipo diferente, entre outras particularidades que veremos mais pra frente.<br>\n",
    "\n",
    "Podemos pensar que a memória RAM de um dispositivo é como um grande armário que podemos preencher com diversos itens, e esses itens são as variáveis.<br>\n",
    "\n",
    "Em um armário podemos guardar roupas, calçados e objetos pessoais em geral. Assim como esse armário pode receber itens de tipo diferentes a memória RAM do seu dispotiso também pode receber variáveis com tipos diferentes.<br>\n",
    "\n",
    "As variáveis podem ser criadas assim como também podem ser excluidas da memória RAM. "
   ]
  },
  {
   "cell_type": "markdown",
   "id": "f8616684",
   "metadata": {
    "heading_collapsed": true
   },
   "source": [
    "#  🔶 Como declarar variáveis no python"
   ]
  },
  {
   "cell_type": "markdown",
   "id": "872d19d7",
   "metadata": {
    "hidden": true
   },
   "source": [
    "Para declarar variáveis no python, é preciso seguir algumas regras, caso contrário o interpretador do python não vai reconhecer o comando e uma mensagem de erro aparecerá.\n",
    "\n",
    "**1° regra**: não é possivel nomear uma variável começando com algum numero (5; 5.5) e também não pode usar simbolos (- %) na nomeação de uma variável, apenas o underline (_). <br>"
   ]
  },
  {
   "cell_type": "code",
   "execution_count": 7,
   "id": "1974d5d8",
   "metadata": {
    "ExecuteTime": {
     "end_time": "2022-10-23T16:59:03.789969Z",
     "start_time": "2022-10-23T16:59:03.782749Z"
    },
    "hidden": true
   },
   "outputs": [
    {
     "ename": "SyntaxError",
     "evalue": "invalid decimal literal (2910547553.py, line 2)",
     "output_type": "error",
     "traceback": [
      "\u001b[0;36m  Input \u001b[0;32mIn [7]\u001b[0;36m\u001b[0m\n\u001b[0;31m    5numero = 1\u001b[0m\n\u001b[0m    ^\u001b[0m\n\u001b[0;31mSyntaxError\u001b[0m\u001b[0;31m:\u001b[0m invalid decimal literal\n"
     ]
    }
   ],
   "source": [
    "# não pode\n",
    "5numero = 1\n",
    "-numero = 2\n",
    "numero% = 3\n",
    "\n",
    "# pode\n",
    "numero5 = 1\n",
    "numero_5 = 2\n",
    "_numero5 = 3"
   ]
  },
  {
   "cell_type": "markdown",
   "id": "eb0f1b9e",
   "metadata": {
    "hidden": true
   },
   "source": [
    "**2° regra**: outro cuidado que é preciso ter é não utilizar palavras que já fazem parte dos códigos da linguagem Python para declarar variáveis. As famosas palavras reservadas. Aqui estão essas palavras: **and, as, assert, break, class, continue, def, del, elif, else, except, exec, finally, for, from, global, if, import, in, is, lambda, nonlocal, not, pass, raise, return, try, while, with, yield, True, False, None, or**. Ao decorrer do tempo novas palavras podem ser acrecentadas a essa lita.<br>"
   ]
  },
  {
   "cell_type": "code",
   "execution_count": 6,
   "id": "bf1ebf19",
   "metadata": {
    "ExecuteTime": {
     "end_time": "2022-10-23T16:59:00.719685Z",
     "start_time": "2022-10-23T16:59:00.711882Z"
    },
    "hidden": true
   },
   "outputs": [
    {
     "ename": "SyntaxError",
     "evalue": "invalid syntax (3356222153.py, line 2)",
     "output_type": "error",
     "traceback": [
      "\u001b[0;36m  Input \u001b[0;32mIn [6]\u001b[0;36m\u001b[0m\n\u001b[0;31m    class = 1\u001b[0m\n\u001b[0m          ^\u001b[0m\n\u001b[0;31mSyntaxError\u001b[0m\u001b[0;31m:\u001b[0m invalid syntax\n"
     ]
    }
   ],
   "source": [
    "# não pode\n",
    "class = 1\n",
    "for = 2\n",
    "is = 3\n",
    "\n",
    "..."
   ]
  },
  {
   "cell_type": "markdown",
   "id": "dbfb1c37",
   "metadata": {
    "hidden": true
   },
   "source": [
    "**3° regra**:  o Python é _case sensitive_, ou seja, é sensível a letras MAIÚSCULAS e minúscula, logo, **N1** é diferente de **n1**."
   ]
  },
  {
   "cell_type": "code",
   "execution_count": 43,
   "id": "5367087d",
   "metadata": {
    "ExecuteTime": {
     "end_time": "2022-10-23T18:47:47.211497Z",
     "start_time": "2022-10-23T18:47:47.204942Z"
    },
    "hidden": true
   },
   "outputs": [
    {
     "name": "stdout",
     "output_type": "stream",
     "text": [
      "1\n",
      "2\n"
     ]
    }
   ],
   "source": [
    "N1 = 1\n",
    "n1 = 2\n",
    "\n",
    "print(N1)\n",
    "print(n1)"
   ]
  },
  {
   "cell_type": "markdown",
   "id": "7942c438",
   "metadata": {
    "hidden": true
   },
   "source": [
    "<br>"
   ]
  },
  {
   "cell_type": "markdown",
   "id": "e4c34914",
   "metadata": {
    "heading_collapsed": true
   },
   "source": [
    "# 🔶 Tipos de dados que uma variável no python aceita\n"
   ]
  },
  {
   "cell_type": "markdown",
   "id": "b0326b39",
   "metadata": {
    "hidden": true
   },
   "source": [
    "A linguagem python pussui uma variedade importante de tipificação de dados.\n",
    "\n",
    "Os tipos de dados padrão do Python são:\n",
    "\n",
    "- Inteiro (**int**)\n",
    "- Ponto Flutuante ou Decimal (**float**)\n",
    "- String (**str**)\n",
    "- Booleano (**bool**)\n",
    "- Lista (**list**)\n",
    "- Tupla (**tuple**)\n",
    "- Dictionário (**dict**)\n",
    "- Tipo Complexo (**complex**)\n",
    "\n",
    "Nesse tutorial iremos aprender apenas sobre os 4 primeiros tipos de dados, pois são com eles que nós mais vamos trabalhar nesse começo da jornada. Os demais tipos são assuntos mais complexos que veremos mais lá na frente."
   ]
  },
  {
   "cell_type": "markdown",
   "id": "a4ad4b84",
   "metadata": {
    "hidden": true
   },
   "source": [
    "\n",
    "### int"
   ]
  },
  {
   "cell_type": "markdown",
   "id": "17e4ecfc",
   "metadata": {
    "hidden": true
   },
   "source": [
    "O tipo inteiro é um tipo de dado usado para representar qualquer numero inteiro, seja ele positivo (n) ou negativo (-n). Por exemplo: 2, 3, -10, 21, 0, -23.\n",
    "\n",
    "Vou mostrar um exemplo no python, aonde eu crio 2 variáveis e atribuo a elas um numero inteiro."
   ]
  },
  {
   "cell_type": "code",
   "execution_count": 15,
   "id": "a83480fa",
   "metadata": {
    "ExecuteTime": {
     "end_time": "2022-10-23T17:55:28.751077Z",
     "start_time": "2022-10-23T17:55:28.743861Z"
    },
    "hidden": true
   },
   "outputs": [
    {
     "name": "stdout",
     "output_type": "stream",
     "text": [
      "Tipo da variável n1 <class 'int'>\n",
      "Tipo da variável n2 <class 'int'>\n"
     ]
    }
   ],
   "source": [
    "n1 = 18\n",
    "n2 = -20\n",
    "\n",
    "# No python usamos a função print para mostrar algo na tela\n",
    "# E a função type para saber o tido de dado de uma variável\n",
    "\n",
    "print('Tipo da variável n1', type(idade))\n",
    "print('Tipo da variável n2', type(ano))"
   ]
  },
  {
   "cell_type": "markdown",
   "id": "6d5abbf9",
   "metadata": {
    "hidden": true
   },
   "source": [
    "\n",
    "### float"
   ]
  },
  {
   "cell_type": "markdown",
   "id": "4085bc30",
   "metadata": {
    "hidden": true
   },
   "source": [
    "O tipo ponto flutuante informalmente conhecido como numero quequebrado, é um tipo de dado usado para representar qualquer numero que tenha decimais, seja ele positivo (n) ou negativo (-n). Por exemplo: 20.5, -3.25, -10.0, 21.0, 0.60, -23.40. \n",
    "\n",
    "Vou mostrar um exemplo no python, aonde eu crio 2 variáveis e atribuo a elas um numero flutuante."
   ]
  },
  {
   "cell_type": "code",
   "execution_count": 11,
   "id": "7ae1e809",
   "metadata": {
    "ExecuteTime": {
     "end_time": "2022-10-23T17:44:34.863492Z",
     "start_time": "2022-10-23T17:44:34.856115Z"
    },
    "hidden": true,
    "scrolled": true
   },
   "outputs": [
    {
     "name": "stdout",
     "output_type": "stream",
     "text": [
      "Tipo da variável temperatura <class 'float'>\n",
      "Tipo da variável altura <class 'float'>\n"
     ]
    }
   ],
   "source": [
    "temperatura = -10.5\n",
    "altura = 1.80\n",
    "\n",
    "print('Tipo da variável temperatura', type(temperatura))\n",
    "print('Tipo da variável altura', type(altura))"
   ]
  },
  {
   "cell_type": "markdown",
   "id": "449b1e8f",
   "metadata": {
    "hidden": true
   },
   "source": [
    "\n",
    "### str"
   ]
  },
  {
   "cell_type": "markdown",
   "id": "2b6fdc10",
   "metadata": {
    "hidden": true
   },
   "source": [
    "É um conjunto de caracteres dispostos numa determinada ordem, geralmente utilizada para representar palavras, frases ou textos. Para definir que um tipo de dado é str é necessário coloca-lo entres aspas, simples ou dupla.\n",
    "\n",
    "Em um primeiro momento vamos falar apenas o básico de uma string (str), mais para frente abordaremos esse assunto com mais profundidade."
   ]
  },
  {
   "cell_type": "code",
   "execution_count": 12,
   "id": "d6bfb71e",
   "metadata": {
    "ExecuteTime": {
     "end_time": "2022-10-23T17:49:09.147765Z",
     "start_time": "2022-10-23T17:49:09.141863Z"
    },
    "hidden": true
   },
   "outputs": [
    {
     "name": "stdout",
     "output_type": "stream",
     "text": [
      "Tipo da variável nome <class 'str'>\n",
      "Tipo da variável linguagem <class 'str'>\n"
     ]
    }
   ],
   "source": [
    "nome = 'audax'\n",
    "linguagem = \"python\"\n",
    "\n",
    "print('Tipo da variável nome', type(nome))\n",
    "print('Tipo da variável linguagem', type(linguagem))"
   ]
  },
  {
   "cell_type": "markdown",
   "id": "384526e9",
   "metadata": {
    "hidden": true
   },
   "source": [
    "\n",
    "### bool"
   ]
  },
  {
   "cell_type": "markdown",
   "id": "4a2c5fd9",
   "metadata": {
    "ExecuteTime": {
     "end_time": "2022-10-09T21:45:24.429442Z",
     "start_time": "2022-10-09T21:45:24.420140Z"
    },
    "hidden": true
   },
   "source": [
    "É um tipo de dado lógico que pode assumir apenas dois valores: False ou True (em português, Falso ou Verdadeiro). Na lógica computacional, podem ser considerados 0 ou 1 (False ou True). "
   ]
  },
  {
   "cell_type": "code",
   "execution_count": 16,
   "id": "88796ac7",
   "metadata": {
    "ExecuteTime": {
     "end_time": "2022-10-23T17:56:18.081096Z",
     "start_time": "2022-10-23T17:56:18.073859Z"
    },
    "hidden": true
   },
   "outputs": [
    {
     "name": "stdout",
     "output_type": "stream",
     "text": [
      "Tipo da variável n1 <class 'bool'>\n",
      "Tipo da variável n2 <class 'bool'>\n"
     ]
    }
   ],
   "source": [
    "n1 = True\n",
    "n2 = False\n",
    "\n",
    "print('Tipo da variável n1', type(n1))\n",
    "print('Tipo da variável n2', type(n2))"
   ]
  },
  {
   "cell_type": "markdown",
   "id": "b63fac1f",
   "metadata": {
    "heading_collapsed": true
   },
   "source": [
    "# 🔶 Transformando variáveis"
   ]
  },
  {
   "cell_type": "markdown",
   "id": "45839ce7",
   "metadata": {
    "hidden": true
   },
   "source": [
    "Em determinados cenários pode ser necessário mudar o tipo de uma variável e no Python isso é muito fácil, uma das vantagens de uma linguagem dinamicamente tipada.\n",
    "\n",
    "Vamos ver alguns exemplos:\n"
   ]
  },
  {
   "cell_type": "markdown",
   "id": "f1c04f8f",
   "metadata": {
    "hidden": true
   },
   "source": [
    "\n",
    "### inteiro (int) para string (str) "
   ]
  },
  {
   "cell_type": "code",
   "execution_count": 19,
   "id": "49475141",
   "metadata": {
    "ExecuteTime": {
     "end_time": "2022-10-23T18:08:34.603331Z",
     "start_time": "2022-10-23T18:08:34.595669Z"
    },
    "hidden": true
   },
   "outputs": [
    {
     "name": "stdout",
     "output_type": "stream",
     "text": [
      "Tipo da variável idade antes da conversão <class 'int'>\n",
      "Tipo da variável idade após a conversão <class 'str'>\n"
     ]
    }
   ],
   "source": [
    "# Antes da conversão\n",
    "idade = 13\n",
    "print('Tipo da variável idade antes da conversão', type(idade))\n",
    "\n",
    "# Depois da conversão\n",
    "idade = str(idade)\n",
    "print('Tipo da variável idade após a conversão', type(idade))"
   ]
  },
  {
   "cell_type": "markdown",
   "id": "99af229a",
   "metadata": {
    "hidden": true
   },
   "source": [
    "\n",
    "### decimal (float) para string (str) "
   ]
  },
  {
   "cell_type": "code",
   "execution_count": 26,
   "id": "fb6918ba",
   "metadata": {
    "ExecuteTime": {
     "end_time": "2022-10-23T18:21:07.109024Z",
     "start_time": "2022-10-23T18:21:07.101331Z"
    },
    "hidden": true
   },
   "outputs": [
    {
     "name": "stdout",
     "output_type": "stream",
     "text": [
      "Tipo da variável altura antes da conversão <class 'float'>\n",
      "Tipo da variável altura após a conversão <class 'str'>\n"
     ]
    }
   ],
   "source": [
    "# Antes da conversão\n",
    "altura = 1.80\n",
    "print('Tipo da variável altura antes da conversão', type(altura))\n",
    "\n",
    "# Depois da conversão\n",
    "altura = str(altura)\n",
    "print('Tipo da variável altura após a conversão', type(altura))"
   ]
  },
  {
   "cell_type": "markdown",
   "id": "bb1b2901",
   "metadata": {
    "hidden": true
   },
   "source": [
    "\n",
    "### string (str) para  inteiro (int) "
   ]
  },
  {
   "cell_type": "code",
   "execution_count": 27,
   "id": "8cae85b3",
   "metadata": {
    "ExecuteTime": {
     "end_time": "2022-10-23T18:21:10.304325Z",
     "start_time": "2022-10-23T18:21:10.297572Z"
    },
    "hidden": true
   },
   "outputs": [
    {
     "name": "stdout",
     "output_type": "stream",
     "text": [
      "Tipo da variável idade antes da conversão <class 'str'>\n",
      "Tipo da variável idade após a conversão <class 'int'>\n"
     ]
    }
   ],
   "source": [
    "# Antes da conversão\n",
    "idade = '18'\n",
    "print('Tipo da variável idade antes da conversão', type(idade))\n",
    "\n",
    "# Depois da conversão\n",
    "idade = int(idade)\n",
    "print('Tipo da variável idade após a conversão', type(idade))"
   ]
  },
  {
   "cell_type": "markdown",
   "id": "bd723564",
   "metadata": {
    "hidden": true
   },
   "source": [
    "\n",
    "### string (str) para decimal (float)"
   ]
  },
  {
   "cell_type": "code",
   "execution_count": 28,
   "id": "5e47381e",
   "metadata": {
    "ExecuteTime": {
     "end_time": "2022-10-23T18:23:57.241371Z",
     "start_time": "2022-10-23T18:23:57.233884Z"
    },
    "hidden": true
   },
   "outputs": [
    {
     "name": "stdout",
     "output_type": "stream",
     "text": [
      "Tipo da variável altura antes da conversão <class 'str'>\n",
      "Tipo da variável altura após a conversão <class 'float'>\n"
     ]
    }
   ],
   "source": [
    "# Antes da conversão\n",
    "altura = '1.80'\n",
    "print('Tipo da variável altura antes da conversão', type(altura))\n",
    "\n",
    "# Depois da conversão\n",
    "altura = float(altura)\n",
    "print('Tipo da variável altura após a conversão', type(altura))"
   ]
  },
  {
   "cell_type": "markdown",
   "id": "016de55d",
   "metadata": {
    "hidden": true
   },
   "source": [
    "\n",
    "### inteiro (int) para decimal (float)"
   ]
  },
  {
   "cell_type": "code",
   "execution_count": 22,
   "id": "19812e02",
   "metadata": {
    "ExecuteTime": {
     "end_time": "2022-10-23T18:12:05.747333Z",
     "start_time": "2022-10-23T18:12:05.738244Z"
    },
    "hidden": true
   },
   "outputs": [
    {
     "name": "stdout",
     "output_type": "stream",
     "text": [
      "Tipo da variável idade antes da conversão <class 'int'>\n",
      "Tipo da variável idade após da conversão <class 'float'>\n"
     ]
    }
   ],
   "source": [
    "# Antes da conversão\n",
    "idade = 13\n",
    "print('Tipo da variável idade antes da conversão', type(idade))\n",
    "\n",
    "# Depois da conversão\n",
    "idade = float(idade)\n",
    "print('Tipo da variável idade após da conversão', type(idade))"
   ]
  },
  {
   "cell_type": "markdown",
   "id": "74d46047",
   "metadata": {
    "hidden": true
   },
   "source": [
    "\n",
    "### booleano (bool) para inteiro (int)"
   ]
  },
  {
   "cell_type": "code",
   "execution_count": 23,
   "id": "50c1b3d0",
   "metadata": {
    "ExecuteTime": {
     "end_time": "2022-10-23T18:14:08.058727Z",
     "start_time": "2022-10-23T18:14:08.051380Z"
    },
    "hidden": true
   },
   "outputs": [
    {
     "name": "stdout",
     "output_type": "stream",
     "text": [
      "Tipo da variável n1 antes da conversão <class 'bool'>\n",
      "Tipo da variável n1 após da conversão <class 'int'>\n"
     ]
    }
   ],
   "source": [
    "# Antes da conversão\n",
    "n1 = True\n",
    "print('Tipo da variável n1 antes da conversão', type(n1))\n",
    "\n",
    "# Depois da conversão\n",
    "n1 = int(vivo)\n",
    "print('Tipo da variável n1 após da conversão', type(n1))"
   ]
  },
  {
   "cell_type": "markdown",
   "id": "7e934715",
   "metadata": {
    "heading_collapsed": true
   },
   "source": [
    "# 🔶 Outras coisas sobre variáveis\n"
   ]
  },
  {
   "cell_type": "markdown",
   "id": "81eb29eb",
   "metadata": {
    "hidden": true
   },
   "source": [
    "\n",
    "### Sobrescrever variáveis"
   ]
  },
  {
   "cell_type": "markdown",
   "id": "95085d7c",
   "metadata": {
    "hidden": true
   },
   "source": [
    "Sobrescrever uma variável é você criar uma variável com o mesmo nome de uma variável já criada e atribuir a ela um outro valor.\n",
    "\n",
    "Vamos ver um exemplo:"
   ]
  },
  {
   "cell_type": "code",
   "execution_count": 37,
   "id": "427fab14",
   "metadata": {
    "ExecuteTime": {
     "end_time": "2022-10-23T18:35:32.503745Z",
     "start_time": "2022-10-23T18:35:32.496946Z"
    },
    "hidden": true,
    "scrolled": true
   },
   "outputs": [
    {
     "name": "stdout",
     "output_type": "stream",
     "text": [
      "Huan\n"
     ]
    }
   ],
   "source": [
    "nome = 'Audax'\n",
    "nome = 'Huan'\n",
    "\n",
    "print(nome)\n",
    "\n",
    "# Quando eu pedir para o python mostrar qual o valor que a variável (nome) recebeu\n",
    "# ele vai buscar na memória a ultima vez em que essa variável foi criada."
   ]
  },
  {
   "cell_type": "markdown",
   "id": "370fe9b6",
   "metadata": {
    "hidden": true
   },
   "source": [
    "\n",
    "### Muitos valores para múltiplas variáveis"
   ]
  },
  {
   "cell_type": "markdown",
   "id": "31cc8695",
   "metadata": {
    "hidden": true
   },
   "source": [
    "\n",
    "É possivel declarar mais de uma variável apenas em uma linha. No entanto é necessário que o número de variáveis corresponda ao número de valores, caso contrário você receberá um erro."
   ]
  },
  {
   "cell_type": "code",
   "execution_count": 40,
   "id": "f07924fc",
   "metadata": {
    "ExecuteTime": {
     "end_time": "2022-10-23T18:38:38.380471Z",
     "start_time": "2022-10-23T18:38:38.373332Z"
    },
    "hidden": true
   },
   "outputs": [
    {
     "name": "stdout",
     "output_type": "stream",
     "text": [
      "Nome: Huan\n",
      "Idade: 18\n",
      "Altura: 1.8\n"
     ]
    }
   ],
   "source": [
    "nome, idade, altura = 'Huan', 18, 1.80\n",
    "\n",
    "print('Nome:', nome)\n",
    "print('Idade:', idade)\n",
    "print('Altura:', altura)"
   ]
  },
  {
   "cell_type": "markdown",
   "id": "a0ba8b34",
   "metadata": {
    "hidden": true
   },
   "source": [
    "\n",
    "### Um valor para várias variáveis"
   ]
  },
  {
   "cell_type": "markdown",
   "id": "e5754333",
   "metadata": {
    "hidden": true
   },
   "source": [
    "É possivel atribuir para varias variáveis um mesmo valor em uma unica linha."
   ]
  },
  {
   "cell_type": "code",
   "execution_count": 41,
   "id": "07fa5202",
   "metadata": {
    "ExecuteTime": {
     "end_time": "2022-10-23T18:40:35.123607Z",
     "start_time": "2022-10-23T18:40:35.117361Z"
    },
    "hidden": true
   },
   "outputs": [
    {
     "name": "stdout",
     "output_type": "stream",
     "text": [
      "0\n",
      "0\n",
      "0\n"
     ]
    }
   ],
   "source": [
    "x = y = z = 0\n",
    "\n",
    "print(x)\n",
    "print(y)\n",
    "print(z)"
   ]
  },
  {
   "cell_type": "markdown",
   "id": "dd8935ae",
   "metadata": {
    "hidden": true
   },
   "source": [
    "\n",
    "### Descompactar uma coleção"
   ]
  },
  {
   "cell_type": "markdown",
   "id": "a4566c25",
   "metadata": {
    "hidden": true
   },
   "source": [
    "Se você tem uma coleção de valores em algum tipo de array. O Python permite que você extraia os valores em variáveis. Isso é chamado de descompactação."
   ]
  },
  {
   "cell_type": "code",
   "execution_count": 42,
   "id": "cf139a19",
   "metadata": {
    "ExecuteTime": {
     "end_time": "2022-10-23T18:41:40.480868Z",
     "start_time": "2022-10-23T18:41:40.473223Z"
    },
    "hidden": true
   },
   "outputs": [
    {
     "name": "stdout",
     "output_type": "stream",
     "text": [
      "uva\n",
      "pera\n",
      "morango\n"
     ]
    }
   ],
   "source": [
    "frutas = ['uva', 'pera', 'morango']\n",
    "\n",
    "f1, f2, f3 = frutas\n",
    "\n",
    "print(f1)\n",
    "print(f2)\n",
    "print(f3)"
   ]
  },
  {
   "cell_type": "markdown",
   "id": "6b25f77d",
   "metadata": {
    "heading_collapsed": true
   },
   "source": [
    "# 🔶 Erros comuns relacionados ao tipo da variável"
   ]
  },
  {
   "cell_type": "markdown",
   "id": "26934924",
   "metadata": {
    "hidden": true
   },
   "source": [
    "Entre os erros mais comuns que acontecem principalmente com quem está iniciando sua jornada com a linguagem Python estão os famosos **TypeError**!<br>\n",
    "\n",
    "Este tipo de erro está relacionado a tipagem errada de uma variável. Além disso, também pode representar uma operação incompatível, como tentar fazer uma operação matemática com variáveis de tipo incompatíveis. Por exemplo, str e int.<br>\n"
   ]
  },
  {
   "cell_type": "code",
   "execution_count": 34,
   "id": "4fdf00bf",
   "metadata": {
    "ExecuteTime": {
     "end_time": "2022-10-23T18:33:39.822575Z",
     "start_time": "2022-10-23T18:33:39.777583Z"
    },
    "hidden": true
   },
   "outputs": [
    {
     "ename": "ValueError",
     "evalue": "invalid literal for int() with base 10: 'Audax'",
     "output_type": "error",
     "traceback": [
      "\u001b[0;31m---------------------------------------------------------------------------\u001b[0m",
      "\u001b[0;31mValueError\u001b[0m                                Traceback (most recent call last)",
      "Input \u001b[0;32mIn [34]\u001b[0m, in \u001b[0;36m<cell line: 3>\u001b[0;34m()\u001b[0m\n\u001b[1;32m      1\u001b[0m \u001b[38;5;66;03m# Tentar transformar algum caractere diferente de um numero em numero inteiro ou decimal é um tipo de tipagem errada.\u001b[39;00m\n\u001b[1;32m      2\u001b[0m nome \u001b[38;5;241m=\u001b[39m \u001b[38;5;124m'\u001b[39m\u001b[38;5;124mAudax\u001b[39m\u001b[38;5;124m'\u001b[39m\n\u001b[0;32m----> 3\u001b[0m nome \u001b[38;5;241m=\u001b[39m \u001b[38;5;28;43mint\u001b[39;49m\u001b[43m(\u001b[49m\u001b[43mnome\u001b[49m\u001b[43m)\u001b[49m\n",
      "\u001b[0;31mValueError\u001b[0m: invalid literal for int() with base 10: 'Audax'"
     ]
    }
   ],
   "source": [
    "# Tentar transformar algum caractere diferente de um numero em numero inteiro ou decimal é um tipo de tipagem errada.\n",
    "nome = 'Audax'\n",
    "nome = int(nome)"
   ]
  },
  {
   "cell_type": "code",
   "execution_count": 35,
   "id": "fed56fb9",
   "metadata": {
    "ExecuteTime": {
     "end_time": "2022-10-23T18:33:45.553322Z",
     "start_time": "2022-10-23T18:33:45.408430Z"
    },
    "hidden": true
   },
   "outputs": [
    {
     "ename": "TypeError",
     "evalue": "can only concatenate str (not \"int\") to str",
     "output_type": "error",
     "traceback": [
      "\u001b[0;31m---------------------------------------------------------------------------\u001b[0m",
      "\u001b[0;31mTypeError\u001b[0m                                 Traceback (most recent call last)",
      "Input \u001b[0;32mIn [35]\u001b[0m, in \u001b[0;36m<cell line: 5>\u001b[0;34m()\u001b[0m\n\u001b[1;32m      2\u001b[0m n1 \u001b[38;5;241m=\u001b[39m \u001b[38;5;124m'\u001b[39m\u001b[38;5;124m1\u001b[39m\u001b[38;5;124m'\u001b[39m\n\u001b[1;32m      3\u001b[0m n2 \u001b[38;5;241m=\u001b[39m \u001b[38;5;241m2\u001b[39m\n\u001b[0;32m----> 5\u001b[0m soma \u001b[38;5;241m=\u001b[39m \u001b[43mn1\u001b[49m\u001b[43m \u001b[49m\u001b[38;5;241;43m+\u001b[39;49m\u001b[43m \u001b[49m\u001b[43mn2\u001b[49m\n\u001b[1;32m      6\u001b[0m \u001b[38;5;28mprint\u001b[39m(soma)\n",
      "\u001b[0;31mTypeError\u001b[0m: can only concatenate str (not \"int\") to str"
     ]
    }
   ],
   "source": [
    "# Tentar fazer alguma operação com numeros inteiros ou decimal e str\n",
    "n1 = '1'\n",
    "n2 = 2\n",
    "\n",
    "soma = n1 + n2\n",
    "print(soma)"
   ]
  }
 ],
 "metadata": {
  "kernelspec": {
   "display_name": "Python 3.11.0 ('venv-estudo': venv)",
   "language": "python",
   "name": "python3"
  },
  "language_info": {
   "codemirror_mode": {
    "name": "ipython",
    "version": 3
   },
   "file_extension": ".py",
   "mimetype": "text/x-python",
   "name": "python",
   "nbconvert_exporter": "python",
   "pygments_lexer": "ipython3",
   "version": "3.11.0"
  },
  "varInspector": {
   "cols": {
    "lenName": 16,
    "lenType": 16,
    "lenVar": 40
   },
   "kernels_config": {
    "python": {
     "delete_cmd_postfix": "",
     "delete_cmd_prefix": "del ",
     "library": "var_list.py",
     "varRefreshCmd": "print(var_dic_list())"
    },
    "r": {
     "delete_cmd_postfix": ") ",
     "delete_cmd_prefix": "rm(",
     "library": "var_list.r",
     "varRefreshCmd": "cat(var_dic_list()) "
    }
   },
   "types_to_exclude": [
    "module",
    "function",
    "builtin_function_or_method",
    "instance",
    "_Feature"
   ],
   "window_display": false
  },
  "vscode": {
   "interpreter": {
    "hash": "adb252e29be1f305dac8c96945518dcfb8c26ce2c3d6fc57eaedfa100d62fa3c"
   }
  }
 },
 "nbformat": 4,
 "nbformat_minor": 5
}
