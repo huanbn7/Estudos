{
 "cells": [
  {
   "cell_type": "code",
   "execution_count": 1,
   "id": "3c4ef560",
   "metadata": {},
   "outputs": [
    {
     "name": "stdout",
     "output_type": "stream",
     "text": [
      "-=-=-=-=-=-=-=-=-=-=\n",
      "    Gerador de PA\n",
      "-=-=-=-=-=-=-=-=-=-=\n",
      "\n",
      "Digite o 1° termo: 0\n",
      "Digite a razão: 3\n",
      "\n",
      "Os primeiros 10 termos dessa PA são: 0 ⇾ 3 ⇾ 6 ⇾ 9 ⇾ 12 ⇾ 15 ⇾ 18 ⇾ 21 ⇾ 24 ⇾ 27 ⇾  FIM\n"
     ]
    }
   ],
   "source": [
    "print('-='*10)\n",
    "print('    Gerador de PA')\n",
    "print('-='*10)\n",
    "\n",
    "print()\n",
    "t = int(input('Digite o 1° termo: ')) \n",
    "r = int(input('Digite a razão: '))\n",
    "\n",
    "a = 1\n",
    "x = ''\n",
    "\n",
    "print()\n",
    "while a<=10:\n",
    "    x = x + f'{t} ⇾ '\n",
    "    t = t+r\n",
    "    a = a+1\n",
    "\n",
    "print(f'Os primeiros 10 termos dessa PA são: {x} FIM')"
   ]
  }
 ],
 "metadata": {
  "kernelspec": {
   "display_name": "Python 3 (ipykernel)",
   "language": "python",
   "name": "python3"
  },
  "language_info": {
   "codemirror_mode": {
    "name": "ipython",
    "version": 3
   },
   "file_extension": ".py",
   "mimetype": "text/x-python",
   "name": "python",
   "nbconvert_exporter": "python",
   "pygments_lexer": "ipython3",
   "version": "3.9.7"
  }
 },
 "nbformat": 4,
 "nbformat_minor": 5
}
