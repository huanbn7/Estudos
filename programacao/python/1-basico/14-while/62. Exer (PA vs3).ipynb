{
 "cells": [
  {
   "cell_type": "markdown",
   "id": "71d2f4fa",
   "metadata": {},
   "source": [
    "Desenvolver um programa que funcione como o ex.62, porém ao final perguntar se o usuário quer saber mais alguns termos, se 0 fechar o prog e mostrar quantos termos foram exibidos."
   ]
  },
  {
   "cell_type": "code",
   "execution_count": null,
   "id": "a2b862b0",
   "metadata": {},
   "outputs": [],
   "source": [
    "t = int(input('Digite o 1° termo da PA: '))\n",
    "r = int(input('Digite a razão da PA: '))\n",
    "\n",
    "\n",
    "a = 11\n",
    "s = 10\n",
    "\n",
    "print()\n",
    "while a > 1:\n",
    "    print(f'{t} > ' , end ='')\n",
    "    t = t + r\n",
    "    a = a - 1\n",
    "    if a == 1:\n",
    "        print('PAUSA')\n",
    "        print()\n",
    "        a = int(input('Quanto termos á mais você quer ver? '))\n",
    "        s = s + a\n",
    "        a = 1 + a\n",
    "        if a != 1:\n",
    "            print('Os termos da PA são: ', end = '')\n",
    "        \n",
    "    \n",
    "print()\n",
    "print(f'Progressão finalizada com {s} termos mostrados.')"
   ]
  },
  {
   "cell_type": "code",
   "execution_count": null,
   "id": "d6b64afa",
   "metadata": {},
   "outputs": [],
   "source": [
    "t = int(input('Digite o 1° termo da PA: '))\n",
    "r = int(input('Digite a razão da PA: '))\n",
    "\n",
    "a = 10\n",
    "s = 0\n",
    "x = ''\n",
    "\n",
    "\n",
    "print()\n",
    "while a != 0:\n",
    "    while a > 0:\n",
    "        x = x + f'{t} > '\n",
    "        t = t + r\n",
    "        a = a - 1\n",
    "    print(f'Os termos da PA são: {x} FIM')\n",
    "    a = int(input('\\nQuantos termos á mais você quer você? '))\n",
    "    print()\n",
    "    s = s + a\n",
    "    x = ''\n",
    "    \n",
    "    \n",
    "print(f'Progressão finalizada com {s} termos mostrados.')       "
   ]
  }
 ],
 "metadata": {
  "kernelspec": {
   "display_name": "Python 3 (ipykernel)",
   "language": "python",
   "name": "python3"
  },
  "language_info": {
   "codemirror_mode": {
    "name": "ipython",
    "version": 3
   },
   "file_extension": ".py",
   "mimetype": "text/x-python",
   "name": "python",
   "nbconvert_exporter": "python",
   "pygments_lexer": "ipython3",
   "version": "3.9.7"
  }
 },
 "nbformat": 4,
 "nbformat_minor": 5
}
