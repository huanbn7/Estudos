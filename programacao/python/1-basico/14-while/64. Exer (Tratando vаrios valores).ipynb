{
 "cells": [
  {
   "cell_type": "markdown",
   "id": "a09768e7",
   "metadata": {},
   "source": [
    "Exercício Python 064: Crie um programa que leia vários números inteiros pelo teclado. O programa só vai parar quando o usuário digitar o valor 999, que é a condição de parada. No final, mostre quantos números foram digitados e qual foi a soma entre eles (desconsiderando o flag)."
   ]
  },
  {
   "cell_type": "code",
   "execution_count": 20,
   "id": "e53c6cf2",
   "metadata": {},
   "outputs": [
    {
     "name": "stdout",
     "output_type": "stream",
     "text": [
      "Digite um valor [99 para parar]: 2\n",
      "Digite um valor [99 para parar]: 3\n",
      "Digite um valor [99 para parar]: 99\n",
      "\n",
      "Você digitou 2 números e a soma entre eles é igual a 5.\n"
     ]
    }
   ],
   "source": [
    "n = 1\n",
    "\n",
    "s = 0\n",
    "c = 0\n",
    "\n",
    "while n != 99:\n",
    "    \n",
    "    n = int(input('Digite um valor [99 para parar]: '))\n",
    "    \n",
    "    if n!= 99:\n",
    "        s = s + n\n",
    "        c = c + 1\n",
    "    \n",
    "print(f'\\nVocê digitou {c} números e a soma entre eles é igual a {s}.')"
   ]
  }
 ],
 "metadata": {
  "kernelspec": {
   "display_name": "Python 3 (ipykernel)",
   "language": "python",
   "name": "python3"
  },
  "language_info": {
   "codemirror_mode": {
    "name": "ipython",
    "version": 3
   },
   "file_extension": ".py",
   "mimetype": "text/x-python",
   "name": "python",
   "nbconvert_exporter": "python",
   "pygments_lexer": "ipython3",
   "version": "3.9.7"
  }
 },
 "nbformat": 4,
 "nbformat_minor": 5
}
