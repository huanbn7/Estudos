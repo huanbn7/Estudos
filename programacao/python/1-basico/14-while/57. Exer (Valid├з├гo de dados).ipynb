{
 "cells": [
  {
   "cell_type": "markdown",
   "id": "bcf6ddb2",
   "metadata": {},
   "source": [
    "57) Faça um programa que leia um sexo de um pessoa, mas só aceite os valores \"m\" ou \"f\". Caso esteja errado peça a digitação novamente até ter um valor correto.\n"
   ]
  },
  {
   "cell_type": "code",
   "execution_count": 7,
   "id": "41b6d456",
   "metadata": {},
   "outputs": [
    {
     "name": "stdout",
     "output_type": "stream",
     "text": [
      "Digite seu sexo [M/F]: 12\n",
      "Sexo inválido, digite novamente: 23\n",
      "Sexo inválido, digite novamente: 28\n",
      "Sexo inválido, digite novamente: m\n",
      "\n",
      "Sexo M Registrado com sucesso\n"
     ]
    }
   ],
   "source": [
    "sexo = input(\"Digite seu sexo [M/F]: \").strip()[0]\n",
    "\n",
    "while sexo not in 'MmFf':\n",
    "    sexo = input(\"Sexo inválido, digite novamente: \").upper()\n",
    "\n",
    "print(f\"\\nSexo {sexo.upper()} Registrado com sucesso\")\n"
   ]
  }
 ],
 "metadata": {
  "kernelspec": {
   "display_name": "Python 3 (ipykernel)",
   "language": "python",
   "name": "python3"
  },
  "language_info": {
   "codemirror_mode": {
    "name": "ipython",
    "version": 3
   },
   "file_extension": ".py",
   "mimetype": "text/x-python",
   "name": "python",
   "nbconvert_exporter": "python",
   "pygments_lexer": "ipython3",
   "version": "3.9.7"
  }
 },
 "nbformat": 4,
 "nbformat_minor": 5
}
