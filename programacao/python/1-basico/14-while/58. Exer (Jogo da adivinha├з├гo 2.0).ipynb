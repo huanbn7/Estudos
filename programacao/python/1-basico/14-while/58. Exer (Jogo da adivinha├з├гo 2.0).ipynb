{
 "cells": [
  {
   "cell_type": "markdown",
   "id": "b6a76a11",
   "metadata": {},
   "source": [
    "criar um programa que pense em um numero de 0 á 10 e pergunte o palpite do usuário, compare os dois e mostre se o usuário adivinhou o número ou não\n"
   ]
  },
  {
   "cell_type": "code",
   "execution_count": null,
   "id": "1ab8d492",
   "metadata": {},
   "outputs": [
    {
     "name": "stdout",
     "output_type": "stream",
     "text": [
      "Irei escolher um número de 0 á 10 e você tenta acertar\n",
      "\n"
     ]
    }
   ],
   "source": [
    "from random import *\n",
    "\n",
    "print(\"Irei escolher um número de 0 á 10 e você tenta acertar\")\n",
    "\n",
    "print()\n",
    "\n",
    "\n",
    "while True:\n",
    "    \n",
    "    jogador = input(\"Qual é o seu palpite? \")\n",
    "    while jogador.isdigit() is False:\n",
    "        jogador = input(\"\\nERRO. Digite um numero: \")   \n",
    "    \n",
    "    pc = randint(0,10)\n",
    "    print(pc)\n",
    "    jogador = int(jogador) \n",
    "    \n",
    "    if pc == jogador:\n",
    "        break\n",
    "    \n",
    "    print('você errou, tente novamente\\n')\n",
    "    \n",
    "    \n",
    "\n",
    "print(\"Parabéns você acertou!\")\n",
    "\n"
   ]
  }
 ],
 "metadata": {
  "kernelspec": {
   "display_name": "Python 3 (ipykernel)",
   "language": "python",
   "name": "python3"
  },
  "language_info": {
   "codemirror_mode": {
    "name": "ipython",
    "version": 3
   },
   "file_extension": ".py",
   "mimetype": "text/x-python",
   "name": "python",
   "nbconvert_exporter": "python",
   "pygments_lexer": "ipython3",
   "version": "3.9.7"
  }
 },
 "nbformat": 4,
 "nbformat_minor": 5
}
