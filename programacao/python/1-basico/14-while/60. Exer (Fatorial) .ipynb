{
 "cells": [
  {
   "cell_type": "code",
   "execution_count": 25,
   "id": "308b3bbd",
   "metadata": {},
   "outputs": [
    {
     "name": "stdout",
     "output_type": "stream",
     "text": [
      "Digite um numero para calcular seu fatorial: 3\n",
      "O fatorial = 3 X 2 X 1 = 6  \n"
     ]
    }
   ],
   "source": [
    "n = int(input(\"Digite um numero para calcular seu fatorial: \"))\n",
    "p = n\n",
    "x = ''\n",
    "\n",
    "while n >1:\n",
    "    x = x + f'{n} X '\n",
    "    p = p *(n-1)\n",
    "    n-=1\n",
    "\n",
    "print(f\"O fatorial = {x}{n} = {p}  \")"
   ]
  }
 ],
 "metadata": {
  "kernelspec": {
   "display_name": "Python 3 (ipykernel)",
   "language": "python",
   "name": "python3"
  },
  "language_info": {
   "codemirror_mode": {
    "name": "ipython",
    "version": 3
   },
   "file_extension": ".py",
   "mimetype": "text/x-python",
   "name": "python",
   "nbconvert_exporter": "python",
   "pygments_lexer": "ipython3",
   "version": "3.9.7"
  }
 },
 "nbformat": 4,
 "nbformat_minor": 5
}
