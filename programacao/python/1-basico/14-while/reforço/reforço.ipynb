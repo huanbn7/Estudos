{
 "cells": [
  {
   "cell_type": "markdown",
   "id": "f94c5219",
   "metadata": {},
   "source": [
    "# 1) Faça um programa que peça uma nota, entre zero e dez. Mostre uma mensagem caso o valor seja inválido e continue pedindo até que o usuário informe um valor válido."
   ]
  },
  {
   "cell_type": "code",
   "execution_count": null,
   "id": "87a51507",
   "metadata": {
    "collapsed": true,
    "scrolled": true
   },
   "outputs": [],
   "source": [
    "num = int(input('Digite um numero de 0 e 10: '))\n",
    "\n",
    "while num > 10 or num < 0:\n",
    "    num = int(input('ERRO. Digite um numero de 0 e 10: '))\n",
    "\n",
    "print(f'\\nNúmero \\033[1;31m{num}\\033[m armazenado')"
   ]
  },
  {
   "cell_type": "markdown",
   "id": "383be77f",
   "metadata": {},
   "source": [
    "# 2) Faça um programa que leia um nome de usuário e a sua senha e não aceite a senha igual ao nome do usuário, mostrando uma mensagem de erro e voltando a pedir as informações."
   ]
  },
  {
   "cell_type": "code",
   "execution_count": null,
   "id": "47120957",
   "metadata": {
    "scrolled": true
   },
   "outputs": [],
   "source": [
    "user = input('Crie um nome de usuário: ').casefold()\n",
    "senha = input('Crie uma senha: ').casefold()\n",
    "print()\n",
    "\n",
    "while senha == user:\n",
    "    senha = input('ERRO! Crie uma senha diferente do nome de usuario: ')\n",
    "\n",
    "print('\\nConta criada, parabéns!')\n"
   ]
  },
  {
   "cell_type": "markdown",
   "id": "8ad34598",
   "metadata": {},
   "source": [
    "# 3) Faça um programa que leia e valide as seguintes informações:\n",
    "\n",
    "- nome: maior que 3 caracteres\n",
    "- Idade: entre 17 e 60 \n",
    "- Salário: maior que zero \n",
    "- Sexo: 'f' ou 'm' \n",
    "- Estado Civil: 's', 'c', 'v', 'd'"
   ]
  },
  {
   "cell_type": "code",
   "execution_count": 60,
   "id": "13fb59b7",
   "metadata": {},
   "outputs": [
    {
     "name": "stdout",
     "output_type": "stream",
     "text": [
      "\n",
      "✔️ Mais de 3 caracteres\n",
      "   - CRIE UM USUÁRIO: Huan\n",
      "\n",
      "✔️ De 17 a 60 anos\n",
      "   - DIGITE SUA IDADE: 16\n",
      "   - ERRO. DIGITE UMA IDADE DE 17 A 60 ANOS: hgh\n",
      "   - ERRO. DIGITE SUA IDADE EM NUMEROS: fdf\n",
      "   - ERRO. DIGITE SUA IDADE EM NUMEROS: 61\n",
      "   - ERRO. DIGITE UMA IDADE DE 17 A 60 ANOS: dfdf\n",
      "   - ERRO. DIGITE SUA IDADE EM NUMEROS: 17\n",
      "\n",
      "✔️ Maior que 0 reais\n",
      "   - INFORME SEU SALÁRIO: R$0\n",
      "   - ERRO. DIGITE UM SALÁRIO MAIOR QUE 0: R$2\n",
      "\n",
      "✔️ [1] Masculino ou [2] Feminino \n",
      "   - INFORME SEU SEXO, 1 OU 2: 1\n",
      "\n",
      "✔️ [1] Solteiro , [2] Casado ou [3] Viuvo\n",
      "   - INFORME SEU ESTADO CIVIL. 1 , 2 OU 3: 1\n"
     ]
    }
   ],
   "source": [
    "while True:\n",
    "    \n",
    "    user = input('''\\n✔️ Mais de 3 caracteres\n",
    "   - CRIE UM USUÁRIO: ''').strip()\n",
    "    while len(user)<=3:\n",
    "        user = input('   - ERRO. O USUÁRIO PRECISA TER MAIS DE 3 CARACTERES: ')\n",
    "        \n",
    "        \n",
    "    idade = input('''\\n✔️ De 17 a 60 anos\n",
    "   - DIGITE SUA IDADE: ''') \n",
    "    while idade.isdigit() is False:\n",
    "        idade = input('   - ERRO. DIGITE SUA IDADE EM NUMEROS: ')\n",
    "    idade = int(idade)\n",
    "    while idade < 17 or idade > 60:\n",
    "        idade = input('   - ERRO. DIGITE UMA IDADE DE 17 A 60 ANOS: ')\n",
    "        while idade.isdigit() is False:\n",
    "            idade = input('   - ERRO. DIGITE SUA IDADE EM NUMEROS: ')\n",
    "        idade = int(idade)\n",
    "        \n",
    "            \n",
    "    salario = int(input('''\\n✔️ Maior que 0 reais\n",
    "   - INFORME SEU SALÁRIO: R$'''))                                                  \n",
    "    while salario <= 0:\n",
    "        salario = int(input('   - ERRO. DIGITE UM SALÁRIO MAIOR QUE 0: R$'))  \n",
    "\n",
    "    \n",
    "    sexo = input('''\\n✔️ [1] Masculino ou [2] Feminino \n",
    "   - INFORME SEU SEXO, 1 OU 2: ''').strip()\n",
    "    while sexo not in '12' or len(sexo) > 1:\n",
    "        sexo = input('   - ERRO. DIGITE [1] MASCULINO OU [2] FEMININO : ').strip()\n",
    "     \n",
    "    \n",
    "    estadocivil = input('''\\n✔️ [1] Solteiro , [2] Casado ou [3] Viuvo\n",
    "   - INFORME SEU ESTADO CIVIL. 1 , 2 OU 3: ''').strip()\n",
    "    while estadocivil not in '123' or len(estadocivil) > 1:\n",
    "        estadocivil = input('   - ERRO. DIGITE [1] SOLTEIRO , [2] CASADO OU [3] VIUVO: ').strip()    \n",
    "    \n",
    "    \n",
    "    break\n",
    "        \n",
    "    "
   ]
  }
 ],
 "metadata": {
  "kernelspec": {
   "display_name": "Python 3 (ipykernel)",
   "language": "python",
   "name": "python3"
  },
  "language_info": {
   "codemirror_mode": {
    "name": "ipython",
    "version": 3
   },
   "file_extension": ".py",
   "mimetype": "text/x-python",
   "name": "python",
   "nbconvert_exporter": "python",
   "pygments_lexer": "ipython3",
   "version": "3.9.7"
  }
 },
 "nbformat": 4,
 "nbformat_minor": 5
}
