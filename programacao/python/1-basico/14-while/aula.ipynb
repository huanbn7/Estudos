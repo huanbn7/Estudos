{
 "cells": [
  {
   "cell_type": "markdown",
   "id": "9881c3f1",
   "metadata": {},
   "source": [
    "## Estrutura de repetição While"
   ]
  },
  {
   "cell_type": "code",
   "execution_count": 19,
   "id": "c23389d5",
   "metadata": {
    "collapsed": true
   },
   "outputs": [
    {
     "name": "stdout",
     "output_type": "stream",
     "text": [
      "1\n",
      "2\n",
      "3\n",
      "4\n",
      "5\n"
     ]
    }
   ],
   "source": [
    "#A estutura While serve para executar um comando num número desconhecido de vezes, enquanto WHILE for verdade.\n",
    "#Quando o WHILE é falseado o comando para de rodar\n",
    "\n",
    "\n",
    "#Ex.1: Imprima n enquanto n for menor que 6, n=1\n",
    "\n",
    "n = 1\n",
    "while n < 6:   #Enquanto \"n\" for menor que 6\n",
    "    print(n)   #O comando print vai ser executado\n",
    "    n = n + 1  #Após \"n\" for imprimido, \"n\" vai ser somado á 1 \n",
    "    \n",
    "               #E todo processo é repetido até \"n\" ser igual 6 e assim falsear o comando WHILE"
   ]
  },
  {
   "cell_type": "code",
   "execution_count": null,
   "id": "3b53bae1",
   "metadata": {},
   "outputs": [],
   "source": [
    "#Ex.2: Mostrar o quadrado dos numeros de 1 á 10\n",
    "\n",
    "n = 1\n",
    "while n <=10:  #Enquanto \"n\" for menor ou igual a 10\n",
    "  print(n)     #O comando print vai ser executado\n",
    "  n += 1       #Após \"n\" for imprimido, \"n\" vai ser somado á 1 \n",
    "    \n",
    "               #E todo processo é repetido até \"n\" ser maior que 10 e assim falsear o comando WHILE"
   ]
  },
  {
   "cell_type": "code",
   "execution_count": null,
   "id": "9aea4966",
   "metadata": {},
   "outputs": [],
   "source": [
    "#Ex.3: Fazer uma contagem regressiva de 10 á 1 e imprimir a palavra (lançar!)\n",
    "n = 10\n",
    "\n",
    "while n > 0:     #Enquanto \"n\" for maior do que 0\n",
    "  print(n)       #O comando print vai ser executado\n",
    "  n -= 1         #Após \"n\" for imprimido, de n' vai ser subtraido 1\n",
    "                 \n",
    "                 #E todo processo é repetido até \"n\" ser igual á 0 e assim falsear o comando WHILE\n",
    "\n",
    "print(\"lançar!\")"
   ]
  },
  {
   "cell_type": "code",
   "execution_count": null,
   "id": "ae10fb48",
   "metadata": {},
   "outputs": [],
   "source": [
    "#Ex.4: De um intervalo a e b, digite quantos números são pares e quantos são ímpares\n",
    "\n",
    "a = int(input(\"Digite um valor: \"))\n",
    "b = int(input(\"Digite um valor maior que o primeiro: \"))\n",
    "\n",
    "pa = 0\n",
    "im = 0\n",
    "\n",
    "while a <= b:        #Enquanto 'a' for menor ou igual a 'b', O comando WHILE vai rodar.   \n",
    "    \n",
    "    if a % 2 == 0:   #Se a for divido por 2 e sobrar 0\n",
    "        pa = pa + 1  #O pc entende que 'a' é um numero PAR e começa a comtabilizar os PARES\n",
    "\n",
    "    else:            #Se a for divido por 2 e sobrar 1\n",
    "        im = im + 1  #O pc entende que 'a' é um numero ÍMPAR e começa a comtabilizar os ÍMPARES\n",
    "\n",
    "    a = a + 1        #Depois de passar por IF e o ELSE 'a' vai ser somado a 1 \n",
    "\n",
    "                     #E todo processo é repetido até 'a' ser maior do que 'b' e falsear o while. \n",
    "\n",
    "print(f\"De a á b a quantidade de números pares é {pa} e a quantidade de números ímpares é {im}\")"
   ]
  }
 ],
 "metadata": {
  "kernelspec": {
   "display_name": "Python 3 (ipykernel)",
   "language": "python",
   "name": "python3"
  },
  "language_info": {
   "codemirror_mode": {
    "name": "ipython",
    "version": 3
   },
   "file_extension": ".py",
   "mimetype": "text/x-python",
   "name": "python",
   "nbconvert_exporter": "python",
   "pygments_lexer": "ipython3",
   "version": "3.10.4"
  }
 },
 "nbformat": 4,
 "nbformat_minor": 5
}
