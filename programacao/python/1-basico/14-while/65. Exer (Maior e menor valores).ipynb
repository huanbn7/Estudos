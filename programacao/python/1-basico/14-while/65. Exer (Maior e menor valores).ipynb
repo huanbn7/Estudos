{
 "cells": [
  {
   "cell_type": "markdown",
   "id": "5891dee7",
   "metadata": {},
   "source": [
    "Exercício Python 065: Crie um programa que leia vários números inteiros pelo teclado. No final da execução, mostre a média entre todos os valores e qual foi o maior e o menor valores lidos. O programa deve perguntar ao usuário se ele quer ou não continuar a digitar valores."
   ]
  },
  {
   "cell_type": "code",
   "execution_count": 23,
   "id": "37971bcc",
   "metadata": {},
   "outputs": [
    {
     "name": "stdout",
     "output_type": "stream",
     "text": [
      "Digite um número: 2\n",
      "Quer continuar [S/N]? s\n",
      "\n",
      "Digite um número: 6\n",
      "Quer continuar [S/N]? s\n",
      "\n",
      "Digite um número: 105\n",
      "Quer continuar [S/N]? s\n",
      "\n",
      "Digite um número: -120\n",
      "Quer continuar [S/N]? n\n",
      "\n",
      "Você digitou 4 números e a média é -1.75\n",
      "O maior valor é 105 e o menor valor é -120\n"
     ]
    }
   ],
   "source": [
    "p = 's'\n",
    "s = 0\n",
    "c = 0\n",
    "n = []\n",
    "\n",
    "while p == 's':\n",
    "    n.append(int(input(\"Digite um número: \")))\n",
    "    p = input('Quer continuar [S/N]? ').casefold().strip()\n",
    "    print()\n",
    "    c = c+1\n",
    "\n",
    "print(f'Você digitou {c} números e a média é {sum(n)/c}')  \n",
    "print(f'O maior valor é {max(n)} e o menor valor é {min(n)}')\n",
    "    \n",
    "    \n",
    "\n",
    "        \n",
    "    \n",
    "    \n",
    "    \n",
    "    "
   ]
  }
 ],
 "metadata": {
  "kernelspec": {
   "display_name": "Python 3 (ipykernel)",
   "language": "python",
   "name": "python3"
  },
  "language_info": {
   "codemirror_mode": {
    "name": "ipython",
    "version": 3
   },
   "file_extension": ".py",
   "mimetype": "text/x-python",
   "name": "python",
   "nbconvert_exporter": "python",
   "pygments_lexer": "ipython3",
   "version": "3.9.7"
  }
 },
 "nbformat": 4,
 "nbformat_minor": 5
}
