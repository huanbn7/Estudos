{
 "cells": [
  {
   "cell_type": "markdown",
   "id": "9611c36a",
   "metadata": {},
   "source": [
    "# Compreensao de lista"
   ]
  },
  {
   "cell_type": "code",
   "execution_count": null,
   "id": "3ce052e0",
   "metadata": {},
   "outputs": [],
   "source": [
    "# Ultilizar a compreensao de lista otimiza o codigo\n",
    "# Serve para criar uma nova lista sem escrever muitas linhas \n",
    "# Ex.:\n",
    "lista = [b for b in range(10)] "
   ]
  },
  {
   "cell_type": "code",
   "execution_count": null,
   "id": "d79b9b2d",
   "metadata": {},
   "outputs": [],
   "source": [
    "# E possivel criar uma copia de uma lista iterando sobre a lista ja existente\n",
    "# Ex.:\n",
    "lista = [b for b in lista] "
   ]
  },
  {
   "cell_type": "code",
   "execution_count": null,
   "id": "7827bca6",
   "metadata": {},
   "outputs": [],
   "source": [
    "# E possivel usar mais de um for dentro da lista\n",
    "# Ex.:\n",
    "lista = [(v,v2) for v in range(1,3) for v2 in range(2)] "
   ]
  },
  {
   "cell_type": "code",
   "execution_count": null,
   "id": "67fadc41",
   "metadata": {},
   "outputs": [],
   "source": [
    "# Ultilizando if e for\n",
    "# Ex.:\n",
    "lista = [x for x in range(10) if x%2==0] -> [0, 2, 4, 6, 8]"
   ]
  },
  {
   "cell_type": "code",
   "execution_count": null,
   "id": "6662c1bb",
   "metadata": {},
   "outputs": [],
   "source": [
    "# Ultilizando if, else e for\n",
    "#Ex.:\n",
    "lista = [x if x%2==0 else 'impar' for x in range(4)] -> [0, 'impar', 2, 'impar']\n",
    "\n",
    "# Para usar if e else e necessario colocar as condicionais antes do for "
   ]
  },
  {
   "cell_type": "code",
   "execution_count": null,
   "id": "9cff39da",
   "metadata": {},
   "outputs": [],
   "source": [
    "# Ultilizando 2 if, else e for\n",
    "lista = [x if x%2==0 and x%4==0 else 'i' for x in range(9)] -> [0, 'i', 'i', 'i', 4, 'i', 'i', 'i', 8]\n",
    "\n",
    "# Para ultilizar 2 if dentro de uma compreensao de lista e necessario usar o and"
   ]
  }
 ],
 "metadata": {
  "kernelspec": {
   "display_name": "Python 3 (ipykernel)",
   "language": "python",
   "name": "python3"
  },
  "language_info": {
   "codemirror_mode": {
    "name": "ipython",
    "version": 3
   },
   "file_extension": ".py",
   "mimetype": "text/x-python",
   "name": "python",
   "nbconvert_exporter": "python",
   "pygments_lexer": "ipython3",
   "version": "3.10.4"
  }
 },
 "nbformat": 4,
 "nbformat_minor": 5
}
