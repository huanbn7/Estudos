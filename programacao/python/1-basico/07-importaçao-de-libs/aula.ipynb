{
 "cells": [
  {
   "cell_type": "markdown",
   "id": "39e2394b",
   "metadata": {},
   "source": [
    "## Importação de bibliotecas"
   ]
  },
  {
   "cell_type": "markdown",
   "id": "dda55df3",
   "metadata": {},
   "source": [
    "#### ▶ Importando biblioteca"
   ]
  },
  {
   "cell_type": "code",
   "execution_count": 1,
   "id": "c108751a",
   "metadata": {},
   "outputs": [
    {
     "name": "stdout",
     "output_type": "stream",
     "text": [
      "3.141592653589793\n"
     ]
    }
   ],
   "source": [
    "# As bibliotecas servem para importatr funções, métodos e muita coisa que não são nativas do python.\n",
    "# Ex.:\n",
    "import math # acabei de importar uma biblioteca  \n",
    "import numpy # acabei de importar outra\n",
    "\n",
    "# Antes de usar cada função da biblioteca eu preciso colocar o nome da biblioteca antes da função\n",
    "# Ex:\n",
    "a = math.pi # acabei de usar a função PI e precisei colocar o nome da biblioteca antes\n",
    "print(a)"
   ]
  },
  {
   "cell_type": "markdown",
   "id": "2da0d65c",
   "metadata": {},
   "source": [
    "#### ▶ Importando biblioteca com usando *"
   ]
  },
  {
   "cell_type": "code",
   "execution_count": 18,
   "id": "4f902229",
   "metadata": {},
   "outputs": [
    {
     "name": "stdout",
     "output_type": "stream",
     "text": [
      "3.141592653589793\n"
     ]
    }
   ],
   "source": [
    "\n",
    "# Ex.:\n",
    "from math import * # Importando com o \"*\" eu não preciso colocar o nome da biblioteca antes da função\n",
    "\n",
    "a = pi # Não preciso mais colocar o nome da biblioteca antes\n",
    "print(a) \n"
   ]
  },
  {
   "cell_type": "markdown",
   "id": "8fd743a6",
   "metadata": {},
   "source": [
    "#### ▶ Importando só uma função de uma biblioteca"
   ]
  },
  {
   "cell_type": "code",
   "execution_count": 3,
   "id": "6b4df5a7",
   "metadata": {},
   "outputs": [],
   "source": [
    "\n",
    "# Ex.:\n",
    "from math import pi # Acabei de importar só a função PI da biblioteca MATH\n",
    "                    # Posso importar + de uma\n"
   ]
  },
  {
   "cell_type": "markdown",
   "id": "9e37d5a7",
   "metadata": {},
   "source": [
    "#### ▶ Renomear uma biblioteca"
   ]
  },
  {
   "cell_type": "code",
   "execution_count": 4,
   "id": "db273104",
   "metadata": {
    "scrolled": true
   },
   "outputs": [
    {
     "name": "stdout",
     "output_type": "stream",
     "text": [
      "3.141592653589793\n"
     ]
    }
   ],
   "source": [
    "# Ex.:\n",
    "import math as mt # acabei de apelidar/renomear uma biblioteca. Ao renomear tenho que ser o mais intuitivo possivel\n",
    "import numpy as np\n",
    "\n",
    "a = mt.pi # usei mt porque foi o apelido que eu dei para a biblioteca\n",
    "print(a)"
   ]
  }
 ],
 "metadata": {
  "kernelspec": {
   "display_name": "Python 3 (ipykernel)",
   "language": "python",
   "name": "python3"
  },
  "language_info": {
   "codemirror_mode": {
    "name": "ipython",
    "version": 3
   },
   "file_extension": ".py",
   "mimetype": "text/x-python",
   "name": "python",
   "nbconvert_exporter": "python",
   "pygments_lexer": "ipython3",
   "version": "3.10.4"
  }
 },
 "nbformat": 4,
 "nbformat_minor": 5
}
