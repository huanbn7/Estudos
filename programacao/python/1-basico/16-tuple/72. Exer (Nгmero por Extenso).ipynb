{
 "cells": [
  {
   "cell_type": "markdown",
   "id": "e44ae5eb",
   "metadata": {},
   "source": [
    "Exercício Python 072: Crie um programa que tenha uma dupla totalmente preenchida com uma contagem por extenso, de zero até vinte. Seu programa deverá ler um número pelo teclado (entre 0 e 20) e mostrá-lo por extenso."
   ]
  },
  {
   "cell_type": "code",
   "execution_count": 26,
   "id": "10efceab",
   "metadata": {},
   "outputs": [
    {
     "name": "stdout",
     "output_type": "stream",
     "text": [
      "Digite um numero entre 0 e 10: -8\n",
      "Error\n",
      "\n",
      "Digite um numero entre 0 e 10: -9\n",
      "Error\n",
      "\n",
      "Digite um numero entre 0 e 10: 2\n",
      "O numero que você digitou foi o Dois.\n"
     ]
    }
   ],
   "source": [
    "tupla = ('Zero','Um','Dois','Três','Quatro','Cinco','Seis','Sete','Oito','Nove','Dez')\n",
    "\n",
    "while True:\n",
    "    num = int(input('Digite um numero entre 0 e 10: '))\n",
    "    \n",
    "    if num<0 or num>10:\n",
    "        print('Error\\n')\n",
    "        continue\n",
    "    else:\n",
    "        print(f'O numero que você digitou foi o {tupla[num]}.')\n",
    "        break"
   ]
  }
 ],
 "metadata": {
  "kernelspec": {
   "display_name": "Python 3 (ipykernel)",
   "language": "python",
   "name": "python3"
  },
  "language_info": {
   "codemirror_mode": {
    "name": "ipython",
    "version": 3
   },
   "file_extension": ".py",
   "mimetype": "text/x-python",
   "name": "python",
   "nbconvert_exporter": "python",
   "pygments_lexer": "ipython3",
   "version": "3.9.7"
  }
 },
 "nbformat": 4,
 "nbformat_minor": 5
}
