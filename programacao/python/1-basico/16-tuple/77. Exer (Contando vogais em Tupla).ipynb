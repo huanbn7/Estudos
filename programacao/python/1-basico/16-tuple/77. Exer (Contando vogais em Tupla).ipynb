{
 "cells": [
  {
   "cell_type": "markdown",
   "id": "d8abfb9a",
   "metadata": {},
   "source": [
    "Exercício Python 077: Crie um programa que tenha uma tupla com várias palavras (não usar acentos). Depois disso, você deve mostrar, para cada palavra, quais são as suas vogais."
   ]
  },
  {
   "cell_type": "code",
   "execution_count": 79,
   "id": "83e6fb2c",
   "metadata": {},
   "outputs": [
    {
     "name": "stdout",
     "output_type": "stream",
     "text": [
      "\n",
      "Na palavra Agua temos as vogais: A u a \n",
      "Na palavra Janela temos as vogais: a e a \n",
      "Na palavra Arvore temos as vogais: A o e \n",
      "Na palavra Escola temos as vogais: E o a \n",
      "Na palavra Botas temos as vogais: o a "
     ]
    }
   ],
   "source": [
    "tupla = ('Agua','Janela','Arvore','Escola','Botas')\n",
    "\n",
    "for palavra in tupla:\n",
    "    print(f'\\nNa palavra {palavra} temos as vogais: ', end='')\n",
    "    \n",
    "    for letra in palavra:\n",
    "        if letra in 'AaEeIiOoUu':\n",
    "            print(f'{letra} ', end='')\n",
    "            "
   ]
  }
 ],
 "metadata": {
  "kernelspec": {
   "display_name": "Python 3 (ipykernel)",
   "language": "python",
   "name": "python3"
  },
  "language_info": {
   "codemirror_mode": {
    "name": "ipython",
    "version": 3
   },
   "file_extension": ".py",
   "mimetype": "text/x-python",
   "name": "python",
   "nbconvert_exporter": "python",
   "pygments_lexer": "ipython3",
   "version": "3.9.7"
  }
 },
 "nbformat": 4,
 "nbformat_minor": 5
}
