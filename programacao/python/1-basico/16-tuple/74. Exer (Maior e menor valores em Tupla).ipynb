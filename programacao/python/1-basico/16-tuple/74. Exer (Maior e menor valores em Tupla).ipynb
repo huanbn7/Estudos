{
 "cells": [
  {
   "cell_type": "markdown",
   "id": "0fb69bf1",
   "metadata": {},
   "source": [
    "Exercício Python 074: Crie um programa que vai gerar cinco números aleatórios e colocar em uma tupla. Depois disso, mostre a listagem de números gerados e também indique o menor e o maior valor que estão na tupla."
   ]
  },
  {
   "cell_type": "code",
   "execution_count": 162,
   "id": "37fec116",
   "metadata": {},
   "outputs": [
    {
     "name": "stdout",
     "output_type": "stream",
     "text": [
      "Os valores sorteados foram: 8 → 7 → 7 → 9 → 7 → FIM\n",
      "O maior valor foi 9\n",
      "O menor valor foi 7\n"
     ]
    }
   ],
   "source": [
    "from random import *\n",
    "\n",
    "tupla = (randint(0,10),randint(0,10),randint(0,10),randint(0,10),randint(0,10))\n",
    "\n",
    "print(f'Os valores sorteados foram: ',end='')\n",
    "\n",
    "for n in tupla:\n",
    "    print(f'{n} → ',end='')\n",
    "print('FIM')\n",
    "\n",
    "print(f'O maior valor foi {max(tupla)}')\n",
    "print(f'O menor valor foi {min(tupla)}')\n",
    "    \n",
    "    \n",
    "    \n",
    "\n",
    "\n"
   ]
  }
 ],
 "metadata": {
  "kernelspec": {
   "display_name": "Python 3 (ipykernel)",
   "language": "python",
   "name": "python3"
  },
  "language_info": {
   "codemirror_mode": {
    "name": "ipython",
    "version": 3
   },
   "file_extension": ".py",
   "mimetype": "text/x-python",
   "name": "python",
   "nbconvert_exporter": "python",
   "pygments_lexer": "ipython3",
   "version": "3.9.7"
  }
 },
 "nbformat": 4,
 "nbformat_minor": 5
}
