{
 "cells": [
  {
   "cell_type": "markdown",
   "id": "9e9c574d",
   "metadata": {},
   "source": [
    "Exercício Python 075: Desenvolva um programa que leia quatro valores pelo teclado e guarde-os em uma tupla. No final, mostre:\n",
    "\n",
    "A) Quantas vezes apareceu o valor 9.\n",
    "\n",
    "B) Em que posição foi digitado o primeiro valor 3.\n",
    "\n",
    "C) Quais foram os números pares."
   ]
  },
  {
   "cell_type": "code",
   "execution_count": null,
   "id": "021ec508",
   "metadata": {},
   "outputs": [],
   "source": [
    "tupla = (int(input('Digite o 1° numero: ')),\n",
    "        int(input('Digite o 1° numero: ')),\n",
    "        int(input('Digite o 1° numero: ')),\n",
    "        int(input('Digite o 1° numero: ')))\n",
    "\n",
    "#VALORES DA TUPLA\n",
    "print(f'\\nOs valores digitados foram', tupla)\n",
    "\n",
    "#APARIÇÃO DO 9\n",
    "print(f'O valor 9 apareceu {tupla.count(9)} vez')\n",
    "\n",
    "#POSIÇÃO DO NUMERO 3\n",
    "if 3 in tupla:\n",
    "    print(f'O volar 3 aparceu na {tupla.index(3)+1}° posição')\n",
    "else:\n",
    "    print(f'O volar 3 não aparceu')\n",
    "\n",
    "#NUMEROS PARES\n",
    "print(f'Os numeros pares são: ', end='')\n",
    "for n in tupla:\n",
    "    if n%2==0:\n",
    "        print(f'{n} → ', end='')\n"
   ]
  }
 ],
 "metadata": {
  "kernelspec": {
   "display_name": "Python 3 (ipykernel)",
   "language": "python",
   "name": "python3"
  },
  "language_info": {
   "codemirror_mode": {
    "name": "ipython",
    "version": 3
   },
   "file_extension": ".py",
   "mimetype": "text/x-python",
   "name": "python",
   "nbconvert_exporter": "python",
   "pygments_lexer": "ipython3",
   "version": "3.9.7"
  }
 },
 "nbformat": 4,
 "nbformat_minor": 5
}
