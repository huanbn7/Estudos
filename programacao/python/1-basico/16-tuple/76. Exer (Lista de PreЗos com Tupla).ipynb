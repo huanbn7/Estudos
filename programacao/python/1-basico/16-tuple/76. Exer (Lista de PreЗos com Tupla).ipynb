{
 "cells": [
  {
   "cell_type": "markdown",
   "id": "54fd7dde",
   "metadata": {},
   "source": [
    "Exercício Python 076: Crie um programa que tenha uma tupla única com nomes de produtos e seus respectivos preços, na sequência. No final, mostre uma listagem de preços, organizando os dados em forma tabular."
   ]
  },
  {
   "cell_type": "code",
   "execution_count": 2,
   "id": "468bad5f",
   "metadata": {},
   "outputs": [
    {
     "name": "stdout",
     "output_type": "stream",
     "text": [
      "========================================\n",
      "          LISTAGEM DE PREÇOS\n",
      "========================================\n",
      "Lápis......................... R$   1.75\n",
      "Borracha...................... R$   2.00\n",
      "Caderno....................... R$  15.90\n",
      "Estojo........................ R$  25.00\n",
      "Transferidor.................. R$   4.20\n",
      "Compasso...................... R$   9.99\n",
      "Mochila....................... R$ 120.32\n",
      "Canetas....................... R$  22.30\n",
      "Livro......................... R$  34.90\n",
      "========================================\n"
     ]
    }
   ],
   "source": [
    "tupla = (\"Lápis\", 1.75, \"Borracha\", 2.00, \"Caderno\", 15.90, \"Estojo\", 25.00, \"Transferidor\", 4.20,\n",
    "            \"Compasso\", 9.99, \"Mochila\", 120.32, \"Canetas\", 22.30, \"Livro\", 34.90)\n",
    "\n",
    "pos = 1\n",
    "\n",
    "print('='*40)\n",
    "print('          LISTAGEM DE PREÇOS')\n",
    "print('='*40)\n",
    "\n",
    "\n",
    "for item in tupla[::2]:\n",
    "    \n",
    "    print(f'{item:.<30}', end='')\n",
    "    print(f' R$ {tupla[pos]:>6.2f}')\n",
    "    pos = pos + 2\n",
    "    \n",
    "print('='*40)\n",
    "    "
   ]
  },
  {
   "cell_type": "code",
   "execution_count": 66,
   "id": "7e59d942",
   "metadata": {},
   "outputs": [
    {
     "name": "stdout",
     "output_type": "stream",
     "text": [
      "==================================================\n",
      "                LISTAGEM DE PREÇOS                \n",
      "==================================================\n",
      "Lápis...................................  R$    1.75\n",
      "Borracha................................  R$    2.00\n",
      "Caderno.................................  R$   15.90\n",
      "Estojo..................................  R$   25.00\n",
      "Transferidor............................  R$    4.20\n",
      "Compasso................................  R$    9.99\n",
      "Mochila.................................  R$  120.32\n",
      "Canetas.................................  R$   22.30\n",
      "Livro...................................  R$   34.90\n",
      "==================================================\n"
     ]
    }
   ],
   "source": [
    "produtos = (\"Lápis\", 1.75, \"Borracha\", 2.00, \"Caderno\", 15.90, \"Estojo\", 25.00, \"Transferidor\", 4.20,\n",
    "            \"Compasso\", 9.99, \"Mochila\", 120.32, \"Canetas\", 22.30, \"Livro\", 34.90)\n",
    "\n",
    "print(\"=\"*50)\n",
    "print(\"{:^50}\".format(\"LISTAGEM DE PREÇOS\"))\n",
    "print(\"=\"*50)\n",
    "\n",
    "for c in range(0, len(produtos), 2):\n",
    "    print(f\"{produtos[c]:.<40}\", f\" R$ {produtos[c+1]:>7.2f}\")\n",
    "\n",
    "print(\"=\"*50)"
   ]
  }
 ],
 "metadata": {
  "kernelspec": {
   "display_name": "Python 3 (ipykernel)",
   "language": "python",
   "name": "python3"
  },
  "language_info": {
   "codemirror_mode": {
    "name": "ipython",
    "version": 3
   },
   "file_extension": ".py",
   "mimetype": "text/x-python",
   "name": "python",
   "nbconvert_exporter": "python",
   "pygments_lexer": "ipython3",
   "version": "3.9.7"
  }
 },
 "nbformat": 4,
 "nbformat_minor": 5
}
