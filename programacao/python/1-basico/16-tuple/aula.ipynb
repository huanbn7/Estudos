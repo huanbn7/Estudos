{
 "cells": [
  {
   "cell_type": "markdown",
   "id": "d5335b7b",
   "metadata": {},
   "source": [
    "# 16. Tuple"
   ]
  },
  {
   "cell_type": "code",
   "execution_count": 24,
   "id": "c4513b29",
   "metadata": {},
   "outputs": [
    {
     "name": "stdout",
     "output_type": "stream",
     "text": [
      "<class 'tuple'>\n"
     ]
    }
   ],
   "source": [
    "# A tupla e uma variavel composta\n",
    "# Para usara uma tupla e necessario abrir abrir e fechar parenteses e separar os itens por virgula \n",
    "# Exe.:\n",
    "nomes = ('Huan','Lucas','luigi')\n",
    "print(type(nomes))"
   ]
  },
  {
   "cell_type": "code",
   "execution_count": 25,
   "id": "512cf07e",
   "metadata": {},
   "outputs": [
    {
     "name": "stdout",
     "output_type": "stream",
     "text": [
      "Huan\n",
      "Lucas\n"
     ]
    }
   ],
   "source": [
    "# Os indices de uma tupla sao indexados, o primeiro item tem o indice 0 e o segundo indice tem indice 2 e assim por diante.\n",
    "# Exe.:\n",
    "nomes = ('Huan','Lucas','luigi')\n",
    "print(nomes[0]) \n",
    "print(nomes[1])"
   ]
  },
  {
   "cell_type": "code",
   "execution_count": 31,
   "id": "799f5546",
   "metadata": {},
   "outputs": [
    {
     "data": {
      "text/plain": [
       "['Ana', 'Huan', 'Lucas', 'Luigi']"
      ]
     },
     "execution_count": 31,
     "metadata": {},
     "output_type": "execute_result"
    }
   ],
   "source": [
    "# As tuplas sao imultaveis, nao e possivel adcionar e nem remover os itens dela\n",
    "# So e possivel ordernar-la em ordem alfabetica ou crescente usando o metodo .sorted()\n",
    "# Exe.:\n",
    "nomes = ('Huan','Lucas','Luigi','Ana')\n",
    "sorted(nomes)\n",
    "\n",
    "# Uma tupla pode ter itens duplicados, pois cada item tem o seu identificador que e o seu indice."
   ]
  },
  {
   "cell_type": "code",
   "execution_count": 32,
   "id": "65abde4c",
   "metadata": {},
   "outputs": [
    {
     "data": {
      "text/plain": [
       "3"
      ]
     },
     "execution_count": 32,
     "metadata": {},
     "output_type": "execute_result"
    }
   ],
   "source": [
    "# Para saber o comprimento de uma tupla, basta usar a funcao len()\n",
    "# Exe.:\n",
    "nomes = ('Huan','Lucas','luigi')\n",
    "len(nomes) "
   ]
  },
  {
   "cell_type": "code",
   "execution_count": 34,
   "id": "ec57aea3",
   "metadata": {},
   "outputs": [
    {
     "name": "stdout",
     "output_type": "stream",
     "text": [
      "<class 'tuple'>\n"
     ]
    }
   ],
   "source": [
    "# E possivel criar uma tupla com um item apenas.\n",
    "# Ex.:\n",
    "letras = ('a',) #tupla com apenas 1 item.\n",
    "print(type(letras))"
   ]
  },
  {
   "cell_type": "code",
   "execution_count": null,
   "id": "b589551d",
   "metadata": {},
   "outputs": [],
   "source": [
    "# Uma tupla pode conter varios tipos de dados.\n",
    "# Ex.:\n",
    "tipos = ('Huan',2,False,True,2.5) #STR, INT, FLOAT E BOOLEANA"
   ]
  },
  {
   "cell_type": "code",
   "execution_count": null,
   "id": "bd9009e4",
   "metadata": {},
   "outputs": [],
   "source": [
    "# Para transformar uma variavel simples ou composta em uma tupla, basta usar a funcao tuple()\n",
    "# Ex.:\n",
    "dia = 'terca'\n",
    "tuple(dia)"
   ]
  },
  {
   "cell_type": "code",
   "execution_count": 36,
   "id": "3dba1e50",
   "metadata": {},
   "outputs": [
    {
     "name": "stdout",
     "output_type": "stream",
     "text": [
      "True\n",
      "False\n"
     ]
    }
   ],
   "source": [
    "# Verifique se o item existe\n",
    "# Ex.:\n",
    "nomes = ('Huan','Lucas','luigi')\n",
    "print('Huan' in nomes) \n",
    "print('Paulo' in nomes)"
   ]
  },
  {
   "cell_type": "code",
   "execution_count": null,
   "id": "df967af0",
   "metadata": {},
   "outputs": [],
   "source": [
    "# Usando o comando del e possivel excluir a tupla\n",
    "# Ex.:\n",
    "nomes = ('Huan','Lucas','luigi')\n",
    "del nomes # apaga a tupla"
   ]
  },
  {
   "cell_type": "code",
   "execution_count": 37,
   "id": "88ed185f",
   "metadata": {},
   "outputs": [
    {
     "name": "stdout",
     "output_type": "stream",
     "text": [
      "pera\n",
      "banana\n",
      "uva\n"
     ]
    }
   ],
   "source": [
    "# Descompactando uma tupla\n",
    "# Ex.:\n",
    "frutas = ('pera','banana','uva')\n",
    "(f1,f2,f3) = frutas # para cada item da tupla original eu coloquei uma variavel para receber esse item\n",
    "\n",
    "print(f1) \n",
    "print(f2) \n",
    "print(f3) "
   ]
  },
  {
   "cell_type": "code",
   "execution_count": 38,
   "id": "892fa9db",
   "metadata": {},
   "outputs": [
    {
     "name": "stdout",
     "output_type": "stream",
     "text": [
      "pera\n",
      "['banana', 'uva']\n",
      "butia\n"
     ]
    }
   ],
   "source": [
    "# Descompactando tupla usando o *\n",
    "# Ex.:\n",
    "frutas = ('pera','banana','uva','butia')\n",
    "(f1,*f2,f3) = frutas  # o f1 vai receber o item [0], o f3 vai receber o item [3] e o f2 vai receber os itens [1] e [2]\n",
    "\n",
    "print(f1) \n",
    "print(f2) \n",
    "print(f3) "
   ]
  },
  {
   "cell_type": "code",
   "execution_count": 40,
   "id": "3c092b27",
   "metadata": {},
   "outputs": [
    {
     "name": "stdout",
     "output_type": "stream",
     "text": [
      "Huan\n",
      "Lucas\n",
      "luigi\n"
     ]
    }
   ],
   "source": [
    "# E possivel percorrer uma tupla usando loops, o melhor e o for\n",
    "# Ex.:\n",
    "nomes = ('Huan','Lucas','luigi')\n",
    "\n",
    "for nome in nomes:\n",
    "    print(nome) # Esse comando vai fazer o pc percorrer item por item da tupla nomes e printar cada item \n"
   ]
  },
  {
   "cell_type": "code",
   "execution_count": 41,
   "id": "1239d325",
   "metadata": {},
   "outputs": [
    {
     "name": "stdout",
     "output_type": "stream",
     "text": [
      "('a', 'b', 'c', 'd', 'e', 'f')\n",
      "('a', 'b', 'c', 'a', 'b', 'c')\n"
     ]
    }
   ],
   "source": [
    "# Operadores e tuplas\n",
    "# Ex.:\n",
    "t1 = ('a','b','c')\n",
    "t2 = ('d','e','f')\n",
    "\n",
    "soma = t1+t2 \n",
    "multiplicao = 2*t1 \n",
    "\n",
    "print(soma)\n",
    "print(multiplicao)"
   ]
  },
  {
   "cell_type": "code",
   "execution_count": 43,
   "id": "0f90150d",
   "metadata": {},
   "outputs": [
    {
     "name": "stdout",
     "output_type": "stream",
     "text": [
      "2\n",
      "0\n",
      "3\n"
     ]
    }
   ],
   "source": [
    "# Alguns metodos\n",
    "# Ex.:\n",
    "a = ('a','b','c','a','b','c')\n",
    "\n",
    "pos1 = a.count('a') # Me diz quantas vezes o item dentro do parametro aparece na tupla\n",
    "pos2 = a.index('a') # Me diz a posicao da primeira ocorrencia do item dentro do parametro\n",
    "pos3 = a.index('a',1,6) # Me retorna a primeira ocorrencia do item especificado dentro do intervalo especificado\n",
    "\n",
    "print(pos1)\n",
    "print(pos2)\n",
    "print(pos3)"
   ]
  }
 ],
 "metadata": {
  "kernelspec": {
   "display_name": "Python 3 (ipykernel)",
   "language": "python",
   "name": "python3"
  },
  "language_info": {
   "codemirror_mode": {
    "name": "ipython",
    "version": 3
   },
   "file_extension": ".py",
   "mimetype": "text/x-python",
   "name": "python",
   "nbconvert_exporter": "python",
   "pygments_lexer": "ipython3",
   "version": "3.10.4"
  }
 },
 "nbformat": 4,
 "nbformat_minor": 5
}
