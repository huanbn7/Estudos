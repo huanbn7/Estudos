{
 "cells": [
  {
   "cell_type": "markdown",
   "id": "cffdcfa2",
   "metadata": {},
   "source": [
    "# 17. Lista"
   ]
  },
  {
   "cell_type": "markdown",
   "id": "99af490a",
   "metadata": {},
   "source": [
    "#### ▶ Introducao"
   ]
  },
  {
   "cell_type": "code",
   "execution_count": 2,
   "id": "76deda8d",
   "metadata": {},
   "outputs": [
    {
     "name": "stdout",
     "output_type": "stream",
     "text": [
      "[1, 2, 3]\n"
     ]
    }
   ],
   "source": [
    "# Lista e uma variavel composta usada para armazenar mais de um dado.\n",
    "# Se escreve uma lista com colchetes.\n",
    "# Ex.:\n",
    "lista = [1,2,3]\n",
    "print(lista)"
   ]
  },
  {
   "cell_type": "markdown",
   "id": "3998b43d",
   "metadata": {},
   "source": [
    "#### ▶ Indice de um item "
   ]
  },
  {
   "cell_type": "code",
   "execution_count": 4,
   "id": "031e71c1",
   "metadata": {},
   "outputs": [
    {
     "name": "stdout",
     "output_type": "stream",
     "text": [
      "1 2 3\n"
     ]
    }
   ],
   "source": [
    "# As listas tem seus itens ordenados por um indice.\n",
    "# Ex.:\n",
    "lista = ['a','b','c'] # Cada item tem o seu indice, o item 'a' tem o indice 0 e assim por diante\n",
    "\n",
    "print(lista[0], lista[1], lista[2])"
   ]
  },
  {
   "cell_type": "markdown",
   "id": "3a7c6969",
   "metadata": {},
   "source": [
    "#### ▶ Indice negativo de um item "
   ]
  },
  {
   "cell_type": "code",
   "execution_count": 3,
   "id": "d7754824",
   "metadata": {},
   "outputs": [
    {
     "name": "stdout",
     "output_type": "stream",
     "text": [
      "c b a\n"
     ]
    }
   ],
   "source": [
    "# As listas tambem possuem indices negativos\n",
    "# Ex.:\n",
    "lista = ['a','b','c'] # O item 'c' tem o indice -1, o item 'b' tem o item -2 e etc\n",
    "\n",
    "print(lista[-1], lista[-2], lista[-3])"
   ]
  },
  {
   "cell_type": "markdown",
   "id": "4ce17b82",
   "metadata": {},
   "source": [
    "#### ▶ Faixas de indices "
   ]
  },
  {
   "cell_type": "code",
   "execution_count": 7,
   "id": "fae055f4",
   "metadata": {},
   "outputs": [
    {
     "name": "stdout",
     "output_type": "stream",
     "text": [
      "[5, 6, 7, 8, 9]\n"
     ]
    }
   ],
   "source": [
    "# E possivel acessar um pedaco especifico de uma lista especificando onde comeca e termina esse intervalo.\n",
    "# A especificar esse intervalo, o valor de retorno vai ser uma nova lista com os item especificado \n",
    "\n",
    "lista = [0,1,2,3,4,5,6,7,8,9]\n",
    "lista_nova = lista[5:10]\n",
    "\n",
    "#  A pesquisa começará no índice 5 (incluído) e terminará no índice 10 (não incluído).\n",
    "\n",
    "print(lista_nova)\n",
    "\n",
    "# lista[:] -> Do comeco ao fim\n",
    "# lista[2:] -> Do indice 2 ao fim\n",
    "# lista[:4] -> Do comeco ate o indice 4\n",
    "# lista[::-1] -> Lista do comeco ao fim com a ordem invertida\n",
    "# lista[::2] -> Lista do comeco ao fim pulando de 2 em 2\n",
    "# lista[-4:-1] -> lista do -4 ate o -1 -> [6,7,8]"
   ]
  },
  {
   "cell_type": "markdown",
   "id": "e2a05e4c",
   "metadata": {},
   "source": [
    "#### ▶ Verifique se o item existe"
   ]
  },
  {
   "cell_type": "code",
   "execution_count": 10,
   "id": "2d858605",
   "metadata": {},
   "outputs": [
    {
     "name": "stdout",
     "output_type": "stream",
     "text": [
      "Sim, 'a' esta presente em lista\n"
     ]
    }
   ],
   "source": [
    "# Para saber se um item especificado está presente em uma lista, use a palavra-chave in\n",
    "\n",
    "lista = [\"a\", \"b\", \"c\"]\n",
    "\n",
    "if \"a\" in lista:\n",
    "    print(\"Sim, 'a' esta presente em lista\")"
   ]
  },
  {
   "cell_type": "markdown",
   "id": "efc15ea8",
   "metadata": {},
   "source": [
    "#### ▶ Multabilidade de uma lista"
   ]
  },
  {
   "cell_type": "code",
   "execution_count": 7,
   "id": "985551d7",
   "metadata": {},
   "outputs": [
    {
     "name": "stdout",
     "output_type": "stream",
     "text": [
      "['um', 2, 3]\n"
     ]
    }
   ],
   "source": [
    "# As lista podem ser alteradas apos serem definidas.\n",
    "# Ex.:\n",
    "lista = [1,2,3]\n",
    "\n",
    "lista[0] = 'um'\n",
    "print(lista)\n",
    "\n",
    "# E possivel trocar 2 itens de uma lista por 1 e vice-versa"
   ]
  },
  {
   "cell_type": "markdown",
   "id": "7aa42f3b",
   "metadata": {},
   "source": [
    "#### ▶ Itens duplicados"
   ]
  },
  {
   "cell_type": "code",
   "execution_count": 9,
   "id": "bb0d90da",
   "metadata": {},
   "outputs": [
    {
     "name": "stdout",
     "output_type": "stream",
     "text": [
      "Huan Huan Huan\n"
     ]
    }
   ],
   "source": [
    "# Uma lista pode ter itens duplicados, pois cada item é referenciado pelo seu indice.\n",
    "# Ex.:\n",
    "lista = ['Huan','Huan','Huan']\n",
    "\n",
    "print(lista[0], lista[1], lista[2])"
   ]
  },
  {
   "cell_type": "markdown",
   "id": "b20c9c87",
   "metadata": {},
   "source": [
    "#### ▶ Funcao  len ()"
   ]
  },
  {
   "cell_type": "code",
   "execution_count": 10,
   "id": "3b0d3ae3",
   "metadata": {},
   "outputs": [
    {
     "name": "stdout",
     "output_type": "stream",
     "text": [
      "7\n"
     ]
    }
   ],
   "source": [
    "# A funcao len() serve para medir o comprimento de uma lista\n",
    "\n",
    "# parametros: So recebe 1 parametro\n",
    "# tipo de parametro: lista\n",
    "\n",
    "# Ex.:\n",
    "lista = ['huan', 'huan', 'huan', 1, 2, 3, 4]\n",
    "print(len(lista))"
   ]
  },
  {
   "cell_type": "markdown",
   "id": "40a77f10",
   "metadata": {},
   "source": [
    "#### ▶ Tipos de dados"
   ]
  },
  {
   "cell_type": "code",
   "execution_count": 12,
   "id": "66896077",
   "metadata": {},
   "outputs": [],
   "source": [
    "# Uma lista pode seceber varios tipos de dados: Int, Float, Str, Booleana e etc\n",
    "lista1 = [\"apple\", \"banana\", \"cherry\"]\n",
    "lista2 = [1, 5, 7, 9, 3]\n",
    "lista3 = [True, False, False]\n",
    "\n",
    "# Uma lista pode ter dados diferentes\n",
    "list1 = [\"abc\", 34, True, 40, \"male\"]"
   ]
  },
  {
   "cell_type": "markdown",
   "id": "df793fa1",
   "metadata": {},
   "source": [
    "#### ▶ Funcao list ()"
   ]
  },
  {
   "cell_type": "code",
   "execution_count": 2,
   "id": "74689bfd",
   "metadata": {},
   "outputs": [
    {
     "name": "stdout",
     "output_type": "stream",
     "text": [
      "['H', 'u', 'a', 'n']\n",
      "[1, 2, 3, 4]\n",
      "['b', 'e', 'a', 'd', 'c']\n"
     ]
    }
   ],
   "source": [
    "# A funcao list() trasnforma qualquer variavel iteravel em lista\n",
    "\n",
    "# Ex.:\n",
    "nome = 'Huan'\n",
    "tupla = (1,2,3,4)\n",
    "sets = {'a','b','c','d','e'}\n",
    "\n",
    "print(list(nome))\n",
    "print(list(tupla))\n",
    "print(list(sets))"
   ]
  },
  {
   "cell_type": "markdown",
   "id": "81734ad6",
   "metadata": {},
   "source": [
    "#### ▶ Metodo .insert ()"
   ]
  },
  {
   "cell_type": "code",
   "execution_count": 26,
   "id": "768ff496",
   "metadata": {},
   "outputs": [
    {
     "name": "stdout",
     "output_type": "stream",
     "text": [
      "['a', 'b', 'c']\n"
     ]
    }
   ],
   "source": [
    "# O método .insert() insere um item no índice especificado\n",
    "# Ex.:\n",
    "lista = ['a','b']\n",
    "\n",
    "lista.insert(2,'c') # na posicao de indice 2 inserir o item 'c'\n",
    "print(lista)"
   ]
  },
  {
   "cell_type": "markdown",
   "id": "e4b17a8b",
   "metadata": {},
   "source": [
    "#### ▶ Metodo .append ()"
   ]
  },
  {
   "cell_type": "code",
   "execution_count": 27,
   "id": "a485a8ff",
   "metadata": {},
   "outputs": [
    {
     "name": "stdout",
     "output_type": "stream",
     "text": [
      "['a', 'b', 'c']\n"
     ]
    }
   ],
   "source": [
    "# Para adicionar um item ao final da lista, use o método append()\n",
    "# Ex.:\n",
    "lista = ['a','b']\n",
    "lista.append('c')\n",
    "print(lista)"
   ]
  },
  {
   "cell_type": "markdown",
   "id": "5498aca3",
   "metadata": {},
   "source": [
    "#### ▶ Metodo .extend ()"
   ]
  },
  {
   "cell_type": "code",
   "execution_count": 37,
   "id": "72571b56",
   "metadata": {},
   "outputs": [
    {
     "name": "stdout",
     "output_type": "stream",
     "text": [
      "['a', 'b', 'c', 'd']\n",
      "['a', 'b', 'c', 'd']\n"
     ]
    }
   ],
   "source": [
    "# Para somar 2 listas, use o método extend()\n",
    "# Ex.:\n",
    "lista1 = ['a','b']\n",
    "lista2 = ['c','d']\n",
    "\n",
    "lista1.extend(lista2) # Em lista1 adicionar os itens da lista2\n",
    "print(lista1)\n",
    "\n",
    "# O método extend() não precisa anexar listas.\n",
    "# Você pode adicionar qualquer objeto iterável (tuplas, conjuntos, dicionários etc.)\n",
    "# Ex.:\n",
    "lista1 = ['a','b']\n",
    "tupla1 = ('c','d')\n",
    "\n",
    "lista1.extend(tupla1) # Em lista1 adicionar os itens da tupla1\n",
    "print(lista1)"
   ]
  },
  {
   "cell_type": "markdown",
   "id": "e996d6fa",
   "metadata": {},
   "source": [
    "#### ▶ Metodo .remove ()"
   ]
  },
  {
   "cell_type": "code",
   "execution_count": 38,
   "id": "f862d12d",
   "metadata": {},
   "outputs": [
    {
     "name": "stdout",
     "output_type": "stream",
     "text": [
      "['a', 'b']\n"
     ]
    }
   ],
   "source": [
    "# O metodo .remove() remove o item especificado.\n",
    "# Ex.:\n",
    "lista = ['a','b','c']\n",
    "lista.remove('c')\n",
    "\n",
    "print(lista)"
   ]
  },
  {
   "cell_type": "markdown",
   "id": "7402b497",
   "metadata": {},
   "source": [
    "#### ▶ Metodo .pop ()"
   ]
  },
  {
   "cell_type": "code",
   "execution_count": 41,
   "id": "3de8efec",
   "metadata": {},
   "outputs": [
    {
     "name": "stdout",
     "output_type": "stream",
     "text": [
      "['b', 'c']\n",
      "['a', 'b']\n"
     ]
    }
   ],
   "source": [
    "# O metodo .pop() remove o item indexado ao indice especificado\n",
    "# Ex.:\n",
    "lista = ['a','b','c']\n",
    "lista.pop(0)\n",
    "print(lista)\n",
    "\n",
    "# Se você não especificar o índice, o método .pop() removerá o último item.\n",
    "lista = ['a','b','c']\n",
    "lista.pop()\n",
    "print(lista)"
   ]
  },
  {
   "cell_type": "markdown",
   "id": "9e6445f3",
   "metadata": {},
   "source": [
    "#### ▶ Comando del"
   ]
  },
  {
   "cell_type": "code",
   "execution_count": 45,
   "id": "d4ba352b",
   "metadata": {},
   "outputs": [
    {
     "name": "stdout",
     "output_type": "stream",
     "text": [
      "['a', 'c']\n"
     ]
    }
   ],
   "source": [
    "# O comando del também remove o índice especificado\n",
    "# Ex.:\n",
    "lista = ['a','b','c']\n",
    "del lista[1]\n",
    "print(lista)\n",
    "\n",
    "# A delpalavra-chave também pode excluir a lista completamente.\n",
    "del lista"
   ]
  },
  {
   "cell_type": "markdown",
   "id": "d08b19c7",
   "metadata": {},
   "source": [
    "#### ▶ Metodo .clear ()"
   ]
  },
  {
   "cell_type": "code",
   "execution_count": 46,
   "id": "dc1a9574",
   "metadata": {},
   "outputs": [
    {
     "name": "stdout",
     "output_type": "stream",
     "text": [
      "[]\n"
     ]
    }
   ],
   "source": [
    "# O método .clear() esvazia a lista. A lista ainda permanece, mas não tem conteúdo.\n",
    "# Ex.:\n",
    "lista = ['a','b','c']\n",
    "lista.clear()\n",
    "print(lista)"
   ]
  },
  {
   "cell_type": "markdown",
   "id": "6cfd1075",
   "metadata": {},
   "source": [
    "#### ▶ Percorrer uma lista com for"
   ]
  },
  {
   "cell_type": "code",
   "execution_count": 6,
   "id": "78ac6ffb",
   "metadata": {},
   "outputs": [
    {
     "name": "stdout",
     "output_type": "stream",
     "text": [
      "Huan ➥ Luigi ➥ Lucas ➥ Frost ➥ Luan ➥ "
     ]
    }
   ],
   "source": [
    "# E possivel percorrer os itens de uma lista usando o loop FOR\n",
    "# Ex.:\n",
    "lista = ['Huan','Luigi','Lucas','Frost','Luan']\n",
    "\n",
    "for item in lista:\n",
    "    print(item,end=' ➥ ')"
   ]
  },
  {
   "cell_type": "markdown",
   "id": "980cc78e",
   "metadata": {},
   "source": [
    "#### ▶ Percorrer uma lista com while"
   ]
  },
  {
   "cell_type": "code",
   "execution_count": 2,
   "id": "6f808081",
   "metadata": {},
   "outputs": [
    {
     "name": "stdout",
     "output_type": "stream",
     "text": [
      "Huan ➥ Luigi ➥ Lucas ➥ Frost ➥ Luan ➥ "
     ]
    }
   ],
   "source": [
    "# E possivel percorrer uma lista com o loop while, mas as vezes nao e tao viavel.\n",
    "# Ex.:\n",
    "lista = ['Huan','Luigi','Lucas','Frost','Luan']\n",
    "\n",
    "indice = 0\n",
    "while indice < len(lista):\n",
    "    print(lista[indice], end=' ➥ ')\n",
    "    indice+=1"
   ]
  },
  {
   "cell_type": "markdown",
   "id": "09b2028f",
   "metadata": {},
   "source": [
    "#### ▶ Metodo .sort ()"
   ]
  },
  {
   "cell_type": "code",
   "execution_count": 61,
   "id": "5976b369",
   "metadata": {},
   "outputs": [
    {
     "name": "stdout",
     "output_type": "stream",
     "text": [
      "['Frost', 'Huan', 'Luan', 'Lucas', 'Luigi'] \n",
      "\n",
      "[0, 2, 3, 4, 5, 6, 7, 8]\n"
     ]
    }
   ],
   "source": [
    "# O metodo sort organiza uma lista em ordem, pode ser alfabetica ou numerica\n",
    "# Ex.:\n",
    "lista1 = ['Huan','Luigi','Lucas','Frost','Luan']\n",
    "lista2 = [5,6,3,8,4,0,2,7]\n",
    "lista1.sort()\n",
    "lista2.sort()\n",
    "\n",
    "print(lista1,'\\n')\n",
    "print(lista2)"
   ]
  },
  {
   "cell_type": "code",
   "execution_count": 8,
   "id": "b4a630bb",
   "metadata": {},
   "outputs": [
    {
     "name": "stdout",
     "output_type": "stream",
     "text": [
      "[8, 7, 6, 5, 4, 3, 2, 0]\n"
     ]
    }
   ],
   "source": [
    "# Para organizar de forma decrescente, use o parametro ➥ reverse = True\n",
    "# Ex.:\n",
    "lista = [5,6,3,8,4,0,2,7]\n",
    "lista.sort(reverse=True)\n",
    "print(lista)"
   ]
  },
  {
   "cell_type": "markdown",
   "id": "f8825fe2",
   "metadata": {},
   "source": [
    "#### ▶ Metodo .copy ()"
   ]
  },
  {
   "cell_type": "code",
   "execution_count": 18,
   "id": "0caaf0c3",
   "metadata": {},
   "outputs": [
    {
     "name": "stdout",
     "output_type": "stream",
     "text": [
      "[1, 2, 3, 4]\n",
      "['a', 2, 3, 4] \n",
      "\n",
      "\n",
      "[1, 2, 3, 4]\n",
      "['a', 2, 3, 4]\n"
     ]
    }
   ],
   "source": [
    "# Existem maneiras de fazer uma cópia, uma delas é usar o método interno .copy()\n",
    "# Ex.:\n",
    "lista1 = [1,2,3,4]\n",
    "lista2 = lista.copy()\n",
    "lista2[0] = 'a'\n",
    "print(lista1)\n",
    "print(lista2,'\\n\\n')\n",
    "\n",
    "\n",
    "# Outra maneeira e usando a funcao list()\n",
    "# Ex.:\n",
    "lista1 = [1,2,3,4]\n",
    "lista2 = list(lista1)\n",
    "lista2[0] = 'a'\n",
    "print(lista1)\n",
    "print(lista2) "
   ]
  },
  {
   "cell_type": "markdown",
   "id": "548f22cc",
   "metadata": {},
   "source": [
    "#### ▶ Metodo .count ()"
   ]
  },
  {
   "cell_type": "code",
   "execution_count": 19,
   "id": "7cecd25a",
   "metadata": {},
   "outputs": [
    {
     "name": "stdout",
     "output_type": "stream",
     "text": [
      "3\n"
     ]
    }
   ],
   "source": [
    "# O metodo .count() retorna a quantidade de ocorrencia de um item dentro da lista\n",
    "# Ex.:\n",
    "lista = [1,1,1,2,3,4,5,6,7,8,9]\n",
    "quantidade = lista.count(1)\n",
    "print(quantidade)"
   ]
  },
  {
   "cell_type": "markdown",
   "id": "06440a83",
   "metadata": {},
   "source": [
    "#### ▶ Metodo .index ()"
   ]
  },
  {
   "cell_type": "code",
   "execution_count": 23,
   "id": "3701acf6",
   "metadata": {},
   "outputs": [
    {
     "name": "stdout",
     "output_type": "stream",
     "text": [
      "2\n"
     ]
    }
   ],
   "source": [
    "# O metodo index retora a posicao do item especificado\n",
    "# Ex.:\n",
    "lista = ['Huan','Luigi','Lucas']\n",
    "posicao = lista.index('Lucas')\n",
    "print(posicao)"
   ]
  },
  {
   "cell_type": "markdown",
   "id": "a7d60e78",
   "metadata": {},
   "source": [
    "#### ▶ Metodo .reverse ()"
   ]
  },
  {
   "cell_type": "code",
   "execution_count": 11,
   "id": "308c9ee5",
   "metadata": {},
   "outputs": [
    {
     "name": "stdout",
     "output_type": "stream",
     "text": [
      "['frost', 'lucas', 'luigi', 'huan']\n"
     ]
    }
   ],
   "source": [
    "# O metodo reverse() inverte a ordem atual dos elementos.\n",
    "# Ex.:\n",
    "lista = ['huan','luigi','lucas','frost']\n",
    "lista.reverse()\n",
    "print(lista)"
   ]
  },
  {
   "cell_type": "code",
   "execution_count": null,
   "id": "7fc7d97e",
   "metadata": {},
   "outputs": [],
   "source": []
  }
 ],
 "metadata": {
  "kernelspec": {
   "display_name": "Python 3 (ipykernel)",
   "language": "python",
   "name": "python3"
  },
  "language_info": {
   "codemirror_mode": {
    "name": "ipython",
    "version": 3
   },
   "file_extension": ".py",
   "mimetype": "text/x-python",
   "name": "python",
   "nbconvert_exporter": "python",
   "pygments_lexer": "ipython3",
   "version": "3.10.4"
  }
 },
 "nbformat": 4,
 "nbformat_minor": 5
}
