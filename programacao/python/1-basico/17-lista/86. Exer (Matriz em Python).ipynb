{
 "cells": [
  {
   "cell_type": "markdown",
   "id": "18707fc8",
   "metadata": {},
   "source": [
    "Exercício Python 086: Crie um programa que declare uma matriz de dimensão 3x3 e preencha com valores lidos pelo teclado. No final, mostre a matriz na tela, com a formatação correta."
   ]
  },
  {
   "cell_type": "code",
   "execution_count": 41,
   "id": "ba9f5967",
   "metadata": {},
   "outputs": [
    {
     "name": "stdout",
     "output_type": "stream",
     "text": [
      "Qual a ordem para a matriz quadrada? \n"
     ]
    },
    {
     "ename": "ValueError",
     "evalue": "invalid literal for int() with base 10: ''",
     "output_type": "error",
     "traceback": [
      "\u001b[1;31m---------------------------------------------------------------------------\u001b[0m",
      "\u001b[1;31mValueError\u001b[0m                                Traceback (most recent call last)",
      "\u001b[1;32m~\\AppData\\Local\\Temp/ipykernel_2184/4168077489.py\u001b[0m in \u001b[0;36m<module>\u001b[1;34m\u001b[0m\n\u001b[0;32m      1\u001b[0m \u001b[0mlista\u001b[0m \u001b[1;33m=\u001b[0m \u001b[1;33m[\u001b[0m\u001b[1;33m]\u001b[0m\u001b[1;33m\u001b[0m\u001b[1;33m\u001b[0m\u001b[0m\n\u001b[0;32m      2\u001b[0m \u001b[1;33m\u001b[0m\u001b[0m\n\u001b[1;32m----> 3\u001b[1;33m \u001b[0mo\u001b[0m \u001b[1;33m=\u001b[0m \u001b[0mint\u001b[0m\u001b[1;33m(\u001b[0m\u001b[0minput\u001b[0m\u001b[1;33m(\u001b[0m\u001b[1;34m'Qual a ordem para a matriz quadrada? '\u001b[0m\u001b[1;33m)\u001b[0m\u001b[1;33m)\u001b[0m\u001b[1;33m\u001b[0m\u001b[1;33m\u001b[0m\u001b[0m\n\u001b[0m\u001b[0;32m      4\u001b[0m \u001b[1;33m\u001b[0m\u001b[0m\n\u001b[0;32m      5\u001b[0m \u001b[0mprint\u001b[0m\u001b[1;33m(\u001b[0m\u001b[1;33m)\u001b[0m\u001b[1;33m\u001b[0m\u001b[1;33m\u001b[0m\u001b[0m\n",
      "\u001b[1;31mValueError\u001b[0m: invalid literal for int() with base 10: ''"
     ]
    }
   ],
   "source": [
    "lista = []\n",
    "\n",
    "o = int(input('Qual a ordem para a matriz quadrada? '))\n",
    "\n",
    "print()\n",
    "for l in range(1,o+1):\n",
    "    for c in range(1,o+1):\n",
    "        lista.append(int(input(f'Digite um valor para {[l,c]}: ')))\n",
    "        \n",
    "print()\n",
    "\n",
    "i=0\n",
    "f=o\n",
    "\n",
    "for n in range(o):\n",
    "    print(f'{lista[i:f]}')\n",
    "    i=i+o\n",
    "    f=f+o\n"
   ]
  },
  {
   "cell_type": "code",
   "execution_count": 62,
   "id": "fb1794f1",
   "metadata": {},
   "outputs": [
    {
     "name": "stdout",
     "output_type": "stream",
     "text": [
      "Qual a ordem para a matriz quadrada? 5\n",
      "\n",
      "Digite um valor para [1, 1]:1\n",
      "Digite um valor para [1, 2]:2\n",
      "Digite um valor para [1, 3]:3\n",
      "Digite um valor para [1, 4]:4\n",
      "Digite um valor para [1, 5]:5\n",
      "Digite um valor para [2, 1]:1\n",
      "Digite um valor para [2, 2]:2\n",
      "Digite um valor para [2, 3]:3\n",
      "Digite um valor para [2, 4]:4\n",
      "Digite um valor para [2, 5]:5\n",
      "Digite um valor para [3, 1]:1\n",
      "Digite um valor para [3, 2]:2\n",
      "Digite um valor para [3, 3]:3\n",
      "Digite um valor para [3, 4]:4\n",
      "Digite um valor para [3, 5]:5\n",
      "Digite um valor para [4, 1]:1\n",
      "Digite um valor para [4, 2]:2\n",
      "Digite um valor para [4, 3]:3\n",
      "Digite um valor para [4, 4]:4\n",
      "Digite um valor para [4, 5]:5\n",
      "Digite um valor para [5, 1]:1\n",
      "Digite um valor para [5, 2]:2\n",
      "Digite um valor para [5, 3]:3\n",
      "Digite um valor para [5, 4]:4\n",
      "Digite um valor para [5, 5]:5\n",
      "\n",
      "[1, 2, 3, 4, 5]\n",
      "[1, 2, 3, 4, 5]\n",
      "[1, 2, 3, 4, 5]\n",
      "[1, 2, 3, 4, 5]\n",
      "[1, 2, 3, 4, 5]\n",
      "\n",
      "A soma dos numero pares é igual a 30\n",
      "A soma dos valores da terceira coluna é 25\n",
      "O maior valor da segunda linha é 5\n"
     ]
    }
   ],
   "source": [
    "lista = []\n",
    "som = som2 = 0\n",
    "\n",
    "o = int(input('Qual a ordem para a matriz quadrada? '))\n",
    "\n",
    "print()\n",
    "\n",
    "for l in range(1,o+1):\n",
    "    for c in range(1,o+1):\n",
    "        valor = int(input(f'Digite um valor para {[l,c]}:'))\n",
    "        if valor%2 == 0:\n",
    "            som+=valor  \n",
    "        lista.append(valor)  \n",
    "        \n",
    "print()\n",
    "\n",
    "i=0\n",
    "f=o\n",
    "\n",
    "for n in range(o):\n",
    "    if n == 1:\n",
    "        a = max(lista[i:f])\n",
    "    if n == 0:\n",
    "        a = '(não existe)'\n",
    "    som2 += lista[f-1]\n",
    "    print(f'{lista[i:f]}')\n",
    "    \n",
    "    i=i+o\n",
    "    f=f+o\n",
    "\n",
    "print('\\nA soma dos numero pares é igual a',som)\n",
    "print('A soma dos valores da terceira coluna é', som2)\n",
    "print('O maior valor da segunda linha é',a)"
   ]
  }
 ],
 "metadata": {
  "kernelspec": {
   "display_name": "Python 3 (ipykernel)",
   "language": "python",
   "name": "python3"
  },
  "language_info": {
   "codemirror_mode": {
    "name": "ipython",
    "version": 3
   },
   "file_extension": ".py",
   "mimetype": "text/x-python",
   "name": "python",
   "nbconvert_exporter": "python",
   "pygments_lexer": "ipython3",
   "version": "3.9.7"
  }
 },
 "nbformat": 4,
 "nbformat_minor": 5
}
