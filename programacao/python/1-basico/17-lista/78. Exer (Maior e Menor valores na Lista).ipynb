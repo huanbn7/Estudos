{
 "cells": [
  {
   "cell_type": "markdown",
   "id": "d46bdd97",
   "metadata": {},
   "source": [
    "Exercício Python 078: Faça um programa que leia 5 valores numéricos e guarde-os em uma lista. No final, mostre qual foi o maior e o menor valor digitado e as suas respectivas posições na lista. "
   ]
  },
  {
   "cell_type": "code",
   "execution_count": null,
   "id": "6c5792cc",
   "metadata": {},
   "outputs": [],
   "source": [
    "lista = []\n",
    "\n",
    "print('Digite 5 numeros para saber qual é o MAIOR e o MENOR valor\\n')\n",
    "\n",
    "for i in range(5):\n",
    "    lista.append(int(input(f'Digite o {i+1}° numero: ')))\n",
    "\n",
    "print(f'\\nO maior numeor é {max(lista)}')\n",
    "print(f'O menor numeor é {min(lista)}')\n",
    "    "
   ]
  }
 ],
 "metadata": {
  "kernelspec": {
   "display_name": "Python 3 (ipykernel)",
   "language": "python",
   "name": "python3"
  },
  "language_info": {
   "codemirror_mode": {
    "name": "ipython",
    "version": 3
   },
   "file_extension": ".py",
   "mimetype": "text/x-python",
   "name": "python",
   "nbconvert_exporter": "python",
   "pygments_lexer": "ipython3",
   "version": "3.9.7"
  }
 },
 "nbformat": 4,
 "nbformat_minor": 5
}
