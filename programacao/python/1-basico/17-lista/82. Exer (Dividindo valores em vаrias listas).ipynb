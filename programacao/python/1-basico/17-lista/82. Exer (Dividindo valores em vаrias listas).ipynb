{
 "cells": [
  {
   "cell_type": "markdown",
   "id": "27aba99b",
   "metadata": {},
   "source": [
    "Exercício Python 082: Crie um programa que vai ler vários números e colocar em uma lista. Depois disso, crie duas listas extras que vão conter apenas os valores pares e os valores ímpares digitados, respectivamente. Ao final, mostre o conteúdo das três listas geradas."
   ]
  },
  {
   "cell_type": "code",
   "execution_count": null,
   "id": "f45fca20",
   "metadata": {},
   "outputs": [],
   "source": [
    "lista = []\n",
    "lista1 = []\n",
    "lista2 = []\n",
    "\n",
    "while True:\n",
    "    valor = int(input('\\nDigite um numero: '))\n",
    "    lista.append(valor)\n",
    "    \n",
    "    if valor%2==0:\n",
    "        lista2.append(valor)\n",
    "    else:\n",
    "        lista1.append(valor)\n",
    "    \n",
    "    saida = input('Quer continuar [S/N]? ')\n",
    "    \n",
    "    if saida in 'Nn':\n",
    "        break\n",
    "\n",
    "lista.sort()\n",
    "lista1.sort()\n",
    "lista2.sort()\n",
    "\n",
    "print(f'\\nA lista completa é {lista}')\n",
    "print(f'A lista de ímpares é {lista1}')\n",
    "print(f'A lista de pares é {lista2}')"
   ]
  }
 ],
 "metadata": {
  "kernelspec": {
   "display_name": "Python 3 (ipykernel)",
   "language": "python",
   "name": "python3"
  },
  "language_info": {
   "codemirror_mode": {
    "name": "ipython",
    "version": 3
   },
   "file_extension": ".py",
   "mimetype": "text/x-python",
   "name": "python",
   "nbconvert_exporter": "python",
   "pygments_lexer": "ipython3",
   "version": "3.9.7"
  }
 },
 "nbformat": 4,
 "nbformat_minor": 5
}
