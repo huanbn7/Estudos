{
 "cells": [
  {
   "cell_type": "code",
   "execution_count": null,
   "id": "276de82d",
   "metadata": {},
   "outputs": [],
   "source": [
    "lista = []\n",
    "\n",
    "for n in range(5):\n",
    "    \n",
    "    num = int(input('\\nDigite um numero: '))\n",
    "    lista.append(num)\n",
    "    lista.sort()\n",
    "    print(f'Adicionado na posição {lista.index(num)} da lista...')\n",
    "\n",
    "        \n",
    "print(f'\\n{lista}')\n",
    "\n"
   ]
  },
  {
   "cell_type": "code",
   "execution_count": 31,
   "id": "eca65330",
   "metadata": {},
   "outputs": [
    {
     "name": "stdout",
     "output_type": "stream",
     "text": [
      "\n",
      "Digite um numero: 2\n",
      "Adicionado no final da lista...\n",
      "\n",
      "Digite um numero: 9\n",
      "Adicionado no final da lista...\n",
      "\n",
      "Digite um numero: 5\n",
      "Adicionado na posição 1 da lista...\n",
      "\n",
      "Digite um numero: 8\n",
      "Adicionado na posição 2 da lista...\n",
      "\n",
      "Digite um numero: 6\n",
      "Adicionado na posição 2 da lista...\n",
      "\n",
      "Os numeros que voce digitou foram [2, 5, 6, 8, 9]\n"
     ]
    }
   ],
   "source": [
    "lista = []\n",
    "\n",
    "for n in range(5):\n",
    "    \n",
    "    num = int(input('\\nDigite um numero: '))\n",
    "    if n == 0 or num > lista[-1]:\n",
    "        lista.append(num)\n",
    "        print(f'Adicionado no final da lista...')\n",
    "    \n",
    "    else:\n",
    "        pos = 0\n",
    "        while pos < len(lista):\n",
    "            if num <= lista[pos]:\n",
    "                lista.insert(pos,num)\n",
    "                print(f'Adicionado na posição {pos} da lista...')\n",
    "                break\n",
    "            pos += 1    \n",
    "            \n",
    "\n",
    "print(f'\\nOs numeros que voce digitou foram {lista}')"
   ]
  }
 ],
 "metadata": {
  "kernelspec": {
   "display_name": "Python 3 (ipykernel)",
   "language": "python",
   "name": "python3"
  },
  "language_info": {
   "codemirror_mode": {
    "name": "ipython",
    "version": 3
   },
   "file_extension": ".py",
   "mimetype": "text/x-python",
   "name": "python",
   "nbconvert_exporter": "python",
   "pygments_lexer": "ipython3",
   "version": "3.9.7"
  }
 },
 "nbformat": 4,
 "nbformat_minor": 5
}
