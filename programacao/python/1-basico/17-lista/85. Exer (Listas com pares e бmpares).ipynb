{
 "cells": [
  {
   "cell_type": "markdown",
   "id": "b0fbb5ec",
   "metadata": {},
   "source": [
    "Exercício Python 085: Crie um programa onde o usuário possa digitar sete valores numéricos e cadastre-os em uma lista única que mantenha separados os valores pares e ímpares. No final, mostre os valores pares e ímpares em ordem crescente."
   ]
  },
  {
   "cell_type": "code",
   "execution_count": 45,
   "id": "8aa4da99",
   "metadata": {},
   "outputs": [
    {
     "ename": "SyntaxError",
     "evalue": "unmatched ')' (Temp/ipykernel_1856/636778077.py, line 17)",
     "output_type": "error",
     "traceback": [
      "\u001b[1;36m  File \u001b[1;32m\"C:\\Users\\luigi\\AppData\\Local\\Temp/ipykernel_1856/636778077.py\"\u001b[1;36m, line \u001b[1;32m17\u001b[0m\n\u001b[1;33m    print(f'A lista dos ímpares é {sl}'))\u001b[0m\n\u001b[1;37m                                        ^\u001b[0m\n\u001b[1;31mSyntaxError\u001b[0m\u001b[1;31m:\u001b[0m unmatched ')'\n"
     ]
    }
   ],
   "source": [
    "lista = [[],[]]\n",
    "\n",
    "for i in range(7):\n",
    "    \n",
    "    num = int(input('Numero: '))\n",
    "    if num%2==0:\n",
    "        lista[0].append(num)\n",
    "    else:\n",
    "        lista[1].append(num)\n",
    "\n",
    "for sl in lista:\n",
    "    sl.sort()\n",
    "    if sl[0]%2==0:\n",
    "        print(f'\\nA lista dos pares é {sl}')\n",
    "    else:\n",
    "        print(f'A lista dos ímpares é {sl}')\n",
    "    \n",
    "    \n",
    "        "
   ]
  }
 ],
 "metadata": {
  "kernelspec": {
   "display_name": "Python 3 (ipykernel)",
   "language": "python",
   "name": "python3"
  },
  "language_info": {
   "codemirror_mode": {
    "name": "ipython",
    "version": 3
   },
   "file_extension": ".py",
   "mimetype": "text/x-python",
   "name": "python",
   "nbconvert_exporter": "python",
   "pygments_lexer": "ipython3",
   "version": "3.9.7"
  }
 },
 "nbformat": 4,
 "nbformat_minor": 5
}
