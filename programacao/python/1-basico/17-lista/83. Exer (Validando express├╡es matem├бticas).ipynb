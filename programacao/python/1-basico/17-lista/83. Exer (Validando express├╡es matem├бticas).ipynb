{
 "cells": [
  {
   "cell_type": "markdown",
   "id": "0ae16b53",
   "metadata": {},
   "source": [
    "Exercício Python 083: Crie um programa onde o usuário digite uma expressão qualquer que use parênteses. Seu aplicativo deverá analisar se a expressão passada está com os parênteses abertos e fechados na ordem correta."
   ]
  },
  {
   "cell_type": "code",
   "execution_count": 118,
   "id": "83694a48",
   "metadata": {},
   "outputs": [
    {
     "name": "stdout",
     "output_type": "stream",
     "text": [
      "Digite a expressão: (((((((())))))))\n",
      "Expressão está valida\n"
     ]
    }
   ],
   "source": [
    "exp = input('Digite a expressão: ')\n",
    "lista = []\n",
    "\n",
    "for c in exp:\n",
    "    if c == '(':\n",
    "        lista.append('(')\n",
    "    if c == ')':\n",
    "        if len(lista)>0:\n",
    "            lista.pop()\n",
    "        else:\n",
    "            lista.append(')')\n",
    "            break\n",
    "\n",
    "if len(lista) == 0:\n",
    "    print('Expressão está valida')\n",
    "else:\n",
    "    print('Expressão está errada')\n",
    "        "
   ]
  }
 ],
 "metadata": {
  "kernelspec": {
   "display_name": "Python 3 (ipykernel)",
   "language": "python",
   "name": "python3"
  },
  "language_info": {
   "codemirror_mode": {
    "name": "ipython",
    "version": 3
   },
   "file_extension": ".py",
   "mimetype": "text/x-python",
   "name": "python",
   "nbconvert_exporter": "python",
   "pygments_lexer": "ipython3",
   "version": "3.9.7"
  }
 },
 "nbformat": 4,
 "nbformat_minor": 5
}
