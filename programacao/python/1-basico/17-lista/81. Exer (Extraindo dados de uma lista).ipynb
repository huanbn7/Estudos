{
 "cells": [
  {
   "cell_type": "markdown",
   "id": "55e3d0a9",
   "metadata": {},
   "source": [
    "Exercício Python 081: Crie um programa que vai ler vários números e colocar em uma lista. Depois disso, mostre:\n",
    "        \n",
    "A) Quantos números foram digitados.\n",
    "\n",
    "B) A lista de valores, ordenada de forma decrescente.\n",
    "\n",
    "C) Se o valor 5 foi digitado e está ou não na lista."
   ]
  },
  {
   "cell_type": "code",
   "execution_count": 14,
   "id": "0c442a36",
   "metadata": {},
   "outputs": [
    {
     "name": "stdout",
     "output_type": "stream",
     "text": [
      "\n",
      "Digite um número: 2\n",
      "Quer continuar [S/N]?s\n",
      "\n",
      "Digite um número: 5\n",
      "Quer continuar [S/N]?s\n",
      "\n",
      "Digite um número: 10\n",
      "Quer continuar [S/N]?s\n",
      "\n",
      "Digite um número: 11\n",
      "Quer continuar [S/N]?n\n",
      "\n",
      "O numero 5 foi digitado\n",
      "O usuário digitou 4 numeros\n",
      "A lista ao inverso fica [11, 10, 5, 2]\n"
     ]
    }
   ],
   "source": [
    "lista = []\n",
    "\n",
    "while True:\n",
    "    lista.append(int(input('\\nDigite um número: ')))\n",
    "    saida = input('Quer continuar [S/N]?')\n",
    "    if saida in 'Nn':\n",
    "        break\n",
    "\n",
    "print()\n",
    "\n",
    "if 5 in lista:\n",
    "    print('O numero 5 foi digitado')\n",
    "else:\n",
    "    print('O 5 não foi digitado')\n",
    "    \n",
    "print(f'O usuário digitou {len(lista)} numeros')\n",
    "lista.sort()\n",
    "print(f'A lista ao inverso fica {lista[::-1]}')"
   ]
  }
 ],
 "metadata": {
  "kernelspec": {
   "display_name": "Python 3 (ipykernel)",
   "language": "python",
   "name": "python3"
  },
  "language_info": {
   "codemirror_mode": {
    "name": "ipython",
    "version": 3
   },
   "file_extension": ".py",
   "mimetype": "text/x-python",
   "name": "python",
   "nbconvert_exporter": "python",
   "pygments_lexer": "ipython3",
   "version": "3.9.7"
  }
 },
 "nbformat": 4,
 "nbformat_minor": 5
}
