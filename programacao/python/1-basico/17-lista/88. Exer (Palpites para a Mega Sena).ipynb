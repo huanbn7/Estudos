{
 "cells": [
  {
   "cell_type": "markdown",
   "id": "4be2c35a",
   "metadata": {},
   "source": [
    "Exercício Python 088: Faça um programa que ajude um jogador da MEGA SENA a criar palpites.O programa vai perguntar quantos jogos serão gerados e vai sortear 6 números entre 1 e 60 para cada jogo, cadastrando tudo em uma lista composta."
   ]
  },
  {
   "cell_type": "code",
   "execution_count": 1,
   "id": "c4ada6ad",
   "metadata": {},
   "outputs": [
    {
     "name": "stdout",
     "output_type": "stream",
     "text": [
      "===================================\n",
      "        JOGO NA MEGA SENA\n",
      "===================================\n",
      "\n",
      ">> Quantos jogos você quer que eu sorteie? 2\n"
     ]
    }
   ],
   "source": [
    "from time import *\n",
    "from random import *\n",
    "\n",
    "print('='*35)\n",
    "print('        JOGO NA MEGA SENA')\n",
    "print('='*35)\n",
    "\n",
    "dados = []\n",
    "jogos = int(input('\\n>> Quantos jogos você quer que eu sorteie? '))"
   ]
  },
  {
   "cell_type": "code",
   "execution_count": 2,
   "id": "4368811c",
   "metadata": {},
   "outputs": [
    {
     "name": "stdout",
     "output_type": "stream",
     "text": [
      "\n",
      "Jogo 1: [7, 31, 57, 2, 17, 14]\n",
      "Jogo 2: [51, 14, 57, 30, 3, 4]\n"
     ]
    }
   ],
   "source": [
    "print()\n",
    "for n in range(jogos):\n",
    "    for r in range(6):\n",
    "        pc = randint(1,61)\n",
    "        dados.append(pc)\n",
    "    sleep(0.8)\n",
    "    print(f'Jogo {n+1}: {dados}')\n",
    "    dados.clear()\n",
    "    "
   ]
  },
  {
   "cell_type": "code",
   "execution_count": 3,
   "id": "b8214e1f",
   "metadata": {},
   "outputs": [
    {
     "name": "stdout",
     "output_type": "stream",
     "text": [
      "Quantas apostas gerar? 2\n",
      "Aposta 1: [46, 57, 23, 58, 26, 27]\n",
      "Aposta 2: [58, 31, 15, 9, 24, 39]\n"
     ]
    }
   ],
   "source": [
    "q = int(input('Quantas apostas gerar? '))\n",
    "nums = [sample(range(1,61), k=6) for x in range(0,q)]\n",
    "\n",
    "for i in range(0,q):\n",
    "    print(f'Aposta {i+1}: {sorted(nums)[i]}')"
   ]
  }
 ],
 "metadata": {
  "kernelspec": {
   "display_name": "Python 3 (ipykernel)",
   "language": "python",
   "name": "python3"
  },
  "language_info": {
   "codemirror_mode": {
    "name": "ipython",
    "version": 3
   },
   "file_extension": ".py",
   "mimetype": "text/x-python",
   "name": "python",
   "nbconvert_exporter": "python",
   "pygments_lexer": "ipython3",
   "version": "3.10.6"
  }
 },
 "nbformat": 4,
 "nbformat_minor": 5
}
