{
 "cells": [
  {
   "cell_type": "markdown",
   "id": "5b5d78d1",
   "metadata": {},
   "source": [
    "Exercício Python 088: Faça um programa que ajude um jogador da MEGA SENA a criar palpites.O programa vai perguntar quantos jogos serão gerados e vai sortear 6 números entre 1 e 60 para cada jogo, cadastrando tudo em uma lista composta."
   ]
  },
  {
   "cell_type": "code",
   "execution_count": null,
   "id": "be38f494",
   "metadata": {},
   "outputs": [],
   "source": [
    "lista = []\n",
    "som = som2 = 0\n",
    "\n",
    "o = int(input('Qual a ordem para a matriz quadrada? '))\n",
    "\n",
    "print()\n",
    "\n",
    "for l in range(1,o+1):\n",
    "    for c in range(1,o+1):\n",
    "        valor = int(input(f'Digite um valor para {[l,c]}:'))\n",
    "        if valor%2 == 0:\n",
    "            som+=valor  \n",
    "        lista.append(valor)  \n",
    "        \n",
    "print()\n",
    "\n",
    "i=0\n",
    "f=o\n",
    "\n",
    "for n in range(o):\n",
    "    if n == 1:\n",
    "        a = max(lista[i:f])\n",
    "    if n == 0:\n",
    "        a = '(não existe)'\n",
    "    som2 += lista[f-1]\n",
    "    print(f'{lista[i:f]}')\n",
    "    \n",
    "    i=i+o\n",
    "    f=f+o\n",
    "\n",
    "print('\\nA soma dos numero pares é igual a',som)\n",
    "print('A soma dos valores da terceira coluna é', som2)\n",
    "print('O maior valor da segunda linha é',a)"
   ]
  }
 ],
 "metadata": {
  "kernelspec": {
   "display_name": "Python 3 (ipykernel)",
   "language": "python",
   "name": "python3"
  },
  "language_info": {
   "codemirror_mode": {
    "name": "ipython",
    "version": 3
   },
   "file_extension": ".py",
   "mimetype": "text/x-python",
   "name": "python",
   "nbconvert_exporter": "python",
   "pygments_lexer": "ipython3",
   "version": "3.9.7"
  }
 },
 "nbformat": 4,
 "nbformat_minor": 5
}
