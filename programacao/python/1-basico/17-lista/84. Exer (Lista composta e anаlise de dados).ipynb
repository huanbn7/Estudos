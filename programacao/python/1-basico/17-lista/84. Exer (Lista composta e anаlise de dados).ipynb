{
 "cells": [
  {
   "cell_type": "markdown",
   "id": "429c2560",
   "metadata": {},
   "source": [
    "Exercício Python 084: Faça um programa que leia nome e peso de várias pessoas, guardando tudo em uma lista. No final, mostre:\n",
    "\n",
    "A) Quantas pessoas foram cadastradas.\n",
    "\n",
    "B) Uma listagem com as pessoas mais pesadas.\n",
    "\n",
    "C) Uma listagem com as pessoas mais leves."
   ]
  },
  {
   "cell_type": "code",
   "execution_count": 8,
   "id": "9ec575ab",
   "metadata": {},
   "outputs": [
    {
     "name": "stdout",
     "output_type": "stream",
     "text": [
      "\n",
      "Nome: Huan\n",
      "peso: 72\n",
      "quer continuar [S/N]? s\n",
      "\n",
      "Nome: Luigi\n",
      "peso: 59\n",
      "quer continuar [S/N]? s\n",
      "\n",
      "Nome: luiza\n",
      "peso: 70\n",
      "quer continuar [S/N]? s\n",
      "\n",
      "Nome: Mario\n",
      "peso: 50\n",
      "quer continuar [S/N]? n\n",
      "\n",
      "Ao todo você cadastrou 4 pessoas.\n",
      "O maior peso é 72.0Kg. Peso de ['Huan']\n",
      "O menor peso é 50.0Kg. Peso de ['Mario']\n"
     ]
    }
   ],
   "source": [
    "dados = []\n",
    "lista = []\n",
    "listapeso = []\n",
    "\n",
    "while True:\n",
    "    dados.append(input('\\nNome: ').strip())\n",
    "    dados.append(int(input('peso: ')))\n",
    "    listapeso.append(dados[1])\n",
    "    lista.append(dados[:])\n",
    "    dados.clear()\n",
    "    \n",
    "    saida = input('quer continuar [S/N]? ').strip()\n",
    "    if saida in 'Nn':\n",
    "        break\n",
    "        \n",
    "a = max(listapeso)\n",
    "b = min(listapeso)\n",
    "\n",
    "listamax = []\n",
    "listamin = []\n",
    "\n",
    "for c in lista:\n",
    "    if c[1] == a:\n",
    "        listamax.append(c[0])\n",
    "    if c[1] == b:\n",
    "        listamin.append(c[0])\n",
    "\n",
    "print(f'\\nAo todo você cadastrou {len(lista)} pessoas.')\n",
    "print(f'O maior peso é {a:.1f}Kg. Peso de {listamax}')\n",
    "print(f'O menor peso é {b:.1f}Kg. Peso de {listamin}')\n",
    "\n"
   ]
  }
 ],
 "metadata": {
  "kernelspec": {
   "display_name": "Python 3 (ipykernel)",
   "language": "python",
   "name": "python3"
  },
  "language_info": {
   "codemirror_mode": {
    "name": "ipython",
    "version": 3
   },
   "file_extension": ".py",
   "mimetype": "text/x-python",
   "name": "python",
   "nbconvert_exporter": "python",
   "pygments_lexer": "ipython3",
   "version": "3.9.7"
  }
 },
 "nbformat": 4,
 "nbformat_minor": 5
}
