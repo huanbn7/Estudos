{
 "cells": [
  {
   "cell_type": "markdown",
   "id": "08440378",
   "metadata": {},
   "source": [
    "Exercício Python 079: Crie um programa onde o usuário possa digitar vários valores numéricos e cadastre-os em uma lista. Caso o número já exista lá dentro, ele não será adicionado. No final, serão exibidos todos os valores únicos digitados, em ordem crescente. \n"
   ]
  },
  {
   "cell_type": "code",
   "execution_count": 12,
   "id": "99320cdc",
   "metadata": {},
   "outputs": [
    {
     "name": "stdout",
     "output_type": "stream",
     "text": [
      "\n",
      "Digite um numero: 2\n",
      "Quer continuar, S ou N? s\n",
      "\n",
      "Digite um numero: 3\n",
      "Quer continuar, S ou N? s\n",
      "\n",
      "Digite um numero: 6\n",
      "Quer continuar, S ou N? s\n",
      "\n",
      "Digite um numero: 3\n",
      "Valor duplicado. Não vou adicionar!!\n",
      "Quer continuar, S ou N? s\n",
      "\n",
      "Digite um numero: 6\n",
      "Valor duplicado. Não vou adicionar!!\n",
      "Quer continuar, S ou N? n\n",
      "\n",
      "Os numeros que você digitou foram [2, 3, 6]\n"
     ]
    }
   ],
   "source": [
    "lista = []\n",
    "b = ''\n",
    "\n",
    "while True:\n",
    "    \n",
    "    valor = int(input('\\nDigite um numero: '))\n",
    "    \n",
    "    if valor in lista:\n",
    "        print('Valor duplicado. Não vou adicionar!!')\n",
    "    \n",
    "    while valor not in lista:\n",
    "        lista.append(valor)\n",
    "        break\n",
    "    \n",
    "    saida = input('Quer continuar, S ou N? ').casefold()\n",
    "    if saida == 'n':\n",
    "        break\n",
    "\n",
    "        \n",
    "\n",
    "print(f'\\nOs numeros que você digitou foram {lista}')"
   ]
  }
 ],
 "metadata": {
  "kernelspec": {
   "display_name": "Python 3 (ipykernel)",
   "language": "python",
   "name": "python3"
  },
  "language_info": {
   "codemirror_mode": {
    "name": "ipython",
    "version": 3
   },
   "file_extension": ".py",
   "mimetype": "text/x-python",
   "name": "python",
   "nbconvert_exporter": "python",
   "pygments_lexer": "ipython3",
   "version": "3.9.7"
  }
 },
 "nbformat": 4,
 "nbformat_minor": 5
}
