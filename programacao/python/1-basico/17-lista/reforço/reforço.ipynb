{
 "cells": [
  {
   "cell_type": "markdown",
   "id": "13663eef",
   "metadata": {},
   "source": [
    "Faça um Programa que leia um vetor de 5 números inteiros e mostre-os."
   ]
  },
  {
   "cell_type": "code",
   "execution_count": null,
   "id": "ff4135a9",
   "metadata": {},
   "outputs": [],
   "source": [
    "lista = [0, 1, 2, 3, 4]\n",
    "\n",
    "for i in lista:\n",
    "    print(f'➡ {i} ', end='')\n"
   ]
  },
  {
   "cell_type": "markdown",
   "id": "0080e213",
   "metadata": {},
   "source": [
    "Faça um Programa que leia um vetor de 10 números reais e mostre-os na ordem inversa."
   ]
  },
  {
   "cell_type": "code",
   "execution_count": null,
   "id": "d1fce9e5",
   "metadata": {},
   "outputs": [],
   "source": [
    "lista = [0, 1, 2, 3, 4, 5, 6, 7, 8, 9]\n",
    "\n",
    "for i in lista[::-1]:\n",
    "    print(f'➡ {i} ', end='')\n"
   ]
  },
  {
   "cell_type": "markdown",
   "id": "f6add04e",
   "metadata": {},
   "source": [
    "Faça um Programa que leia 4 notas, mostre as notas e a média na tela."
   ]
  },
  {
   "cell_type": "code",
   "execution_count": null,
   "id": "badaf0a9",
   "metadata": {},
   "outputs": [],
   "source": [
    "notas = [7.5, 5.9, 5.3, 7.9]\n",
    "\n",
    "for p, i in enumerate(notas):\n",
    "    print(f'{p+1}° nota ➡ {i}')\n",
    "\n",
    "print(f'\\nMédia: {sum(notas)}')\n"
   ]
  },
  {
   "cell_type": "markdown",
   "id": "b5e33d13",
   "metadata": {},
   "source": [
    "Faça um Programa que leia um vetor de 10 caracteres, e diga quantas consoantes foram lidas. Imprima as consoantes."
   ]
  },
  {
   "cell_type": "code",
   "execution_count": null,
   "id": "fad1a6f7",
   "metadata": {},
   "outputs": [],
   "source": [
    "word = list(input('enter a word of 10 letter: '))\n",
    "\n",
    "cont = 0\n",
    "\n",
    "print()\n",
    "for l in word:\n",
    "    if l not in 'aeiou':\n",
    "        print(f'{l}', end='')\n",
    "        cont += 1\n",
    "print(f'\\nTotal of consonants: {cont}')\n"
   ]
  },
  {
   "cell_type": "markdown",
   "id": "b4e68355",
   "metadata": {},
   "source": [
    "Faça um Programa que leia 20 números inteiros e armazene-os num vetor. Armazene os números pares no vetor PAR e os números IMPARES no vetor impar. Imprima os três vetores.\n"
   ]
  },
  {
   "cell_type": "code",
   "execution_count": null,
   "id": "7f53a1bf",
   "metadata": {},
   "outputs": [],
   "source": [
    "listall = [int(input(f'{n+1}° number: ')) for n in range(10)]\n",
    "par = []\n",
    "impar = []\n",
    "\n",
    "for n in listall:\n",
    "    if n % 2 == 0:\n",
    "        par.append(n)\n",
    "    else:\n",
    "        impar.append(n)\n",
    "\n",
    "print(f'\\n{listall}\\n{par}\\n{impar}')\n"
   ]
  },
  {
   "cell_type": "markdown",
   "id": "8c2c30ae",
   "metadata": {},
   "source": [
    "Faça um Programa que peça as quatro notas de 10 alunos, calcule e armazene num vetor a média de cada aluno, imprima o número de alunos com média maior ou igual a 7.0.\n"
   ]
  },
  {
   "cell_type": "code",
   "execution_count": null,
   "id": "9d394e5a",
   "metadata": {},
   "outputs": [],
   "source": [
    "notas = []\n",
    "\n",
    "for a in range(2):\n",
    "    print(f'\\nNotas do {a+1}° aluno')\n",
    "    dados = [int(input(f'{i+1}° nota: ')) for i in range(4)]\n",
    "    notas.append((sum(dados)/len(dados)))\n",
    "\n",
    "print('\\n▶ Médias acima ou igual á 7\\n')\n",
    "\n",
    "cont = 0\n",
    "for p, n in enumerate(notas):\n",
    "    if n >= 7:\n",
    "        print(f'{p}° aluno: {n}')\n",
    "        cont += 1\n",
    "\n",
    "if cont == 0:\n",
    "    print('Nenhuma nota')\n"
   ]
  },
  {
   "cell_type": "markdown",
   "id": "e7006c0e",
   "metadata": {},
   "source": [
    "Faça um Programa que leia um vetor de 5 números inteiros, mostre a soma, a multiplicação e os números.\n"
   ]
  },
  {
   "cell_type": "code",
   "execution_count": null,
   "id": "4b0e4d6a",
   "metadata": {},
   "outputs": [],
   "source": [
    "from numpy import *\n",
    "\n",
    "numeros = [1, 1, 2, 3, 4]\n",
    "\n",
    "print(f'Soma: {sum(numeros)}')\n",
    "print(f'Multiplicação: {prod(numeros)}')\n",
    "print('Items da lista: ', end='')\n",
    "for i in numeros:\n",
    "    print(f'{i}, ', end='')\n"
   ]
  },
  {
   "cell_type": "markdown",
   "id": "5141ec9e",
   "metadata": {},
   "source": [
    "Faça um Programa que peça a idade e a altura de 5 pessoas, armazene cada informação no seu respectivo vetor. Imprima a idade e a altura na ordem inversa a ordem lida.\n"
   ]
  },
  {
   "cell_type": "code",
   "execution_count": null,
   "id": "cefadd79",
   "metadata": {},
   "outputs": [],
   "source": [
    "lista = []\n",
    "\n",
    "for p in range(2):\n",
    "    print(f'\\n{p+1}° pessoa')\n",
    "    dados = [int(input('Idade: ')), float(input('Altura: '))]\n",
    "    lista.append(dados[:])\n",
    "\n",
    "print('\\n===== TUDO AO CONTRÁRIO =====')\n",
    "cont = 2\n",
    "for i in lista[::-1]:\n",
    "    print(f'\\n{cont}° pessoa')\n",
    "    print(f'Altura: {i[1]}')\n",
    "    print(f'Idade: {i[0]}')\n",
    "    cont -= 1\n"
   ]
  },
  {
   "cell_type": "markdown",
   "id": "3058a6a8",
   "metadata": {},
   "source": [
    "Faça um Programa que leia um vetor A com 10 números inteiros, calcule e mostre a soma dos quadrados dos elementos do vetor.\n"
   ]
  },
  {
   "cell_type": "code",
   "execution_count": null,
   "id": "856ff274",
   "metadata": {},
   "outputs": [],
   "source": [
    "lista = [0, 1, 2, 3, 4, 5, 6, 7, 8, 9]\n",
    "\n",
    "cont = 0\n",
    "for i in lista:\n",
    "    cont += i**2\n",
    "\n",
    "print(f'Soma dos quadrados dos elementos do vetor: {cont}')\n"
   ]
  },
  {
   "cell_type": "markdown",
   "id": "a4ff663e",
   "metadata": {},
   "source": [
    "Faça um Programa que leia dois vetores com 10 elementos cada. Gere um terceiro vetor de 20 elementos, cujos valores deverão ser compostos pelos elementos intercalados dos dois outros vetores."
   ]
  },
  {
   "cell_type": "code",
   "execution_count": null,
   "id": "26ae8198",
   "metadata": {},
   "outputs": [],
   "source": [
    "lista1 = []\n",
    "lista2 = []\n",
    "tudo = []\n",
    "\n",
    "\n",
    "for i in range(1):\n",
    "    for i in range(5):\n",
    "        lista1.append(input('Elemento da lista 1: '))\n",
    "    print()\n",
    "    for i in range(5):\n",
    "        lista2.append(input('Elemento da lista 2: '))\n",
    "\n",
    "for i in range(5):\n",
    "    tudo.append(lista1[i])\n",
    "    tudo.append(lista2[i])\n",
    "\n",
    "print(f'\\nPrimeiro vetor = {lista1}')\n",
    "print(f'Segundo vetor = {lista2}')\n",
    "print(f'Terceiro vetor = {tudo}')\n"
   ]
  },
  {
   "cell_type": "markdown",
   "id": "f535a164",
   "metadata": {},
   "source": [
    "Altere o programa anterior, intercalando 3 vetores de 10 elementos cada."
   ]
  },
  {
   "cell_type": "code",
   "execution_count": null,
   "id": "c9d5f113",
   "metadata": {},
   "outputs": [],
   "source": [
    "lista1 = []\n",
    "lista2 = []\n",
    "lista3 = []\n",
    "tudo = []\n",
    "\n",
    "\n",
    "for i in range(1):\n",
    "    for i in range(5):\n",
    "        lista1.append(input('Elemento da lista 1: '))\n",
    "    print()\n",
    "    for i in range(5):\n",
    "        lista2.append(input('Elemento da lista 2: '))\n",
    "    print()\n",
    "    for i in range(5):\n",
    "        lista3.append(input('Elemento da lista 3: '))\n",
    "\n",
    "for i in range(5):\n",
    "    tudo.append(lista1[i])\n",
    "    tudo.append(lista2[i])\n",
    "    tudo.append(lista3[i])\n",
    "\n",
    "print(f'\\nPrimeiro vetor = {lista1}')\n",
    "print(f'Segundo vetor = {lista2}')\n",
    "print(f'Terceiro vetor = {lista3}')\n",
    "print(f'Ultimo = {tudo}')\n"
   ]
  },
  {
   "cell_type": "markdown",
   "id": "5e19557e",
   "metadata": {},
   "source": [
    "Foram anotadas as idades e alturas de 30 alunos. Faça um Programa que determine quantos alunos com mais de 13 anos possuem altura inferior à média de altura desses alunos.\n"
   ]
  },
  {
   "cell_type": "code",
   "execution_count": null,
   "id": "46a6adc5",
   "metadata": {},
   "outputs": [],
   "source": [
    "lista = [['amanda', 15, 1.68], ['bruno', 18, 1.89],    ['clarisse', 14, 1.53], ['diego', 17, 1.79],   ['eduarda', 18, 1.80],\n",
    "         ['fabio', 12, 1.65],  ['gabriela', 18, 1.70], ['higor', 13,\n",
    "                                                        1.60],    ['janaina', 19, 1.74], ['klauss', 19, 2.00],\n",
    "         ['lidiane', 17, 1.70], ['matheus', 18, 1.82],  ['nice', 12,\n",
    "                                                         1.45],     ['oswald', 19, 1.92],  ['paula', 19, 1.68],\n",
    "         ['rauber', 10, 1.40], ['alice', 16, 1.68],    ['liminha',\n",
    "                                                        11, 1.34],  ['lais', 19, 1.73],    ['joana', 16, 1.60],\n",
    "         ['thiago', 19, 1.95], ['fabricio', 13, 1.56], ['marcela', 18, 1.81],  [\n",
    "    'roberto', 19, 1.90], ['ednaldo', 18, 1.79],\n",
    "    ['lucas', 18, 1.88],  ['sofia', 18, 1.69],    ['gislayne',\n",
    "                                                   19, 1.80], ['fagner', 18, 1.79],  ['nicolal', 19, 2.00]\n",
    "]\n",
    "\n",
    "\n",
    "cont = 0\n",
    "for i in lista:\n",
    "    cont += i[2]\n",
    "\n",
    "print('▶ Pessoas com idade acima de 13\\n')\n",
    "print('\\033[1;33m—\\033[m'*22)\n",
    "print(' \\033[1mNOME\\033[m     \\033[1;33m | \\033[m  \\033[1mIDADE\\033[m   ')\n",
    "print('\\033[1;33m—\\033[m'*22)\n",
    "for i in lista:\n",
    "    if i[1] > 13:\n",
    "        print(\n",
    "            f'\\033[1;34m{i[0]:<9}\\033[m  \\033[1;33m|\\033[m    \\033[1m{i[1]:<7}\\033[m')\n",
    "\n",
    "\n",
    "print('\\n\\n▶ Pessoas com a altura abaixo da média\\n')\n",
    "print('\\033[1;33m—\\033[m'*23)\n",
    "print(' \\033[1mNOME\\033[m     \\033[1;33m | \\033[m  \\033[1mALTURA\\033[m   ')\n",
    "print('\\033[1;33m—\\033[m'*23)\n",
    "for i in lista:\n",
    "    if i[2] < cont/len(lista):\n",
    "        print(\n",
    "            f'\\033[1;34m{i[0]:<9}\\033[m  \\033[1;33m|\\033[m    \\033[1m{i[2]:<7.2f}\\033[m')\n",
    "\n",
    "\n",
    "print('\\n\\n▶ Pessoas com a altura abaixo da média e acima de 13 anos\\n')\n",
    "print('\\033[1;33m—\\033[m'*34)\n",
    "print(' \\033[1mNOME\\033[m     \\033[1;33m | \\033[m  \\033[1mIDADE\\033[m  \\033[1;33m | \\033[m  \\033[1mALTURA\\033[m   ')\n",
    "print('\\033[1;33m—\\033[m'*34)\n",
    "\n",
    "for i in lista:\n",
    "    if i[1] > 13 and i[2] < cont/len(lista):\n",
    "        print(\n",
    "            f'\\033[1;34m{i[0]:<9}\\033[m  \\033[1;33m{\"|\"}\\033[m  \\033[1;34m{i[1]:>4}\\033[m  \\033[1;33m{\"|\":>4}\\033[m  \\033[1m{i[2]:>6.2f}\\033[m')\n"
   ]
  },
  {
   "cell_type": "markdown",
   "id": "4327c7f0",
   "metadata": {},
   "source": [
    "Faça um programa que receba a temperatura média de cada mês do ano e armazene-as em uma lista. Após isto, calcule a média anual das temperaturas e mostre todas as temperaturas acima da média anual, e em que mês elas ocorreram (mostrar o mês por extenso: 1 – Janeiro, 2 – Fevereiro, . . . )."
   ]
  },
  {
   "cell_type": "code",
   "execution_count": null,
   "id": "c7a04666",
   "metadata": {},
   "outputs": [],
   "source": [
    "mes = ['Janeiro', 'Fevereiro', 'Março', 'Abril', 'Maio', 'Junho',\n",
    "       'Julho', 'Agosto', 'Setembro', 'Outubro', 'Novembro', 'Dezembro']\n",
    "tm = []\n",
    "\n",
    "\n",
    "print('▶ Qual a temperatura média em °C de cada mês?\\n')\n",
    "for i in mes:\n",
    "    tm.append(int(input(f'{i}: ')))\n",
    "\n",
    "media = sum(tm)/len(tm)\n",
    "\n",
    "print(f'\\n\\n▶ Temperaturas acima da média ({media:.1f}°C)\\n')\n",
    "for pos, l in enumerate(tm):\n",
    "    if l > media:\n",
    "        print(f'{lista[pos]}: {l}°C ')\n"
   ]
  },
  {
   "cell_type": "markdown",
   "id": "27fd4f58",
   "metadata": {},
   "source": [
    "Utilizando listas faça um programa que faça 5 perguntas para uma pessoa sobre um crime. As perguntas são:\n",
    "\n",
    "\n",
    "- \"Telefonou para a vítima?\"\n",
    "- \"Esteve no local do crime?\"\n",
    "- \"Mora perto da vítima?\"\n",
    "- \"Devia para a vítima?\"\n",
    "- \"Já trabalhou com a vítima?\" \n",
    "\n",
    "\n",
    "O programa deve no final emitir uma classificação sobre a participação da pessoa no crime. Se a pessoa responder positivamente 2 questões ela deve ser classificada como \"Suspeita\", entre 3 e 4 como \"Cúmplice\" e 5 como \"Assassino\". Caso contrário, ele será classificado como \"Inocente\"."
   ]
  },
  {
   "cell_type": "code",
   "execution_count": null,
   "id": "762bfe90",
   "metadata": {},
   "outputs": [],
   "source": [
    "resposta = []\n",
    "\n",
    "while True:\n",
    "    print('- Responda as perguntas com sim ou não.')\n",
    "    resposta.append(input('\\nTelefonou para a vítima? ').casefold().strip())\n",
    "    resposta.append(input('Esteve no local do crime? ').casefold().strip())\n",
    "    resposta.append(input('Mora perto da vítima? ').casefold().strip())\n",
    "    resposta.append(input('Devia para a vítima? ').casefold().strip())\n",
    "    resposta.append(input('Já trabalhou com a vítima? ').casefold().strip())\n",
    "    break\n",
    "\n",
    "cont = 0\n",
    "\n",
    "for pos, i in enumerate(resposta):\n",
    "    if resposta[pos] == 'sim':\n",
    "        cont += 1\n",
    "\n",
    "print()\n",
    "if cont < 2:\n",
    "    print('- Você é considerado inocente.')\n",
    "elif cont == 2:\n",
    "    print('- Você é considerado Suspeito (a).')\n",
    "elif cont == 3 or cont == 4:\n",
    "    print('- Você é considerado Cúmplice.')\n",
    "elif cont == 5:\n",
    "    print('- Você é considerao Culpado.')\n"
   ]
  },
  {
   "cell_type": "markdown",
   "id": "84aa8f4a",
   "metadata": {},
   "source": [
    "Faça um programa que leia um número indeterminado de valores, correspondentes a notas, encerrando a entrada de dados quando for informado um valor igual a -1 (que não deve ser armazenado). Após esta entrada de dados, faça:\n",
    "\n",
    "- Mostre a quantidade de valores que foram lidos;\n",
    "- Exiba todos os valores na ordem em que foram informados, um ao lado do outro;\n",
    "- Exiba todos os valores na ordem inversa à que foram informados, um abaixo do outro;\n",
    "- Calcule e mostre a soma dos valores;\n",
    "- Calcule e mostre a média dos valores;\n",
    "- Calcule e mostre a quantidade de valores acima da média calculada;\n",
    "- Calcule e mostre a quantidade de valores abaixo de sete;"
   ]
  },
  {
   "cell_type": "code",
   "execution_count": null,
   "id": "850294e5",
   "metadata": {},
   "outputs": [],
   "source": [
    "notas = []\n",
    "cont = 1\n",
    "cont2 = cont3 = 0\n",
    "\n",
    "while True:\n",
    "    notas.append(float(input(f'\\nNotas do {cont}° aluno: ')))\n",
    "    cont += 1\n",
    "    if input('Deseja continuar [S/N]? ').casefold() == 'n':\n",
    "        break\n",
    "\n",
    "# Quantidade de notas armazenadas\n",
    "print(f'\\nQuantidade de notas armazenadas: {len(notas)}')\n",
    "\n",
    "# Notas armazenadas\n",
    "print('Notas armazenadas: ', end='')\n",
    "for n in notas:\n",
    "    print(n, end=', ')\n",
    "\n",
    "# Notas ao inverso\n",
    "print('\\nNotas ao inverso: ', end='')\n",
    "for n in notas[::-1]:\n",
    "    print(n, end=', ')\n",
    "\n",
    "# Soma geral\n",
    "print(f'\\nSoma de todas as notas: {sum(notas)}')\n",
    "\n",
    "# Media de todas as notas\n",
    "print(f'Média das notas armazenadas: {sum(notas)/len(notas)}')\n",
    "\n",
    "# Notas acima da média\n",
    "for n in notas:\n",
    "    if n > sum(notas)/len(notas):\n",
    "        cont2 += 1\n",
    "print(f'Quantidade de notas acima da média: {cont2}')\n",
    "\n",
    "# Notas abaixo de 7\n",
    "for n in notas:\n",
    "    if n < 7:\n",
    "        cont3 += 1\n",
    "print(f'Notas abaixo de 7: {cont3}')\n"
   ]
  },
  {
   "cell_type": "markdown",
   "id": "35cc2301",
   "metadata": {},
   "source": [
    "Em uma competição de salto em distância cada atleta tem direito a cinco saltos. O resultado do atleta será determinado pela média dos cinco valores. Você deve fazer um programa que receba o nome e as cinco distâncias alcançadas pelo atleta em seus saltos e depois informe o nome, os saltos e a média dos saltos. O programa deve ser encerrado quando não for informado o nome do atleta. A saída do programa deve ser conforme o exemplo abaixo:"
   ]
  },
  {
   "cell_type": "code",
   "execution_count": null,
   "id": "219c09f6",
   "metadata": {},
   "outputs": [],
   "source": [
    "atletas = []\n",
    "dados = []\n",
    "\n",
    "while True:\n",
    "    dados.append(input('\\nNome: ').capitalize())\n",
    "    for i in range(1, 6):\n",
    "        dados.append(float(input(f'Distância do {i}° salto: ')))\n",
    "\n",
    "    dados.insert(0, sum(dados[1:])/len(dados[1:]))\n",
    "    atletas.append(dados[:])\n",
    "    dados.clear()\n",
    "\n",
    "    if input('Mais algum atleta [s/n]? ').casefold().strip() == 'n':\n",
    "        break\n",
    "\n",
    "\n",
    "atletas.sort(reverse=True)\n",
    "\n",
    "print('\\n▶ RESULTADO FINAL')\n",
    "print(f'\\n{\"Pos\":<9} {\"Atleta\":<12} {\"Média\"}')\n",
    "for pos, i in enumerate(atletas):\n",
    "    print(f'{pos+1}{\"°\":<7}  {i[1]:<12}  {i[0]}')\n"
   ]
  },
  {
   "cell_type": "markdown",
   "id": "0eff5326",
   "metadata": {},
   "source": [
    "Uma empresa de pesquisas precisa tabular os resultados da seguinte enquete feita a um grande quantidade de organizações:\n",
    "\n",
    "\n",
    "\"Qual o melhor Sistema Operacional para uso em servidores?\"\n",
    "\n",
    "As possíveis respostas são:\n",
    "- 1- Windows Server\n",
    "- 2- Unix\n",
    "- 3- Linux\n",
    "- 4- Netware\n",
    "- 5- Mac OS\n",
    "- 6- Outro\n",
    "\n",
    "\n",
    "Você foi contratado para desenvolver um programa que leia o resultado da enquete e informe ao final o resultado da mesma. O programa deverá ler os valores até ser informado o valor 0, que encerra a entrada dos dados. Não deverão ser aceitos valores além dos válidos para o programa (0 a 6). Os valores referentes a cada uma das opções devem ser armazenados num vetor. Após os dados terem sido completamente informados, o programa deverá calcular a percentual de cada um dos concorrentes e informar o vencedor da enquete. O formato da saída foi dado pela empresa, e é o seguinte:"
   ]
  },
  {
   "cell_type": "code",
   "execution_count": null,
   "id": "3fb15e2b",
   "metadata": {},
   "outputs": [],
   "source": [
    "votos = []\n",
    "cont = 0\n",
    "\n",
    "print('''\n",
    "▶ Qual o melhor Sistema Operacional para uso em servidores?\n",
    "\n",
    "1- Windows Server\n",
    "2- Unix\n",
    "3- Linux\n",
    "4- Netware\n",
    "5- Mac OS\n",
    "6- Outro\n",
    "0- PARA SAIR\n",
    "''')\n",
    "\n",
    "print('\\n▶ Votação....\\n')\n",
    "\n",
    "while True:\n",
    "\n",
    "    # receber os valores da enquete\n",
    "    voto = int(input(f'Voto de numero {cont+1} ➡ '))\n",
    "    cont += 1\n",
    "\n",
    "    # valores digitados pelo usuário que não seja de 0 a 6 deve retornar um erro\n",
    "    while voto < 0 or voto > 6:\n",
    "        voto = int(input('ERRO. Digite um número de 0 a 6: '))\n",
    "\n",
    "    # se o usuário digitar 0 o programa finaliza\n",
    "    if voto == 0:\n",
    "        break\n",
    "\n",
    "    # armazena os valores\n",
    "    votos.append(voto)\n",
    "\n",
    "\n",
    "empresas = [[votos.count(1), 'Windows_Server'], [votos.count(2), 'Unix'], [votos.count(3), 'Linux'],\n",
    "            [votos.count(4), 'Netware'], [votos.count(5), 'Mac_OS'], [votos.count(6), 'Outro']]\n",
    "\n",
    "# tabela\n",
    "empresas.sort(reverse=True)\n",
    "print('\\n\\n▶ Resultado....\\n\\n')\n",
    "\n",
    "print('Sistema Operacional     Votos            %\\n')\n",
    "for pos, i in enumerate(empresas):\n",
    "    print(\n",
    "        f'{empresas[pos][1]:<25} {empresas[pos][0]:<10}  {(100*empresas[pos][0])/len(votos):.2f}% ')\n",
    "\n",
    "print(f'\\nTotal                   {len(votos):>3}')\n",
    "\n",
    "print(\n",
    "    f'\\n\\n▶ O Sistema Operacional mais votado foi o {empresas[0][1]}, com {empresas[0][0]} votos, correspondendo a {(100*empresas[0][0])/len(votos):.2f}% dos votos.')\n"
   ]
  },
  {
   "cell_type": "markdown",
   "id": "815b49cf",
   "metadata": {},
   "source": [
    "As Organizações Tabajara resolveram dar um abono aos seus colaboradores em reconhecimento ao bom resultado alcançado durante o ano que passou. Para isto contratou você para desenvolver a aplicação que servirá como uma projeção de quanto será gasto com o pagamento deste abono.\n",
    "\n",
    "Após reuniões envolvendo a diretoria executiva, a diretoria financeira e os representantes do sindicato laboral, chegou-se a seguinte forma de cálculo:\n",
    "\n",
    " - Cada funcionário receberá o equivalente a 20% do seu salário bruto de dezembro; \n",
    " - O piso do abono será de 100 reais, isto é, aqueles funcionários cujo salário for muito baixo, recebem este valor mínimo; \n",
    "\n",
    "Neste momento, não se deve ter nenhuma preocupação com colaboradores com tempo menor de casa, descontos, impostos ou outras particularidades. Seu programa deverá permitir a digitação do salário de um número indefinido (desconhecido) de salários. Um valor de salário igual a 0 (zero) encerra a digitação. Após a entrada de todos os dados o programa deverá calcular o valor do abono concedido a cada colaborador, de acordo com a regra definida acima. Ao final, o programa deverá apresentar:\n",
    "\n",
    "- O salário de cada funcionário, juntamente com o valor do abono;\n",
    "- O número total de funcionário processados;\n",
    "- O valor total a ser gasto com o pagamento do abono;\n",
    "- O número de funcionário que receberá o valor mínimo de 100 reais;\n",
    "- O maior valor pago como abono; "
   ]
  },
  {
   "cell_type": "code",
   "execution_count": null,
   "id": "8c509d8e",
   "metadata": {},
   "outputs": [],
   "source": [
    "salarios = []\n",
    "cont = cont2 = total = 0\n",
    "\n",
    "\n",
    "while True:\n",
    "    salario = [float(input(f'{cont+1}° salário (0 para sair): R$ '))]\n",
    "    cont += 1\n",
    "\n",
    "    if salario[0] == 0:\n",
    "        break\n",
    "\n",
    "    if salario[0] <= 500:\n",
    "        salario.append(100)\n",
    "        cont2 += 1\n",
    "    else:\n",
    "        salario.append(salario[0]*0.2)\n",
    "\n",
    "    salarios.append(salario[:])\n",
    "    salario.clear()\n",
    "\n",
    "\n",
    "print('\\nCod      Salário        Abono')\n",
    "for pos, sl in enumerate(salarios):\n",
    "    print(f' {pos+1:<7} R${sl[0]:<12.2f} R${sl[1]:.2f}')\n",
    "    total += sl[1]\n",
    "\n",
    "\n",
    "print(f'\\nAo todo foram pagos {len(salarios)} funcionários.')\n",
    "print(f'Total gasto com abono: R${total} ')\n",
    "print(f'Quantidade de funcionários que receberam o teto: {cont2}')\n",
    "print(f'O maior abono pago teve o valor: {max(salarios)[1]}')\n"
   ]
  },
  {
   "cell_type": "markdown",
   "id": "4a4862b6",
   "metadata": {},
   "source": [
    "Faça um programa que carregue uma lista com os modelos de cinco carros (exemplo de modelos: FUSCA, GOL, VECTRA etc). \n",
    "Carregue uma outra lista com o consumo desses carros, isto é, quantos quilômetros cada um desses carros faz com um \n",
    "litro de combustível. \n",
    "\n",
    "Calcule e mostre:\n",
    "\n",
    "- A) O modelo do carro mais econômico;\n",
    "- B) Quantos litros de combustível cada um dos carros cadastrados consome para percorrer uma distância de 1000 quilômetros e quanto isto custará, considerando um que a gasolina custe R$ 2,25 o litro. Abaixo segue uma tela de exemplo. O disposição das informações deve ser o mais próxima possível ao exemplo. Os dados são fictícios e podem mudar a cada execução do programa.\n",
    " \n",
    "\n"
   ]
  },
  {
   "cell_type": "code",
   "execution_count": null,
   "id": "358b4901",
   "metadata": {},
   "outputs": [],
   "source": [
    "carro = []\n",
    "consumo = []\n",
    "\n",
    "for i in range(3):\n",
    "    print(f'\\n▶ Veiculo {i+1}')\n",
    "    \n",
    "    carro.append(input('Nome: '))\n",
    "    consumo.append(int(input('Km por litro: ')))\n",
    "\n",
    "a = max(consumo)\n",
    "modelo_mais_economico = carro[consumo.index(a)]\n",
    "\n",
    "print(f'\\nO carros mais econômico é o {modelo_mais_economico}.')\n",
    "\n",
    "print('\\nCarro     Consumo 1k     Consumo 1000Km     Custo (R$)')\n",
    "for pos,i in enumerate(consumo):\n",
    "    print(f'{carro[pos]:<10}   {i:<11}   {1000/i:<5.1f} {\"l\":<8}   R${(1000/i)*2.25:.2f}')"
   ]
  },
  {
   "cell_type": "markdown",
   "id": "f21924c0",
   "metadata": {},
   "source": [
    "Sua organização acaba de contratar um estagiário para trabalhar no Suporte de Informática, com a intenção de fazer um levantamento nas sucatas encontradas nesta área. A primeira tarefa dele é testar todos os cerca de 200 mouses que se encontram lá, testando e anotando o estado de cada um deles, para verificar o que se pode aproveitar deles.\n",
    "\n",
    "Foi requisitado que você desenvolva um programa para registrar este levantamento. O programa deverá receber um número indeterminado de entradas, cada uma contendo: um número de identificação do mouse o tipo de defeito:\n",
    "\n",
    "- A) necessita da esfera;\n",
    "- B) necessita de limpeza;\n",
    "- C) necessita troca do cabo ou conector; \n",
    "- D) quebrado ou inutilizado \n",
    "\n",
    "Uma identificação igual a zero encerra o programa."
   ]
  },
  {
   "cell_type": "code",
   "execution_count": null,
   "id": "578a0ff6",
   "metadata": {},
   "outputs": [],
   "source": [
    "print('''\\n\n",
    "▶ Digite o numero correspondente a situação do mouse                        \n",
    "\n",
    "1- necessita da esfera                  \n",
    "2- necessita de limpeza                 \n",
    "3- necessita troca do cabo ou conector  \n",
    "4- quebrado ou inutilizado\n",
    "0- finaliza o programa\n",
    "''')\n",
    "\n",
    "situaçao = []\n",
    "cont = 0\n",
    "\n",
    "while True:\n",
    "    s = int(input(f'Situação do mouse {cont+1}? '))\n",
    "    while -1 > s or s>4:\n",
    "        s = int(input(f'ERROR. Digite um numero de 0 a 4: '))\n",
    "    if s == 0:\n",
    "        break\n",
    "    situaçao.append(s)\n",
    "    cont += 1\n",
    "\n",
    "lista = [[situaçao.count(1),'necessita da esfera'],[situaçao.count(2),'necessita de limpeza'],\n",
    "         [situaçao.count(3),'necessita troca do cabo ou conector '],[situaçao.count(4),'quebrado ou inutilizado']]\n",
    "\n",
    "lista.sort(reverse=True)\n",
    "print(f'\\n\\n▶ Quantidade de mouses: {len(situaçao)}')\n",
    "print(f'\\n\\n{\"SITUAÇÃO\":<33}    {\"QUANTIDADE\":<10}    {\"PERCENTUAL\"}\\n')\n",
    "\n",
    "for i in lista:\n",
    "    print(f'{i[1]:<38}   {i[0]:<9}   {(i[0]*100)/len(situaçao):.1f}%')\n"
   ]
  }
 ],
 "metadata": {
  "interpreter": {
   "hash": "9a4f0b1f75230d0685db9f62ea9a74145eb856063afdde202d14c9725e05c010"
  },
  "kernelspec": {
   "display_name": "Python 3 (ipykernel)",
   "language": "python",
   "name": "python3"
  },
  "language_info": {
   "codemirror_mode": {
    "name": "ipython",
    "version": 3
   },
   "file_extension": ".py",
   "mimetype": "text/x-python",
   "name": "python",
   "nbconvert_exporter": "python",
   "pygments_lexer": "ipython3",
   "version": "3.9.7"
  }
 },
 "nbformat": 4,
 "nbformat_minor": 5
}
