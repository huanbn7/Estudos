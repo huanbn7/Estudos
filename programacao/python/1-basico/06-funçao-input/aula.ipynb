{
 "cells": [
  {
   "cell_type": "markdown",
   "id": "0bcb2961",
   "metadata": {},
   "source": [
    "## Função input()"
   ]
  },
  {
   "cell_type": "code",
   "execution_count": 2,
   "id": "d8fdf52e",
   "metadata": {},
   "outputs": [
    {
     "name": "stdout",
     "output_type": "stream",
     "text": [
      "Digite seu nome: Huan\n",
      "Olá Huan\n",
      "Digite seu nome: Huan\n",
      "Huan, quantos anos você tem? 17\n"
     ]
    }
   ],
   "source": [
    "\n",
    "# A função input serve para coletar dados e ao mesmo tempo enviar uma msg para o usuário\n",
    "# Ex.:\n",
    "a = input(\"Digite seu nome: \" )\n",
    "print(\"Olá\", a)\n",
    "\n",
    "a = input(\"Digite seu nome: \")   # Perguntei o nome do usuário\n",
    "b = input(f\"{a}, quantos anos você tem? \")   # Fiz outro input usando o F-String dentro do input, \n",
    "                                            # para colocar o valor do 1° input dentro do 2° input\n",
    "    "
   ]
  }
 ],
 "metadata": {
  "kernelspec": {
   "display_name": "Python 3 (ipykernel)",
   "language": "python",
   "name": "python3"
  },
  "language_info": {
   "codemirror_mode": {
    "name": "ipython",
    "version": 3
   },
   "file_extension": ".py",
   "mimetype": "text/x-python",
   "name": "python",
   "nbconvert_exporter": "python",
   "pygments_lexer": "ipython3",
   "version": "3.10.4"
  }
 },
 "nbformat": 4,
 "nbformat_minor": 5
}
