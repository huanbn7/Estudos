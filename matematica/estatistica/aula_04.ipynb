{
 "cells": [
  {
   "cell_type": "markdown",
   "id": "a9c3af39",
   "metadata": {
    "heading_collapsed": true
   },
   "source": [
    "# 💠 Distribuições de probabilidade"
   ]
  },
  {
   "cell_type": "markdown",
   "id": "e5ac2311",
   "metadata": {
    "heading_collapsed": true,
    "hidden": true
   },
   "source": [
    "##  ✴️ Distribuição normal"
   ]
  },
  {
   "cell_type": "markdown",
   "id": "2de19e3b",
   "metadata": {
    "heading_collapsed": true,
    "hidden": true
   },
   "source": [
    "###  🔹 Introdução"
   ]
  },
  {
   "cell_type": "markdown",
   "id": "11ccd5f1",
   "metadata": {
    "hidden": true
   },
   "source": [
    "A distribuição normal é uma das mais utilizadas em estatística. É uma distribuição contínua, onde a distribuição de frequências de uma variável quantitativa apresenta a forma de sino e é simétrica em relação a sua média."
   ]
  },
  {
   "cell_type": "markdown",
   "id": "7a6f9402",
   "metadata": {
    "hidden": true
   },
   "source": [
    "<img src='https://aprenderdatascience.com/wp-content/uploads/2020/08/imag2.png' style='float:left' width=600>"
   ]
  },
  {
   "cell_type": "markdown",
   "id": "c50eab9e",
   "metadata": {
    "hidden": true
   },
   "source": [
    "Parte de uma boa análise exploratória de dados é saber o tipo de distribuição que uma variável possui. Para então poder então escolher os métodos mais adequados para analisarmos nossa variável. Por exemplo:<br><br>\n",
    "\n",
    "> Se nossa variável possui uma distribuição normal, devemos analisa-la através dos testes paramétricos:\n",
    "> - **Teste T**\n",
    "> - **Tukey**\n",
    "> - **ANOVA**\n",
    "> - **Teste de correlação de Pearson**\n",
    "> - **etc** \n",
    "\n",
    "\n",
    ">Já se nossa variável não possuir uma distribuição normal, devemos analisa-la através dos testes não paramétricos:\n",
    "> - **Teste de correlação de Spearman**\n",
    "> - **Teste de correlação de Kendall**\n",
    "> - **Wilcoxon ou Mann-Whitney**\n",
    "> - **Kruskal Wallis**\n",
    "> - **etc**\n",
    "\n",
    "<br>"
   ]
  },
  {
   "cell_type": "markdown",
   "id": "aa3547b9",
   "metadata": {
    "heading_collapsed": true,
    "hidden": true
   },
   "source": [
    "###  🔹 Propriedades de uma distribuição normal"
   ]
  },
  {
   "cell_type": "markdown",
   "id": "a45b3b62",
   "metadata": {
    "hidden": true
   },
   "source": [
    "Quanto maior for a quantidade de dados, maior a tendência de termos uma distribuição normal. No mundo temos muitos fenômenos aleatórios que tem um comportamento de uma distribuição normal, como por exemplo, a altura ou o peso das pessoas. Algumas características dessa distribuição são:"
   ]
  },
  {
   "cell_type": "markdown",
   "id": "751d1e3f",
   "metadata": {
    "hidden": true
   },
   "source": [
    "1. É simétrica em torno da média;\n",
    "\n",
    "2. A área sob a curva corresponde à proporção 1 ou 100%;\n",
    "\n",
    "3. As medidas de tendência central (média, mediana e moda) apresentam o mesmo valor;\n",
    "\n",
    "4. Os extremos da curva tendem ao infinito em ambas as direções e, teoricamente, jamais tocam o eixo $x$;\n",
    "\n",
    "5. O desvio padrão define o achatamento e largura da distribuição. Curvas mais largas e mais achatadas apresentam valores maiores de desvio padrão;\n",
    "\n",
    "6. A distribuição é definida por sua média e desvio padrão;\n",
    "\n",
    "7. A probabilidade sempre será igual à área sob a curva, delimitada pelos limites inferior e superior."
   ]
  },
  {
   "cell_type": "markdown",
   "id": "650ab44d",
   "metadata": {
    "hidden": true
   },
   "source": [
    " "
   ]
  },
  {
   "cell_type": "markdown",
   "id": "b955a30c",
   "metadata": {
    "hidden": true
   },
   "source": [
    "<img src='https://www.inf.ufsc.br/~andre.zibetti/probabilidade/figures/normal.PNG' style='float:left' width='590'>"
   ]
  },
  {
   "cell_type": "markdown",
   "id": "8f3a18ab",
   "metadata": {
    "hidden": true
   },
   "source": [
    " "
   ]
  },
  {
   "cell_type": "markdown",
   "id": "250200fd",
   "metadata": {
    "heading_collapsed": true,
    "hidden": true
   },
   "source": [
    "###  🔹 Formula de densidade de probabilidade"
   ]
  },
  {
   "attachments": {},
   "cell_type": "markdown",
   "id": "810fd5be",
   "metadata": {
    "hidden": true
   },
   "source": [
    "$$f(x) = \\frac{1}{\\sqrt{2\\pi\\sigma}}e^{-\\frac{1}{2}\\left(\\frac{x-\\mu}{\\sigma}\\right)^2}$$"
   ]
  },
  {
   "cell_type": "markdown",
   "id": "9899d5bb",
   "metadata": {
    "hidden": true
   },
   "source": [
    "Onde:\n",
    "\n",
    "$x$ = variável normal\n",
    "\n",
    "$\\sigma$ = desvio padrão\n",
    "\n",
    "$\\mu$ = média"
   ]
  },
  {
   "cell_type": "markdown",
   "id": "dcf49472",
   "metadata": {
    "hidden": true
   },
   "source": [
    " "
   ]
  },
  {
   "cell_type": "markdown",
   "id": "288523b5",
   "metadata": {
    "heading_collapsed": true,
    "hidden": true
   },
   "source": [
    "###  🔹 Como saber se uma variável tem distribuição normal?"
   ]
  },
  {
   "cell_type": "markdown",
   "id": "712ed14c",
   "metadata": {
    "hidden": true
   },
   "source": [
    "Declarar se uma váriável possui uma distribuição normal não é tão simples, por isso devemos utilizar vários métodos que nos levarão a essa conclusão. Os métodos que vamos ver nesse tutorial são  Histograma, Boxplot, Quantil-Quantil Plot, testes de Shapiro-Wilk, Kolmogorov Smirnov(Lilliefors) e Anderson-Darling."
   ]
  },
  {
   "cell_type": "markdown",
   "id": "2a092efd",
   "metadata": {
    "hidden": true
   },
   "source": [
    "#### Importando as libs e o dataset"
   ]
  },
  {
   "cell_type": "code",
   "execution_count": 5,
   "id": "028e98bf",
   "metadata": {
    "ExecuteTime": {
     "end_time": "2022-12-20T17:03:18.749289Z",
     "start_time": "2022-12-20T17:03:18.712583Z"
    },
    "hidden": true
   },
   "outputs": [],
   "source": [
    "import pandas as pd\n",
    "import numpy as np\n",
    "import matplotlib.pyplot as plt\n",
    "import seaborn as sns\n",
    "import scipy.stats as stats\n",
    "from statsmodels.stats.diagnostic import lilliefors as lillie\n",
    "sns.set()"
   ]
  },
  {
   "cell_type": "code",
   "execution_count": 83,
   "id": "d87ffd3b",
   "metadata": {
    "ExecuteTime": {
     "end_time": "2022-12-08T00:05:02.410875Z",
     "start_time": "2022-12-08T00:05:02.356423Z"
    },
    "hidden": true
   },
   "outputs": [],
   "source": [
    "df = pd.read_csv('base-de-dados/dados.csv')"
   ]
  },
  {
   "cell_type": "markdown",
   "id": "d875f455",
   "metadata": {
    "hidden": true
   },
   "source": [
    "#### Histograma"
   ]
  },
  {
   "cell_type": "markdown",
   "id": "c4161072",
   "metadata": {
    "hidden": true
   },
   "source": [
    "Com base no que aprendemos sobre o histograma iremos analisar a variável **Altura** com o intuito de descobrir se as caracteristicas de uma distribuição normal se aplicam a essa variável."
   ]
  },
  {
   "cell_type": "code",
   "execution_count": 14,
   "id": "a5285e47",
   "metadata": {
    "ExecuteTime": {
     "end_time": "2022-12-07T22:33:28.679592Z",
     "start_time": "2022-12-07T22:33:28.127863Z"
    },
    "hidden": true
   },
   "outputs": [
    {
     "data": {
      "text/plain": [
       "Text(0, 0.5, 'Quantidade')"
      ]
     },
     "execution_count": 14,
     "metadata": {},
     "output_type": "execute_result"
    },
    {
     "data": {
      "image/png": "[encoded data removed]",
      "text/plain": [
       "<Figure size 1500x500 with 1 Axes>"
      ]
     },
     "metadata": {},
     "output_type": "display_data"
    }
   ],
   "source": [
    "plt.figure(figsize=(15, 5))\n",
    "sns.histplot(data=df, x='Altura', kde=True, color='purple')\n",
    "plt.ylabel('Quantidade')"
   ]
  },
  {
   "cell_type": "markdown",
   "id": "fcafd1e4",
   "metadata": {
    "hidden": true
   },
   "source": [
    "Agora vamos descobrir se a média, moda e median são iguais ou bem próximas."
   ]
  },
  {
   "cell_type": "code",
   "execution_count": 14,
   "id": "04e7a345",
   "metadata": {
    "ExecuteTime": {
     "end_time": "2022-11-14T22:21:59.023709Z",
     "start_time": "2022-11-14T22:21:59.003870Z"
    },
    "hidden": true
   },
   "outputs": [
    {
     "name": "stdout",
     "output_type": "stream",
     "text": [
      "1.7066552394444445\n",
      "1.6993247325\n",
      "1.6995124540575741\n"
     ]
    }
   ],
   "source": [
    "print(df['Altura'].mode().mean())\n",
    "print(df['Altura'].median())\n",
    "print(df['Altura'].mean())"
   ]
  },
  {
   "cell_type": "markdown",
   "id": "fd21f801",
   "metadata": {
    "hidden": true
   },
   "source": [
    " "
   ]
  },
  {
   "cell_type": "markdown",
   "id": "f4243c46",
   "metadata": {
    "hidden": true
   },
   "source": [
    "**OBS:**\n",
    "\n",
    "- Podemos observar que a distirbuição não é unimodal, no entanto a média das modas é praticamente igual a mediana e a média da variável Altura.\n",
    "- A distribuição pussui um formato de sino, caracteristica essa de uma distribuição normal como vimos.\n",
    "- A distribuição é quase 100% simétrica."
   ]
  },
  {
   "cell_type": "markdown",
   "id": "674f8220",
   "metadata": {
    "hidden": true
   },
   "source": [
    "Com base no que aprendemos sobre que é uma distribuição normal e quais as suas principais caracteristicas nós podemos dizer que temos uma distribuição normal. No entanto vamos usar os outros métodos para poder ter certeza."
   ]
  },
  {
   "cell_type": "markdown",
   "id": "ea5f6d67",
   "metadata": {
    "hidden": true
   },
   "source": [
    "#### Boxplot"
   ]
  },
  {
   "cell_type": "markdown",
   "id": "5fa1c20b",
   "metadata": {
    "hidden": true
   },
   "source": [
    "Um boxplot nada mais é que um Histograma visto de cima. No entanto, um boxplot nos dá mais informações sobre a distribuição dos dados."
   ]
  },
  {
   "cell_type": "code",
   "execution_count": 7,
   "id": "3ab49286",
   "metadata": {
    "ExecuteTime": {
     "end_time": "2022-12-20T17:03:41.643675Z",
     "start_time": "2022-12-20T17:03:41.472933Z"
    },
    "hidden": true
   },
   "outputs": [
    {
     "data": {
      "text/plain": [
       "<AxesSubplot: title={'center': 'BOXPLOT DOS VALORES DA ALTURA'}, xlabel='Altura'>"
      ]
     },
     "execution_count": 7,
     "metadata": {},
     "output_type": "execute_result"
    },
    {
     "data": {
      "image/png": "[encoded data removed]",
      "text/plain": [
       "<Figure size 2000x400 with 1 Axes>"
      ]
     },
     "metadata": {},
     "output_type": "display_data"
    }
   ],
   "source": [
    "plt.figure(figsize=(20,4))\n",
    "plt.title('BOXPLOT DOS VALORES DA ALTURA', fontsize=14, fontweight='bold')\n",
    "sns.boxplot(x='Altura', data=df, color='purple')"
   ]
  },
  {
   "cell_type": "markdown",
   "id": "836a259d",
   "metadata": {
    "hidden": true
   },
   "source": [
    "**OBS:**\n",
    "- Uma distribuição representada por um boxplot tem sua caixa muito proximo ao centro e é o que vemos no nosso boxplot.\n",
    "- Podemos observar também que existe uma simetria quase que perfeita ao comparar o primeiro lado do gráfico (o lado antes da mediana) com o segundo lado do gráfico (o lado após a mediana)."
   ]
  },
  {
   "cell_type": "markdown",
   "id": "597ef0e1",
   "metadata": {
    "hidden": true
   },
   "source": [
    "Esse gráfico só fortalece o que já descobrimos através do histograma."
   ]
  },
  {
   "cell_type": "markdown",
   "id": "0a416c9f",
   "metadata": {
    "hidden": true
   },
   "source": [
    "#### QQ Plot"
   ]
  },
  {
   "cell_type": "markdown",
   "id": "102fc2b4",
   "metadata": {
    "hidden": true
   },
   "source": [
    "O QQ-plot é uma ferramenta gráfica que dentre suas funções ele nos auxilia na verificação de uma distribuição normal. É mais eficiente que o BoxPlot e o Histograma. O QQ-Plot faz uma comparação entre quantis teóricos de uma distribuição normal e os quantis da nossa variável. "
   ]
  },
  {
   "cell_type": "code",
   "execution_count": 18,
   "id": "c31c8cc2",
   "metadata": {
    "ExecuteTime": {
     "end_time": "2022-12-07T22:35:32.085619Z",
     "start_time": "2022-12-07T22:35:31.586501Z"
    },
    "hidden": true
   },
   "outputs": [
    {
     "data": {
      "text/plain": [
       "Text(0.5, 1.0, 'NORMAL QQ PLOT')"
      ]
     },
     "execution_count": 18,
     "metadata": {},
     "output_type": "execute_result"
    },
    {
     "data": {
      "image/png": "[encoded data removed]",
      "text/plain": [
       "<Figure size 1500x500 with 1 Axes>"
      ]
     },
     "metadata": {},
     "output_type": "display_data"
    }
   ],
   "source": [
    "# Criando um qq-plot\n",
    "plt.figure(figsize=(15,5))\n",
    "stats.probplot(df['Altura'], dist='norm', plot=plt)\n",
    "plt.title('NORMAL QQ PLOT', fontsize=14, fontweight='bold')"
   ]
  },
  {
   "cell_type": "markdown",
   "id": "addc48d3",
   "metadata": {
    "hidden": true
   },
   "source": [
    "A reta vermelha representa como os nossos dados deveriam estar distribuidos caso nossa variável possuisse uma distribuição normal. Os pontos em azul demonstram como a nossa variável realmente está distribuida. Ou seja, quanto mais próximo os pontos em azul estiverem da linha vermelha maior será a chance da nossa variável pussuir uma distribuição normal.\n",
    "\n",
    "<br>\n",
    "\n",
    "**OBS:**\n",
    "- No gráfico acima é possivel notar que a nossa variável praticamente tem uma distribuição normal. Apenas os pontos extremos apresentam uma pequena distância da linha vermelha."
   ]
  },
  {
   "cell_type": "markdown",
   "id": "439eef20",
   "metadata": {
    "hidden": true
   },
   "source": [
    "#### Shapiro-Wilk"
   ]
  },
  {
   "cell_type": "markdown",
   "id": "e855d694",
   "metadata": {
    "hidden": true
   },
   "source": [
    "Seguindo adiante vamos utilizar o teste statistico Shapiro-wilk para poder descobrir a normalidade de uma distribuição. Esse método nos retorna dois valores, o resultado do cáculo do shapiro-wilk e o p-valor. Vamos utilizar o pvalue para validar uma das hipoteses abaixo:\n",
    "\n",
    "Ho = distribuição normal se p>0.05<br>\n",
    "Ha = distribuição não normal se p<=0.05"
   ]
  },
  {
   "cell_type": "code",
   "execution_count": 102,
   "id": "4825d3ac",
   "metadata": {
    "ExecuteTime": {
     "end_time": "2022-12-08T02:30:01.368811Z",
     "start_time": "2022-12-08T02:30:01.340819Z"
    },
    "hidden": true,
    "scrolled": true
   },
   "outputs": [
    {
     "name": "stdout",
     "output_type": "stream",
     "text": [
      "0.6376791596412659\n"
     ]
    },
    {
     "name": "stderr",
     "output_type": "stream",
     "text": [
      "/home/audax/Projetos/estudo/venv-estudo/lib64/python3.11/site-packages/scipy/stats/_morestats.py:1800: UserWarning: p-value may not be accurate for N > 5000.\n",
      "  warnings.warn(\"p-value may not be accurate for N > 5000.\")\n"
     ]
    }
   ],
   "source": [
    "statistica, pvalue = stats.shapiro(df['Altura'])\n",
    "\n",
    "print(pvalue)"
   ]
  },
  {
   "cell_type": "markdown",
   "id": "6f9be225",
   "metadata": {
    "hidden": true
   },
   "source": [
    "**OBS:**\n",
    "- Podemos perceber que esse teste não é tão preciso para conjuntos de dados que possuem mais de 5000 mil dados.\n",
    "- O pvalue é maior do que 0.05, o que nos indica que provavelmente essa distribuição é normal. "
   ]
  },
  {
   "cell_type": "markdown",
   "id": "7cd03d8a",
   "metadata": {
    "hidden": true
   },
   "source": [
    "#### kolmogorov smirnov"
   ]
  },
  {
   "cell_type": "markdown",
   "id": "f53ad794",
   "metadata": {
    "hidden": true
   },
   "source": [
    "O método kolmogorov smirnov é mais um utilizado para saber se uma distribuição é ou não normal. O mesmo raciocinio das hipoteses se aplica nesse método. <br>\n",
    "\n",
    "Vamos utilizar o pvalue para validar uma das hipoteses abaixo:\n",
    "\n",
    "Ho = distribuição normal se p>0.05<br>\n",
    "Ha = distribuição não normal se p<=0.05\n"
   ]
  },
  {
   "cell_type": "code",
   "execution_count": 103,
   "id": "8a0f921b",
   "metadata": {
    "ExecuteTime": {
     "end_time": "2022-12-08T02:30:06.975262Z",
     "start_time": "2022-12-08T02:30:06.951154Z"
    },
    "hidden": true
   },
   "outputs": [
    {
     "name": "stdout",
     "output_type": "stream",
     "text": [
      "0.36570836798072737\n"
     ]
    }
   ],
   "source": [
    "statistica, pvalue = lillie(df['Altura'], dist='norm')\n",
    "\n",
    "print(pvalue)"
   ]
  },
  {
   "cell_type": "markdown",
   "id": "83367364",
   "metadata": {
    "hidden": true
   },
   "source": [
    "**OBS:**\n",
    "- O pvalue é maior do que 0.05, o que nos indica que provavelmente essa distribuição é normal. "
   ]
  },
  {
   "cell_type": "markdown",
   "id": "83baa9ce",
   "metadata": {
    "hidden": true
   },
   "source": [
    "#### Resumo"
   ]
  },
  {
   "cell_type": "markdown",
   "id": "1d25cda6",
   "metadata": {
    "hidden": true
   },
   "source": [
    "Depois de passar por todas essas formas de testar se uma distribuição é ou não normal, vemos que em todos as formar utilizadas a variável altura foi considerada normal, logo podemos concluir que realmente essa variável possui uma distribuição normal."
   ]
  },
  {
   "cell_type": "markdown",
   "id": "4e5bdb2b",
   "metadata": {
    "heading_collapsed": true,
    "hidden": true
   },
   "source": [
    "### 🔹 Valor $z$"
   ]
  },
  {
   "cell_type": "markdown",
   "id": "7698cda3",
   "metadata": {
    "hidden": true
   },
   "source": [
    "**Valores z** são uma forma de medir a distância entre um valor específico e a **média** da variável que se está estudando. Imagine que você tem uma variável chamada \"nota\" e você quer comparar a nota de um aluno com a média das notas de toda a turma. A forma de comparar essa nota individual com a média geral da turma é transformando essa nota em um **valor z**."
   ]
  },
  {
   "attachments": {},
   "cell_type": "markdown",
   "id": "d0d419e1",
   "metadata": {
    "hidden": true
   },
   "source": [
    "$$Z = \\frac{x-\\mu}{\\sigma}$$"
   ]
  },
  {
   "cell_type": "markdown",
   "id": "baf2ce97",
   "metadata": {
    "hidden": true
   },
   "source": [
    "Para calcular o **valor z** de uma nota, você **subtrai** a nota do aluno da **média** das notas da turma e divide o resultado pelo **desvio padrão** das notas. **O resultado** é um número que indica quantos **desvios padrões** a nota do aluno está **acima ou abaixo da média** da turma. Um **valor z** positivo indica que a nota do aluno é maior do que a média da turma, enquanto um valor z negativo indica que a nota do aluno é menor do que a média da turma. **Quanto mais próximo de zero for o valor z, mais próximo da média a nota do aluno está**."
   ]
  },
  {
   "cell_type": "markdown",
   "id": "0da38023",
   "metadata": {
    "hidden": true
   },
   "source": [
    "Valores z são úteis para comparar valores entre diferentes conjuntos de dados ou entre diferentes populações, independentemente do tamanho ou da escala dos dados. Eles também são úteis para identificar valores extremos ou outliers e para calcular probabilidades usando tabelas de distribuição normal."
   ]
  },
  {
   "cell_type": "markdown",
   "id": "afc07232",
   "metadata": {
    "hidden": true
   },
   "source": [
    "- **Comparar valores entre diferentes conjuntos de dados ou entre diferentes populações**: Imagine que você tem dois conjuntos de dados de notas de alunos, um de uma escola particular e outro de uma escola pública. Você pode calcular a média e o desvio padrão das notas para cada conjunto de dados e, em seguida, calcular os valores z para as notas de cada aluno. Isso permite comparar as notas de alunos de escolas diferentes, independentemente do tamanho ou da escala dos dados."
   ]
  },
  {
   "cell_type": "markdown",
   "id": "db47939b",
   "metadata": {
    "hidden": true
   },
   "source": [
    "- **Identificar valores extremos ou outliers**: Imagine que você tem um conjunto de dados de alturas de pessoas e você quer identificar quais alturas estão fora da distribuição normal. Tendo a média e o desvio padrão das alturas você pode calcular os valores z para cada altura. Valores z positivo ou negativo muito altos podem indicar outliers ou valores extremos."
   ]
  },
  {
   "cell_type": "markdown",
   "id": "ba844f4d",
   "metadata": {
    "hidden": true
   },
   "source": [
    "- **Calcular probabilidades usando tabelas de distribuição normal**: Imagine que você tem um conjunto de dados de notas de alunos e você quer calcular a probabilidade de um aluno ter uma nota acima de 80. Tendo a média e o desvio padrão desse conjunto você consegue calcular o valor z e em seguida, consultar uma tabela de distribuição normal para encontrar a probabilidade de um valor z acima de 80. Essa probabilidade representa a probabilidade de um aluno ter uma nota acima de 80. Ou você pode simplismente utilizar as propriedades de uma distribuição normal para calcular a probabilidade. Ou seja, a propriedade que informa quantos % dos dados se encontram num intervalo de **μ - n.σ ** e **μ + n.σ**."
   ]
  },
  {
   "cell_type": "markdown",
   "id": "763011d4",
   "metadata": {
    "hidden": true
   },
   "source": [
    " "
   ]
  },
  {
   "cell_type": "markdown",
   "id": "c839ce50",
   "metadata": {
    "heading_collapsed": true,
    "hidden": true
   },
   "source": [
    "### 🔹 Tabela normal padronizada"
   ]
  },
  {
   "cell_type": "markdown",
   "id": "b254bfd7",
   "metadata": {
    "hidden": true
   },
   "source": [
    "As tabelas padronizadas foram criadas para facilitar a obtenção dos valores das áreas sob a curva normal e eliminar a necessidade de solucionar integrais definidas. Para consultarmos os valores em uma tabela padronizada basta transformarmos nossa variável em uma variável padronizada $Z$."
   ]
  },
  {
   "cell_type": "markdown",
   "id": "ce2d63d5",
   "metadata": {
    "hidden": true
   },
   "source": [
    "Vamos construir a nossa tabela padronizada usando o pandas, numpy e o scipy."
   ]
  },
  {
   "cell_type": "code",
   "execution_count": 26,
   "id": "68408884",
   "metadata": {
    "ExecuteTime": {
     "end_time": "2023-01-25T19:36:12.047409Z",
     "start_time": "2023-01-25T19:36:11.974443Z"
    },
    "hidden": true
   },
   "outputs": [
    {
     "data": {
      "text/html": [
       "<div>\n",
       "<style scoped>\n",
       "    .dataframe tbody tr th:only-of-type {\n",
       "        vertical-align: middle;\n",
       "    }\n",
       "\n",
       "    .dataframe tbody tr th {\n",
       "        vertical-align: top;\n",
       "    }\n",
       "\n",
       "    .dataframe thead th {\n",
       "        text-align: right;\n",
       "    }\n",
       "</style>\n",
       "<table border=\"1\" class=\"dataframe\">\n",
       "  <thead>\n",
       "    <tr style=\"text-align: right;\">\n",
       "      <th>Z</th>\n",
       "      <th>0.00</th>\n",
       "      <th>0.01</th>\n",
       "      <th>0.02</th>\n",
       "      <th>0.03</th>\n",
       "      <th>0.04</th>\n",
       "      <th>0.05</th>\n",
       "      <th>0.06</th>\n",
       "      <th>0.07</th>\n",
       "      <th>0.08</th>\n",
       "      <th>0.09</th>\n",
       "    </tr>\n",
       "  </thead>\n",
       "  <tbody>\n",
       "    <tr>\n",
       "      <th>0.00</th>\n",
       "      <td>0.5000</td>\n",
       "      <td>0.5040</td>\n",
       "      <td>0.5080</td>\n",
       "      <td>0.5120</td>\n",
       "      <td>0.5160</td>\n",
       "      <td>0.5199</td>\n",
       "      <td>0.5239</td>\n",
       "      <td>0.5279</td>\n",
       "      <td>0.5319</td>\n",
       "      <td>0.5359</td>\n",
       "    </tr>\n",
       "    <tr>\n",
       "      <th>0.10</th>\n",
       "      <td>0.5398</td>\n",
       "      <td>0.5438</td>\n",
       "      <td>0.5478</td>\n",
       "      <td>0.5517</td>\n",
       "      <td>0.5557</td>\n",
       "      <td>0.5596</td>\n",
       "      <td>0.5636</td>\n",
       "      <td>0.5675</td>\n",
       "      <td>0.5714</td>\n",
       "      <td>0.5753</td>\n",
       "    </tr>\n",
       "    <tr>\n",
       "      <th>0.20</th>\n",
       "      <td>0.5793</td>\n",
       "      <td>0.5832</td>\n",
       "      <td>0.5871</td>\n",
       "      <td>0.5910</td>\n",
       "      <td>0.5948</td>\n",
       "      <td>0.5987</td>\n",
       "      <td>0.6026</td>\n",
       "      <td>0.6064</td>\n",
       "      <td>0.6103</td>\n",
       "      <td>0.6141</td>\n",
       "    </tr>\n",
       "    <tr>\n",
       "      <th>0.30</th>\n",
       "      <td>0.6179</td>\n",
       "      <td>0.6217</td>\n",
       "      <td>0.6255</td>\n",
       "      <td>0.6293</td>\n",
       "      <td>0.6331</td>\n",
       "      <td>0.6368</td>\n",
       "      <td>0.6406</td>\n",
       "      <td>0.6443</td>\n",
       "      <td>0.6480</td>\n",
       "      <td>0.6517</td>\n",
       "    </tr>\n",
       "    <tr>\n",
       "      <th>0.40</th>\n",
       "      <td>0.6554</td>\n",
       "      <td>0.6591</td>\n",
       "      <td>0.6628</td>\n",
       "      <td>0.6664</td>\n",
       "      <td>0.6700</td>\n",
       "      <td>0.6736</td>\n",
       "      <td>0.6772</td>\n",
       "      <td>0.6808</td>\n",
       "      <td>0.6844</td>\n",
       "      <td>0.6879</td>\n",
       "    </tr>\n",
       "    <tr>\n",
       "      <th>0.50</th>\n",
       "      <td>0.6915</td>\n",
       "      <td>0.6950</td>\n",
       "      <td>0.6985</td>\n",
       "      <td>0.7019</td>\n",
       "      <td>0.7054</td>\n",
       "      <td>0.7088</td>\n",
       "      <td>0.7123</td>\n",
       "      <td>0.7157</td>\n",
       "      <td>0.7190</td>\n",
       "      <td>0.7224</td>\n",
       "    </tr>\n",
       "    <tr>\n",
       "      <th>0.60</th>\n",
       "      <td>0.7257</td>\n",
       "      <td>0.7291</td>\n",
       "      <td>0.7324</td>\n",
       "      <td>0.7357</td>\n",
       "      <td>0.7389</td>\n",
       "      <td>0.7422</td>\n",
       "      <td>0.7454</td>\n",
       "      <td>0.7486</td>\n",
       "      <td>0.7517</td>\n",
       "      <td>0.7549</td>\n",
       "    </tr>\n",
       "    <tr>\n",
       "      <th>0.70</th>\n",
       "      <td>0.7580</td>\n",
       "      <td>0.7611</td>\n",
       "      <td>0.7642</td>\n",
       "      <td>0.7673</td>\n",
       "      <td>0.7704</td>\n",
       "      <td>0.7734</td>\n",
       "      <td>0.7764</td>\n",
       "      <td>0.7794</td>\n",
       "      <td>0.7823</td>\n",
       "      <td>0.7852</td>\n",
       "    </tr>\n",
       "    <tr>\n",
       "      <th>0.80</th>\n",
       "      <td>0.7881</td>\n",
       "      <td>0.7910</td>\n",
       "      <td>0.7939</td>\n",
       "      <td>0.7967</td>\n",
       "      <td>0.7995</td>\n",
       "      <td>0.8023</td>\n",
       "      <td>0.8051</td>\n",
       "      <td>0.8078</td>\n",
       "      <td>0.8106</td>\n",
       "      <td>0.8133</td>\n",
       "    </tr>\n",
       "    <tr>\n",
       "      <th>0.90</th>\n",
       "      <td>0.8159</td>\n",
       "      <td>0.8186</td>\n",
       "      <td>0.8212</td>\n",
       "      <td>0.8238</td>\n",
       "      <td>0.8264</td>\n",
       "      <td>0.8289</td>\n",
       "      <td>0.8315</td>\n",
       "      <td>0.8340</td>\n",
       "      <td>0.8365</td>\n",
       "      <td>0.8389</td>\n",
       "    </tr>\n",
       "    <tr>\n",
       "      <th>1.00</th>\n",
       "      <td>0.8413</td>\n",
       "      <td>0.8438</td>\n",
       "      <td>0.8461</td>\n",
       "      <td>0.8485</td>\n",
       "      <td>0.8508</td>\n",
       "      <td>0.8531</td>\n",
       "      <td>0.8554</td>\n",
       "      <td>0.8577</td>\n",
       "      <td>0.8599</td>\n",
       "      <td>0.8621</td>\n",
       "    </tr>\n",
       "    <tr>\n",
       "      <th>1.10</th>\n",
       "      <td>0.8643</td>\n",
       "      <td>0.8665</td>\n",
       "      <td>0.8686</td>\n",
       "      <td>0.8708</td>\n",
       "      <td>0.8729</td>\n",
       "      <td>0.8749</td>\n",
       "      <td>0.8770</td>\n",
       "      <td>0.8790</td>\n",
       "      <td>0.8810</td>\n",
       "      <td>0.8830</td>\n",
       "    </tr>\n",
       "    <tr>\n",
       "      <th>1.20</th>\n",
       "      <td>0.8849</td>\n",
       "      <td>0.8869</td>\n",
       "      <td>0.8888</td>\n",
       "      <td>0.8907</td>\n",
       "      <td>0.8925</td>\n",
       "      <td>0.8944</td>\n",
       "      <td>0.8962</td>\n",
       "      <td>0.8980</td>\n",
       "      <td>0.8997</td>\n",
       "      <td>0.9015</td>\n",
       "    </tr>\n",
       "    <tr>\n",
       "      <th>1.30</th>\n",
       "      <td>0.9032</td>\n",
       "      <td>0.9049</td>\n",
       "      <td>0.9066</td>\n",
       "      <td>0.9082</td>\n",
       "      <td>0.9099</td>\n",
       "      <td>0.9115</td>\n",
       "      <td>0.9131</td>\n",
       "      <td>0.9147</td>\n",
       "      <td>0.9162</td>\n",
       "      <td>0.9177</td>\n",
       "    </tr>\n",
       "    <tr>\n",
       "      <th>1.40</th>\n",
       "      <td>0.9192</td>\n",
       "      <td>0.9207</td>\n",
       "      <td>0.9222</td>\n",
       "      <td>0.9236</td>\n",
       "      <td>0.9251</td>\n",
       "      <td>0.9265</td>\n",
       "      <td>0.9279</td>\n",
       "      <td>0.9292</td>\n",
       "      <td>0.9306</td>\n",
       "      <td>0.9319</td>\n",
       "    </tr>\n",
       "    <tr>\n",
       "      <th>1.50</th>\n",
       "      <td>0.9332</td>\n",
       "      <td>0.9345</td>\n",
       "      <td>0.9357</td>\n",
       "      <td>0.9370</td>\n",
       "      <td>0.9382</td>\n",
       "      <td>0.9394</td>\n",
       "      <td>0.9406</td>\n",
       "      <td>0.9418</td>\n",
       "      <td>0.9429</td>\n",
       "      <td>0.9441</td>\n",
       "    </tr>\n",
       "    <tr>\n",
       "      <th>1.60</th>\n",
       "      <td>0.9452</td>\n",
       "      <td>0.9463</td>\n",
       "      <td>0.9474</td>\n",
       "      <td>0.9484</td>\n",
       "      <td>0.9495</td>\n",
       "      <td>0.9505</td>\n",
       "      <td>0.9515</td>\n",
       "      <td>0.9525</td>\n",
       "      <td>0.9535</td>\n",
       "      <td>0.9545</td>\n",
       "    </tr>\n",
       "    <tr>\n",
       "      <th>1.70</th>\n",
       "      <td>0.9554</td>\n",
       "      <td>0.9564</td>\n",
       "      <td>0.9573</td>\n",
       "      <td>0.9582</td>\n",
       "      <td>0.9591</td>\n",
       "      <td>0.9599</td>\n",
       "      <td>0.9608</td>\n",
       "      <td>0.9616</td>\n",
       "      <td>0.9625</td>\n",
       "      <td>0.9633</td>\n",
       "    </tr>\n",
       "    <tr>\n",
       "      <th>1.80</th>\n",
       "      <td>0.9641</td>\n",
       "      <td>0.9649</td>\n",
       "      <td>0.9656</td>\n",
       "      <td>0.9664</td>\n",
       "      <td>0.9671</td>\n",
       "      <td>0.9678</td>\n",
       "      <td>0.9686</td>\n",
       "      <td>0.9693</td>\n",
       "      <td>0.9699</td>\n",
       "      <td>0.9706</td>\n",
       "    </tr>\n",
       "    <tr>\n",
       "      <th>1.90</th>\n",
       "      <td>0.9713</td>\n",
       "      <td>0.9719</td>\n",
       "      <td>0.9726</td>\n",
       "      <td>0.9732</td>\n",
       "      <td>0.9738</td>\n",
       "      <td>0.9744</td>\n",
       "      <td>0.9750</td>\n",
       "      <td>0.9756</td>\n",
       "      <td>0.9761</td>\n",
       "      <td>0.9767</td>\n",
       "    </tr>\n",
       "    <tr>\n",
       "      <th>2.00</th>\n",
       "      <td>0.9772</td>\n",
       "      <td>0.9778</td>\n",
       "      <td>0.9783</td>\n",
       "      <td>0.9788</td>\n",
       "      <td>0.9793</td>\n",
       "      <td>0.9798</td>\n",
       "      <td>0.9803</td>\n",
       "      <td>0.9808</td>\n",
       "      <td>0.9812</td>\n",
       "      <td>0.9817</td>\n",
       "    </tr>\n",
       "    <tr>\n",
       "      <th>2.10</th>\n",
       "      <td>0.9821</td>\n",
       "      <td>0.9826</td>\n",
       "      <td>0.9830</td>\n",
       "      <td>0.9834</td>\n",
       "      <td>0.9838</td>\n",
       "      <td>0.9842</td>\n",
       "      <td>0.9846</td>\n",
       "      <td>0.9850</td>\n",
       "      <td>0.9854</td>\n",
       "      <td>0.9857</td>\n",
       "    </tr>\n",
       "    <tr>\n",
       "      <th>2.20</th>\n",
       "      <td>0.9861</td>\n",
       "      <td>0.9864</td>\n",
       "      <td>0.9868</td>\n",
       "      <td>0.9871</td>\n",
       "      <td>0.9875</td>\n",
       "      <td>0.9878</td>\n",
       "      <td>0.9881</td>\n",
       "      <td>0.9884</td>\n",
       "      <td>0.9887</td>\n",
       "      <td>0.9890</td>\n",
       "    </tr>\n",
       "    <tr>\n",
       "      <th>2.30</th>\n",
       "      <td>0.9893</td>\n",
       "      <td>0.9896</td>\n",
       "      <td>0.9898</td>\n",
       "      <td>0.9901</td>\n",
       "      <td>0.9904</td>\n",
       "      <td>0.9906</td>\n",
       "      <td>0.9909</td>\n",
       "      <td>0.9911</td>\n",
       "      <td>0.9913</td>\n",
       "      <td>0.9916</td>\n",
       "    </tr>\n",
       "    <tr>\n",
       "      <th>2.40</th>\n",
       "      <td>0.9918</td>\n",
       "      <td>0.9920</td>\n",
       "      <td>0.9922</td>\n",
       "      <td>0.9925</td>\n",
       "      <td>0.9927</td>\n",
       "      <td>0.9929</td>\n",
       "      <td>0.9931</td>\n",
       "      <td>0.9932</td>\n",
       "      <td>0.9934</td>\n",
       "      <td>0.9936</td>\n",
       "    </tr>\n",
       "    <tr>\n",
       "      <th>2.50</th>\n",
       "      <td>0.9938</td>\n",
       "      <td>0.9940</td>\n",
       "      <td>0.9941</td>\n",
       "      <td>0.9943</td>\n",
       "      <td>0.9945</td>\n",
       "      <td>0.9946</td>\n",
       "      <td>0.9948</td>\n",
       "      <td>0.9949</td>\n",
       "      <td>0.9951</td>\n",
       "      <td>0.9952</td>\n",
       "    </tr>\n",
       "    <tr>\n",
       "      <th>2.60</th>\n",
       "      <td>0.9953</td>\n",
       "      <td>0.9955</td>\n",
       "      <td>0.9956</td>\n",
       "      <td>0.9957</td>\n",
       "      <td>0.9959</td>\n",
       "      <td>0.9960</td>\n",
       "      <td>0.9961</td>\n",
       "      <td>0.9962</td>\n",
       "      <td>0.9963</td>\n",
       "      <td>0.9964</td>\n",
       "    </tr>\n",
       "    <tr>\n",
       "      <th>2.70</th>\n",
       "      <td>0.9965</td>\n",
       "      <td>0.9966</td>\n",
       "      <td>0.9967</td>\n",
       "      <td>0.9968</td>\n",
       "      <td>0.9969</td>\n",
       "      <td>0.9970</td>\n",
       "      <td>0.9971</td>\n",
       "      <td>0.9972</td>\n",
       "      <td>0.9973</td>\n",
       "      <td>0.9974</td>\n",
       "    </tr>\n",
       "    <tr>\n",
       "      <th>2.80</th>\n",
       "      <td>0.9974</td>\n",
       "      <td>0.9975</td>\n",
       "      <td>0.9976</td>\n",
       "      <td>0.9977</td>\n",
       "      <td>0.9977</td>\n",
       "      <td>0.9978</td>\n",
       "      <td>0.9979</td>\n",
       "      <td>0.9979</td>\n",
       "      <td>0.9980</td>\n",
       "      <td>0.9981</td>\n",
       "    </tr>\n",
       "    <tr>\n",
       "      <th>2.90</th>\n",
       "      <td>0.9981</td>\n",
       "      <td>0.9982</td>\n",
       "      <td>0.9982</td>\n",
       "      <td>0.9983</td>\n",
       "      <td>0.9984</td>\n",
       "      <td>0.9984</td>\n",
       "      <td>0.9985</td>\n",
       "      <td>0.9985</td>\n",
       "      <td>0.9986</td>\n",
       "      <td>0.9986</td>\n",
       "    </tr>\n",
       "    <tr>\n",
       "      <th>3.00</th>\n",
       "      <td>0.9987</td>\n",
       "      <td>0.9987</td>\n",
       "      <td>0.9987</td>\n",
       "      <td>0.9988</td>\n",
       "      <td>0.9988</td>\n",
       "      <td>0.9989</td>\n",
       "      <td>0.9989</td>\n",
       "      <td>0.9989</td>\n",
       "      <td>0.9990</td>\n",
       "      <td>0.9990</td>\n",
       "    </tr>\n",
       "    <tr>\n",
       "      <th>3.10</th>\n",
       "      <td>0.9990</td>\n",
       "      <td>0.9991</td>\n",
       "      <td>0.9991</td>\n",
       "      <td>0.9991</td>\n",
       "      <td>0.9992</td>\n",
       "      <td>0.9992</td>\n",
       "      <td>0.9992</td>\n",
       "      <td>0.9992</td>\n",
       "      <td>0.9993</td>\n",
       "      <td>0.9993</td>\n",
       "    </tr>\n",
       "    <tr>\n",
       "      <th>3.20</th>\n",
       "      <td>0.9993</td>\n",
       "      <td>0.9993</td>\n",
       "      <td>0.9994</td>\n",
       "      <td>0.9994</td>\n",
       "      <td>0.9994</td>\n",
       "      <td>0.9994</td>\n",
       "      <td>0.9994</td>\n",
       "      <td>0.9995</td>\n",
       "      <td>0.9995</td>\n",
       "      <td>0.9995</td>\n",
       "    </tr>\n",
       "    <tr>\n",
       "      <th>3.30</th>\n",
       "      <td>0.9995</td>\n",
       "      <td>0.9995</td>\n",
       "      <td>0.9995</td>\n",
       "      <td>0.9996</td>\n",
       "      <td>0.9996</td>\n",
       "      <td>0.9996</td>\n",
       "      <td>0.9996</td>\n",
       "      <td>0.9996</td>\n",
       "      <td>0.9996</td>\n",
       "      <td>0.9997</td>\n",
       "    </tr>\n",
       "    <tr>\n",
       "      <th>3.40</th>\n",
       "      <td>0.9997</td>\n",
       "      <td>0.9997</td>\n",
       "      <td>0.9997</td>\n",
       "      <td>0.9997</td>\n",
       "      <td>0.9997</td>\n",
       "      <td>0.9997</td>\n",
       "      <td>0.9997</td>\n",
       "      <td>0.9997</td>\n",
       "      <td>0.9997</td>\n",
       "      <td>0.9998</td>\n",
       "    </tr>\n",
       "    <tr>\n",
       "      <th>3.50</th>\n",
       "      <td>0.9998</td>\n",
       "      <td>0.9998</td>\n",
       "      <td>0.9998</td>\n",
       "      <td>0.9998</td>\n",
       "      <td>0.9998</td>\n",
       "      <td>0.9998</td>\n",
       "      <td>0.9998</td>\n",
       "      <td>0.9998</td>\n",
       "      <td>0.9998</td>\n",
       "      <td>0.9998</td>\n",
       "    </tr>\n",
       "    <tr>\n",
       "      <th>3.60</th>\n",
       "      <td>0.9998</td>\n",
       "      <td>0.9998</td>\n",
       "      <td>0.9999</td>\n",
       "      <td>0.9999</td>\n",
       "      <td>0.9999</td>\n",
       "      <td>0.9999</td>\n",
       "      <td>0.9999</td>\n",
       "      <td>0.9999</td>\n",
       "      <td>0.9999</td>\n",
       "      <td>0.9999</td>\n",
       "    </tr>\n",
       "    <tr>\n",
       "      <th>3.70</th>\n",
       "      <td>0.9999</td>\n",
       "      <td>0.9999</td>\n",
       "      <td>0.9999</td>\n",
       "      <td>0.9999</td>\n",
       "      <td>0.9999</td>\n",
       "      <td>0.9999</td>\n",
       "      <td>0.9999</td>\n",
       "      <td>0.9999</td>\n",
       "      <td>0.9999</td>\n",
       "      <td>0.9999</td>\n",
       "    </tr>\n",
       "    <tr>\n",
       "      <th>3.80</th>\n",
       "      <td>0.9999</td>\n",
       "      <td>0.9999</td>\n",
       "      <td>0.9999</td>\n",
       "      <td>0.9999</td>\n",
       "      <td>0.9999</td>\n",
       "      <td>0.9999</td>\n",
       "      <td>0.9999</td>\n",
       "      <td>0.9999</td>\n",
       "      <td>0.9999</td>\n",
       "      <td>0.9999</td>\n",
       "    </tr>\n",
       "    <tr>\n",
       "      <th>3.90</th>\n",
       "      <td>1.0000</td>\n",
       "      <td>1.0000</td>\n",
       "      <td>1.0000</td>\n",
       "      <td>1.0000</td>\n",
       "      <td>1.0000</td>\n",
       "      <td>1.0000</td>\n",
       "      <td>1.0000</td>\n",
       "      <td>1.0000</td>\n",
       "      <td>1.0000</td>\n",
       "      <td>1.0000</td>\n",
       "    </tr>\n",
       "  </tbody>\n",
       "</table>\n",
       "</div>"
      ],
      "text/plain": [
       "Z       0.00    0.01    0.02    0.03    0.04    0.05    0.06    0.07    0.08  \\\n",
       "0.00  0.5000  0.5040  0.5080  0.5120  0.5160  0.5199  0.5239  0.5279  0.5319   \n",
       "0.10  0.5398  0.5438  0.5478  0.5517  0.5557  0.5596  0.5636  0.5675  0.5714   \n",
       "0.20  0.5793  0.5832  0.5871  0.5910  0.5948  0.5987  0.6026  0.6064  0.6103   \n",
       "0.30  0.6179  0.6217  0.6255  0.6293  0.6331  0.6368  0.6406  0.6443  0.6480   \n",
       "0.40  0.6554  0.6591  0.6628  0.6664  0.6700  0.6736  0.6772  0.6808  0.6844   \n",
       "0.50  0.6915  0.6950  0.6985  0.7019  0.7054  0.7088  0.7123  0.7157  0.7190   \n",
       "0.60  0.7257  0.7291  0.7324  0.7357  0.7389  0.7422  0.7454  0.7486  0.7517   \n",
       "0.70  0.7580  0.7611  0.7642  0.7673  0.7704  0.7734  0.7764  0.7794  0.7823   \n",
       "0.80  0.7881  0.7910  0.7939  0.7967  0.7995  0.8023  0.8051  0.8078  0.8106   \n",
       "0.90  0.8159  0.8186  0.8212  0.8238  0.8264  0.8289  0.8315  0.8340  0.8365   \n",
       "1.00  0.8413  0.8438  0.8461  0.8485  0.8508  0.8531  0.8554  0.8577  0.8599   \n",
       "1.10  0.8643  0.8665  0.8686  0.8708  0.8729  0.8749  0.8770  0.8790  0.8810   \n",
       "1.20  0.8849  0.8869  0.8888  0.8907  0.8925  0.8944  0.8962  0.8980  0.8997   \n",
       "1.30  0.9032  0.9049  0.9066  0.9082  0.9099  0.9115  0.9131  0.9147  0.9162   \n",
       "1.40  0.9192  0.9207  0.9222  0.9236  0.9251  0.9265  0.9279  0.9292  0.9306   \n",
       "1.50  0.9332  0.9345  0.9357  0.9370  0.9382  0.9394  0.9406  0.9418  0.9429   \n",
       "1.60  0.9452  0.9463  0.9474  0.9484  0.9495  0.9505  0.9515  0.9525  0.9535   \n",
       "1.70  0.9554  0.9564  0.9573  0.9582  0.9591  0.9599  0.9608  0.9616  0.9625   \n",
       "1.80  0.9641  0.9649  0.9656  0.9664  0.9671  0.9678  0.9686  0.9693  0.9699   \n",
       "1.90  0.9713  0.9719  0.9726  0.9732  0.9738  0.9744  0.9750  0.9756  0.9761   \n",
       "2.00  0.9772  0.9778  0.9783  0.9788  0.9793  0.9798  0.9803  0.9808  0.9812   \n",
       "2.10  0.9821  0.9826  0.9830  0.9834  0.9838  0.9842  0.9846  0.9850  0.9854   \n",
       "2.20  0.9861  0.9864  0.9868  0.9871  0.9875  0.9878  0.9881  0.9884  0.9887   \n",
       "2.30  0.9893  0.9896  0.9898  0.9901  0.9904  0.9906  0.9909  0.9911  0.9913   \n",
       "2.40  0.9918  0.9920  0.9922  0.9925  0.9927  0.9929  0.9931  0.9932  0.9934   \n",
       "2.50  0.9938  0.9940  0.9941  0.9943  0.9945  0.9946  0.9948  0.9949  0.9951   \n",
       "2.60  0.9953  0.9955  0.9956  0.9957  0.9959  0.9960  0.9961  0.9962  0.9963   \n",
       "2.70  0.9965  0.9966  0.9967  0.9968  0.9969  0.9970  0.9971  0.9972  0.9973   \n",
       "2.80  0.9974  0.9975  0.9976  0.9977  0.9977  0.9978  0.9979  0.9979  0.9980   \n",
       "2.90  0.9981  0.9982  0.9982  0.9983  0.9984  0.9984  0.9985  0.9985  0.9986   \n",
       "3.00  0.9987  0.9987  0.9987  0.9988  0.9988  0.9989  0.9989  0.9989  0.9990   \n",
       "3.10  0.9990  0.9991  0.9991  0.9991  0.9992  0.9992  0.9992  0.9992  0.9993   \n",
       "3.20  0.9993  0.9993  0.9994  0.9994  0.9994  0.9994  0.9994  0.9995  0.9995   \n",
       "3.30  0.9995  0.9995  0.9995  0.9996  0.9996  0.9996  0.9996  0.9996  0.9996   \n",
       "3.40  0.9997  0.9997  0.9997  0.9997  0.9997  0.9997  0.9997  0.9997  0.9997   \n",
       "3.50  0.9998  0.9998  0.9998  0.9998  0.9998  0.9998  0.9998  0.9998  0.9998   \n",
       "3.60  0.9998  0.9998  0.9999  0.9999  0.9999  0.9999  0.9999  0.9999  0.9999   \n",
       "3.70  0.9999  0.9999  0.9999  0.9999  0.9999  0.9999  0.9999  0.9999  0.9999   \n",
       "3.80  0.9999  0.9999  0.9999  0.9999  0.9999  0.9999  0.9999  0.9999  0.9999   \n",
       "3.90  1.0000  1.0000  1.0000  1.0000  1.0000  1.0000  1.0000  1.0000  1.0000   \n",
       "\n",
       "Z       0.09  \n",
       "0.00  0.5359  \n",
       "0.10  0.5753  \n",
       "0.20  0.6141  \n",
       "0.30  0.6517  \n",
       "0.40  0.6879  \n",
       "0.50  0.7224  \n",
       "0.60  0.7549  \n",
       "0.70  0.7852  \n",
       "0.80  0.8133  \n",
       "0.90  0.8389  \n",
       "1.00  0.8621  \n",
       "1.10  0.8830  \n",
       "1.20  0.9015  \n",
       "1.30  0.9177  \n",
       "1.40  0.9319  \n",
       "1.50  0.9441  \n",
       "1.60  0.9545  \n",
       "1.70  0.9633  \n",
       "1.80  0.9706  \n",
       "1.90  0.9767  \n",
       "2.00  0.9817  \n",
       "2.10  0.9857  \n",
       "2.20  0.9890  \n",
       "2.30  0.9916  \n",
       "2.40  0.9936  \n",
       "2.50  0.9952  \n",
       "2.60  0.9964  \n",
       "2.70  0.9974  \n",
       "2.80  0.9981  \n",
       "2.90  0.9986  \n",
       "3.00  0.9990  \n",
       "3.10  0.9993  \n",
       "3.20  0.9995  \n",
       "3.30  0.9997  \n",
       "3.40  0.9998  \n",
       "3.50  0.9998  \n",
       "3.60  0.9999  \n",
       "3.70  0.9999  \n",
       "3.80  0.9999  \n",
       "3.90  1.0000  "
      ]
     },
     "execution_count": 26,
     "metadata": {},
     "output_type": "execute_result"
    }
   ],
   "source": [
    "import pandas as pd\n",
    "import numpy as np\n",
    "from scipy.stats import norm\n",
    "\n",
    "tabela_normal_padronizada = pd.DataFrame(\n",
    "    data=[], \n",
    "    index=[\"{0:0.2f}\".format(i / 100) for i in range(0, 400, 10)],\n",
    "    columns = [\"{0:0.2f}\".format(i / 100) for i in range(0, 10)])\n",
    "\n",
    "for index in tabela_normal_padronizada.index:\n",
    "    for column in tabela_normal_padronizada.columns:\n",
    "        Z = np.round(float(index) + float(column), 2)\n",
    "        tabela_normal_padronizada.loc[index, column] = \"{0:0.4f}\".format(norm.cdf(Z))\n",
    "\n",
    "tabela_normal_padronizada.rename_axis('Z', axis = 'columns', inplace = True)\n",
    "tabela_normal_padronizada"
   ]
  },
  {
   "cell_type": "markdown",
   "id": "ea81381d",
   "metadata": {
    "hidden": true
   },
   "source": [
    " "
   ]
  },
  {
   "cell_type": "markdown",
   "id": "c1ca23d1",
   "metadata": {
    "heading_collapsed": true,
    "hidden": true
   },
   "source": [
    "### 🔹 Exercicio de distribuição normal"
   ]
  },
  {
   "cell_type": "markdown",
   "id": "30fce8ee",
   "metadata": {
    "hidden": true
   },
   "source": [
    "Em um estudo sobre as alturas dos moradores de uma cidade verificou-se que o conjunto de dados segue uma **distribuição aproximadamente normal**, com **média 1,70** e **desvio padrão de 0,1**. Com estas informações obtenha o seguinte conjunto de probabilidades:\n",
    "\n",
    "- **A)** probabilidade de uma pessoa, selecionada ao acaso, ter menos de 1,80 metros.\n",
    "\n",
    "- **B)** probabilidade de uma pessoa, selecionada ao acaso, ter entre 1,60 metros e 1,80 metros.    \n",
    "\n",
    "- **C)** probabilidade de uma pessoa, selecionada ao acaso, ter mais de 1,90 metros."
   ]
  },
  {
   "cell_type": "markdown",
   "id": "e3428e99",
   "metadata": {
    "hidden": true
   },
   "source": [
    "#### Resposta da letra A"
   ]
  },
  {
   "cell_type": "markdown",
   "id": "006e3743",
   "metadata": {
    "hidden": true
   },
   "source": [
    "Primeiramente devemos padronizar a nossa variavel x = 1.80 utilizando a formula do valor $Z$."
   ]
  },
  {
   "cell_type": "code",
   "execution_count": 96,
   "id": "3b94fb41",
   "metadata": {
    "ExecuteTime": {
     "end_time": "2023-01-25T20:37:24.995678Z",
     "start_time": "2023-01-25T20:37:24.992362Z"
    },
    "hidden": true
   },
   "outputs": [
    {
     "name": "stdout",
     "output_type": "stream",
     "text": [
      "O valor Z é 1.0\n"
     ]
    }
   ],
   "source": [
    "dp = 1.70\n",
    "media = 0.1\n",
    "x = 1.80\n",
    "\n",
    "Z = (x - media) / dp\n",
    "print('O valor Z é', Z)"
   ]
  },
  {
   "cell_type": "markdown",
   "id": "3366db7d",
   "metadata": {
    "hidden": true
   },
   "source": [
    " "
   ]
  },
  {
   "cell_type": "markdown",
   "id": "4f47625e",
   "metadata": {
    "hidden": true
   },
   "source": [
    "\n",
    "#### Solução manual"
   ]
  },
  {
   "cell_type": "markdown",
   "id": "37ab4030",
   "metadata": {
    "hidden": true
   },
   "source": [
    "Agora que temos o valor **Z** vamos utilizar a tabela normal padronizada para calcular a resposta."
   ]
  },
  {
   "cell_type": "code",
   "execution_count": 107,
   "id": "1fa45903",
   "metadata": {
    "ExecuteTime": {
     "end_time": "2023-01-25T20:52:44.051743Z",
     "start_time": "2023-01-25T20:52:44.048242Z"
    },
    "hidden": true
   },
   "outputs": [
    {
     "name": "stdout",
     "output_type": "stream",
     "text": [
      "A probabilidade de uma pessoa ser selecionada ao acaso e ter menos de 1.80M é 84.13%\n"
     ]
    }
   ],
   "source": [
    "prob = 0.8413\n",
    "print(f'A probabilidade de uma pessoa ser selecionada ao acaso e ter menos de 1.80M é {round(float(prob)*100, 2)}%')"
   ]
  },
  {
   "cell_type": "markdown",
   "id": "4cfa5912",
   "metadata": {
    "hidden": true
   },
   "source": [
    " "
   ]
  },
  {
   "cell_type": "markdown",
   "id": "874d3e60",
   "metadata": {
    "hidden": true
   },
   "source": [
    "\n",
    "#### Solução utilizando o scipy"
   ]
  },
  {
   "cell_type": "code",
   "execution_count": 60,
   "id": "62643e05",
   "metadata": {
    "ExecuteTime": {
     "end_time": "2023-01-25T20:05:20.363303Z",
     "start_time": "2023-01-25T20:05:20.357682Z"
    },
    "hidden": true
   },
   "outputs": [
    {
     "name": "stdout",
     "output_type": "stream",
     "text": [
      "A probabilidade de uma pessoa ser selecionada ao acaso e ter menos de 1.80M é 84.13%\n"
     ]
    }
   ],
   "source": [
    "from scipy.stats import norm\n",
    "\n",
    "prob = norm.cdf(Z)\n",
    "print(f'A probabilidade de uma pessoa ser selecionada ao acaso e ter menos de 1.80M é {round(float(prob)*100, 2)}%')"
   ]
  },
  {
   "cell_type": "markdown",
   "id": "6338d817",
   "metadata": {
    "hidden": true
   },
   "source": [
    " "
   ]
  },
  {
   "cell_type": "markdown",
   "id": "37a0700d",
   "metadata": {
    "hidden": true
   },
   "source": [
    "#### Resposta da letra B"
   ]
  },
  {
   "cell_type": "markdown",
   "id": "c9a8fbe7",
   "metadata": {
    "hidden": true
   },
   "source": [
    "Nessa questão nós devemos padronizar a nossas duas variavel $x = 1.80$ e $y = 1.60$ utilizando a formula do valor $Z$."
   ]
  },
  {
   "cell_type": "code",
   "execution_count": 113,
   "id": "a1793e86",
   "metadata": {
    "ExecuteTime": {
     "end_time": "2023-01-25T21:12:15.132594Z",
     "start_time": "2023-01-25T21:12:15.129036Z"
    },
    "hidden": true
   },
   "outputs": [
    {
     "name": "stdout",
     "output_type": "stream",
     "text": [
      "valor de Z1: 1.0000000000000009\n",
      "valor de Z2: -0.9999999999999987\n"
     ]
    }
   ],
   "source": [
    "dp = 0.1\n",
    "media = 1.7\n",
    "x = 1.80\n",
    "y = 1.60\n",
    "\n",
    "Z1 = (x - media) / dp\n",
    "Z2 = (y - media) / dp\n",
    "print(f'valor de Z1: {Z1}')\n",
    "print(f'valor de Z2: {Z2}')"
   ]
  },
  {
   "cell_type": "markdown",
   "id": "82c7f413",
   "metadata": {
    "hidden": true
   },
   "source": [
    " "
   ]
  },
  {
   "cell_type": "markdown",
   "id": "38537612",
   "metadata": {
    "hidden": true
   },
   "source": [
    "\n",
    "#### Solução usando o scipy"
   ]
  },
  {
   "cell_type": "code",
   "execution_count": 114,
   "id": "3d6b7c51",
   "metadata": {
    "ExecuteTime": {
     "end_time": "2023-01-25T21:12:18.946350Z",
     "start_time": "2023-01-25T21:12:18.941892Z"
    },
    "hidden": true
   },
   "outputs": [
    {
     "name": "stdout",
     "output_type": "stream",
     "text": [
      "A probabilidade é 68.27%\n"
     ]
    }
   ],
   "source": [
    "prob = norm.cdf(Z1) - norm.cdf(Z2)\n",
    "print(f'A probabilidade é {round(float(prob)*100, 2)}%')"
   ]
  },
  {
   "cell_type": "markdown",
   "id": "1662bc61",
   "metadata": {
    "hidden": true
   },
   "source": [
    " "
   ]
  },
  {
   "cell_type": "markdown",
   "id": "dc05aeab",
   "metadata": {
    "hidden": true
   },
   "source": [
    "#### Resposta da letra C"
   ]
  },
  {
   "cell_type": "markdown",
   "id": "3fb3e865",
   "metadata": {
    "hidden": true
   },
   "source": [
    "Calculando o valor para o x = 1.90"
   ]
  },
  {
   "cell_type": "code",
   "execution_count": 116,
   "id": "01a9c6d1",
   "metadata": {
    "ExecuteTime": {
     "end_time": "2023-01-25T21:12:46.777426Z",
     "start_time": "2023-01-25T21:12:46.773466Z"
    },
    "hidden": true
   },
   "outputs": [
    {
     "name": "stdout",
     "output_type": "stream",
     "text": [
      "O valor Z é 2.00\n"
     ]
    }
   ],
   "source": [
    "dp = 0.1\n",
    "media = 1.7\n",
    "x = 1.90\n",
    "\n",
    "Z = (x - media) / dp\n",
    "print(f'O valor Z é {Z:.2f}')"
   ]
  },
  {
   "cell_type": "markdown",
   "id": "08b93f61",
   "metadata": {
    "hidden": true
   },
   "source": [
    " "
   ]
  },
  {
   "cell_type": "markdown",
   "id": "992da6a4",
   "metadata": {
    "hidden": true
   },
   "source": [
    "\n",
    "#### Solução usando o scipy"
   ]
  },
  {
   "cell_type": "code",
   "execution_count": 117,
   "id": "739e1d6b",
   "metadata": {
    "ExecuteTime": {
     "end_time": "2023-01-25T21:13:39.631537Z",
     "start_time": "2023-01-25T21:13:39.628086Z"
    },
    "hidden": true
   },
   "outputs": [
    {
     "name": "stdout",
     "output_type": "stream",
     "text": [
      "A probabilidade é 2.28%\n"
     ]
    }
   ],
   "source": [
    "prob = 1 - norm.cdf(Z)\n",
    "print(f'A probabilidade é {round(float(prob)*100, 2)}%')"
   ]
  },
  {
   "cell_type": "markdown",
   "id": "c5f34ddd",
   "metadata": {
    "hidden": true
   },
   "source": [
    " "
   ]
  },
  {
   "cell_type": "markdown",
   "id": "05e9338d",
   "metadata": {
    "heading_collapsed": true,
    "hidden": true
   },
   "source": [
    "##  ✴️ Distribuição binomial"
   ]
  },
  {
   "cell_type": "markdown",
   "id": "18dbebd3",
   "metadata": {
    "heading_collapsed": true,
    "hidden": true
   },
   "source": [
    "###  🔹 Introdução"
   ]
  },
  {
   "cell_type": "markdown",
   "id": "24a0c11e",
   "metadata": {
    "hidden": true
   },
   "source": [
    "Uma distribuição binomial é caracterizado pela ocorrência de apenas duas categorias. Estas categorias somadas representam todo o espaço amostral, sendo também mutuamente excludentes, ou seja, a ocorrência de uma implica na não ocorrência da outra. **Em análises estatísticas o uso mais comum da distribuição binomial é na solução de problemas que envolve situações de sucesso ou fracasso.** A formula da distribuição binomial é:"
   ]
  },
  {
   "attachments": {},
   "cell_type": "markdown",
   "id": "64bad94a",
   "metadata": {
    "hidden": true
   },
   "source": [
    "$$P(k)=\\binom{n}{k} p^k q^{n-k}$$"
   ]
  },
  {
   "cell_type": "markdown",
   "id": "aa2627ef",
   "metadata": {
    "hidden": true
   },
   "source": [
    "Onde:\n",
    "\n",
    "$p$ = probabilidade de sucesso<br>\n",
    "$q$ = $(1 - p)$ = probabilidade do fracasso<br>\n",
    "$n$ = numero de eventos estudados<br>\n",
    "$k$ = numero de eventos desejados que tenha sucesso"
   ]
  },
  {
   "attachments": {},
   "cell_type": "markdown",
   "id": "23d1f4a0",
   "metadata": {
    "hidden": true
   },
   "source": [
    "<br> "
   ]
  },
  {
   "cell_type": "markdown",
   "id": "f77fe74a",
   "metadata": {
    "heading_collapsed": true,
    "hidden": true
   },
   "source": [
    "###  🔹 Propriedades de um experimento binomial"
   ]
  },
  {
   "cell_type": "markdown",
   "id": "6f51b505",
   "metadata": {
    "hidden": true
   },
   "source": [
    "1. Realização de $n$ ensaios identicos.\n",
    "2. Os ensaios são independentes.\n",
    "3. Somente 2 categorias de resultados são possiveis, por exemplo: Cara ou coroa, sucesso ou fracasso. Não necessariamente cada categoria tem que ser unica, por exemplo, a possibilidade de sair cara ou coroa ao jogar um dado pode ser considerado um exeperimento binomial, pois queremos prever a probabilidade de sair ou cara ou coroa $k$ vezes jogando o dado $n$ vezes, perceba que existem 3 possibilidades de sair um numero par e também  possibilidades de sair um numero ímpar.\n",
    "4. A probabilidade de sucesso é representado por $p$ e a de fracasso por $q = (1 - p)$. Essas probabilidades não se modificam de ensaio para ensaio."
   ]
  },
  {
   "attachments": {},
   "cell_type": "markdown",
   "id": "c1793f41",
   "metadata": {
    "hidden": true
   },
   "source": [
    "<br> "
   ]
  },
  {
   "cell_type": "markdown",
   "id": "a22df774",
   "metadata": {
    "heading_collapsed": true,
    "hidden": true
   },
   "source": [
    "###  🔹 Media e DP de uma distribuição binomial"
   ]
  },
  {
   "attachments": {},
   "cell_type": "markdown",
   "id": "7ec3c0ca",
   "metadata": {
    "hidden": true
   },
   "source": [
    "\n",
    "#### Media"
   ]
  },
  {
   "cell_type": "markdown",
   "id": "fc034966",
   "metadata": {
    "hidden": true
   },
   "source": [
    "O valor esperado ou a média da distribuição binomial é igual ao numero de experimentos realizados multiplicados pela chance da ocorrencia do evento."
   ]
  },
  {
   "attachments": {},
   "cell_type": "markdown",
   "id": "b88810fc",
   "metadata": {
    "hidden": true
   },
   "source": [
    "$$\\mu = n \\times p$$"
   ]
  },
  {
   "attachments": {},
   "cell_type": "markdown",
   "id": "bc66800e",
   "metadata": {
    "hidden": true
   },
   "source": [
    "\n",
    "#### Desvio padrão"
   ]
  },
  {
   "cell_type": "markdown",
   "id": "19e8f051",
   "metadata": {
    "hidden": true
   },
   "source": [
    "O desvio padrão é a raiz quadrada do produto entre o numero de experimentos, a probabilidade do sucesso e a probabilidade do fracasso."
   ]
  },
  {
   "attachments": {},
   "cell_type": "markdown",
   "id": "ee254727",
   "metadata": {
    "hidden": true
   },
   "source": [
    "$$\\sigma = \\sqrt{n \\times p \\times q}$$"
   ]
  },
  {
   "attachments": {},
   "cell_type": "markdown",
   "id": "d2f1c06f",
   "metadata": {
    "hidden": true
   },
   "source": [
    "<br> "
   ]
  },
  {
   "cell_type": "markdown",
   "id": "43ab2cad",
   "metadata": {
    "heading_collapsed": true,
    "hidden": true
   },
   "source": [
    "###  🔹 Exercicio de distribuição binomial"
   ]
  },
  {
   "cell_type": "markdown",
   "id": "ed0cc59d",
   "metadata": {
    "hidden": true
   },
   "source": [
    "Em um concurso para preencher uma vaga de cientista de dados temos um total de **10 questões** de múltipla escolha com **3 alternativas possíveis** em cada questão. **Cada questão tem o mesmo valor.** Suponha que um candidato resolva se aventurar sem ter estudado absolutamente nada. Ele resolve fazer a prova de olhos vendados e chutar todas as resposta. Assumindo que a prova **vale 10 pontos e a nota de corte seja 5**, obtenha a probabilidade deste candidato **acertar 5 questões** e também a probabilidade deste candidato **passar para a próxima etapa do processo seletivo**."
   ]
  },
  {
   "attachments": {},
   "cell_type": "markdown",
   "id": "d2533e0e",
   "metadata": {
    "hidden": true
   },
   "source": [
    "\n",
    "#### Formula"
   ]
  },
  {
   "attachments": {},
   "cell_type": "markdown",
   "id": "d94e316f",
   "metadata": {
    "hidden": true
   },
   "source": [
    "$$P(k)=\\binom{n}{k} p^k q^{n-k}$$"
   ]
  },
  {
   "attachments": {},
   "cell_type": "markdown",
   "id": "6589cb71",
   "metadata": {
    "hidden": true
   },
   "source": [
    "\n",
    "#### Solução manual"
   ]
  },
  {
   "cell_type": "code",
   "execution_count": 4,
   "id": "185d7cb9",
   "metadata": {
    "ExecuteTime": {
     "end_time": "2023-01-24T20:13:47.330779Z",
     "start_time": "2023-01-24T20:13:47.328012Z"
    },
    "hidden": true
   },
   "outputs": [],
   "source": [
    "from scipy.special import comb\n",
    "\n",
    "n = 10\n",
    "k = 5 \n",
    "p = 1/3\n",
    "q = 2/3"
   ]
  },
  {
   "cell_type": "code",
   "execution_count": 13,
   "id": "8ccad6df",
   "metadata": {
    "ExecuteTime": {
     "end_time": "2023-01-24T20:17:37.999400Z",
     "start_time": "2023-01-24T20:17:37.994349Z"
    },
    "hidden": true
   },
   "outputs": [
    {
     "name": "stdout",
     "output_type": "stream",
     "text": [
      "A probabilidade desse candidato acertar exatamente 5 questões é 13.656%\n"
     ]
    }
   ],
   "source": [
    "# Pergunta 1\n",
    "resposta = comb(n, k) * (p**k) * (q**(n-k))\n",
    "print(f'A probabilidade desse candidato acertar exatamente 5 questões é {(resposta*100):.3f}%')"
   ]
  },
  {
   "cell_type": "code",
   "execution_count": 18,
   "id": "623f8002",
   "metadata": {
    "ExecuteTime": {
     "end_time": "2023-01-24T20:22:14.469596Z",
     "start_time": "2023-01-24T20:22:14.464855Z"
    },
    "hidden": true
   },
   "outputs": [
    {
     "name": "stdout",
     "output_type": "stream",
     "text": [
      "A probabilidade desse candidato passar para a próxima etapa do processo seletivo é 21.313%\n"
     ]
    }
   ],
   "source": [
    "# Pergunta 2\n",
    "respostas2 = [comb(n, k) * (p**k) * (q**(n-k)) for k in range(5, 11)]\n",
    "resposta2 = sum(respostas2)\n",
    "print(f'A probabilidade desse candidato passar para a próxima etapa do processo seletivo é {(resposta2*100):.3f}%')"
   ]
  },
  {
   "attachments": {},
   "cell_type": "markdown",
   "id": "ea57c49d",
   "metadata": {
    "hidden": true
   },
   "source": [
    "<br>\n",
    "\n",
    "---\n",
    "\n",
    "<br>"
   ]
  },
  {
   "attachments": {},
   "cell_type": "markdown",
   "id": "a4dc1ede",
   "metadata": {
    "hidden": true
   },
   "source": [
    "\n",
    "#### Solução usando o scipy \n",
    "[link do metodo binom](https://docs.scipy.org/doc/scipy/reference/generated/scipy.stats.binom.html)"
   ]
  },
  {
   "cell_type": "code",
   "execution_count": 20,
   "id": "3ca898e3",
   "metadata": {
    "ExecuteTime": {
     "end_time": "2023-01-24T20:26:46.824673Z",
     "start_time": "2023-01-24T20:26:46.820107Z"
    },
    "hidden": true
   },
   "outputs": [],
   "source": [
    "from scipy.stats import binom\n",
    "\n",
    "n = 10\n",
    "k = 5 \n",
    "p = 1/3"
   ]
  },
  {
   "cell_type": "code",
   "execution_count": 21,
   "id": "e6baa345",
   "metadata": {
    "ExecuteTime": {
     "end_time": "2023-01-24T20:27:13.247421Z",
     "start_time": "2023-01-24T20:27:13.242969Z"
    },
    "hidden": true
   },
   "outputs": [
    {
     "name": "stdout",
     "output_type": "stream",
     "text": [
      "A probabilidade desse candidato acertar exatamente 5 questões é 13.656%\n"
     ]
    }
   ],
   "source": [
    "# Pergunta 1\n",
    "resposta = binom.pmf(k, n, p)\n",
    "print(f'A probabilidade desse candidato acertar exatamente 5 questões é {(resposta*100):.3f}%')"
   ]
  },
  {
   "cell_type": "code",
   "execution_count": 22,
   "id": "ae6b0af3",
   "metadata": {
    "ExecuteTime": {
     "end_time": "2023-01-24T20:29:22.823807Z",
     "start_time": "2023-01-24T20:29:22.818900Z"
    },
    "hidden": true
   },
   "outputs": [
    {
     "name": "stdout",
     "output_type": "stream",
     "text": [
      "A probabilidade desse candidato passar para a próxima etapa do processo seletivo é 21.313%\n"
     ]
    }
   ],
   "source": [
    "# Pergunta 2 \n",
    "resposta2 = binom.sf(4, n, p) \n",
    "print(f'A probabilidade desse candidato passar para a próxima etapa do processo seletivo é {(resposta2*100):.3f}%')"
   ]
  },
  {
   "attachments": {},
   "cell_type": "markdown",
   "id": "991b013a",
   "metadata": {
    "hidden": true
   },
   "source": [
    "<br> "
   ]
  },
  {
   "cell_type": "markdown",
   "id": "96dfbb76",
   "metadata": {
    "heading_collapsed": true,
    "hidden": true
   },
   "source": [
    "###  🔹 Exercicio sobre a media de uma distribuição binomial"
   ]
  },
  {
   "cell_type": "markdown",
   "id": "00abd64a",
   "metadata": {
    "hidden": true
   },
   "source": [
    "Uma cidade do interior realiza todos os anos uma gincana para arrecadar fundos para o hospital da cidade. Na última gincana se sabe que a **proporção de participantes do sexo feminino foi de 60%**. **O total de equipes, com 12 integrantes, inscritas na gincana deste ano é de 30**. Com as informações acima responda: Quantas equipes deverão ser formadas por **8 mulheres**?"
   ]
  },
  {
   "attachments": {},
   "cell_type": "markdown",
   "id": "d1ac2fcf",
   "metadata": {
    "hidden": true
   },
   "source": [
    "\n",
    "#### Solução"
   ]
  },
  {
   "cell_type": "code",
   "execution_count": 35,
   "id": "4f09eebc",
   "metadata": {
    "ExecuteTime": {
     "end_time": "2023-01-24T21:04:28.078737Z",
     "start_time": "2023-01-24T21:04:28.074708Z"
    },
    "hidden": true
   },
   "outputs": [
    {
     "name": "stdout",
     "output_type": "stream",
     "text": [
      "A probababilidade de um time possuir 8 mulheres é de 21.28409\n"
     ]
    }
   ],
   "source": [
    "from scipy.stats import binom\n",
    "\n",
    "k = 8\n",
    "n = 12\n",
    "p = 0.6\n",
    "\n",
    "prob = binom.pmf(k, n, p)\n",
    "print(f'A probababilidade de um time possuir 8 mulheres é de {(prob*100):.5f}')"
   ]
  },
  {
   "cell_type": "code",
   "execution_count": 39,
   "id": "9a2eb473",
   "metadata": {
    "ExecuteTime": {
     "end_time": "2023-01-24T21:05:39.446467Z",
     "start_time": "2023-01-24T21:05:39.443258Z"
    },
    "hidden": true
   },
   "outputs": [
    {
     "name": "stdout",
     "output_type": "stream",
     "text": [
      "A probabalidiade é que 6.38523% das esquipes sejam formadas por 8 mulheres\n"
     ]
    }
   ],
   "source": [
    "resposta = 30 * prob\n",
    "print(f'A probabalidiade é que {(resposta):.5f}% das esquipes sejam formadas por 8 mulheres')"
   ]
  },
  {
   "attachments": {},
   "cell_type": "markdown",
   "id": "4fce18be",
   "metadata": {
    "hidden": true
   },
   "source": [
    "<br> "
   ]
  },
  {
   "cell_type": "markdown",
   "id": "916ea239",
   "metadata": {
    "heading_collapsed": true,
    "hidden": true
   },
   "source": [
    "##  ✴️ Distribuição de poisson"
   ]
  },
  {
   "cell_type": "markdown",
   "id": "96bc043e",
   "metadata": {
    "heading_collapsed": true,
    "hidden": true
   },
   "source": [
    "###  🔹 Introdução"
   ]
  },
  {
   "cell_type": "markdown",
   "id": "6303e53b",
   "metadata": {
    "ExecuteTime": {
     "end_time": "2023-01-25T18:15:27.676184Z",
     "start_time": "2023-01-25T18:15:27.669811Z"
    },
    "hidden": true
   },
   "source": [
    "É empregada para descrever o numero de ocorrências em um intervalo de tempo ou espaço específico. Os eventos são caracterizados pela possibilidade de contagem dos sucessos, mas a não possibilidade de contagem dos fracassos.\n",
    "\n",
    "Como exemplos de processos onde podemos aplicar a distribuição de Poisso temos, a determinação do numero de clientes que entram em uma loja em determinada hora, o numero de carros que chegam em um drive-thru de uma lanchonete na hora do almoço, a determinação do numero de acidentes registrados em um trecho da estrada, etc."
   ]
  },
  {
   "attachments": {},
   "cell_type": "markdown",
   "id": "fab62891",
   "metadata": {
    "hidden": true
   },
   "source": [
    "$$P(k) = \\frac{e^{-\\mu}(\\mu)^k}{k!}$$"
   ]
  },
  {
   "cell_type": "markdown",
   "id": "9b44f00b",
   "metadata": {
    "hidden": true
   },
   "source": [
    "$e$ = número de Euler<br>\n",
    "$\\mu$ = representa o número médio de ocorrências em um determinado intervalo de tempo ou espaço<br>\n",
    "$k$ = numero de sucessos no intervalo desejado"
   ]
  },
  {
   "cell_type": "markdown",
   "id": "f8271120",
   "metadata": {
    "hidden": true
   },
   "source": [
    " "
   ]
  },
  {
   "cell_type": "markdown",
   "id": "7770f44f",
   "metadata": {
    "heading_collapsed": true,
    "hidden": true
   },
   "source": [
    "###  🔹 Propriedades de um experimento poisson"
   ]
  },
  {
   "cell_type": "markdown",
   "id": "b12d75c9",
   "metadata": {
    "hidden": true
   },
   "source": [
    "1. A probabilidade de uma ocorrência é a mesma em todo o espaço observado.\n",
    "2. O número de ocorrências em determinado intervalo é independente do número de ocorrências em outros intervalos.\n",
    "3. A probabilidade é a mesma em intervalos de igual comprimento."
   ]
  },
  {
   "cell_type": "markdown",
   "id": "71d0d209",
   "metadata": {
    "hidden": true
   },
   "source": [
    " "
   ]
  },
  {
   "cell_type": "markdown",
   "id": "5abd3d49",
   "metadata": {
    "heading_collapsed": true,
    "hidden": true
   },
   "source": [
    "###  🔹 Media e DP de uma distribuição poisson"
   ]
  },
  {
   "cell_type": "markdown",
   "id": "195e1692",
   "metadata": {
    "hidden": true
   },
   "source": [
    "\n",
    "### Média\n",
    "### $\\mu$"
   ]
  },
  {
   "cell_type": "markdown",
   "id": "99b698e9",
   "metadata": {
    "hidden": true
   },
   "source": [
    " "
   ]
  },
  {
   "cell_type": "markdown",
   "id": "b7258f51",
   "metadata": {
    "hidden": true
   },
   "source": [
    "\n",
    "### DP  \n",
    "### $\\sigma = \\sqrt{\\mu}$"
   ]
  },
  {
   "cell_type": "markdown",
   "id": "2a86f7ae",
   "metadata": {
    "hidden": true
   },
   "source": [
    " "
   ]
  },
  {
   "cell_type": "markdown",
   "id": "519a5143",
   "metadata": {
    "heading_collapsed": true,
    "hidden": true
   },
   "source": [
    "###  🔹 Exercicio de distribuição poisson"
   ]
  },
  {
   "cell_type": "markdown",
   "id": "629a7529",
   "metadata": {
    "hidden": true
   },
   "source": [
    "Um restaurante recebe em média **20 pedidos por hora**. Qual a chance de que, em determinada hora escolhida ao acaso, o restaurante receba **15 pedidos**?"
   ]
  },
  {
   "cell_type": "markdown",
   "id": "8928c89c",
   "metadata": {
    "hidden": true
   },
   "source": [
    "\n",
    "### Formula"
   ]
  },
  {
   "cell_type": "markdown",
   "id": "451a9279",
   "metadata": {
    "hidden": true
   },
   "source": [
    "\n",
    "# $$P(k) = \\frac{e^{-\\mu}(\\mu)^k}{k!}$$"
   ]
  },
  {
   "cell_type": "markdown",
   "id": "ac3161fc",
   "metadata": {
    "hidden": true
   },
   "source": [
    "\n",
    "### Solução manual"
   ]
  },
  {
   "cell_type": "code",
   "execution_count": 11,
   "id": "d33fd9e8",
   "metadata": {
    "ExecuteTime": {
     "end_time": "2023-01-25T18:41:13.686393Z",
     "start_time": "2023-01-25T18:41:13.682142Z"
    },
    "hidden": true
   },
   "outputs": [],
   "source": [
    "import numpy as np\n",
    "\n",
    "e = np.e\n",
    "media = 20\n",
    "k = 15"
   ]
  },
  {
   "cell_type": "code",
   "execution_count": 15,
   "id": "4c29c270",
   "metadata": {
    "ExecuteTime": {
     "end_time": "2023-01-25T18:44:51.494575Z",
     "start_time": "2023-01-25T18:44:51.491346Z"
    },
    "hidden": true
   },
   "outputs": [
    {
     "name": "stdout",
     "output_type": "stream",
     "text": [
      "A probabilidade é 5.165%\n"
     ]
    }
   ],
   "source": [
    "# Resposta\n",
    "prob = ((e**(-media)) * (media**k)) / np.math.factorial(k)\n",
    "print(f'A probabilidade é {(prob*100):.3f}%')"
   ]
  },
  {
   "cell_type": "markdown",
   "id": "af1f8505",
   "metadata": {
    "hidden": true
   },
   "source": [
    "---"
   ]
  },
  {
   "cell_type": "markdown",
   "id": "96748b73",
   "metadata": {
    "hidden": true
   },
   "source": [
    "\n",
    "### Solução usando o scipy"
   ]
  },
  {
   "cell_type": "code",
   "execution_count": 16,
   "id": "8fcd30f9",
   "metadata": {
    "ExecuteTime": {
     "end_time": "2023-01-25T18:46:47.402522Z",
     "start_time": "2023-01-25T18:46:47.399436Z"
    },
    "hidden": true
   },
   "outputs": [],
   "source": [
    "from scipy.stats import poisson\n",
    "import numpy as np\n",
    "\n",
    "e = np.e\n",
    "media = 20\n",
    "k = 15"
   ]
  },
  {
   "cell_type": "code",
   "execution_count": 18,
   "id": "beabcba5",
   "metadata": {
    "ExecuteTime": {
     "end_time": "2023-01-25T18:47:46.044055Z",
     "start_time": "2023-01-25T18:47:46.039808Z"
    },
    "hidden": true
   },
   "outputs": [
    {
     "name": "stdout",
     "output_type": "stream",
     "text": [
      "A probabilidade é 5.165%\n"
     ]
    }
   ],
   "source": [
    "# Resposta\n",
    "prob = poisson.pmf(k, media)\n",
    "print(f'A probabilidade é {(prob*100):.3f}%')"
   ]
  },
  {
   "cell_type": "code",
   "execution_count": 21,
   "id": "f527d2d4",
   "metadata": {
    "ExecuteTime": {
     "end_time": "2023-01-25T18:50:32.985831Z",
     "start_time": "2023-01-25T18:50:32.978964Z"
    },
    "hidden": true
   },
   "outputs": [
    {
     "data": {
      "text/plain": [
       "4.458764910826764"
      ]
     },
     "execution_count": 21,
     "metadata": {},
     "output_type": "execute_result"
    }
   ],
   "source": [
    "poisson.pmf(25, 20)*100"
   ]
  },
  {
   "cell_type": "markdown",
   "id": "a8ec5954",
   "metadata": {
    "hidden": true
   },
   "source": [
    " "
   ]
  },
  {
   "cell_type": "markdown",
   "id": "950dd155",
   "metadata": {
    "heading_collapsed": true
   },
   "source": [
    "# 💠 Estimação"
   ]
  },
  {
   "cell_type": "markdown",
   "id": "4029afea",
   "metadata": {
    "hidden": true
   },
   "source": [
    "É a forma de se fazer suposições generalizadas sobre os parâmetros de uma população tendo como base as informações de uma amostra.\n",
    "\n",
    "- **Parâmetros** são os atributos numéricos de uma população, tal como a média, desvio padrão etc.\n",
    "\n",
    "- **Estimativa** é o valor obtido para determinado parâmetro a partir dos dados de uma amostra da população."
   ]
  },
  {
   "cell_type": "markdown",
   "id": "2be47c01",
   "metadata": {
    "heading_collapsed": true,
    "hidden": true
   },
   "source": [
    "##  ✴️ Teorema do limite central"
   ]
  },
  {
   "cell_type": "markdown",
   "id": "1e3d9042",
   "metadata": {
    "hidden": true
   },
   "source": [
    "O **teorema do limite central** afirma que, com o aumento do tamanho da amostra, a distribuição das médias amostrais se aproxima de uma distribuição normal com média igual a média da população e o desvio padrão igual ao desvio padrão da variável original dividido pela raiz quadrada do tamanho da amostra. Este fato é assegurado para **n** maior ou igual a **30**."
   ]
  },
  {
   "attachments": {},
   "cell_type": "markdown",
   "id": "766e44d2",
   "metadata": {
    "hidden": true
   },
   "source": [
    "$$ \\sigma_\\bar{x} = \\frac{\\sigma}{\\sqrt{n}}$$\n",
    "\n",
    "O desvio padrão das médias amostrais é conhecido como **erro padrão da média**."
   ]
  },
  {
   "cell_type": "markdown",
   "id": "8c55e108",
   "metadata": {
    "heading_collapsed": true,
    "hidden": true
   },
   "source": [
    "###  🔹 Entendendo o Teorema do limite central"
   ]
  },
  {
   "cell_type": "code",
   "execution_count": 1,
   "id": "4dd65f77",
   "metadata": {
    "ExecuteTime": {
     "end_time": "2023-01-26T20:21:59.176152Z",
     "start_time": "2023-01-26T20:21:58.819223Z"
    },
    "hidden": true
   },
   "outputs": [],
   "source": [
    "import pandas as pd\n",
    "\n",
    "data = pd.read_csv('base-de-dados/dados.csv')"
   ]
  },
  {
   "cell_type": "code",
   "execution_count": 3,
   "id": "312d58c9",
   "metadata": {
    "ExecuteTime": {
     "end_time": "2023-01-26T20:22:51.680452Z",
     "start_time": "2023-01-26T20:22:51.675809Z"
    },
    "hidden": true
   },
   "outputs": [],
   "source": [
    "n = 2000\n",
    "total_amostras = 1500\n",
    "amostras = pd.DataFrame()"
   ]
  },
  {
   "cell_type": "code",
   "execution_count": 24,
   "id": "e8c10c24",
   "metadata": {
    "ExecuteTime": {
     "end_time": "2023-01-26T20:40:07.283907Z",
     "start_time": "2023-01-26T20:40:05.598005Z"
    },
    "hidden": true
   },
   "outputs": [],
   "source": [
    "for vez in range(total_amostras):\n",
    "    amostras[f'amostra_{vez}'] = data.Renda.sample(n, ignore_index=True).copy()"
   ]
  },
  {
   "cell_type": "code",
   "execution_count": 25,
   "id": "bf41ac55",
   "metadata": {
    "ExecuteTime": {
     "end_time": "2023-01-26T20:40:08.182787Z",
     "start_time": "2023-01-26T20:40:08.164342Z"
    },
    "collapsed": true,
    "hidden": true
   },
   "outputs": [
    {
     "data": {
      "text/html": [
       "<div>\n",
       "<style scoped>\n",
       "    .dataframe tbody tr th:only-of-type {\n",
       "        vertical-align: middle;\n",
       "    }\n",
       "\n",
       "    .dataframe tbody tr th {\n",
       "        vertical-align: top;\n",
       "    }\n",
       "\n",
       "    .dataframe thead th {\n",
       "        text-align: right;\n",
       "    }\n",
       "</style>\n",
       "<table border=\"1\" class=\"dataframe\">\n",
       "  <thead>\n",
       "    <tr style=\"text-align: right;\">\n",
       "      <th></th>\n",
       "      <th>amostra_0</th>\n",
       "      <th>amostra_1</th>\n",
       "      <th>amostra_2</th>\n",
       "      <th>amostra_3</th>\n",
       "      <th>amostra_4</th>\n",
       "      <th>amostra_5</th>\n",
       "      <th>amostra_6</th>\n",
       "      <th>amostra_7</th>\n",
       "      <th>amostra_8</th>\n",
       "      <th>amostra_9</th>\n",
       "      <th>...</th>\n",
       "      <th>amostra_1490</th>\n",
       "      <th>amostra_1491</th>\n",
       "      <th>amostra_1492</th>\n",
       "      <th>amostra_1493</th>\n",
       "      <th>amostra_1494</th>\n",
       "      <th>amostra_1495</th>\n",
       "      <th>amostra_1496</th>\n",
       "      <th>amostra_1497</th>\n",
       "      <th>amostra_1498</th>\n",
       "      <th>amostra_1499</th>\n",
       "    </tr>\n",
       "  </thead>\n",
       "  <tbody>\n",
       "    <tr>\n",
       "      <th>0</th>\n",
       "      <td>1200</td>\n",
       "      <td>700</td>\n",
       "      <td>4000</td>\n",
       "      <td>4000</td>\n",
       "      <td>788</td>\n",
       "      <td>700</td>\n",
       "      <td>788</td>\n",
       "      <td>900</td>\n",
       "      <td>1400</td>\n",
       "      <td>300</td>\n",
       "      <td>...</td>\n",
       "      <td>0</td>\n",
       "      <td>788</td>\n",
       "      <td>200</td>\n",
       "      <td>2500</td>\n",
       "      <td>2500</td>\n",
       "      <td>0</td>\n",
       "      <td>1500</td>\n",
       "      <td>1700</td>\n",
       "      <td>1500</td>\n",
       "      <td>1200</td>\n",
       "    </tr>\n",
       "    <tr>\n",
       "      <th>1</th>\n",
       "      <td>818</td>\n",
       "      <td>1608</td>\n",
       "      <td>789</td>\n",
       "      <td>1300</td>\n",
       "      <td>1200</td>\n",
       "      <td>1900</td>\n",
       "      <td>1600</td>\n",
       "      <td>2600</td>\n",
       "      <td>240</td>\n",
       "      <td>1600</td>\n",
       "      <td>...</td>\n",
       "      <td>110</td>\n",
       "      <td>1200</td>\n",
       "      <td>1500</td>\n",
       "      <td>0</td>\n",
       "      <td>2000</td>\n",
       "      <td>800</td>\n",
       "      <td>2400</td>\n",
       "      <td>788</td>\n",
       "      <td>788</td>\n",
       "      <td>90</td>\n",
       "    </tr>\n",
       "    <tr>\n",
       "      <th>2</th>\n",
       "      <td>3500</td>\n",
       "      <td>1500</td>\n",
       "      <td>3200</td>\n",
       "      <td>8000</td>\n",
       "      <td>5000</td>\n",
       "      <td>1000</td>\n",
       "      <td>1600</td>\n",
       "      <td>700</td>\n",
       "      <td>4000</td>\n",
       "      <td>2000</td>\n",
       "      <td>...</td>\n",
       "      <td>1000</td>\n",
       "      <td>800</td>\n",
       "      <td>800</td>\n",
       "      <td>2000</td>\n",
       "      <td>280</td>\n",
       "      <td>200</td>\n",
       "      <td>1500</td>\n",
       "      <td>2800</td>\n",
       "      <td>130</td>\n",
       "      <td>450</td>\n",
       "    </tr>\n",
       "    <tr>\n",
       "      <th>3</th>\n",
       "      <td>3240</td>\n",
       "      <td>2000</td>\n",
       "      <td>2600</td>\n",
       "      <td>1000</td>\n",
       "      <td>0</td>\n",
       "      <td>12000</td>\n",
       "      <td>2000</td>\n",
       "      <td>1500</td>\n",
       "      <td>2300</td>\n",
       "      <td>500</td>\n",
       "      <td>...</td>\n",
       "      <td>1500</td>\n",
       "      <td>789</td>\n",
       "      <td>1700</td>\n",
       "      <td>2000</td>\n",
       "      <td>1200</td>\n",
       "      <td>6000</td>\n",
       "      <td>788</td>\n",
       "      <td>400</td>\n",
       "      <td>3500</td>\n",
       "      <td>1100</td>\n",
       "    </tr>\n",
       "    <tr>\n",
       "      <th>4</th>\n",
       "      <td>1500</td>\n",
       "      <td>1100</td>\n",
       "      <td>788</td>\n",
       "      <td>950</td>\n",
       "      <td>800</td>\n",
       "      <td>400</td>\n",
       "      <td>600</td>\n",
       "      <td>800</td>\n",
       "      <td>2000</td>\n",
       "      <td>500</td>\n",
       "      <td>...</td>\n",
       "      <td>1200</td>\n",
       "      <td>3000</td>\n",
       "      <td>200</td>\n",
       "      <td>2300</td>\n",
       "      <td>788</td>\n",
       "      <td>2000</td>\n",
       "      <td>1200</td>\n",
       "      <td>1000</td>\n",
       "      <td>7000</td>\n",
       "      <td>900</td>\n",
       "    </tr>\n",
       "    <tr>\n",
       "      <th>...</th>\n",
       "      <td>...</td>\n",
       "      <td>...</td>\n",
       "      <td>...</td>\n",
       "      <td>...</td>\n",
       "      <td>...</td>\n",
       "      <td>...</td>\n",
       "      <td>...</td>\n",
       "      <td>...</td>\n",
       "      <td>...</td>\n",
       "      <td>...</td>\n",
       "      <td>...</td>\n",
       "      <td>...</td>\n",
       "      <td>...</td>\n",
       "      <td>...</td>\n",
       "      <td>...</td>\n",
       "      <td>...</td>\n",
       "      <td>...</td>\n",
       "      <td>...</td>\n",
       "      <td>...</td>\n",
       "      <td>...</td>\n",
       "      <td>...</td>\n",
       "    </tr>\n",
       "    <tr>\n",
       "      <th>1995</th>\n",
       "      <td>4000</td>\n",
       "      <td>2500</td>\n",
       "      <td>789</td>\n",
       "      <td>3500</td>\n",
       "      <td>1200</td>\n",
       "      <td>950</td>\n",
       "      <td>1500</td>\n",
       "      <td>2500</td>\n",
       "      <td>500</td>\n",
       "      <td>5000</td>\n",
       "      <td>...</td>\n",
       "      <td>500</td>\n",
       "      <td>788</td>\n",
       "      <td>1500</td>\n",
       "      <td>1090</td>\n",
       "      <td>0</td>\n",
       "      <td>600</td>\n",
       "      <td>788</td>\n",
       "      <td>800</td>\n",
       "      <td>788</td>\n",
       "      <td>800</td>\n",
       "    </tr>\n",
       "    <tr>\n",
       "      <th>1996</th>\n",
       "      <td>788</td>\n",
       "      <td>2600</td>\n",
       "      <td>1200</td>\n",
       "      <td>600</td>\n",
       "      <td>3800</td>\n",
       "      <td>2000</td>\n",
       "      <td>1000</td>\n",
       "      <td>100</td>\n",
       "      <td>1100</td>\n",
       "      <td>5000</td>\n",
       "      <td>...</td>\n",
       "      <td>1500</td>\n",
       "      <td>800</td>\n",
       "      <td>20000</td>\n",
       "      <td>1500</td>\n",
       "      <td>600</td>\n",
       "      <td>100</td>\n",
       "      <td>788</td>\n",
       "      <td>6000</td>\n",
       "      <td>800</td>\n",
       "      <td>3000</td>\n",
       "    </tr>\n",
       "    <tr>\n",
       "      <th>1997</th>\n",
       "      <td>3000</td>\n",
       "      <td>1500</td>\n",
       "      <td>1800</td>\n",
       "      <td>1400</td>\n",
       "      <td>2400</td>\n",
       "      <td>788</td>\n",
       "      <td>400</td>\n",
       "      <td>2000</td>\n",
       "      <td>2500</td>\n",
       "      <td>200</td>\n",
       "      <td>...</td>\n",
       "      <td>0</td>\n",
       "      <td>1300</td>\n",
       "      <td>788</td>\n",
       "      <td>1900</td>\n",
       "      <td>2400</td>\n",
       "      <td>150</td>\n",
       "      <td>100</td>\n",
       "      <td>788</td>\n",
       "      <td>5500</td>\n",
       "      <td>40</td>\n",
       "    </tr>\n",
       "    <tr>\n",
       "      <th>1998</th>\n",
       "      <td>1500</td>\n",
       "      <td>788</td>\n",
       "      <td>1500</td>\n",
       "      <td>6000</td>\n",
       "      <td>2300</td>\n",
       "      <td>2800</td>\n",
       "      <td>28000</td>\n",
       "      <td>1800</td>\n",
       "      <td>3500</td>\n",
       "      <td>6230</td>\n",
       "      <td>...</td>\n",
       "      <td>2150</td>\n",
       "      <td>780</td>\n",
       "      <td>700</td>\n",
       "      <td>2600</td>\n",
       "      <td>0</td>\n",
       "      <td>700</td>\n",
       "      <td>3000</td>\n",
       "      <td>3000</td>\n",
       "      <td>1500</td>\n",
       "      <td>6300</td>\n",
       "    </tr>\n",
       "    <tr>\n",
       "      <th>1999</th>\n",
       "      <td>2000</td>\n",
       "      <td>1500</td>\n",
       "      <td>300</td>\n",
       "      <td>2400</td>\n",
       "      <td>900</td>\n",
       "      <td>900</td>\n",
       "      <td>1650</td>\n",
       "      <td>800</td>\n",
       "      <td>1600</td>\n",
       "      <td>600</td>\n",
       "      <td>...</td>\n",
       "      <td>1500</td>\n",
       "      <td>800</td>\n",
       "      <td>6000</td>\n",
       "      <td>1000</td>\n",
       "      <td>1070</td>\n",
       "      <td>2000</td>\n",
       "      <td>1400</td>\n",
       "      <td>2000</td>\n",
       "      <td>0</td>\n",
       "      <td>1000</td>\n",
       "    </tr>\n",
       "  </tbody>\n",
       "</table>\n",
       "<p>2000 rows × 1500 columns</p>\n",
       "</div>"
      ],
      "text/plain": [
       "      amostra_0  amostra_1  amostra_2  amostra_3  amostra_4  amostra_5  \\\n",
       "0          1200        700       4000       4000        788        700   \n",
       "1           818       1608        789       1300       1200       1900   \n",
       "2          3500       1500       3200       8000       5000       1000   \n",
       "3          3240       2000       2600       1000          0      12000   \n",
       "4          1500       1100        788        950        800        400   \n",
       "...         ...        ...        ...        ...        ...        ...   \n",
       "1995       4000       2500        789       3500       1200        950   \n",
       "1996        788       2600       1200        600       3800       2000   \n",
       "1997       3000       1500       1800       1400       2400        788   \n",
       "1998       1500        788       1500       6000       2300       2800   \n",
       "1999       2000       1500        300       2400        900        900   \n",
       "\n",
       "      amostra_6  amostra_7  amostra_8  amostra_9  ...  amostra_1490  \\\n",
       "0           788        900       1400        300  ...             0   \n",
       "1          1600       2600        240       1600  ...           110   \n",
       "2          1600        700       4000       2000  ...          1000   \n",
       "3          2000       1500       2300        500  ...          1500   \n",
       "4           600        800       2000        500  ...          1200   \n",
       "...         ...        ...        ...        ...  ...           ...   \n",
       "1995       1500       2500        500       5000  ...           500   \n",
       "1996       1000        100       1100       5000  ...          1500   \n",
       "1997        400       2000       2500        200  ...             0   \n",
       "1998      28000       1800       3500       6230  ...          2150   \n",
       "1999       1650        800       1600        600  ...          1500   \n",
       "\n",
       "      amostra_1491  amostra_1492  amostra_1493  amostra_1494  amostra_1495  \\\n",
       "0              788           200          2500          2500             0   \n",
       "1             1200          1500             0          2000           800   \n",
       "2              800           800          2000           280           200   \n",
       "3              789          1700          2000          1200          6000   \n",
       "4             3000           200          2300           788          2000   \n",
       "...            ...           ...           ...           ...           ...   \n",
       "1995           788          1500          1090             0           600   \n",
       "1996           800         20000          1500           600           100   \n",
       "1997          1300           788          1900          2400           150   \n",
       "1998           780           700          2600             0           700   \n",
       "1999           800          6000          1000          1070          2000   \n",
       "\n",
       "      amostra_1496  amostra_1497  amostra_1498  amostra_1499  \n",
       "0             1500          1700          1500          1200  \n",
       "1             2400           788           788            90  \n",
       "2             1500          2800           130           450  \n",
       "3              788           400          3500          1100  \n",
       "4             1200          1000          7000           900  \n",
       "...            ...           ...           ...           ...  \n",
       "1995           788           800           788           800  \n",
       "1996           788          6000           800          3000  \n",
       "1997           100           788          5500            40  \n",
       "1998          3000          3000          1500          6300  \n",
       "1999          1400          2000             0          1000  \n",
       "\n",
       "[2000 rows x 1500 columns]"
      ]
     },
     "execution_count": 25,
     "metadata": {},
     "output_type": "execute_result"
    }
   ],
   "source": [
    "amostras"
   ]
  },
  {
   "cell_type": "markdown",
   "id": "a9a0c24b",
   "metadata": {
    "hidden": true
   },
   "source": [
    " "
   ]
  },
  {
   "cell_type": "markdown",
   "id": "35ebab1e",
   "metadata": {
    "hidden": true
   },
   "source": [
    "\"O Teorema do Limite Central afirma que, **com o aumento do tamanho da amostra, a distribuição das médias amostrais se aproxima de uma distribuição normal**\""
   ]
  },
  {
   "cell_type": "code",
   "execution_count": 26,
   "id": "2bc6aeff",
   "metadata": {
    "ExecuteTime": {
     "end_time": "2023-01-26T20:40:12.322493Z",
     "start_time": "2023-01-26T20:40:12.162460Z"
    },
    "hidden": true
   },
   "outputs": [
    {
     "data": {
      "text/plain": [
       "<AxesSubplot: >"
      ]
     },
     "execution_count": 26,
     "metadata": {},
     "output_type": "execute_result"
    },
    {
     "data": {
      "image/png": "[encoded data removed]",
      "text/plain": [
       "<Figure size 640x480 with 1 Axes>"
      ]
     },
     "metadata": {},
     "output_type": "display_data"
    }
   ],
   "source": [
    "amostras.mean().hist()"
   ]
  },
  {
   "cell_type": "markdown",
   "id": "097da626",
   "metadata": {
    "hidden": true
   },
   "source": [
    " "
   ]
  },
  {
   "cell_type": "markdown",
   "id": "30639db7",
   "metadata": {
    "hidden": true
   },
   "source": [
    "\"**E a média das médias amostrais também se aproxima da média da população**\" "
   ]
  },
  {
   "cell_type": "code",
   "execution_count": 27,
   "id": "9e93107c",
   "metadata": {
    "ExecuteTime": {
     "end_time": "2023-01-26T20:45:02.705124Z",
     "start_time": "2023-01-26T20:45:02.701161Z"
    },
    "hidden": true
   },
   "outputs": [
    {
     "data": {
      "text/plain": [
       "2000.3831988547631"
      ]
     },
     "execution_count": 27,
     "metadata": {},
     "output_type": "execute_result"
    }
   ],
   "source": [
    "# Média população\n",
    "media_pop = data.Renda.mean()\n",
    "media_pop"
   ]
  },
  {
   "cell_type": "code",
   "execution_count": 28,
   "id": "0596e447",
   "metadata": {
    "ExecuteTime": {
     "end_time": "2023-01-26T20:45:51.836538Z",
     "start_time": "2023-01-26T20:45:51.738849Z"
    },
    "hidden": true
   },
   "outputs": [
    {
     "data": {
      "text/plain": [
       "2002.2532299999998"
      ]
     },
     "execution_count": 28,
     "metadata": {},
     "output_type": "execute_result"
    }
   ],
   "source": [
    "# Média das médias amostrais\n",
    "media_das_medias_amostrais = amostras.mean().mean()\n",
    "media_das_medias_amostrais"
   ]
  },
  {
   "cell_type": "markdown",
   "id": "86b0e7c5",
   "metadata": {
    "hidden": true
   },
   "source": [
    " "
   ]
  },
  {
   "cell_type": "markdown",
   "id": "b226b144",
   "metadata": {
    "hidden": true
   },
   "source": [
    "\"E o desvio padrão das médias amostrais é proximo ao desvio padrão da variável original dividido pela raiz quadrada do tamanho da amostra. Este fato é assegurado para **n** maior ou igual a **30**."
   ]
  },
  {
   "cell_type": "code",
   "execution_count": 33,
   "id": "48eba23b",
   "metadata": {
    "ExecuteTime": {
     "end_time": "2023-01-26T20:55:01.157033Z",
     "start_time": "2023-01-26T20:55:01.083220Z"
    },
    "hidden": true
   },
   "outputs": [
    {
     "data": {
      "text/plain": [
       "74.74412376672969"
      ]
     },
     "execution_count": 33,
     "metadata": {},
     "output_type": "execute_result"
    }
   ],
   "source": [
    "# Desvio padrão das medias amostrais\n",
    "dp_medias_amostrais = amostras.mean().std(ddof=1)\n",
    "dp_medias_amostrais"
   ]
  },
  {
   "cell_type": "code",
   "execution_count": 32,
   "id": "d3f8967f",
   "metadata": {
    "ExecuteTime": {
     "end_time": "2023-01-26T20:54:45.986019Z",
     "start_time": "2023-01-26T20:54:45.979874Z"
    },
    "hidden": true
   },
   "outputs": [
    {
     "data": {
      "text/plain": [
       "74.31272524675974"
      ]
     },
     "execution_count": 32,
     "metadata": {},
     "output_type": "execute_result"
    }
   ],
   "source": [
    "# Desvio padrão da população divido pela raiz quadrada do tamanho da amostra\n",
    "dp_populacao = data.Renda.std(ddof=0) / n**0.5\n",
    "dp_populacao"
   ]
  },
  {
   "cell_type": "markdown",
   "id": "c39d811d",
   "metadata": {
    "hidden": true
   },
   "source": [
    " "
   ]
  },
  {
   "cell_type": "markdown",
   "id": "8286faab",
   "metadata": {
    "heading_collapsed": true,
    "hidden": true
   },
   "source": [
    "##  ✴️ Niveis de confiança e significança"
   ]
  },
  {
   "cell_type": "markdown",
   "id": "f227f109",
   "metadata": {
    "hidden": true
   },
   "source": [
    "O **nível de confiança** ($1 - \\alpha$) é uma **medida da precisão** de uma **previsão** ou **inferência**. Ele é geralmente expresso como uma porcentagem e indica a probabilidade de que a previsão ou inferência esteja correta. Por exemplo, se você tem um nível de confiança de 95%, isso significa que você tem 95% de certeza de que a previsão ou inferência é correta. De forma complementar o **nível de significância** ($\\alpha$) expressa a probabilidade de erro da estimativa. Por exemplo, se você tem um nível de significância de 0,05, isso significa que há apenas 5% de chance de que o resultado observado seja devido ao acaso.\n",
    "\n",
    "O **nível de confiança** representa o grau de confiabilidade do resultado da estimativa estar dentro de determinado intervalo. Quando fixamos em uma pesquisa um **nível de confiança** de 95%, por exemplo, estamos assumindo que existe uma probabilidade de 95% dos resultados da pesquisa representarem bem a realidade, ou seja, estarem corretos.\n",
    "\n",
    "O **nível de confiança** de uma estimativa pode ser obtido a partir da área sob a curva normal como ilustrado na figura abaixo."
   ]
  },
  {
   "cell_type": "markdown",
   "id": "7fc83f3f",
   "metadata": {
    "hidden": true
   },
   "source": [
    "![alt text](https://caelum-online-public.s3.amazonaws.com/1178-estatistica-parte2/01/img007.png)"
   ]
  },
  {
   "cell_type": "markdown",
   "id": "a7b6bcc3",
   "metadata": {
    "hidden": true
   },
   "source": [
    " "
   ]
  },
  {
   "cell_type": "markdown",
   "id": "759d52e3",
   "metadata": {
    "heading_collapsed": true,
    "hidden": true
   },
   "source": [
    "##  ✴️ Erro inferêncial"
   ]
  },
  {
   "cell_type": "markdown",
   "id": "d4b9305f",
   "metadata": {
    "hidden": true
   },
   "source": [
    "O **erro inferencial** é definido pelo **desvio padrão das médias amostrais** $\\sigma_\\bar{x}$ vezes o **nível de confiança** determinado para o processo."
   ]
  },
  {
   "cell_type": "markdown",
   "id": "d6b4fe10",
   "metadata": {
    "hidden": true
   },
   "source": [
    "\n",
    "# $$e = z \\frac{\\sigma}{\\sqrt{n}}$$"
   ]
  },
  {
   "cell_type": "markdown",
   "id": "8b22e5d1",
   "metadata": {
    "hidden": true
   },
   "source": [
    " "
   ]
  },
  {
   "cell_type": "markdown",
   "id": "b7ccbbab",
   "metadata": {
    "heading_collapsed": true,
    "hidden": true
   },
   "source": [
    "##  ✴️ Intervalo de confiança"
   ]
  },
  {
   "cell_type": "markdown",
   "id": "44780d4e",
   "metadata": {
    "colab_type": "text",
    "hidden": true,
    "id": "QWgBFeRnG3HT"
   },
   "source": [
    "\n",
    "#### Com desvio padrão populacional conhecido\n",
    "\n",
    "## $\\mu = \\bar{x} \\pm z\\frac{\\sigma}{\\sqrt{n}}$\n",
    "\n",
    "#### Com desvio padrão populacional desconhecido\n",
    "\n",
    "## $\\mu = \\bar{x} \\pm z\\frac{s}{\\sqrt{n}}$"
   ]
  },
  {
   "cell_type": "markdown",
   "id": "5f7f50ac",
   "metadata": {
    "hidden": true
   },
   "source": [
    " "
   ]
  },
  {
   "cell_type": "markdown",
   "id": "7b78e691",
   "metadata": {
    "heading_collapsed": true,
    "hidden": true
   },
   "source": [
    "##  ✴️ Exercicio"
   ]
  },
  {
   "cell_type": "markdown",
   "id": "51b621cf",
   "metadata": {
    "hidden": true
   },
   "source": [
    "Suponha que os pesos dos sacos de arroz de uma indústria alimentícia se distribuem aproximadamente como uma normal de **desvio padrão populacional igual a 150 g**. Selecionada uma **amostra aleatório de 20 sacos** de um lote específico, obteve-se um **peso médio de 5.050 g**. Construa um intervalo de confiança para a **média populacional** assumindo um **nível de significância de 5%**."
   ]
  },
  {
   "cell_type": "markdown",
   "id": "198a00d9",
   "metadata": {
    "hidden": true
   },
   "source": [
    "\n",
    "### Solução manual"
   ]
  },
  {
   "cell_type": "markdown",
   "id": "bc851711",
   "metadata": {
    "hidden": true
   },
   "source": [
    "Calculando o **$Z$** da formula do intervlo de confiança"
   ]
  },
  {
   "cell_type": "code",
   "execution_count": 37,
   "id": "b9e95124",
   "metadata": {
    "ExecuteTime": {
     "end_time": "2023-01-26T23:12:29.766333Z",
     "start_time": "2023-01-26T23:12:29.761439Z"
    },
    "hidden": true
   },
   "outputs": [
    {
     "name": "stdout",
     "output_type": "stream",
     "text": [
      "O valor de Z é 1.959963984540054\n"
     ]
    }
   ],
   "source": [
    "from scipy.stats import norm\n",
    "\n",
    "nivel_significancia = 0.05\n",
    "nivel_confiança = 1 - nivel_significancia\n",
    "\n",
    "prob_Z = (nivel_confiança / 2) + 0.5\n",
    "Z = norm.ppf(prob_Z)\n",
    "print('O valor de Z é', Z)"
   ]
  },
  {
   "cell_type": "markdown",
   "id": "5d8b4384",
   "metadata": {
    "hidden": true
   },
   "source": [
    " "
   ]
  },
  {
   "cell_type": "markdown",
   "id": "8b9ea43d",
   "metadata": {
    "hidden": true
   },
   "source": [
    "Calculando o **desvio padrão das médias amostrais** **$\\sigma_\\bar{x}$**."
   ]
  },
  {
   "cell_type": "code",
   "execution_count": 40,
   "id": "daed148b",
   "metadata": {
    "ExecuteTime": {
     "end_time": "2023-01-26T23:21:58.948803Z",
     "start_time": "2023-01-26T23:21:58.944448Z"
    },
    "hidden": true
   },
   "outputs": [
    {
     "name": "stdout",
     "output_type": "stream",
     "text": [
      "O valor de 𝜎𝑥 é 33.54101966249684\n"
     ]
    }
   ],
   "source": [
    "dp_populacao = 150\n",
    "n = 20\n",
    "\n",
    "dp_medias_amostrais = dp_populacao / n**0.5\n",
    "print('O valor de 𝜎𝑥 é', dp_medias_amostrais)  "
   ]
  },
  {
   "cell_type": "markdown",
   "id": "d73a2e1b",
   "metadata": {
    "hidden": true
   },
   "source": [
    " "
   ]
  },
  {
   "cell_type": "markdown",
   "id": "3aaa5dcc",
   "metadata": {
    "hidden": true
   },
   "source": [
    "Calculando o **erro inferêncial** $e$."
   ]
  },
  {
   "cell_type": "code",
   "execution_count": 42,
   "id": "367ca06a",
   "metadata": {
    "ExecuteTime": {
     "end_time": "2023-01-26T23:25:15.739967Z",
     "start_time": "2023-01-26T23:25:15.735750Z"
    },
    "hidden": true
   },
   "outputs": [
    {
     "name": "stdout",
     "output_type": "stream",
     "text": [
      "O valor do erro inferencial é 65.73919054324361\n"
     ]
    }
   ],
   "source": [
    "erro_inferencial = Z * dp_medias_amostrais\n",
    "print('O valor do erro inferencial é', erro_inferencial)"
   ]
  },
  {
   "cell_type": "markdown",
   "id": "dc113236",
   "metadata": {
    "hidden": true
   },
   "source": [
    " "
   ]
  },
  {
   "cell_type": "markdown",
   "id": "07f80673",
   "metadata": {
    "hidden": true
   },
   "source": [
    "Calculando o intervalo de confiança."
   ]
  },
  {
   "cell_type": "code",
   "execution_count": 44,
   "id": "2409e333",
   "metadata": {
    "ExecuteTime": {
     "end_time": "2023-01-26T23:30:43.840394Z",
     "start_time": "2023-01-26T23:30:43.835044Z"
    },
    "hidden": true
   },
   "outputs": [
    {
     "name": "stdout",
     "output_type": "stream",
     "text": [
      "O intervalo de confiança é: (4984.260809456757, 5115.739190543243)\n"
     ]
    }
   ],
   "source": [
    "media_amostral = 5050    # 5.050 g, cinco mil e cinquenta gramas\n",
    "intervalo_confianca = (media_amostral-erro_inferencial, media_amostral+erro_inferencial)\n",
    "print('O intervalo de confiança é:', intervalo_confianca)"
   ]
  },
  {
   "cell_type": "markdown",
   "id": "e16972e7",
   "metadata": {
    "ExecuteTime": {
     "end_time": "2023-01-26T23:29:21.414065Z",
     "start_time": "2023-01-26T23:29:21.409447Z"
    },
    "hidden": true
   },
   "source": [
    " "
   ]
  },
  {
   "cell_type": "markdown",
   "id": "9451d15f",
   "metadata": {
    "hidden": true
   },
   "source": [
    "\n",
    "### Solução usando o scipy"
   ]
  },
  {
   "cell_type": "code",
   "execution_count": 45,
   "id": "886d32ce",
   "metadata": {
    "ExecuteTime": {
     "end_time": "2023-01-26T23:33:56.306758Z",
     "start_time": "2023-01-26T23:33:56.304292Z"
    },
    "hidden": true
   },
   "outputs": [],
   "source": [
    "from scipy.stats import norm"
   ]
  },
  {
   "cell_type": "code",
   "execution_count": 47,
   "id": "c2821e30",
   "metadata": {
    "ExecuteTime": {
     "end_time": "2023-01-26T23:43:54.760500Z",
     "start_time": "2023-01-26T23:43:54.755464Z"
    },
    "hidden": true
   },
   "outputs": [
    {
     "name": "stdout",
     "output_type": "stream",
     "text": [
      "O intervalo de confiança é: (4984.260809456757, 5115.739190543243)\n"
     ]
    }
   ],
   "source": [
    "intervalo_confianca = norm.interval(confidence=nivel_confiança, loc=media_amostral, scale=dp_medias_amostrais)\n",
    "print('O intervalo de confiança é:', intervalo_confianca)"
   ]
  },
  {
   "cell_type": "markdown",
   "id": "2d2ad96a",
   "metadata": {
    "hidden": true
   },
   "source": [
    " "
   ]
  },
  {
   "cell_type": "markdown",
   "id": "34131ac8",
   "metadata": {
    "heading_collapsed": true
   },
   "source": [
    "# 💠 Calculando o tamanho da amostra"
   ]
  },
  {
   "cell_type": "markdown",
   "id": "32933fe5",
   "metadata": {
    "hidden": true
   },
   "source": [
    "A estudar"
   ]
  },
  {
   "cell_type": "markdown",
   "id": "ed4fb8cf",
   "metadata": {
    "hidden": true
   },
   "source": []
  },
  {
   "cell_type": "markdown",
   "id": "d2a7d4ac",
   "metadata": {
    "hidden": true
   },
   "source": []
  }
 ],
 "metadata": {
  "kernelspec": {
   "display_name": "Python 3 (ipykernel)",
   "language": "python",
   "name": "python3"
  },
  "language_info": {
   "codemirror_mode": {
    "name": "ipython",
    "version": 3
   },
   "file_extension": ".py",
   "mimetype": "text/x-python",
   "name": "python",
   "nbconvert_exporter": "python",
   "pygments_lexer": "ipython3",
   "version": "3.11.1"
  },
  "varInspector": {
   "cols": {
    "lenName": 16,
    "lenType": 16,
    "lenVar": 40
   },
   "kernels_config": {
    "python": {
     "delete_cmd_postfix": "",
     "delete_cmd_prefix": "del ",
     "library": "var_list.py",
     "varRefreshCmd": "print(var_dic_list())"
    },
    "r": {
     "delete_cmd_postfix": ") ",
     "delete_cmd_prefix": "rm(",
     "library": "var_list.r",
     "varRefreshCmd": "cat(var_dic_list()) "
    }
   },
   "types_to_exclude": [
    "module",
    "function",
    "builtin_function_or_method",
    "instance",
    "_Feature"
   ],
   "window_display": false
  }
 },
 "nbformat": 4,
 "nbformat_minor": 5
}
