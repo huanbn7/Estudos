{
 "cells": [
  {
   "cell_type": "markdown",
   "id": "74da7ed2",
   "metadata": {
    "heading_collapsed": true
   },
   "source": [
    "# 💠 Introdução a estatística"
   ]
  },
  {
   "cell_type": "markdown",
   "id": "dbad4a03",
   "metadata": {
    "hidden": true
   },
   "source": [
    "A estatística é uma ciência que oferece uma coleção de métodos para coletar, organizar, resumir, analisar e interpretar dados com o intuito de planejar experimentos e levamentos e deles extrair informações úteis para tomada de decisão.\n",
    "\n",
    "Em resumo a estatistitica é um conjunto de técnicas para, sistematicamente:\n",
    "- Planejar a coleta de dados oriundos de estudos ou exeperimentos, realizados em qualquer área do conhecimento;\n",
    "- Descrever, analisar e interpretar dados para extrair decisões e subsidiar desições;\n",
    "- Avaliar evidências empíricas sob hipóteses de interesse;\n",
    "\n",
    "Exemplos de aplicações:\n",
    "- Opinião popular brasileira sobre uma proposta de governo;\n",
    "- Avaliar a efetividade de uma nova droga para o tratamento de uma doença;\n",
    "- Entender hábitos de compras de um cliente de uma loja virtual;\n",
    "- Recomendar produtos de forma personalizada;\n",
    "- Comparar a produtividade de uma cultivar sobre diferentes formas de cultivo, adubação, etc;"
   ]
  },
  {
   "cell_type": "markdown",
   "id": "d2708ae7",
   "metadata": {
    "hidden": true
   },
   "source": [
    "Em geral as etapas de uma analise estatistica são:\n",
    "- Definir a população de interesse (factível/referenciada).\n",
    "- Estabelecer os obejetivos da pesquisa.\n",
    "    - Definir critérios obejtivos sobre quais dados coletar;\n",
    "    - Postular a analise estatistica a ser utilizada;\n",
    "- Definir o método para coletar os dados.\n",
    "- Coletar e organizar os dados.\n",
    "- Analisar os dados.\n",
    "    - Analise descritiva (exploratória);\n",
    "    - Analise inferencial;\n"
   ]
  },
  {
   "cell_type": "markdown",
   "id": "e8a0edf9",
   "metadata": {
    "hidden": true
   },
   "source": [
    " "
   ]
  },
  {
   "cell_type": "markdown",
   "id": "97a4cd83",
   "metadata": {
    "heading_collapsed": true,
    "hidden": true
   },
   "source": [
    "## ✴️ População e Amostra"
   ]
  },
  {
   "cell_type": "markdown",
   "id": "bfadfa54",
   "metadata": {
    "hidden": true
   },
   "source": [
    "Amostra e população são termos usados em estatística e são usados para se referir a diferentes conjuntos de dados.\n",
    "\n",
    "População é o conjunto completo de indivíduos ou objetos de interesse. É o conjunto total de todos os indivíduos ou objetos que possuem alguma característica específica. Por exemplo, a população de uma cidade é o conjunto total de todos os habitantes da cidade.\n",
    "\n",
    "Já amostra é um subconjunto de indivíduos ou objetos selecionados a partir da população. É usada para representar a população e para inferir informações sobre a população total. Por exemplo, se você quer inferir informações sobre a opinião dos habitantes de uma cidade, você pode coletar dados de uma amostra de habitantes da cidade, ao invés de coletar dados de todos os habitantes.\n",
    "\n",
    "A diferença entre amostra e população é que a amostra é um subconjunto dos dados da população, enquanto a população é o conjunto completo de dados. A amostra é usada para inferir informações sobre a população, mas pode não ser tão precisa quanto se você tivesse dados da população completa."
   ]
  },
  {
   "cell_type": "markdown",
   "id": "09dfd2ef",
   "metadata": {
    "hidden": true
   },
   "source": [
    "Um exemplo mais complexo de amostra e população pode ser o estudo de eficácia de um novo medicamento para tratar uma doença específica. A população neste caso seria todas as pessoas no mundo com essa doença. É impossível coletar dados de todas essas pessoas, então os pesquisadores selecionam uma amostra da população para estudar. A amostra pode ser composta por pacientes que atendem a certos critérios de elegibilidade, como idade, sexo, gravidade da doença, região, clima, etc.\n",
    "\n",
    "Os pacientes selecionados para a amostra são então divididos aleatoriamente em dois grupos: um grupo recebe o medicamento experimental e o outro grupo recebe um placebo ou um tratamento padrão. Os pesquisadores coletam dados de ambos os grupos, como a taxa de melhora dos sintomas, efeitos colaterais, etc.\n",
    "\n",
    "Os dados coletados na amostra são então usados para inferir informações sobre a eficácia do medicamento para a população total de pacientes com a doença. É importante notar que a amostra precisa ser selecionada de forma adequada para que ela seja representativa da população total e os resultados possam ser generalizados para a população."
   ]
  },
  {
   "cell_type": "markdown",
   "id": "bf9b9ebb",
   "metadata": {
    "hidden": true
   },
   "source": [
    " "
   ]
  },
  {
   "cell_type": "markdown",
   "id": "64130f52",
   "metadata": {
    "heading_collapsed": true,
    "hidden": true
   },
   "source": [
    "## ✴️ Variável de interesse"
   ]
  },
  {
   "cell_type": "markdown",
   "id": "b48638f5",
   "metadata": {
    "hidden": true
   },
   "source": [
    "Variável de interesse é um termo usado em estatística e se refere à variável ou medida que está sendo investigada ou estudada. É a variável que se deseja entender ou prever. Por exemplo, em um estudo de eficácia de um medicamento, a variável de interesse pode ser a taxa de melhora dos sintomas. Em um estudo de opinião sobre política, a variável de interesse pode ser a opinião dos entrevistados sobre um determinado assunto.\n",
    "\n",
    "As variáveis de interesse podem ser categóricas (por exemplo, sexo, cor, etc.) ou numéricas (por exemplo, idade, pressão arterial, etc.). Dependendo da natureza da variável de interesse, diferentes técnicas estatísticas podem ser usadas para analisar os dados e inferir informações sobre a população.\n",
    "\n",
    "Um exemplo mais complexo de variável de interesse pode ser a previsão de falhas em equipamentos industriais. Neste caso, a variável de interesse pode ser o tempo até a próxima falha no equipamento. Os pesquisadores podem coletar dados de várias variáveis que podem afetar a falha, como temperatura, pressão, umidade, horas de operação, etc. Eles podem usar técnicas de aprendizado de máquina, como regressão, para construir um modelo que possa prever o tempo até a próxima falha com base nessas variáveis.\n",
    "\n",
    "Outro exemplo complexo é a análise de dados de tráfego para inferir informações sobre o fluxo de tráfego. A variável de interesse pode ser o fluxo de tráfego em uma determinada rodovia em um determinado horário. Os pesquisadores podem coletar dados de várias variáveis, como hora do dia, condições climáticas, eventos esportivos, etc. Eles podem usar técnicas de aprendizado de máquina, como redes neurais, para construir um modelo que possa prever o fluxo de tráfego com base nessas variáveis.\n",
    "\n",
    "Esses exemplos mostram que a variável de interesse pode ser complexa e pode depender de várias outras variáveis. A análise dos dados e inferência de informações sobre a variável de interesse requer técnicas estatísticas e computacionais avançadas."
   ]
  },
  {
   "cell_type": "markdown",
   "id": "263a1cbd",
   "metadata": {
    "hidden": true
   },
   "source": [
    " "
   ]
  },
  {
   "cell_type": "markdown",
   "id": "79719cdf",
   "metadata": {
    "heading_collapsed": true,
    "hidden": true
   },
   "source": [
    "## ✴️ Amostragem"
   ]
  },
  {
   "cell_type": "markdown",
   "id": "6420e77e",
   "metadata": {
    "hidden": true
   },
   "source": [
    "Amostragem é simplismente o ato de coletar uma amostra de uma população. Para que possamos fazer esse processo sem coletar uma amostra que não represente a população ou seja viciada de alguma forma, nós utilizamos algumas técnicas, veja abaixo."
   ]
  },
  {
   "cell_type": "markdown",
   "id": "1c19eb4a",
   "metadata": {
    "hidden": true
   },
   "source": [
    "\n",
    "### Amostragem aleatória"
   ]
  },
  {
   "cell_type": "markdown",
   "id": "2b136edc",
   "metadata": {
    "hidden": true
   },
   "source": [
    ">**Amostra aleatória simples**: corresponde a uma amostra de elementos retirados ao caso da população, ou seja, cada unidade é escolhida aleatoriamente e cada unidade da população tem a mesma probabilidade de ser incluido na amostra. No entanto, não é por que uma amostra foi coletada aleatoriamente que ela representa a população de forma proporcional. Por isso vamos ver metodos mais eficazes a seguir."
   ]
  },
  {
   "cell_type": "markdown",
   "id": "eb760dbd",
   "metadata": {
    "hidden": true
   },
   "source": [
    ">**Amostra aleatória por extratificação**: conciste em dividir uma população em extratos, e cada grupo será formado por unidades com caracteristicas em comum. Abaixo segue duas formas de fazer esse tipo de amostragem.<br><br>\n",
    ">- **Amostragem estratificada uniforme**: Sorteia-se igual o numero de elementos em cada extrato.\n",
    ">- **Amostragem estratificada proporcional**: O numero de elementos sorteados em cada extrato é proporcional a quantidade de elementos existente no grupo em relação a população."
   ]
  },
  {
   "cell_type": "markdown",
   "id": "e1b09adf",
   "metadata": {
    "hidden": true
   },
   "source": [
    ">**Amostra aleatória por agrupamentos**: Quando a população é divida em pequenos grupos com base em certas caracteristicas, sendo todos os grupos praticamente iguais e cada um representando muito bem a população. Após isso os grupos são sorteados, utilizando a amostragem aleatória simples,  para compor a amostra final."
   ]
  },
  {
   "cell_type": "markdown",
   "id": "4f392c08",
   "metadata": {
    "hidden": true
   },
   "source": [
    ">**Amostra aleatória sistemática**: Quando os elementos da população se apresentam ordenados e a retirada dos elementos da amostra é feita periodicamente, temos uma amostragem sistemática. Assim, por exemplo, em uma linha de produção, podemos, a\n",
    "cada dez itens produzidos, retirar um para pertencer a uma amostra da produção diária."
   ]
  },
  {
   "cell_type": "markdown",
   "id": "a9a207e9",
   "metadata": {
    "hidden": true
   },
   "source": [
    "\n",
    "### Amostragem não aleatória"
   ]
  },
  {
   "cell_type": "markdown",
   "id": "9eacdfa0",
   "metadata": {
    "hidden": true
   },
   "source": [
    ">**Amostra por conveniência**: Conciste em selecionar uma amostra da população que seja acessivel, ou seja, os individuos empregados nessas pesquisas estão protamente disponiveis, não existe aleatoriedade o que pode levar a pesquisa a ser inviesada.\n",
    "\n",
    ">**Amostra voluntaria**: É o caso aonde pessoas que tem interesse na pesquisa se voluntariam para participar, por não ter aleatoriedade a pesquisa pode se tornar inviesada.  "
   ]
  },
  {
   "cell_type": "markdown",
   "id": "df7d8625",
   "metadata": {
    "heading_collapsed": true,
    "hidden": true
   },
   "source": [
    "## ✴️ Tipos de variáveis"
   ]
  },
  {
   "cell_type": "markdown",
   "id": "a0f6f764",
   "metadata": {
    "hidden": true
   },
   "source": [
    "Uma variável é uma caracteristica, propriedade ou atributo da população, cujo o valor pode variar entre as unidades da população.<br>\n",
    "\n",
    "Por exemplo, altura, salário, nome, idade, n° de filhos, hora, e etc, resumindo toda as caracteristícas de uma população que estão sendo coletadas para serem estudadas são chamadas de variáveis.<br>\n",
    "\n",
    "Você pode notar que existem variáveis que são definidas por palavras como por exemplo, o nome, e variáveis que são definidas por numeros como por exemplo, o n° de filhos. Para compreender melhor as variáveis foi feito uma classificação entre elas, criando assim as variáveis **quantitativas (Definidas por numeros)** e **qualitativas (definidas por algum atributo ou qualidade).**<br>"
   ]
  },
  {
   "cell_type": "markdown",
   "id": "e8379fc6",
   "metadata": {
    "hidden": true
   },
   "source": [
    "<br>\n",
    "<img src='https://blog.fastformat.co/wp-content/uploads/2018/05/variaveisquantitativas_qualitativas.png' width='60%'>\n",
    "<br><br>"
   ]
  },
  {
   "cell_type": "markdown",
   "id": "dc5400cb",
   "metadata": {
    "hidden": true
   },
   "source": [
    "\n",
    "#### As variáveis quantitativas são divididas em discretas e continuas:\n",
    "\n",
    "- **Discretas:** É definida por meio de numeros que são resultados de contagem, dessa maneira os valores apresentado sempre serão dados em numeros inteiros. Para deixar claro: numeros decimais não podem se enquadrar nessa classificação. Exemplos de variáveis quantitativas discretas: n° de filhos, n° de animais, n° de pessoas e etc.\n",
    "- **Continuas:** É definido por valores que são resultado de medições e por isso podem conter casas decimais. Exemplos: peso (medido pela balança), idade (medida por meio dos anos), tempo (medido por meio do relógio) e muito mais.\n",
    "<br>\n",
    "\n",
    "#### As variáveis qualitativas são divididas em ordinais e nominais:\n",
    "\n",
    "- **Ordinal:**  É possivel ordenar, como por exemplo, as classes sociais que são E, D, C, B e A.\n",
    "- **Nominal:** Não é possível haver ordenança. como por exemplo nome, sexo, cor e etc.\n",
    "<br><br>"
   ]
  },
  {
   "cell_type": "markdown",
   "id": "261130f5",
   "metadata": {
    "heading_collapsed": true
   },
   "source": [
    "# 💠 Representações gráficas dos dados"
   ]
  },
  {
   "cell_type": "markdown",
   "id": "5ad87fee",
   "metadata": {
    "hidden": true
   },
   "source": [
    "Representar os dados de forma gráfica é um ótimo passo para começar a organiza-los e fazer boas análises.<br>\n",
    "\n",
    "Outra habilidade importante, é olhar para um gráfico ou uma tabela e saber identificar os individuos que compõem o  objeto de estudo e as variáveis desses individuos com o intuito de entender melhor os dados.<br>\n",
    "\n",
    "Agora vamos estudar alguns tipos de gráficos ..."
   ]
  },
  {
   "cell_type": "markdown",
   "id": "b99aa645",
   "metadata": {
    "heading_collapsed": true,
    "hidden": true
   },
   "source": [
    "## ✴️ Pictograma"
   ]
  },
  {
   "cell_type": "markdown",
   "id": "f9815394",
   "metadata": {
    "hidden": true
   },
   "source": [
    "Um pictograma é uma das formas mais simples e populares de visualização de dados que existe. Além de fazer com que seus dados tenham uma boa aparência, os pictogramas podem tornar os dados mais memoráveis.\n",
    "\n",
    " Os pictogramas são gráficos que usam ícones repetidos e imagens para permitir a visualização de dados simples.\n",
    " \n",
    " Uma característica de muitos pictogramas excelentes é que eles costumam ser usados para tornar fatos ou pontos de dados cansativos mais atraentes, como pode ser visto nos infográfico estatístico abaixo.<br><br>\n",
    "\n",
    "<img src='https://images.educamaisbrasil.com.br/content/banco_de_imagens/mb/D/modelo-pictograma-analise-de-graficos.jpg' width='600' style=\"float:left\">"
   ]
  },
  {
   "cell_type": "markdown",
   "id": "8b92b17e",
   "metadata": {
    "heading_collapsed": true,
    "hidden": true
   },
   "source": [
    "## ✴️ Gráfico de barras"
   ]
  },
  {
   "cell_type": "markdown",
   "id": "aee0b89e",
   "metadata": {
    "hidden": true
   },
   "source": [
    "Um gráfico de barras é um gráfico que usa barras para representar visualmente dados categoricos.  Os gráficos de barra são úteis ao comparar diferentes categorias de dados, mostrando tendências. As barras podem ser alinhadas verticalmente ou horizontalmente."
   ]
  },
  {
   "cell_type": "markdown",
   "id": "f5752b12",
   "metadata": {
    "hidden": true
   },
   "source": [
    "<img src=\"https://2.bp.blogspot.com/-HfRg_gIr4QA/Te9DnnStNrI/AAAAAAAARMo/9EBKlGTsSME/s1600/IBGE+Pessoas+com+mais+de+69+Anos.jpg\" width=\"50%\">"
   ]
  },
  {
   "cell_type": "markdown",
   "id": "0ff00475",
   "metadata": {
    "heading_collapsed": true,
    "hidden": true
   },
   "source": [
    "## ✴️ Gráfico de linhas"
   ]
  },
  {
   "cell_type": "markdown",
   "id": "63073ef8",
   "metadata": {
    "hidden": true
   },
   "source": [
    "Um gráfico de linhas é uma representação visual de dados quantitativos que mostra a relação entre duas variáveis.<br>\n",
    "\n",
    "Essas variáveis estão nos eixos X e Y do gráfico — ou na linha horizontal na parte inferior e na linha vertical na esquerda, respectivamente.<br>\n",
    "\n",
    "Os gráficos de linhas costumam ser usados para mostrar dados contínuos, ou seja, esses dados estão sempre variando e podem ter qualquer valor imaginável, incluindo frações ou pontos decimais, como tempo, temperatura, medições, custo, etc. Veja um exemplo.<br><br>\n",
    "\n",
    "<img src='https://external-content.duckduckgo.com/iu/?u=https%3A%2F%2Fwww.alura.com.br%2Fartigos%2Fassets%2Fuploads%2F2018%2F05%2Fimage6-1.png&f=1&nofb=1' width='50%' style=\"float:left\">"
   ]
  }
 ],
 "metadata": {
  "kernelspec": {
   "display_name": "Python 3 (ipykernel)",
   "language": "python",
   "name": "python3"
  },
  "language_info": {
   "codemirror_mode": {
    "name": "ipython",
    "version": 3
   },
   "file_extension": ".py",
   "mimetype": "text/x-python",
   "name": "python",
   "nbconvert_exporter": "python",
   "pygments_lexer": "ipython3",
   "version": "3.11.1"
  },
  "varInspector": {
   "cols": {
    "lenName": 16,
    "lenType": 16,
    "lenVar": 40
   },
   "kernels_config": {
    "python": {
     "delete_cmd_postfix": "",
     "delete_cmd_prefix": "del ",
     "library": "var_list.py",
     "varRefreshCmd": "print(var_dic_list())"
    },
    "r": {
     "delete_cmd_postfix": ") ",
     "delete_cmd_prefix": "rm(",
     "library": "var_list.r",
     "varRefreshCmd": "cat(var_dic_list()) "
    }
   },
   "types_to_exclude": [
    "module",
    "function",
    "builtin_function_or_method",
    "instance",
    "_Feature"
   ],
   "window_display": false
  }
 },
 "nbformat": 4,
 "nbformat_minor": 5
}
