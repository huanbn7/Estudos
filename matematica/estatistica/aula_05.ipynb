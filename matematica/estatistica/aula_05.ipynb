{
 "cells": [
  {
   "cell_type": "markdown",
   "id": "8cf128c4",
   "metadata": {
    "heading_collapsed": true
   },
   "source": [
    "# 💠 Como exibir uma var quantitativa"
   ]
  },
  {
   "cell_type": "markdown",
   "id": "c1c44a0d",
   "metadata": {
    "hidden": true
   },
   "source": [
    "Aqui estão um conjunto de maneiras que podemos utilizar para visualisar uma variável quantitativa:"
   ]
  },
  {
   "cell_type": "markdown",
   "id": "3abe90ce",
   "metadata": {
    "hidden": true
   },
   "source": [
    "- **Criar uma tebela de frequência**. Pois são uteis para resumir e facilitar o entendimento da disbribuição dos dados.\n",
    "- **Criar um histograma** para mostrar a distribuição dos dados, identificar tendências, detectar outliers e comparar diferentes conjuntos de dados.\n",
    "- **Calcular a média e a mediana**. A media é útil para entender a tendência geral dos dados, porém pode ser afetada por outliers. A mediana também é útil para entender a tendência central dos dados, especialmente quando temos outliers, pois esses valores não afetam a mediana.\n",
    "- **Calcular a Faixa Interquartil**. A faixa interquartil é útil para entender a variação dos dados e identificar outliers nos dados.\n",
    "- **Criar um boxplot**. O boxplot é útil para identificar a variação dos dados e comparar a distribuição de vários conjuntos de dados. Pois eles mostram a Faixa Interquartil e os outliers."
   ]
  },
  {
   "cell_type": "markdown",
   "id": "3a101e78",
   "metadata": {
    "hidden": true
   },
   "source": [
    "Entender a distribuição dos dados é importante porque ela pode fornecer informações valiosas sobre a tendência geral dos dados e sobre como os dados estão espalhados. Algumas das razões pelas quais é útil entender a distribuição dos dados incluem:\n",
    "\n",
    "- **Identificar outliers**: Entender a distribuição dos dados pode ajudar a identificar valores extremos que podem distorcer a tendência geral dos dados e afetar as análises e conclusões.\n",
    "\n",
    "- **Entender a tendência geral dos dados**: A distribuição dos dados pode indicar se a maioria dos valores está próxima à média ou se eles estão espalhados de forma desigual. Isso pode fornecer informações valiosas sobre a tendência geral dos dados.\n",
    "\n",
    "- **Tomar decisões**: Entender a distribuição dos dados pode ajudar a tomar decisões, como definir limites de qualidade, estabelecer metas e estabelecer estratégias de negócios.\n",
    "\n",
    "- **Fazer previsões**: Entender a distribuição dos dados pode ajudar a fazer previsões, como estimar a demanda futura ou avaliar o risco de investimentos.\n",
    "\n",
    "Em resumo, entender a distribuição dos dados é importante porque fornece informações valiosas sobre a tendência geral dos dados e como os dados estão espalhados, o que pode ser usado para tomar decisões e fazer previsões."
   ]
  },
  {
   "cell_type": "markdown",
   "id": "29bc3091",
   "metadata": {
    "hidden": true
   },
   "source": [
    " "
   ]
  },
  {
   "cell_type": "markdown",
   "id": "42f02875",
   "metadata": {
    "heading_collapsed": true
   },
   "source": [
    "# 💠 Média e Devio padrão VS Mediana e FIQ"
   ]
  },
  {
   "cell_type": "markdown",
   "id": "04abe249",
   "metadata": {
    "hidden": true
   },
   "source": [
    "A escolha entre usar a média e o desvio padrão ou a mediana e a faixa interquartil (FIQ) depende do conjunto de dados e do objetivo da análise.\n",
    "\n",
    "A média e o desvio padrão são medidas comuns de tendência central e dispersão e são úteis quando os dados seguem uma distribuição normal ou quase normal. A distribuição normal é uma distribuição de probabilidade simétrica em torno da média, onde a maioria dos valores estão próximos à média e os valores extremos são raros. Se os dados seguirem essa distribuição, a média será uma boa medida de tendência central e o desvio padrão será uma boa medida de dispersão.\n",
    "\n",
    "No entanto, se os dados tiverem muitos valores extremos (outliers) ou seguirem uma distribuição assimétrica, a média pode não ser uma boa medida de tendência central e o desvio padrão pode não ser uma boa medida de dispersão. Nesses casos, a mediana e a faixa interquartil (FIQ) são medidas mais robustas e são úteis para entender a distribuição dos dados.\n",
    "\n",
    "A mediana é menos afetada por valores extremos do que a média e é uma boa medida de tendência central quando os dados têm outliers. A faixa interquartil (FIQ) também é menos afetada por valores extremos do que o desvio padrão e é uma boa medida de dispersão quando os dados têm outliers.\n",
    "\n",
    "Além disso, a mediana e a FIQ são úteis quando se deseja comparar a distribuição de vários conjuntos de dados, especialmente quando eles têm diferentes escalas ou distribuições.\n",
    "\n",
    "Em resumo, a média e o desvio padrão são úteis quando os dados seguem uma distribuição normal ou quase normal, enquanto a mediana e a faixa interquartil (FIQ) são mais úteis quando os dados têm outliers ou não seguem uma distribuição normal. Além disso, a mediana e a FIQ são úteis para comparar a distribuição de vários conjuntos de dados, especialmente quando eles têm diferentes escalas ou distribuições. Em geral, é recomendável usar ambas as medidas, a fim de obter uma compreensão mais completa da distribuição dos dados."
   ]
  },
  {
   "cell_type": "markdown",
   "id": "bc6a3f1f",
   "metadata": {
    "heading_collapsed": true
   },
   "source": [
    "# 💠 Comparação de distribuições"
   ]
  },
  {
   "cell_type": "markdown",
   "id": "c99af010",
   "metadata": {
    "hidden": true
   },
   "source": [
    "Para comparar a distribuição de dados entre diferentes grupos, os dados de cada grupo devem estar na mesma unidade de medidas. Isso é importante porque dados medidos em unidades diferentes não podem ser comparados diretamente. Se essa comparação não for a atendida, a comparação fica comprometida e dificil de se avaliar. Além disso, é importante que os dados estejam completos e limpos, para evitar distorções na comparação.\n",
    "\n",
    "A comparação de distribuições de dados é uma utilizada para comparar como os dados estão distribuidos entre dois ou mais grupos. Algumas das razões pelas quais é útil comparar distribuições de dados incluem: \n",
    "\n",
    "- **Identificar diferênças e semelhanças**: A comparação de distribuição de dados pode ajudar a identificar diferênças e semelhanças entre os grupos, o que pode fornecer informações valiosas sobre as caracteristicas do grupos.\n",
    "- **Identificar tendências**: A comparação de distribuição de dados pode ajudar a identificar tendências nos dados, como se os valores estão aumentando ou diminuindo ao londo do tempo ou se há diferênças significativas entre os grupos.\n",
    "- **Tomar decisões**: A comparação de distribuição de dados pode ajudar a tomar decisões, como identificar quais grupos precisam de mais atenção ou recursos, ou quais grupos estão tendo melhores ou piores resultados.\n",
    "- **Realizar testes estatísticos**: A comparação de distribuição de dados é frequentemente usada como base para realizar testes estatísticos, como o teste T ou o teste ANOVA, para verificar se diferênça significativa entre os grupos.\n",
    "- **Fazer previsões**: A comparação de distribuição de dados pode ser usada para fazer previsões, como prever o desenpenho de um grupo com base no desepenho de outros grupos semelhantes.\n",
    "\n",
    "Em resumo a comparação de distribuição de dados é uma técnica útil para comparar como os dados estão distribuidos entre dois ou mais grupos. Isso pode fornecer informações valiosas sobre as diferênças e semelhanças entre os grupos, identificar tendências, ajudar a tomar decicões e fazer previsões.\n"
   ]
  }
 ],
 "metadata": {
  "kernelspec": {
   "display_name": "Python 3 (ipykernel)",
   "language": "python",
   "name": "python3"
  },
  "language_info": {
   "codemirror_mode": {
    "name": "ipython",
    "version": 3
   },
   "file_extension": ".py",
   "mimetype": "text/x-python",
   "name": "python",
   "nbconvert_exporter": "python",
   "pygments_lexer": "ipython3",
   "version": "3.11.1"
  },
  "varInspector": {
   "cols": {
    "lenName": 16,
    "lenType": 16,
    "lenVar": 40
   },
   "kernels_config": {
    "python": {
     "delete_cmd_postfix": "",
     "delete_cmd_prefix": "del ",
     "library": "var_list.py",
     "varRefreshCmd": "print(var_dic_list())"
    },
    "r": {
     "delete_cmd_postfix": ") ",
     "delete_cmd_prefix": "rm(",
     "library": "var_list.r",
     "varRefreshCmd": "cat(var_dic_list()) "
    }
   },
   "types_to_exclude": [
    "module",
    "function",
    "builtin_function_or_method",
    "instance",
    "_Feature"
   ],
   "window_display": false
  }
 },
 "nbformat": 4,
 "nbformat_minor": 5
}
