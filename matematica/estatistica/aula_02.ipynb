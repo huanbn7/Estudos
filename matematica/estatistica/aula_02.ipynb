{
 "cells": [
  {
   "cell_type": "code",
   "execution_count": 1,
   "id": "5b2ac934",
   "metadata": {
    "ExecuteTime": {
     "end_time": "2023-02-05T23:45:49.547514Z",
     "start_time": "2023-02-05T23:45:46.161933Z"
    }
   },
   "outputs": [],
   "source": [
    "# Importando a biblioteca pandas\n",
    "import pandas as pd \n",
    "\n",
    "# Importando o dataset\n",
    "df = pd.read_csv('base-de-dados/dados.csv') "
   ]
  },
  {
   "cell_type": "markdown",
   "id": "de4bb58e",
   "metadata": {
    "heading_collapsed": true
   },
   "source": [
    "# 💠 Distribuição de frequências"
   ]
  },
  {
   "cell_type": "markdown",
   "id": "a4483beb",
   "metadata": {
    "hidden": true
   },
   "source": [
    "Em uma pesquisa, por mais simples que ela seja, quando coletamos os dados, é fundamental que eles sejam organizados e analisados. A maneira mais comum de analizá-los é entendo como esses dados estão distribuidos."
   ]
  },
  {
   "cell_type": "markdown",
   "id": "5d439ba5",
   "metadata": {
    "heading_collapsed": true,
    "hidden": true
   },
   "source": [
    "## ✴️ Frequência absoluta"
   ]
  },
  {
   "cell_type": "markdown",
   "id": "0d32022f",
   "metadata": {
    "hidden": true
   },
   "source": [
    "A frequência absoluta nada mais é que a quantidade de vezes que um mesmo elemento aparece num conjunto de dados. E a frequência absoluta acumulada nada mais é que a soma de frequências absolutas.<br>"
   ]
  },
  {
   "cell_type": "markdown",
   "id": "fa51ca45",
   "metadata": {
    "hidden": true
   },
   "source": [
    "Vamos pegar o nosso dataset e análisar as frequências absoluta da coluna **Anos de Estudo**."
   ]
  },
  {
   "cell_type": "code",
   "execution_count": 39,
   "id": "71f64c2c",
   "metadata": {
    "ExecuteTime": {
     "end_time": "2022-12-12T01:01:45.432705Z",
     "start_time": "2022-12-12T01:01:45.420438Z"
    },
    "hidden": true,
    "scrolled": true
   },
   "outputs": [
    {
     "data": {
      "text/plain": [
       "1      5849\n",
       "2      1388\n",
       "3      2101\n",
       "4      2891\n",
       "5      6729\n",
       "6      4499\n",
       "7      2445\n",
       "8      2689\n",
       "9      7980\n",
       "10     1840\n",
       "11     2118\n",
       "12    20848\n",
       "13     1836\n",
       "14     1253\n",
       "15     1388\n",
       "16    10795\n",
       "17      191\n",
       "Name: Anos de Estudo, dtype: int64"
      ]
     },
     "execution_count": 39,
     "metadata": {},
     "output_type": "execute_result"
    }
   ],
   "source": [
    "freq_abs = df['Anos de Estudo'].value_counts().sort_index()\n",
    "freq_abs\n",
    "\n",
    "# Podemos notar que 5849 pessoas possuem apenas 1 ano de estudo"
   ]
  },
  {
   "cell_type": "markdown",
   "id": "b910a2e1",
   "metadata": {
    "hidden": true
   },
   "source": [
    " "
   ]
  },
  {
   "cell_type": "markdown",
   "id": "a2851ce1",
   "metadata": {
    "ExecuteTime": {
     "end_time": "2022-10-16T18:27:51.100938Z",
     "start_time": "2022-10-16T18:27:50.678526Z"
    },
    "hidden": true
   },
   "source": [
    "Para ficar mais intuitivo o intendimento das frequências dos dados vamos criar uma dataframe e mostrar essas informações."
   ]
  },
  {
   "cell_type": "code",
   "execution_count": 51,
   "id": "aeca5d8c",
   "metadata": {
    "ExecuteTime": {
     "end_time": "2022-12-12T01:07:55.827494Z",
     "start_time": "2022-12-12T01:07:55.820014Z"
    },
    "hidden": true
   },
   "outputs": [
    {
     "data": {
      "text/html": [
       "<div>\n",
       "<style scoped>\n",
       "    .dataframe tbody tr th:only-of-type {\n",
       "        vertical-align: middle;\n",
       "    }\n",
       "\n",
       "    .dataframe tbody tr th {\n",
       "        vertical-align: top;\n",
       "    }\n",
       "\n",
       "    .dataframe thead th {\n",
       "        text-align: right;\n",
       "    }\n",
       "</style>\n",
       "<table border=\"1\" class=\"dataframe\">\n",
       "  <thead>\n",
       "    <tr style=\"text-align: right;\">\n",
       "      <th>anos de estudo</th>\n",
       "      <th>freq_absoluta</th>\n",
       "    </tr>\n",
       "  </thead>\n",
       "  <tbody>\n",
       "    <tr>\n",
       "      <th>1</th>\n",
       "      <td>5849</td>\n",
       "    </tr>\n",
       "    <tr>\n",
       "      <th>2</th>\n",
       "      <td>1388</td>\n",
       "    </tr>\n",
       "    <tr>\n",
       "      <th>3</th>\n",
       "      <td>2101</td>\n",
       "    </tr>\n",
       "    <tr>\n",
       "      <th>4</th>\n",
       "      <td>2891</td>\n",
       "    </tr>\n",
       "    <tr>\n",
       "      <th>5</th>\n",
       "      <td>6729</td>\n",
       "    </tr>\n",
       "    <tr>\n",
       "      <th>6</th>\n",
       "      <td>4499</td>\n",
       "    </tr>\n",
       "    <tr>\n",
       "      <th>7</th>\n",
       "      <td>2445</td>\n",
       "    </tr>\n",
       "    <tr>\n",
       "      <th>8</th>\n",
       "      <td>2689</td>\n",
       "    </tr>\n",
       "    <tr>\n",
       "      <th>9</th>\n",
       "      <td>7980</td>\n",
       "    </tr>\n",
       "    <tr>\n",
       "      <th>10</th>\n",
       "      <td>1840</td>\n",
       "    </tr>\n",
       "    <tr>\n",
       "      <th>11</th>\n",
       "      <td>2118</td>\n",
       "    </tr>\n",
       "    <tr>\n",
       "      <th>12</th>\n",
       "      <td>20848</td>\n",
       "    </tr>\n",
       "    <tr>\n",
       "      <th>13</th>\n",
       "      <td>1836</td>\n",
       "    </tr>\n",
       "    <tr>\n",
       "      <th>14</th>\n",
       "      <td>1253</td>\n",
       "    </tr>\n",
       "    <tr>\n",
       "      <th>15</th>\n",
       "      <td>1388</td>\n",
       "    </tr>\n",
       "    <tr>\n",
       "      <th>16</th>\n",
       "      <td>10795</td>\n",
       "    </tr>\n",
       "    <tr>\n",
       "      <th>17</th>\n",
       "      <td>191</td>\n",
       "    </tr>\n",
       "  </tbody>\n",
       "</table>\n",
       "</div>"
      ],
      "text/plain": [
       "anos de estudo  freq_absoluta\n",
       "1                        5849\n",
       "2                        1388\n",
       "3                        2101\n",
       "4                        2891\n",
       "5                        6729\n",
       "6                        4499\n",
       "7                        2445\n",
       "8                        2689\n",
       "9                        7980\n",
       "10                       1840\n",
       "11                       2118\n",
       "12                      20848\n",
       "13                       1836\n",
       "14                       1253\n",
       "15                       1388\n",
       "16                      10795\n",
       "17                        191"
      ]
     },
     "execution_count": 51,
     "metadata": {},
     "output_type": "execute_result"
    }
   ],
   "source": [
    "freq = pd.DataFrame({\"freq_absoluta\":freq_abs})\n",
    "freq.rename_axis(\"anos de estudo\", axis=1)"
   ]
  },
  {
   "cell_type": "markdown",
   "id": "a43cd2ef",
   "metadata": {
    "hidden": true
   },
   "source": [
    " "
   ]
  },
  {
   "cell_type": "markdown",
   "id": "df638b63",
   "metadata": {
    "heading_collapsed": true,
    "hidden": true
   },
   "source": [
    "## ✴️ Frequência Relativa"
   ]
  },
  {
   "cell_type": "markdown",
   "id": "96da514d",
   "metadata": {
    "hidden": true
   },
   "source": [
    "A frequência relativa nada mais é que a frequência absoluta de um determinado dado divido pela quantidade de dados coletado. É muito comum representar esses dados em forma de porcentagem e para isso basta multiplicar o resultado da operação por 100. A frequência relativa acumulada é a soma de frequências relativas.<br>"
   ]
  },
  {
   "cell_type": "markdown",
   "id": "05560417",
   "metadata": {
    "hidden": true
   },
   "source": [
    "Vamos pegar o dataframe sobre a frequência absoluta que criamos no tópico passado e acrescentar a ele uma nova coluna que informa a frequência relativa."
   ]
  },
  {
   "cell_type": "code",
   "execution_count": 57,
   "id": "273936b8",
   "metadata": {
    "ExecuteTime": {
     "end_time": "2022-12-12T01:09:23.273049Z",
     "start_time": "2022-12-12T01:09:23.255183Z"
    },
    "hidden": true
   },
   "outputs": [
    {
     "data": {
      "text/html": [
       "<div>\n",
       "<style scoped>\n",
       "    .dataframe tbody tr th:only-of-type {\n",
       "        vertical-align: middle;\n",
       "    }\n",
       "\n",
       "    .dataframe tbody tr th {\n",
       "        vertical-align: top;\n",
       "    }\n",
       "\n",
       "    .dataframe thead th {\n",
       "        text-align: right;\n",
       "    }\n",
       "</style>\n",
       "<table border=\"1\" class=\"dataframe\">\n",
       "  <thead>\n",
       "    <tr style=\"text-align: right;\">\n",
       "      <th></th>\n",
       "      <th>freq_absoluta</th>\n",
       "      <th>freq_relativa</th>\n",
       "    </tr>\n",
       "  </thead>\n",
       "  <tbody>\n",
       "    <tr>\n",
       "      <th>1</th>\n",
       "      <td>5849</td>\n",
       "      <td>7.61</td>\n",
       "    </tr>\n",
       "    <tr>\n",
       "      <th>2</th>\n",
       "      <td>1388</td>\n",
       "      <td>1.81</td>\n",
       "    </tr>\n",
       "    <tr>\n",
       "      <th>3</th>\n",
       "      <td>2101</td>\n",
       "      <td>2.73</td>\n",
       "    </tr>\n",
       "    <tr>\n",
       "      <th>4</th>\n",
       "      <td>2891</td>\n",
       "      <td>3.76</td>\n",
       "    </tr>\n",
       "    <tr>\n",
       "      <th>5</th>\n",
       "      <td>6729</td>\n",
       "      <td>8.76</td>\n",
       "    </tr>\n",
       "    <tr>\n",
       "      <th>6</th>\n",
       "      <td>4499</td>\n",
       "      <td>5.86</td>\n",
       "    </tr>\n",
       "    <tr>\n",
       "      <th>7</th>\n",
       "      <td>2445</td>\n",
       "      <td>3.18</td>\n",
       "    </tr>\n",
       "    <tr>\n",
       "      <th>8</th>\n",
       "      <td>2689</td>\n",
       "      <td>3.50</td>\n",
       "    </tr>\n",
       "    <tr>\n",
       "      <th>9</th>\n",
       "      <td>7980</td>\n",
       "      <td>10.39</td>\n",
       "    </tr>\n",
       "    <tr>\n",
       "      <th>10</th>\n",
       "      <td>1840</td>\n",
       "      <td>2.39</td>\n",
       "    </tr>\n",
       "    <tr>\n",
       "      <th>11</th>\n",
       "      <td>2118</td>\n",
       "      <td>2.76</td>\n",
       "    </tr>\n",
       "    <tr>\n",
       "      <th>12</th>\n",
       "      <td>20848</td>\n",
       "      <td>27.13</td>\n",
       "    </tr>\n",
       "    <tr>\n",
       "      <th>13</th>\n",
       "      <td>1836</td>\n",
       "      <td>2.39</td>\n",
       "    </tr>\n",
       "    <tr>\n",
       "      <th>14</th>\n",
       "      <td>1253</td>\n",
       "      <td>1.63</td>\n",
       "    </tr>\n",
       "    <tr>\n",
       "      <th>15</th>\n",
       "      <td>1388</td>\n",
       "      <td>1.81</td>\n",
       "    </tr>\n",
       "    <tr>\n",
       "      <th>16</th>\n",
       "      <td>10795</td>\n",
       "      <td>14.05</td>\n",
       "    </tr>\n",
       "    <tr>\n",
       "      <th>17</th>\n",
       "      <td>191</td>\n",
       "      <td>0.25</td>\n",
       "    </tr>\n",
       "  </tbody>\n",
       "</table>\n",
       "</div>"
      ],
      "text/plain": [
       "    freq_absoluta  freq_relativa\n",
       "1            5849           7.61\n",
       "2            1388           1.81\n",
       "3            2101           2.73\n",
       "4            2891           3.76\n",
       "5            6729           8.76\n",
       "6            4499           5.86\n",
       "7            2445           3.18\n",
       "8            2689           3.50\n",
       "9            7980          10.39\n",
       "10           1840           2.39\n",
       "11           2118           2.76\n",
       "12          20848          27.13\n",
       "13           1836           2.39\n",
       "14           1253           1.63\n",
       "15           1388           1.81\n",
       "16          10795          14.05\n",
       "17            191           0.25"
      ]
     },
     "execution_count": 57,
     "metadata": {},
     "output_type": "execute_result"
    }
   ],
   "source": [
    "freq['freq_relativa'] = (df['Anos de Estudo'].value_counts(normalize=True)*100).round(2)\n",
    "freq"
   ]
  },
  {
   "cell_type": "markdown",
   "id": "0d782231",
   "metadata": {
    "heading_collapsed": true,
    "hidden": true
   },
   "source": [
    "## ✴️ Histograma"
   ]
  },
  {
   "cell_type": "markdown",
   "id": "8c7d33c8",
   "metadata": {
    "hidden": true
   },
   "source": [
    "Um histograma conciste em um gráfico com barras cujo o objetivo é ilustrar como um determinado conjunto de dados está distribuido, onde o eixo horizontal é dividido em pequenos intervalos, demonstrando valores assumidos pela variável de interesse. Já o eixo vertical é proporcional à frequência de observações da amostra onde os valores pertencem a tal intervalo.<br>\n",
    "\n",
    "Um histograma torna fácil ver onde a maioria dos valores se classificam em uma escala de medição e quanta variação existe entre eles. Veja um exemplo:<br><br>"
   ]
  },
  {
   "cell_type": "markdown",
   "id": "8155d1ca",
   "metadata": {
    "hidden": true
   },
   "source": [
    "<img src='https://leansixsigmabrasil.com.br/site/wp-content/uploads/2020/01/Exemplo-de-histograma-de-temperatura.jpg' width = '700' style=float:left>"
   ]
  },
  {
   "cell_type": "markdown",
   "id": "1c1e4cba",
   "metadata": {
    "heading_collapsed": true
   },
   "source": [
    "# 💠 Medidas de tendência central"
   ]
  },
  {
   "cell_type": "markdown",
   "id": "d0055633",
   "metadata": {
    "hidden": true
   },
   "source": [
    "As medidas de tendencia central servem para descrever um certo conjunto de dados, para encontrar uma tendência central como o titulo ja diz, por isso fazem parte da estatística descritiva."
   ]
  },
  {
   "cell_type": "markdown",
   "id": "197c9ccb",
   "metadata": {
    "heading_collapsed": true,
    "hidden": true
   },
   "source": [
    "## ✴️ Média"
   ]
  },
  {
   "cell_type": "markdown",
   "id": "f76c0ce5",
   "metadata": {
    "hidden": true
   },
   "source": [
    "A média é calculada somando-se todos os valores de um conjunto de dados e dividindo-se pelo número de elementos deste conjunto. Como a média é uma medida sensível aos valores da amostra, é mais adequada para situações em que os dados são distribuídos mais ou menos de forma uniforme, ou seja, valores sem grandes discrepâncias."
   ]
  },
  {
   "cell_type": "markdown",
   "id": "07419bb3",
   "metadata": {
    "hidden": true
   },
   "source": [
    "Vamos calcular a média da coluna **Renda** do nosso dataset."
   ]
  },
  {
   "cell_type": "code",
   "execution_count": 62,
   "id": "f5eae2fd",
   "metadata": {
    "ExecuteTime": {
     "end_time": "2022-12-12T01:14:25.392783Z",
     "start_time": "2022-12-12T01:14:25.382858Z"
    },
    "hidden": true
   },
   "outputs": [
    {
     "data": {
      "text/plain": [
       "2000.3831988547631"
      ]
     },
     "execution_count": 62,
     "metadata": {},
     "output_type": "execute_result"
    }
   ],
   "source": [
    "media = df[\"Renda\"].mean()\n",
    "media"
   ]
  },
  {
   "cell_type": "markdown",
   "id": "c1f08eb6",
   "metadata": {
    "heading_collapsed": true,
    "hidden": true
   },
   "source": [
    "## ✴️ Moda "
   ]
  },
  {
   "cell_type": "markdown",
   "id": "9f8a93e3",
   "metadata": {
    "hidden": true
   },
   "source": [
    "\n",
    "A Moda representa o valor mais frequente de um conjunto de dados, sendo assim, para defini-la basta observar a frequência com que os valores aparecem. É possivel que um conjunto de dados tenha mais de um valor que são repetidos e que possuam a mesma frêquencia."
   ]
  },
  {
   "cell_type": "markdown",
   "id": "9296dad7",
   "metadata": {
    "hidden": true
   },
   "source": [
    "Para calcular a moda vamos utilizar a coluna **Idade**."
   ]
  },
  {
   "cell_type": "code",
   "execution_count": 65,
   "id": "bf790d27",
   "metadata": {
    "ExecuteTime": {
     "end_time": "2022-12-12T01:16:07.392141Z",
     "start_time": "2022-12-12T01:16:07.382576Z"
    },
    "hidden": true
   },
   "outputs": [
    {
     "data": {
      "text/plain": [
       "0    40\n",
       "Name: Idade, dtype: int64"
      ]
     },
     "execution_count": 65,
     "metadata": {},
     "output_type": "execute_result"
    }
   ],
   "source": [
    "moda = df['Idade'].mode()\n",
    "moda"
   ]
  },
  {
   "cell_type": "markdown",
   "id": "1f3edfda",
   "metadata": {
    "hidden": true
   },
   "source": [
    "A idade que mais se repete nos nosso dados é 40 anos."
   ]
  },
  {
   "cell_type": "markdown",
   "id": "ce2f705f",
   "metadata": {
    "heading_collapsed": true,
    "hidden": true
   },
   "source": [
    "## ✴️ Mediana"
   ]
  },
  {
   "cell_type": "markdown",
   "id": "910029ed",
   "metadata": {
    "hidden": true
   },
   "source": [
    "A Mediana representa o valor central de um conjunto de dados, ou seja, aproximadamente 50% por cento dos dados estão abaixo dela e aproximadamente 50% estão acima dela. Para encontrar o valor da mediana é necessário colocar os valores em ordem crescente.\n",
    "\n",
    "Quando o número de elementos de um conjunto é par, a mediana é encontrada pela média dos dois valores centrais. Assim, esses valores são somados e divididos por dois. Já quando o número de elementos for ímpar a mediana será o valor central."
   ]
  },
  {
   "cell_type": "markdown",
   "id": "8bee061c",
   "metadata": {
    "hidden": true
   },
   "source": [
    "Vamos calcular a mediana da coluna do **Altura**."
   ]
  },
  {
   "cell_type": "code",
   "execution_count": 67,
   "id": "379c916d",
   "metadata": {
    "ExecuteTime": {
     "end_time": "2022-12-12T01:18:21.648565Z",
     "start_time": "2022-12-12T01:18:21.637015Z"
    },
    "hidden": true,
    "scrolled": true
   },
   "outputs": [
    {
     "data": {
      "text/plain": [
       "1.6993247325"
      ]
     },
     "execution_count": 67,
     "metadata": {},
     "output_type": "execute_result"
    }
   ],
   "source": [
    "mediana = df[\"Altura\"].median()\n",
    "mediana"
   ]
  }
 ],
 "metadata": {
  "kernelspec": {
   "display_name": "Python 3 (ipykernel)",
   "language": "python",
   "name": "python3"
  },
  "language_info": {
   "codemirror_mode": {
    "name": "ipython",
    "version": 3
   },
   "file_extension": ".py",
   "mimetype": "text/x-python",
   "name": "python",
   "nbconvert_exporter": "python",
   "pygments_lexer": "ipython3",
   "version": "3.11.1"
  },
  "varInspector": {
   "cols": {
    "lenName": 16,
    "lenType": 16,
    "lenVar": 40
   },
   "kernels_config": {
    "python": {
     "delete_cmd_postfix": "",
     "delete_cmd_prefix": "del ",
     "library": "var_list.py",
     "varRefreshCmd": "print(var_dic_list())"
    },
    "r": {
     "delete_cmd_postfix": ") ",
     "delete_cmd_prefix": "rm(",
     "library": "var_list.r",
     "varRefreshCmd": "cat(var_dic_list()) "
    }
   },
   "types_to_exclude": [
    "module",
    "function",
    "builtin_function_or_method",
    "instance",
    "_Feature"
   ],
   "window_display": false
  }
 },
 "nbformat": 4,
 "nbformat_minor": 5
}
