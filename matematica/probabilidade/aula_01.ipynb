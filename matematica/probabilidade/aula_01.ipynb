{
 "cells": [
  {
   "cell_type": "markdown",
   "id": "af6ac97e",
   "metadata": {
    "heading_collapsed": true
   },
   "source": [
    "# 📐 Análise combinatória"
   ]
  },
  {
   "cell_type": "markdown",
   "id": "2c25fd2a",
   "metadata": {
    "cell_style": "center",
    "hidden": true
   },
   "source": [
    "A análise combinatória ou combinatória é a parte da matemática que estuda métodos e técnicas que permitem resolver problemas relacionados a contagem. Muito utilizada nos estudos sobre probabilidade, ela faz análise das possibilidades e das combinações possiveis entre um conjunto de elementos."
   ]
  },
  {
   "cell_type": "markdown",
   "id": "0851a703",
   "metadata": {
    "heading_collapsed": true,
    "hidden": true
   },
   "source": [
    "## 🔎 Principio fundamental da contagem"
   ]
  },
  {
   "cell_type": "markdown",
   "id": "9edef081",
   "metadata": {
    "hidden": true
   },
   "source": [
    "O principio fundamental da contagem, também chamado de principio multiplicativo, é utilizado para encontrar o numero de possibilidades para um evento constituido de **n** etapas. Para isso as etapas devem ser sucetivas e independentes. Se a primeira etapa do evento possui **x** possibilidades e a segunda etapa possui **y** possibilidades então no total existem **x**.**y** possibilidades. Em resumo multiplica-se o numero de opções entre as escolhas que são apresentadas."
   ]
  },
  {
   "cell_type": "markdown",
   "id": "1b556d68",
   "metadata": {
    "hidden": true
   },
   "source": [
    "Quantas possibilidades existem de uma pessoa se vestir com 3 blusas, 2 calças e 4 sapatos?"
   ]
  },
  {
   "cell_type": "code",
   "execution_count": 1,
   "id": "d0a4dbf0",
   "metadata": {
    "ExecuteTime": {
     "end_time": "2023-01-11T20:41:45.098050Z",
     "start_time": "2023-01-11T20:41:45.091705Z"
    },
    "hidden": true
   },
   "outputs": [
    {
     "name": "stdout",
     "output_type": "stream",
     "text": [
      "24\n"
     ]
    }
   ],
   "source": [
    "b = 3\n",
    "c = 2\n",
    "s = 4\n",
    "\n",
    "print(b*c*s)"
   ]
  },
  {
   "cell_type": "markdown",
   "id": "8eb588b8",
   "metadata": {
    "hidden": true
   },
   "source": [
    " "
   ]
  },
  {
   "cell_type": "markdown",
   "id": "d81afbe2",
   "metadata": {
    "heading_collapsed": true,
    "hidden": true
   },
   "source": [
    "## 🔎 Permutação"
   ]
  },
  {
   "cell_type": "markdown",
   "id": "27bce7ce",
   "metadata": {
    "heading_collapsed": true,
    "hidden": true
   },
   "source": [
    "### ✏️ Permutação simples"
   ]
  },
  {
   "cell_type": "markdown",
   "id": "0fd8bd7e",
   "metadata": {
    "hidden": true
   },
   "source": [
    "Uma permutação simples conciste em calcular quantas possibilidades existem de ordenar os elementos de um conjunto finito. A quantidade de permutações simples (Pn) de um conjunto de **n** elementos se dá pelo fatorial de **n** (**n!**)."
   ]
  },
  {
   "cell_type": "markdown",
   "id": "9460d413",
   "metadata": {
    "hidden": true
   },
   "source": [
    "<img src='https://pm1.narvii.com/6850/10af5cd8526aab0d4bf6bc6a1077bcc0b42ab8dev2_hq.jpg' width=125><img>"
   ]
  },
  {
   "cell_type": "markdown",
   "id": "b15462dd",
   "metadata": {
    "hidden": true
   },
   "source": [
    "Quantas permutações simples é possivel fazer dado o conjunto [1, 3, 5, 4, 7, l, g, a] ?"
   ]
  },
  {
   "cell_type": "code",
   "execution_count": 1,
   "id": "73207a54",
   "metadata": {
    "ExecuteTime": {
     "end_time": "2023-01-24T20:06:35.925418Z",
     "start_time": "2023-01-24T20:06:35.919333Z"
    },
    "hidden": true
   },
   "outputs": [],
   "source": [
    "# Criando uma função que calcula o fatorial\n",
    "def fatorial(n):\n",
    "    if n == 0:\n",
    "        n +=1 \n",
    "    for x in range(n-1, 0, -1):\n",
    "        n = n * x\n",
    "    return n"
   ]
  },
  {
   "cell_type": "code",
   "execution_count": 2,
   "id": "25cc3a14",
   "metadata": {
    "ExecuteTime": {
     "end_time": "2023-01-11T20:41:45.121053Z",
     "start_time": "2023-01-11T20:41:45.115601Z"
    },
    "hidden": true
   },
   "outputs": [
    {
     "name": "stdout",
     "output_type": "stream",
     "text": [
      "Um conjunto com 8 elementos possui 40320 formas de ordena-lo\n"
     ]
    }
   ],
   "source": [
    "# Calculando as permutações\n",
    "set1 = [1, 3, 5, 4, 7, 'l', 'g', 'a']\n",
    "p = fatorial(len(set1))\n",
    "print(f'Um conjunto com {len(set1)} elementos possui {p} formas de ordena-lo')"
   ]
  },
  {
   "cell_type": "markdown",
   "id": "20fb17b0",
   "metadata": {
    "hidden": true
   },
   "source": [
    " "
   ]
  },
  {
   "cell_type": "markdown",
   "id": "3c862d9c-06f5-4d45-8729-4a974abd2e72",
   "metadata": {
    "hidden": true
   },
   "source": [
    " "
   ]
  },
  {
   "cell_type": "markdown",
   "id": "ad0d6524",
   "metadata": {
    "heading_collapsed": true,
    "hidden": true
   },
   "source": [
    "### ✏️ Permutação com repetições"
   ]
  },
  {
   "cell_type": "markdown",
   "id": "09103077",
   "metadata": {
    "hidden": true
   },
   "source": [
    "Uma permutação com elementos repetidos acontece quando em um conjunto finito de **n** elementos, alguns deles são repetidos. Para cacular o numero de permutações únicas de um conjunto que possui elementos repetidos, devemos dividir o fatorial do conjunto pelo produto entre os fatoriais dos elementos que se repetem."
   ]
  },
  {
   "cell_type": "markdown",
   "id": "f4523be5",
   "metadata": {
    "hidden": true
   },
   "source": [
    "<img src='https://iranmarkus.files.wordpress.com/2017/09/permutac3a7c3a3o-com-repetic3a7c3a3o-jpg.gif' width=250><img>"
   ]
  },
  {
   "cell_type": "markdown",
   "id": "68ba93b5",
   "metadata": {
    "hidden": true
   },
   "source": [
    "Quantas permutações únicas existem dado o conjunto {1 , 1, 2, 3, 4, 5, 5, 6} ?"
   ]
  },
  {
   "cell_type": "code",
   "execution_count": 4,
   "id": "4bef2a4b",
   "metadata": {
    "ExecuteTime": {
     "end_time": "2023-01-11T20:41:45.132066Z",
     "start_time": "2023-01-11T20:41:45.124616Z"
    },
    "hidden": true
   },
   "outputs": [
    {
     "name": "stdout",
     "output_type": "stream",
     "text": [
      "A quantidade de permutações únicas do conjunto são 10080.0\n"
     ]
    }
   ],
   "source": [
    "# Conjunto\n",
    "set2 = [1 , 1, 2, 3, 4, 5, 5, 6]\n",
    "\n",
    "# Indentificando os elementos repetidos\n",
    "rep = [x for x in set(set2) if set2.count(x)>1]\n",
    "\n",
    "\n",
    "# Calculando o fatorial de cada elemento repetido\n",
    "fat = [fatorial(set2.count(x)) for x in rep]\n",
    "\n",
    "\n",
    "# Multiplicando o resultado dos fatoriais\n",
    "p = 1\n",
    "for n in fat:\n",
    "    p *= n \n",
    "\n",
    "    \n",
    "# Calculando o numero de permutações únicas\n",
    "f = fatorial(len(set2))\n",
    "print(f'A quantidade de permutações únicas do conjunto são {f/p}')"
   ]
  },
  {
   "cell_type": "markdown",
   "id": "3d2f2a80",
   "metadata": {
    "ExecuteTime": {
     "end_time": "2022-12-28T14:59:34.695918Z",
     "start_time": "2022-12-28T14:59:34.691429Z"
    },
    "hidden": true
   },
   "source": [
    " "
   ]
  },
  {
   "cell_type": "markdown",
   "id": "ab558ab3",
   "metadata": {
    "heading_collapsed": true,
    "hidden": true
   },
   "source": [
    "### ✏️ Permutação circular"
   ]
  },
  {
   "cell_type": "markdown",
   "id": "9219c968",
   "metadata": {
    "hidden": true
   },
   "source": [
    "A permutação circular é uma permutação muito idêntica á permutação simples, a diferênça é que ao invés de os elementos estarem posicionado em um fila, eles estarão em um circulo. Por isso é possivel que mesmo um conjunto finito com elementos totalmente distintos, quando calculado suas permutações, tenham prmutações iguais. Para resolver esse problema devemos calcular a permutação circular de um conjunto de **n** elementos seguindo a formula **(n-1)!**."
   ]
  },
  {
   "cell_type": "markdown",
   "id": "6715e738",
   "metadata": {
    "hidden": true
   },
   "source": [
    "<img src='https://paperx-dex-assets.s3.sa-east-1.amazonaws.com/images/1602995572137-3JaL1IwJ9X.png'><img>"
   ]
  },
  {
   "cell_type": "markdown",
   "id": "2210dabd",
   "metadata": {
    "hidden": true
   },
   "source": [
    "Quantas permutações circulares é possivel fazer dado o conjunto [1, 2, 3, 4, 7]?"
   ]
  },
  {
   "cell_type": "code",
   "execution_count": 5,
   "id": "ebc51ac7",
   "metadata": {
    "ExecuteTime": {
     "end_time": "2023-01-11T20:41:45.139760Z",
     "start_time": "2023-01-11T20:41:45.135257Z"
    },
    "hidden": true
   },
   "outputs": [
    {
     "name": "stdout",
     "output_type": "stream",
     "text": [
      "A quantidade de permutações circulares únicas do conjunto são 24\n"
     ]
    }
   ],
   "source": [
    "set3 = [1, 2, 3, 4, 7]\n",
    "\n",
    "print(f'A quantidade de permutações circulares únicas do conjunto são {fatorial(len(set3)-1)}')"
   ]
  },
  {
   "cell_type": "markdown",
   "id": "6bb52390",
   "metadata": {
    "hidden": true
   },
   "source": [
    " "
   ]
  },
  {
   "cell_type": "markdown",
   "id": "bca2ca6b",
   "metadata": {
    "heading_collapsed": true,
    "hidden": true
   },
   "source": [
    "## 🔎 Arranjos"
   ]
  },
  {
   "cell_type": "markdown",
   "id": "6795360c",
   "metadata": {
    "heading_collapsed": true,
    "hidden": true
   },
   "source": [
    "### ✏️ Arranjos simples"
   ]
  },
  {
   "cell_type": "markdown",
   "id": "a675c933",
   "metadata": {
    "hidden": true
   },
   "source": [
    "Arranjo simples é um tipo de agrupamento estudado na análise combinatória. Matematicamente falando os arranjos são todas as ordenações possiveis de se fazer, onde cada ordenação possui **p** **(sendo p<n)** elementos, apartir de um conjunto finito de **n** elementos."
   ]
  },
  {
   "cell_type": "markdown",
   "id": "1eea831e",
   "metadata": {
    "hidden": true
   },
   "source": [
    "<img src='https://www.infoescola.com/wp-content/uploads/2021/02/img_6036bc2f760c5.png'><img>"
   ]
  },
  {
   "cell_type": "markdown",
   "id": "4da00662",
   "metadata": {
    "hidden": true
   },
   "source": [
    "É importante comprender que na combinação a ordem dos elementos no conjunto não é importante, mas no arranjo ela é. Além disso na permutação todos os elementos do conjunto estão envolvidos, já no arranjo, apenas parte do conjunto, que é definido por **(p)**.  "
   ]
  },
  {
   "cell_type": "markdown",
   "id": "7b1050cb",
   "metadata": {
    "hidden": true
   },
   "source": [
    "Dado o conjunto [1, 2, 5, 73, 8, 9], quantas combinações são possiveis tomando de 4 em 4?"
   ]
  },
  {
   "cell_type": "code",
   "execution_count": 6,
   "id": "43a39fbc",
   "metadata": {
    "ExecuteTime": {
     "end_time": "2023-01-11T20:41:45.146287Z",
     "start_time": "2023-01-11T20:41:45.142163Z"
    },
    "hidden": true
   },
   "outputs": [
    {
     "name": "stdout",
     "output_type": "stream",
     "text": [
      "A quantidade de combinações dado o \"conjunto\" e \"p\" são 360.0\n"
     ]
    }
   ],
   "source": [
    "set4 = [1, 2, 5, 73, 8, 9]\n",
    "p = 4\n",
    "tamanho = len(set4)\n",
    "\n",
    "comb = fatorial(tamanho)/fatorial(tamanho-p)\n",
    "print(f'A quantidade de combinações dado o \"conjunto\" e \"p\" são {comb}')"
   ]
  },
  {
   "cell_type": "markdown",
   "id": "4299acce",
   "metadata": {
    "hidden": true
   },
   "source": [
    " "
   ]
  },
  {
   "cell_type": "markdown",
   "id": "0fadaaaa",
   "metadata": {
    "heading_collapsed": true,
    "hidden": true
   },
   "source": [
    "### ✏️ Arranjos com repetições"
   ]
  },
  {
   "cell_type": "markdown",
   "id": "45b9c955",
   "metadata": {
    "hidden": true
   },
   "source": [
    "També conhecido como arranjo completo, neste tipo de arranjo aceitam-se numeros repetidos. Ou seja, podemos formar ordenações de **p** elementos a partir de um conjunto finito de **n** elementos sendo que o mesmo elemento pode aparecer mais de uma vez. Formula:"
   ]
  },
  {
   "cell_type": "markdown",
   "id": "08363f49",
   "metadata": {
    "hidden": true
   },
   "source": [
    "<img src='https://content.querobolsa.com.br/assets/4bb7352f-26b5-44cc-b573-be24aaf76d20'><img>"
   ]
  },
  {
   "cell_type": "markdown",
   "id": "0425cc85",
   "metadata": {
    "hidden": true
   },
   "source": [
    "Um cadeado possui 3 rodelas numeradas de 1 a 9. Quantas combinações com 3 algarismos existem?"
   ]
  },
  {
   "cell_type": "code",
   "execution_count": 18,
   "id": "27053214",
   "metadata": {
    "ExecuteTime": {
     "end_time": "2023-01-12T20:36:49.380198Z",
     "start_time": "2023-01-12T20:36:49.374629Z"
    },
    "hidden": true
   },
   "outputs": [
    {
     "name": "stdout",
     "output_type": "stream",
     "text": [
      "A quantidade de combinações possiveis são 729\n"
     ]
    }
   ],
   "source": [
    "arranjos = 9**3\n",
    "print(f'A quantidade de combinações possiveis são {arranjos}')"
   ]
  },
  {
   "cell_type": "markdown",
   "id": "dff54f86",
   "metadata": {
    "hidden": true
   },
   "source": [
    " "
   ]
  },
  {
   "cell_type": "markdown",
   "id": "d60c66e0",
   "metadata": {
    "heading_collapsed": true,
    "hidden": true
   },
   "source": [
    "### ✏️ Arranjos condicionais"
   ]
  },
  {
   "cell_type": "markdown",
   "id": "419e34ed",
   "metadata": {
    "hidden": true
   },
   "source": [
    "Os arranjos condicionais nada mais são que arranjos simples ou com retição criados apartir de alguma condição. Por exemplo: \n",
    "\n",
    "Quantos arranjos de **p=4** elementos é possivel fazer dado o conjunto **[A, B, C, D, E]**, sendo que os dois primeiros elementos do arranjo devem pertencer ao subconjunto **[A, B, C]**?"
   ]
  },
  {
   "cell_type": "code",
   "execution_count": 8,
   "id": "90ba72c3",
   "metadata": {
    "ExecuteTime": {
     "end_time": "2023-01-11T20:41:45.160063Z",
     "start_time": "2023-01-11T20:41:45.155293Z"
    },
    "hidden": true
   },
   "outputs": [
    {
     "name": "stdout",
     "output_type": "stream",
     "text": [
      "A resposta é 36.0\n"
     ]
    }
   ],
   "source": [
    "# Respondendo\n",
    "nconjunto = 5\n",
    "p1 = 4\n",
    "\n",
    "nsubconjunto = 3\n",
    "p2 = 2\n",
    "\n",
    "# Primeiero devemos calcular quantas possibilidades existem de A, B ou C serem as duas primeiras letras\n",
    "arranjo1 = fatorial(nsubconjunto)/fatorial(nsubconjunto-p2)\n",
    "\n",
    "# Agora devemos calcular quantas possibilidades existem de as ultimas 2 letras serem D, E ou (A ou B ou C)\n",
    "arranjo2 = fatorial(nconjunto-p2)/fatorial((nconjunto-p2) - p2) \n",
    "\n",
    "# Resposta \n",
    "r = arranjo1*arranjo2\n",
    "print('A resposta é', r)"
   ]
  },
  {
   "cell_type": "markdown",
   "id": "c09838b6",
   "metadata": {
    "hidden": true
   },
   "source": [
    " "
   ]
  },
  {
   "cell_type": "markdown",
   "id": "5fa91e13",
   "metadata": {
    "heading_collapsed": true,
    "hidden": true
   },
   "source": [
    "## 🔎 Combinações"
   ]
  },
  {
   "cell_type": "markdown",
   "id": "9ea53ef5",
   "metadata": {
    "heading_collapsed": true,
    "hidden": true
   },
   "source": [
    "### ✏️ Combinações simples"
   ]
  },
  {
   "cell_type": "markdown",
   "id": "4c40d5b4",
   "metadata": {
    "hidden": true
   },
   "source": [
    "A conbinação simples é todo subconjunto de **p** elementos, sendo cada elemento único, que podemos formar a partir de um conjunto de **n** elementos. Na combinação, ao montar os agrupamentos, a ordem dos elementos do conjunto não é importante, ou seja **{A,B} = {B,A}**. Veja a formula:"
   ]
  },
  {
   "cell_type": "markdown",
   "id": "38e249a2",
   "metadata": {
    "hidden": true
   },
   "source": [
    "<img src='https://images.educamaisbrasil.com.br/content/banco_de_imagens/guia-de-estudo/D/matematica-analise-combinatoria-combinacao.jpg' width=150><img>"
   ]
  },
  {
   "cell_type": "markdown",
   "id": "ca4ba40c",
   "metadata": {
    "hidden": true
   },
   "source": [
    "Dado o conjunto [A, B, C, D], quantas combinações simples de 3 elementos podemos formar apartir dele?"
   ]
  },
  {
   "cell_type": "code",
   "execution_count": 28,
   "id": "44b50990",
   "metadata": {
    "ExecuteTime": {
     "end_time": "2023-01-24T20:06:40.735161Z",
     "start_time": "2023-01-24T20:06:40.727900Z"
    },
    "hidden": true
   },
   "outputs": [
    {
     "name": "stdout",
     "output_type": "stream",
     "text": [
      "É possivel formar apenas 4.0 combinações unicas apartir desse conjunto.\n"
     ]
    }
   ],
   "source": [
    "# Conjunto\n",
    "n = 4\n",
    "p = 3\n",
    "\n",
    "# Calculando quantos arranjos são possiveis, para depois calcular quantos desses arranjos\n",
    "# são combinações unicas \n",
    "arranjos = fatorial(n) / fatorial(n-p)\n",
    "\n",
    "\n",
    "# Calculando quantos dos arranjos são combinações unicas, ou seja, a ordem dos elementos\n",
    "# não importo, por exemplo AB = BA.\n",
    "comb = arranjos / fatorial(p)\n",
    "\n",
    "print(f'É possivel formar apenas {comb} combinações unicas apartir desse conjunto.')"
   ]
  },
  {
   "cell_type": "markdown",
   "id": "2c0a5d3c",
   "metadata": {
    "hidden": true
   },
   "source": [
    " ---"
   ]
  },
  {
   "cell_type": "markdown",
   "id": "2049d1d3",
   "metadata": {
    "hidden": true
   },
   "source": [
    "Agora vamos utilizar o método **comb** da lib **scipy** para calcular as combinações."
   ]
  },
  {
   "cell_type": "code",
   "execution_count": 29,
   "id": "2897296a",
   "metadata": {
    "ExecuteTime": {
     "end_time": "2023-01-24T20:06:43.247843Z",
     "start_time": "2023-01-24T20:06:43.243632Z"
    },
    "hidden": true
   },
   "outputs": [
    {
     "name": "stdout",
     "output_type": "stream",
     "text": [
      "É possivel formar apenas 4.0 combinações unicas apartir desse conjunto.\n"
     ]
    }
   ],
   "source": [
    "from scipy.special import comb\n",
    "\n",
    "comb = comb(N=4, k=3)\n",
    "print(f'É possivel formar apenas {comb} combinações unicas apartir desse conjunto.')"
   ]
  },
  {
   "cell_type": "markdown",
   "id": "e90f6ea9",
   "metadata": {
    "hidden": true
   },
   "source": [
    " "
   ]
  },
  {
   "cell_type": "markdown",
   "id": "e788b770",
   "metadata": {
    "heading_collapsed": true,
    "hidden": true
   },
   "source": [
    "### ✏️ Combinações com repetições"
   ]
  },
  {
   "cell_type": "markdown",
   "id": "378fc860",
   "metadata": {
    "hidden": true
   },
   "source": [
    "A **combinação com repetição** se difere da combinação simples porque ela serve para calcular o numero de subconjuntos de **p** elementos que podemos criar apartir de um conjunto de **n** elementos, **sendo que cada elemento do subconjunto pode ser repetido**. Formula:"
   ]
  },
  {
   "cell_type": "markdown",
   "id": "81481aaa",
   "metadata": {
    "hidden": true
   },
   "source": [
    "<img src = 'https://dhg1h5j42swfq.cloudfront.net/2019/10/03153420/Captura-de-Tela-2019-10-03-%C3%A0s-14.34.07.png' width=185><img>"
   ]
  },
  {
   "cell_type": "markdown",
   "id": "8dd90433",
   "metadata": {
    "hidden": true
   },
   "source": [
    "Questao"
   ]
  },
  {
   "cell_type": "markdown",
   "id": "a86fbaba",
   "metadata": {
    "hidden": true
   },
   "source": [
    " "
   ]
  },
  {
   "cell_type": "markdown",
   "id": "b7f7bbc8",
   "metadata": {
    "heading_collapsed": true
   },
   "source": [
    "# 📐 Probabilidade"
   ]
  },
  {
   "cell_type": "markdown",
   "id": "e4f789a8",
   "metadata": {
    "hidden": true
   },
   "source": [
    "A teoria da probabilidade é o campo da matemática que estuda experimentos ou fenômenos aleatórios e através dela é possivel analisar a chance de um determindo evento ocorrer. A probabilidade não serve para determinar, mas sim para medir a chance de algo acontecer. \n",
    "\n",
    "Por exemplo, podemos calcular a probabilidade de uma moeda ser lançada e der cara ou coroa ou a probabilidade de um casal ter 5 filhos, todos meninos."
   ]
  },
  {
   "cell_type": "markdown",
   "id": "9a9017ef",
   "metadata": {
    "heading_collapsed": true,
    "hidden": true
   },
   "source": [
    "## 🔎 Experimento aleatório"
   ]
  },
  {
   "cell_type": "markdown",
   "id": "514dc029",
   "metadata": {
    "hidden": true
   },
   "source": [
    "Um experimento aleatório é aquele que não é possivel conhecer qual resultado será encontrado antes de realizá-lo. Os acontecimentos desse tipo quando repetido nas mesmas condições, podem dar resultados diferentes e essa constância é atribuido ao acaso.\n",
    "\n",
    "Um bom exemplo de um experimento aleatório é jogar um dado não viciado (dado que apresenta uma distribuição homogênea de massa) para o alto. Ao cair não é possivel prever com total certeza qual das 6 faces estará voltada para cima."
   ]
  },
  {
   "cell_type": "markdown",
   "id": "eb1c0647",
   "metadata": {
    "heading_collapsed": true,
    "hidden": true
   },
   "source": [
    "## 🔎 Ponto amostral"
   ]
  },
  {
   "cell_type": "markdown",
   "id": "341b3767",
   "metadata": {
    "hidden": true
   },
   "source": [
    "Um ponto amostral é qualquer resultado possivel em um experimento aleatório. Por exemplo, no lançamento de uma moeda os resultados possiveis podem ser cara ou coroa. Então cada uma dessas possibilidades é um ponto amostral."
   ]
  },
  {
   "cell_type": "markdown",
   "id": "7bce8b6b",
   "metadata": {
    "heading_collapsed": true,
    "hidden": true
   },
   "source": [
    "## 🔎 Espaço amostral"
   ]
  },
  {
   "cell_type": "markdown",
   "id": "37d5ed99",
   "metadata": {
    "hidden": true
   },
   "source": [
    "O espaço amostral é o conjunto formado por todos os pontos amostrais de um experimento aleatório, ou seja, todos os resultados possiveis. Ele é representado pela letra Ω (**omega**).\n",
    "\n",
    "Muitas das vezes quando formos calcular a probabilidade de um evento ocorrer, antes, devemos determinar com precisão o tamanho do espaço amostral que esse evento faz parte. Para isso utilizamos os conhecimentos da analise combinatória."
   ]
  },
  {
   "cell_type": "markdown",
   "id": "c3a2207d",
   "metadata": {
    "heading_collapsed": true,
    "hidden": true
   },
   "source": [
    "## 🔎 Tipos de eventos"
   ]
  },
  {
   "cell_type": "markdown",
   "id": "c308c5de",
   "metadata": {
    "hidden": true
   },
   "source": [
    "O evento é qualquer subconjunto do espaço amostral. Ou seja, O termo “evento” significa um ou mais resultados."
   ]
  },
  {
   "cell_type": "markdown",
   "id": "e3c68067",
   "metadata": {
    "heading_collapsed": true,
    "hidden": true
   },
   "source": [
    "### ✏️ Evento simples"
   ]
  },
  {
   "cell_type": "markdown",
   "id": "2a0fb004",
   "metadata": {
    "hidden": true
   },
   "source": [
    "Um evento simples é um evento com apenas um resultado favorável. Um exemplo é quando nós lançamos um dado e queremos saber a probabilidade de sair o numero 1. Para esse evento temos apenas um resultado, o 1."
   ]
  },
  {
   "cell_type": "markdown",
   "id": "8fbf71be",
   "metadata": {
    "hidden": true
   },
   "source": [
    " "
   ]
  },
  {
   "cell_type": "markdown",
   "id": "e4fb60dc",
   "metadata": {
    "heading_collapsed": true,
    "hidden": true
   },
   "source": [
    "### ✏️ Evento composto"
   ]
  },
  {
   "cell_type": "markdown",
   "id": "0b11f7ae",
   "metadata": {
    "hidden": true
   },
   "source": [
    "Um evento composto é um evento formado pela união de eventos simples, ou seja, é um evento com dois ou mais resultados favoráveis. Um exemplo é quando nós lançamos um dado e queremos saber a probabilidade de sair um numero par. Veja que para esse evento temos os resultados 2, 4 e 6. Logo ele é considerado um evento composto."
   ]
  },
  {
   "cell_type": "markdown",
   "id": "ebc44bb1",
   "metadata": {
    "hidden": true
   },
   "source": [
    " "
   ]
  },
  {
   "cell_type": "markdown",
   "id": "3a3d7bbc",
   "metadata": {
    "heading_collapsed": true,
    "hidden": true
   },
   "source": [
    "### ✏️ Evento certo"
   ]
  },
  {
   "cell_type": "markdown",
   "id": "a7793e4c",
   "metadata": {
    "hidden": true
   },
   "source": [
    "O conjunto desse evento é igual ao espaço amostral. Por exemplo, a probabilidade de lançar um dado, de 1 á 6, e sair um numero natual é de 100%."
   ]
  },
  {
   "cell_type": "markdown",
   "id": "8ac8b234",
   "metadata": {
    "hidden": true
   },
   "source": [
    " "
   ]
  },
  {
   "cell_type": "markdown",
   "id": "f1011013",
   "metadata": {
    "heading_collapsed": true,
    "hidden": true
   },
   "source": [
    "### ✏️ Evento impossivel"
   ]
  },
  {
   "cell_type": "markdown",
   "id": "b3f71c0c",
   "metadata": {
    "hidden": true
   },
   "source": [
    "O conjunto desse evento é vazio. Por exemplo, a probabilidade de lançar um dado, de 1 á 6, e sair um numero negativo é 0%."
   ]
  },
  {
   "cell_type": "markdown",
   "id": "faad5553",
   "metadata": {
    "hidden": true
   },
   "source": [
    " "
   ]
  },
  {
   "cell_type": "markdown",
   "id": "9975c1c3",
   "metadata": {
    "heading_collapsed": true,
    "hidden": true
   },
   "source": [
    "### ✏️ Evento provável"
   ]
  },
  {
   "cell_type": "markdown",
   "id": "1d22ae16",
   "metadata": {
    "hidden": true
   },
   "source": [
    "Quando existe a possibilidade de um evento acontecer. Ou seja, o conjunto desse evento é formado apenas por alguns elementos do espaço amostral. Eventos prováveis de acontecer tem suas chances variando entre 0 e 1 ou 0% a 100%."
   ]
  },
  {
   "cell_type": "markdown",
   "id": "2e0b28fd",
   "metadata": {
    "hidden": true
   },
   "source": [
    " "
   ]
  },
  {
   "cell_type": "markdown",
   "id": "fdeb5381",
   "metadata": {
    "heading_collapsed": true,
    "hidden": true
   },
   "source": [
    "### ✏️ Evento mutuamente exclusivo"
   ]
  },
  {
   "cell_type": "markdown",
   "id": "47abd2b3",
   "metadata": {
    "hidden": true
   },
   "source": [
    "Esse subconjunto é formado por uma intersecção entre eventos e o resultado dessa intersecção é um subconjunto vazio, ou seja, P(A ∩ B) = {}. Por exemplo, ao lançar um dado qual a probabilidade de sair um numero impar e par ao mesmo tempo? A resposta é 0%, pois um numero ou é par ou é impar."
   ]
  },
  {
   "cell_type": "markdown",
   "id": "5d1401b1",
   "metadata": {
    "hidden": true
   },
   "source": [
    " "
   ]
  },
  {
   "cell_type": "markdown",
   "id": "403f49ee",
   "metadata": {
    "heading_collapsed": true,
    "hidden": true
   },
   "source": [
    "## 🔎 Prob clássica vs Prob experimental"
   ]
  },
  {
   "cell_type": "markdown",
   "id": "f6335510",
   "metadata": {
    "hidden": true
   },
   "source": [
    "A **probabilidade experimental (frequentista)** e a **probabilidade teorica (classica)** são formas distintas de calcular as chances de um evento acontecer. \n",
    "\n",
    "A **probabilidade experimenal** calcula as chances de um evento acontecer com base em experimentos já feitos. Enquanto a **probabilidade teorica** calcula as chances de um evento acontecer através da divisão dos eventos favoraveis pelo numero de possibilidades que compoem o espaço amostral."
   ]
  },
  {
   "cell_type": "markdown",
   "id": "dee4953e",
   "metadata": {
    "hidden": true
   },
   "source": [
    "Por exemplo, podemos pensar no seguinte exemplo: durante o mês de janeiro João e Maria tiraram par ou impar para ver quem levaria o cãozinho para passear. O resultado foi o seguinte:"
   ]
  },
  {
   "cell_type": "markdown",
   "id": "665c017d",
   "metadata": {
    "hidden": true
   },
   "source": [
    "<img src='https://cdn.kastatic.org/ka-perseus-images/6258919bcdcc289a684514f31652770feb068be8.png' width=400><img>"
   ]
  },
  {
   "cell_type": "markdown",
   "id": "3e1d66cf",
   "metadata": {
    "hidden": true
   },
   "source": [
    "Para o próximo dia, 01 de fevereiro, qual a probabilidade de maria levar o cãozinho para passear?"
   ]
  },
  {
   "cell_type": "markdown",
   "id": "6d3833e4",
   "metadata": {
    "hidden": true
   },
   "source": [
    "Levando em consideração os dados da tabela acima, a **probabilidade experimental** nos diz que as chances de maria levar o cãozinho para passear é calculado pela quantidade de vezes que maria passeou com o cãozinho durante o experimento divido pela quantidade de dias totais. Ou seja, **10/30** o que em porcentagem fica **33,33%**. Então a resposta é **33,33%**.\n",
    "\n",
    "Já a **probabilidade teorica** nos diz que as chances de maria levar o cãozinho para passear é calculado pelas chances da Maria perder o impar ou par. Ou seja, **1/2** o que em porcentagem fica **50%**. Então a resposta é **50%**."
   ]
  },
  {
   "cell_type": "markdown",
   "id": "34c12058",
   "metadata": {
    "hidden": true
   },
   "source": [
    "A probabilidade teorica nos dá um valor diferente, pois é como ela se baseasse em um numero muito grande de experimentos. Se nós fossemos fazer um novo experimento só que agora em vez de 1 mês fosse 1 ano, notariamos, provavelmente, que o resultado calculado pela probabilidade experimental seria muito próximo ou até igual ao resulatado calulado pela probabilidade teorica.\n",
    "\n",
    "Quando calculamos a probabilidade de um evento ocorrer utilizando a probabilidade teorica, vamos obter um resultado x. E para comprovar que esse resultado esteja correto e que não existem outras variáveis que possam interferir no evento, podemos utilizar a probabilidade experimental. Assim podemos fazer muitos experimentos e verificar se a probabilidade experimental se aproxima ou não da probabilidade teorica."
   ]
  },
  {
   "cell_type": "markdown",
   "id": "1db12000",
   "metadata": {
    "hidden": true
   },
   "source": [
    " "
   ]
  },
  {
   "cell_type": "markdown",
   "id": "e3cc7a79",
   "metadata": {
    "heading_collapsed": true,
    "hidden": true
   },
   "source": [
    "## 🔎 União de 2 eventos, simples ou compostos"
   ]
  },
  {
   "cell_type": "markdown",
   "id": "6bd2f975",
   "metadata": {
    "hidden": true
   },
   "source": [
    "A **probabilidade da união de dois eventos** calcula as chances de um primeiro ou de um segundo evento ocorrer. Por exemplo, qual a probabilidade de lançar um dado e sair um numero par ou impar?"
   ]
  },
  {
   "cell_type": "markdown",
   "id": "0f65be0c",
   "metadata": {
    "hidden": true
   },
   "source": [
    "Dados dois eventos, A e B, em um mesmo espaço amostral, para calcular a probabilidade da união desses dois eventos, utilizamos a fórmula."
   ]
  },
  {
   "cell_type": "markdown",
   "id": "39097a53",
   "metadata": {
    "hidden": true
   },
   "source": [
    "\n",
    "## <center> $P(A ∪ B) = P(A) + P(B) – P(A ∩ B)$ <center>"
   ]
  },
  {
   "cell_type": "markdown",
   "id": "ccfc310b",
   "metadata": {
    "hidden": true
   },
   "source": [
    "Calculando o resultado utilizando a formula."
   ]
  },
  {
   "cell_type": "markdown",
   "id": "43e99acd",
   "metadata": {
    "hidden": true
   },
   "source": [
    ">**elementos impar** = [1, 3, 5]<br>\n",
    ">**elementos par** = [2, 4, 6]<br>\n",
    ">**impar ∩ par** = [ ]\n",
    "\n",
    ">**P(impar)** = 3/6<br>\n",
    ">**P(par)** = 3/6<br>\n",
    ">**P(impar ∩ par)** = 0/6"
   ]
  },
  {
   "cell_type": "markdown",
   "id": "527d2d4c",
   "metadata": {
    "hidden": true
   },
   "source": [
    "Logo o calculo fica."
   ]
  },
  {
   "cell_type": "markdown",
   "id": "6cc2c6b5",
   "metadata": {
    "hidden": true
   },
   "source": [
    ">**3/6 + 3/6 - 0/6 = 6/6 = 1** "
   ]
  },
  {
   "cell_type": "markdown",
   "id": "daae058d",
   "metadata": {
    "hidden": true
   },
   "source": [
    "Ou seja, as chances de um dos dois eventos ocorrer é de 100%."
   ]
  },
  {
   "cell_type": "markdown",
   "id": "0becfac8",
   "metadata": {
    "hidden": true
   },
   "source": [
    " "
   ]
  },
  {
   "cell_type": "markdown",
   "id": "a17186a4",
   "metadata": {
    "heading_collapsed": true,
    "hidden": true
   },
   "source": [
    "## 🔎 Probabilidade condicional"
   ]
  },
  {
   "cell_type": "markdown",
   "id": "34f2b21d",
   "metadata": {
    "hidden": true
   },
   "source": [
    "A **probabilidade condicional** calcula a probabilidade de um determinado evento ocorrer, dado que um evento condional já aconteceu. Ou seja, calcula a chance de um **evento A** acontecer, dado que o **evento B** já aconteceu."
   ]
  },
  {
   "attachments": {},
   "cell_type": "markdown",
   "id": "68a13a2c",
   "metadata": {
    "hidden": true
   },
   "source": [
    " Para resolver problemas de probabilidade condicional podemos utilizar uma das seguintes formulas:"
   ]
  },
  {
   "cell_type": "markdown",
   "id": "f34b14f3",
   "metadata": {
    "hidden": true
   },
   "source": [
    "<img src='https://static.todamateria.com.br/upload/pr/ob/probabilidade_do_evento.jpg?auto_optimize=low' style=\"float:left\"><img src='https://images.educamaisbrasil.com.br/content/banco_de_imagens/guia-de-estudo/D/probabilidade-condicional-formula.jpg' width='260' style=\"float:righ\">"
   ]
  },
  {
   "cell_type": "markdown",
   "id": "08ca627f",
   "metadata": {
    "hidden": true
   },
   "source": [
    " "
   ]
  },
  {
   "cell_type": "markdown",
   "id": "afbfda88",
   "metadata": {
    "hidden": true
   },
   "source": [
    "Vamos utilizar a primeira formula para resolver o problema citado no exemplo. **n (A ∩ B)** é o numero de elementos que existe no evento A e também no B. E **n (B)** é o numero de elementos que existe no evento B."
   ]
  },
  {
   "cell_type": "markdown",
   "id": "30bf370b",
   "metadata": {
    "hidden": true
   },
   "source": [
    "O nosso evento **A** é **(sair um numero primo)**<br> \n",
    "O nosso evento **B** é **(sair um numero par)**\n",
    "\n",
    "**A** = [ 2, 3, 5 ]<br>\n",
    "**B** = [ 2, 4, 6 ]\n",
    "\n",
    "**n(A ∩ B)** = 1<br>\n",
    "**n(B)** = 3"
   ]
  },
  {
   "cell_type": "markdown",
   "id": "c48f1faf",
   "metadata": {
    "hidden": true
   },
   "source": [
    "Logo a probabilidade do numero que saiu ser primo, dado que ele é par é de **1/3** ou **33,33%**."
   ]
  },
  {
   "cell_type": "markdown",
   "id": "d1778815",
   "metadata": {
    "hidden": true
   },
   "source": [
    " "
   ]
  },
  {
   "cell_type": "markdown",
   "id": "a9d73996",
   "metadata": {
    "heading_collapsed": true,
    "hidden": true
   },
   "source": [
    "## 🔎 Eventos independentes e dependentes"
   ]
  },
  {
   "cell_type": "markdown",
   "id": "9a950ec3",
   "metadata": {
    "heading_collapsed": true,
    "hidden": true
   },
   "source": [
    "### ✏️ Conceito"
   ]
  },
  {
   "cell_type": "markdown",
   "id": "24cee652",
   "metadata": {
    "hidden": true
   },
   "source": [
    "Os **eventos dependentes** são aqueles que são afetados pelos resultados de eventos que já ocorrem anteriormente. Ou seja, dois ou mais eventos que dependam um do outro são conhecidos como eventos dependentes. Portanto se a ocorrência de um evento afeta a probabilidade de que o outro evento ocorra, então os dois eventos são considerados dependentes. \n",
    "\n",
    "Já os **eventos independentes** são aqueles cuja a ocorrência não depende de nenhum outro evento. Se a probabilidade de ocorrência de um evento A não for afetada pela ocorrência de outro evento B, então A e B são considerados eventos independentes."
   ]
  },
  {
   "cell_type": "markdown",
   "id": "1a2bed55",
   "metadata": {
    "hidden": true
   },
   "source": [
    " "
   ]
  },
  {
   "cell_type": "markdown",
   "id": "bbb29d37",
   "metadata": {
    "heading_collapsed": true,
    "hidden": true
   },
   "source": [
    "### ✏️ Como saber se 2 eventos são independentes ou não?"
   ]
  },
  {
   "cell_type": "markdown",
   "id": "908c2f59",
   "metadata": {
    "hidden": true
   },
   "source": [
    "Matematicamente dois eventos são considerados **independentes** se P(A) = P(A|B), caso contrário esses eventos são **dependentes**. Vamos resolver 2 exemplos para entender melhor como distinguir se dois eventos são dependentes ou independentes."
   ]
  },
  {
   "cell_type": "markdown",
   "id": "8a864558",
   "metadata": {
    "hidden": true
   },
   "source": [
    "---"
   ]
  },
  {
   "cell_type": "markdown",
   "id": "5da84a4b",
   "metadata": {
    "hidden": true
   },
   "source": [
    "**EXEMPLO 1**: Durante 2022 eu trabalhei no total 100 dias. Desses 100 dias, 20 eu cheguei atrasado no trabalho. E desses 100 dias, 30 choveram muito, sendo que desses 30 dias, 6 eu acabei chegando atrasado no trabalho. De acordo com essas informações o evento **(chegar atrasado)** e o evento **(chover)** são dependentes? "
   ]
  },
  {
   "cell_type": "markdown",
   "id": "b5375eb5",
   "metadata": {
    "hidden": true
   },
   "source": [
    "**P(chegar atrasado)** = 20/100 ou 20%<br>\n",
    "**P(chegar atrasado | chover)** = 6/30 ou 20%<br>\n",
    "\n",
    "Logo podemos dizer que esses eventos não são dependentes, pois a **P(chegar atrasado)** = **P(chegar atrasado | chover)**"
   ]
  },
  {
   "cell_type": "markdown",
   "id": "0872e878",
   "metadata": {
    "hidden": true
   },
   "source": [
    "---"
   ]
  },
  {
   "cell_type": "markdown",
   "id": "77f4cdcd",
   "metadata": {
    "hidden": true
   },
   "source": [
    "**EXEMPLO 2**: Durante os 30 dias do mês de julho, 15 dias cheveu muito. E tivemos 10 dias de lua cheia, sendo que desses 10 dias, 8 choveu muito. De acordo com essas informações o evento **(dia de lua cheia)**  e o evento **(chover muito)** são dependentes?"
   ]
  },
  {
   "cell_type": "markdown",
   "id": "41525f88",
   "metadata": {
    "hidden": true
   },
   "source": [
    "**P(chover muito)** = 15/30 ou 50%<br>\n",
    "**P(chover muito | dia de lua cheia)** = 8/10 ou 80%<br>\n",
    "\n",
    "Logo podemos dizer que esses eventos são dependentes, pois a probabilidade do evento **(chover muito)** foi alterado devido o evento **(dia de lua cheia)** ter acontecido."
   ]
  },
  {
   "cell_type": "markdown",
   "id": "f1ecb904",
   "metadata": {
    "hidden": true
   },
   "source": [
    " "
   ]
  },
  {
   "cell_type": "markdown",
   "id": "f52389e3",
   "metadata": {
    "heading_collapsed": true,
    "hidden": true
   },
   "source": [
    "### ✏️ Calculando as chances de 2 eventos independentes ou dependentes acontecer"
   ]
  },
  {
   "cell_type": "markdown",
   "id": "1ce74565",
   "metadata": {
    "hidden": true
   },
   "source": [
    "A probabilidade de 2 eventos dependentes acontecerem é calculado pela multiplicação entre as probabilidades de cada evento acontecer. Ou seja, **P(A) x P(B)**, se os eventos forem dependentes a formula é  **P(A) x P(B|A)**. Vamos resolver 2 exemplos para enteder melhor."
   ]
  },
  {
   "cell_type": "markdown",
   "id": "a431ec1a",
   "metadata": {
    "hidden": true
   },
   "source": [
    "---"
   ]
  },
  {
   "cell_type": "markdown",
   "id": "56268a65",
   "metadata": {
    "hidden": true
   },
   "source": [
    "**EXEMPLO 1**: Ao lançar uma moeda e um dado, qual a probabilidade de sair cara na moeda e um numero primo no dado?"
   ]
  },
  {
   "cell_type": "markdown",
   "id": "6a4856c4",
   "metadata": {
    "hidden": true
   },
   "source": [
    "**P(cara)** = 1/2 ou 50%<br>\n",
    "**P(primo)** = 3/6 ou 50%<br>\n",
    "**P(cara) x P(primo)** = 3/12 ou 25%\n",
    "\n",
    "Logo podemos dizer que a probabilidade de sair uma cara na moeda e um numero par no dado é de 25%."
   ]
  },
  {
   "cell_type": "markdown",
   "id": "d97a0a7c",
   "metadata": {
    "hidden": true
   },
   "source": [
    "---"
   ]
  },
  {
   "cell_type": "markdown",
   "id": "598afe01",
   "metadata": {
    "hidden": true
   },
   "source": [
    "**EXEMPLO 2**: Em uma gaveta temos 12 camisas, das quais, quatro são de gola polo e o restante, de gola normal. Retirando duas camisas sucessivamente ao acaso e sem reposição, qual é a probabilidade de as  duas camisas serem de gola polo?"
   ]
  },
  {
   "cell_type": "markdown",
   "id": "3e676d6c",
   "metadata": {
    "hidden": true
   },
   "source": [
    "**P(sair gola polo)** = 4/12 ou 33,33%<br>\n",
    "**P(sair gola polo | sair gola polo)** = 3/11 ou 27,27%<br>\n",
    "**P(sair gola polo) x P(sair gola polo | sair gola polo)** = 12/132 ou 9,09%\n",
    "\n",
    "Logo a probabilidade de tirar 2 vezes seguidas e sem reposição um camisa com gola polo é de 9,09%."
   ]
  },
  {
   "cell_type": "markdown",
   "id": "25892477",
   "metadata": {
    "hidden": true
   },
   "source": [
    " "
   ]
  },
  {
   "cell_type": "markdown",
   "id": "253202c1",
   "metadata": {
    "heading_collapsed": true,
    "hidden": true
   },
   "source": [
    "## 🔎 Lei binomial de probabilidade"
   ]
  },
  {
   "cell_type": "markdown",
   "id": "c0729d8f",
   "metadata": {
    "hidden": true
   },
   "source": [
    "Quando ocorre o produto de probabilidades, podemos aplicar o método binomial ou experimento binomial. Esse método é aplicado quando temos um experimento baseado na repetição de eventos independentes, ou seja, não se trata de uma probabilidade condicional. \n",
    "\n",
    "\n",
    "Por exemplo, ao jogar um dado 5 vezes qual a probabilidade de ocorrer exatamente o n° 4 exatamente duas vezes? Para resolver esse problema podemos utilizar a lei binomial de probabilidade ou a intuição e um pouco de lógica."
   ]
  },
  {
   "cell_type": "markdown",
   "id": "3a0fe306",
   "metadata": {
    "hidden": true
   },
   "source": [
    "A formula pode ser lida da seguinte maneira: Um experimento ocorre **n** vezes. Em cada vez o evento **A** tem uma probabilidade **p** de ocorrer. A probabilidade de ocorrer **k** vezes o evento **A** é:"
   ]
  },
  {
   "cell_type": "markdown",
   "id": "66dc77ea",
   "metadata": {
    "hidden": true
   },
   "source": [
    "<img src='https://encrypted-tbn0.gstatic.com/images?q=tbn:ANd9GcTwDVPqMAWyQtqDS22Zc1xdx6pQkLt7aPnvkA&usqp=CAU'>"
   ]
  },
  {
   "cell_type": "markdown",
   "id": "3a936fee",
   "metadata": {
    "hidden": true
   },
   "source": [
    " "
   ]
  },
  {
   "cell_type": "markdown",
   "id": "103e579b",
   "metadata": {
    "hidden": true
   },
   "source": [
    "Para resolver o exemplo em questão não é necessário o uso da formula, vamos lá. O primeiro passo é saber  de quantas maneiras o 4 pode sair duas vezes, ao lançar o dado 5 vezes. Por exemplo, pode sair 4 nas 2 primeiras vezes ou nas ultimas vezes. Para resolver essa etapa nós devemos utilizar a formular da analise combinatoria que calcula combinações."
   ]
  },
  {
   "cell_type": "code",
   "execution_count": 14,
   "id": "8ba57db6",
   "metadata": {
    "ExecuteTime": {
     "end_time": "2023-01-11T21:48:44.282185Z",
     "start_time": "2023-01-11T21:48:44.275680Z"
    },
    "hidden": true
   },
   "outputs": [
    {
     "data": {
      "text/plain": [
       "10.0"
      ]
     },
     "execution_count": 14,
     "metadata": {},
     "output_type": "execute_result"
    }
   ],
   "source": [
    "# O calculo fica\n",
    "\n",
    "v = fatorial(5)/(fatorial(2)*fatorial(5-2))\n",
    "v"
   ]
  },
  {
   "cell_type": "markdown",
   "id": "96f5aa4a",
   "metadata": {
    "hidden": true
   },
   "source": [
    " "
   ]
  },
  {
   "cell_type": "markdown",
   "id": "9c0b483f",
   "metadata": {
    "hidden": true
   },
   "source": [
    "Agora nós sabemos que existem 10 maneiras de sair o 4 duas vezes, ou seja, 10 eventos no qual sai duas vezes o 4. O que nos falta agora é, calcular a probabilidade de ocorrer um evento no qual saia duas vezes o 4."
   ]
  },
  {
   "cell_type": "code",
   "execution_count": 15,
   "id": "5e17dd48",
   "metadata": {
    "ExecuteTime": {
     "end_time": "2023-01-11T21:59:52.464544Z",
     "start_time": "2023-01-11T21:59:52.459270Z"
    },
    "hidden": true
   },
   "outputs": [
    {
     "data": {
      "text/plain": [
       "0.016075102880658436"
      ]
     },
     "execution_count": 15,
     "metadata": {},
     "output_type": "execute_result"
    }
   ],
   "source": [
    "# O calculo fica\n",
    "\n",
    "e = (1/6) * (1/6) * (5/6) * (5/6) * (5/6)\n",
    "e"
   ]
  },
  {
   "cell_type": "markdown",
   "id": "2765b61a",
   "metadata": {
    "hidden": true
   },
   "source": [
    " "
   ]
  },
  {
   "cell_type": "markdown",
   "id": "3f799535",
   "metadata": {
    "hidden": true
   },
   "source": [
    "Agora nós sabemos que a probabilidade de ocorrer um evento no qual sai duas vezes o 4 é **0.016075102880658436**. Pronto agora basta multiplicar a probabilidade de ocorrer um evento no qual sai duas vezes o 4, pela quantidade de eeventos no qual sai duas vezes o 4."
   ]
  },
  {
   "cell_type": "code",
   "execution_count": 17,
   "id": "969a3f81",
   "metadata": {
    "ExecuteTime": {
     "end_time": "2023-01-11T22:16:21.136602Z",
     "start_time": "2023-01-11T22:16:21.130457Z"
    },
    "hidden": true
   },
   "outputs": [
    {
     "data": {
      "text/plain": [
       "0.16075102880658437"
      ]
     },
     "execution_count": 17,
     "metadata": {},
     "output_type": "execute_result"
    }
   ],
   "source": [
    "# O calculo fica\n",
    "v*e"
   ]
  },
  {
   "cell_type": "markdown",
   "id": "ed5c76d8",
   "metadata": {
    "hidden": true
   },
   "source": [
    " "
   ]
  },
  {
   "cell_type": "markdown",
   "id": "09af1330",
   "metadata": {
    "hidden": true
   },
   "source": [
    "Então a resposta para o exemplo é **16,07%**."
   ]
  }
 ],
 "metadata": {
  "kernelspec": {
   "display_name": "Python 3 (ipykernel)",
   "language": "python",
   "name": "python3"
  },
  "language_info": {
   "codemirror_mode": {
    "name": "ipython",
    "version": 3
   },
   "file_extension": ".py",
   "mimetype": "text/x-python",
   "name": "python",
   "nbconvert_exporter": "python",
   "pygments_lexer": "ipython3",
   "version": "3.12.0"
  },
  "varInspector": {
   "cols": {
    "lenName": 16,
    "lenType": 16,
    "lenVar": 40
   },
   "kernels_config": {
    "python": {
     "delete_cmd_postfix": "",
     "delete_cmd_prefix": "del ",
     "library": "var_list.py",
     "varRefreshCmd": "print(var_dic_list())"
    },
    "r": {
     "delete_cmd_postfix": ") ",
     "delete_cmd_prefix": "rm(",
     "library": "var_list.r",
     "varRefreshCmd": "cat(var_dic_list()) "
    }
   },
   "types_to_exclude": [
    "module",
    "function",
    "builtin_function_or_method",
    "instance",
    "_Feature"
   ],
   "window_display": false
  }
 },
 "nbformat": 4,
 "nbformat_minor": 5
}
